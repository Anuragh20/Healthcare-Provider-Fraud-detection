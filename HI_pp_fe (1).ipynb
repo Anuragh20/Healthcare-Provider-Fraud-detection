{
  "nbformat": 4,
  "nbformat_minor": 0,
  "metadata": {
    "colab": {
      "name": "HI_pp_fe.ipynb",
      "provenance": [],
      "collapsed_sections": []
    },
    "kernelspec": {
      "display_name": "Python 3",
      "name": "python3"
    },
    "language_info": {
      "name": "python"
    }
  },
  "cells": [
    {
      "cell_type": "markdown",
      "metadata": {
        "id": "l7FjWDpuHNgM"
      },
      "source": [
        "##**Importing the Requisite Libraries**"
      ]
    },
    {
      "cell_type": "code",
      "metadata": {
        "id": "HNNdNemnlVJB"
      },
      "source": [
        "import csv\n",
        "import pickle\n",
        "import numpy as np\n",
        "import pandas as pd\n",
        "import seaborn as sns\n",
        "from tqdm import tqdm\n",
        "from datetime import datetime\n",
        "import matplotlib.pyplot as plt\n",
        "from sklearn.impute import SimpleImputer"
      ],
      "execution_count": 2,
      "outputs": []
    },
    {
      "cell_type": "code",
      "metadata": {
        "colab": {
          "base_uri": "https://localhost:8080/"
        },
        "id": "nLIDz_UMtPS4",
        "outputId": "9b175d43-ef60-477f-ba94-19aa205d17ef"
      },
      "source": [
        "from google.colab import drive\n",
        "drive.mount('/content/drive')"
      ],
      "execution_count": null,
      "outputs": [
        {
          "output_type": "stream",
          "text": [
            "Drive already mounted at /content/drive; to attempt to forcibly remount, call drive.mount(\"/content/drive\", force_remount=True).\n"
          ],
          "name": "stdout"
        }
      ]
    },
    {
      "cell_type": "markdown",
      "metadata": {
        "id": "lfOLrMlnDgsq"
      },
      "source": [
        "##**Analysis of the Train Datasets**"
      ]
    },
    {
      "cell_type": "markdown",
      "metadata": {
        "id": "I7t1j6sRDpJW"
      },
      "source": [
        "##<font color='blue'><b> **Loading the Train Datasets**</b></font>"
      ]
    },
    {
      "cell_type": "code",
      "metadata": {
        "id": "cp8nNEbDm4Wm"
      },
      "source": [
        "train_ben= pd.read_csv('/content/drive/MyDrive/Colab Notebooks/Train_Beneficiarydata.csv')\n",
        "train_inpat= pd.read_csv('/content/drive/MyDrive/Colab Notebooks/Train_Inpatientdata.csv')\n",
        "train_outpat= pd.read_csv('/content/drive/MyDrive/Colab Notebooks/Train_Outpatientdata.csv')\n",
        "train_y= pd.read_csv('/content/drive/MyDrive/Colab Notebooks/Train.csv')"
      ],
      "execution_count": 3,
      "outputs": []
    },
    {
      "cell_type": "code",
      "metadata": {
        "colab": {
          "base_uri": "https://localhost:8080/",
          "height": 213
        },
        "id": "j1HKfVGcm4RG",
        "outputId": "7b492087-bc0b-44b5-a475-17e32e612f4a"
      },
      "source": [
        "train_ben.head(3)"
      ],
      "execution_count": null,
      "outputs": [
        {
          "output_type": "execute_result",
          "data": {
            "text/html": [
              "<div>\n",
              "<style scoped>\n",
              "    .dataframe tbody tr th:only-of-type {\n",
              "        vertical-align: middle;\n",
              "    }\n",
              "\n",
              "    .dataframe tbody tr th {\n",
              "        vertical-align: top;\n",
              "    }\n",
              "\n",
              "    .dataframe thead th {\n",
              "        text-align: right;\n",
              "    }\n",
              "</style>\n",
              "<table border=\"1\" class=\"dataframe\">\n",
              "  <thead>\n",
              "    <tr style=\"text-align: right;\">\n",
              "      <th></th>\n",
              "      <th>BeneID</th>\n",
              "      <th>DOB</th>\n",
              "      <th>DOD</th>\n",
              "      <th>Gender</th>\n",
              "      <th>Race</th>\n",
              "      <th>RenalDiseaseIndicator</th>\n",
              "      <th>State</th>\n",
              "      <th>County</th>\n",
              "      <th>NoOfMonths_PartACov</th>\n",
              "      <th>NoOfMonths_PartBCov</th>\n",
              "      <th>ChronicCond_Alzheimer</th>\n",
              "      <th>ChronicCond_Heartfailure</th>\n",
              "      <th>ChronicCond_KidneyDisease</th>\n",
              "      <th>ChronicCond_Cancer</th>\n",
              "      <th>ChronicCond_ObstrPulmonary</th>\n",
              "      <th>ChronicCond_Depression</th>\n",
              "      <th>ChronicCond_Diabetes</th>\n",
              "      <th>ChronicCond_IschemicHeart</th>\n",
              "      <th>ChronicCond_Osteoporasis</th>\n",
              "      <th>ChronicCond_rheumatoidarthritis</th>\n",
              "      <th>ChronicCond_stroke</th>\n",
              "      <th>IPAnnualReimbursementAmt</th>\n",
              "      <th>IPAnnualDeductibleAmt</th>\n",
              "      <th>OPAnnualReimbursementAmt</th>\n",
              "      <th>OPAnnualDeductibleAmt</th>\n",
              "    </tr>\n",
              "  </thead>\n",
              "  <tbody>\n",
              "    <tr>\n",
              "      <th>0</th>\n",
              "      <td>BENE11001</td>\n",
              "      <td>1943-01-01</td>\n",
              "      <td>NaN</td>\n",
              "      <td>1</td>\n",
              "      <td>1</td>\n",
              "      <td>0</td>\n",
              "      <td>39</td>\n",
              "      <td>230</td>\n",
              "      <td>12</td>\n",
              "      <td>12</td>\n",
              "      <td>1</td>\n",
              "      <td>2</td>\n",
              "      <td>1</td>\n",
              "      <td>2</td>\n",
              "      <td>2</td>\n",
              "      <td>1</td>\n",
              "      <td>1</td>\n",
              "      <td>1</td>\n",
              "      <td>2</td>\n",
              "      <td>1</td>\n",
              "      <td>1</td>\n",
              "      <td>36000</td>\n",
              "      <td>3204</td>\n",
              "      <td>60</td>\n",
              "      <td>70</td>\n",
              "    </tr>\n",
              "    <tr>\n",
              "      <th>1</th>\n",
              "      <td>BENE11002</td>\n",
              "      <td>1936-09-01</td>\n",
              "      <td>NaN</td>\n",
              "      <td>2</td>\n",
              "      <td>1</td>\n",
              "      <td>0</td>\n",
              "      <td>39</td>\n",
              "      <td>280</td>\n",
              "      <td>12</td>\n",
              "      <td>12</td>\n",
              "      <td>2</td>\n",
              "      <td>2</td>\n",
              "      <td>2</td>\n",
              "      <td>2</td>\n",
              "      <td>2</td>\n",
              "      <td>2</td>\n",
              "      <td>2</td>\n",
              "      <td>2</td>\n",
              "      <td>2</td>\n",
              "      <td>2</td>\n",
              "      <td>2</td>\n",
              "      <td>0</td>\n",
              "      <td>0</td>\n",
              "      <td>30</td>\n",
              "      <td>50</td>\n",
              "    </tr>\n",
              "    <tr>\n",
              "      <th>2</th>\n",
              "      <td>BENE11003</td>\n",
              "      <td>1936-08-01</td>\n",
              "      <td>NaN</td>\n",
              "      <td>1</td>\n",
              "      <td>1</td>\n",
              "      <td>0</td>\n",
              "      <td>52</td>\n",
              "      <td>590</td>\n",
              "      <td>12</td>\n",
              "      <td>12</td>\n",
              "      <td>1</td>\n",
              "      <td>2</td>\n",
              "      <td>2</td>\n",
              "      <td>2</td>\n",
              "      <td>2</td>\n",
              "      <td>2</td>\n",
              "      <td>2</td>\n",
              "      <td>1</td>\n",
              "      <td>2</td>\n",
              "      <td>2</td>\n",
              "      <td>2</td>\n",
              "      <td>0</td>\n",
              "      <td>0</td>\n",
              "      <td>90</td>\n",
              "      <td>40</td>\n",
              "    </tr>\n",
              "  </tbody>\n",
              "</table>\n",
              "</div>"
            ],
            "text/plain": [
              "      BeneID         DOB  ... OPAnnualReimbursementAmt  OPAnnualDeductibleAmt\n",
              "0  BENE11001  1943-01-01  ...                       60                     70\n",
              "1  BENE11002  1936-09-01  ...                       30                     50\n",
              "2  BENE11003  1936-08-01  ...                       90                     40\n",
              "\n",
              "[3 rows x 25 columns]"
            ]
          },
          "metadata": {
            "tags": []
          },
          "execution_count": 13
        }
      ]
    },
    {
      "cell_type": "code",
      "metadata": {
        "colab": {
          "base_uri": "https://localhost:8080/"
        },
        "id": "ZRXOS8oi3plm",
        "outputId": "2f8632a7-8458-4880-ea3c-6d76e0657904"
      },
      "source": [
        "train_ben.info()"
      ],
      "execution_count": null,
      "outputs": [
        {
          "output_type": "stream",
          "text": [
            "<class 'pandas.core.frame.DataFrame'>\n",
            "RangeIndex: 138556 entries, 0 to 138555\n",
            "Data columns (total 25 columns):\n",
            " #   Column                           Non-Null Count   Dtype \n",
            "---  ------                           --------------   ----- \n",
            " 0   BeneID                           138556 non-null  object\n",
            " 1   DOB                              138556 non-null  object\n",
            " 2   DOD                              1421 non-null    object\n",
            " 3   Gender                           138556 non-null  int64 \n",
            " 4   Race                             138556 non-null  int64 \n",
            " 5   RenalDiseaseIndicator            138556 non-null  object\n",
            " 6   State                            138556 non-null  int64 \n",
            " 7   County                           138556 non-null  int64 \n",
            " 8   NoOfMonths_PartACov              138556 non-null  int64 \n",
            " 9   NoOfMonths_PartBCov              138556 non-null  int64 \n",
            " 10  ChronicCond_Alzheimer            138556 non-null  int64 \n",
            " 11  ChronicCond_Heartfailure         138556 non-null  int64 \n",
            " 12  ChronicCond_KidneyDisease        138556 non-null  int64 \n",
            " 13  ChronicCond_Cancer               138556 non-null  int64 \n",
            " 14  ChronicCond_ObstrPulmonary       138556 non-null  int64 \n",
            " 15  ChronicCond_Depression           138556 non-null  int64 \n",
            " 16  ChronicCond_Diabetes             138556 non-null  int64 \n",
            " 17  ChronicCond_IschemicHeart        138556 non-null  int64 \n",
            " 18  ChronicCond_Osteoporasis         138556 non-null  int64 \n",
            " 19  ChronicCond_rheumatoidarthritis  138556 non-null  int64 \n",
            " 20  ChronicCond_stroke               138556 non-null  int64 \n",
            " 21  IPAnnualReimbursementAmt         138556 non-null  int64 \n",
            " 22  IPAnnualDeductibleAmt            138556 non-null  int64 \n",
            " 23  OPAnnualReimbursementAmt         138556 non-null  int64 \n",
            " 24  OPAnnualDeductibleAmt            138556 non-null  int64 \n",
            "dtypes: int64(21), object(4)\n",
            "memory usage: 26.4+ MB\n"
          ],
          "name": "stdout"
        }
      ]
    },
    {
      "cell_type": "code",
      "metadata": {
        "colab": {
          "base_uri": "https://localhost:8080/",
          "height": 162
        },
        "id": "VkiMoDcD37pi",
        "outputId": "7b5ec780-ecca-4e3f-851b-600dcdaf767f"
      },
      "source": [
        "train_inpat.head(3)"
      ],
      "execution_count": null,
      "outputs": [
        {
          "output_type": "execute_result",
          "data": {
            "text/html": [
              "<div>\n",
              "<style scoped>\n",
              "    .dataframe tbody tr th:only-of-type {\n",
              "        vertical-align: middle;\n",
              "    }\n",
              "\n",
              "    .dataframe tbody tr th {\n",
              "        vertical-align: top;\n",
              "    }\n",
              "\n",
              "    .dataframe thead th {\n",
              "        text-align: right;\n",
              "    }\n",
              "</style>\n",
              "<table border=\"1\" class=\"dataframe\">\n",
              "  <thead>\n",
              "    <tr style=\"text-align: right;\">\n",
              "      <th></th>\n",
              "      <th>BeneID</th>\n",
              "      <th>ClaimID</th>\n",
              "      <th>ClaimStartDt</th>\n",
              "      <th>ClaimEndDt</th>\n",
              "      <th>Provider</th>\n",
              "      <th>InscClaimAmtReimbursed</th>\n",
              "      <th>AttendingPhysician</th>\n",
              "      <th>OperatingPhysician</th>\n",
              "      <th>OtherPhysician</th>\n",
              "      <th>AdmissionDt</th>\n",
              "      <th>ClmAdmitDiagnosisCode</th>\n",
              "      <th>DeductibleAmtPaid</th>\n",
              "      <th>DischargeDt</th>\n",
              "      <th>DiagnosisGroupCode</th>\n",
              "      <th>ClmDiagnosisCode_1</th>\n",
              "      <th>ClmDiagnosisCode_2</th>\n",
              "      <th>ClmDiagnosisCode_3</th>\n",
              "      <th>ClmDiagnosisCode_4</th>\n",
              "      <th>ClmDiagnosisCode_5</th>\n",
              "      <th>ClmDiagnosisCode_6</th>\n",
              "      <th>ClmDiagnosisCode_7</th>\n",
              "      <th>ClmDiagnosisCode_8</th>\n",
              "      <th>ClmDiagnosisCode_9</th>\n",
              "      <th>ClmDiagnosisCode_10</th>\n",
              "      <th>ClmProcedureCode_1</th>\n",
              "      <th>ClmProcedureCode_2</th>\n",
              "      <th>ClmProcedureCode_3</th>\n",
              "      <th>ClmProcedureCode_4</th>\n",
              "      <th>ClmProcedureCode_5</th>\n",
              "      <th>ClmProcedureCode_6</th>\n",
              "    </tr>\n",
              "  </thead>\n",
              "  <tbody>\n",
              "    <tr>\n",
              "      <th>0</th>\n",
              "      <td>BENE11001</td>\n",
              "      <td>CLM46614</td>\n",
              "      <td>2009-04-12</td>\n",
              "      <td>2009-04-18</td>\n",
              "      <td>PRV55912</td>\n",
              "      <td>26000</td>\n",
              "      <td>PHY390922</td>\n",
              "      <td>NaN</td>\n",
              "      <td>NaN</td>\n",
              "      <td>2009-04-12</td>\n",
              "      <td>7866</td>\n",
              "      <td>1068.0</td>\n",
              "      <td>2009-04-18</td>\n",
              "      <td>201</td>\n",
              "      <td>1970</td>\n",
              "      <td>4019</td>\n",
              "      <td>5853</td>\n",
              "      <td>7843</td>\n",
              "      <td>2768</td>\n",
              "      <td>71590</td>\n",
              "      <td>2724</td>\n",
              "      <td>19889</td>\n",
              "      <td>5849</td>\n",
              "      <td>NaN</td>\n",
              "      <td>NaN</td>\n",
              "      <td>NaN</td>\n",
              "      <td>NaN</td>\n",
              "      <td>NaN</td>\n",
              "      <td>NaN</td>\n",
              "      <td>NaN</td>\n",
              "    </tr>\n",
              "    <tr>\n",
              "      <th>1</th>\n",
              "      <td>BENE11001</td>\n",
              "      <td>CLM66048</td>\n",
              "      <td>2009-08-31</td>\n",
              "      <td>2009-09-02</td>\n",
              "      <td>PRV55907</td>\n",
              "      <td>5000</td>\n",
              "      <td>PHY318495</td>\n",
              "      <td>PHY318495</td>\n",
              "      <td>NaN</td>\n",
              "      <td>2009-08-31</td>\n",
              "      <td>6186</td>\n",
              "      <td>1068.0</td>\n",
              "      <td>2009-09-02</td>\n",
              "      <td>750</td>\n",
              "      <td>6186</td>\n",
              "      <td>2948</td>\n",
              "      <td>56400</td>\n",
              "      <td>NaN</td>\n",
              "      <td>NaN</td>\n",
              "      <td>NaN</td>\n",
              "      <td>NaN</td>\n",
              "      <td>NaN</td>\n",
              "      <td>NaN</td>\n",
              "      <td>NaN</td>\n",
              "      <td>7092.0</td>\n",
              "      <td>NaN</td>\n",
              "      <td>NaN</td>\n",
              "      <td>NaN</td>\n",
              "      <td>NaN</td>\n",
              "      <td>NaN</td>\n",
              "    </tr>\n",
              "    <tr>\n",
              "      <th>2</th>\n",
              "      <td>BENE11001</td>\n",
              "      <td>CLM68358</td>\n",
              "      <td>2009-09-17</td>\n",
              "      <td>2009-09-20</td>\n",
              "      <td>PRV56046</td>\n",
              "      <td>5000</td>\n",
              "      <td>PHY372395</td>\n",
              "      <td>NaN</td>\n",
              "      <td>PHY324689</td>\n",
              "      <td>2009-09-17</td>\n",
              "      <td>29590</td>\n",
              "      <td>1068.0</td>\n",
              "      <td>2009-09-20</td>\n",
              "      <td>883</td>\n",
              "      <td>29623</td>\n",
              "      <td>30390</td>\n",
              "      <td>71690</td>\n",
              "      <td>34590</td>\n",
              "      <td>V1581</td>\n",
              "      <td>32723</td>\n",
              "      <td>NaN</td>\n",
              "      <td>NaN</td>\n",
              "      <td>NaN</td>\n",
              "      <td>NaN</td>\n",
              "      <td>NaN</td>\n",
              "      <td>NaN</td>\n",
              "      <td>NaN</td>\n",
              "      <td>NaN</td>\n",
              "      <td>NaN</td>\n",
              "      <td>NaN</td>\n",
              "    </tr>\n",
              "  </tbody>\n",
              "</table>\n",
              "</div>"
            ],
            "text/plain": [
              "      BeneID   ClaimID  ... ClmProcedureCode_5 ClmProcedureCode_6\n",
              "0  BENE11001  CLM46614  ...                NaN                NaN\n",
              "1  BENE11001  CLM66048  ...                NaN                NaN\n",
              "2  BENE11001  CLM68358  ...                NaN                NaN\n",
              "\n",
              "[3 rows x 30 columns]"
            ]
          },
          "metadata": {
            "tags": []
          },
          "execution_count": 15
        }
      ]
    },
    {
      "cell_type": "code",
      "metadata": {
        "colab": {
          "base_uri": "https://localhost:8080/"
        },
        "id": "bLAVjEHz4Tr6",
        "outputId": "35a0610d-b29e-46be-e342-1a5704cbced4"
      },
      "source": [
        "train_inpat.info()"
      ],
      "execution_count": null,
      "outputs": [
        {
          "output_type": "stream",
          "text": [
            "<class 'pandas.core.frame.DataFrame'>\n",
            "RangeIndex: 40474 entries, 0 to 40473\n",
            "Data columns (total 30 columns):\n",
            " #   Column                  Non-Null Count  Dtype  \n",
            "---  ------                  --------------  -----  \n",
            " 0   BeneID                  40474 non-null  object \n",
            " 1   ClaimID                 40474 non-null  object \n",
            " 2   ClaimStartDt            40474 non-null  object \n",
            " 3   ClaimEndDt              40474 non-null  object \n",
            " 4   Provider                40474 non-null  object \n",
            " 5   InscClaimAmtReimbursed  40474 non-null  int64  \n",
            " 6   AttendingPhysician      40362 non-null  object \n",
            " 7   OperatingPhysician      23830 non-null  object \n",
            " 8   OtherPhysician          4690 non-null   object \n",
            " 9   AdmissionDt             40474 non-null  object \n",
            " 10  ClmAdmitDiagnosisCode   40474 non-null  object \n",
            " 11  DeductibleAmtPaid       39575 non-null  float64\n",
            " 12  DischargeDt             40474 non-null  object \n",
            " 13  DiagnosisGroupCode      40474 non-null  object \n",
            " 14  ClmDiagnosisCode_1      40474 non-null  object \n",
            " 15  ClmDiagnosisCode_2      40248 non-null  object \n",
            " 16  ClmDiagnosisCode_3      39798 non-null  object \n",
            " 17  ClmDiagnosisCode_4      38940 non-null  object \n",
            " 18  ClmDiagnosisCode_5      37580 non-null  object \n",
            " 19  ClmDiagnosisCode_6      35636 non-null  object \n",
            " 20  ClmDiagnosisCode_7      33216 non-null  object \n",
            " 21  ClmDiagnosisCode_8      30532 non-null  object \n",
            " 22  ClmDiagnosisCode_9      26977 non-null  object \n",
            " 23  ClmDiagnosisCode_10     3927 non-null   object \n",
            " 24  ClmProcedureCode_1      23148 non-null  float64\n",
            " 25  ClmProcedureCode_2      5454 non-null   float64\n",
            " 26  ClmProcedureCode_3      965 non-null    float64\n",
            " 27  ClmProcedureCode_4      116 non-null    float64\n",
            " 28  ClmProcedureCode_5      9 non-null      float64\n",
            " 29  ClmProcedureCode_6      0 non-null      float64\n",
            "dtypes: float64(7), int64(1), object(22)\n",
            "memory usage: 9.3+ MB\n"
          ],
          "name": "stdout"
        }
      ]
    },
    {
      "cell_type": "code",
      "metadata": {
        "colab": {
          "base_uri": "https://localhost:8080/",
          "height": 162
        },
        "id": "l35GVZsD4WWO",
        "outputId": "45b976e4-398c-484c-e8b6-d511c0451c42"
      },
      "source": [
        "train_outpat.head(3)"
      ],
      "execution_count": null,
      "outputs": [
        {
          "output_type": "execute_result",
          "data": {
            "text/html": [
              "<div>\n",
              "<style scoped>\n",
              "    .dataframe tbody tr th:only-of-type {\n",
              "        vertical-align: middle;\n",
              "    }\n",
              "\n",
              "    .dataframe tbody tr th {\n",
              "        vertical-align: top;\n",
              "    }\n",
              "\n",
              "    .dataframe thead th {\n",
              "        text-align: right;\n",
              "    }\n",
              "</style>\n",
              "<table border=\"1\" class=\"dataframe\">\n",
              "  <thead>\n",
              "    <tr style=\"text-align: right;\">\n",
              "      <th></th>\n",
              "      <th>BeneID</th>\n",
              "      <th>ClaimID</th>\n",
              "      <th>ClaimStartDt</th>\n",
              "      <th>ClaimEndDt</th>\n",
              "      <th>Provider</th>\n",
              "      <th>InscClaimAmtReimbursed</th>\n",
              "      <th>AttendingPhysician</th>\n",
              "      <th>OperatingPhysician</th>\n",
              "      <th>OtherPhysician</th>\n",
              "      <th>ClmDiagnosisCode_1</th>\n",
              "      <th>ClmDiagnosisCode_2</th>\n",
              "      <th>ClmDiagnosisCode_3</th>\n",
              "      <th>ClmDiagnosisCode_4</th>\n",
              "      <th>ClmDiagnosisCode_5</th>\n",
              "      <th>ClmDiagnosisCode_6</th>\n",
              "      <th>ClmDiagnosisCode_7</th>\n",
              "      <th>ClmDiagnosisCode_8</th>\n",
              "      <th>ClmDiagnosisCode_9</th>\n",
              "      <th>ClmDiagnosisCode_10</th>\n",
              "      <th>ClmProcedureCode_1</th>\n",
              "      <th>ClmProcedureCode_2</th>\n",
              "      <th>ClmProcedureCode_3</th>\n",
              "      <th>ClmProcedureCode_4</th>\n",
              "      <th>ClmProcedureCode_5</th>\n",
              "      <th>ClmProcedureCode_6</th>\n",
              "      <th>DeductibleAmtPaid</th>\n",
              "      <th>ClmAdmitDiagnosisCode</th>\n",
              "    </tr>\n",
              "  </thead>\n",
              "  <tbody>\n",
              "    <tr>\n",
              "      <th>0</th>\n",
              "      <td>BENE11002</td>\n",
              "      <td>CLM624349</td>\n",
              "      <td>2009-10-11</td>\n",
              "      <td>2009-10-11</td>\n",
              "      <td>PRV56011</td>\n",
              "      <td>30</td>\n",
              "      <td>PHY326117</td>\n",
              "      <td>NaN</td>\n",
              "      <td>NaN</td>\n",
              "      <td>78943</td>\n",
              "      <td>V5866</td>\n",
              "      <td>V1272</td>\n",
              "      <td>NaN</td>\n",
              "      <td>NaN</td>\n",
              "      <td>NaN</td>\n",
              "      <td>NaN</td>\n",
              "      <td>NaN</td>\n",
              "      <td>NaN</td>\n",
              "      <td>NaN</td>\n",
              "      <td>NaN</td>\n",
              "      <td>NaN</td>\n",
              "      <td>NaN</td>\n",
              "      <td>NaN</td>\n",
              "      <td>NaN</td>\n",
              "      <td>NaN</td>\n",
              "      <td>0</td>\n",
              "      <td>56409</td>\n",
              "    </tr>\n",
              "    <tr>\n",
              "      <th>1</th>\n",
              "      <td>BENE11003</td>\n",
              "      <td>CLM189947</td>\n",
              "      <td>2009-02-12</td>\n",
              "      <td>2009-02-12</td>\n",
              "      <td>PRV57610</td>\n",
              "      <td>80</td>\n",
              "      <td>PHY362868</td>\n",
              "      <td>NaN</td>\n",
              "      <td>NaN</td>\n",
              "      <td>6115</td>\n",
              "      <td>NaN</td>\n",
              "      <td>NaN</td>\n",
              "      <td>NaN</td>\n",
              "      <td>NaN</td>\n",
              "      <td>NaN</td>\n",
              "      <td>NaN</td>\n",
              "      <td>NaN</td>\n",
              "      <td>NaN</td>\n",
              "      <td>NaN</td>\n",
              "      <td>NaN</td>\n",
              "      <td>NaN</td>\n",
              "      <td>NaN</td>\n",
              "      <td>NaN</td>\n",
              "      <td>NaN</td>\n",
              "      <td>NaN</td>\n",
              "      <td>0</td>\n",
              "      <td>79380</td>\n",
              "    </tr>\n",
              "    <tr>\n",
              "      <th>2</th>\n",
              "      <td>BENE11003</td>\n",
              "      <td>CLM438021</td>\n",
              "      <td>2009-06-27</td>\n",
              "      <td>2009-06-27</td>\n",
              "      <td>PRV57595</td>\n",
              "      <td>10</td>\n",
              "      <td>PHY328821</td>\n",
              "      <td>NaN</td>\n",
              "      <td>NaN</td>\n",
              "      <td>2723</td>\n",
              "      <td>NaN</td>\n",
              "      <td>NaN</td>\n",
              "      <td>NaN</td>\n",
              "      <td>NaN</td>\n",
              "      <td>NaN</td>\n",
              "      <td>NaN</td>\n",
              "      <td>NaN</td>\n",
              "      <td>NaN</td>\n",
              "      <td>NaN</td>\n",
              "      <td>NaN</td>\n",
              "      <td>NaN</td>\n",
              "      <td>NaN</td>\n",
              "      <td>NaN</td>\n",
              "      <td>NaN</td>\n",
              "      <td>NaN</td>\n",
              "      <td>0</td>\n",
              "      <td>NaN</td>\n",
              "    </tr>\n",
              "  </tbody>\n",
              "</table>\n",
              "</div>"
            ],
            "text/plain": [
              "      BeneID    ClaimID  ... DeductibleAmtPaid ClmAdmitDiagnosisCode\n",
              "0  BENE11002  CLM624349  ...                 0                 56409\n",
              "1  BENE11003  CLM189947  ...                 0                 79380\n",
              "2  BENE11003  CLM438021  ...                 0                   NaN\n",
              "\n",
              "[3 rows x 27 columns]"
            ]
          },
          "metadata": {
            "tags": []
          },
          "execution_count": 18
        }
      ]
    },
    {
      "cell_type": "code",
      "metadata": {
        "colab": {
          "base_uri": "https://localhost:8080/"
        },
        "id": "lC2ZALGL4mL2",
        "outputId": "177a1d5c-e021-48e9-fe77-fee1be9f41cf"
      },
      "source": [
        "train_outpat.info()"
      ],
      "execution_count": null,
      "outputs": [
        {
          "output_type": "stream",
          "text": [
            "<class 'pandas.core.frame.DataFrame'>\n",
            "RangeIndex: 517737 entries, 0 to 517736\n",
            "Data columns (total 27 columns):\n",
            " #   Column                  Non-Null Count   Dtype  \n",
            "---  ------                  --------------   -----  \n",
            " 0   BeneID                  517737 non-null  object \n",
            " 1   ClaimID                 517737 non-null  object \n",
            " 2   ClaimStartDt            517737 non-null  object \n",
            " 3   ClaimEndDt              517737 non-null  object \n",
            " 4   Provider                517737 non-null  object \n",
            " 5   InscClaimAmtReimbursed  517737 non-null  int64  \n",
            " 6   AttendingPhysician      516341 non-null  object \n",
            " 7   OperatingPhysician      90617 non-null   object \n",
            " 8   OtherPhysician          195046 non-null  object \n",
            " 9   ClmDiagnosisCode_1      507284 non-null  object \n",
            " 10  ClmDiagnosisCode_2      322357 non-null  object \n",
            " 11  ClmDiagnosisCode_3      203257 non-null  object \n",
            " 12  ClmDiagnosisCode_4      125596 non-null  object \n",
            " 13  ClmDiagnosisCode_5      74344 non-null   object \n",
            " 14  ClmDiagnosisCode_6      48756 non-null   object \n",
            " 15  ClmDiagnosisCode_7      32961 non-null   object \n",
            " 16  ClmDiagnosisCode_8      22912 non-null   object \n",
            " 17  ClmDiagnosisCode_9      14838 non-null   object \n",
            " 18  ClmDiagnosisCode_10     1083 non-null    object \n",
            " 19  ClmProcedureCode_1      162 non-null     float64\n",
            " 20  ClmProcedureCode_2      36 non-null      float64\n",
            " 21  ClmProcedureCode_3      4 non-null       float64\n",
            " 22  ClmProcedureCode_4      2 non-null       float64\n",
            " 23  ClmProcedureCode_5      0 non-null       float64\n",
            " 24  ClmProcedureCode_6      0 non-null       float64\n",
            " 25  DeductibleAmtPaid       517737 non-null  int64  \n",
            " 26  ClmAdmitDiagnosisCode   105425 non-null  object \n",
            "dtypes: float64(6), int64(2), object(19)\n",
            "memory usage: 106.7+ MB\n"
          ],
          "name": "stdout"
        }
      ]
    },
    {
      "cell_type": "code",
      "metadata": {
        "colab": {
          "base_uri": "https://localhost:8080/",
          "height": 204
        },
        "id": "E45wu-5h7Z_B",
        "outputId": "728d6821-7af0-4d09-c64b-2d20b6db4b21"
      },
      "source": [
        "train_y.head()"
      ],
      "execution_count": null,
      "outputs": [
        {
          "output_type": "execute_result",
          "data": {
            "text/html": [
              "<div>\n",
              "<style scoped>\n",
              "    .dataframe tbody tr th:only-of-type {\n",
              "        vertical-align: middle;\n",
              "    }\n",
              "\n",
              "    .dataframe tbody tr th {\n",
              "        vertical-align: top;\n",
              "    }\n",
              "\n",
              "    .dataframe thead th {\n",
              "        text-align: right;\n",
              "    }\n",
              "</style>\n",
              "<table border=\"1\" class=\"dataframe\">\n",
              "  <thead>\n",
              "    <tr style=\"text-align: right;\">\n",
              "      <th></th>\n",
              "      <th>Provider</th>\n",
              "      <th>PotentialFraud</th>\n",
              "    </tr>\n",
              "  </thead>\n",
              "  <tbody>\n",
              "    <tr>\n",
              "      <th>0</th>\n",
              "      <td>PRV51001</td>\n",
              "      <td>No</td>\n",
              "    </tr>\n",
              "    <tr>\n",
              "      <th>1</th>\n",
              "      <td>PRV51003</td>\n",
              "      <td>Yes</td>\n",
              "    </tr>\n",
              "    <tr>\n",
              "      <th>2</th>\n",
              "      <td>PRV51004</td>\n",
              "      <td>No</td>\n",
              "    </tr>\n",
              "    <tr>\n",
              "      <th>3</th>\n",
              "      <td>PRV51005</td>\n",
              "      <td>Yes</td>\n",
              "    </tr>\n",
              "    <tr>\n",
              "      <th>4</th>\n",
              "      <td>PRV51007</td>\n",
              "      <td>No</td>\n",
              "    </tr>\n",
              "  </tbody>\n",
              "</table>\n",
              "</div>"
            ],
            "text/plain": [
              "   Provider PotentialFraud\n",
              "0  PRV51001             No\n",
              "1  PRV51003            Yes\n",
              "2  PRV51004             No\n",
              "3  PRV51005            Yes\n",
              "4  PRV51007             No"
            ]
          },
          "metadata": {
            "tags": []
          },
          "execution_count": 35
        }
      ]
    },
    {
      "cell_type": "code",
      "metadata": {
        "colab": {
          "base_uri": "https://localhost:8080/"
        },
        "id": "UHnngMDk42Dt",
        "outputId": "9ff9687b-a792-4875-857c-2738e22aa97f"
      },
      "source": [
        "print(\"Shape of Train Beneficiary file Data:\",train_ben.shape)\n",
        "print(\"Shape of Train In-patient file Data:\", train_inpat.shape)\n",
        "print(\"Shape of Train Out-patient file Data:\", train_outpat.shape)\n",
        "print(\"Shape of Train file Data:\", train_y.shape)"
      ],
      "execution_count": null,
      "outputs": [
        {
          "output_type": "stream",
          "text": [
            "Shape of Train Beneficiary file Data: (138556, 25)\n",
            "Shape of Train In-patient file Data: (40474, 30)\n",
            "Shape of Train Out-patient file Data: (517737, 27)\n",
            "Shape of Train file Data: (5410, 2)\n"
          ],
          "name": "stdout"
        }
      ]
    },
    {
      "cell_type": "code",
      "metadata": {
        "colab": {
          "base_uri": "https://localhost:8080/"
        },
        "id": "r0Fr93oJ7_rl",
        "outputId": "31366885-d783-442a-a8d6-b904f57defc1"
      },
      "source": [
        "out_prov= np.unique(train_outpat['Provider'])\n",
        "print(\"The number of Unique Providers in the Train_Outpat file:\", len(out_prov))\n",
        "\n",
        "in_prov= np.unique(train_inpat['Provider'])\n",
        "print(\"The number of Unique Providers in the Train_Inpat file\", len(in_prov))\n",
        "\n",
        "com_prov= set(out_prov).intersection(set(in_prov))\n",
        "print(\"The number of Providers common to both the Inpat and Outpat files:\",len(com_prov))\n",
        "\n",
        "uni_ele= len(out_prov)+len(in_prov)-len(com_prov)\n",
        "print(\"Total Number of Unique Providers in Outpatient and Inpatient datasets Together:\",uni_ele)"
      ],
      "execution_count": null,
      "outputs": [
        {
          "output_type": "stream",
          "text": [
            "The number of Unique Providers in the Train_Outpat file: 5012\n",
            "The number of Unique Providers in the Train_Inpat file 2092\n",
            "The number of Providers common to both the Inpat and Outpat files: 1694\n",
            "Total Number of Unique Providers in Outpatient and Inpatient datasets Together: 5410\n"
          ],
          "name": "stdout"
        }
      ]
    },
    {
      "cell_type": "markdown",
      "metadata": {
        "id": "beeoCdHv-ulm"
      },
      "source": [
        "##<font color='green'><b> **Observations on the Train Datasets**</b></font>\n",
        "\n",
        "1. We observed that the labels of Potential Fraud as \"Yes\" or \"No\" have been  provided to the each of the Providers in the dataset.\n",
        "\n",
        "2. The number of Unique Providers in the Dataset is 5410 as can be seen in the  \"Train\" file.\n",
        "\n",
        "3. Hence,checking for the unique Providers in the Inpatient and the Outpatient files.\n",
        "\n",
        "4. From the above, we observed that that the total number of Providers are spread across the Inpatient and Outpatient Files.\n"
      ]
    },
    {
      "cell_type": "markdown",
      "metadata": {
        "id": "BXK45Q02NiKQ"
      },
      "source": [
        "###<font color='blue'><b>**Looking at the diffeerent columns present in each of the datasets**</b></font>"
      ]
    },
    {
      "cell_type": "code",
      "metadata": {
        "colab": {
          "base_uri": "https://localhost:8080/"
        },
        "id": "h46oJHrfNDbG",
        "outputId": "95423a58-9547-4120-b3df-c869a5f348fe"
      },
      "source": [
        "print(\"The columns in the Outpatient Dataset are:\",train_outpat.columns)\n",
        "print(\"=\"*100)\n",
        "print(\"The columns in the Inpatient Dataset are:\",train_inpat.columns)\n",
        "print(\"=\"*100)\n",
        "print(\"The columns in the Beneficiary Dataset are:\",train_ben.columns)"
      ],
      "execution_count": null,
      "outputs": [
        {
          "output_type": "stream",
          "text": [
            "The columns in the Outpatient Dataset are: Index(['BeneID', 'ClaimID', 'ClaimStartDt', 'ClaimEndDt', 'Provider',\n",
            "       'InscClaimAmtReimbursed', 'AttendingPhysician', 'OperatingPhysician',\n",
            "       'OtherPhysician', 'ClmDiagnosisCode_1', 'ClmDiagnosisCode_2',\n",
            "       'ClmDiagnosisCode_3', 'ClmDiagnosisCode_4', 'ClmDiagnosisCode_5',\n",
            "       'ClmDiagnosisCode_6', 'ClmDiagnosisCode_7', 'ClmDiagnosisCode_8',\n",
            "       'ClmDiagnosisCode_9', 'ClmDiagnosisCode_10', 'ClmProcedureCode_1',\n",
            "       'ClmProcedureCode_2', 'ClmProcedureCode_3', 'ClmProcedureCode_4',\n",
            "       'ClmProcedureCode_5', 'ClmProcedureCode_6', 'DeductibleAmtPaid',\n",
            "       'ClmAdmitDiagnosisCode'],\n",
            "      dtype='object')\n",
            "====================================================================================================\n",
            "The columns in the Inpatient Dataset are: Index(['BeneID', 'ClaimID', 'ClaimStartDt', 'ClaimEndDt', 'Provider',\n",
            "       'InscClaimAmtReimbursed', 'AttendingPhysician', 'OperatingPhysician',\n",
            "       'OtherPhysician', 'AdmissionDt', 'ClmAdmitDiagnosisCode',\n",
            "       'DeductibleAmtPaid', 'DischargeDt', 'DiagnosisGroupCode',\n",
            "       'ClmDiagnosisCode_1', 'ClmDiagnosisCode_2', 'ClmDiagnosisCode_3',\n",
            "       'ClmDiagnosisCode_4', 'ClmDiagnosisCode_5', 'ClmDiagnosisCode_6',\n",
            "       'ClmDiagnosisCode_7', 'ClmDiagnosisCode_8', 'ClmDiagnosisCode_9',\n",
            "       'ClmDiagnosisCode_10', 'ClmProcedureCode_1', 'ClmProcedureCode_2',\n",
            "       'ClmProcedureCode_3', 'ClmProcedureCode_4', 'ClmProcedureCode_5',\n",
            "       'ClmProcedureCode_6'],\n",
            "      dtype='object')\n",
            "====================================================================================================\n",
            "The columns in the Beneficiary Dataset are: Index(['BeneID', 'DOB', 'DOD', 'Gender', 'Race', 'RenalDiseaseIndicator',\n",
            "       'State', 'County', 'NoOfMonths_PartACov', 'NoOfMonths_PartBCov',\n",
            "       'ChronicCond_Alzheimer', 'ChronicCond_Heartfailure',\n",
            "       'ChronicCond_KidneyDisease', 'ChronicCond_Cancer',\n",
            "       'ChronicCond_ObstrPulmonary', 'ChronicCond_Depression',\n",
            "       'ChronicCond_Diabetes', 'ChronicCond_IschemicHeart',\n",
            "       'ChronicCond_Osteoporasis', 'ChronicCond_rheumatoidarthritis',\n",
            "       'ChronicCond_stroke', 'IPAnnualReimbursementAmt',\n",
            "       'IPAnnualDeductibleAmt', 'OPAnnualReimbursementAmt',\n",
            "       'OPAnnualDeductibleAmt'],\n",
            "      dtype='object')\n"
          ],
          "name": "stdout"
        }
      ]
    },
    {
      "cell_type": "markdown",
      "metadata": {
        "id": "rX0f-GY1VVe7"
      },
      "source": [
        "###<font color='blue'><b>Checking for common columns between the Outpatient and the Ipatient datasets seperately </b></font>"
      ]
    },
    {
      "cell_type": "code",
      "metadata": {
        "colab": {
          "base_uri": "https://localhost:8080/"
        },
        "id": "eOIYmWZtNDS4",
        "outputId": "a84fa49f-e9e6-442a-aff3-fb1dc2f85b32"
      },
      "source": [
        "#Checking each of the columns in the Outaptient dataset if they are present in the Inpatient Dataset\n",
        "c_o=[]\n",
        "for o in train_outpat.columns:\n",
        "    if o in train_inpat.columns:\n",
        "        c_o.append(o)\n",
        "\n",
        "#Checking each of the columns in the Inpatient dataset if they are present in the Outpatient dataset\n",
        "c_i=[]\n",
        "for i in train_inpat.columns:\n",
        "    if i in train_outpat.columns:\n",
        "        c_i.append(i)\n",
        "print(\"Cols of Outpatient dataset also present in Inpatient dataset\",len(c_o))\n",
        "print(\"Cols of Inpatient dataset also present in Outpatient dataset\",len(c_i))\n",
        "\n",
        "#Checking for common column names in the outpatient and the inpatient datasets \n",
        "c_s= set(c_o).intersection(set(c_i))\n",
        "c_s= list(c_s)\n",
        "print(\"Common columns between the outpatient and the inpatient datasets\",len(c_s))"
      ],
      "execution_count": null,
      "outputs": [
        {
          "output_type": "stream",
          "text": [
            "Cols of Outpatient dataset also present in Inpatient dataset 27\n",
            "Cols of Inpatient dataset also present in Outpatient dataset 27\n",
            "Common columns between the outpatient and the inpatient datasets 27\n"
          ],
          "name": "stdout"
        }
      ]
    },
    {
      "cell_type": "code",
      "metadata": {
        "colab": {
          "base_uri": "https://localhost:8080/"
        },
        "id": "GwDW-76jb-8t",
        "outputId": "5c9118b6-ce97-4a2a-8f32-9be1df30f109"
      },
      "source": [
        "print(c_s)"
      ],
      "execution_count": null,
      "outputs": [
        {
          "output_type": "stream",
          "text": [
            "['BeneID', 'ClmProcedureCode_1', 'ClmDiagnosisCode_3', 'OperatingPhysician', 'ClaimStartDt', 'ClmProcedureCode_4', 'DeductibleAmtPaid', 'ClmDiagnosisCode_1', 'ClmDiagnosisCode_8', 'OtherPhysician', 'ClmProcedureCode_3', 'ClmDiagnosisCode_7', 'ClmDiagnosisCode_9', 'ClmProcedureCode_5', 'AttendingPhysician', 'ClmDiagnosisCode_5', 'ClmProcedureCode_6', 'ClmProcedureCode_2', 'ClmDiagnosisCode_10', 'ClaimEndDt', 'ClmAdmitDiagnosisCode', 'ClmDiagnosisCode_6', 'Provider', 'ClaimID', 'InscClaimAmtReimbursed', 'ClmDiagnosisCode_2', 'ClmDiagnosisCode_4']\n"
          ],
          "name": "stdout"
        }
      ]
    },
    {
      "cell_type": "markdown",
      "metadata": {
        "id": "tGQWYjxFXM5q"
      },
      "source": [
        "###<font color='blue'><b> Merging the Outpatient and the Inpatient datasets based on the common columns between both the datasets. We will be doing an outer merge as we need to take the union of all the elements in both the datasets </b></font> "
      ]
    },
    {
      "cell_type": "code",
      "metadata": {
        "colab": {
          "base_uri": "https://localhost:8080/"
        },
        "id": "YhBN6BChdEV7",
        "outputId": "d5c9a9e0-869c-4f78-ec10-1c0e3940690c"
      },
      "source": [
        "train_fin_df= pd.merge(train_inpat,train_outpat,left_on=c_s,right_on=c_s,how='outer')\n",
        "train_fin_df.shape"
      ],
      "execution_count": null,
      "outputs": [
        {
          "output_type": "execute_result",
          "data": {
            "text/plain": [
              "(558211, 30)"
            ]
          },
          "metadata": {
            "tags": []
          },
          "execution_count": 93
        }
      ]
    },
    {
      "cell_type": "code",
      "metadata": {
        "colab": {
          "base_uri": "https://localhost:8080/",
          "height": 131
        },
        "id": "IOpWh3b7dNsK",
        "outputId": "45d3d5a8-8d03-468f-bbd9-8ff2ad9c92b3"
      },
      "source": [
        "train_fin_df.head(2)"
      ],
      "execution_count": null,
      "outputs": [
        {
          "output_type": "execute_result",
          "data": {
            "text/html": [
              "<div>\n",
              "<style scoped>\n",
              "    .dataframe tbody tr th:only-of-type {\n",
              "        vertical-align: middle;\n",
              "    }\n",
              "\n",
              "    .dataframe tbody tr th {\n",
              "        vertical-align: top;\n",
              "    }\n",
              "\n",
              "    .dataframe thead th {\n",
              "        text-align: right;\n",
              "    }\n",
              "</style>\n",
              "<table border=\"1\" class=\"dataframe\">\n",
              "  <thead>\n",
              "    <tr style=\"text-align: right;\">\n",
              "      <th></th>\n",
              "      <th>BeneID</th>\n",
              "      <th>ClaimID</th>\n",
              "      <th>ClaimStartDt</th>\n",
              "      <th>ClaimEndDt</th>\n",
              "      <th>Provider</th>\n",
              "      <th>InscClaimAmtReimbursed</th>\n",
              "      <th>AttendingPhysician</th>\n",
              "      <th>OperatingPhysician</th>\n",
              "      <th>OtherPhysician</th>\n",
              "      <th>AdmissionDt</th>\n",
              "      <th>ClmAdmitDiagnosisCode</th>\n",
              "      <th>DeductibleAmtPaid</th>\n",
              "      <th>DischargeDt</th>\n",
              "      <th>DiagnosisGroupCode</th>\n",
              "      <th>ClmDiagnosisCode_1</th>\n",
              "      <th>ClmDiagnosisCode_2</th>\n",
              "      <th>ClmDiagnosisCode_3</th>\n",
              "      <th>ClmDiagnosisCode_4</th>\n",
              "      <th>ClmDiagnosisCode_5</th>\n",
              "      <th>ClmDiagnosisCode_6</th>\n",
              "      <th>ClmDiagnosisCode_7</th>\n",
              "      <th>ClmDiagnosisCode_8</th>\n",
              "      <th>ClmDiagnosisCode_9</th>\n",
              "      <th>ClmDiagnosisCode_10</th>\n",
              "      <th>ClmProcedureCode_1</th>\n",
              "      <th>ClmProcedureCode_2</th>\n",
              "      <th>ClmProcedureCode_3</th>\n",
              "      <th>ClmProcedureCode_4</th>\n",
              "      <th>ClmProcedureCode_5</th>\n",
              "      <th>ClmProcedureCode_6</th>\n",
              "    </tr>\n",
              "  </thead>\n",
              "  <tbody>\n",
              "    <tr>\n",
              "      <th>0</th>\n",
              "      <td>BENE11001</td>\n",
              "      <td>CLM46614</td>\n",
              "      <td>2009-04-12</td>\n",
              "      <td>2009-04-18</td>\n",
              "      <td>PRV55912</td>\n",
              "      <td>26000</td>\n",
              "      <td>PHY390922</td>\n",
              "      <td>NaN</td>\n",
              "      <td>NaN</td>\n",
              "      <td>2009-04-12</td>\n",
              "      <td>7866</td>\n",
              "      <td>1068.0</td>\n",
              "      <td>2009-04-18</td>\n",
              "      <td>201</td>\n",
              "      <td>1970</td>\n",
              "      <td>4019</td>\n",
              "      <td>5853</td>\n",
              "      <td>7843</td>\n",
              "      <td>2768</td>\n",
              "      <td>71590</td>\n",
              "      <td>2724</td>\n",
              "      <td>19889</td>\n",
              "      <td>5849</td>\n",
              "      <td>NaN</td>\n",
              "      <td>NaN</td>\n",
              "      <td>NaN</td>\n",
              "      <td>NaN</td>\n",
              "      <td>NaN</td>\n",
              "      <td>NaN</td>\n",
              "      <td>NaN</td>\n",
              "    </tr>\n",
              "    <tr>\n",
              "      <th>1</th>\n",
              "      <td>BENE11001</td>\n",
              "      <td>CLM66048</td>\n",
              "      <td>2009-08-31</td>\n",
              "      <td>2009-09-02</td>\n",
              "      <td>PRV55907</td>\n",
              "      <td>5000</td>\n",
              "      <td>PHY318495</td>\n",
              "      <td>PHY318495</td>\n",
              "      <td>NaN</td>\n",
              "      <td>2009-08-31</td>\n",
              "      <td>6186</td>\n",
              "      <td>1068.0</td>\n",
              "      <td>2009-09-02</td>\n",
              "      <td>750</td>\n",
              "      <td>6186</td>\n",
              "      <td>2948</td>\n",
              "      <td>56400</td>\n",
              "      <td>NaN</td>\n",
              "      <td>NaN</td>\n",
              "      <td>NaN</td>\n",
              "      <td>NaN</td>\n",
              "      <td>NaN</td>\n",
              "      <td>NaN</td>\n",
              "      <td>NaN</td>\n",
              "      <td>7092.0</td>\n",
              "      <td>NaN</td>\n",
              "      <td>NaN</td>\n",
              "      <td>NaN</td>\n",
              "      <td>NaN</td>\n",
              "      <td>NaN</td>\n",
              "    </tr>\n",
              "  </tbody>\n",
              "</table>\n",
              "</div>"
            ],
            "text/plain": [
              "      BeneID   ClaimID  ... ClmProcedureCode_5 ClmProcedureCode_6\n",
              "0  BENE11001  CLM46614  ...                NaN                NaN\n",
              "1  BENE11001  CLM66048  ...                NaN                NaN\n",
              "\n",
              "[2 rows x 30 columns]"
            ]
          },
          "metadata": {
            "tags": []
          },
          "execution_count": 138
        }
      ]
    },
    {
      "cell_type": "markdown",
      "metadata": {
        "id": "PE8VMyeGcjoi"
      },
      "source": [
        "###<font color='blue'><b>Merging the resultant dataset with Beneficiary data on the BeneID column in both teh datasets</b></font>"
      ]
    },
    {
      "cell_type": "code",
      "metadata": {
        "colab": {
          "base_uri": "https://localhost:8080/"
        },
        "id": "_nYmLikB1mdA",
        "outputId": "282782a1-e813-4820-fb2d-88a77daba7e4"
      },
      "source": [
        "train_fin= pd.merge(train_fin_df,train_ben, left_on='BeneID',right_on= 'BeneID',how='outer')\n",
        "train_fin.shape"
      ],
      "execution_count": null,
      "outputs": [
        {
          "output_type": "execute_result",
          "data": {
            "text/plain": [
              "(558211, 54)"
            ]
          },
          "metadata": {
            "tags": []
          },
          "execution_count": 94
        }
      ]
    },
    {
      "cell_type": "code",
      "metadata": {
        "colab": {
          "base_uri": "https://localhost:8080/"
        },
        "id": "hBIkLt2d1mDE",
        "outputId": "ce9fe7e2-c024-4590-a71a-e710263ffdd6"
      },
      "source": [
        "print(\"The columns in the final merged dataset are:\",train_fin.columns)"
      ],
      "execution_count": null,
      "outputs": [
        {
          "output_type": "stream",
          "text": [
            "The columns in the final merged dataset are: Index(['BeneID', 'ClaimID', 'ClaimStartDt', 'ClaimEndDt', 'Provider',\n",
            "       'InscClaimAmtReimbursed', 'AttendingPhysician', 'OperatingPhysician',\n",
            "       'OtherPhysician', 'AdmissionDt', 'ClmAdmitDiagnosisCode',\n",
            "       'DeductibleAmtPaid', 'DischargeDt', 'DiagnosisGroupCode',\n",
            "       'ClmDiagnosisCode_1', 'ClmDiagnosisCode_2', 'ClmDiagnosisCode_3',\n",
            "       'ClmDiagnosisCode_4', 'ClmDiagnosisCode_5', 'ClmDiagnosisCode_6',\n",
            "       'ClmDiagnosisCode_7', 'ClmDiagnosisCode_8', 'ClmDiagnosisCode_9',\n",
            "       'ClmDiagnosisCode_10', 'ClmProcedureCode_1', 'ClmProcedureCode_2',\n",
            "       'ClmProcedureCode_3', 'ClmProcedureCode_4', 'ClmProcedureCode_5',\n",
            "       'ClmProcedureCode_6', 'DOB', 'DOD', 'Gender', 'Race',\n",
            "       'RenalDiseaseIndicator', 'State', 'County', 'NoOfMonths_PartACov',\n",
            "       'NoOfMonths_PartBCov', 'ChronicCond_Alzheimer',\n",
            "       'ChronicCond_Heartfailure', 'ChronicCond_KidneyDisease',\n",
            "       'ChronicCond_Cancer', 'ChronicCond_ObstrPulmonary',\n",
            "       'ChronicCond_Depression', 'ChronicCond_Diabetes',\n",
            "       'ChronicCond_IschemicHeart', 'ChronicCond_Osteoporasis',\n",
            "       'ChronicCond_rheumatoidarthritis', 'ChronicCond_stroke',\n",
            "       'IPAnnualReimbursementAmt', 'IPAnnualDeductibleAmt',\n",
            "       'OPAnnualReimbursementAmt', 'OPAnnualDeductibleAmt'],\n",
            "      dtype='object')\n"
          ],
          "name": "stdout"
        }
      ]
    },
    {
      "cell_type": "markdown",
      "metadata": {
        "id": "nPyU0XWLdpGU"
      },
      "source": [
        "###<font color='blue'><b>Merging the Y variable with the final dataset</b></font>"
      ]
    },
    {
      "cell_type": "code",
      "metadata": {
        "colab": {
          "base_uri": "https://localhost:8080/"
        },
        "id": "YRVbJnzF4f3F",
        "outputId": "0a0b8f4b-6387-4c3a-eba7-9079b3f2bb9d"
      },
      "source": [
        "train_fin= pd.merge(train_fin,train_y,left_on= 'Provider',right_on='Provider',how='outer')\n",
        "train_fin.shape"
      ],
      "execution_count": null,
      "outputs": [
        {
          "output_type": "execute_result",
          "data": {
            "text/plain": [
              "(558211, 55)"
            ]
          },
          "metadata": {
            "tags": []
          },
          "execution_count": 95
        }
      ]
    },
    {
      "cell_type": "code",
      "metadata": {
        "colab": {
          "base_uri": "https://localhost:8080/"
        },
        "id": "CmjdlYty4frg",
        "outputId": "b30b0e72-2fdb-41fb-d93c-133eba9ac4fc"
      },
      "source": [
        "train_fin.columns"
      ],
      "execution_count": null,
      "outputs": [
        {
          "output_type": "execute_result",
          "data": {
            "text/plain": [
              "Index(['BeneID', 'ClaimID', 'ClaimStartDt', 'ClaimEndDt', 'Provider',\n",
              "       'InscClaimAmtReimbursed', 'AttendingPhysician', 'OperatingPhysician',\n",
              "       'OtherPhysician', 'AdmissionDt', 'ClmAdmitDiagnosisCode',\n",
              "       'DeductibleAmtPaid', 'DischargeDt', 'DiagnosisGroupCode',\n",
              "       'ClmDiagnosisCode_1', 'ClmDiagnosisCode_2', 'ClmDiagnosisCode_3',\n",
              "       'ClmDiagnosisCode_4', 'ClmDiagnosisCode_5', 'ClmDiagnosisCode_6',\n",
              "       'ClmDiagnosisCode_7', 'ClmDiagnosisCode_8', 'ClmDiagnosisCode_9',\n",
              "       'ClmDiagnosisCode_10', 'ClmProcedureCode_1', 'ClmProcedureCode_2',\n",
              "       'ClmProcedureCode_3', 'ClmProcedureCode_4', 'ClmProcedureCode_5',\n",
              "       'ClmProcedureCode_6', 'DOB', 'DOD', 'Gender', 'Race',\n",
              "       'RenalDiseaseIndicator', 'State', 'County', 'NoOfMonths_PartACov',\n",
              "       'NoOfMonths_PartBCov', 'ChronicCond_Alzheimer',\n",
              "       'ChronicCond_Heartfailure', 'ChronicCond_KidneyDisease',\n",
              "       'ChronicCond_Cancer', 'ChronicCond_ObstrPulmonary',\n",
              "       'ChronicCond_Depression', 'ChronicCond_Diabetes',\n",
              "       'ChronicCond_IschemicHeart', 'ChronicCond_Osteoporasis',\n",
              "       'ChronicCond_rheumatoidarthritis', 'ChronicCond_stroke',\n",
              "       'IPAnnualReimbursementAmt', 'IPAnnualDeductibleAmt',\n",
              "       'OPAnnualReimbursementAmt', 'OPAnnualDeductibleAmt', 'PotentialFraud'],\n",
              "      dtype='object')"
            ]
          },
          "metadata": {
            "tags": []
          },
          "execution_count": 105
        }
      ]
    },
    {
      "cell_type": "code",
      "metadata": {
        "colab": {
          "base_uri": "https://localhost:8080/",
          "height": 309
        },
        "id": "QnFCYbtH53xZ",
        "outputId": "7b9f92dd-83b7-4e62-97be-8cb8de36e23c"
      },
      "source": [
        "train_fin.head()"
      ],
      "execution_count": null,
      "outputs": [
        {
          "output_type": "execute_result",
          "data": {
            "text/html": [
              "<div>\n",
              "<style scoped>\n",
              "    .dataframe tbody tr th:only-of-type {\n",
              "        vertical-align: middle;\n",
              "    }\n",
              "\n",
              "    .dataframe tbody tr th {\n",
              "        vertical-align: top;\n",
              "    }\n",
              "\n",
              "    .dataframe thead th {\n",
              "        text-align: right;\n",
              "    }\n",
              "</style>\n",
              "<table border=\"1\" class=\"dataframe\">\n",
              "  <thead>\n",
              "    <tr style=\"text-align: right;\">\n",
              "      <th></th>\n",
              "      <th>BeneID</th>\n",
              "      <th>ClaimID</th>\n",
              "      <th>ClaimStartDt</th>\n",
              "      <th>ClaimEndDt</th>\n",
              "      <th>Provider</th>\n",
              "      <th>InscClaimAmtReimbursed</th>\n",
              "      <th>AttendingPhysician</th>\n",
              "      <th>OperatingPhysician</th>\n",
              "      <th>OtherPhysician</th>\n",
              "      <th>AdmissionDt</th>\n",
              "      <th>ClmAdmitDiagnosisCode</th>\n",
              "      <th>DeductibleAmtPaid</th>\n",
              "      <th>DischargeDt</th>\n",
              "      <th>DiagnosisGroupCode</th>\n",
              "      <th>ClmDiagnosisCode_1</th>\n",
              "      <th>ClmDiagnosisCode_2</th>\n",
              "      <th>ClmDiagnosisCode_3</th>\n",
              "      <th>ClmDiagnosisCode_4</th>\n",
              "      <th>ClmDiagnosisCode_5</th>\n",
              "      <th>ClmDiagnosisCode_6</th>\n",
              "      <th>ClmDiagnosisCode_7</th>\n",
              "      <th>ClmDiagnosisCode_8</th>\n",
              "      <th>ClmDiagnosisCode_9</th>\n",
              "      <th>ClmDiagnosisCode_10</th>\n",
              "      <th>ClmProcedureCode_1</th>\n",
              "      <th>ClmProcedureCode_2</th>\n",
              "      <th>ClmProcedureCode_3</th>\n",
              "      <th>ClmProcedureCode_4</th>\n",
              "      <th>ClmProcedureCode_5</th>\n",
              "      <th>ClmProcedureCode_6</th>\n",
              "      <th>DOB</th>\n",
              "      <th>DOD</th>\n",
              "      <th>Gender</th>\n",
              "      <th>Race</th>\n",
              "      <th>RenalDiseaseIndicator</th>\n",
              "      <th>State</th>\n",
              "      <th>County</th>\n",
              "      <th>NoOfMonths_PartACov</th>\n",
              "      <th>NoOfMonths_PartBCov</th>\n",
              "      <th>ChronicCond_Alzheimer</th>\n",
              "      <th>ChronicCond_Heartfailure</th>\n",
              "      <th>ChronicCond_KidneyDisease</th>\n",
              "      <th>ChronicCond_Cancer</th>\n",
              "      <th>ChronicCond_ObstrPulmonary</th>\n",
              "      <th>ChronicCond_Depression</th>\n",
              "      <th>ChronicCond_Diabetes</th>\n",
              "      <th>ChronicCond_IschemicHeart</th>\n",
              "      <th>ChronicCond_Osteoporasis</th>\n",
              "      <th>ChronicCond_rheumatoidarthritis</th>\n",
              "      <th>ChronicCond_stroke</th>\n",
              "      <th>IPAnnualReimbursementAmt</th>\n",
              "      <th>IPAnnualDeductibleAmt</th>\n",
              "      <th>OPAnnualReimbursementAmt</th>\n",
              "      <th>OPAnnualDeductibleAmt</th>\n",
              "      <th>PotentialFraud</th>\n",
              "    </tr>\n",
              "  </thead>\n",
              "  <tbody>\n",
              "    <tr>\n",
              "      <th>0</th>\n",
              "      <td>BENE11001</td>\n",
              "      <td>CLM46614</td>\n",
              "      <td>2009-04-12</td>\n",
              "      <td>2009-04-18</td>\n",
              "      <td>PRV55912</td>\n",
              "      <td>26000</td>\n",
              "      <td>PHY390922</td>\n",
              "      <td>NaN</td>\n",
              "      <td>NaN</td>\n",
              "      <td>2009-04-12</td>\n",
              "      <td>7866</td>\n",
              "      <td>1068.0</td>\n",
              "      <td>2009-04-18</td>\n",
              "      <td>201</td>\n",
              "      <td>1970</td>\n",
              "      <td>4019</td>\n",
              "      <td>5853</td>\n",
              "      <td>7843</td>\n",
              "      <td>2768</td>\n",
              "      <td>71590</td>\n",
              "      <td>2724</td>\n",
              "      <td>19889</td>\n",
              "      <td>5849</td>\n",
              "      <td>NaN</td>\n",
              "      <td>NaN</td>\n",
              "      <td>NaN</td>\n",
              "      <td>NaN</td>\n",
              "      <td>NaN</td>\n",
              "      <td>NaN</td>\n",
              "      <td>NaN</td>\n",
              "      <td>1943-01-01</td>\n",
              "      <td>NaN</td>\n",
              "      <td>1</td>\n",
              "      <td>1</td>\n",
              "      <td>0</td>\n",
              "      <td>39</td>\n",
              "      <td>230</td>\n",
              "      <td>12</td>\n",
              "      <td>12</td>\n",
              "      <td>1</td>\n",
              "      <td>2</td>\n",
              "      <td>1</td>\n",
              "      <td>2</td>\n",
              "      <td>2</td>\n",
              "      <td>1</td>\n",
              "      <td>1</td>\n",
              "      <td>1</td>\n",
              "      <td>2</td>\n",
              "      <td>1</td>\n",
              "      <td>1</td>\n",
              "      <td>36000</td>\n",
              "      <td>3204</td>\n",
              "      <td>60</td>\n",
              "      <td>70</td>\n",
              "      <td>Yes</td>\n",
              "    </tr>\n",
              "    <tr>\n",
              "      <th>1</th>\n",
              "      <td>BENE16973</td>\n",
              "      <td>CLM565430</td>\n",
              "      <td>2009-09-06</td>\n",
              "      <td>2009-09-06</td>\n",
              "      <td>PRV55912</td>\n",
              "      <td>50</td>\n",
              "      <td>PHY365867</td>\n",
              "      <td>PHY327147</td>\n",
              "      <td>NaN</td>\n",
              "      <td>NaN</td>\n",
              "      <td>NaN</td>\n",
              "      <td>0.0</td>\n",
              "      <td>NaN</td>\n",
              "      <td>NaN</td>\n",
              "      <td>V7183</td>\n",
              "      <td>53081</td>\n",
              "      <td>78959</td>\n",
              "      <td>4280</td>\n",
              "      <td>E8788</td>\n",
              "      <td>78079</td>\n",
              "      <td>79902</td>\n",
              "      <td>25002</td>\n",
              "      <td>71848</td>\n",
              "      <td>NaN</td>\n",
              "      <td>NaN</td>\n",
              "      <td>NaN</td>\n",
              "      <td>NaN</td>\n",
              "      <td>NaN</td>\n",
              "      <td>NaN</td>\n",
              "      <td>NaN</td>\n",
              "      <td>1932-05-01</td>\n",
              "      <td>NaN</td>\n",
              "      <td>1</td>\n",
              "      <td>1</td>\n",
              "      <td>0</td>\n",
              "      <td>39</td>\n",
              "      <td>310</td>\n",
              "      <td>12</td>\n",
              "      <td>12</td>\n",
              "      <td>1</td>\n",
              "      <td>1</td>\n",
              "      <td>1</td>\n",
              "      <td>2</td>\n",
              "      <td>2</td>\n",
              "      <td>2</td>\n",
              "      <td>2</td>\n",
              "      <td>1</td>\n",
              "      <td>2</td>\n",
              "      <td>2</td>\n",
              "      <td>2</td>\n",
              "      <td>24000</td>\n",
              "      <td>2136</td>\n",
              "      <td>450</td>\n",
              "      <td>200</td>\n",
              "      <td>Yes</td>\n",
              "    </tr>\n",
              "    <tr>\n",
              "      <th>2</th>\n",
              "      <td>BENE17521</td>\n",
              "      <td>CLM34721</td>\n",
              "      <td>2009-01-20</td>\n",
              "      <td>2009-02-01</td>\n",
              "      <td>PRV55912</td>\n",
              "      <td>19000</td>\n",
              "      <td>PHY349293</td>\n",
              "      <td>PHY370861</td>\n",
              "      <td>PHY363291</td>\n",
              "      <td>2009-01-20</td>\n",
              "      <td>45340</td>\n",
              "      <td>1068.0</td>\n",
              "      <td>2009-02-01</td>\n",
              "      <td>987</td>\n",
              "      <td>4240</td>\n",
              "      <td>2639</td>\n",
              "      <td>2948</td>\n",
              "      <td>40390</td>\n",
              "      <td>45821</td>\n",
              "      <td>28489</td>\n",
              "      <td>5854</td>\n",
              "      <td>2753</td>\n",
              "      <td>E9305</td>\n",
              "      <td>NaN</td>\n",
              "      <td>7769.0</td>\n",
              "      <td>5849.0</td>\n",
              "      <td>NaN</td>\n",
              "      <td>NaN</td>\n",
              "      <td>NaN</td>\n",
              "      <td>NaN</td>\n",
              "      <td>1913-12-01</td>\n",
              "      <td>NaN</td>\n",
              "      <td>2</td>\n",
              "      <td>1</td>\n",
              "      <td>0</td>\n",
              "      <td>39</td>\n",
              "      <td>230</td>\n",
              "      <td>12</td>\n",
              "      <td>12</td>\n",
              "      <td>1</td>\n",
              "      <td>1</td>\n",
              "      <td>1</td>\n",
              "      <td>2</td>\n",
              "      <td>1</td>\n",
              "      <td>2</td>\n",
              "      <td>2</td>\n",
              "      <td>1</td>\n",
              "      <td>2</td>\n",
              "      <td>2</td>\n",
              "      <td>2</td>\n",
              "      <td>19000</td>\n",
              "      <td>1068</td>\n",
              "      <td>100</td>\n",
              "      <td>20</td>\n",
              "      <td>Yes</td>\n",
              "    </tr>\n",
              "    <tr>\n",
              "      <th>3</th>\n",
              "      <td>BENE21718</td>\n",
              "      <td>CLM72336</td>\n",
              "      <td>2009-10-17</td>\n",
              "      <td>2009-11-04</td>\n",
              "      <td>PRV55912</td>\n",
              "      <td>17000</td>\n",
              "      <td>PHY334706</td>\n",
              "      <td>PHY334706</td>\n",
              "      <td>NaN</td>\n",
              "      <td>2009-10-17</td>\n",
              "      <td>V5789</td>\n",
              "      <td>1068.0</td>\n",
              "      <td>2009-11-04</td>\n",
              "      <td>941</td>\n",
              "      <td>V5789</td>\n",
              "      <td>4168</td>\n",
              "      <td>73313</td>\n",
              "      <td>7812</td>\n",
              "      <td>7993</td>\n",
              "      <td>78830</td>\n",
              "      <td>72273</td>\n",
              "      <td>43812</td>\n",
              "      <td>4019</td>\n",
              "      <td>NaN</td>\n",
              "      <td>9338.0</td>\n",
              "      <td>NaN</td>\n",
              "      <td>NaN</td>\n",
              "      <td>NaN</td>\n",
              "      <td>NaN</td>\n",
              "      <td>NaN</td>\n",
              "      <td>1922-10-01</td>\n",
              "      <td>NaN</td>\n",
              "      <td>1</td>\n",
              "      <td>1</td>\n",
              "      <td>0</td>\n",
              "      <td>39</td>\n",
              "      <td>600</td>\n",
              "      <td>12</td>\n",
              "      <td>12</td>\n",
              "      <td>2</td>\n",
              "      <td>2</td>\n",
              "      <td>2</td>\n",
              "      <td>2</td>\n",
              "      <td>2</td>\n",
              "      <td>2</td>\n",
              "      <td>2</td>\n",
              "      <td>1</td>\n",
              "      <td>1</td>\n",
              "      <td>2</td>\n",
              "      <td>2</td>\n",
              "      <td>17000</td>\n",
              "      <td>1068</td>\n",
              "      <td>1050</td>\n",
              "      <td>540</td>\n",
              "      <td>Yes</td>\n",
              "    </tr>\n",
              "    <tr>\n",
              "      <th>4</th>\n",
              "      <td>BENE22934</td>\n",
              "      <td>CLM73394</td>\n",
              "      <td>2009-10-25</td>\n",
              "      <td>2009-10-29</td>\n",
              "      <td>PRV55912</td>\n",
              "      <td>13000</td>\n",
              "      <td>PHY390614</td>\n",
              "      <td>PHY323689</td>\n",
              "      <td>PHY363291</td>\n",
              "      <td>2009-10-25</td>\n",
              "      <td>71946</td>\n",
              "      <td>1068.0</td>\n",
              "      <td>2009-10-29</td>\n",
              "      <td>506</td>\n",
              "      <td>71535</td>\n",
              "      <td>71960</td>\n",
              "      <td>4019</td>\n",
              "      <td>V1202</td>\n",
              "      <td>4240</td>\n",
              "      <td>2449</td>\n",
              "      <td>2768</td>\n",
              "      <td>NaN</td>\n",
              "      <td>NaN</td>\n",
              "      <td>NaN</td>\n",
              "      <td>8154.0</td>\n",
              "      <td>NaN</td>\n",
              "      <td>NaN</td>\n",
              "      <td>NaN</td>\n",
              "      <td>NaN</td>\n",
              "      <td>NaN</td>\n",
              "      <td>1930-07-01</td>\n",
              "      <td>NaN</td>\n",
              "      <td>2</td>\n",
              "      <td>1</td>\n",
              "      <td>0</td>\n",
              "      <td>39</td>\n",
              "      <td>280</td>\n",
              "      <td>12</td>\n",
              "      <td>12</td>\n",
              "      <td>2</td>\n",
              "      <td>1</td>\n",
              "      <td>2</td>\n",
              "      <td>2</td>\n",
              "      <td>1</td>\n",
              "      <td>2</td>\n",
              "      <td>1</td>\n",
              "      <td>1</td>\n",
              "      <td>1</td>\n",
              "      <td>1</td>\n",
              "      <td>2</td>\n",
              "      <td>27000</td>\n",
              "      <td>2136</td>\n",
              "      <td>450</td>\n",
              "      <td>160</td>\n",
              "      <td>Yes</td>\n",
              "    </tr>\n",
              "  </tbody>\n",
              "</table>\n",
              "</div>"
            ],
            "text/plain": [
              "      BeneID    ClaimID  ... OPAnnualDeductibleAmt PotentialFraud\n",
              "0  BENE11001   CLM46614  ...                    70            Yes\n",
              "1  BENE16973  CLM565430  ...                   200            Yes\n",
              "2  BENE17521   CLM34721  ...                    20            Yes\n",
              "3  BENE21718   CLM72336  ...                   540            Yes\n",
              "4  BENE22934   CLM73394  ...                   160            Yes\n",
              "\n",
              "[5 rows x 55 columns]"
            ]
          },
          "metadata": {
            "tags": []
          },
          "execution_count": 141
        }
      ]
    },
    {
      "cell_type": "markdown",
      "metadata": {
        "id": "WtiMHKsTdsXa"
      },
      "source": [
        "###<font color=\"blue\"><b>Checking for the datatypes of all the columns in the final dataset</b></font>"
      ]
    },
    {
      "cell_type": "code",
      "metadata": {
        "colab": {
          "base_uri": "https://localhost:8080/"
        },
        "id": "B9FJt_oJ8Yne",
        "outputId": "a61c78d5-e2bc-41eb-ff71-d26b0756a62d"
      },
      "source": [
        "train_fin.info()"
      ],
      "execution_count": null,
      "outputs": [
        {
          "output_type": "stream",
          "text": [
            "<class 'pandas.core.frame.DataFrame'>\n",
            "Int64Index: 558211 entries, 0 to 558210\n",
            "Data columns (total 55 columns):\n",
            " #   Column                           Non-Null Count   Dtype  \n",
            "---  ------                           --------------   -----  \n",
            " 0   BeneID                           558211 non-null  object \n",
            " 1   ClaimID                          558211 non-null  object \n",
            " 2   ClaimStartDt                     558211 non-null  object \n",
            " 3   ClaimEndDt                       558211 non-null  object \n",
            " 4   Provider                         558211 non-null  object \n",
            " 5   InscClaimAmtReimbursed           558211 non-null  int64  \n",
            " 6   AttendingPhysician               556703 non-null  object \n",
            " 7   OperatingPhysician               114447 non-null  object \n",
            " 8   OtherPhysician                   199736 non-null  object \n",
            " 9   AdmissionDt                      40474 non-null   object \n",
            " 10  ClmAdmitDiagnosisCode            145899 non-null  object \n",
            " 11  DeductibleAmtPaid                557312 non-null  float64\n",
            " 12  DischargeDt                      40474 non-null   object \n",
            " 13  DiagnosisGroupCode               40474 non-null   object \n",
            " 14  ClmDiagnosisCode_1               547758 non-null  object \n",
            " 15  ClmDiagnosisCode_2               362605 non-null  object \n",
            " 16  ClmDiagnosisCode_3               243055 non-null  object \n",
            " 17  ClmDiagnosisCode_4               164536 non-null  object \n",
            " 18  ClmDiagnosisCode_5               111924 non-null  object \n",
            " 19  ClmDiagnosisCode_6               84392 non-null   object \n",
            " 20  ClmDiagnosisCode_7               66177 non-null   object \n",
            " 21  ClmDiagnosisCode_8               53444 non-null   object \n",
            " 22  ClmDiagnosisCode_9               41815 non-null   object \n",
            " 23  ClmDiagnosisCode_10              5010 non-null    object \n",
            " 24  ClmProcedureCode_1               23310 non-null   float64\n",
            " 25  ClmProcedureCode_2               5490 non-null    float64\n",
            " 26  ClmProcedureCode_3               969 non-null     float64\n",
            " 27  ClmProcedureCode_4               118 non-null     float64\n",
            " 28  ClmProcedureCode_5               9 non-null       float64\n",
            " 29  ClmProcedureCode_6               0 non-null       float64\n",
            " 30  DOB                              558211 non-null  object \n",
            " 31  DOD                              4131 non-null    object \n",
            " 32  Gender                           558211 non-null  int64  \n",
            " 33  Race                             558211 non-null  int64  \n",
            " 34  RenalDiseaseIndicator            558211 non-null  object \n",
            " 35  State                            558211 non-null  int64  \n",
            " 36  County                           558211 non-null  int64  \n",
            " 37  NoOfMonths_PartACov              558211 non-null  int64  \n",
            " 38  NoOfMonths_PartBCov              558211 non-null  int64  \n",
            " 39  ChronicCond_Alzheimer            558211 non-null  int64  \n",
            " 40  ChronicCond_Heartfailure         558211 non-null  int64  \n",
            " 41  ChronicCond_KidneyDisease        558211 non-null  int64  \n",
            " 42  ChronicCond_Cancer               558211 non-null  int64  \n",
            " 43  ChronicCond_ObstrPulmonary       558211 non-null  int64  \n",
            " 44  ChronicCond_Depression           558211 non-null  int64  \n",
            " 45  ChronicCond_Diabetes             558211 non-null  int64  \n",
            " 46  ChronicCond_IschemicHeart        558211 non-null  int64  \n",
            " 47  ChronicCond_Osteoporasis         558211 non-null  int64  \n",
            " 48  ChronicCond_rheumatoidarthritis  558211 non-null  int64  \n",
            " 49  ChronicCond_stroke               558211 non-null  int64  \n",
            " 50  IPAnnualReimbursementAmt         558211 non-null  int64  \n",
            " 51  IPAnnualDeductibleAmt            558211 non-null  int64  \n",
            " 52  OPAnnualReimbursementAmt         558211 non-null  int64  \n",
            " 53  OPAnnualDeductibleAmt            558211 non-null  int64  \n",
            " 54  PotentialFraud                   558211 non-null  object \n",
            "dtypes: float64(7), int64(22), object(26)\n",
            "memory usage: 238.5+ MB\n"
          ],
          "name": "stdout"
        }
      ]
    },
    {
      "cell_type": "code",
      "metadata": {
        "id": "0kwwqOqa8YkA"
      },
      "source": [
        "#Storing the final dataframe as a pickled file\n",
        "with open('/content/drive/MyDrive/Colab Notebooks/train_fin.pkl','wb') as tr_df:\n",
        "    pickle.dump(train_fin,tr_df)"
      ],
      "execution_count": null,
      "outputs": []
    },
    {
      "cell_type": "code",
      "metadata": {
        "id": "dPGNEvdz_zkN"
      },
      "source": [
        "#Loading the pickled file\n",
        "with open('/content/drive/MyDrive/Colab Notebooks/train_fin.pkl','rb') as tr_df:\n",
        "    train_fin= pickle.load(tr_df)"
      ],
      "execution_count": null,
      "outputs": []
    },
    {
      "cell_type": "code",
      "metadata": {
        "colab": {
          "base_uri": "https://localhost:8080/"
        },
        "id": "okkVk5Al_zgj",
        "outputId": "9735f963-05d0-4421-dc25-cdf79d4f9833"
      },
      "source": [
        "train_fin.shape"
      ],
      "execution_count": null,
      "outputs": [
        {
          "output_type": "execute_result",
          "data": {
            "text/plain": [
              "(558211, 55)"
            ]
          },
          "metadata": {
            "tags": []
          },
          "execution_count": 98
        }
      ]
    },
    {
      "cell_type": "markdown",
      "metadata": {
        "id": "AuSJO2-CHnD_"
      },
      "source": [
        "##<font color='blue'><b> **Looking at the Class Distribution in the Train Dataset**</b></font>"
      ]
    },
    {
      "cell_type": "code",
      "metadata": {
        "colab": {
          "base_uri": "https://localhost:8080/",
          "height": 336
        },
        "id": "TqJnjF4oHFkW",
        "outputId": "0365f4dd-d145-4c93-9140-2e90bc1bbdea"
      },
      "source": [
        "#Calculating the number of row items where the Provider is NOT a Potentila fraud in percentage terms\n",
        "tr_no_per= np.round((train_fin[\"PotentialFraud\"].value_counts()[0])/(train_fin[\"PotentialFraud\"].value_counts()[0]+train_fin[\"PotentialFraud\"].value_counts()[1]),3)*100\n",
        "\n",
        "#Calculating the number of row items where the Provider is a Potentila fraud in percentage terms\n",
        "tr_yes_per= np.round((train_fin[\"PotentialFraud\"].value_counts()[1])/(train_fin[\"PotentialFraud\"].value_counts()[0]+train_fin[\"PotentialFraud\"].value_counts()[1]),3)*100\n",
        "\n",
        "#Plotting the Potential and Non Potential Fraud scenarios\n",
        "plt.figure(figsize=(10,5))\n",
        "sns.barplot(x=['Non-Fraud',\"Fraud\"],y= [tr_no_per,tr_yes_per],palette='crest')\n",
        "plt.ylabel(\"Number of Providers\")\n",
        "plt.title(\"Distribution of the Train_y Data Labels\")\n",
        "plt.show()"
      ],
      "execution_count": null,
      "outputs": [
        {
          "output_type": "display_data",
          "data": {
            "image/png": "[encoded data removed]",
            "text/plain": [
              "<Figure size 720x360 with 1 Axes>"
            ]
          },
          "metadata": {
            "tags": [],
            "needs_background": "light"
          }
        }
      ]
    },
    {
      "cell_type": "code",
      "metadata": {
        "colab": {
          "base_uri": "https://localhost:8080/"
        },
        "id": "c5sPUcCKH4uK",
        "outputId": "4390c1af-6931-4dd1-84ff-b666dc6ca21c"
      },
      "source": [
        "print(\"Percenatage of Non-Fraud class in Train dataset:\",tr_no_per,'%')\n",
        "print(\"Percenatage of Fraud class in Train dataset:\",tr_yes_per,'%')"
      ],
      "execution_count": null,
      "outputs": [
        {
          "output_type": "stream",
          "text": [
            "Percenatage of Non-Fraud class in Train dataset: 61.9 %\n",
            "Percenatage of Fraud class in Train dataset: 38.1 %\n"
          ],
          "name": "stdout"
        }
      ]
    },
    {
      "cell_type": "code",
      "metadata": {
        "id": "DITtGOdR_U9r"
      },
      "source": [
        ""
      ],
      "execution_count": null,
      "outputs": []
    },
    {
      "cell_type": "markdown",
      "metadata": {
        "id": "mLwkSvsbOLRX"
      },
      "source": [
        "##<font color='blue'><b>**Checking for the percentage of nan values in each of the columns in the Inpatient Data**</b></font>"
      ]
    },
    {
      "cell_type": "code",
      "metadata": {
        "colab": {
          "base_uri": "https://localhost:8080/"
        },
        "id": "0reXdPwT81PE",
        "outputId": "04889ac0-01af-4da2-ddae-7a13f483ead5"
      },
      "source": [
        "na_perc= np.round(((train_fin.isna().sum())/train_fin.shape[0])*100,2)\n",
        "na_perc_df= na_perc.to_frame()\n",
        "na_perc_df.reset_index(inplace= True)\n",
        "na_perc_df.columns= [\"col_name\",\"na_percentage\"]\n",
        "print(na_perc_df)"
      ],
      "execution_count": null,
      "outputs": [
        {
          "output_type": "stream",
          "text": [
            "                           col_name  na_percentage\n",
            "0                            BeneID           0.00\n",
            "1                           ClaimID           0.00\n",
            "2                      ClaimStartDt           0.00\n",
            "3                        ClaimEndDt           0.00\n",
            "4                          Provider           0.00\n",
            "5            InscClaimAmtReimbursed           0.00\n",
            "6                AttendingPhysician           0.27\n",
            "7                OperatingPhysician          79.50\n",
            "8                    OtherPhysician          64.22\n",
            "9                       AdmissionDt          92.75\n",
            "10            ClmAdmitDiagnosisCode          73.86\n",
            "11                DeductibleAmtPaid           0.16\n",
            "12                      DischargeDt          92.75\n",
            "13               DiagnosisGroupCode          92.75\n",
            "14               ClmDiagnosisCode_1           1.87\n",
            "15               ClmDiagnosisCode_2          35.04\n",
            "16               ClmDiagnosisCode_3          56.46\n",
            "17               ClmDiagnosisCode_4          70.52\n",
            "18               ClmDiagnosisCode_5          79.95\n",
            "19               ClmDiagnosisCode_6          84.88\n",
            "20               ClmDiagnosisCode_7          88.14\n",
            "21               ClmDiagnosisCode_8          90.43\n",
            "22               ClmDiagnosisCode_9          92.51\n",
            "23              ClmDiagnosisCode_10          99.10\n",
            "24               ClmProcedureCode_1          95.82\n",
            "25               ClmProcedureCode_2          99.02\n",
            "26               ClmProcedureCode_3          99.83\n",
            "27               ClmProcedureCode_4          99.98\n",
            "28               ClmProcedureCode_5         100.00\n",
            "29               ClmProcedureCode_6         100.00\n",
            "30                              DOB           0.00\n",
            "31                              DOD          99.26\n",
            "32                           Gender           0.00\n",
            "33                             Race           0.00\n",
            "34            RenalDiseaseIndicator           0.00\n",
            "35                            State           0.00\n",
            "36                           County           0.00\n",
            "37              NoOfMonths_PartACov           0.00\n",
            "38              NoOfMonths_PartBCov           0.00\n",
            "39            ChronicCond_Alzheimer           0.00\n",
            "40         ChronicCond_Heartfailure           0.00\n",
            "41        ChronicCond_KidneyDisease           0.00\n",
            "42               ChronicCond_Cancer           0.00\n",
            "43       ChronicCond_ObstrPulmonary           0.00\n",
            "44           ChronicCond_Depression           0.00\n",
            "45             ChronicCond_Diabetes           0.00\n",
            "46        ChronicCond_IschemicHeart           0.00\n",
            "47         ChronicCond_Osteoporasis           0.00\n",
            "48  ChronicCond_rheumatoidarthritis           0.00\n",
            "49               ChronicCond_stroke           0.00\n",
            "50         IPAnnualReimbursementAmt           0.00\n",
            "51            IPAnnualDeductibleAmt           0.00\n",
            "52         OPAnnualReimbursementAmt           0.00\n",
            "53            OPAnnualDeductibleAmt           0.00\n",
            "54                   PotentialFraud           0.00\n"
          ],
          "name": "stdout"
        }
      ]
    },
    {
      "cell_type": "code",
      "metadata": {
        "colab": {
          "base_uri": "https://localhost:8080/"
        },
        "id": "46GcAlOlGDxU",
        "outputId": "8b58d12d-be2c-4023-b789-93bd378e9497"
      },
      "source": [
        "na_col=[]\n",
        "na_perc= np.round(((train_fin.isna().sum())/train_fin.shape[0])*100,2)\n",
        "na_perc_df= na_perc.to_frame()\n",
        "na_perc_df.reset_index(inplace= True)\n",
        "na_perc_df.columns= [\"col_name\",\"na_percentage\"]\n",
        "for i in range(na_perc_df.shape[0]):\n",
        "    if na_perc_df.iloc[i,1] == 0:\n",
        "        na_col.append(i)  \n",
        "\n",
        "print(na_col)"
      ],
      "execution_count": null,
      "outputs": [
        {
          "output_type": "stream",
          "text": [
            "[0, 1, 2, 3, 4, 5, 30, 32, 33, 34, 35, 36, 37, 38, 39, 40, 41, 42, 43, 44, 45, 46, 47, 48, 49, 50, 51, 52, 53, 54]\n"
          ],
          "name": "stdout"
        }
      ]
    },
    {
      "cell_type": "code",
      "metadata": {
        "colab": {
          "base_uri": "https://localhost:8080/"
        },
        "id": "rNWSHLmeGDvG",
        "outputId": "11c0200a-c396-455d-8da3-8bcec7a8a6ce"
      },
      "source": [
        "na_perc_df.drop(index=na_col,inplace=True)\n",
        "na_perc_df.reset_index(drop=True,inplace=True)\n",
        "print(na_perc_df)"
      ],
      "execution_count": null,
      "outputs": [
        {
          "output_type": "stream",
          "text": [
            "                 col_name  na_percentage\n",
            "0      AttendingPhysician           0.27\n",
            "1      OperatingPhysician          79.50\n",
            "2          OtherPhysician          64.22\n",
            "3             AdmissionDt          92.75\n",
            "4   ClmAdmitDiagnosisCode          73.86\n",
            "5       DeductibleAmtPaid           0.16\n",
            "6             DischargeDt          92.75\n",
            "7      DiagnosisGroupCode          92.75\n",
            "8      ClmDiagnosisCode_1           1.87\n",
            "9      ClmDiagnosisCode_2          35.04\n",
            "10     ClmDiagnosisCode_3          56.46\n",
            "11     ClmDiagnosisCode_4          70.52\n",
            "12     ClmDiagnosisCode_5          79.95\n",
            "13     ClmDiagnosisCode_6          84.88\n",
            "14     ClmDiagnosisCode_7          88.14\n",
            "15     ClmDiagnosisCode_8          90.43\n",
            "16     ClmDiagnosisCode_9          92.51\n",
            "17    ClmDiagnosisCode_10          99.10\n",
            "18     ClmProcedureCode_1          95.82\n",
            "19     ClmProcedureCode_2          99.02\n",
            "20     ClmProcedureCode_3          99.83\n",
            "21     ClmProcedureCode_4          99.98\n",
            "22     ClmProcedureCode_5         100.00\n",
            "23     ClmProcedureCode_6         100.00\n",
            "24                    DOD          99.26\n"
          ],
          "name": "stdout"
        }
      ]
    },
    {
      "cell_type": "markdown",
      "metadata": {
        "id": "p0BNwM901Ya_"
      },
      "source": [
        "##<font color='blue'><b>**Dropping the Columns which have more than 95% of the nan values in the Inpatient Data**</b></font>"
      ]
    },
    {
      "cell_type": "code",
      "metadata": {
        "colab": {
          "base_uri": "https://localhost:8080/"
        },
        "id": "D84UUj480882",
        "outputId": "93732394-9cf4-4f68-ad43-9fc609130b9c"
      },
      "source": [
        "col_drop=[]\n",
        "for i in range(na_perc_df.shape[0]):\n",
        "    if na_perc_df.iloc[i,1]>95:\n",
        "        col_drop.append(na_perc_df.iloc[i,0])\n",
        "print(len(col_drop))\n",
        "print(col_drop)"
      ],
      "execution_count": null,
      "outputs": [
        {
          "output_type": "stream",
          "text": [
            "8\n",
            "['ClmDiagnosisCode_10', 'ClmProcedureCode_1', 'ClmProcedureCode_2', 'ClmProcedureCode_3', 'ClmProcedureCode_4', 'ClmProcedureCode_5', 'ClmProcedureCode_6', 'DOD']\n"
          ],
          "name": "stdout"
        }
      ]
    },
    {
      "cell_type": "code",
      "metadata": {
        "colab": {
          "base_uri": "https://localhost:8080/"
        },
        "id": "9QcmfWcM083x",
        "outputId": "e403499e-0382-45fd-dbd6-7d4836a619c1"
      },
      "source": [
        "train_fin.drop(col_drop,axis=1,inplace=True)\n",
        "train_fin.shape"
      ],
      "execution_count": null,
      "outputs": [
        {
          "output_type": "execute_result",
          "data": {
            "text/plain": [
              "(558211, 47)"
            ]
          },
          "metadata": {
            "tags": []
          },
          "execution_count": 165
        }
      ]
    },
    {
      "cell_type": "code",
      "metadata": {
        "colab": {
          "base_uri": "https://localhost:8080/"
        },
        "id": "eZhR3XG-2iuQ",
        "outputId": "de443d1f-bad4-4b5f-a7c3-abebc82d07ae"
      },
      "source": [
        "na_col=[]\n",
        "for i in range(na_perc_df.shape[0]):\n",
        "    if na_perc_df.iloc[i,1]>95:\n",
        "        na_col.append(i)  \n",
        "\n",
        "print(na_col)"
      ],
      "execution_count": null,
      "outputs": [
        {
          "output_type": "stream",
          "text": [
            "[17, 18, 19, 20, 21, 22, 23, 24]\n"
          ],
          "name": "stdout"
        }
      ]
    },
    {
      "cell_type": "code",
      "metadata": {
        "colab": {
          "base_uri": "https://localhost:8080/"
        },
        "id": "znsYHLxz18mm",
        "outputId": "333d659a-0a99-464a-ee6e-afc16db33229"
      },
      "source": [
        "na_perc_df.drop(index=na_col,inplace=True)\n",
        "na_perc_df.reset_index(drop=True,inplace=True)\n",
        "print(na_perc_df)"
      ],
      "execution_count": null,
      "outputs": [
        {
          "output_type": "stream",
          "text": [
            "                 col_name  na_percentage\n",
            "0      AttendingPhysician           0.27\n",
            "1      OperatingPhysician          79.50\n",
            "2          OtherPhysician          64.22\n",
            "3             AdmissionDt          92.75\n",
            "4   ClmAdmitDiagnosisCode          73.86\n",
            "5       DeductibleAmtPaid           0.16\n",
            "6             DischargeDt          92.75\n",
            "7      DiagnosisGroupCode          92.75\n",
            "8      ClmDiagnosisCode_1           1.87\n",
            "9      ClmDiagnosisCode_2          35.04\n",
            "10     ClmDiagnosisCode_3          56.46\n",
            "11     ClmDiagnosisCode_4          70.52\n",
            "12     ClmDiagnosisCode_5          79.95\n",
            "13     ClmDiagnosisCode_6          84.88\n",
            "14     ClmDiagnosisCode_7          88.14\n",
            "15     ClmDiagnosisCode_8          90.43\n",
            "16     ClmDiagnosisCode_9          92.51\n"
          ],
          "name": "stdout"
        }
      ]
    },
    {
      "cell_type": "code",
      "metadata": {
        "colab": {
          "base_uri": "https://localhost:8080/",
          "height": 730
        },
        "id": "bHi5FDrB08yJ",
        "outputId": "f4116adb-d380-4867-e8eb-b17f5a1e3f9e"
      },
      "source": [
        "plt.figure(figsize=(10,12))\n",
        "ax= sns.barplot(y= na_perc_df['col_name'],x= na_perc_df['na_percentage'],palette='crest')\n",
        "\n",
        "plt.ylabel(\"Name of the Column\")\n",
        "plt.xlabel(\"Percentage of the NA values\")\n",
        "plt.title(\"Percenate of NA values in each of the columns of the Training Datasets\")\n",
        "\n",
        "#Source: https://medium.com/@dey.mallika/transform-your-graphs-with-seaborn-ea4fa8e606a6\n",
        "initialx=0\n",
        "for p in ax.patches:\n",
        "    ax.text(p.get_width(),initialx+p.get_height()/8,'{:1.0f}'.format(p.get_width()))\n",
        "    initialx+=1\n",
        "plt.show()"
      ],
      "execution_count": null,
      "outputs": [
        {
          "output_type": "display_data",
          "data": {
            "image/png": "[encoded data removed]",
            "text/plain": [
              "<Figure size 720x864 with 1 Axes>"
            ]
          },
          "metadata": {
            "tags": [],
            "needs_background": "light"
          }
        }
      ]
    },
    {
      "cell_type": "code",
      "metadata": {
        "id": "ExJ3Zf0q08XE"
      },
      "source": [
        ""
      ],
      "execution_count": null,
      "outputs": []
    },
    {
      "cell_type": "markdown",
      "metadata": {
        "id": "GLDKFLjvZVr5"
      },
      "source": [
        "###<font color='blue'><b>Checking the number of NA values in the Outpatient Dataset just to validate our obsevrations and the feature engineering approach"
      ]
    },
    {
      "cell_type": "code",
      "metadata": {
        "colab": {
          "base_uri": "https://localhost:8080/"
        },
        "id": "aPpPczx_ZWxt",
        "outputId": "ba5b039b-78bc-4649-e03e-368571ec1768"
      },
      "source": [
        "print(\"The NA percentage in the Admission Date variable in Inpatient Data\",(train_inpat['AdmissionDt'].isna().sum()/len(train_inpat['AdmissionDt']))*100)\n",
        "print(\"The NA percentage in the Discharge Date variable in Inpatient Data\",(train_inpat['DischargeDt'].isna().sum()/len(train_inpat['DischargeDt']))*100)"
      ],
      "execution_count": null,
      "outputs": [
        {
          "output_type": "stream",
          "text": [
            "The NA percentage in the Admission Date variable in Inpatient Data 0.0\n",
            "The NA percentage in the Discharge Date variable in Inpatient Data 0.0\n"
          ],
          "name": "stdout"
        }
      ]
    },
    {
      "cell_type": "markdown",
      "metadata": {
        "id": "nOCwwRZLVgIK"
      },
      "source": [
        "##<font color='green'>**Observations**</b></font>\n",
        "\n",
        "#### Although we see that Admission Date and the Discharge Date have an NA percentage of 92.5, from the above we see that all the NA values have been added by Outpatient and Beneficary datasets.\n",
        "\n",
        "#### It needs to be noted that AdmissionDate and DischargeDate columns are bound to be missing in the Inpatient Datasets and the Beneficary Datasets.\n"
      ]
    },
    {
      "cell_type": "markdown",
      "metadata": {
        "id": "b4dgDWGUWTUi"
      },
      "source": [
        "##<font color='red'><b>**Feature Engineering**</b></font>\n",
        "#### I have created a new feature titled \"hospital_days\" which is taken as a difference between the Discharge Date and the Admission Date features.\n",
        "\n",
        "#### I have imputed all the missing values in this feature with Zeros.\n",
        "\n",
        "#### I have categorized the \"HospitalDays\" feature as keeping it a floating point value will introduce too many features and affect the overall distribution of the variable "
      ]
    },
    {
      "cell_type": "code",
      "metadata": {
        "id": "iuTnNNy3XxjT"
      },
      "source": [
        "train_fin[\"HospitalDays\"]= pd.to_datetime(train_fin['DischargeDt']) - pd.to_datetime(train_fin['AdmissionDt'])\n",
        "train_fin[\"HospitalDays\"]= train_fin[\"HospitalDays\"].dt.days"
      ],
      "execution_count": null,
      "outputs": []
    },
    {
      "cell_type": "markdown",
      "metadata": {
        "id": "31GOtbaAdB7p"
      },
      "source": [
        "###<font color='blue'><b>Looking at the distribution of the HospitalDays variable prior to the imputation of the NA values with 0</b></font>"
      ]
    },
    {
      "cell_type": "code",
      "metadata": {
        "colab": {
          "base_uri": "https://localhost:8080/"
        },
        "id": "ee0nTwHtZxQU",
        "outputId": "78c44fa8-5509-4c53-ff94-7d43d404e867"
      },
      "source": [
        "train_fin[\"HospitalDays\"].describe()"
      ],
      "execution_count": null,
      "outputs": [
        {
          "output_type": "execute_result",
          "data": {
            "text/plain": [
              "count    40474.000000\n",
              "mean         5.665168\n",
              "std          5.638538\n",
              "min          0.000000\n",
              "25%          2.000000\n",
              "50%          4.000000\n",
              "75%          7.000000\n",
              "max         35.000000\n",
              "Name: HospitalDays, dtype: float64"
            ]
          },
          "metadata": {
            "tags": []
          },
          "execution_count": 131
        }
      ]
    },
    {
      "cell_type": "code",
      "metadata": {
        "colab": {
          "base_uri": "https://localhost:8080/",
          "height": 340
        },
        "id": "32A6u9J4ZxM5",
        "outputId": "e764c31f-0a9e-49a7-c3e6-1fb5f7cf3192"
      },
      "source": [
        "plt.figure(figsize=(8,5))\n",
        "sns.boxplot(y=train_fin['HospitalDays'],palette='crest')\n",
        "plt.xlabel(\"HospitalDays\")\n",
        "plt.ylabel(\"Np.of Days in the Hospital\")\n",
        "plt.title(\"Distribution of the Hospital Days variable\")\n",
        "plt.grid()\n",
        "plt.show()"
      ],
      "execution_count": null,
      "outputs": [
        {
          "output_type": "display_data",
          "data": {
            "image/png": "[encoded data removed]",
            "text/plain": [
              "<Figure size 576x360 with 1 Axes>"
            ]
          },
          "metadata": {
            "tags": [],
            "needs_background": "light"
          }
        }
      ]
    },
    {
      "cell_type": "markdown",
      "metadata": {
        "id": "Qz5k21ikdeOm"
      },
      "source": [
        "##<font color='blue'><b> Imputing the NA values in the HospitalDates variable with 0 values</b></font>"
      ]
    },
    {
      "cell_type": "code",
      "metadata": {
        "id": "MREsCmqBdt_Y"
      },
      "source": [
        "train_fin[\"HospitalDays\"]=train_fin[\"HospitalDays\"].fillna(0)"
      ],
      "execution_count": null,
      "outputs": []
    },
    {
      "cell_type": "code",
      "metadata": {
        "colab": {
          "base_uri": "https://localhost:8080/"
        },
        "id": "i2aousR2dt3a",
        "outputId": "836a8dd5-7611-4d24-f3d6-68c270c51f34"
      },
      "source": [
        "train_fin[\"HospitalDays\"].describe()"
      ],
      "execution_count": null,
      "outputs": [
        {
          "output_type": "execute_result",
          "data": {
            "text/plain": [
              "count    558211.000000\n",
              "mean          0.410762\n",
              "std           2.112693\n",
              "min           0.000000\n",
              "25%           0.000000\n",
              "50%           0.000000\n",
              "75%           0.000000\n",
              "max          35.000000\n",
              "Name: HospitalDays, dtype: float64"
            ]
          },
          "metadata": {
            "tags": []
          },
          "execution_count": 137
        }
      ]
    },
    {
      "cell_type": "code",
      "metadata": {
        "colab": {
          "base_uri": "https://localhost:8080/",
          "height": 340
        },
        "id": "LyPIU1tsd9du",
        "outputId": "785701a9-37f3-42a2-ee38-191d63690f6a"
      },
      "source": [
        "plt.figure(figsize=(8,5))\n",
        "sns.boxplot(y=train_fin['HospitalDays'],palette='crest')\n",
        "plt.xlabel(\"HospitalDays\")\n",
        "plt.ylabel(\"Np.of Days in the Hospital\")\n",
        "plt.title(\"Distribution of the Hospital Days variable\")\n",
        "plt.grid()\n",
        "plt.show()"
      ],
      "execution_count": null,
      "outputs": [
        {
          "output_type": "display_data",
          "data": {
            "image/png": "[encoded data removed]",
            "text/plain": [
              "<Figure size 576x360 with 1 Axes>"
            ]
          },
          "metadata": {
            "tags": [],
            "needs_background": "light"
          }
        }
      ]
    },
    {
      "cell_type": "markdown",
      "metadata": {
        "id": "pZK2aiqDeoBZ"
      },
      "source": [
        "##<font color='green'><b>**Observations**</b></font>\n",
        "\n",
        "#### From the above two Box plots it is quite evident that the imputation of the NA values wiht 0 has drascitcally impacted the overall distribution of the variable"
      ]
    },
    {
      "cell_type": "markdown",
      "metadata": {
        "id": "lwT4UFMIets-"
      },
      "source": [
        "###<font color='blue'><b> Hence Categorizing the variable as per weeks as it introduces ordinality in the feature as well as seperates out the inpatient and the outpatient data </b></font>"
      ]
    },
    {
      "cell_type": "code",
      "metadata": {
        "colab": {
          "base_uri": "https://localhost:8080/"
        },
        "id": "6-XG6fVWeDwZ",
        "outputId": "050c97bc-51cf-41eb-f000-2f2282863870"
      },
      "source": [
        "for i in tqdm(range(len(train_fin[\"HospitalDays\"]))):\n",
        "    if train_fin[\"HospitalDays\"][i]==0:\n",
        "        train_fin[\"HospitalDays\"][i]= 0\n",
        "    if train_fin[\"HospitalDays\"][i]>0 and train_fin[\"HospitalDays\"][i]<=7:\n",
        "        train_fin[\"HospitalDays\"][i]= 1\n",
        "    elif train_fin[\"HospitalDays\"][i]>7 and train_fin[\"HospitalDays\"][i]<=14:\n",
        "        train_fin[\"HospitalDays\"][i]= 2 \n",
        "    elif train_fin[\"HospitalDays\"][i]>14 and train_fin[\"HospitalDays\"][i]<=21:\n",
        "        train_fin[\"HospitalDays\"][i]= 3\n",
        "    elif train_fin[\"HospitalDays\"][i]>21 and train_fin[\"HospitalDays\"][i]<=28:\n",
        "        train_fin[\"HospitalDays\"][i]= 4\n",
        "    elif train_fin[\"HospitalDays\"][i]>28:\n",
        "        train_fin[\"HospitalDays\"][i]= 5"
      ],
      "execution_count": null,
      "outputs": [
        {
          "output_type": "stream",
          "text": [
            "  0%|          | 0/558211 [00:00<?, ?it/s]/usr/local/lib/python3.7/dist-packages/ipykernel_launcher.py:5: SettingWithCopyWarning: \n",
            "A value is trying to be set on a copy of a slice from a DataFrame\n",
            "\n",
            "See the caveats in the documentation: https://pandas.pydata.org/pandas-docs/stable/user_guide/indexing.html#returning-a-view-versus-a-copy\n",
            "  \"\"\"\n",
            "/usr/local/lib/python3.7/dist-packages/ipykernel_launcher.py:3: SettingWithCopyWarning: \n",
            "A value is trying to be set on a copy of a slice from a DataFrame\n",
            "\n",
            "See the caveats in the documentation: https://pandas.pydata.org/pandas-docs/stable/user_guide/indexing.html#returning-a-view-versus-a-copy\n",
            "  This is separate from the ipykernel package so we can avoid doing imports until\n",
            "/usr/local/lib/python3.7/dist-packages/ipykernel_launcher.py:7: SettingWithCopyWarning: \n",
            "A value is trying to be set on a copy of a slice from a DataFrame\n",
            "\n",
            "See the caveats in the documentation: https://pandas.pydata.org/pandas-docs/stable/user_guide/indexing.html#returning-a-view-versus-a-copy\n",
            "  import sys\n",
            "/usr/local/lib/python3.7/dist-packages/ipykernel_launcher.py:9: SettingWithCopyWarning: \n",
            "A value is trying to be set on a copy of a slice from a DataFrame\n",
            "\n",
            "See the caveats in the documentation: https://pandas.pydata.org/pandas-docs/stable/user_guide/indexing.html#returning-a-view-versus-a-copy\n",
            "  if __name__ == '__main__':\n",
            "/usr/local/lib/python3.7/dist-packages/ipykernel_launcher.py:11: SettingWithCopyWarning: \n",
            "A value is trying to be set on a copy of a slice from a DataFrame\n",
            "\n",
            "See the caveats in the documentation: https://pandas.pydata.org/pandas-docs/stable/user_guide/indexing.html#returning-a-view-versus-a-copy\n",
            "  # This is added back by InteractiveShellApp.init_path()\n",
            "  1%|          | 4433/558211 [00:00<01:26, 6389.29it/s]/usr/local/lib/python3.7/dist-packages/ipykernel_launcher.py:13: SettingWithCopyWarning: \n",
            "A value is trying to be set on a copy of a slice from a DataFrame\n",
            "\n",
            "See the caveats in the documentation: https://pandas.pydata.org/pandas-docs/stable/user_guide/indexing.html#returning-a-view-versus-a-copy\n",
            "  del sys.path[0]\n",
            "100%|██████████| 558211/558211 [01:15<00:00, 7433.74it/s]\n"
          ],
          "name": "stderr"
        }
      ]
    },
    {
      "cell_type": "code",
      "metadata": {
        "colab": {
          "base_uri": "https://localhost:8080/"
        },
        "id": "rS4Z4gwveDr9",
        "outputId": "7a7739a5-d554-49e9-d634-f6be383606ff"
      },
      "source": [
        "print(train_fin[\"HospitalDays\"].dtypes)\n",
        "print(np.unique(train_fin[\"HospitalDays\"]))"
      ],
      "execution_count": null,
      "outputs": [
        {
          "output_type": "stream",
          "text": [
            "float64\n",
            "[0. 1. 2. 3. 4. 5.]\n"
          ],
          "name": "stdout"
        }
      ]
    },
    {
      "cell_type": "code",
      "metadata": {
        "colab": {
          "base_uri": "https://localhost:8080/"
        },
        "id": "tSXts18thupy",
        "outputId": "c2797f33-d789-4079-b62d-372a239a55d1"
      },
      "source": [
        "print(train_fin[\"HospitalDays\"].value_counts())"
      ],
      "execution_count": null,
      "outputs": [
        {
          "output_type": "execute_result",
          "data": {
            "text/plain": [
              "0.0    518342\n",
              "1.0     31108\n",
              "2.0      5969\n",
              "3.0      1658\n",
              "4.0       589\n",
              "5.0       545\n",
              "Name: HospitalDays, dtype: int64"
            ]
          },
          "metadata": {
            "tags": []
          },
          "execution_count": 144
        }
      ]
    },
    {
      "cell_type": "code",
      "metadata": {
        "colab": {
          "base_uri": "https://localhost:8080/",
          "height": 404
        },
        "id": "vpf_BBhmh5_q",
        "outputId": "9b37de7c-ba67-412b-e618-3237eb1d6140"
      },
      "source": [
        "plt.figure(figsize=(8,6))\n",
        "sns.barplot(x= np.unique(train_fin[\"HospitalDays\"]),y= train_fin[\"HospitalDays\"].value_counts(),palette='crest')\n",
        "plt.xlabel(\"Weeks\")\n",
        "plt.ylabel(\"# Obs in each of the weeks classes\")\n",
        "plt.title(\"Distribution of the HospitalDays variable\")\n",
        "plt.grid()\n",
        "plt.show()"
      ],
      "execution_count": null,
      "outputs": [
        {
          "output_type": "display_data",
          "data": {
            "image/png": "[encoded data removed]",
            "text/plain": [
              "<Figure size 576x432 with 1 Axes>"
            ]
          },
          "metadata": {
            "tags": [],
            "needs_background": "light"
          }
        }
      ]
    },
    {
      "cell_type": "markdown",
      "metadata": {
        "id": "Ckt0lWc-i_Ev"
      },
      "source": [
        "##<font color='green'><b>**Observations**</b></font>\n",
        "#### 1. As mentioned above 0 would be the highest as they are the imputed observations from the Inpatient and the Outpatient Datasests\n",
        "\n",
        "#### 2. Other than 0, we see that the maximum days spent in the hospital is less than or equal to 1 week and the number of observations keep decreasing with more weeks\n",
        "\n",
        "#### 3. This seems to be the general trend as there are fewer chronic illness cases in a hospital and most of the Inpatients are predominantly admitted for shoter duration of time"
      ]
    },
    {
      "cell_type": "markdown",
      "metadata": {
        "id": "wjdsyXSDk9sm"
      },
      "source": [
        "##<font color='blue'><b> Dropping the Admission Date and the Discharge Date columns from the dataset</b></font>"
      ]
    },
    {
      "cell_type": "code",
      "metadata": {
        "id": "krQlPy6Ak9hG"
      },
      "source": [
        "train_fin.drop(['AdmissionDt','DischargeDt'], axis=1, inplace=True)"
      ],
      "execution_count": null,
      "outputs": []
    },
    {
      "cell_type": "code",
      "metadata": {
        "colab": {
          "base_uri": "https://localhost:8080/"
        },
        "id": "HyZQbntK3jca",
        "outputId": "a0e51a46-c142-4fcd-c7a0-870cc6b6a730"
      },
      "source": [
        "train_fin.shape"
      ],
      "execution_count": null,
      "outputs": [
        {
          "output_type": "execute_result",
          "data": {
            "text/plain": [
              "(558211, 46)"
            ]
          },
          "metadata": {
            "tags": []
          },
          "execution_count": 175
        }
      ]
    },
    {
      "cell_type": "code",
      "metadata": {
        "id": "yYxNnLkNzHAD"
      },
      "source": [
        "with open('/content/drive/MyDrive/Colab Notebooks/train_fin2.pkl','wb') as tr_df:\n",
        "    pickle.dump(train_fin,tr_df)"
      ],
      "execution_count": null,
      "outputs": []
    },
    {
      "cell_type": "code",
      "metadata": {
        "id": "T4skIQsQzYba"
      },
      "source": [
        "with open('/content/drive/MyDrive/Colab Notebooks/train_fin2.pkl','rb') as tr_df:\n",
        "    train_fin2= pickle.load(tr_df)"
      ],
      "execution_count": null,
      "outputs": []
    },
    {
      "cell_type": "code",
      "metadata": {
        "colab": {
          "base_uri": "https://localhost:8080/"
        },
        "id": "ebfwacTMk9Y7",
        "outputId": "3ed1dca4-136b-47c8-e6b8-06af06d43eff"
      },
      "source": [
        "na_col=[]\n",
        "na_perc= np.round(((train_fin2.isna().sum())/train_fin2.shape[0])*100,2)\n",
        "na_perc_df= na_perc.to_frame()\n",
        "na_perc_df.reset_index(inplace= True)\n",
        "na_perc_df.columns= [\"col_name\",\"na_percentage\"]\n",
        "for i in range(na_perc_df.shape[0]):\n",
        "    if na_perc_df.iloc[i,1] == 0:\n",
        "        na_col.append(i)  \n",
        "\n",
        "print(na_col)"
      ],
      "execution_count": null,
      "outputs": [
        {
          "output_type": "stream",
          "text": [
            "[0, 1, 2, 3, 4, 5, 21, 22, 23, 24, 25, 26, 27, 28, 29, 30, 31, 32, 33, 34, 35, 36, 37, 38, 39, 40, 41, 42, 43, 44, 45]\n"
          ],
          "name": "stdout"
        }
      ]
    },
    {
      "cell_type": "code",
      "metadata": {
        "colab": {
          "base_uri": "https://localhost:8080/"
        },
        "id": "fMiIl-c2k9Dn",
        "outputId": "3f8b529c-e6ad-495a-bca1-54ade20af238"
      },
      "source": [
        "na_perc_df.drop(index=na_col,inplace=True)\n",
        "na_perc_df.reset_index(drop=True,inplace=True)\n",
        "print(na_perc_df)"
      ],
      "execution_count": null,
      "outputs": [
        {
          "output_type": "stream",
          "text": [
            "                 col_name  na_percentage\n",
            "0      AttendingPhysician           0.27\n",
            "1      OperatingPhysician          79.50\n",
            "2          OtherPhysician          64.22\n",
            "3   ClmAdmitDiagnosisCode          73.86\n",
            "4       DeductibleAmtPaid           0.16\n",
            "5      DiagnosisGroupCode          92.75\n",
            "6      ClmDiagnosisCode_1           1.87\n",
            "7      ClmDiagnosisCode_2          35.04\n",
            "8      ClmDiagnosisCode_3          56.46\n",
            "9      ClmDiagnosisCode_4          70.52\n",
            "10     ClmDiagnosisCode_5          79.95\n",
            "11     ClmDiagnosisCode_6          84.88\n",
            "12     ClmDiagnosisCode_7          88.14\n",
            "13     ClmDiagnosisCode_8          90.43\n",
            "14     ClmDiagnosisCode_9          92.51\n"
          ],
          "name": "stdout"
        }
      ]
    },
    {
      "cell_type": "code",
      "metadata": {
        "colab": {
          "base_uri": "https://localhost:8080/",
          "height": 730
        },
        "id": "0cEioV8QlIC5",
        "outputId": "33dc1e4e-ac8f-4eb4-d507-4bf11ddc1f82"
      },
      "source": [
        "plt.figure(figsize=(10,12))\n",
        "ax= sns.barplot(y= na_perc_df['col_name'],x= na_perc_df['na_percentage'],palette='crest')\n",
        "\n",
        "plt.ylabel(\"Name of the Column\")\n",
        "plt.xlabel(\"Percentage of the NA values\")\n",
        "plt.title(\"Percenate of NA values in each of the columns of the Training Datasets\")\n",
        "\n",
        "#Source: https://medium.com/@dey.mallika/transform-your-graphs-with-seaborn-ea4fa8e606a6\n",
        "initialx=0\n",
        "for p in ax.patches:\n",
        "    ax.text(p.get_width(),initialx+p.get_height()/8,'{:1.0f}'.format(p.get_width()))\n",
        "    initialx+=1\n",
        "plt.show()"
      ],
      "execution_count": null,
      "outputs": [
        {
          "output_type": "display_data",
          "data": {
            "image/png": "[encoded data removed]",
            "text/plain": [
              "<Figure size 720x864 with 1 Axes>"
            ]
          },
          "metadata": {
            "tags": [],
            "needs_background": "light"
          }
        }
      ]
    },
    {
      "cell_type": "code",
      "metadata": {
        "id": "AnY9vENP7jva"
      },
      "source": [
        ""
      ],
      "execution_count": null,
      "outputs": []
    },
    {
      "cell_type": "markdown",
      "metadata": {
        "id": "nNzjepkBAJei"
      },
      "source": [
        "##<font color='blue'><b>Looking at the distribution of the NA values in the Operating physician and Other physician columns of the Inpatients and the Outpatients datasets</b></font>"
      ]
    },
    {
      "cell_type": "code",
      "metadata": {
        "colab": {
          "base_uri": "https://localhost:8080/",
          "height": 455
        },
        "id": "1GiFpHhr-Hai",
        "outputId": "76c68c10-927e-465c-8d29-4ba42ff79ea7"
      },
      "source": [
        "in_opr_p=np.round((train_inpat['OperatingPhysician'].isna().sum()/len(train_inpat['OperatingPhysician']))*100,2)\n",
        "in_ot_p= np.round((train_inpat['OtherPhysician'].isna().sum()/len(train_inpat['OtherPhysician']))*100,2)\n",
        "\n",
        "print(\"NA percent in OperatingPhysician col in Inpatient Data\",in_opr_p)\n",
        "print(\"NA percent in OtherPhysician col in Inpatient Data\",in_ot_p)\n",
        "print(\"*\"*100)\n",
        "\n",
        "plt.figure(figsize=(8,6))\n",
        "sns.barplot(x=[\"OperatingPhysician\",\"OtherPhysician\"],y=[in_opr_p,in_ot_p], palette='crest')\n",
        "plt.xlabel(\"Physician Type\")\n",
        "plt.ylabel(\"Percetage of NA values\")\n",
        "plt.title(\"NA value Percentage in OperatingPhysician and OtherPhysician in Inpatients\")\n",
        "#plt.grid()\n",
        "plt.show()"
      ],
      "execution_count": null,
      "outputs": [
        {
          "output_type": "stream",
          "text": [
            "NA percent in OperatingPhysician col in Inpatient Data 41.12\n",
            "NA percent in OtherPhysician col in Inpatient Data 88.41\n",
            "****************************************************************************************************\n"
          ],
          "name": "stdout"
        },
        {
          "output_type": "display_data",
          "data": {
            "image/png": "[encoded data removed]",
            "text/plain": [
              "<Figure size 576x432 with 1 Axes>"
            ]
          },
          "metadata": {
            "tags": [],
            "needs_background": "light"
          }
        }
      ]
    },
    {
      "cell_type": "code",
      "metadata": {
        "colab": {
          "base_uri": "https://localhost:8080/",
          "height": 455
        },
        "id": "QVR-jVjP_Okz",
        "outputId": "c8f99978-655b-4833-f7fb-3f00473e6239"
      },
      "source": [
        "out_opr_p=np.round((train_outpat['OperatingPhysician'].isna().sum()/len(train_outpat['OperatingPhysician']))*100,2)\n",
        "out_ot_p= np.round((train_outpat['OtherPhysician'].isna().sum()/len(train_outpat['OtherPhysician']))*100,2)\n",
        "\n",
        "print(\"NA percent in OperatingPhysician col in Inpatient Data\",out_opr_p)\n",
        "print(\"NA percent in OtherPhysician col in Inpatient Data\",out_ot_p)\n",
        "\n",
        "print(\"*\"*100)\n",
        "plt.figure(figsize=(8,6))\n",
        "sns.barplot(x=[\"OperatingPhysician\",\"OtherPhysician\"],y=[out_opr_p,out_ot_p], palette='crest')\n",
        "plt.xlabel(\"Physician Type\")\n",
        "plt.ylabel(\"Percetage of NA values\")\n",
        "plt.title(\"NA value Percentage in OperatingPhysician and OtherPhysician in Outpatients\")\n",
        "#plt.grid()\n",
        "plt.show()"
      ],
      "execution_count": null,
      "outputs": [
        {
          "output_type": "stream",
          "text": [
            "NA percent in OperatingPhysician col in Inpatient Data 82.5\n",
            "NA percent in OtherPhysician col in Inpatient Data 62.33\n",
            "****************************************************************************************************\n"
          ],
          "name": "stdout"
        },
        {
          "output_type": "display_data",
          "data": {
            "image/png": "[encoded data removed]",
            "text/plain": [
              "<Figure size 576x432 with 1 Axes>"
            ]
          },
          "metadata": {
            "tags": [],
            "needs_background": "light"
          }
        }
      ]
    },
    {
      "cell_type": "markdown",
      "metadata": {
        "id": "rX0GI2YgAq26"
      },
      "source": [
        "##<font color='green'><b>**Observations:**\n",
        "\n",
        "#### 1. The above graphs are inline with the reality or practical situtation. NA values in Operating Physician and Other Physician datasets doesnt mean that the data is missing.\n",
        "\n",
        "#### 2. As per my secondary research, Operating Physicians are involved in cases where a surgery or other complications are involved\n",
        "\n",
        "#### 3. OtherPhysicians are involved in cases where the patient has co-morbidities\n",
        "\n",
        "##<font color='green'><b>**Observations on Inpatient Dataset:**\n",
        "\n",
        "#### 1. We have 41% NA values in Operating Physicians column. This means the 59% (100%-41%) of the Inpatients likely needed a surgery or had other complication where as 41% didnt have any complications or didnt need surgery \n",
        "\n",
        "#### 2. We have 88% NA values in Other Physicians column. This means the 12% (100%-88%) of the Inpatients had co-morbidities where as 12% didnt have co-morbidities \n",
        "\n",
        "##<font color='green'><b>**Observations on Outpatient Dataset:**\n",
        "\n",
        "#### 1. We have 82% NA values in Operating Physicians column. Outpatients do not usually go through surgeries or other complicated procedures in a day \n",
        "\n",
        "#### 2. We have 62% NA values in Other Physicians column.Outpatients do not usually consult other physicians very often."
      ]
    },
    {
      "cell_type": "markdown",
      "metadata": {
        "id": "WL2g-JYcGSlM"
      },
      "source": [
        "##<font color='blue'><b>Imputing the Attending Physician with Mode or MostFrequent strategy using SimpleImpute</b></font>"
      ]
    },
    {
      "cell_type": "code",
      "metadata": {
        "id": "XripniwL7k8V"
      },
      "source": [
        "cat_imp= SimpleImputer(missing_values= np.nan, strategy= 'most_frequent')\n",
        "train_fin2[\"AttendingPhysician\"]= cat_imp.fit_transform(train_fin2['AttendingPhysician'].values.reshape(-1,1))[:,0]"
      ],
      "execution_count": null,
      "outputs": []
    },
    {
      "cell_type": "code",
      "metadata": {
        "colab": {
          "base_uri": "https://localhost:8080/"
        },
        "id": "nwdm9j-37k3c",
        "outputId": "94a3dd62-f25e-4436-a9e5-bf889a3e7054"
      },
      "source": [
        "train_fin2[\"AttendingPhysician\"].isna().sum()"
      ],
      "execution_count": null,
      "outputs": [
        {
          "output_type": "execute_result",
          "data": {
            "text/plain": [
              "0"
            ]
          },
          "metadata": {
            "tags": []
          },
          "execution_count": 195
        }
      ]
    },
    {
      "cell_type": "markdown",
      "metadata": {
        "id": "BL9Mze2pHjtY"
      },
      "source": [
        "##<font color='red'><b>**Feature Engineering**\n",
        "\n",
        "#### A new column has been created to capture the nature of illness of the patient.This column will be categorical and will have the below categories:\n",
        "\n",
        "#### 1.Simple \n",
        "#### 2.Operating\n",
        "#### 3.comorbid\n",
        "#### 4.Operating&comorbid"
      ]
    },
    {
      "cell_type": "code",
      "metadata": {
        "id": "stzrNrCHR-l5"
      },
      "source": [
        "train_fin2[\"IllnessNature\"]= np.zeros(len(train_fin2[\"AttendingPhysician\"]))"
      ],
      "execution_count": null,
      "outputs": []
    },
    {
      "cell_type": "code",
      "metadata": {
        "colab": {
          "base_uri": "https://localhost:8080/"
        },
        "id": "KUf1Y-7q7k0H",
        "outputId": "de30f030-8237-463d-df7c-594e198ca417"
      },
      "source": [
        "for i in tqdm(range(len(train_fin2[\"AttendingPhysician\"]))):\n",
        "    if pd.isnull(train_fin2[\"OperatingPhysician\"][i])==True and pd.isnull(train_fin2[\"OtherPhysician\"][i])==True:\n",
        "        train_fin2[\"IllnessNature\"][i]= \"simple\"\n",
        "    elif pd.isnull(train_fin2[\"OperatingPhysician\"][i])==True and pd.isnull(train_fin2[\"OtherPhysician\"][i])==False:\n",
        "        train_fin2[\"IllnessNature\"][i]= \"operating\"\n",
        "    elif pd.isnull(train_fin2[\"OperatingPhysician\"][i])==False and pd.isnull(train_fin2[\"OtherPhysician\"][i])==True:\n",
        "        train_fin2[\"IllnessNature\"][i]= \"comorbid\"\n",
        "    elif pd.isnull(train_fin2[\"OperatingPhysician\"][i])==False and pd.isnull(train_fin2[\"OtherPhysician\"][i])==False:\n",
        "        train_fin2[\"IllnessNature\"][i]= \"operating&comorbid\""
      ],
      "execution_count": null,
      "outputs": [
        {
          "output_type": "stream",
          "text": [
            "  0%|          | 0/558211 [00:00<?, ?it/s]/usr/local/lib/python3.7/dist-packages/ipykernel_launcher.py:3: SettingWithCopyWarning: \n",
            "A value is trying to be set on a copy of a slice from a DataFrame\n",
            "\n",
            "See the caveats in the documentation: https://pandas.pydata.org/pandas-docs/stable/user_guide/indexing.html#returning-a-view-versus-a-copy\n",
            "  This is separate from the ipykernel package so we can avoid doing imports until\n",
            "/usr/local/lib/python3.7/dist-packages/ipykernel_launcher.py:7: SettingWithCopyWarning: \n",
            "A value is trying to be set on a copy of a slice from a DataFrame\n",
            "\n",
            "See the caveats in the documentation: https://pandas.pydata.org/pandas-docs/stable/user_guide/indexing.html#returning-a-view-versus-a-copy\n",
            "  import sys\n",
            "/usr/local/lib/python3.7/dist-packages/ipykernel_launcher.py:9: SettingWithCopyWarning: \n",
            "A value is trying to be set on a copy of a slice from a DataFrame\n",
            "\n",
            "See the caveats in the documentation: https://pandas.pydata.org/pandas-docs/stable/user_guide/indexing.html#returning-a-view-versus-a-copy\n",
            "  if __name__ == '__main__':\n",
            "  0%|          | 24/558211 [00:00<39:14, 237.04it/s]/usr/local/lib/python3.7/dist-packages/ipykernel_launcher.py:5: SettingWithCopyWarning: \n",
            "A value is trying to be set on a copy of a slice from a DataFrame\n",
            "\n",
            "See the caveats in the documentation: https://pandas.pydata.org/pandas-docs/stable/user_guide/indexing.html#returning-a-view-versus-a-copy\n",
            "  \"\"\"\n",
            "100%|██████████| 558211/558211 [19:25<00:00, 479.05it/s]\n"
          ],
          "name": "stderr"
        }
      ]
    },
    {
      "cell_type": "code",
      "metadata": {
        "colab": {
          "base_uri": "https://localhost:8080/"
        },
        "id": "lKBVIouGV1vA",
        "outputId": "2decd4c9-b520-4049-91bb-b17ccfe7a993"
      },
      "source": [
        "print(np.unique(train_fin2[\"IllnessNature\"]))"
      ],
      "execution_count": null,
      "outputs": [
        {
          "output_type": "stream",
          "text": [
            "['comorbid' 'operating' 'operating&comorbid' 'simple']\n"
          ],
          "name": "stdout"
        }
      ]
    },
    {
      "cell_type": "code",
      "metadata": {
        "id": "KLofhWMPbPJG"
      },
      "source": [
        "train_fin2.drop(['OperatingPhysician','OtherPhysician'], axis=1,inplace=True)"
      ],
      "execution_count": null,
      "outputs": []
    },
    {
      "cell_type": "code",
      "metadata": {
        "id": "PYSfIMlqbcNh"
      },
      "source": [
        "with open('/content/drive/MyDrive/Colab Notebooks/train_fin3.pkl','wb') as tr_df:\n",
        "    pickle.dump(train_fin2,tr_df)"
      ],
      "execution_count": null,
      "outputs": []
    },
    {
      "cell_type": "code",
      "metadata": {
        "id": "v0K7xON7b4uP"
      },
      "source": [
        "with open('/content/drive/MyDrive/Colab Notebooks/train_fin3.pkl','rb') as tr_df:\n",
        "    train_fin3= pickle.load(tr_df)"
      ],
      "execution_count": 39,
      "outputs": []
    },
    {
      "cell_type": "code",
      "metadata": {
        "colab": {
          "base_uri": "https://localhost:8080/"
        },
        "id": "n_PJhrSbI-Pd",
        "outputId": "cbba61a3-1081-497b-f815-6f9702503893"
      },
      "source": [
        "train_fin3[\"IllnessNature\"].value_counts()"
      ],
      "execution_count": null,
      "outputs": [
        {
          "output_type": "execute_result",
          "data": {
            "text/plain": [
              "simple                288085\n",
              "operating             155679\n",
              "comorbid               70390\n",
              "operating&comorbid     44057\n",
              "Name: IllnessNature, dtype: int64"
            ]
          },
          "metadata": {
            "tags": []
          },
          "execution_count": 231
        }
      ]
    },
    {
      "cell_type": "code",
      "metadata": {
        "colab": {
          "base_uri": "https://localhost:8080/",
          "height": 506
        },
        "id": "Ew1nHCmUcMEM",
        "outputId": "3d69d345-c339-428a-98cd-1087d725e525"
      },
      "source": [
        "print(\"Percetage Split of each of categories in Illness Nature variable\")\n",
        "print(np.round((train_fin3[\"IllnessNature\"].value_counts()/len(train_fin3[\"IllnessNature\"]))*100,2))\n",
        "plt.figure(figsize=(8,6))\n",
        "sns.barplot(x= np.unique(train_fin3[\"IllnessNature\"]), y= (train_fin3[\"IllnessNature\"].value_counts()/len(train_fin3[\"IllnessNature\"])),palette='crest')\n",
        "plt.xlabel(\"Nature of Illness\")\n",
        "plt.ylabel(\"Percenatge of Observations\")\n",
        "plt.title(\"Distribution of the Nature of Illness variable\")\n",
        "plt.show()"
      ],
      "execution_count": null,
      "outputs": [
        {
          "output_type": "stream",
          "text": [
            "Percetage Split of each of categories in Illness Nature variable\n",
            "simple                51.61\n",
            "operating             27.89\n",
            "comorbid              12.61\n",
            "operating&comorbid     7.89\n",
            "Name: IllnessNature, dtype: float64\n"
          ],
          "name": "stdout"
        },
        {
          "output_type": "display_data",
          "data": {
            "image/png": "[encoded data removed]",
            "text/plain": [
              "<Figure size 576x432 with 1 Axes>"
            ]
          },
          "metadata": {
            "tags": [],
            "needs_background": "light"
          }
        }
      ]
    },
    {
      "cell_type": "code",
      "metadata": {
        "colab": {
          "base_uri": "https://localhost:8080/",
          "height": 458
        },
        "id": "THGIxEgncMBQ",
        "outputId": "cd8eba14-67c8-49c5-9892-a38bfb669e3e"
      },
      "source": [
        "plt.figure(figsize=(10,6))\n",
        "sns.distplot(train_fin3[\"AttendingPhysician\"].value_counts())\n",
        "plt.xlabel(\"Attending Physicians\")\n",
        "plt.ylabel(\"Number of AttendingPhysicans\")\n",
        "plt.title(\"Probablity distribution of the Attending Physicians Variable\")\n",
        "plt.show()"
      ],
      "execution_count": null,
      "outputs": [
        {
          "output_type": "stream",
          "text": [
            "/usr/local/lib/python3.7/dist-packages/seaborn/distributions.py:2557: FutureWarning: `distplot` is a deprecated function and will be removed in a future version. Please adapt your code to use either `displot` (a figure-level function with similar flexibility) or `histplot` (an axes-level function for histograms).\n",
            "  warnings.warn(msg, FutureWarning)\n"
          ],
          "name": "stderr"
        },
        {
          "output_type": "display_data",
          "data": {
            "image/png": "[encoded data removed]",
            "text/plain": [
              "<Figure size 720x432 with 1 Axes>"
            ]
          },
          "metadata": {
            "tags": [],
            "needs_background": "light"
          }
        }
      ]
    },
    {
      "cell_type": "code",
      "metadata": {
        "id": "Q1XRdpR1q85Y"
      },
      "source": [
        ""
      ],
      "execution_count": null,
      "outputs": []
    },
    {
      "cell_type": "markdown",
      "metadata": {
        "id": "TcR9U0CsMf9i"
      },
      "source": [
        "##<font color='red'><b>**Feature Engineering**</b></font>\n",
        "\n",
        "#### Extracting the number of days from the claim start date and the claim end dates by taking a difference\n",
        "\n",
        "#### Converting the number of days during which the claim was in process into number of weeks"
      ]
    },
    {
      "cell_type": "code",
      "metadata": {
        "id": "x__fc6Qoq8rN"
      },
      "source": [
        "train_fin3[\"ClaimDays\"]= (pd.to_datetime(train_fin3['ClaimEndDt']) - pd.to_datetime(train_fin3['ClaimStartDt'])).dt.days"
      ],
      "execution_count": 40,
      "outputs": []
    },
    {
      "cell_type": "code",
      "metadata": {
        "id": "NIBwkX-NtXuC"
      },
      "source": [
        "train_fin3.drop(['ClaimEndDt','ClaimStartDt'],axis=1, inplace=True)"
      ],
      "execution_count": 41,
      "outputs": []
    },
    {
      "cell_type": "code",
      "metadata": {
        "colab": {
          "base_uri": "https://localhost:8080/"
        },
        "id": "2mGUOUQzrZXV",
        "outputId": "5e643000-b7ba-4156-ae4c-945ed9f45ddd"
      },
      "source": [
        "train_fin3[\"ClaimDays\"].describe()"
      ],
      "execution_count": 7,
      "outputs": [
        {
          "output_type": "execute_result",
          "data": {
            "text/plain": [
              "count    558211.000000\n",
              "mean          1.727940\n",
              "std           4.904984\n",
              "min           0.000000\n",
              "25%           0.000000\n",
              "50%           0.000000\n",
              "75%           0.000000\n",
              "max          36.000000\n",
              "Name: ClaimDays, dtype: float64"
            ]
          },
          "metadata": {
            "tags": []
          },
          "execution_count": 7
        }
      ]
    },
    {
      "cell_type": "code",
      "metadata": {
        "colab": {
          "base_uri": "https://localhost:8080/",
          "height": 404
        },
        "id": "TwFJxuxir2uk",
        "outputId": "c1c14f0d-c89f-44ac-9bb1-67c4435d1d8e"
      },
      "source": [
        "clmdays= np.unique(train_fin3[\"ClaimDays\"])\n",
        "#print(\"The Total clmdays)\n",
        "per_values= np.round((train_fin3[\"ClaimDays\"].value_counts()/len(train_fin3[\"ClaimDays\"]))*100,2)\n",
        "plt.figure(figsize=(12,6))\n",
        "ax= sns.barplot(x= np.unique(train_fin3[\"ClaimDays\"]),y= per_values,palette='crest')\n",
        "\n",
        "plt.xlabel('Number of Claim Days')\n",
        "plt.ylabel('Percentage each claim day of total claim days')\n",
        "plt.title('Percentage distrbution of various values of Claim Days varible')\n",
        "#plt.grid()\n",
        "plt.show()"
      ],
      "execution_count": 20,
      "outputs": [
        {
          "output_type": "display_data",
          "data": {
            "image/png": "[encoded data removed]",
            "text/plain": [
              "<Figure size 864x432 with 1 Axes>"
            ]
          },
          "metadata": {
            "tags": [],
            "needs_background": "light"
          }
        }
      ]
    },
    {
      "cell_type": "markdown",
      "metadata": {
        "id": "-8GZ2hEY438a"
      },
      "source": [
        "##<font color='green'><b>**Observations**</b></font>\n",
        "#### 1. We see that more than 80% of the claim days are zero and close to 95% of the claim days are less than 7 days. \n",
        "\n",
        "#### 2. Keeping the varibale datatype as floating point value will skew the mean and other distribution related parameters\n",
        "\n",
        "#### 3. Converting the varibale into a Categorical Variable(Ordinal)"
      ]
    },
    {
      "cell_type": "code",
      "metadata": {
        "colab": {
          "base_uri": "https://localhost:8080/"
        },
        "id": "O33oqwBj66o6",
        "outputId": "a131d07d-6055-422d-de40-f55413c385b1"
      },
      "source": [
        "for i in tqdm(range(len(train_fin3['ClaimDays']))):\n",
        "    if train_fin3['ClaimDays'][i]==0:\n",
        "        train_fin3['ClaimDays'][i]=0 \n",
        "    elif train_fin3['ClaimDays'][i]>0 and train_fin3['ClaimDays'][i]<=7:\n",
        "        train_fin3['ClaimDays'][i]= 1\n",
        "    elif train_fin3['ClaimDays'][i]>7 and train_fin3['ClaimDays'][i]<=14:\n",
        "        train_fin3['ClaimDays'][i]= 2\n",
        "    elif train_fin3['ClaimDays'][i]> 14 and train_fin3['ClaimDays'][i]<=21:\n",
        "        train_fin3['ClaimDays'][i]= 3\n",
        "    elif train_fin3['ClaimDays'][i]>21 and train_fin3['ClaimDays'][i]<=28:\n",
        "        train_fin3['ClaimDays'][i]= 4\n",
        "    elif train_fin3['ClaimDays'][i]>28 and train_fin3['ClaimDays'][i]<=35:\n",
        "        train_fin3['ClaimDays'][i]=5\n",
        "    elif train_fin3['ClaimDays'][i]>35:\n",
        "        train_fin3['ClaimDays'][i]=6"
      ],
      "execution_count": 42,
      "outputs": [
        {
          "output_type": "stream",
          "text": [
            "  0%|          | 0/558211 [00:00<?, ?it/s]/usr/local/lib/python3.7/dist-packages/ipykernel_launcher.py:5: SettingWithCopyWarning: \n",
            "A value is trying to be set on a copy of a slice from a DataFrame\n",
            "\n",
            "See the caveats in the documentation: https://pandas.pydata.org/pandas-docs/stable/user_guide/indexing.html#returning-a-view-versus-a-copy\n",
            "  \"\"\"\n",
            "/usr/local/lib/python3.7/dist-packages/ipykernel_launcher.py:3: SettingWithCopyWarning: \n",
            "A value is trying to be set on a copy of a slice from a DataFrame\n",
            "\n",
            "See the caveats in the documentation: https://pandas.pydata.org/pandas-docs/stable/user_guide/indexing.html#returning-a-view-versus-a-copy\n",
            "  This is separate from the ipykernel package so we can avoid doing imports until\n",
            "/usr/local/lib/python3.7/dist-packages/ipykernel_launcher.py:7: SettingWithCopyWarning: \n",
            "A value is trying to be set on a copy of a slice from a DataFrame\n",
            "\n",
            "See the caveats in the documentation: https://pandas.pydata.org/pandas-docs/stable/user_guide/indexing.html#returning-a-view-versus-a-copy\n",
            "  import sys\n",
            "/usr/local/lib/python3.7/dist-packages/ipykernel_launcher.py:9: SettingWithCopyWarning: \n",
            "A value is trying to be set on a copy of a slice from a DataFrame\n",
            "\n",
            "See the caveats in the documentation: https://pandas.pydata.org/pandas-docs/stable/user_guide/indexing.html#returning-a-view-versus-a-copy\n",
            "  if __name__ == '__main__':\n",
            "/usr/local/lib/python3.7/dist-packages/ipykernel_launcher.py:11: SettingWithCopyWarning: \n",
            "A value is trying to be set on a copy of a slice from a DataFrame\n",
            "\n",
            "See the caveats in the documentation: https://pandas.pydata.org/pandas-docs/stable/user_guide/indexing.html#returning-a-view-versus-a-copy\n",
            "  # This is added back by InteractiveShellApp.init_path()\n",
            "  1%|          | 4227/558211 [00:00<00:53, 10335.37it/s]/usr/local/lib/python3.7/dist-packages/ipykernel_launcher.py:13: SettingWithCopyWarning: \n",
            "A value is trying to be set on a copy of a slice from a DataFrame\n",
            "\n",
            "See the caveats in the documentation: https://pandas.pydata.org/pandas-docs/stable/user_guide/indexing.html#returning-a-view-versus-a-copy\n",
            "  del sys.path[0]\n",
            " 11%|█         | 62678/558211 [00:05<00:45, 10798.32it/s]/usr/local/lib/python3.7/dist-packages/ipykernel_launcher.py:15: SettingWithCopyWarning: \n",
            "A value is trying to be set on a copy of a slice from a DataFrame\n",
            "\n",
            "See the caveats in the documentation: https://pandas.pydata.org/pandas-docs/stable/user_guide/indexing.html#returning-a-view-versus-a-copy\n",
            "  from ipykernel import kernelapp as app\n",
            "100%|██████████| 558211/558211 [00:52<00:00, 10606.84it/s]\n"
          ],
          "name": "stderr"
        }
      ]
    },
    {
      "cell_type": "code",
      "metadata": {
        "colab": {
          "base_uri": "https://localhost:8080/"
        },
        "id": "VWjOCI1AzC2L",
        "outputId": "b75dfd8d-b2ab-4eac-beb8-703eeed81327"
      },
      "source": [
        "train_fin3[\"ClaimDays\"].value_counts()"
      ],
      "execution_count": 43,
      "outputs": [
        {
          "output_type": "execute_result",
          "data": {
            "text/plain": [
              "0    453953\n",
              "1     57655\n",
              "3     30415\n",
              "2     15059\n",
              "4       589\n",
              "5       538\n",
              "6         2\n",
              "Name: ClaimDays, dtype: int64"
            ]
          },
          "metadata": {
            "tags": []
          },
          "execution_count": 43
        }
      ]
    },
    {
      "cell_type": "code",
      "metadata": {
        "colab": {
          "base_uri": "https://localhost:8080/",
          "height": 540
        },
        "id": "1nTv0yFnJHLA",
        "outputId": "8c62f816-f79c-411e-f10a-15696dac18ba"
      },
      "source": [
        "clmdays= np.unique(train_fin3[\"ClaimDays\"])\n",
        "#print(\"The Total clmdays)\n",
        "per_values= np.round((train_fin3[\"ClaimDays\"].value_counts()/len(train_fin3[\"ClaimDays\"]))*100,2)\n",
        "print(per_values)\n",
        "plt.figure(figsize=(8,6))\n",
        "ax= sns.barplot(x= np.unique(train_fin3[\"ClaimDays\"]),y= per_values,palette='crest')\n",
        "\n",
        "plt.xlabel('Number of Claim Days')\n",
        "plt.ylabel('Percentage each claim day of total claim days')\n",
        "plt.title('Percentage distrbution of various values of Claim Days varible')\n",
        "#plt.grid()\n",
        "plt.show()"
      ],
      "execution_count": 47,
      "outputs": [
        {
          "output_type": "stream",
          "text": [
            "0    81.32\n",
            "1    10.33\n",
            "3     5.45\n",
            "2     2.70\n",
            "4     0.11\n",
            "5     0.10\n",
            "6     0.00\n",
            "Name: ClaimDays, dtype: float64\n"
          ],
          "name": "stdout"
        },
        {
          "output_type": "display_data",
          "data": {
            "image/png": "[encoded data removed]",
            "text/plain": [
              "<Figure size 576x432 with 1 Axes>"
            ]
          },
          "metadata": {
            "tags": [],
            "needs_background": "light"
          }
        }
      ]
    },
    {
      "cell_type": "code",
      "metadata": {
        "id": "815p4hmqJHDn"
      },
      "source": [
        ""
      ],
      "execution_count": null,
      "outputs": []
    },
    {
      "cell_type": "code",
      "metadata": {
        "colab": {
          "base_uri": "https://localhost:8080/"
        },
        "id": "Jgz2oGXLJG_m",
        "outputId": "ebf94410-e180-4ae6-cc64-bfa49fc16a91"
      },
      "source": [
        "train_fin3.shape"
      ],
      "execution_count": 48,
      "outputs": [
        {
          "output_type": "execute_result",
          "data": {
            "text/plain": [
              "(558211, 44)"
            ]
          },
          "metadata": {
            "tags": []
          },
          "execution_count": 48
        }
      ]
    },
    {
      "cell_type": "code",
      "metadata": {
        "id": "wjb04xBEcL8P",
        "colab": {
          "base_uri": "https://localhost:8080/",
          "height": 309
        },
        "outputId": "28a910ad-b6cf-4209-c21f-f2132365c8d6"
      },
      "source": [
        "train_fin3.head()"
      ],
      "execution_count": 46,
      "outputs": [
        {
          "output_type": "execute_result",
          "data": {
            "text/html": [
              "<div>\n",
              "<style scoped>\n",
              "    .dataframe tbody tr th:only-of-type {\n",
              "        vertical-align: middle;\n",
              "    }\n",
              "\n",
              "    .dataframe tbody tr th {\n",
              "        vertical-align: top;\n",
              "    }\n",
              "\n",
              "    .dataframe thead th {\n",
              "        text-align: right;\n",
              "    }\n",
              "</style>\n",
              "<table border=\"1\" class=\"dataframe\">\n",
              "  <thead>\n",
              "    <tr style=\"text-align: right;\">\n",
              "      <th></th>\n",
              "      <th>BeneID</th>\n",
              "      <th>ClaimID</th>\n",
              "      <th>Provider</th>\n",
              "      <th>InscClaimAmtReimbursed</th>\n",
              "      <th>AttendingPhysician</th>\n",
              "      <th>ClmAdmitDiagnosisCode</th>\n",
              "      <th>DeductibleAmtPaid</th>\n",
              "      <th>DiagnosisGroupCode</th>\n",
              "      <th>ClmDiagnosisCode_1</th>\n",
              "      <th>ClmDiagnosisCode_2</th>\n",
              "      <th>ClmDiagnosisCode_3</th>\n",
              "      <th>ClmDiagnosisCode_4</th>\n",
              "      <th>ClmDiagnosisCode_5</th>\n",
              "      <th>ClmDiagnosisCode_6</th>\n",
              "      <th>ClmDiagnosisCode_7</th>\n",
              "      <th>ClmDiagnosisCode_8</th>\n",
              "      <th>ClmDiagnosisCode_9</th>\n",
              "      <th>DOB</th>\n",
              "      <th>Gender</th>\n",
              "      <th>Race</th>\n",
              "      <th>RenalDiseaseIndicator</th>\n",
              "      <th>State</th>\n",
              "      <th>County</th>\n",
              "      <th>NoOfMonths_PartACov</th>\n",
              "      <th>NoOfMonths_PartBCov</th>\n",
              "      <th>ChronicCond_Alzheimer</th>\n",
              "      <th>ChronicCond_Heartfailure</th>\n",
              "      <th>ChronicCond_KidneyDisease</th>\n",
              "      <th>ChronicCond_Cancer</th>\n",
              "      <th>ChronicCond_ObstrPulmonary</th>\n",
              "      <th>ChronicCond_Depression</th>\n",
              "      <th>ChronicCond_Diabetes</th>\n",
              "      <th>ChronicCond_IschemicHeart</th>\n",
              "      <th>ChronicCond_Osteoporasis</th>\n",
              "      <th>ChronicCond_rheumatoidarthritis</th>\n",
              "      <th>ChronicCond_stroke</th>\n",
              "      <th>IPAnnualReimbursementAmt</th>\n",
              "      <th>IPAnnualDeductibleAmt</th>\n",
              "      <th>OPAnnualReimbursementAmt</th>\n",
              "      <th>OPAnnualDeductibleAmt</th>\n",
              "      <th>PotentialFraud</th>\n",
              "      <th>HospitalDays</th>\n",
              "      <th>IllnessNature</th>\n",
              "      <th>ClaimDays</th>\n",
              "    </tr>\n",
              "  </thead>\n",
              "  <tbody>\n",
              "    <tr>\n",
              "      <th>0</th>\n",
              "      <td>BENE11001</td>\n",
              "      <td>CLM46614</td>\n",
              "      <td>PRV55912</td>\n",
              "      <td>26000</td>\n",
              "      <td>PHY390922</td>\n",
              "      <td>7866</td>\n",
              "      <td>1068.0</td>\n",
              "      <td>201</td>\n",
              "      <td>1970</td>\n",
              "      <td>4019</td>\n",
              "      <td>5853</td>\n",
              "      <td>7843</td>\n",
              "      <td>2768</td>\n",
              "      <td>71590</td>\n",
              "      <td>2724</td>\n",
              "      <td>19889</td>\n",
              "      <td>5849</td>\n",
              "      <td>1943-01-01</td>\n",
              "      <td>1</td>\n",
              "      <td>1</td>\n",
              "      <td>0</td>\n",
              "      <td>39</td>\n",
              "      <td>230</td>\n",
              "      <td>12</td>\n",
              "      <td>12</td>\n",
              "      <td>1</td>\n",
              "      <td>2</td>\n",
              "      <td>1</td>\n",
              "      <td>2</td>\n",
              "      <td>2</td>\n",
              "      <td>1</td>\n",
              "      <td>1</td>\n",
              "      <td>1</td>\n",
              "      <td>2</td>\n",
              "      <td>1</td>\n",
              "      <td>1</td>\n",
              "      <td>36000</td>\n",
              "      <td>3204</td>\n",
              "      <td>60</td>\n",
              "      <td>70</td>\n",
              "      <td>Yes</td>\n",
              "      <td>1.0</td>\n",
              "      <td>simple</td>\n",
              "      <td>1</td>\n",
              "    </tr>\n",
              "    <tr>\n",
              "      <th>1</th>\n",
              "      <td>BENE16973</td>\n",
              "      <td>CLM565430</td>\n",
              "      <td>PRV55912</td>\n",
              "      <td>50</td>\n",
              "      <td>PHY365867</td>\n",
              "      <td>NaN</td>\n",
              "      <td>0.0</td>\n",
              "      <td>NaN</td>\n",
              "      <td>V7183</td>\n",
              "      <td>53081</td>\n",
              "      <td>78959</td>\n",
              "      <td>4280</td>\n",
              "      <td>E8788</td>\n",
              "      <td>78079</td>\n",
              "      <td>79902</td>\n",
              "      <td>25002</td>\n",
              "      <td>71848</td>\n",
              "      <td>1932-05-01</td>\n",
              "      <td>1</td>\n",
              "      <td>1</td>\n",
              "      <td>0</td>\n",
              "      <td>39</td>\n",
              "      <td>310</td>\n",
              "      <td>12</td>\n",
              "      <td>12</td>\n",
              "      <td>1</td>\n",
              "      <td>1</td>\n",
              "      <td>1</td>\n",
              "      <td>2</td>\n",
              "      <td>2</td>\n",
              "      <td>2</td>\n",
              "      <td>2</td>\n",
              "      <td>1</td>\n",
              "      <td>2</td>\n",
              "      <td>2</td>\n",
              "      <td>2</td>\n",
              "      <td>24000</td>\n",
              "      <td>2136</td>\n",
              "      <td>450</td>\n",
              "      <td>200</td>\n",
              "      <td>Yes</td>\n",
              "      <td>0.0</td>\n",
              "      <td>comorbid</td>\n",
              "      <td>0</td>\n",
              "    </tr>\n",
              "    <tr>\n",
              "      <th>2</th>\n",
              "      <td>BENE17521</td>\n",
              "      <td>CLM34721</td>\n",
              "      <td>PRV55912</td>\n",
              "      <td>19000</td>\n",
              "      <td>PHY349293</td>\n",
              "      <td>45340</td>\n",
              "      <td>1068.0</td>\n",
              "      <td>987</td>\n",
              "      <td>4240</td>\n",
              "      <td>2639</td>\n",
              "      <td>2948</td>\n",
              "      <td>40390</td>\n",
              "      <td>45821</td>\n",
              "      <td>28489</td>\n",
              "      <td>5854</td>\n",
              "      <td>2753</td>\n",
              "      <td>E9305</td>\n",
              "      <td>1913-12-01</td>\n",
              "      <td>2</td>\n",
              "      <td>1</td>\n",
              "      <td>0</td>\n",
              "      <td>39</td>\n",
              "      <td>230</td>\n",
              "      <td>12</td>\n",
              "      <td>12</td>\n",
              "      <td>1</td>\n",
              "      <td>1</td>\n",
              "      <td>1</td>\n",
              "      <td>2</td>\n",
              "      <td>1</td>\n",
              "      <td>2</td>\n",
              "      <td>2</td>\n",
              "      <td>1</td>\n",
              "      <td>2</td>\n",
              "      <td>2</td>\n",
              "      <td>2</td>\n",
              "      <td>19000</td>\n",
              "      <td>1068</td>\n",
              "      <td>100</td>\n",
              "      <td>20</td>\n",
              "      <td>Yes</td>\n",
              "      <td>2.0</td>\n",
              "      <td>operating&amp;comorbid</td>\n",
              "      <td>2</td>\n",
              "    </tr>\n",
              "    <tr>\n",
              "      <th>3</th>\n",
              "      <td>BENE21718</td>\n",
              "      <td>CLM72336</td>\n",
              "      <td>PRV55912</td>\n",
              "      <td>17000</td>\n",
              "      <td>PHY334706</td>\n",
              "      <td>V5789</td>\n",
              "      <td>1068.0</td>\n",
              "      <td>941</td>\n",
              "      <td>V5789</td>\n",
              "      <td>4168</td>\n",
              "      <td>73313</td>\n",
              "      <td>7812</td>\n",
              "      <td>7993</td>\n",
              "      <td>78830</td>\n",
              "      <td>72273</td>\n",
              "      <td>43812</td>\n",
              "      <td>4019</td>\n",
              "      <td>1922-10-01</td>\n",
              "      <td>1</td>\n",
              "      <td>1</td>\n",
              "      <td>0</td>\n",
              "      <td>39</td>\n",
              "      <td>600</td>\n",
              "      <td>12</td>\n",
              "      <td>12</td>\n",
              "      <td>2</td>\n",
              "      <td>2</td>\n",
              "      <td>2</td>\n",
              "      <td>2</td>\n",
              "      <td>2</td>\n",
              "      <td>2</td>\n",
              "      <td>2</td>\n",
              "      <td>1</td>\n",
              "      <td>1</td>\n",
              "      <td>2</td>\n",
              "      <td>2</td>\n",
              "      <td>17000</td>\n",
              "      <td>1068</td>\n",
              "      <td>1050</td>\n",
              "      <td>540</td>\n",
              "      <td>Yes</td>\n",
              "      <td>3.0</td>\n",
              "      <td>comorbid</td>\n",
              "      <td>3</td>\n",
              "    </tr>\n",
              "    <tr>\n",
              "      <th>4</th>\n",
              "      <td>BENE22934</td>\n",
              "      <td>CLM73394</td>\n",
              "      <td>PRV55912</td>\n",
              "      <td>13000</td>\n",
              "      <td>PHY390614</td>\n",
              "      <td>71946</td>\n",
              "      <td>1068.0</td>\n",
              "      <td>506</td>\n",
              "      <td>71535</td>\n",
              "      <td>71960</td>\n",
              "      <td>4019</td>\n",
              "      <td>V1202</td>\n",
              "      <td>4240</td>\n",
              "      <td>2449</td>\n",
              "      <td>2768</td>\n",
              "      <td>NaN</td>\n",
              "      <td>NaN</td>\n",
              "      <td>1930-07-01</td>\n",
              "      <td>2</td>\n",
              "      <td>1</td>\n",
              "      <td>0</td>\n",
              "      <td>39</td>\n",
              "      <td>280</td>\n",
              "      <td>12</td>\n",
              "      <td>12</td>\n",
              "      <td>2</td>\n",
              "      <td>1</td>\n",
              "      <td>2</td>\n",
              "      <td>2</td>\n",
              "      <td>1</td>\n",
              "      <td>2</td>\n",
              "      <td>1</td>\n",
              "      <td>1</td>\n",
              "      <td>1</td>\n",
              "      <td>1</td>\n",
              "      <td>2</td>\n",
              "      <td>27000</td>\n",
              "      <td>2136</td>\n",
              "      <td>450</td>\n",
              "      <td>160</td>\n",
              "      <td>Yes</td>\n",
              "      <td>1.0</td>\n",
              "      <td>operating&amp;comorbid</td>\n",
              "      <td>1</td>\n",
              "    </tr>\n",
              "  </tbody>\n",
              "</table>\n",
              "</div>"
            ],
            "text/plain": [
              "      BeneID    ClaimID  Provider  ...  HospitalDays       IllnessNature ClaimDays\n",
              "0  BENE11001   CLM46614  PRV55912  ...           1.0              simple         1\n",
              "1  BENE16973  CLM565430  PRV55912  ...           0.0            comorbid         0\n",
              "2  BENE17521   CLM34721  PRV55912  ...           2.0  operating&comorbid         2\n",
              "3  BENE21718   CLM72336  PRV55912  ...           3.0            comorbid         3\n",
              "4  BENE22934   CLM73394  PRV55912  ...           1.0  operating&comorbid         1\n",
              "\n",
              "[5 rows x 44 columns]"
            ]
          },
          "metadata": {
            "tags": []
          },
          "execution_count": 46
        }
      ]
    },
    {
      "cell_type": "code",
      "metadata": {
        "colab": {
          "base_uri": "https://localhost:8080/"
        },
        "id": "gmqq-_D_uF9U",
        "outputId": "7643d3c6-6036-4b12-d44d-c8730198b4c9"
      },
      "source": [
        "print(train_fin3['DiagnosisGroupCode'].value_counts())"
      ],
      "execution_count": 50,
      "outputs": [
        {
          "output_type": "stream",
          "text": [
            "882    179\n",
            "884    174\n",
            "166    168\n",
            "183    165\n",
            "939    163\n",
            "      ... \n",
            "927      1\n",
            "934      1\n",
            "955      1\n",
            "765      1\n",
            "775      1\n",
            "Name: DiagnosisGroupCode, Length: 736, dtype: int64\n"
          ],
          "name": "stdout"
        }
      ]
    },
    {
      "cell_type": "code",
      "metadata": {
        "colab": {
          "base_uri": "https://localhost:8080/"
        },
        "id": "sPR7nMd9uF1d",
        "outputId": "1431e97b-affa-47a5-d7f5-0d9acae8b762"
      },
      "source": [
        "print(train_fin3['DiagnosisGroupCode'].describe())"
      ],
      "execution_count": 52,
      "outputs": [
        {
          "output_type": "stream",
          "text": [
            "count     40474\n",
            "unique      736\n",
            "top         882\n",
            "freq        179\n",
            "Name: DiagnosisGroupCode, dtype: object\n"
          ],
          "name": "stdout"
        }
      ]
    },
    {
      "cell_type": "code",
      "metadata": {
        "id": "5Z_r3II2uFxB"
      },
      "source": [
        ""
      ],
      "execution_count": null,
      "outputs": []
    },
    {
      "cell_type": "code",
      "metadata": {
        "colab": {
          "base_uri": "https://localhost:8080/"
        },
        "id": "wMjhVQvVIX9o",
        "outputId": "56455365-48bb-4b31-8efe-65787b0308a2"
      },
      "source": [
        "print(na_perc_df)"
      ],
      "execution_count": null,
      "outputs": [
        {
          "output_type": "stream",
          "text": [
            "                 col_name  na_percentage\n",
            "0      AttendingPhysician           0.27\n",
            "1      OperatingPhysician          79.50\n",
            "2          OtherPhysician          64.22\n",
            "3             AdmissionDt          92.75\n",
            "4   ClmAdmitDiagnosisCode          73.86\n",
            "5       DeductibleAmtPaid           0.16\n",
            "6             DischargeDt          92.75\n",
            "7      DiagnosisGroupCode          92.75\n",
            "8      ClmDiagnosisCode_1           1.87\n",
            "9      ClmDiagnosisCode_2          35.04\n",
            "10     ClmDiagnosisCode_3          56.46\n",
            "11     ClmDiagnosisCode_4          70.52\n",
            "12     ClmDiagnosisCode_5          79.95\n",
            "13     ClmDiagnosisCode_6          84.88\n",
            "14     ClmDiagnosisCode_7          88.14\n",
            "15     ClmDiagnosisCode_8          90.43\n",
            "16     ClmDiagnosisCode_9          92.51\n",
            "17    ClmDiagnosisCode_10          99.10\n",
            "18     ClmProcedureCode_1          95.82\n",
            "19     ClmProcedureCode_2          99.02\n",
            "20     ClmProcedureCode_3          99.83\n",
            "21     ClmProcedureCode_4          99.98\n",
            "22     ClmProcedureCode_5         100.00\n",
            "23     ClmProcedureCode_6         100.00\n",
            "24                    DOD          99.26\n"
          ],
          "name": "stdout"
        }
      ]
    },
    {
      "cell_type": "code",
      "metadata": {
        "colab": {
          "base_uri": "https://localhost:8080/"
        },
        "id": "RU5ls3CwFrIO",
        "outputId": "ed58e7d4-c6cc-4315-ac6b-c00bcac39367"
      },
      "source": [
        "na_col=[]\n",
        "for i in range(na_perc_df.shape[0]):\n",
        "    if na_perc_df.iloc[i,1]>95:\n",
        "        na_col.append(i)  \n",
        "\n",
        "print(na_col)"
      ],
      "execution_count": null,
      "outputs": [
        {
          "output_type": "stream",
          "text": [
            "[17, 18, 19, 20, 21, 22, 23, 24]\n"
          ],
          "name": "stdout"
        }
      ]
    },
    {
      "cell_type": "code",
      "metadata": {
        "colab": {
          "base_uri": "https://localhost:8080/"
        },
        "id": "5PtqKIviDlhG",
        "outputId": "18c9476b-3ddf-4159-a79e-a10ae5bcbfb7"
      },
      "source": [
        "na_perc_df.drop(index=na_col,inplace=True)\n",
        "print(na_perc_df)"
      ],
      "execution_count": null,
      "outputs": [
        {
          "output_type": "stream",
          "text": [
            "                 col_name  na_percentage\n",
            "0      AttendingPhysician           0.27\n",
            "1      OperatingPhysician          79.50\n",
            "2          OtherPhysician          64.22\n",
            "3             AdmissionDt          92.75\n",
            "4   ClmAdmitDiagnosisCode          73.86\n",
            "5       DeductibleAmtPaid           0.16\n",
            "6             DischargeDt          92.75\n",
            "7      DiagnosisGroupCode          92.75\n",
            "8      ClmDiagnosisCode_1           1.87\n",
            "9      ClmDiagnosisCode_2          35.04\n",
            "10     ClmDiagnosisCode_3          56.46\n",
            "11     ClmDiagnosisCode_4          70.52\n",
            "12     ClmDiagnosisCode_5          79.95\n",
            "13     ClmDiagnosisCode_6          84.88\n",
            "14     ClmDiagnosisCode_7          88.14\n",
            "15     ClmDiagnosisCode_8          90.43\n",
            "16     ClmDiagnosisCode_9          92.51\n"
          ],
          "name": "stdout"
        }
      ]
    },
    {
      "cell_type": "code",
      "metadata": {
        "colab": {
          "base_uri": "https://localhost:8080/",
          "height": 404
        },
        "id": "3clQE8X3FrD9",
        "outputId": "4d216e6f-9f89-4c22-e055-ff310147a867"
      },
      "source": [
        "plt.figure(figsize=(6,6))\n",
        "ax= sns.barplot(y= na_perc_df['col_name'],x= na_perc_df['na_percentage'],palette='crest')\n",
        "\n",
        "plt.ylabel(\"Name of the Column\")\n",
        "plt.xlabel(\"Percentage of the NA values\")\n",
        "plt.title(\"Percenate of NA values in each of the columns of the Training Datasets\")\n",
        "\n",
        "#Source: https://medium.com/@dey.mallika/transform-your-graphs-with-seaborn-ea4fa8e606a6\n",
        "initialx=0\n",
        "for p in ax.patches:\n",
        "    ax.text(p.get_width(),initialx+p.get_height()/8,'{:1.0f}'.format(p.get_width()))\n",
        "    initialx+=1\n",
        "plt.show()"
      ],
      "execution_count": null,
      "outputs": [
        {
          "output_type": "display_data",
          "data": {
            "image/png": "[encoded data removed]",
            "text/plain": [
              "<Figure size 432x432 with 1 Axes>"
            ]
          },
          "metadata": {
            "tags": [],
            "needs_background": "light"
          }
        }
      ]
    },
    {
      "cell_type": "code",
      "metadata": {
        "id": "_wMzo6-FFq-w"
      },
      "source": [
        ""
      ],
      "execution_count": null,
      "outputs": []
    },
    {
      "cell_type": "markdown",
      "metadata": {
        "id": "JRK6FSFrJHEg"
      },
      "source": [
        "##<font color='green'><b>**Observations:**</b></font>\n",
        "\n",
        "#### 1. We see that after dropping some columns with more than 95% NA values,the NA values for the columns are in various ranges of percentages and different datatypes.\n",
        "\n",
        "#### 2. Hence we need to adopt different strategies to impute to suit the datatypes and percentage of NA values.\n",
        "\n",
        "#### 3. There is only one Float feature \"Deductible Amount\" with about 0.16% of NA values, hence a simple mean imputation will be adopted\n",
        "\n",
        "#### 4. All the remaining features with NA values are the categorical datatypes with varying percentages of NA values. A simple \"Mode\" or \"Most Frequent\" strategy will be adopted for the varibles with NA percentages of less than 5%.\n",
        "\n",
        "#### 5. In accordance point 4, we willbe using the \"Mode\" strategy for the imputation of \"Attending Physician\" and \"ClmDiagnosisCode_1\" variables. "
      ]
    },
    {
      "cell_type": "code",
      "metadata": {
        "id": "NSvgP78sEVgh"
      },
      "source": [
        ""
      ],
      "execution_count": null,
      "outputs": []
    },
    {
      "cell_type": "markdown",
      "metadata": {
        "id": "vtTBG1uaPFaD"
      },
      "source": [
        "###<font color='blue'><b>Mean strategy imputation of the \"DeductibleAmtPaid\" variable (float datatype)</b></font>"
      ]
    },
    {
      "cell_type": "code",
      "metadata": {
        "id": "GiK2tlkaONH-"
      },
      "source": [
        "num_imp= SimpleImputer(missing_values=np.nan, strategy= 'mean')\n",
        "train_fin[\"DeductibleAmtPaid\"]= num_imp.fit_transform(train_fin['DeductibleAmtPaid'].values.reshape(-1,1))[:,0]"
      ],
      "execution_count": null,
      "outputs": []
    },
    {
      "cell_type": "markdown",
      "metadata": {
        "id": "KeULmDDMQHUu"
      },
      "source": [
        "###<font color='blue'><b>Mode strategy imputation of the \"AttendingPhysician\" and \"ClmDiagnosisCode_1\" variable (Categorical/String datatype)</b></font>"
      ]
    },
    {
      "cell_type": "code",
      "metadata": {
        "id": "qYN1-ewCONBd"
      },
      "source": [
        "cat_imp= SimpleImputer(missing_values= np.nan, strategy= 'most_frequent')\n",
        "train_fin[\"AttendingPhysician\"]= cat_imp.fit_transform(train_fin['AttendingPhysician'].values.reshape(-1,1))[:,0]\n",
        "train_fin[\"ClmDiagnosisCode_1\"]= cat_imp.fit_transform(train_fin['ClmDiagnosisCode_1'].values.reshape(-1,1))[:,0]"
      ],
      "execution_count": null,
      "outputs": []
    },
    {
      "cell_type": "code",
      "metadata": {
        "colab": {
          "base_uri": "https://localhost:8080/"
        },
        "id": "WCZVMJGpOM93",
        "outputId": "5d1c1b25-4f84-46b9-d4bf-83d5c5bf4d23"
      },
      "source": [
        "na_perc_df.drop(index=[0,5,8],inplace=True)\n",
        "na_perc_df.reset_index(drop=True,inplace=True)\n",
        "print(na_perc_df)"
      ],
      "execution_count": null,
      "outputs": [
        {
          "output_type": "stream",
          "text": [
            "                col_name  na_percentage\n",
            "0     OperatingPhysician          79.50\n",
            "1         OtherPhysician          64.22\n",
            "2  ClmAdmitDiagnosisCode          73.86\n",
            "3     ClmDiagnosisCode_2          35.04\n",
            "4     ClmDiagnosisCode_3          56.46\n",
            "5     ClmDiagnosisCode_4          70.52\n",
            "6     ClmDiagnosisCode_5          79.95\n",
            "7     ClmDiagnosisCode_6          84.88\n"
          ],
          "name": "stdout"
        }
      ]
    },
    {
      "cell_type": "code",
      "metadata": {
        "colab": {
          "base_uri": "https://localhost:8080/",
          "height": 404
        },
        "id": "uSoFEz8FSOAt",
        "outputId": "bd594ee0-c971-43b7-f19e-24a16c3bcbdf"
      },
      "source": [
        "plt.figure(figsize=(6,6))\n",
        "ax= sns.barplot(y= na_perc_df['col_name'],x= na_perc_df['na_percentage'],palette='crest')\n",
        "\n",
        "plt.ylabel(\"Name of the Column\")\n",
        "plt.xlabel(\"Percentage of the NA values\")\n",
        "plt.title(\"Percenate of NA values in each of the columns of the Training Datasets\")\n",
        "\n",
        "#Source: https://medium.com/@dey.mallika/transform-your-graphs-with-seaborn-ea4fa8e606a6\n",
        "initialx=0\n",
        "for p in ax.patches:\n",
        "    ax.text(p.get_width(),initialx+p.get_height()/8,'{:1.0f}'.format(p.get_width()))\n",
        "    initialx+=1\n",
        "plt.show()"
      ],
      "execution_count": null,
      "outputs": [
        {
          "output_type": "display_data",
          "data": {
            "image/png": "[encoded data removed]",
            "text/plain": [
              "<Figure size 432x432 with 1 Axes>"
            ]
          },
          "metadata": {
            "tags": [],
            "needs_background": "light"
          }
        }
      ]
    },
    {
      "cell_type": "code",
      "metadata": {
        "id": "Apm5a2JESN9E"
      },
      "source": [
        ""
      ],
      "execution_count": null,
      "outputs": []
    },
    {
      "cell_type": "markdown",
      "metadata": {
        "id": "6ss25cGfUyKW"
      },
      "source": [
        "##<font color='green'><b>**Observations:**</b></font>\n",
        "\n",
        "#### 1. We observe that all the remaining columns wiht NA values are of the Object or the string datatype with varying percentages of NA values.\n",
        "\n",
        "#### 2. All the missing or NA values in the columns with NA percenate greater than 70% will be imputed or replaced wiht a custom class called \"missing\". As we do not have enough information in each of the columns to use any of the exisitng imputation techniques might introduce Bias in the data. \n",
        "\n",
        "####Columns to be imputed with \"Missing\": [OperatingPhysician,ClmAdmitDiagnosisCode, ClmDiagnosisCode_4,ClmDiagnosisCode_5,ClmDiagnosisCode_5]\n",
        "\n",
        "#### 3. The columns with \"NA\" values between 35% and 70% will be imputed using the KNN imputer\n",
        "\n",
        "####Columns to be imputed with \"KNN\": [ClmDiagnosisCode_2,ClmDiagnosisCode_3,OtherPhysician]\n",
        "\n"
      ]
    },
    {
      "cell_type": "code",
      "metadata": {
        "id": "bTj-ep1RTG_S"
      },
      "source": [
        "train_fin[\"OperatingPhysician\"]= train_fin[\"OperatingPhysician\"].fillna('missing')\n",
        "train_fin[\"ClmAdmitDiagnosisCode\"]= train_fin[\"ClmAdmitDiagnosisCode\"].fillna('missing')\n",
        "train_fin[\"ClmDiagnosisCode_4\"]= train_fin[\"ClmDiagnosisCode_4\"].fillna('missing')\n",
        "train_fin[\"ClmDiagnosisCode_5\"]= train_fin[\"ClmDiagnosisCode_5\"].fillna('missing')\n",
        "train_fin[\"ClmDiagnosisCode_6\"]= train_fin[\"ClmDiagnosisCode_6\"].fillna('missing') "
      ],
      "execution_count": null,
      "outputs": []
    },
    {
      "cell_type": "code",
      "metadata": {
        "id": "2lqY2SGNcVqU"
      },
      "source": [
        "with open('/content/drive/MyDrive/Colab Notebooks/train_fin.pkl','wb') as tr_df:\n",
        "    pickle.dump(train_fin,tr_df)"
      ],
      "execution_count": null,
      "outputs": []
    },
    {
      "cell_type": "code",
      "metadata": {
        "id": "9OUrCKDPcVli"
      },
      "source": [
        "with open('/content/drive/MyDrive/Colab Notebooks/train_fin.pkl','rb') as tr_df:\n",
        "    train_fin= pickle.load(tr_df)"
      ],
      "execution_count": null,
      "outputs": []
    },
    {
      "cell_type": "code",
      "metadata": {
        "colab": {
          "base_uri": "https://localhost:8080/"
        },
        "id": "rbkBjUc7cVhX",
        "outputId": "b20face8-e413-4cef-b0d2-68212a744def"
      },
      "source": [
        "train_fin.info()"
      ],
      "execution_count": null,
      "outputs": [
        {
          "output_type": "stream",
          "text": [
            "<class 'pandas.core.frame.DataFrame'>\n",
            "Int64Index: 558211 entries, 0 to 558210\n",
            "Data columns (total 41 columns):\n",
            " #   Column                           Non-Null Count   Dtype  \n",
            "---  ------                           --------------   -----  \n",
            " 0   BeneID                           558211 non-null  object \n",
            " 1   ClaimID                          558211 non-null  object \n",
            " 2   ClaimStartDt                     558211 non-null  object \n",
            " 3   ClaimEndDt                       558211 non-null  object \n",
            " 4   Provider                         558211 non-null  object \n",
            " 5   InscClaimAmtReimbursed           558211 non-null  int64  \n",
            " 6   AttendingPhysician               558211 non-null  object \n",
            " 7   OperatingPhysician               558211 non-null  object \n",
            " 8   OtherPhysician                   199736 non-null  object \n",
            " 9   ClmAdmitDiagnosisCode            558211 non-null  object \n",
            " 10  DeductibleAmtPaid                558211 non-null  float64\n",
            " 11  ClmDiagnosisCode_1               558211 non-null  object \n",
            " 12  ClmDiagnosisCode_2               362605 non-null  object \n",
            " 13  ClmDiagnosisCode_3               243055 non-null  object \n",
            " 14  ClmDiagnosisCode_4               558211 non-null  object \n",
            " 15  ClmDiagnosisCode_5               558211 non-null  object \n",
            " 16  ClmDiagnosisCode_6               558211 non-null  object \n",
            " 17  DOB                              558211 non-null  object \n",
            " 18  Gender                           558211 non-null  int64  \n",
            " 19  Race                             558211 non-null  int64  \n",
            " 20  RenalDiseaseIndicator            558211 non-null  object \n",
            " 21  State                            558211 non-null  int64  \n",
            " 22  County                           558211 non-null  int64  \n",
            " 23  NoOfMonths_PartACov              558211 non-null  int64  \n",
            " 24  NoOfMonths_PartBCov              558211 non-null  int64  \n",
            " 25  ChronicCond_Alzheimer            558211 non-null  int64  \n",
            " 26  ChronicCond_Heartfailure         558211 non-null  int64  \n",
            " 27  ChronicCond_KidneyDisease        558211 non-null  int64  \n",
            " 28  ChronicCond_Cancer               558211 non-null  int64  \n",
            " 29  ChronicCond_ObstrPulmonary       558211 non-null  int64  \n",
            " 30  ChronicCond_Depression           558211 non-null  int64  \n",
            " 31  ChronicCond_Diabetes             558211 non-null  int64  \n",
            " 32  ChronicCond_IschemicHeart        558211 non-null  int64  \n",
            " 33  ChronicCond_Osteoporasis         558211 non-null  int64  \n",
            " 34  ChronicCond_rheumatoidarthritis  558211 non-null  int64  \n",
            " 35  ChronicCond_stroke               558211 non-null  int64  \n",
            " 36  IPAnnualReimbursementAmt         558211 non-null  int64  \n",
            " 37  IPAnnualDeductibleAmt            558211 non-null  int64  \n",
            " 38  OPAnnualReimbursementAmt         558211 non-null  int64  \n",
            " 39  OPAnnualDeductibleAmt            558211 non-null  int64  \n",
            " 40  PotentialFraud                   558211 non-null  object \n",
            "dtypes: float64(1), int64(22), object(18)\n",
            "memory usage: 178.9+ MB\n"
          ],
          "name": "stdout"
        }
      ]
    },
    {
      "cell_type": "code",
      "metadata": {
        "id": "-iFEofl2EVXr",
        "colab": {
          "base_uri": "https://localhost:8080/",
          "height": 309
        },
        "outputId": "f720345a-6759-499b-a698-bf2be77941d7"
      },
      "source": [
        "train_fin.head()"
      ],
      "execution_count": null,
      "outputs": [
        {
          "output_type": "execute_result",
          "data": {
            "text/html": [
              "<div>\n",
              "<style scoped>\n",
              "    .dataframe tbody tr th:only-of-type {\n",
              "        vertical-align: middle;\n",
              "    }\n",
              "\n",
              "    .dataframe tbody tr th {\n",
              "        vertical-align: top;\n",
              "    }\n",
              "\n",
              "    .dataframe thead th {\n",
              "        text-align: right;\n",
              "    }\n",
              "</style>\n",
              "<table border=\"1\" class=\"dataframe\">\n",
              "  <thead>\n",
              "    <tr style=\"text-align: right;\">\n",
              "      <th></th>\n",
              "      <th>BeneID</th>\n",
              "      <th>ClaimID</th>\n",
              "      <th>ClaimStartDt</th>\n",
              "      <th>ClaimEndDt</th>\n",
              "      <th>Provider</th>\n",
              "      <th>InscClaimAmtReimbursed</th>\n",
              "      <th>AttendingPhysician</th>\n",
              "      <th>OperatingPhysician</th>\n",
              "      <th>OtherPhysician</th>\n",
              "      <th>ClmAdmitDiagnosisCode</th>\n",
              "      <th>DeductibleAmtPaid</th>\n",
              "      <th>ClmDiagnosisCode_1</th>\n",
              "      <th>ClmDiagnosisCode_2</th>\n",
              "      <th>ClmDiagnosisCode_3</th>\n",
              "      <th>ClmDiagnosisCode_4</th>\n",
              "      <th>ClmDiagnosisCode_5</th>\n",
              "      <th>ClmDiagnosisCode_6</th>\n",
              "      <th>DOB</th>\n",
              "      <th>Gender</th>\n",
              "      <th>Race</th>\n",
              "      <th>RenalDiseaseIndicator</th>\n",
              "      <th>State</th>\n",
              "      <th>County</th>\n",
              "      <th>NoOfMonths_PartACov</th>\n",
              "      <th>NoOfMonths_PartBCov</th>\n",
              "      <th>ChronicCond_Alzheimer</th>\n",
              "      <th>ChronicCond_Heartfailure</th>\n",
              "      <th>ChronicCond_KidneyDisease</th>\n",
              "      <th>ChronicCond_Cancer</th>\n",
              "      <th>ChronicCond_ObstrPulmonary</th>\n",
              "      <th>ChronicCond_Depression</th>\n",
              "      <th>ChronicCond_Diabetes</th>\n",
              "      <th>ChronicCond_IschemicHeart</th>\n",
              "      <th>ChronicCond_Osteoporasis</th>\n",
              "      <th>ChronicCond_rheumatoidarthritis</th>\n",
              "      <th>ChronicCond_stroke</th>\n",
              "      <th>IPAnnualReimbursementAmt</th>\n",
              "      <th>IPAnnualDeductibleAmt</th>\n",
              "      <th>OPAnnualReimbursementAmt</th>\n",
              "      <th>OPAnnualDeductibleAmt</th>\n",
              "      <th>PotentialFraud</th>\n",
              "    </tr>\n",
              "  </thead>\n",
              "  <tbody>\n",
              "    <tr>\n",
              "      <th>0</th>\n",
              "      <td>BENE11001</td>\n",
              "      <td>CLM46614</td>\n",
              "      <td>2009-04-12</td>\n",
              "      <td>2009-04-18</td>\n",
              "      <td>PRV55912</td>\n",
              "      <td>26000</td>\n",
              "      <td>PHY390922</td>\n",
              "      <td>missing</td>\n",
              "      <td>NaN</td>\n",
              "      <td>7866</td>\n",
              "      <td>1068.0</td>\n",
              "      <td>1970</td>\n",
              "      <td>4019</td>\n",
              "      <td>5853</td>\n",
              "      <td>7843</td>\n",
              "      <td>2768</td>\n",
              "      <td>71590</td>\n",
              "      <td>1943-01-01</td>\n",
              "      <td>1</td>\n",
              "      <td>1</td>\n",
              "      <td>0</td>\n",
              "      <td>39</td>\n",
              "      <td>230</td>\n",
              "      <td>12</td>\n",
              "      <td>12</td>\n",
              "      <td>1</td>\n",
              "      <td>2</td>\n",
              "      <td>1</td>\n",
              "      <td>2</td>\n",
              "      <td>2</td>\n",
              "      <td>1</td>\n",
              "      <td>1</td>\n",
              "      <td>1</td>\n",
              "      <td>2</td>\n",
              "      <td>1</td>\n",
              "      <td>1</td>\n",
              "      <td>36000</td>\n",
              "      <td>3204</td>\n",
              "      <td>60</td>\n",
              "      <td>70</td>\n",
              "      <td>Yes</td>\n",
              "    </tr>\n",
              "    <tr>\n",
              "      <th>1</th>\n",
              "      <td>BENE16973</td>\n",
              "      <td>CLM565430</td>\n",
              "      <td>2009-09-06</td>\n",
              "      <td>2009-09-06</td>\n",
              "      <td>PRV55912</td>\n",
              "      <td>50</td>\n",
              "      <td>PHY365867</td>\n",
              "      <td>PHY327147</td>\n",
              "      <td>NaN</td>\n",
              "      <td>missing</td>\n",
              "      <td>0.0</td>\n",
              "      <td>V7183</td>\n",
              "      <td>53081</td>\n",
              "      <td>78959</td>\n",
              "      <td>4280</td>\n",
              "      <td>E8788</td>\n",
              "      <td>78079</td>\n",
              "      <td>1932-05-01</td>\n",
              "      <td>1</td>\n",
              "      <td>1</td>\n",
              "      <td>0</td>\n",
              "      <td>39</td>\n",
              "      <td>310</td>\n",
              "      <td>12</td>\n",
              "      <td>12</td>\n",
              "      <td>1</td>\n",
              "      <td>1</td>\n",
              "      <td>1</td>\n",
              "      <td>2</td>\n",
              "      <td>2</td>\n",
              "      <td>2</td>\n",
              "      <td>2</td>\n",
              "      <td>1</td>\n",
              "      <td>2</td>\n",
              "      <td>2</td>\n",
              "      <td>2</td>\n",
              "      <td>24000</td>\n",
              "      <td>2136</td>\n",
              "      <td>450</td>\n",
              "      <td>200</td>\n",
              "      <td>Yes</td>\n",
              "    </tr>\n",
              "    <tr>\n",
              "      <th>2</th>\n",
              "      <td>BENE17521</td>\n",
              "      <td>CLM34721</td>\n",
              "      <td>2009-01-20</td>\n",
              "      <td>2009-02-01</td>\n",
              "      <td>PRV55912</td>\n",
              "      <td>19000</td>\n",
              "      <td>PHY349293</td>\n",
              "      <td>PHY370861</td>\n",
              "      <td>PHY363291</td>\n",
              "      <td>45340</td>\n",
              "      <td>1068.0</td>\n",
              "      <td>4240</td>\n",
              "      <td>2639</td>\n",
              "      <td>2948</td>\n",
              "      <td>40390</td>\n",
              "      <td>45821</td>\n",
              "      <td>28489</td>\n",
              "      <td>1913-12-01</td>\n",
              "      <td>2</td>\n",
              "      <td>1</td>\n",
              "      <td>0</td>\n",
              "      <td>39</td>\n",
              "      <td>230</td>\n",
              "      <td>12</td>\n",
              "      <td>12</td>\n",
              "      <td>1</td>\n",
              "      <td>1</td>\n",
              "      <td>1</td>\n",
              "      <td>2</td>\n",
              "      <td>1</td>\n",
              "      <td>2</td>\n",
              "      <td>2</td>\n",
              "      <td>1</td>\n",
              "      <td>2</td>\n",
              "      <td>2</td>\n",
              "      <td>2</td>\n",
              "      <td>19000</td>\n",
              "      <td>1068</td>\n",
              "      <td>100</td>\n",
              "      <td>20</td>\n",
              "      <td>Yes</td>\n",
              "    </tr>\n",
              "    <tr>\n",
              "      <th>3</th>\n",
              "      <td>BENE21718</td>\n",
              "      <td>CLM72336</td>\n",
              "      <td>2009-10-17</td>\n",
              "      <td>2009-11-04</td>\n",
              "      <td>PRV55912</td>\n",
              "      <td>17000</td>\n",
              "      <td>PHY334706</td>\n",
              "      <td>PHY334706</td>\n",
              "      <td>NaN</td>\n",
              "      <td>V5789</td>\n",
              "      <td>1068.0</td>\n",
              "      <td>V5789</td>\n",
              "      <td>4168</td>\n",
              "      <td>73313</td>\n",
              "      <td>7812</td>\n",
              "      <td>7993</td>\n",
              "      <td>78830</td>\n",
              "      <td>1922-10-01</td>\n",
              "      <td>1</td>\n",
              "      <td>1</td>\n",
              "      <td>0</td>\n",
              "      <td>39</td>\n",
              "      <td>600</td>\n",
              "      <td>12</td>\n",
              "      <td>12</td>\n",
              "      <td>2</td>\n",
              "      <td>2</td>\n",
              "      <td>2</td>\n",
              "      <td>2</td>\n",
              "      <td>2</td>\n",
              "      <td>2</td>\n",
              "      <td>2</td>\n",
              "      <td>1</td>\n",
              "      <td>1</td>\n",
              "      <td>2</td>\n",
              "      <td>2</td>\n",
              "      <td>17000</td>\n",
              "      <td>1068</td>\n",
              "      <td>1050</td>\n",
              "      <td>540</td>\n",
              "      <td>Yes</td>\n",
              "    </tr>\n",
              "    <tr>\n",
              "      <th>4</th>\n",
              "      <td>BENE22934</td>\n",
              "      <td>CLM73394</td>\n",
              "      <td>2009-10-25</td>\n",
              "      <td>2009-10-29</td>\n",
              "      <td>PRV55912</td>\n",
              "      <td>13000</td>\n",
              "      <td>PHY390614</td>\n",
              "      <td>PHY323689</td>\n",
              "      <td>PHY363291</td>\n",
              "      <td>71946</td>\n",
              "      <td>1068.0</td>\n",
              "      <td>71535</td>\n",
              "      <td>71960</td>\n",
              "      <td>4019</td>\n",
              "      <td>V1202</td>\n",
              "      <td>4240</td>\n",
              "      <td>2449</td>\n",
              "      <td>1930-07-01</td>\n",
              "      <td>2</td>\n",
              "      <td>1</td>\n",
              "      <td>0</td>\n",
              "      <td>39</td>\n",
              "      <td>280</td>\n",
              "      <td>12</td>\n",
              "      <td>12</td>\n",
              "      <td>2</td>\n",
              "      <td>1</td>\n",
              "      <td>2</td>\n",
              "      <td>2</td>\n",
              "      <td>1</td>\n",
              "      <td>2</td>\n",
              "      <td>1</td>\n",
              "      <td>1</td>\n",
              "      <td>1</td>\n",
              "      <td>1</td>\n",
              "      <td>2</td>\n",
              "      <td>27000</td>\n",
              "      <td>2136</td>\n",
              "      <td>450</td>\n",
              "      <td>160</td>\n",
              "      <td>Yes</td>\n",
              "    </tr>\n",
              "  </tbody>\n",
              "</table>\n",
              "</div>"
            ],
            "text/plain": [
              "      BeneID    ClaimID  ... OPAnnualDeductibleAmt PotentialFraud\n",
              "0  BENE11001   CLM46614  ...                    70            Yes\n",
              "1  BENE16973  CLM565430  ...                   200            Yes\n",
              "2  BENE17521   CLM34721  ...                    20            Yes\n",
              "3  BENE21718   CLM72336  ...                   540            Yes\n",
              "4  BENE22934   CLM73394  ...                   160            Yes\n",
              "\n",
              "[5 rows x 41 columns]"
            ]
          },
          "metadata": {
            "tags": []
          },
          "execution_count": 85
        }
      ]
    },
    {
      "cell_type": "code",
      "metadata": {
        "id": "PmZnYa4qEVUw"
      },
      "source": [
        "train_fin[\"ClaimDays\"]=train_fin[\"ClaimEndDt\"]-train_fin['ClaimStartDt']\n"
      ],
      "execution_count": null,
      "outputs": []
    },
    {
      "cell_type": "code",
      "metadata": {
        "id": "5geJtNQbEVRm"
      },
      "source": [
        "with open('')"
      ],
      "execution_count": null,
      "outputs": []
    },
    {
      "cell_type": "markdown",
      "metadata": {
        "id": "ccw-iXU7G59D"
      },
      "source": [
        "##Univariate Analysis of the Inpatient Data"
      ]
    },
    {
      "cell_type": "code",
      "metadata": {
        "colab": {
          "base_uri": "https://localhost:8080/",
          "height": 673
        },
        "id": "asDHAr6iGls_",
        "outputId": "ae4fdafd-ee15-4a10-8c50-793335a5a4e9"
      },
      "source": [
        "plt.figure(figsize=(10,10))\n",
        "\n",
        "plt.subplot(2,1,1)\n",
        "sns.distplot(tr_inpat_new['Provider'].value_counts())\n",
        "plt.xlabel(\"Providers\")\n",
        "plt.ylabel(\"Number of Inpatients for each provider\")\n",
        "plt.title(\"Probablity distribution of the Provider Variable in the Inpatient File\")\n",
        "plt.show()\n",
        "\n",
        "plt.figure(figsize=(10,10))\n",
        "plt.subplot(2,1,2)\n",
        "counts,bin_edges= np.histogram(tr_inpat_new['Provider'].value_counts(),bins=30)\n",
        "pdf= counts/sum(counts)\n",
        "cdf= np.cumsum(pdf)\n",
        "plt.plot(bin_edges[1:],cdf)\n",
        "plt.ylabel('Cumulative Probability')\n",
        "plt.title('Cumulative Distribution of the Provider Variable in the Inpatient File')\n",
        "plt.show()"
      ],
      "execution_count": null,
      "outputs": [
        {
          "output_type": "stream",
          "text": [
            "/usr/local/lib/python3.7/dist-packages/seaborn/distributions.py:2557: FutureWarning: `distplot` is a deprecated function and will be removed in a future version. Please adapt your code to use either `displot` (a figure-level function with similar flexibility) or `histplot` (an axes-level function for histograms).\n",
            "  warnings.warn(msg, FutureWarning)\n"
          ],
          "name": "stderr"
        },
        {
          "output_type": "display_data",
          "data": {
            "image/png": "[encoded data removed]",
            "text/plain": [
              "<Figure size 720x720 with 1 Axes>"
            ]
          },
          "metadata": {
            "tags": []
          }
        },
        {
          "output_type": "display_data",
          "data": {
            "image/png": "[encoded data removed]",
            "text/plain": [
              "<Figure size 720x720 with 1 Axes>"
            ]
          },
          "metadata": {
            "tags": []
          }
        }
      ]
    },
    {
      "cell_type": "markdown",
      "metadata": {
        "id": "VDMtZpebxZhv"
      },
      "source": [
        "We see from the Cumulative distribution function that about 95% of the providers have 75 or fewer occurences of claims in the Inpatient Data while the most number of claims i.e. 100 and above occurences have been tagged to 5% or less number of Provider IDs"
      ]
    },
    {
      "cell_type": "code",
      "metadata": {
        "colab": {
          "base_uri": "https://localhost:8080/",
          "height": 673
        },
        "id": "Z5XLFJGkLhS6",
        "outputId": "e23f405d-06d0-4ed2-e625-f5d2aff92d09"
      },
      "source": [
        "plt.figure(figsize=(10,10))\n",
        "\n",
        "plt.subplot(2,1,1)\n",
        "sns.distplot(tr_inpat_new['AttendingPhysician'].value_counts())\n",
        "plt.xlabel(\"Attending Physicians\")\n",
        "plt.ylabel(\"Number of Inpatients for each Attending Physicians\")\n",
        "plt.title(\"Probablity distribution of the Attending Physician Variable in the Inpatient File\")\n",
        "plt.show()\n",
        "\n",
        "plt.figure(figsize=(10,10))\n",
        "plt.subplot(2,1,2)\n",
        "counts,bin_edges= np.histogram(tr_inpat_new['AttendingPhysician'].value_counts(),bins=30)\n",
        "pdf= counts/sum(counts)\n",
        "cdf= np.cumsum(pdf)\n",
        "plt.plot(bin_edges[1:],cdf)\n",
        "plt.ylabel('Cumulative Probability')\n",
        "plt.title('Cumulative Distribution of the Attending Physician Variable in the Inpatient File')\n",
        "plt.show()"
      ],
      "execution_count": null,
      "outputs": [
        {
          "output_type": "stream",
          "text": [
            "/usr/local/lib/python3.7/dist-packages/seaborn/distributions.py:2557: FutureWarning: `distplot` is a deprecated function and will be removed in a future version. Please adapt your code to use either `displot` (a figure-level function with similar flexibility) or `histplot` (an axes-level function for histograms).\n",
            "  warnings.warn(msg, FutureWarning)\n"
          ],
          "name": "stderr"
        },
        {
          "output_type": "display_data",
          "data": {
            "image/png": "[encoded data removed]",
            "text/plain": [
              "<Figure size 720x720 with 1 Axes>"
            ]
          },
          "metadata": {
            "tags": []
          }
        },
        {
          "output_type": "display_data",
          "data": {
            "image/png": "[encoded data removed]",
            "text/plain": [
              "<Figure size 720x720 with 1 Axes>"
            ]
          },
          "metadata": {
            "tags": []
          }
        }
      ]
    },
    {
      "cell_type": "code",
      "metadata": {
        "id": "3Zfu4GX98tA0"
      },
      "source": [
        "plt.figure(figsize=(10,10))\n",
        "\n",
        "plt.subplot(2,1,1)\n",
        "sns.distplot(tr_inpat_new['OperatingPhysician'].value_counts())\n",
        "plt.xlabel(\"Operating Physicians\")\n",
        "plt.ylabel(\"Number of Inpatients for each Operating Physicians\")\n",
        "plt.title(\"Probablity distribution of the Operating Physician Variable in the Inpatient File\")\n",
        "plt.show()\n",
        "\n",
        "plt.figure(figsize=(10,10))\n",
        "plt.subplot(2,1,2)\n",
        "counts,bin_edges= np.histogram(tr_inpat_new['OperatingPhysician'].value_counts(),bins=10)\n",
        "pdf= counts/sum(counts)\n",
        "cdf= np.cumsum(pdf)\n",
        "plt.plot(bin_edges[1:],cdf)\n",
        "plt.ylabel('Cumulative Probability')\n",
        "plt.title('Cumulative Distribution of the Operating Physician Variable in the Inpatient File')\n",
        "plt.show()"
      ],
      "execution_count": null,
      "outputs": []
    },
    {
      "cell_type": "code",
      "metadata": {
        "colab": {
          "base_uri": "https://localhost:8080/",
          "height": 673
        },
        "id": "ITQ9xn6HREAx",
        "outputId": "cb68573c-6c71-40fe-8e74-54fb3063a622"
      },
      "source": [
        "plt.figure(figsize=(10,10))\n",
        "\n",
        "plt.subplot(2,1,1)\n",
        "sns.distplot(tr_inpat_new['InscClaimAmtReimbursed'].value_counts())\n",
        "plt.xlabel(\"Insuracne Claim Amount Reimbursed\")\n",
        "plt.ylabel(\"Number of Inpatients\")\n",
        "plt.title(\"Probablity distribution of the Attending Physician Variable in the Inpatient File\")\n",
        "plt.show()\n",
        "\n",
        "plt.figure(figsize=(10,10))\n",
        "plt.subplot(2,1,2)\n",
        "counts,bin_edges= np.histogram(tr_inpat_new['InscClaimAmtReimbursed'].value_counts(),bins=30)\n",
        "pdf= counts/sum(counts)\n",
        "cdf= np.cumsum(pdf)\n",
        "plt.plot(bin_edges[1:],cdf)\n",
        "plt.ylabel('Cumulative Probability')\n",
        "plt.title('Cumulative Distribution of the Attending Physician Variable in the Inpatient File')\n",
        "plt.show()"
      ],
      "execution_count": null,
      "outputs": [
        {
          "output_type": "stream",
          "text": [
            "/usr/local/lib/python3.7/dist-packages/seaborn/distributions.py:2557: FutureWarning: `distplot` is a deprecated function and will be removed in a future version. Please adapt your code to use either `displot` (a figure-level function with similar flexibility) or `histplot` (an axes-level function for histograms).\n",
            "  warnings.warn(msg, FutureWarning)\n"
          ],
          "name": "stderr"
        },
        {
          "output_type": "display_data",
          "data": {
            "image/png": "[encoded data removed]",
            "text/plain": [
              "<Figure size 720x720 with 1 Axes>"
            ]
          },
          "metadata": {
            "tags": []
          }
        },
        {
          "output_type": "display_data",
          "data": {
            "image/png": "[encoded data removed]",
            "text/plain": [
              "<Figure size 720x720 with 1 Axes>"
            ]
          },
          "metadata": {
            "tags": []
          }
        }
      ]
    },
    {
      "cell_type": "markdown",
      "metadata": {
        "id": "_3YNrS3-U4mj"
      },
      "source": [
        "**Checking for the Number of Unique values in the Deductible Amount Column.**"
      ]
    },
    {
      "cell_type": "code",
      "metadata": {
        "colab": {
          "base_uri": "https://localhost:8080/"
        },
        "id": "m0NDGQFEP5Y_",
        "outputId": "841e6fdd-5427-4964-8251-de5bdf0d35d5"
      },
      "source": [
        "len(np.unique(np.array(tr_inpat_new['DeductibleAmtPaid'])))"
      ],
      "execution_count": null,
      "outputs": [
        {
          "output_type": "execute_result",
          "data": {
            "text/plain": [
              "1"
            ]
          },
          "metadata": {
            "tags": []
          },
          "execution_count": 14
        }
      ]
    },
    {
      "cell_type": "markdown",
      "metadata": {
        "id": "27wwL4QXUYaL"
      },
      "source": [
        "There is just the one value across all the rows in the Inpatient dataset, hence dropping the column completely as the column is not adding any variance to the classification of the dependent variable."
      ]
    },
    {
      "cell_type": "code",
      "metadata": {
        "id": "zL-X2o7PUWZb"
      },
      "source": [
        "tr_inpat_new.drop(['DeductibleAmtPaid'], axis=1, inplace= True)"
      ],
      "execution_count": null,
      "outputs": []
    },
    {
      "cell_type": "code",
      "metadata": {
        "colab": {
          "base_uri": "https://localhost:8080/",
          "height": 162
        },
        "id": "gH-zeaoHVPe9",
        "outputId": "1d9c4e39-26ac-4a2f-f47f-9e0d3987627d"
      },
      "source": [
        "tr_inpat_new.head(3)"
      ],
      "execution_count": null,
      "outputs": [
        {
          "output_type": "execute_result",
          "data": {
            "text/html": [
              "<div>\n",
              "<style scoped>\n",
              "    .dataframe tbody tr th:only-of-type {\n",
              "        vertical-align: middle;\n",
              "    }\n",
              "\n",
              "    .dataframe tbody tr th {\n",
              "        vertical-align: top;\n",
              "    }\n",
              "\n",
              "    .dataframe thead th {\n",
              "        text-align: right;\n",
              "    }\n",
              "</style>\n",
              "<table border=\"1\" class=\"dataframe\">\n",
              "  <thead>\n",
              "    <tr style=\"text-align: right;\">\n",
              "      <th></th>\n",
              "      <th>BeneID</th>\n",
              "      <th>ClaimID</th>\n",
              "      <th>ClaimStartDt</th>\n",
              "      <th>ClaimEndDt</th>\n",
              "      <th>Provider</th>\n",
              "      <th>InscClaimAmtReimbursed</th>\n",
              "      <th>AttendingPhysician</th>\n",
              "      <th>OperatingPhysician</th>\n",
              "      <th>AdmissionDt</th>\n",
              "      <th>ClmAdmitDiagnosisCode</th>\n",
              "      <th>DischargeDt</th>\n",
              "      <th>DiagnosisGroupCode</th>\n",
              "      <th>ClmDiagnosisCode_1</th>\n",
              "      <th>ClmDiagnosisCode_2</th>\n",
              "      <th>ClmDiagnosisCode_3</th>\n",
              "      <th>ClmDiagnosisCode_4</th>\n",
              "      <th>ClmDiagnosisCode_5</th>\n",
              "      <th>ClmDiagnosisCode_6</th>\n",
              "      <th>ClmDiagnosisCode_7</th>\n",
              "      <th>ClmDiagnosisCode_8</th>\n",
              "      <th>ClmDiagnosisCode_9</th>\n",
              "      <th>ClmProcedureCode_1</th>\n",
              "      <th>class</th>\n",
              "    </tr>\n",
              "  </thead>\n",
              "  <tbody>\n",
              "    <tr>\n",
              "      <th>0</th>\n",
              "      <td>BENE11001</td>\n",
              "      <td>CLM46614</td>\n",
              "      <td>2009-04-12</td>\n",
              "      <td>2009-04-18</td>\n",
              "      <td>PRV55912</td>\n",
              "      <td>26000</td>\n",
              "      <td>PHY390922</td>\n",
              "      <td>missing</td>\n",
              "      <td>2009-04-12</td>\n",
              "      <td>7866</td>\n",
              "      <td>2009-04-18</td>\n",
              "      <td>201</td>\n",
              "      <td>1970</td>\n",
              "      <td>4019</td>\n",
              "      <td>5853</td>\n",
              "      <td>7843</td>\n",
              "      <td>2768</td>\n",
              "      <td>71590</td>\n",
              "      <td>2724</td>\n",
              "      <td>19889</td>\n",
              "      <td>5849</td>\n",
              "      <td>missing</td>\n",
              "      <td>Yes</td>\n",
              "    </tr>\n",
              "    <tr>\n",
              "      <th>1</th>\n",
              "      <td>BENE11001</td>\n",
              "      <td>CLM66048</td>\n",
              "      <td>2009-08-31</td>\n",
              "      <td>2009-09-02</td>\n",
              "      <td>PRV55907</td>\n",
              "      <td>5000</td>\n",
              "      <td>PHY318495</td>\n",
              "      <td>PHY318495</td>\n",
              "      <td>2009-08-31</td>\n",
              "      <td>6186</td>\n",
              "      <td>2009-09-02</td>\n",
              "      <td>750</td>\n",
              "      <td>6186</td>\n",
              "      <td>2948</td>\n",
              "      <td>56400</td>\n",
              "      <td>4019</td>\n",
              "      <td>4019</td>\n",
              "      <td>4019</td>\n",
              "      <td>4019</td>\n",
              "      <td>missing</td>\n",
              "      <td>missing</td>\n",
              "      <td>7092</td>\n",
              "      <td>No</td>\n",
              "    </tr>\n",
              "    <tr>\n",
              "      <th>2</th>\n",
              "      <td>BENE11001</td>\n",
              "      <td>CLM68358</td>\n",
              "      <td>2009-09-17</td>\n",
              "      <td>2009-09-20</td>\n",
              "      <td>PRV56046</td>\n",
              "      <td>5000</td>\n",
              "      <td>PHY372395</td>\n",
              "      <td>missing</td>\n",
              "      <td>2009-09-17</td>\n",
              "      <td>29590</td>\n",
              "      <td>2009-09-20</td>\n",
              "      <td>883</td>\n",
              "      <td>29623</td>\n",
              "      <td>30390</td>\n",
              "      <td>71690</td>\n",
              "      <td>34590</td>\n",
              "      <td>V1581</td>\n",
              "      <td>32723</td>\n",
              "      <td>4019</td>\n",
              "      <td>missing</td>\n",
              "      <td>missing</td>\n",
              "      <td>missing</td>\n",
              "      <td>No</td>\n",
              "    </tr>\n",
              "  </tbody>\n",
              "</table>\n",
              "</div>"
            ],
            "text/plain": [
              "      BeneID   ClaimID ClaimStartDt  ... ClmDiagnosisCode_9 ClmProcedureCode_1  class\n",
              "0  BENE11001  CLM46614   2009-04-12  ...               5849            missing    Yes\n",
              "1  BENE11001  CLM66048   2009-08-31  ...            missing               7092     No\n",
              "2  BENE11001  CLM68358   2009-09-17  ...            missing            missing     No\n",
              "\n",
              "[3 rows x 23 columns]"
            ]
          },
          "metadata": {
            "tags": []
          },
          "execution_count": 17
        }
      ]
    },
    {
      "cell_type": "code",
      "metadata": {
        "colab": {
          "base_uri": "https://localhost:8080/"
        },
        "id": "mk8w68itZGsk",
        "outputId": "95e08387-0281-4a00-dc36-2e822eaf4bae"
      },
      "source": [
        "tr_inpat_new.info()"
      ],
      "execution_count": null,
      "outputs": [
        {
          "output_type": "stream",
          "text": [
            "<class 'pandas.core.frame.DataFrame'>\n",
            "RangeIndex: 40474 entries, 0 to 40473\n",
            "Data columns (total 23 columns):\n",
            " #   Column                  Non-Null Count  Dtype         \n",
            "---  ------                  --------------  -----         \n",
            " 0   BeneID                  40474 non-null  object        \n",
            " 1   ClaimID                 40474 non-null  object        \n",
            " 2   ClaimStartDt            40474 non-null  datetime64[ns]\n",
            " 3   ClaimEndDt              40474 non-null  datetime64[ns]\n",
            " 4   Provider                40474 non-null  object        \n",
            " 5   InscClaimAmtReimbursed  40474 non-null  int64         \n",
            " 6   AttendingPhysician      40474 non-null  object        \n",
            " 7   OperatingPhysician      40474 non-null  object        \n",
            " 8   AdmissionDt             40474 non-null  datetime64[ns]\n",
            " 9   ClmAdmitDiagnosisCode   40474 non-null  object        \n",
            " 10  DischargeDt             40474 non-null  datetime64[ns]\n",
            " 11  DiagnosisGroupCode      40474 non-null  object        \n",
            " 12  ClmDiagnosisCode_1      40474 non-null  object        \n",
            " 13  ClmDiagnosisCode_2      40474 non-null  object        \n",
            " 14  ClmDiagnosisCode_3      40474 non-null  object        \n",
            " 15  ClmDiagnosisCode_4      40474 non-null  object        \n",
            " 16  ClmDiagnosisCode_5      40474 non-null  object        \n",
            " 17  ClmDiagnosisCode_6      40474 non-null  object        \n",
            " 18  ClmDiagnosisCode_7      40474 non-null  object        \n",
            " 19  ClmDiagnosisCode_8      40474 non-null  object        \n",
            " 20  ClmDiagnosisCode_9      40474 non-null  object        \n",
            " 21  ClmProcedureCode_1      40474 non-null  object        \n",
            " 22  class                   40474 non-null  object        \n",
            "dtypes: datetime64[ns](4), int64(1), object(18)\n",
            "memory usage: 7.1+ MB\n"
          ],
          "name": "stdout"
        }
      ]
    },
    {
      "cell_type": "code",
      "metadata": {
        "id": "QYQAlMY0Vdm6"
      },
      "source": [
        "tr_inpat_new[\"days_admission\"]= tr_inpat_new['DischargeDt']-tr_inpat_new['AdmissionDt']\n",
        "tr_inpat_new[\"days_of_claim\"]= tr_inpat_new['ClaimEndDt']-tr_inpat_new['ClaimStartDt']"
      ],
      "execution_count": null,
      "outputs": []
    },
    {
      "cell_type": "code",
      "metadata": {
        "id": "nQDD-5kQWK4C"
      },
      "source": [
        "tr_inpat_new[\"days_admission\"]= tr_inpat_new[\"days_admission\"].dt.days\n",
        "tr_inpat_new[\"days_of_claim\"]= tr_inpat_new[\"days_of_claim\"].dt.days"
      ],
      "execution_count": null,
      "outputs": []
    },
    {
      "cell_type": "code",
      "metadata": {
        "id": "z4mJRsTUamBm"
      },
      "source": [
        "tr_inpat_new.drop(['DischargeDt','AdmissionDt','ClaimEndDt','ClaimStartDt'], axis=1, inplace= True)"
      ],
      "execution_count": null,
      "outputs": []
    },
    {
      "cell_type": "code",
      "metadata": {
        "colab": {
          "base_uri": "https://localhost:8080/",
          "height": 162
        },
        "id": "P0Mf-sR7cwrb",
        "outputId": "5bf838d6-40ce-49bb-e1fe-0295babea63f"
      },
      "source": [
        "tr_inpat_new.head(3)"
      ],
      "execution_count": null,
      "outputs": [
        {
          "output_type": "execute_result",
          "data": {
            "text/html": [
              "<div>\n",
              "<style scoped>\n",
              "    .dataframe tbody tr th:only-of-type {\n",
              "        vertical-align: middle;\n",
              "    }\n",
              "\n",
              "    .dataframe tbody tr th {\n",
              "        vertical-align: top;\n",
              "    }\n",
              "\n",
              "    .dataframe thead th {\n",
              "        text-align: right;\n",
              "    }\n",
              "</style>\n",
              "<table border=\"1\" class=\"dataframe\">\n",
              "  <thead>\n",
              "    <tr style=\"text-align: right;\">\n",
              "      <th></th>\n",
              "      <th>BeneID</th>\n",
              "      <th>ClaimID</th>\n",
              "      <th>Provider</th>\n",
              "      <th>InscClaimAmtReimbursed</th>\n",
              "      <th>AttendingPhysician</th>\n",
              "      <th>OperatingPhysician</th>\n",
              "      <th>ClmAdmitDiagnosisCode</th>\n",
              "      <th>DiagnosisGroupCode</th>\n",
              "      <th>ClmDiagnosisCode_1</th>\n",
              "      <th>ClmDiagnosisCode_2</th>\n",
              "      <th>ClmDiagnosisCode_3</th>\n",
              "      <th>ClmDiagnosisCode_4</th>\n",
              "      <th>ClmDiagnosisCode_5</th>\n",
              "      <th>ClmDiagnosisCode_6</th>\n",
              "      <th>ClmDiagnosisCode_7</th>\n",
              "      <th>ClmDiagnosisCode_8</th>\n",
              "      <th>ClmDiagnosisCode_9</th>\n",
              "      <th>ClmProcedureCode_1</th>\n",
              "      <th>class</th>\n",
              "      <th>days_admission</th>\n",
              "      <th>days_of_claim</th>\n",
              "    </tr>\n",
              "  </thead>\n",
              "  <tbody>\n",
              "    <tr>\n",
              "      <th>0</th>\n",
              "      <td>BENE11001</td>\n",
              "      <td>CLM46614</td>\n",
              "      <td>PRV55912</td>\n",
              "      <td>26000</td>\n",
              "      <td>PHY390922</td>\n",
              "      <td>missing</td>\n",
              "      <td>7866</td>\n",
              "      <td>201</td>\n",
              "      <td>1970</td>\n",
              "      <td>4019</td>\n",
              "      <td>5853</td>\n",
              "      <td>7843</td>\n",
              "      <td>2768</td>\n",
              "      <td>71590</td>\n",
              "      <td>2724</td>\n",
              "      <td>19889</td>\n",
              "      <td>5849</td>\n",
              "      <td>missing</td>\n",
              "      <td>Yes</td>\n",
              "      <td>6</td>\n",
              "      <td>6</td>\n",
              "    </tr>\n",
              "    <tr>\n",
              "      <th>1</th>\n",
              "      <td>BENE11001</td>\n",
              "      <td>CLM66048</td>\n",
              "      <td>PRV55907</td>\n",
              "      <td>5000</td>\n",
              "      <td>PHY318495</td>\n",
              "      <td>PHY318495</td>\n",
              "      <td>6186</td>\n",
              "      <td>750</td>\n",
              "      <td>6186</td>\n",
              "      <td>2948</td>\n",
              "      <td>56400</td>\n",
              "      <td>4019</td>\n",
              "      <td>4019</td>\n",
              "      <td>4019</td>\n",
              "      <td>4019</td>\n",
              "      <td>missing</td>\n",
              "      <td>missing</td>\n",
              "      <td>7092</td>\n",
              "      <td>No</td>\n",
              "      <td>2</td>\n",
              "      <td>2</td>\n",
              "    </tr>\n",
              "    <tr>\n",
              "      <th>2</th>\n",
              "      <td>BENE11001</td>\n",
              "      <td>CLM68358</td>\n",
              "      <td>PRV56046</td>\n",
              "      <td>5000</td>\n",
              "      <td>PHY372395</td>\n",
              "      <td>missing</td>\n",
              "      <td>29590</td>\n",
              "      <td>883</td>\n",
              "      <td>29623</td>\n",
              "      <td>30390</td>\n",
              "      <td>71690</td>\n",
              "      <td>34590</td>\n",
              "      <td>V1581</td>\n",
              "      <td>32723</td>\n",
              "      <td>4019</td>\n",
              "      <td>missing</td>\n",
              "      <td>missing</td>\n",
              "      <td>missing</td>\n",
              "      <td>No</td>\n",
              "      <td>3</td>\n",
              "      <td>3</td>\n",
              "    </tr>\n",
              "  </tbody>\n",
              "</table>\n",
              "</div>"
            ],
            "text/plain": [
              "      BeneID   ClaimID  Provider  ...  class days_admission days_of_claim\n",
              "0  BENE11001  CLM46614  PRV55912  ...    Yes              6             6\n",
              "1  BENE11001  CLM66048  PRV55907  ...     No              2             2\n",
              "2  BENE11001  CLM68358  PRV56046  ...     No              3             3\n",
              "\n",
              "[3 rows x 21 columns]"
            ]
          },
          "metadata": {
            "tags": []
          },
          "execution_count": 41
        }
      ]
    },
    {
      "cell_type": "code",
      "metadata": {
        "id": "6u9JmYN0czMd"
      },
      "source": [
        "with open('/content/drive/MyDrive/Colab Notebooks/tr_inp_new.pkl', 'wb') as inp_new:\n",
        "    pickle.dump(tr_inpat_new,inp_new)"
      ],
      "execution_count": null,
      "outputs": []
    },
    {
      "cell_type": "code",
      "metadata": {
        "id": "lwEihrG9qZdV"
      },
      "source": [
        "with open('/content/drive/MyDrive/Colab Notebooks/tr_inp_new.pkl', 'rb') as inp_new:\n",
        "    tr_inp_new= pickle.load(inp_new)"
      ],
      "execution_count": null,
      "outputs": []
    },
    {
      "cell_type": "markdown",
      "metadata": {
        "id": "Id_FQyy2eAZ8"
      },
      "source": [
        "##**Analysis of the Outpatient Dataset**"
      ]
    },
    {
      "cell_type": "code",
      "metadata": {
        "colab": {
          "base_uri": "https://localhost:8080/",
          "height": 162
        },
        "id": "w5M3T_TXeHq4",
        "outputId": "78244d6f-da59-45b3-9f1a-e39af490ad5b"
      },
      "source": [
        "train_outpat.head(3)"
      ],
      "execution_count": null,
      "outputs": [
        {
          "output_type": "execute_result",
          "data": {
            "text/html": [
              "<div>\n",
              "<style scoped>\n",
              "    .dataframe tbody tr th:only-of-type {\n",
              "        vertical-align: middle;\n",
              "    }\n",
              "\n",
              "    .dataframe tbody tr th {\n",
              "        vertical-align: top;\n",
              "    }\n",
              "\n",
              "    .dataframe thead th {\n",
              "        text-align: right;\n",
              "    }\n",
              "</style>\n",
              "<table border=\"1\" class=\"dataframe\">\n",
              "  <thead>\n",
              "    <tr style=\"text-align: right;\">\n",
              "      <th></th>\n",
              "      <th>BeneID</th>\n",
              "      <th>ClaimID</th>\n",
              "      <th>ClaimStartDt</th>\n",
              "      <th>ClaimEndDt</th>\n",
              "      <th>Provider</th>\n",
              "      <th>InscClaimAmtReimbursed</th>\n",
              "      <th>AttendingPhysician</th>\n",
              "      <th>OperatingPhysician</th>\n",
              "      <th>OtherPhysician</th>\n",
              "      <th>ClmDiagnosisCode_1</th>\n",
              "      <th>ClmDiagnosisCode_2</th>\n",
              "      <th>ClmDiagnosisCode_3</th>\n",
              "      <th>ClmDiagnosisCode_4</th>\n",
              "      <th>ClmDiagnosisCode_5</th>\n",
              "      <th>ClmDiagnosisCode_6</th>\n",
              "      <th>ClmDiagnosisCode_7</th>\n",
              "      <th>ClmDiagnosisCode_8</th>\n",
              "      <th>ClmDiagnosisCode_9</th>\n",
              "      <th>ClmDiagnosisCode_10</th>\n",
              "      <th>ClmProcedureCode_1</th>\n",
              "      <th>ClmProcedureCode_2</th>\n",
              "      <th>ClmProcedureCode_3</th>\n",
              "      <th>ClmProcedureCode_4</th>\n",
              "      <th>ClmProcedureCode_5</th>\n",
              "      <th>ClmProcedureCode_6</th>\n",
              "      <th>DeductibleAmtPaid</th>\n",
              "      <th>ClmAdmitDiagnosisCode</th>\n",
              "    </tr>\n",
              "  </thead>\n",
              "  <tbody>\n",
              "    <tr>\n",
              "      <th>0</th>\n",
              "      <td>BENE11002</td>\n",
              "      <td>CLM624349</td>\n",
              "      <td>2009-10-11</td>\n",
              "      <td>2009-10-11</td>\n",
              "      <td>PRV56011</td>\n",
              "      <td>30</td>\n",
              "      <td>PHY326117</td>\n",
              "      <td>NaN</td>\n",
              "      <td>NaN</td>\n",
              "      <td>78943</td>\n",
              "      <td>V5866</td>\n",
              "      <td>V1272</td>\n",
              "      <td>NaN</td>\n",
              "      <td>NaN</td>\n",
              "      <td>NaN</td>\n",
              "      <td>NaN</td>\n",
              "      <td>NaN</td>\n",
              "      <td>NaN</td>\n",
              "      <td>NaN</td>\n",
              "      <td>NaN</td>\n",
              "      <td>NaN</td>\n",
              "      <td>NaN</td>\n",
              "      <td>NaN</td>\n",
              "      <td>NaN</td>\n",
              "      <td>NaN</td>\n",
              "      <td>0</td>\n",
              "      <td>56409</td>\n",
              "    </tr>\n",
              "    <tr>\n",
              "      <th>1</th>\n",
              "      <td>BENE11003</td>\n",
              "      <td>CLM189947</td>\n",
              "      <td>2009-02-12</td>\n",
              "      <td>2009-02-12</td>\n",
              "      <td>PRV57610</td>\n",
              "      <td>80</td>\n",
              "      <td>PHY362868</td>\n",
              "      <td>NaN</td>\n",
              "      <td>NaN</td>\n",
              "      <td>6115</td>\n",
              "      <td>NaN</td>\n",
              "      <td>NaN</td>\n",
              "      <td>NaN</td>\n",
              "      <td>NaN</td>\n",
              "      <td>NaN</td>\n",
              "      <td>NaN</td>\n",
              "      <td>NaN</td>\n",
              "      <td>NaN</td>\n",
              "      <td>NaN</td>\n",
              "      <td>NaN</td>\n",
              "      <td>NaN</td>\n",
              "      <td>NaN</td>\n",
              "      <td>NaN</td>\n",
              "      <td>NaN</td>\n",
              "      <td>NaN</td>\n",
              "      <td>0</td>\n",
              "      <td>79380</td>\n",
              "    </tr>\n",
              "    <tr>\n",
              "      <th>2</th>\n",
              "      <td>BENE11003</td>\n",
              "      <td>CLM438021</td>\n",
              "      <td>2009-06-27</td>\n",
              "      <td>2009-06-27</td>\n",
              "      <td>PRV57595</td>\n",
              "      <td>10</td>\n",
              "      <td>PHY328821</td>\n",
              "      <td>NaN</td>\n",
              "      <td>NaN</td>\n",
              "      <td>2723</td>\n",
              "      <td>NaN</td>\n",
              "      <td>NaN</td>\n",
              "      <td>NaN</td>\n",
              "      <td>NaN</td>\n",
              "      <td>NaN</td>\n",
              "      <td>NaN</td>\n",
              "      <td>NaN</td>\n",
              "      <td>NaN</td>\n",
              "      <td>NaN</td>\n",
              "      <td>NaN</td>\n",
              "      <td>NaN</td>\n",
              "      <td>NaN</td>\n",
              "      <td>NaN</td>\n",
              "      <td>NaN</td>\n",
              "      <td>NaN</td>\n",
              "      <td>0</td>\n",
              "      <td>NaN</td>\n",
              "    </tr>\n",
              "  </tbody>\n",
              "</table>\n",
              "</div>"
            ],
            "text/plain": [
              "      BeneID    ClaimID  ... DeductibleAmtPaid ClmAdmitDiagnosisCode\n",
              "0  BENE11002  CLM624349  ...                 0                 56409\n",
              "1  BENE11003  CLM189947  ...                 0                 79380\n",
              "2  BENE11003  CLM438021  ...                 0                   NaN\n",
              "\n",
              "[3 rows x 27 columns]"
            ]
          },
          "metadata": {
            "tags": []
          },
          "execution_count": 44
        }
      ]
    },
    {
      "cell_type": "code",
      "metadata": {
        "colab": {
          "base_uri": "https://localhost:8080/"
        },
        "id": "6OhC-qVleiWE",
        "outputId": "1093baeb-bc8b-41a0-da04-cba1827fdea4"
      },
      "source": [
        "((train_outpat.isna().sum())/(train_outpat.shape[0]))*100"
      ],
      "execution_count": null,
      "outputs": [
        {
          "output_type": "execute_result",
          "data": {
            "text/plain": [
              "BeneID                      0.000000\n",
              "ClaimID                     0.000000\n",
              "ClaimStartDt                0.000000\n",
              "ClaimEndDt                  0.000000\n",
              "Provider                    0.000000\n",
              "InscClaimAmtReimbursed      0.000000\n",
              "AttendingPhysician          0.269635\n",
              "OperatingPhysician         82.497484\n",
              "OtherPhysician             62.327205\n",
              "ClmDiagnosisCode_1          2.018979\n",
              "ClmDiagnosisCode_2         37.737307\n",
              "ClmDiagnosisCode_3         60.741264\n",
              "ClmDiagnosisCode_4         75.741351\n",
              "ClmDiagnosisCode_5         85.640586\n",
              "ClmDiagnosisCode_6         90.582864\n",
              "ClmDiagnosisCode_7         93.633640\n",
              "ClmDiagnosisCode_8         95.574587\n",
              "ClmDiagnosisCode_9         97.134066\n",
              "ClmDiagnosisCode_10        99.790820\n",
              "ClmProcedureCode_1         99.968710\n",
              "ClmProcedureCode_2         99.993047\n",
              "ClmProcedureCode_3         99.999227\n",
              "ClmProcedureCode_4         99.999614\n",
              "ClmProcedureCode_5        100.000000\n",
              "ClmProcedureCode_6        100.000000\n",
              "DeductibleAmtPaid           0.000000\n",
              "ClmAdmitDiagnosisCode      79.637345\n",
              "dtype: float64"
            ]
          },
          "metadata": {
            "tags": []
          },
          "execution_count": 45
        }
      ]
    },
    {
      "cell_type": "code",
      "metadata": {
        "id": "KuiiA0GvfLJw"
      },
      "source": [
        "train_outpat.drop(['OperatingPhysician','ClmDiagnosisCode_4','ClmDiagnosisCode_5','ClmDiagnosisCode_6','ClmDiagnosisCode_7','ClmDiagnosisCode_8','ClmDiagnosisCode_9','ClmDiagnosisCode_10','ClmProcedureCode_1','ClmProcedureCode_2','ClmProcedureCode_3','ClmProcedureCode_4','ClmProcedureCode_5','ClmProcedureCode_6','ClmAdmitDiagnosisCode'], axis=1, inplace= True)"
      ],
      "execution_count": null,
      "outputs": []
    },
    {
      "cell_type": "code",
      "metadata": {
        "colab": {
          "base_uri": "https://localhost:8080/"
        },
        "id": "Vvcu0UsTf-tM",
        "outputId": "ced7b394-d175-45fa-a87f-c211c21c729e"
      },
      "source": [
        "((train_outpat.isna().sum())/(train_outpat.shape[0]))*100"
      ],
      "execution_count": null,
      "outputs": [
        {
          "output_type": "execute_result",
          "data": {
            "text/plain": [
              "BeneID                     0.000000\n",
              "ClaimID                    0.000000\n",
              "ClaimStartDt               0.000000\n",
              "ClaimEndDt                 0.000000\n",
              "Provider                   0.000000\n",
              "InscClaimAmtReimbursed     0.000000\n",
              "AttendingPhysician         0.269635\n",
              "OtherPhysician            62.327205\n",
              "ClmDiagnosisCode_1         2.018979\n",
              "ClmDiagnosisCode_2        37.737307\n",
              "ClmDiagnosisCode_3        60.741264\n",
              "DeductibleAmtPaid          0.000000\n",
              "dtype: float64"
            ]
          },
          "metadata": {
            "tags": []
          },
          "execution_count": 50
        }
      ]
    },
    {
      "cell_type": "code",
      "metadata": {
        "id": "PmQG6oa1gUGd"
      },
      "source": [
        "train_outpat[\"AttendingPhysician\"]= imp_cat.fit_transform(train_outpat[\"AttendingPhysician\"].values.reshape(-1,1))[:,0]\n",
        "train_outpat[\"ClmDiagnosisCode_1\"]= imp_cat.fit_transform(train_outpat[\"ClmDiagnosisCode_1\"].values.reshape(-1,1))[:,0]"
      ],
      "execution_count": null,
      "outputs": []
    },
    {
      "cell_type": "code",
      "metadata": {
        "id": "C3l_o8xthyj1"
      },
      "source": [
        "train_outpat[\"OtherPhysician\"]= train_outpat[\"OtherPhysician\"].fillna(\"missing\")\n",
        "train_outpat[\"ClmDiagnosisCode_2\"]= train_outpat[\"ClmDiagnosisCode_2\"].fillna(\"missing\")\n",
        "train_outpat[\"ClmDiagnosisCode_3\"]= train_outpat[\"ClmDiagnosisCode_3\"].fillna(\"missing\")"
      ],
      "execution_count": null,
      "outputs": []
    },
    {
      "cell_type": "code",
      "metadata": {
        "colab": {
          "base_uri": "https://localhost:8080/"
        },
        "id": "8S9rPH54igUn",
        "outputId": "7b5440b9-3dad-4343-b99a-96989c6f6590"
      },
      "source": [
        "((train_outpat.isna().sum())/(train_outpat.shape[0]))*100"
      ],
      "execution_count": null,
      "outputs": [
        {
          "output_type": "execute_result",
          "data": {
            "text/plain": [
              "BeneID                    0.0\n",
              "ClaimID                   0.0\n",
              "ClaimStartDt              0.0\n",
              "ClaimEndDt                0.0\n",
              "Provider                  0.0\n",
              "InscClaimAmtReimbursed    0.0\n",
              "AttendingPhysician        0.0\n",
              "OtherPhysician            0.0\n",
              "ClmDiagnosisCode_1        0.0\n",
              "ClmDiagnosisCode_2        0.0\n",
              "ClmDiagnosisCode_3        0.0\n",
              "DeductibleAmtPaid         0.0\n",
              "dtype: float64"
            ]
          },
          "metadata": {
            "tags": []
          },
          "execution_count": 53
        }
      ]
    },
    {
      "cell_type": "code",
      "metadata": {
        "id": "_omNBe2jjzom"
      },
      "source": [
        "train_outpat[\"days_of_claim\"]= train_outpat['ClaimEndDt']-train_outpat['ClaimStartDt']\n",
        "train_outpat[\"days_of_claim\"]= train_outpat[\"days_of_claim\"].dt.days"
      ],
      "execution_count": null,
      "outputs": []
    },
    {
      "cell_type": "code",
      "metadata": {
        "id": "ZLimS4_YkKze"
      },
      "source": [
        "train_outpat.drop(['ClaimStartDt','ClaimEndDt'], axis=1, inplace=True)"
      ],
      "execution_count": null,
      "outputs": []
    },
    {
      "cell_type": "code",
      "metadata": {
        "colab": {
          "base_uri": "https://localhost:8080/",
          "height": 162
        },
        "id": "SLmGwdQGkgFX",
        "outputId": "ecb9f069-0a5a-4307-a882-a86cb00e0eda"
      },
      "source": [
        "train_outpat.head(3)"
      ],
      "execution_count": null,
      "outputs": [
        {
          "output_type": "execute_result",
          "data": {
            "text/html": [
              "<div>\n",
              "<style scoped>\n",
              "    .dataframe tbody tr th:only-of-type {\n",
              "        vertical-align: middle;\n",
              "    }\n",
              "\n",
              "    .dataframe tbody tr th {\n",
              "        vertical-align: top;\n",
              "    }\n",
              "\n",
              "    .dataframe thead th {\n",
              "        text-align: right;\n",
              "    }\n",
              "</style>\n",
              "<table border=\"1\" class=\"dataframe\">\n",
              "  <thead>\n",
              "    <tr style=\"text-align: right;\">\n",
              "      <th></th>\n",
              "      <th>BeneID</th>\n",
              "      <th>ClaimID</th>\n",
              "      <th>Provider</th>\n",
              "      <th>InscClaimAmtReimbursed</th>\n",
              "      <th>AttendingPhysician</th>\n",
              "      <th>OtherPhysician</th>\n",
              "      <th>ClmDiagnosisCode_1</th>\n",
              "      <th>ClmDiagnosisCode_2</th>\n",
              "      <th>ClmDiagnosisCode_3</th>\n",
              "      <th>DeductibleAmtPaid</th>\n",
              "      <th>days_of_claim</th>\n",
              "    </tr>\n",
              "  </thead>\n",
              "  <tbody>\n",
              "    <tr>\n",
              "      <th>0</th>\n",
              "      <td>BENE11002</td>\n",
              "      <td>CLM624349</td>\n",
              "      <td>PRV56011</td>\n",
              "      <td>30</td>\n",
              "      <td>PHY326117</td>\n",
              "      <td>missing</td>\n",
              "      <td>78943</td>\n",
              "      <td>V5866</td>\n",
              "      <td>V1272</td>\n",
              "      <td>0</td>\n",
              "      <td>0</td>\n",
              "    </tr>\n",
              "    <tr>\n",
              "      <th>1</th>\n",
              "      <td>BENE11003</td>\n",
              "      <td>CLM189947</td>\n",
              "      <td>PRV57610</td>\n",
              "      <td>80</td>\n",
              "      <td>PHY362868</td>\n",
              "      <td>missing</td>\n",
              "      <td>6115</td>\n",
              "      <td>missing</td>\n",
              "      <td>missing</td>\n",
              "      <td>0</td>\n",
              "      <td>0</td>\n",
              "    </tr>\n",
              "    <tr>\n",
              "      <th>2</th>\n",
              "      <td>BENE11003</td>\n",
              "      <td>CLM438021</td>\n",
              "      <td>PRV57595</td>\n",
              "      <td>10</td>\n",
              "      <td>PHY328821</td>\n",
              "      <td>missing</td>\n",
              "      <td>2723</td>\n",
              "      <td>missing</td>\n",
              "      <td>missing</td>\n",
              "      <td>0</td>\n",
              "      <td>0</td>\n",
              "    </tr>\n",
              "  </tbody>\n",
              "</table>\n",
              "</div>"
            ],
            "text/plain": [
              "      BeneID    ClaimID  ... DeductibleAmtPaid  days_of_claim\n",
              "0  BENE11002  CLM624349  ...                 0              0\n",
              "1  BENE11003  CLM189947  ...                 0              0\n",
              "2  BENE11003  CLM438021  ...                 0              0\n",
              "\n",
              "[3 rows x 11 columns]"
            ]
          },
          "metadata": {
            "tags": []
          },
          "execution_count": 58
        }
      ]
    },
    {
      "cell_type": "code",
      "metadata": {
        "id": "uBwexGlyklap"
      },
      "source": [
        "with open('/content/drive/MyDrive/Colab Notebooks/train_outpat.pkl', 'wb') as tr_out:\n",
        "    pickle.dump(train_outpat,tr_out)"
      ],
      "execution_count": null,
      "outputs": []
    },
    {
      "cell_type": "code",
      "metadata": {
        "id": "Bve718Hzr4mQ"
      },
      "source": [
        "with open('/content/drive/MyDrive/Colab Notebooks/train_outpat.pkl', 'rb') as tr_out:\n",
        "    train_outpat= pickle.load(tr_out)"
      ],
      "execution_count": null,
      "outputs": []
    },
    {
      "cell_type": "markdown",
      "metadata": {
        "id": "5RTdhovuk5DN"
      },
      "source": [
        "##**Analysis of the Beneficary Dataset**"
      ]
    },
    {
      "cell_type": "code",
      "metadata": {
        "colab": {
          "base_uri": "https://localhost:8080/",
          "height": 213
        },
        "id": "Iy_d-WK2k-dR",
        "outputId": "4ea0aaf9-6cfd-4757-d430-2ba785d594e4"
      },
      "source": [
        "train_ben.head(3)"
      ],
      "execution_count": null,
      "outputs": [
        {
          "output_type": "execute_result",
          "data": {
            "text/html": [
              "<div>\n",
              "<style scoped>\n",
              "    .dataframe tbody tr th:only-of-type {\n",
              "        vertical-align: middle;\n",
              "    }\n",
              "\n",
              "    .dataframe tbody tr th {\n",
              "        vertical-align: top;\n",
              "    }\n",
              "\n",
              "    .dataframe thead th {\n",
              "        text-align: right;\n",
              "    }\n",
              "</style>\n",
              "<table border=\"1\" class=\"dataframe\">\n",
              "  <thead>\n",
              "    <tr style=\"text-align: right;\">\n",
              "      <th></th>\n",
              "      <th>BeneID</th>\n",
              "      <th>DOB</th>\n",
              "      <th>DOD</th>\n",
              "      <th>Gender</th>\n",
              "      <th>Race</th>\n",
              "      <th>RenalDiseaseIndicator</th>\n",
              "      <th>State</th>\n",
              "      <th>County</th>\n",
              "      <th>NoOfMonths_PartACov</th>\n",
              "      <th>NoOfMonths_PartBCov</th>\n",
              "      <th>ChronicCond_Alzheimer</th>\n",
              "      <th>ChronicCond_Heartfailure</th>\n",
              "      <th>ChronicCond_KidneyDisease</th>\n",
              "      <th>ChronicCond_Cancer</th>\n",
              "      <th>ChronicCond_ObstrPulmonary</th>\n",
              "      <th>ChronicCond_Depression</th>\n",
              "      <th>ChronicCond_Diabetes</th>\n",
              "      <th>ChronicCond_IschemicHeart</th>\n",
              "      <th>ChronicCond_Osteoporasis</th>\n",
              "      <th>ChronicCond_rheumatoidarthritis</th>\n",
              "      <th>ChronicCond_stroke</th>\n",
              "      <th>IPAnnualReimbursementAmt</th>\n",
              "      <th>IPAnnualDeductibleAmt</th>\n",
              "      <th>OPAnnualReimbursementAmt</th>\n",
              "      <th>OPAnnualDeductibleAmt</th>\n",
              "    </tr>\n",
              "  </thead>\n",
              "  <tbody>\n",
              "    <tr>\n",
              "      <th>0</th>\n",
              "      <td>BENE11001</td>\n",
              "      <td>1943-01-01</td>\n",
              "      <td>NaN</td>\n",
              "      <td>1</td>\n",
              "      <td>1</td>\n",
              "      <td>0</td>\n",
              "      <td>39</td>\n",
              "      <td>230</td>\n",
              "      <td>12</td>\n",
              "      <td>12</td>\n",
              "      <td>1</td>\n",
              "      <td>2</td>\n",
              "      <td>1</td>\n",
              "      <td>2</td>\n",
              "      <td>2</td>\n",
              "      <td>1</td>\n",
              "      <td>1</td>\n",
              "      <td>1</td>\n",
              "      <td>2</td>\n",
              "      <td>1</td>\n",
              "      <td>1</td>\n",
              "      <td>36000</td>\n",
              "      <td>3204</td>\n",
              "      <td>60</td>\n",
              "      <td>70</td>\n",
              "    </tr>\n",
              "    <tr>\n",
              "      <th>1</th>\n",
              "      <td>BENE11002</td>\n",
              "      <td>1936-09-01</td>\n",
              "      <td>NaN</td>\n",
              "      <td>2</td>\n",
              "      <td>1</td>\n",
              "      <td>0</td>\n",
              "      <td>39</td>\n",
              "      <td>280</td>\n",
              "      <td>12</td>\n",
              "      <td>12</td>\n",
              "      <td>2</td>\n",
              "      <td>2</td>\n",
              "      <td>2</td>\n",
              "      <td>2</td>\n",
              "      <td>2</td>\n",
              "      <td>2</td>\n",
              "      <td>2</td>\n",
              "      <td>2</td>\n",
              "      <td>2</td>\n",
              "      <td>2</td>\n",
              "      <td>2</td>\n",
              "      <td>0</td>\n",
              "      <td>0</td>\n",
              "      <td>30</td>\n",
              "      <td>50</td>\n",
              "    </tr>\n",
              "    <tr>\n",
              "      <th>2</th>\n",
              "      <td>BENE11003</td>\n",
              "      <td>1936-08-01</td>\n",
              "      <td>NaN</td>\n",
              "      <td>1</td>\n",
              "      <td>1</td>\n",
              "      <td>0</td>\n",
              "      <td>52</td>\n",
              "      <td>590</td>\n",
              "      <td>12</td>\n",
              "      <td>12</td>\n",
              "      <td>1</td>\n",
              "      <td>2</td>\n",
              "      <td>2</td>\n",
              "      <td>2</td>\n",
              "      <td>2</td>\n",
              "      <td>2</td>\n",
              "      <td>2</td>\n",
              "      <td>1</td>\n",
              "      <td>2</td>\n",
              "      <td>2</td>\n",
              "      <td>2</td>\n",
              "      <td>0</td>\n",
              "      <td>0</td>\n",
              "      <td>90</td>\n",
              "      <td>40</td>\n",
              "    </tr>\n",
              "  </tbody>\n",
              "</table>\n",
              "</div>"
            ],
            "text/plain": [
              "      BeneID         DOB  ... OPAnnualReimbursementAmt  OPAnnualDeductibleAmt\n",
              "0  BENE11001  1943-01-01  ...                       60                     70\n",
              "1  BENE11002  1936-09-01  ...                       30                     50\n",
              "2  BENE11003  1936-08-01  ...                       90                     40\n",
              "\n",
              "[3 rows x 25 columns]"
            ]
          },
          "metadata": {
            "tags": []
          },
          "execution_count": 59
        }
      ]
    },
    {
      "cell_type": "code",
      "metadata": {
        "colab": {
          "base_uri": "https://localhost:8080/"
        },
        "id": "dQBPWTCalGMq",
        "outputId": "6a0b42fd-a828-4d0a-c4ff-03fea7a57543"
      },
      "source": [
        "((train_ben.isna().sum())/(train_ben.shape[0]))*100"
      ],
      "execution_count": null,
      "outputs": [
        {
          "output_type": "execute_result",
          "data": {
            "text/plain": [
              "BeneID                              0.000000\n",
              "DOB                                 0.000000\n",
              "DOD                                98.974422\n",
              "Gender                              0.000000\n",
              "Race                                0.000000\n",
              "RenalDiseaseIndicator               0.000000\n",
              "State                               0.000000\n",
              "County                              0.000000\n",
              "NoOfMonths_PartACov                 0.000000\n",
              "NoOfMonths_PartBCov                 0.000000\n",
              "ChronicCond_Alzheimer               0.000000\n",
              "ChronicCond_Heartfailure            0.000000\n",
              "ChronicCond_KidneyDisease           0.000000\n",
              "ChronicCond_Cancer                  0.000000\n",
              "ChronicCond_ObstrPulmonary          0.000000\n",
              "ChronicCond_Depression              0.000000\n",
              "ChronicCond_Diabetes                0.000000\n",
              "ChronicCond_IschemicHeart           0.000000\n",
              "ChronicCond_Osteoporasis            0.000000\n",
              "ChronicCond_rheumatoidarthritis     0.000000\n",
              "ChronicCond_stroke                  0.000000\n",
              "IPAnnualReimbursementAmt            0.000000\n",
              "IPAnnualDeductibleAmt               0.000000\n",
              "OPAnnualReimbursementAmt            0.000000\n",
              "OPAnnualDeductibleAmt               0.000000\n",
              "dtype: float64"
            ]
          },
          "metadata": {
            "tags": []
          },
          "execution_count": 60
        }
      ]
    },
    {
      "cell_type": "code",
      "metadata": {
        "id": "q5QB-zJomo87"
      },
      "source": [
        "train_ben.drop(['DOD'], axis=1, inplace= True)"
      ],
      "execution_count": null,
      "outputs": []
    },
    {
      "cell_type": "code",
      "metadata": {
        "id": "Yw-QQVyIC1UU"
      },
      "source": [
        "with open('/content/drive/MyDrive/Colab Notebooks/train_ben.pkl','wb') as tr_ben:\n",
        "    pickle.dump(train_ben,tr_ben)"
      ],
      "execution_count": null,
      "outputs": []
    },
    {
      "cell_type": "code",
      "metadata": {
        "id": "ia4u52d4C09s"
      },
      "source": [
        "with open('/content/drive/MyDrive/Colab Notebooks/train_outpat.pkl', 'rb') as tr_ben:\n",
        "    train_ben= pickle.load(tr_ben)"
      ],
      "execution_count": null,
      "outputs": []
    },
    {
      "cell_type": "code",
      "metadata": {
        "colab": {
          "base_uri": "https://localhost:8080/"
        },
        "id": "zhqLDNajnJg_",
        "outputId": "abfd1393-e926-4848-e1f8-6e14975f2c2f"
      },
      "source": [
        "train_ben['NoOfMonths_PartACov'].equals(train_ben['NoOfMonths_PartBCov'])"
      ],
      "execution_count": null,
      "outputs": [
        {
          "output_type": "execute_result",
          "data": {
            "text/plain": [
              "False"
            ]
          },
          "metadata": {
            "tags": []
          },
          "execution_count": 81
        }
      ]
    },
    {
      "cell_type": "code",
      "metadata": {
        "id": "Do2CP9QOuxUr"
      },
      "source": [
        "y= pd.DatetimeIndex(train_ben['DOB']).month"
      ],
      "execution_count": null,
      "outputs": []
    },
    {
      "cell_type": "code",
      "metadata": {
        "colab": {
          "base_uri": "https://localhost:8080/"
        },
        "id": "PXkWeSonvqFG",
        "outputId": "e7479913-21d5-4ac4-adb3-4306c7796e7f"
      },
      "source": [
        "y[:5]"
      ],
      "execution_count": null,
      "outputs": [
        {
          "output_type": "execute_result",
          "data": {
            "text/plain": [
              "Int64Index([1, 9, 8, 7, 9], dtype='int64', name='DOB')"
            ]
          },
          "metadata": {
            "tags": []
          },
          "execution_count": 90
        }
      ]
    },
    {
      "cell_type": "code",
      "metadata": {
        "colab": {
          "base_uri": "https://localhost:8080/"
        },
        "id": "hhr8jtX4vr7P",
        "outputId": "4d431491-22a9-42fa-8da6-3010e222f28f"
      },
      "source": [
        "clm_dia_cod1= set(train_inpat[\"ClmDiagnosisCode_1\"]).intersection(set(train_outpat[\"ClmDiagnosisCode_1\"]))\n",
        "print(len(clm_dia_cod1))"
      ],
      "execution_count": null,
      "outputs": [
        {
          "output_type": "stream",
          "text": [
            "2158\n"
          ],
          "name": "stdout"
        }
      ]
    },
    {
      "cell_type": "code",
      "metadata": {
        "colab": {
          "base_uri": "https://localhost:8080/"
        },
        "id": "lZD2HVK2EgYp",
        "outputId": "f4cbc5f4-3984-4cc5-956a-475738bc2f2f"
      },
      "source": [
        "train_inpat[\"ClmDiagnosisCode_1\"].isna().sum()"
      ],
      "execution_count": null,
      "outputs": [
        {
          "output_type": "execute_result",
          "data": {
            "text/plain": [
              "0"
            ]
          },
          "metadata": {
            "tags": []
          },
          "execution_count": 93
        }
      ]
    },
    {
      "cell_type": "code",
      "metadata": {
        "colab": {
          "base_uri": "https://localhost:8080/"
        },
        "id": "BGgnmEeEEwOU",
        "outputId": "8ea7584e-49aa-4142-d593-a80dace2c2f8"
      },
      "source": [
        "print(\"Shape of the Inpatient Dataset post Imputation: \", tr_inpat_new.shape)\n",
        "print(\"Shape of the Outpatient Dataset post Imputation: \", train_outpat.shape)\n",
        "print(\"Shape of the Beneficiary Dataset post Imputation: \", train_ben.shape)"
      ],
      "execution_count": null,
      "outputs": [
        {
          "output_type": "stream",
          "text": [
            "Shape of the Inpatient Dataset post Imputation:  (40474, 21)\n",
            "Shape of the Outpatient Dataset post Imputation:  (517737, 11)\n",
            "Shape of the Beneficiary Dataset post Imputation:  (138556, 24)\n"
          ],
          "name": "stdout"
        }
      ]
    },
    {
      "cell_type": "code",
      "metadata": {
        "id": "V8hlWFivJsqr"
      },
      "source": [
        "ClaimID\n",
        "BeneID"
      ],
      "execution_count": null,
      "outputs": []
    },
    {
      "cell_type": "code",
      "metadata": {
        "colab": {
          "base_uri": "https://localhost:8080/"
        },
        "id": "DePWVZH5K4CM",
        "outputId": "1dc228cf-f1be-4fad-fa52-f4ad7ce32fe4"
      },
      "source": [
        "claimids= set(train_inpat[\"ClaimID\"]).intersection(set(train_outpat[\"ClaimID\"]))\n",
        "print(\"No.of Common Claim IDs between Inpatient and Outpatient Datasets: \",len(claimids))\n",
        "\n",
        "benids1= set(train_inpat[\"BeneID\"]).intersection(set(train_outpat[\"BeneID\"]))\n",
        "print(\"No.of Common Beneficiary IDs between Inpatient and Outpatient Datasets: \",len(benids1))\n",
        "\n",
        "benids2= set(train_inpat[\"BeneID\"]).intersection(set(train_ben[\"BeneID\"]))\n",
        "print(\"No.of Common Beneficiary IDs between inpatient and Beneficiary Datasets: \",len(benids2))\n",
        "\n",
        "benids3= set(train_outpat[\"BeneID\"]).intersection(set(train_ben[\"BeneID\"]))\n",
        "print(\"Np.of Common Beneficiary IDs between Outpatient and Beneficiary Datasets: \",len(benids3))"
      ],
      "execution_count": null,
      "outputs": [
        {
          "output_type": "stream",
          "text": [
            "No.of Common Claim IDs between Inpatient and Outpatient Datasets:  0\n",
            "No.of Common Beneficiary IDs between Inpatient and Outpatient Datasets:  26713\n",
            "No.of Common Beneficiary IDs between inpatient and Beneficiary Datasets:  31289\n",
            "Np.of Common Beneficiary IDs between Outpatient and Beneficiary Datasets:  133980\n"
          ],
          "name": "stdout"
        }
      ]
    },
    {
      "cell_type": "markdown",
      "metadata": {
        "id": "M2PhktAZDbBO"
      },
      "source": [
        "##**Merging the Inpatient, Outpatient and Beneficiary Dataframes**"
      ]
    },
    {
      "cell_type": "code",
      "metadata": {
        "id": "BCkM0HQDK32i",
        "colab": {
          "base_uri": "https://localhost:8080/"
        },
        "outputId": "fd0208f5-1b07-4997-cd66-15fe92e13563"
      },
      "source": [
        "df_in_out= pd.merge(train_outpat, tr_inpat_new, how='outer', left_on= [\"ClaimID\"], right_on=[\"ClaimID\"])\n",
        "print(df_in_out.shape)"
      ],
      "execution_count": null,
      "outputs": [
        {
          "output_type": "stream",
          "text": [
            "(558211, 31)\n"
          ],
          "name": "stdout"
        }
      ]
    },
    {
      "cell_type": "code",
      "metadata": {
        "colab": {
          "base_uri": "https://localhost:8080/"
        },
        "id": "ZJtRNv5TFiSW",
        "outputId": "2f7a3296-9e51-42a0-c22c-3d39619e3963"
      },
      "source": [
        "df_in_out.columns"
      ],
      "execution_count": null,
      "outputs": [
        {
          "output_type": "execute_result",
          "data": {
            "text/plain": [
              "Index(['BeneID_x', 'ClaimID', 'Provider_x', 'InscClaimAmtReimbursed_x',\n",
              "       'AttendingPhysician_x', 'OtherPhysician', 'ClmDiagnosisCode_1_x',\n",
              "       'ClmDiagnosisCode_2_x', 'ClmDiagnosisCode_3_x', 'DeductibleAmtPaid',\n",
              "       'days_of_claim_x', 'BeneID_y', 'Provider_y', 'InscClaimAmtReimbursed_y',\n",
              "       'AttendingPhysician_y', 'OperatingPhysician', 'ClmAdmitDiagnosisCode',\n",
              "       'DiagnosisGroupCode', 'ClmDiagnosisCode_1_y', 'ClmDiagnosisCode_2_y',\n",
              "       'ClmDiagnosisCode_3_y', 'ClmDiagnosisCode_4', 'ClmDiagnosisCode_5',\n",
              "       'ClmDiagnosisCode_6', 'ClmDiagnosisCode_7', 'ClmDiagnosisCode_8',\n",
              "       'ClmDiagnosisCode_9', 'ClmProcedureCode_1', 'class', 'days_admission',\n",
              "       'days_of_claim_y'],\n",
              "      dtype='object')"
            ]
          },
          "metadata": {
            "tags": []
          },
          "execution_count": 125
        }
      ]
    },
    {
      "cell_type": "code",
      "metadata": {
        "id": "aHihQxBVFygc"
      },
      "source": [
        ""
      ],
      "execution_count": null,
      "outputs": []
    },
    {
      "cell_type": "code",
      "metadata": {
        "colab": {
          "base_uri": "https://localhost:8080/",
          "height": 323
        },
        "id": "t-HY3xihEXCc",
        "outputId": "c6d5863b-e10b-446a-ac7b-095664c9b3f5"
      },
      "source": [
        "df_final= pd.merge(df_in_out,train_ben, how='outer',left_on= 'BeneID', right_on='BeneID')\n",
        "print(df_final.shape)"
      ],
      "execution_count": null,
      "outputs": [
        {
          "output_type": "error",
          "ename": "KeyError",
          "evalue": "ignored",
          "traceback": [
            "\u001b[0;31m---------------------------------------------------------------------------\u001b[0m",
            "\u001b[0;31mKeyError\u001b[0m                                  Traceback (most recent call last)",
            "\u001b[0;32m<ipython-input-120-c410a64ec343>\u001b[0m in \u001b[0;36m<module>\u001b[0;34m()\u001b[0m\n\u001b[0;32m----> 1\u001b[0;31m \u001b[0mdf_final\u001b[0m\u001b[0;34m=\u001b[0m \u001b[0mpd\u001b[0m\u001b[0;34m.\u001b[0m\u001b[0mmerge\u001b[0m\u001b[0;34m(\u001b[0m\u001b[0mdf_in_out\u001b[0m\u001b[0;34m,\u001b[0m\u001b[0mtrain_ben\u001b[0m\u001b[0;34m,\u001b[0m \u001b[0mhow\u001b[0m\u001b[0;34m=\u001b[0m\u001b[0;34m'outer'\u001b[0m\u001b[0;34m,\u001b[0m\u001b[0mleft_on\u001b[0m\u001b[0;34m=\u001b[0m \u001b[0;34m'BeneID'\u001b[0m\u001b[0;34m,\u001b[0m \u001b[0mright_on\u001b[0m\u001b[0;34m=\u001b[0m\u001b[0;34m'BeneID'\u001b[0m\u001b[0;34m)\u001b[0m\u001b[0;34m\u001b[0m\u001b[0;34m\u001b[0m\u001b[0m\n\u001b[0m\u001b[1;32m      2\u001b[0m \u001b[0mprint\u001b[0m\u001b[0;34m(\u001b[0m\u001b[0mdf_final\u001b[0m\u001b[0;34m.\u001b[0m\u001b[0mshape\u001b[0m\u001b[0;34m)\u001b[0m\u001b[0;34m\u001b[0m\u001b[0;34m\u001b[0m\u001b[0m\n",
            "\u001b[0;32m/usr/local/lib/python3.7/dist-packages/pandas/core/reshape/merge.py\u001b[0m in \u001b[0;36mmerge\u001b[0;34m(left, right, how, on, left_on, right_on, left_index, right_index, sort, suffixes, copy, indicator, validate)\u001b[0m\n\u001b[1;32m     85\u001b[0m         \u001b[0mcopy\u001b[0m\u001b[0;34m=\u001b[0m\u001b[0mcopy\u001b[0m\u001b[0;34m,\u001b[0m\u001b[0;34m\u001b[0m\u001b[0;34m\u001b[0m\u001b[0m\n\u001b[1;32m     86\u001b[0m         \u001b[0mindicator\u001b[0m\u001b[0;34m=\u001b[0m\u001b[0mindicator\u001b[0m\u001b[0;34m,\u001b[0m\u001b[0;34m\u001b[0m\u001b[0;34m\u001b[0m\u001b[0m\n\u001b[0;32m---> 87\u001b[0;31m         \u001b[0mvalidate\u001b[0m\u001b[0;34m=\u001b[0m\u001b[0mvalidate\u001b[0m\u001b[0;34m,\u001b[0m\u001b[0;34m\u001b[0m\u001b[0;34m\u001b[0m\u001b[0m\n\u001b[0m\u001b[1;32m     88\u001b[0m     )\n\u001b[1;32m     89\u001b[0m     \u001b[0;32mreturn\u001b[0m \u001b[0mop\u001b[0m\u001b[0;34m.\u001b[0m\u001b[0mget_result\u001b[0m\u001b[0;34m(\u001b[0m\u001b[0;34m)\u001b[0m\u001b[0;34m\u001b[0m\u001b[0;34m\u001b[0m\u001b[0m\n",
            "\u001b[0;32m/usr/local/lib/python3.7/dist-packages/pandas/core/reshape/merge.py\u001b[0m in \u001b[0;36m__init__\u001b[0;34m(self, left, right, how, on, left_on, right_on, axis, left_index, right_index, sort, suffixes, copy, indicator, validate)\u001b[0m\n\u001b[1;32m    650\u001b[0m             \u001b[0mself\u001b[0m\u001b[0;34m.\u001b[0m\u001b[0mright_join_keys\u001b[0m\u001b[0;34m,\u001b[0m\u001b[0;34m\u001b[0m\u001b[0;34m\u001b[0m\u001b[0m\n\u001b[1;32m    651\u001b[0m             \u001b[0mself\u001b[0m\u001b[0;34m.\u001b[0m\u001b[0mjoin_names\u001b[0m\u001b[0;34m,\u001b[0m\u001b[0;34m\u001b[0m\u001b[0;34m\u001b[0m\u001b[0m\n\u001b[0;32m--> 652\u001b[0;31m         ) = self._get_merge_keys()\n\u001b[0m\u001b[1;32m    653\u001b[0m \u001b[0;34m\u001b[0m\u001b[0m\n\u001b[1;32m    654\u001b[0m         \u001b[0;31m# validate the merge keys dtypes. We may need to coerce\u001b[0m\u001b[0;34m\u001b[0m\u001b[0;34m\u001b[0m\u001b[0;34m\u001b[0m\u001b[0m\n",
            "\u001b[0;32m/usr/local/lib/python3.7/dist-packages/pandas/core/reshape/merge.py\u001b[0m in \u001b[0;36m_get_merge_keys\u001b[0;34m(self)\u001b[0m\n\u001b[1;32m   1016\u001b[0m                         \u001b[0mright_keys\u001b[0m\u001b[0;34m.\u001b[0m\u001b[0mappend\u001b[0m\u001b[0;34m(\u001b[0m\u001b[0mrk\u001b[0m\u001b[0;34m)\u001b[0m\u001b[0;34m\u001b[0m\u001b[0;34m\u001b[0m\u001b[0m\n\u001b[1;32m   1017\u001b[0m                     \u001b[0;32mif\u001b[0m \u001b[0mlk\u001b[0m \u001b[0;32mis\u001b[0m \u001b[0;32mnot\u001b[0m \u001b[0;32mNone\u001b[0m\u001b[0;34m:\u001b[0m\u001b[0;34m\u001b[0m\u001b[0;34m\u001b[0m\u001b[0m\n\u001b[0;32m-> 1018\u001b[0;31m                         \u001b[0mleft_keys\u001b[0m\u001b[0;34m.\u001b[0m\u001b[0mappend\u001b[0m\u001b[0;34m(\u001b[0m\u001b[0mleft\u001b[0m\u001b[0;34m.\u001b[0m\u001b[0m_get_label_or_level_values\u001b[0m\u001b[0;34m(\u001b[0m\u001b[0mlk\u001b[0m\u001b[0;34m)\u001b[0m\u001b[0;34m)\u001b[0m\u001b[0;34m\u001b[0m\u001b[0;34m\u001b[0m\u001b[0m\n\u001b[0m\u001b[1;32m   1019\u001b[0m                         \u001b[0mjoin_names\u001b[0m\u001b[0;34m.\u001b[0m\u001b[0mappend\u001b[0m\u001b[0;34m(\u001b[0m\u001b[0mlk\u001b[0m\u001b[0;34m)\u001b[0m\u001b[0;34m\u001b[0m\u001b[0;34m\u001b[0m\u001b[0m\n\u001b[1;32m   1020\u001b[0m                     \u001b[0;32melse\u001b[0m\u001b[0;34m:\u001b[0m\u001b[0;34m\u001b[0m\u001b[0;34m\u001b[0m\u001b[0m\n",
            "\u001b[0;32m/usr/local/lib/python3.7/dist-packages/pandas/core/generic.py\u001b[0m in \u001b[0;36m_get_label_or_level_values\u001b[0;34m(self, key, axis)\u001b[0m\n\u001b[1;32m   1561\u001b[0m             \u001b[0mvalues\u001b[0m \u001b[0;34m=\u001b[0m \u001b[0mself\u001b[0m\u001b[0;34m.\u001b[0m\u001b[0maxes\u001b[0m\u001b[0;34m[\u001b[0m\u001b[0maxis\u001b[0m\u001b[0;34m]\u001b[0m\u001b[0;34m.\u001b[0m\u001b[0mget_level_values\u001b[0m\u001b[0;34m(\u001b[0m\u001b[0mkey\u001b[0m\u001b[0;34m)\u001b[0m\u001b[0;34m.\u001b[0m\u001b[0m_values\u001b[0m\u001b[0;34m\u001b[0m\u001b[0;34m\u001b[0m\u001b[0m\n\u001b[1;32m   1562\u001b[0m         \u001b[0;32melse\u001b[0m\u001b[0;34m:\u001b[0m\u001b[0;34m\u001b[0m\u001b[0;34m\u001b[0m\u001b[0m\n\u001b[0;32m-> 1563\u001b[0;31m             \u001b[0;32mraise\u001b[0m \u001b[0mKeyError\u001b[0m\u001b[0;34m(\u001b[0m\u001b[0mkey\u001b[0m\u001b[0;34m)\u001b[0m\u001b[0;34m\u001b[0m\u001b[0;34m\u001b[0m\u001b[0m\n\u001b[0m\u001b[1;32m   1564\u001b[0m \u001b[0;34m\u001b[0m\u001b[0m\n\u001b[1;32m   1565\u001b[0m         \u001b[0;31m# Check for duplicates\u001b[0m\u001b[0;34m\u001b[0m\u001b[0;34m\u001b[0m\u001b[0;34m\u001b[0m\u001b[0m\n",
            "\u001b[0;31mKeyError\u001b[0m: 'BeneID'"
          ]
        }
      ]
    },
    {
      "cell_type": "code",
      "metadata": {
        "id": "q9HdyyYGFKY-"
      },
      "source": [
        ""
      ],
      "execution_count": null,
      "outputs": []
    }
  ]
}