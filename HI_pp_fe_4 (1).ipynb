{
  "nbformat": 4,
  "nbformat_minor": 0,
  "metadata": {
    "colab": {
      "name": "HI_pp_fe_4.ipynb",
      "provenance": [],
      "collapsed_sections": []
    },
    "kernelspec": {
      "display_name": "Python 3",
      "name": "python3"
    },
    "language_info": {
      "name": "python"
    }
  },
  "cells": [
    {
      "cell_type": "markdown",
      "metadata": {
        "id": "l7FjWDpuHNgM"
      },
      "source": [
        "##**Importing the Requisite Libraries**"
      ]
    },
    {
      "cell_type": "code",
      "metadata": {
        "id": "HNNdNemnlVJB"
      },
      "source": [
        "import csv\n",
        "import pickle\n",
        "import warnings\n",
        "warnings.filterwarnings('ignore')\n",
        "import numpy as np\n",
        "import pandas as pd\n",
        "import seaborn as sns\n",
        "from tqdm import tqdm\n",
        "import matplotlib.pyplot as plt\n",
        "from datetime import datetime,timedelta\n",
        "from sklearn.impute import SimpleImputer\n",
        "from matplotlib.gridspec import GridSpec\n",
        "from sklearn.model_selection import train_test_split"
      ],
      "execution_count": null,
      "outputs": []
    },
    {
      "cell_type": "code",
      "metadata": {
        "colab": {
          "base_uri": "https://localhost:8080/"
        },
        "id": "nLIDz_UMtPS4",
        "outputId": "9b175d43-ef60-477f-ba94-19aa205d17ef"
      },
      "source": [
        "from google.colab import drive\n",
        "drive.mount('/content/drive')"
      ],
      "execution_count": null,
      "outputs": [
        {
          "output_type": "stream",
          "text": [
            "Drive already mounted at /content/drive; to attempt to forcibly remount, call drive.mount(\"/content/drive\", force_remount=True).\n"
          ],
          "name": "stdout"
        }
      ]
    },
    {
      "cell_type": "markdown",
      "metadata": {
        "id": "lfOLrMlnDgsq"
      },
      "source": [
        "##**Analysis of the Train Datasets**"
      ]
    },
    {
      "cell_type": "markdown",
      "metadata": {
        "id": "I7t1j6sRDpJW"
      },
      "source": [
        "##<font color='blue'><b> **Loading the Train Datasets**</b></font>"
      ]
    },
    {
      "cell_type": "code",
      "metadata": {
        "id": "cp8nNEbDm4Wm"
      },
      "source": [
        "train_ben= pd.read_csv('/content/drive/MyDrive/Colab Notebooks/Train_Beneficiarydata.csv')\n",
        "train_inpat= pd.read_csv('/content/drive/MyDrive/Colab Notebooks/Train_Inpatientdata.csv')\n",
        "train_outpat= pd.read_csv('/content/drive/MyDrive/Colab Notebooks/Train_Outpatientdata.csv')\n",
        "train_y= pd.read_csv('/content/drive/MyDrive/Colab Notebooks/Train.csv')"
      ],
      "execution_count": null,
      "outputs": []
    },
    {
      "cell_type": "code",
      "metadata": {
        "colab": {
          "base_uri": "https://localhost:8080/",
          "height": 213
        },
        "id": "j1HKfVGcm4RG",
        "outputId": "7b492087-bc0b-44b5-a475-17e32e612f4a"
      },
      "source": [
        "train_ben.head(3)"
      ],
      "execution_count": null,
      "outputs": [
        {
          "output_type": "execute_result",
          "data": {
            "text/html": [
              "<div>\n",
              "<style scoped>\n",
              "    .dataframe tbody tr th:only-of-type {\n",
              "        vertical-align: middle;\n",
              "    }\n",
              "\n",
              "    .dataframe tbody tr th {\n",
              "        vertical-align: top;\n",
              "    }\n",
              "\n",
              "    .dataframe thead th {\n",
              "        text-align: right;\n",
              "    }\n",
              "</style>\n",
              "<table border=\"1\" class=\"dataframe\">\n",
              "  <thead>\n",
              "    <tr style=\"text-align: right;\">\n",
              "      <th></th>\n",
              "      <th>BeneID</th>\n",
              "      <th>DOB</th>\n",
              "      <th>DOD</th>\n",
              "      <th>Gender</th>\n",
              "      <th>Race</th>\n",
              "      <th>RenalDiseaseIndicator</th>\n",
              "      <th>State</th>\n",
              "      <th>County</th>\n",
              "      <th>NoOfMonths_PartACov</th>\n",
              "      <th>NoOfMonths_PartBCov</th>\n",
              "      <th>ChronicCond_Alzheimer</th>\n",
              "      <th>ChronicCond_Heartfailure</th>\n",
              "      <th>ChronicCond_KidneyDisease</th>\n",
              "      <th>ChronicCond_Cancer</th>\n",
              "      <th>ChronicCond_ObstrPulmonary</th>\n",
              "      <th>ChronicCond_Depression</th>\n",
              "      <th>ChronicCond_Diabetes</th>\n",
              "      <th>ChronicCond_IschemicHeart</th>\n",
              "      <th>ChronicCond_Osteoporasis</th>\n",
              "      <th>ChronicCond_rheumatoidarthritis</th>\n",
              "      <th>ChronicCond_stroke</th>\n",
              "      <th>IPAnnualReimbursementAmt</th>\n",
              "      <th>IPAnnualDeductibleAmt</th>\n",
              "      <th>OPAnnualReimbursementAmt</th>\n",
              "      <th>OPAnnualDeductibleAmt</th>\n",
              "    </tr>\n",
              "  </thead>\n",
              "  <tbody>\n",
              "    <tr>\n",
              "      <th>0</th>\n",
              "      <td>BENE11001</td>\n",
              "      <td>1943-01-01</td>\n",
              "      <td>NaN</td>\n",
              "      <td>1</td>\n",
              "      <td>1</td>\n",
              "      <td>0</td>\n",
              "      <td>39</td>\n",
              "      <td>230</td>\n",
              "      <td>12</td>\n",
              "      <td>12</td>\n",
              "      <td>1</td>\n",
              "      <td>2</td>\n",
              "      <td>1</td>\n",
              "      <td>2</td>\n",
              "      <td>2</td>\n",
              "      <td>1</td>\n",
              "      <td>1</td>\n",
              "      <td>1</td>\n",
              "      <td>2</td>\n",
              "      <td>1</td>\n",
              "      <td>1</td>\n",
              "      <td>36000</td>\n",
              "      <td>3204</td>\n",
              "      <td>60</td>\n",
              "      <td>70</td>\n",
              "    </tr>\n",
              "    <tr>\n",
              "      <th>1</th>\n",
              "      <td>BENE11002</td>\n",
              "      <td>1936-09-01</td>\n",
              "      <td>NaN</td>\n",
              "      <td>2</td>\n",
              "      <td>1</td>\n",
              "      <td>0</td>\n",
              "      <td>39</td>\n",
              "      <td>280</td>\n",
              "      <td>12</td>\n",
              "      <td>12</td>\n",
              "      <td>2</td>\n",
              "      <td>2</td>\n",
              "      <td>2</td>\n",
              "      <td>2</td>\n",
              "      <td>2</td>\n",
              "      <td>2</td>\n",
              "      <td>2</td>\n",
              "      <td>2</td>\n",
              "      <td>2</td>\n",
              "      <td>2</td>\n",
              "      <td>2</td>\n",
              "      <td>0</td>\n",
              "      <td>0</td>\n",
              "      <td>30</td>\n",
              "      <td>50</td>\n",
              "    </tr>\n",
              "    <tr>\n",
              "      <th>2</th>\n",
              "      <td>BENE11003</td>\n",
              "      <td>1936-08-01</td>\n",
              "      <td>NaN</td>\n",
              "      <td>1</td>\n",
              "      <td>1</td>\n",
              "      <td>0</td>\n",
              "      <td>52</td>\n",
              "      <td>590</td>\n",
              "      <td>12</td>\n",
              "      <td>12</td>\n",
              "      <td>1</td>\n",
              "      <td>2</td>\n",
              "      <td>2</td>\n",
              "      <td>2</td>\n",
              "      <td>2</td>\n",
              "      <td>2</td>\n",
              "      <td>2</td>\n",
              "      <td>1</td>\n",
              "      <td>2</td>\n",
              "      <td>2</td>\n",
              "      <td>2</td>\n",
              "      <td>0</td>\n",
              "      <td>0</td>\n",
              "      <td>90</td>\n",
              "      <td>40</td>\n",
              "    </tr>\n",
              "  </tbody>\n",
              "</table>\n",
              "</div>"
            ],
            "text/plain": [
              "      BeneID         DOB  ... OPAnnualReimbursementAmt  OPAnnualDeductibleAmt\n",
              "0  BENE11001  1943-01-01  ...                       60                     70\n",
              "1  BENE11002  1936-09-01  ...                       30                     50\n",
              "2  BENE11003  1936-08-01  ...                       90                     40\n",
              "\n",
              "[3 rows x 25 columns]"
            ]
          },
          "metadata": {
            "tags": []
          },
          "execution_count": 13
        }
      ]
    },
    {
      "cell_type": "code",
      "metadata": {
        "colab": {
          "base_uri": "https://localhost:8080/"
        },
        "id": "ZRXOS8oi3plm",
        "outputId": "2f8632a7-8458-4880-ea3c-6d76e0657904"
      },
      "source": [
        "train_ben.info()"
      ],
      "execution_count": null,
      "outputs": [
        {
          "output_type": "stream",
          "text": [
            "<class 'pandas.core.frame.DataFrame'>\n",
            "RangeIndex: 138556 entries, 0 to 138555\n",
            "Data columns (total 25 columns):\n",
            " #   Column                           Non-Null Count   Dtype \n",
            "---  ------                           --------------   ----- \n",
            " 0   BeneID                           138556 non-null  object\n",
            " 1   DOB                              138556 non-null  object\n",
            " 2   DOD                              1421 non-null    object\n",
            " 3   Gender                           138556 non-null  int64 \n",
            " 4   Race                             138556 non-null  int64 \n",
            " 5   RenalDiseaseIndicator            138556 non-null  object\n",
            " 6   State                            138556 non-null  int64 \n",
            " 7   County                           138556 non-null  int64 \n",
            " 8   NoOfMonths_PartACov              138556 non-null  int64 \n",
            " 9   NoOfMonths_PartBCov              138556 non-null  int64 \n",
            " 10  ChronicCond_Alzheimer            138556 non-null  int64 \n",
            " 11  ChronicCond_Heartfailure         138556 non-null  int64 \n",
            " 12  ChronicCond_KidneyDisease        138556 non-null  int64 \n",
            " 13  ChronicCond_Cancer               138556 non-null  int64 \n",
            " 14  ChronicCond_ObstrPulmonary       138556 non-null  int64 \n",
            " 15  ChronicCond_Depression           138556 non-null  int64 \n",
            " 16  ChronicCond_Diabetes             138556 non-null  int64 \n",
            " 17  ChronicCond_IschemicHeart        138556 non-null  int64 \n",
            " 18  ChronicCond_Osteoporasis         138556 non-null  int64 \n",
            " 19  ChronicCond_rheumatoidarthritis  138556 non-null  int64 \n",
            " 20  ChronicCond_stroke               138556 non-null  int64 \n",
            " 21  IPAnnualReimbursementAmt         138556 non-null  int64 \n",
            " 22  IPAnnualDeductibleAmt            138556 non-null  int64 \n",
            " 23  OPAnnualReimbursementAmt         138556 non-null  int64 \n",
            " 24  OPAnnualDeductibleAmt            138556 non-null  int64 \n",
            "dtypes: int64(21), object(4)\n",
            "memory usage: 26.4+ MB\n"
          ],
          "name": "stdout"
        }
      ]
    },
    {
      "cell_type": "code",
      "metadata": {
        "colab": {
          "base_uri": "https://localhost:8080/",
          "height": 162
        },
        "id": "VkiMoDcD37pi",
        "outputId": "7b5ec780-ecca-4e3f-851b-600dcdaf767f"
      },
      "source": [
        "train_inpat.head(3)"
      ],
      "execution_count": null,
      "outputs": [
        {
          "output_type": "execute_result",
          "data": {
            "text/html": [
              "<div>\n",
              "<style scoped>\n",
              "    .dataframe tbody tr th:only-of-type {\n",
              "        vertical-align: middle;\n",
              "    }\n",
              "\n",
              "    .dataframe tbody tr th {\n",
              "        vertical-align: top;\n",
              "    }\n",
              "\n",
              "    .dataframe thead th {\n",
              "        text-align: right;\n",
              "    }\n",
              "</style>\n",
              "<table border=\"1\" class=\"dataframe\">\n",
              "  <thead>\n",
              "    <tr style=\"text-align: right;\">\n",
              "      <th></th>\n",
              "      <th>BeneID</th>\n",
              "      <th>ClaimID</th>\n",
              "      <th>ClaimStartDt</th>\n",
              "      <th>ClaimEndDt</th>\n",
              "      <th>Provider</th>\n",
              "      <th>InscClaimAmtReimbursed</th>\n",
              "      <th>AttendingPhysician</th>\n",
              "      <th>OperatingPhysician</th>\n",
              "      <th>OtherPhysician</th>\n",
              "      <th>AdmissionDt</th>\n",
              "      <th>ClmAdmitDiagnosisCode</th>\n",
              "      <th>DeductibleAmtPaid</th>\n",
              "      <th>DischargeDt</th>\n",
              "      <th>DiagnosisGroupCode</th>\n",
              "      <th>ClmDiagnosisCode_1</th>\n",
              "      <th>ClmDiagnosisCode_2</th>\n",
              "      <th>ClmDiagnosisCode_3</th>\n",
              "      <th>ClmDiagnosisCode_4</th>\n",
              "      <th>ClmDiagnosisCode_5</th>\n",
              "      <th>ClmDiagnosisCode_6</th>\n",
              "      <th>ClmDiagnosisCode_7</th>\n",
              "      <th>ClmDiagnosisCode_8</th>\n",
              "      <th>ClmDiagnosisCode_9</th>\n",
              "      <th>ClmDiagnosisCode_10</th>\n",
              "      <th>ClmProcedureCode_1</th>\n",
              "      <th>ClmProcedureCode_2</th>\n",
              "      <th>ClmProcedureCode_3</th>\n",
              "      <th>ClmProcedureCode_4</th>\n",
              "      <th>ClmProcedureCode_5</th>\n",
              "      <th>ClmProcedureCode_6</th>\n",
              "    </tr>\n",
              "  </thead>\n",
              "  <tbody>\n",
              "    <tr>\n",
              "      <th>0</th>\n",
              "      <td>BENE11001</td>\n",
              "      <td>CLM46614</td>\n",
              "      <td>2009-04-12</td>\n",
              "      <td>2009-04-18</td>\n",
              "      <td>PRV55912</td>\n",
              "      <td>26000</td>\n",
              "      <td>PHY390922</td>\n",
              "      <td>NaN</td>\n",
              "      <td>NaN</td>\n",
              "      <td>2009-04-12</td>\n",
              "      <td>7866</td>\n",
              "      <td>1068.0</td>\n",
              "      <td>2009-04-18</td>\n",
              "      <td>201</td>\n",
              "      <td>1970</td>\n",
              "      <td>4019</td>\n",
              "      <td>5853</td>\n",
              "      <td>7843</td>\n",
              "      <td>2768</td>\n",
              "      <td>71590</td>\n",
              "      <td>2724</td>\n",
              "      <td>19889</td>\n",
              "      <td>5849</td>\n",
              "      <td>NaN</td>\n",
              "      <td>NaN</td>\n",
              "      <td>NaN</td>\n",
              "      <td>NaN</td>\n",
              "      <td>NaN</td>\n",
              "      <td>NaN</td>\n",
              "      <td>NaN</td>\n",
              "    </tr>\n",
              "    <tr>\n",
              "      <th>1</th>\n",
              "      <td>BENE11001</td>\n",
              "      <td>CLM66048</td>\n",
              "      <td>2009-08-31</td>\n",
              "      <td>2009-09-02</td>\n",
              "      <td>PRV55907</td>\n",
              "      <td>5000</td>\n",
              "      <td>PHY318495</td>\n",
              "      <td>PHY318495</td>\n",
              "      <td>NaN</td>\n",
              "      <td>2009-08-31</td>\n",
              "      <td>6186</td>\n",
              "      <td>1068.0</td>\n",
              "      <td>2009-09-02</td>\n",
              "      <td>750</td>\n",
              "      <td>6186</td>\n",
              "      <td>2948</td>\n",
              "      <td>56400</td>\n",
              "      <td>NaN</td>\n",
              "      <td>NaN</td>\n",
              "      <td>NaN</td>\n",
              "      <td>NaN</td>\n",
              "      <td>NaN</td>\n",
              "      <td>NaN</td>\n",
              "      <td>NaN</td>\n",
              "      <td>7092.0</td>\n",
              "      <td>NaN</td>\n",
              "      <td>NaN</td>\n",
              "      <td>NaN</td>\n",
              "      <td>NaN</td>\n",
              "      <td>NaN</td>\n",
              "    </tr>\n",
              "    <tr>\n",
              "      <th>2</th>\n",
              "      <td>BENE11001</td>\n",
              "      <td>CLM68358</td>\n",
              "      <td>2009-09-17</td>\n",
              "      <td>2009-09-20</td>\n",
              "      <td>PRV56046</td>\n",
              "      <td>5000</td>\n",
              "      <td>PHY372395</td>\n",
              "      <td>NaN</td>\n",
              "      <td>PHY324689</td>\n",
              "      <td>2009-09-17</td>\n",
              "      <td>29590</td>\n",
              "      <td>1068.0</td>\n",
              "      <td>2009-09-20</td>\n",
              "      <td>883</td>\n",
              "      <td>29623</td>\n",
              "      <td>30390</td>\n",
              "      <td>71690</td>\n",
              "      <td>34590</td>\n",
              "      <td>V1581</td>\n",
              "      <td>32723</td>\n",
              "      <td>NaN</td>\n",
              "      <td>NaN</td>\n",
              "      <td>NaN</td>\n",
              "      <td>NaN</td>\n",
              "      <td>NaN</td>\n",
              "      <td>NaN</td>\n",
              "      <td>NaN</td>\n",
              "      <td>NaN</td>\n",
              "      <td>NaN</td>\n",
              "      <td>NaN</td>\n",
              "    </tr>\n",
              "  </tbody>\n",
              "</table>\n",
              "</div>"
            ],
            "text/plain": [
              "      BeneID   ClaimID  ... ClmProcedureCode_5 ClmProcedureCode_6\n",
              "0  BENE11001  CLM46614  ...                NaN                NaN\n",
              "1  BENE11001  CLM66048  ...                NaN                NaN\n",
              "2  BENE11001  CLM68358  ...                NaN                NaN\n",
              "\n",
              "[3 rows x 30 columns]"
            ]
          },
          "metadata": {
            "tags": []
          },
          "execution_count": 15
        }
      ]
    },
    {
      "cell_type": "code",
      "metadata": {
        "colab": {
          "base_uri": "https://localhost:8080/"
        },
        "id": "bLAVjEHz4Tr6",
        "outputId": "35a0610d-b29e-46be-e342-1a5704cbced4"
      },
      "source": [
        "train_inpat.info()"
      ],
      "execution_count": null,
      "outputs": [
        {
          "output_type": "stream",
          "text": [
            "<class 'pandas.core.frame.DataFrame'>\n",
            "RangeIndex: 40474 entries, 0 to 40473\n",
            "Data columns (total 30 columns):\n",
            " #   Column                  Non-Null Count  Dtype  \n",
            "---  ------                  --------------  -----  \n",
            " 0   BeneID                  40474 non-null  object \n",
            " 1   ClaimID                 40474 non-null  object \n",
            " 2   ClaimStartDt            40474 non-null  object \n",
            " 3   ClaimEndDt              40474 non-null  object \n",
            " 4   Provider                40474 non-null  object \n",
            " 5   InscClaimAmtReimbursed  40474 non-null  int64  \n",
            " 6   AttendingPhysician      40362 non-null  object \n",
            " 7   OperatingPhysician      23830 non-null  object \n",
            " 8   OtherPhysician          4690 non-null   object \n",
            " 9   AdmissionDt             40474 non-null  object \n",
            " 10  ClmAdmitDiagnosisCode   40474 non-null  object \n",
            " 11  DeductibleAmtPaid       39575 non-null  float64\n",
            " 12  DischargeDt             40474 non-null  object \n",
            " 13  DiagnosisGroupCode      40474 non-null  object \n",
            " 14  ClmDiagnosisCode_1      40474 non-null  object \n",
            " 15  ClmDiagnosisCode_2      40248 non-null  object \n",
            " 16  ClmDiagnosisCode_3      39798 non-null  object \n",
            " 17  ClmDiagnosisCode_4      38940 non-null  object \n",
            " 18  ClmDiagnosisCode_5      37580 non-null  object \n",
            " 19  ClmDiagnosisCode_6      35636 non-null  object \n",
            " 20  ClmDiagnosisCode_7      33216 non-null  object \n",
            " 21  ClmDiagnosisCode_8      30532 non-null  object \n",
            " 22  ClmDiagnosisCode_9      26977 non-null  object \n",
            " 23  ClmDiagnosisCode_10     3927 non-null   object \n",
            " 24  ClmProcedureCode_1      23148 non-null  float64\n",
            " 25  ClmProcedureCode_2      5454 non-null   float64\n",
            " 26  ClmProcedureCode_3      965 non-null    float64\n",
            " 27  ClmProcedureCode_4      116 non-null    float64\n",
            " 28  ClmProcedureCode_5      9 non-null      float64\n",
            " 29  ClmProcedureCode_6      0 non-null      float64\n",
            "dtypes: float64(7), int64(1), object(22)\n",
            "memory usage: 9.3+ MB\n"
          ],
          "name": "stdout"
        }
      ]
    },
    {
      "cell_type": "code",
      "metadata": {
        "colab": {
          "base_uri": "https://localhost:8080/",
          "height": 162
        },
        "id": "l35GVZsD4WWO",
        "outputId": "45b976e4-398c-484c-e8b6-d511c0451c42"
      },
      "source": [
        "train_outpat.head(3)"
      ],
      "execution_count": null,
      "outputs": [
        {
          "output_type": "execute_result",
          "data": {
            "text/html": [
              "<div>\n",
              "<style scoped>\n",
              "    .dataframe tbody tr th:only-of-type {\n",
              "        vertical-align: middle;\n",
              "    }\n",
              "\n",
              "    .dataframe tbody tr th {\n",
              "        vertical-align: top;\n",
              "    }\n",
              "\n",
              "    .dataframe thead th {\n",
              "        text-align: right;\n",
              "    }\n",
              "</style>\n",
              "<table border=\"1\" class=\"dataframe\">\n",
              "  <thead>\n",
              "    <tr style=\"text-align: right;\">\n",
              "      <th></th>\n",
              "      <th>BeneID</th>\n",
              "      <th>ClaimID</th>\n",
              "      <th>ClaimStartDt</th>\n",
              "      <th>ClaimEndDt</th>\n",
              "      <th>Provider</th>\n",
              "      <th>InscClaimAmtReimbursed</th>\n",
              "      <th>AttendingPhysician</th>\n",
              "      <th>OperatingPhysician</th>\n",
              "      <th>OtherPhysician</th>\n",
              "      <th>ClmDiagnosisCode_1</th>\n",
              "      <th>ClmDiagnosisCode_2</th>\n",
              "      <th>ClmDiagnosisCode_3</th>\n",
              "      <th>ClmDiagnosisCode_4</th>\n",
              "      <th>ClmDiagnosisCode_5</th>\n",
              "      <th>ClmDiagnosisCode_6</th>\n",
              "      <th>ClmDiagnosisCode_7</th>\n",
              "      <th>ClmDiagnosisCode_8</th>\n",
              "      <th>ClmDiagnosisCode_9</th>\n",
              "      <th>ClmDiagnosisCode_10</th>\n",
              "      <th>ClmProcedureCode_1</th>\n",
              "      <th>ClmProcedureCode_2</th>\n",
              "      <th>ClmProcedureCode_3</th>\n",
              "      <th>ClmProcedureCode_4</th>\n",
              "      <th>ClmProcedureCode_5</th>\n",
              "      <th>ClmProcedureCode_6</th>\n",
              "      <th>DeductibleAmtPaid</th>\n",
              "      <th>ClmAdmitDiagnosisCode</th>\n",
              "    </tr>\n",
              "  </thead>\n",
              "  <tbody>\n",
              "    <tr>\n",
              "      <th>0</th>\n",
              "      <td>BENE11002</td>\n",
              "      <td>CLM624349</td>\n",
              "      <td>2009-10-11</td>\n",
              "      <td>2009-10-11</td>\n",
              "      <td>PRV56011</td>\n",
              "      <td>30</td>\n",
              "      <td>PHY326117</td>\n",
              "      <td>NaN</td>\n",
              "      <td>NaN</td>\n",
              "      <td>78943</td>\n",
              "      <td>V5866</td>\n",
              "      <td>V1272</td>\n",
              "      <td>NaN</td>\n",
              "      <td>NaN</td>\n",
              "      <td>NaN</td>\n",
              "      <td>NaN</td>\n",
              "      <td>NaN</td>\n",
              "      <td>NaN</td>\n",
              "      <td>NaN</td>\n",
              "      <td>NaN</td>\n",
              "      <td>NaN</td>\n",
              "      <td>NaN</td>\n",
              "      <td>NaN</td>\n",
              "      <td>NaN</td>\n",
              "      <td>NaN</td>\n",
              "      <td>0</td>\n",
              "      <td>56409</td>\n",
              "    </tr>\n",
              "    <tr>\n",
              "      <th>1</th>\n",
              "      <td>BENE11003</td>\n",
              "      <td>CLM189947</td>\n",
              "      <td>2009-02-12</td>\n",
              "      <td>2009-02-12</td>\n",
              "      <td>PRV57610</td>\n",
              "      <td>80</td>\n",
              "      <td>PHY362868</td>\n",
              "      <td>NaN</td>\n",
              "      <td>NaN</td>\n",
              "      <td>6115</td>\n",
              "      <td>NaN</td>\n",
              "      <td>NaN</td>\n",
              "      <td>NaN</td>\n",
              "      <td>NaN</td>\n",
              "      <td>NaN</td>\n",
              "      <td>NaN</td>\n",
              "      <td>NaN</td>\n",
              "      <td>NaN</td>\n",
              "      <td>NaN</td>\n",
              "      <td>NaN</td>\n",
              "      <td>NaN</td>\n",
              "      <td>NaN</td>\n",
              "      <td>NaN</td>\n",
              "      <td>NaN</td>\n",
              "      <td>NaN</td>\n",
              "      <td>0</td>\n",
              "      <td>79380</td>\n",
              "    </tr>\n",
              "    <tr>\n",
              "      <th>2</th>\n",
              "      <td>BENE11003</td>\n",
              "      <td>CLM438021</td>\n",
              "      <td>2009-06-27</td>\n",
              "      <td>2009-06-27</td>\n",
              "      <td>PRV57595</td>\n",
              "      <td>10</td>\n",
              "      <td>PHY328821</td>\n",
              "      <td>NaN</td>\n",
              "      <td>NaN</td>\n",
              "      <td>2723</td>\n",
              "      <td>NaN</td>\n",
              "      <td>NaN</td>\n",
              "      <td>NaN</td>\n",
              "      <td>NaN</td>\n",
              "      <td>NaN</td>\n",
              "      <td>NaN</td>\n",
              "      <td>NaN</td>\n",
              "      <td>NaN</td>\n",
              "      <td>NaN</td>\n",
              "      <td>NaN</td>\n",
              "      <td>NaN</td>\n",
              "      <td>NaN</td>\n",
              "      <td>NaN</td>\n",
              "      <td>NaN</td>\n",
              "      <td>NaN</td>\n",
              "      <td>0</td>\n",
              "      <td>NaN</td>\n",
              "    </tr>\n",
              "  </tbody>\n",
              "</table>\n",
              "</div>"
            ],
            "text/plain": [
              "      BeneID    ClaimID  ... DeductibleAmtPaid ClmAdmitDiagnosisCode\n",
              "0  BENE11002  CLM624349  ...                 0                 56409\n",
              "1  BENE11003  CLM189947  ...                 0                 79380\n",
              "2  BENE11003  CLM438021  ...                 0                   NaN\n",
              "\n",
              "[3 rows x 27 columns]"
            ]
          },
          "metadata": {
            "tags": []
          },
          "execution_count": 18
        }
      ]
    },
    {
      "cell_type": "code",
      "metadata": {
        "colab": {
          "base_uri": "https://localhost:8080/"
        },
        "id": "lC2ZALGL4mL2",
        "outputId": "177a1d5c-e021-48e9-fe77-fee1be9f41cf"
      },
      "source": [
        "train_outpat.info()"
      ],
      "execution_count": null,
      "outputs": [
        {
          "output_type": "stream",
          "text": [
            "<class 'pandas.core.frame.DataFrame'>\n",
            "RangeIndex: 517737 entries, 0 to 517736\n",
            "Data columns (total 27 columns):\n",
            " #   Column                  Non-Null Count   Dtype  \n",
            "---  ------                  --------------   -----  \n",
            " 0   BeneID                  517737 non-null  object \n",
            " 1   ClaimID                 517737 non-null  object \n",
            " 2   ClaimStartDt            517737 non-null  object \n",
            " 3   ClaimEndDt              517737 non-null  object \n",
            " 4   Provider                517737 non-null  object \n",
            " 5   InscClaimAmtReimbursed  517737 non-null  int64  \n",
            " 6   AttendingPhysician      516341 non-null  object \n",
            " 7   OperatingPhysician      90617 non-null   object \n",
            " 8   OtherPhysician          195046 non-null  object \n",
            " 9   ClmDiagnosisCode_1      507284 non-null  object \n",
            " 10  ClmDiagnosisCode_2      322357 non-null  object \n",
            " 11  ClmDiagnosisCode_3      203257 non-null  object \n",
            " 12  ClmDiagnosisCode_4      125596 non-null  object \n",
            " 13  ClmDiagnosisCode_5      74344 non-null   object \n",
            " 14  ClmDiagnosisCode_6      48756 non-null   object \n",
            " 15  ClmDiagnosisCode_7      32961 non-null   object \n",
            " 16  ClmDiagnosisCode_8      22912 non-null   object \n",
            " 17  ClmDiagnosisCode_9      14838 non-null   object \n",
            " 18  ClmDiagnosisCode_10     1083 non-null    object \n",
            " 19  ClmProcedureCode_1      162 non-null     float64\n",
            " 20  ClmProcedureCode_2      36 non-null      float64\n",
            " 21  ClmProcedureCode_3      4 non-null       float64\n",
            " 22  ClmProcedureCode_4      2 non-null       float64\n",
            " 23  ClmProcedureCode_5      0 non-null       float64\n",
            " 24  ClmProcedureCode_6      0 non-null       float64\n",
            " 25  DeductibleAmtPaid       517737 non-null  int64  \n",
            " 26  ClmAdmitDiagnosisCode   105425 non-null  object \n",
            "dtypes: float64(6), int64(2), object(19)\n",
            "memory usage: 106.7+ MB\n"
          ],
          "name": "stdout"
        }
      ]
    },
    {
      "cell_type": "code",
      "metadata": {
        "colab": {
          "base_uri": "https://localhost:8080/",
          "height": 204
        },
        "id": "E45wu-5h7Z_B",
        "outputId": "728d6821-7af0-4d09-c64b-2d20b6db4b21"
      },
      "source": [
        "train_y.head()"
      ],
      "execution_count": null,
      "outputs": [
        {
          "output_type": "execute_result",
          "data": {
            "text/html": [
              "<div>\n",
              "<style scoped>\n",
              "    .dataframe tbody tr th:only-of-type {\n",
              "        vertical-align: middle;\n",
              "    }\n",
              "\n",
              "    .dataframe tbody tr th {\n",
              "        vertical-align: top;\n",
              "    }\n",
              "\n",
              "    .dataframe thead th {\n",
              "        text-align: right;\n",
              "    }\n",
              "</style>\n",
              "<table border=\"1\" class=\"dataframe\">\n",
              "  <thead>\n",
              "    <tr style=\"text-align: right;\">\n",
              "      <th></th>\n",
              "      <th>Provider</th>\n",
              "      <th>PotentialFraud</th>\n",
              "    </tr>\n",
              "  </thead>\n",
              "  <tbody>\n",
              "    <tr>\n",
              "      <th>0</th>\n",
              "      <td>PRV51001</td>\n",
              "      <td>No</td>\n",
              "    </tr>\n",
              "    <tr>\n",
              "      <th>1</th>\n",
              "      <td>PRV51003</td>\n",
              "      <td>Yes</td>\n",
              "    </tr>\n",
              "    <tr>\n",
              "      <th>2</th>\n",
              "      <td>PRV51004</td>\n",
              "      <td>No</td>\n",
              "    </tr>\n",
              "    <tr>\n",
              "      <th>3</th>\n",
              "      <td>PRV51005</td>\n",
              "      <td>Yes</td>\n",
              "    </tr>\n",
              "    <tr>\n",
              "      <th>4</th>\n",
              "      <td>PRV51007</td>\n",
              "      <td>No</td>\n",
              "    </tr>\n",
              "  </tbody>\n",
              "</table>\n",
              "</div>"
            ],
            "text/plain": [
              "   Provider PotentialFraud\n",
              "0  PRV51001             No\n",
              "1  PRV51003            Yes\n",
              "2  PRV51004             No\n",
              "3  PRV51005            Yes\n",
              "4  PRV51007             No"
            ]
          },
          "metadata": {
            "tags": []
          },
          "execution_count": 35
        }
      ]
    },
    {
      "cell_type": "code",
      "metadata": {
        "colab": {
          "base_uri": "https://localhost:8080/"
        },
        "id": "UHnngMDk42Dt",
        "outputId": "9ff9687b-a792-4875-857c-2738e22aa97f"
      },
      "source": [
        "print(\"Shape of Train Beneficiary file Data:\",train_ben.shape)\n",
        "print(\"Shape of Train In-patient file Data:\", train_inpat.shape)\n",
        "print(\"Shape of Train Out-patient file Data:\", train_outpat.shape)\n",
        "print(\"Shape of Train file Data:\", train_y.shape)"
      ],
      "execution_count": null,
      "outputs": [
        {
          "output_type": "stream",
          "text": [
            "Shape of Train Beneficiary file Data: (138556, 25)\n",
            "Shape of Train In-patient file Data: (40474, 30)\n",
            "Shape of Train Out-patient file Data: (517737, 27)\n",
            "Shape of Train file Data: (5410, 2)\n"
          ],
          "name": "stdout"
        }
      ]
    },
    {
      "cell_type": "code",
      "metadata": {
        "colab": {
          "base_uri": "https://localhost:8080/"
        },
        "id": "r0Fr93oJ7_rl",
        "outputId": "31366885-d783-442a-a8d6-b904f57defc1"
      },
      "source": [
        "out_prov= np.unique(train_outpat['Provider'])\n",
        "print(\"The number of Unique Providers in the Train_Outpat file:\", len(out_prov))\n",
        "\n",
        "in_prov= np.unique(train_inpat['Provider'])\n",
        "print(\"The number of Unique Providers in the Train_Inpat file\", len(in_prov))\n",
        "\n",
        "com_prov= set(out_prov).intersection(set(in_prov))\n",
        "print(\"The number of Providers common to both the Inpat and Outpat files:\",len(com_prov))\n",
        "\n",
        "uni_ele= len(out_prov)+len(in_prov)-len(com_prov)\n",
        "print(\"Total Number of Unique Providers in Outpatient and Inpatient datasets Together:\",uni_ele)"
      ],
      "execution_count": null,
      "outputs": [
        {
          "output_type": "stream",
          "text": [
            "The number of Unique Providers in the Train_Outpat file: 5012\n",
            "The number of Unique Providers in the Train_Inpat file 2092\n",
            "The number of Providers common to both the Inpat and Outpat files: 1694\n",
            "Total Number of Unique Providers in Outpatient and Inpatient datasets Together: 5410\n"
          ],
          "name": "stdout"
        }
      ]
    },
    {
      "cell_type": "markdown",
      "metadata": {
        "id": "beeoCdHv-ulm"
      },
      "source": [
        "##<font color='green'><b> **Observations on the Train Datasets**</b></font>\n",
        "\n",
        "1. We observed that the labels of Potential Fraud as \"Yes\" or \"No\" have been  provided to the each of the Providers in the dataset.\n",
        "\n",
        "2. The number of Unique Providers in the Dataset is 5410 as can be seen in the  \"Train\" file.\n",
        "\n",
        "3. Hence,checking for the unique Providers in the Inpatient and the Outpatient files.\n",
        "\n",
        "4. From the above, we observed that that the total number of Providers are spread across the Inpatient and Outpatient Files.\n"
      ]
    },
    {
      "cell_type": "markdown",
      "metadata": {
        "id": "BXK45Q02NiKQ"
      },
      "source": [
        "###<font color='blue'><b>**Looking at the diffeerent columns present in each of the datasets**</b></font>"
      ]
    },
    {
      "cell_type": "code",
      "metadata": {
        "colab": {
          "base_uri": "https://localhost:8080/"
        },
        "id": "h46oJHrfNDbG",
        "outputId": "95423a58-9547-4120-b3df-c869a5f348fe"
      },
      "source": [
        "print(\"The columns in the Outpatient Dataset are:\",train_outpat.columns)\n",
        "print(\"=\"*100)\n",
        "print(\"The columns in the Inpatient Dataset are:\",train_inpat.columns)\n",
        "print(\"=\"*100)\n",
        "print(\"The columns in the Beneficiary Dataset are:\",train_ben.columns)"
      ],
      "execution_count": null,
      "outputs": [
        {
          "output_type": "stream",
          "text": [
            "The columns in the Outpatient Dataset are: Index(['BeneID', 'ClaimID', 'ClaimStartDt', 'ClaimEndDt', 'Provider',\n",
            "       'InscClaimAmtReimbursed', 'AttendingPhysician', 'OperatingPhysician',\n",
            "       'OtherPhysician', 'ClmDiagnosisCode_1', 'ClmDiagnosisCode_2',\n",
            "       'ClmDiagnosisCode_3', 'ClmDiagnosisCode_4', 'ClmDiagnosisCode_5',\n",
            "       'ClmDiagnosisCode_6', 'ClmDiagnosisCode_7', 'ClmDiagnosisCode_8',\n",
            "       'ClmDiagnosisCode_9', 'ClmDiagnosisCode_10', 'ClmProcedureCode_1',\n",
            "       'ClmProcedureCode_2', 'ClmProcedureCode_3', 'ClmProcedureCode_4',\n",
            "       'ClmProcedureCode_5', 'ClmProcedureCode_6', 'DeductibleAmtPaid',\n",
            "       'ClmAdmitDiagnosisCode'],\n",
            "      dtype='object')\n",
            "====================================================================================================\n",
            "The columns in the Inpatient Dataset are: Index(['BeneID', 'ClaimID', 'ClaimStartDt', 'ClaimEndDt', 'Provider',\n",
            "       'InscClaimAmtReimbursed', 'AttendingPhysician', 'OperatingPhysician',\n",
            "       'OtherPhysician', 'AdmissionDt', 'ClmAdmitDiagnosisCode',\n",
            "       'DeductibleAmtPaid', 'DischargeDt', 'DiagnosisGroupCode',\n",
            "       'ClmDiagnosisCode_1', 'ClmDiagnosisCode_2', 'ClmDiagnosisCode_3',\n",
            "       'ClmDiagnosisCode_4', 'ClmDiagnosisCode_5', 'ClmDiagnosisCode_6',\n",
            "       'ClmDiagnosisCode_7', 'ClmDiagnosisCode_8', 'ClmDiagnosisCode_9',\n",
            "       'ClmDiagnosisCode_10', 'ClmProcedureCode_1', 'ClmProcedureCode_2',\n",
            "       'ClmProcedureCode_3', 'ClmProcedureCode_4', 'ClmProcedureCode_5',\n",
            "       'ClmProcedureCode_6'],\n",
            "      dtype='object')\n",
            "====================================================================================================\n",
            "The columns in the Beneficiary Dataset are: Index(['BeneID', 'DOB', 'DOD', 'Gender', 'Race', 'RenalDiseaseIndicator',\n",
            "       'State', 'County', 'NoOfMonths_PartACov', 'NoOfMonths_PartBCov',\n",
            "       'ChronicCond_Alzheimer', 'ChronicCond_Heartfailure',\n",
            "       'ChronicCond_KidneyDisease', 'ChronicCond_Cancer',\n",
            "       'ChronicCond_ObstrPulmonary', 'ChronicCond_Depression',\n",
            "       'ChronicCond_Diabetes', 'ChronicCond_IschemicHeart',\n",
            "       'ChronicCond_Osteoporasis', 'ChronicCond_rheumatoidarthritis',\n",
            "       'ChronicCond_stroke', 'IPAnnualReimbursementAmt',\n",
            "       'IPAnnualDeductibleAmt', 'OPAnnualReimbursementAmt',\n",
            "       'OPAnnualDeductibleAmt'],\n",
            "      dtype='object')\n"
          ],
          "name": "stdout"
        }
      ]
    },
    {
      "cell_type": "markdown",
      "metadata": {
        "id": "rX0f-GY1VVe7"
      },
      "source": [
        "###<font color='blue'><b>Checking for common columns between the Outpatient and the Ipatient datasets seperately </b></font>"
      ]
    },
    {
      "cell_type": "code",
      "metadata": {
        "colab": {
          "base_uri": "https://localhost:8080/"
        },
        "id": "eOIYmWZtNDS4",
        "outputId": "a84fa49f-e9e6-442a-aff3-fb1dc2f85b32"
      },
      "source": [
        "#Checking each of the columns in the Outaptient dataset if they are present in the Inpatient Dataset\n",
        "c_o=[]\n",
        "for o in train_outpat.columns:\n",
        "    if o in train_inpat.columns:\n",
        "        c_o.append(o)\n",
        "\n",
        "#Checking each of the columns in the Inpatient dataset if they are present in the Outpatient dataset\n",
        "c_i=[]\n",
        "for i in train_inpat.columns:\n",
        "    if i in train_outpat.columns:\n",
        "        c_i.append(i)\n",
        "print(\"Cols of Outpatient dataset also present in Inpatient dataset\",len(c_o))\n",
        "print(\"Cols of Inpatient dataset also present in Outpatient dataset\",len(c_i))\n",
        "\n",
        "#Checking for common column names in the outpatient and the inpatient datasets \n",
        "c_s= set(c_o).intersection(set(c_i))\n",
        "c_s= list(c_s)\n",
        "print(\"Common columns between the outpatient and the inpatient datasets\",len(c_s))"
      ],
      "execution_count": null,
      "outputs": [
        {
          "output_type": "stream",
          "text": [
            "Cols of Outpatient dataset also present in Inpatient dataset 27\n",
            "Cols of Inpatient dataset also present in Outpatient dataset 27\n",
            "Common columns between the outpatient and the inpatient datasets 27\n"
          ],
          "name": "stdout"
        }
      ]
    },
    {
      "cell_type": "code",
      "metadata": {
        "colab": {
          "base_uri": "https://localhost:8080/"
        },
        "id": "GwDW-76jb-8t",
        "outputId": "5c9118b6-ce97-4a2a-8f32-9be1df30f109"
      },
      "source": [
        "print(c_s)"
      ],
      "execution_count": null,
      "outputs": [
        {
          "output_type": "stream",
          "text": [
            "['BeneID', 'ClmProcedureCode_1', 'ClmDiagnosisCode_3', 'OperatingPhysician', 'ClaimStartDt', 'ClmProcedureCode_4', 'DeductibleAmtPaid', 'ClmDiagnosisCode_1', 'ClmDiagnosisCode_8', 'OtherPhysician', 'ClmProcedureCode_3', 'ClmDiagnosisCode_7', 'ClmDiagnosisCode_9', 'ClmProcedureCode_5', 'AttendingPhysician', 'ClmDiagnosisCode_5', 'ClmProcedureCode_6', 'ClmProcedureCode_2', 'ClmDiagnosisCode_10', 'ClaimEndDt', 'ClmAdmitDiagnosisCode', 'ClmDiagnosisCode_6', 'Provider', 'ClaimID', 'InscClaimAmtReimbursed', 'ClmDiagnosisCode_2', 'ClmDiagnosisCode_4']\n"
          ],
          "name": "stdout"
        }
      ]
    },
    {
      "cell_type": "markdown",
      "metadata": {
        "id": "tGQWYjxFXM5q"
      },
      "source": [
        "###<font color='blue'><b> Merging the Outpatient and the Inpatient datasets based on the common columns between both the datasets. We will be doing an outer merge as we need to take the union of all the elements in both the datasets </b></font> "
      ]
    },
    {
      "cell_type": "code",
      "metadata": {
        "colab": {
          "base_uri": "https://localhost:8080/"
        },
        "id": "YhBN6BChdEV7",
        "outputId": "d5c9a9e0-869c-4f78-ec10-1c0e3940690c"
      },
      "source": [
        "train_fin_df= pd.merge(train_inpat,train_outpat,left_on=c_s,right_on=c_s,how='outer')\n",
        "train_fin_df.shape"
      ],
      "execution_count": null,
      "outputs": [
        {
          "output_type": "execute_result",
          "data": {
            "text/plain": [
              "(558211, 30)"
            ]
          },
          "metadata": {
            "tags": []
          },
          "execution_count": 93
        }
      ]
    },
    {
      "cell_type": "code",
      "metadata": {
        "colab": {
          "base_uri": "https://localhost:8080/",
          "height": 131
        },
        "id": "IOpWh3b7dNsK",
        "outputId": "45d3d5a8-8d03-468f-bbd9-8ff2ad9c92b3"
      },
      "source": [
        "train_fin_df.head(2)"
      ],
      "execution_count": null,
      "outputs": [
        {
          "output_type": "execute_result",
          "data": {
            "text/html": [
              "<div>\n",
              "<style scoped>\n",
              "    .dataframe tbody tr th:only-of-type {\n",
              "        vertical-align: middle;\n",
              "    }\n",
              "\n",
              "    .dataframe tbody tr th {\n",
              "        vertical-align: top;\n",
              "    }\n",
              "\n",
              "    .dataframe thead th {\n",
              "        text-align: right;\n",
              "    }\n",
              "</style>\n",
              "<table border=\"1\" class=\"dataframe\">\n",
              "  <thead>\n",
              "    <tr style=\"text-align: right;\">\n",
              "      <th></th>\n",
              "      <th>BeneID</th>\n",
              "      <th>ClaimID</th>\n",
              "      <th>ClaimStartDt</th>\n",
              "      <th>ClaimEndDt</th>\n",
              "      <th>Provider</th>\n",
              "      <th>InscClaimAmtReimbursed</th>\n",
              "      <th>AttendingPhysician</th>\n",
              "      <th>OperatingPhysician</th>\n",
              "      <th>OtherPhysician</th>\n",
              "      <th>AdmissionDt</th>\n",
              "      <th>ClmAdmitDiagnosisCode</th>\n",
              "      <th>DeductibleAmtPaid</th>\n",
              "      <th>DischargeDt</th>\n",
              "      <th>DiagnosisGroupCode</th>\n",
              "      <th>ClmDiagnosisCode_1</th>\n",
              "      <th>ClmDiagnosisCode_2</th>\n",
              "      <th>ClmDiagnosisCode_3</th>\n",
              "      <th>ClmDiagnosisCode_4</th>\n",
              "      <th>ClmDiagnosisCode_5</th>\n",
              "      <th>ClmDiagnosisCode_6</th>\n",
              "      <th>ClmDiagnosisCode_7</th>\n",
              "      <th>ClmDiagnosisCode_8</th>\n",
              "      <th>ClmDiagnosisCode_9</th>\n",
              "      <th>ClmDiagnosisCode_10</th>\n",
              "      <th>ClmProcedureCode_1</th>\n",
              "      <th>ClmProcedureCode_2</th>\n",
              "      <th>ClmProcedureCode_3</th>\n",
              "      <th>ClmProcedureCode_4</th>\n",
              "      <th>ClmProcedureCode_5</th>\n",
              "      <th>ClmProcedureCode_6</th>\n",
              "    </tr>\n",
              "  </thead>\n",
              "  <tbody>\n",
              "    <tr>\n",
              "      <th>0</th>\n",
              "      <td>BENE11001</td>\n",
              "      <td>CLM46614</td>\n",
              "      <td>2009-04-12</td>\n",
              "      <td>2009-04-18</td>\n",
              "      <td>PRV55912</td>\n",
              "      <td>26000</td>\n",
              "      <td>PHY390922</td>\n",
              "      <td>NaN</td>\n",
              "      <td>NaN</td>\n",
              "      <td>2009-04-12</td>\n",
              "      <td>7866</td>\n",
              "      <td>1068.0</td>\n",
              "      <td>2009-04-18</td>\n",
              "      <td>201</td>\n",
              "      <td>1970</td>\n",
              "      <td>4019</td>\n",
              "      <td>5853</td>\n",
              "      <td>7843</td>\n",
              "      <td>2768</td>\n",
              "      <td>71590</td>\n",
              "      <td>2724</td>\n",
              "      <td>19889</td>\n",
              "      <td>5849</td>\n",
              "      <td>NaN</td>\n",
              "      <td>NaN</td>\n",
              "      <td>NaN</td>\n",
              "      <td>NaN</td>\n",
              "      <td>NaN</td>\n",
              "      <td>NaN</td>\n",
              "      <td>NaN</td>\n",
              "    </tr>\n",
              "    <tr>\n",
              "      <th>1</th>\n",
              "      <td>BENE11001</td>\n",
              "      <td>CLM66048</td>\n",
              "      <td>2009-08-31</td>\n",
              "      <td>2009-09-02</td>\n",
              "      <td>PRV55907</td>\n",
              "      <td>5000</td>\n",
              "      <td>PHY318495</td>\n",
              "      <td>PHY318495</td>\n",
              "      <td>NaN</td>\n",
              "      <td>2009-08-31</td>\n",
              "      <td>6186</td>\n",
              "      <td>1068.0</td>\n",
              "      <td>2009-09-02</td>\n",
              "      <td>750</td>\n",
              "      <td>6186</td>\n",
              "      <td>2948</td>\n",
              "      <td>56400</td>\n",
              "      <td>NaN</td>\n",
              "      <td>NaN</td>\n",
              "      <td>NaN</td>\n",
              "      <td>NaN</td>\n",
              "      <td>NaN</td>\n",
              "      <td>NaN</td>\n",
              "      <td>NaN</td>\n",
              "      <td>7092.0</td>\n",
              "      <td>NaN</td>\n",
              "      <td>NaN</td>\n",
              "      <td>NaN</td>\n",
              "      <td>NaN</td>\n",
              "      <td>NaN</td>\n",
              "    </tr>\n",
              "  </tbody>\n",
              "</table>\n",
              "</div>"
            ],
            "text/plain": [
              "      BeneID   ClaimID  ... ClmProcedureCode_5 ClmProcedureCode_6\n",
              "0  BENE11001  CLM46614  ...                NaN                NaN\n",
              "1  BENE11001  CLM66048  ...                NaN                NaN\n",
              "\n",
              "[2 rows x 30 columns]"
            ]
          },
          "metadata": {
            "tags": []
          },
          "execution_count": 138
        }
      ]
    },
    {
      "cell_type": "markdown",
      "metadata": {
        "id": "PE8VMyeGcjoi"
      },
      "source": [
        "###<font color='blue'><b>Merging the resultant dataset with Beneficiary data on the BeneID column in both teh datasets</b></font>"
      ]
    },
    {
      "cell_type": "code",
      "metadata": {
        "colab": {
          "base_uri": "https://localhost:8080/"
        },
        "id": "_nYmLikB1mdA",
        "outputId": "282782a1-e813-4820-fb2d-88a77daba7e4"
      },
      "source": [
        "train_fin= pd.merge(train_fin_df,train_ben, left_on='BeneID',right_on= 'BeneID',how='outer')\n",
        "train_fin.shape"
      ],
      "execution_count": null,
      "outputs": [
        {
          "output_type": "execute_result",
          "data": {
            "text/plain": [
              "(558211, 54)"
            ]
          },
          "metadata": {
            "tags": []
          },
          "execution_count": 94
        }
      ]
    },
    {
      "cell_type": "code",
      "metadata": {
        "colab": {
          "base_uri": "https://localhost:8080/"
        },
        "id": "hBIkLt2d1mDE",
        "outputId": "ce9fe7e2-c024-4590-a71a-e710263ffdd6"
      },
      "source": [
        "print(\"The columns in the final merged dataset are:\",train_fin.columns)"
      ],
      "execution_count": null,
      "outputs": [
        {
          "output_type": "stream",
          "text": [
            "The columns in the final merged dataset are: Index(['BeneID', 'ClaimID', 'ClaimStartDt', 'ClaimEndDt', 'Provider',\n",
            "       'InscClaimAmtReimbursed', 'AttendingPhysician', 'OperatingPhysician',\n",
            "       'OtherPhysician', 'AdmissionDt', 'ClmAdmitDiagnosisCode',\n",
            "       'DeductibleAmtPaid', 'DischargeDt', 'DiagnosisGroupCode',\n",
            "       'ClmDiagnosisCode_1', 'ClmDiagnosisCode_2', 'ClmDiagnosisCode_3',\n",
            "       'ClmDiagnosisCode_4', 'ClmDiagnosisCode_5', 'ClmDiagnosisCode_6',\n",
            "       'ClmDiagnosisCode_7', 'ClmDiagnosisCode_8', 'ClmDiagnosisCode_9',\n",
            "       'ClmDiagnosisCode_10', 'ClmProcedureCode_1', 'ClmProcedureCode_2',\n",
            "       'ClmProcedureCode_3', 'ClmProcedureCode_4', 'ClmProcedureCode_5',\n",
            "       'ClmProcedureCode_6', 'DOB', 'DOD', 'Gender', 'Race',\n",
            "       'RenalDiseaseIndicator', 'State', 'County', 'NoOfMonths_PartACov',\n",
            "       'NoOfMonths_PartBCov', 'ChronicCond_Alzheimer',\n",
            "       'ChronicCond_Heartfailure', 'ChronicCond_KidneyDisease',\n",
            "       'ChronicCond_Cancer', 'ChronicCond_ObstrPulmonary',\n",
            "       'ChronicCond_Depression', 'ChronicCond_Diabetes',\n",
            "       'ChronicCond_IschemicHeart', 'ChronicCond_Osteoporasis',\n",
            "       'ChronicCond_rheumatoidarthritis', 'ChronicCond_stroke',\n",
            "       'IPAnnualReimbursementAmt', 'IPAnnualDeductibleAmt',\n",
            "       'OPAnnualReimbursementAmt', 'OPAnnualDeductibleAmt'],\n",
            "      dtype='object')\n"
          ],
          "name": "stdout"
        }
      ]
    },
    {
      "cell_type": "markdown",
      "metadata": {
        "id": "nPyU0XWLdpGU"
      },
      "source": [
        "###<font color='blue'><b>Merging the Y variable with the final dataset</b></font>"
      ]
    },
    {
      "cell_type": "code",
      "metadata": {
        "colab": {
          "base_uri": "https://localhost:8080/"
        },
        "id": "YRVbJnzF4f3F",
        "outputId": "0a0b8f4b-6387-4c3a-eba7-9079b3f2bb9d"
      },
      "source": [
        "train_fin= pd.merge(train_fin,train_y,left_on= 'Provider',right_on='Provider',how='outer')\n",
        "train_fin.shape"
      ],
      "execution_count": null,
      "outputs": [
        {
          "output_type": "execute_result",
          "data": {
            "text/plain": [
              "(558211, 55)"
            ]
          },
          "metadata": {
            "tags": []
          },
          "execution_count": 95
        }
      ]
    },
    {
      "cell_type": "code",
      "metadata": {
        "colab": {
          "base_uri": "https://localhost:8080/"
        },
        "id": "CmjdlYty4frg",
        "outputId": "b30b0e72-2fdb-41fb-d93c-133eba9ac4fc"
      },
      "source": [
        "train_fin.columns"
      ],
      "execution_count": null,
      "outputs": [
        {
          "output_type": "execute_result",
          "data": {
            "text/plain": [
              "Index(['BeneID', 'ClaimID', 'ClaimStartDt', 'ClaimEndDt', 'Provider',\n",
              "       'InscClaimAmtReimbursed', 'AttendingPhysician', 'OperatingPhysician',\n",
              "       'OtherPhysician', 'AdmissionDt', 'ClmAdmitDiagnosisCode',\n",
              "       'DeductibleAmtPaid', 'DischargeDt', 'DiagnosisGroupCode',\n",
              "       'ClmDiagnosisCode_1', 'ClmDiagnosisCode_2', 'ClmDiagnosisCode_3',\n",
              "       'ClmDiagnosisCode_4', 'ClmDiagnosisCode_5', 'ClmDiagnosisCode_6',\n",
              "       'ClmDiagnosisCode_7', 'ClmDiagnosisCode_8', 'ClmDiagnosisCode_9',\n",
              "       'ClmDiagnosisCode_10', 'ClmProcedureCode_1', 'ClmProcedureCode_2',\n",
              "       'ClmProcedureCode_3', 'ClmProcedureCode_4', 'ClmProcedureCode_5',\n",
              "       'ClmProcedureCode_6', 'DOB', 'DOD', 'Gender', 'Race',\n",
              "       'RenalDiseaseIndicator', 'State', 'County', 'NoOfMonths_PartACov',\n",
              "       'NoOfMonths_PartBCov', 'ChronicCond_Alzheimer',\n",
              "       'ChronicCond_Heartfailure', 'ChronicCond_KidneyDisease',\n",
              "       'ChronicCond_Cancer', 'ChronicCond_ObstrPulmonary',\n",
              "       'ChronicCond_Depression', 'ChronicCond_Diabetes',\n",
              "       'ChronicCond_IschemicHeart', 'ChronicCond_Osteoporasis',\n",
              "       'ChronicCond_rheumatoidarthritis', 'ChronicCond_stroke',\n",
              "       'IPAnnualReimbursementAmt', 'IPAnnualDeductibleAmt',\n",
              "       'OPAnnualReimbursementAmt', 'OPAnnualDeductibleAmt', 'PotentialFraud'],\n",
              "      dtype='object')"
            ]
          },
          "metadata": {
            "tags": []
          },
          "execution_count": 105
        }
      ]
    },
    {
      "cell_type": "code",
      "metadata": {
        "colab": {
          "base_uri": "https://localhost:8080/",
          "height": 309
        },
        "id": "QnFCYbtH53xZ",
        "outputId": "7b9f92dd-83b7-4e62-97be-8cb8de36e23c"
      },
      "source": [
        "train_fin.head()"
      ],
      "execution_count": null,
      "outputs": [
        {
          "output_type": "execute_result",
          "data": {
            "text/html": [
              "<div>\n",
              "<style scoped>\n",
              "    .dataframe tbody tr th:only-of-type {\n",
              "        vertical-align: middle;\n",
              "    }\n",
              "\n",
              "    .dataframe tbody tr th {\n",
              "        vertical-align: top;\n",
              "    }\n",
              "\n",
              "    .dataframe thead th {\n",
              "        text-align: right;\n",
              "    }\n",
              "</style>\n",
              "<table border=\"1\" class=\"dataframe\">\n",
              "  <thead>\n",
              "    <tr style=\"text-align: right;\">\n",
              "      <th></th>\n",
              "      <th>BeneID</th>\n",
              "      <th>ClaimID</th>\n",
              "      <th>ClaimStartDt</th>\n",
              "      <th>ClaimEndDt</th>\n",
              "      <th>Provider</th>\n",
              "      <th>InscClaimAmtReimbursed</th>\n",
              "      <th>AttendingPhysician</th>\n",
              "      <th>OperatingPhysician</th>\n",
              "      <th>OtherPhysician</th>\n",
              "      <th>AdmissionDt</th>\n",
              "      <th>ClmAdmitDiagnosisCode</th>\n",
              "      <th>DeductibleAmtPaid</th>\n",
              "      <th>DischargeDt</th>\n",
              "      <th>DiagnosisGroupCode</th>\n",
              "      <th>ClmDiagnosisCode_1</th>\n",
              "      <th>ClmDiagnosisCode_2</th>\n",
              "      <th>ClmDiagnosisCode_3</th>\n",
              "      <th>ClmDiagnosisCode_4</th>\n",
              "      <th>ClmDiagnosisCode_5</th>\n",
              "      <th>ClmDiagnosisCode_6</th>\n",
              "      <th>ClmDiagnosisCode_7</th>\n",
              "      <th>ClmDiagnosisCode_8</th>\n",
              "      <th>ClmDiagnosisCode_9</th>\n",
              "      <th>ClmDiagnosisCode_10</th>\n",
              "      <th>ClmProcedureCode_1</th>\n",
              "      <th>ClmProcedureCode_2</th>\n",
              "      <th>ClmProcedureCode_3</th>\n",
              "      <th>ClmProcedureCode_4</th>\n",
              "      <th>ClmProcedureCode_5</th>\n",
              "      <th>ClmProcedureCode_6</th>\n",
              "      <th>DOB</th>\n",
              "      <th>DOD</th>\n",
              "      <th>Gender</th>\n",
              "      <th>Race</th>\n",
              "      <th>RenalDiseaseIndicator</th>\n",
              "      <th>State</th>\n",
              "      <th>County</th>\n",
              "      <th>NoOfMonths_PartACov</th>\n",
              "      <th>NoOfMonths_PartBCov</th>\n",
              "      <th>ChronicCond_Alzheimer</th>\n",
              "      <th>ChronicCond_Heartfailure</th>\n",
              "      <th>ChronicCond_KidneyDisease</th>\n",
              "      <th>ChronicCond_Cancer</th>\n",
              "      <th>ChronicCond_ObstrPulmonary</th>\n",
              "      <th>ChronicCond_Depression</th>\n",
              "      <th>ChronicCond_Diabetes</th>\n",
              "      <th>ChronicCond_IschemicHeart</th>\n",
              "      <th>ChronicCond_Osteoporasis</th>\n",
              "      <th>ChronicCond_rheumatoidarthritis</th>\n",
              "      <th>ChronicCond_stroke</th>\n",
              "      <th>IPAnnualReimbursementAmt</th>\n",
              "      <th>IPAnnualDeductibleAmt</th>\n",
              "      <th>OPAnnualReimbursementAmt</th>\n",
              "      <th>OPAnnualDeductibleAmt</th>\n",
              "      <th>PotentialFraud</th>\n",
              "    </tr>\n",
              "  </thead>\n",
              "  <tbody>\n",
              "    <tr>\n",
              "      <th>0</th>\n",
              "      <td>BENE11001</td>\n",
              "      <td>CLM46614</td>\n",
              "      <td>2009-04-12</td>\n",
              "      <td>2009-04-18</td>\n",
              "      <td>PRV55912</td>\n",
              "      <td>26000</td>\n",
              "      <td>PHY390922</td>\n",
              "      <td>NaN</td>\n",
              "      <td>NaN</td>\n",
              "      <td>2009-04-12</td>\n",
              "      <td>7866</td>\n",
              "      <td>1068.0</td>\n",
              "      <td>2009-04-18</td>\n",
              "      <td>201</td>\n",
              "      <td>1970</td>\n",
              "      <td>4019</td>\n",
              "      <td>5853</td>\n",
              "      <td>7843</td>\n",
              "      <td>2768</td>\n",
              "      <td>71590</td>\n",
              "      <td>2724</td>\n",
              "      <td>19889</td>\n",
              "      <td>5849</td>\n",
              "      <td>NaN</td>\n",
              "      <td>NaN</td>\n",
              "      <td>NaN</td>\n",
              "      <td>NaN</td>\n",
              "      <td>NaN</td>\n",
              "      <td>NaN</td>\n",
              "      <td>NaN</td>\n",
              "      <td>1943-01-01</td>\n",
              "      <td>NaN</td>\n",
              "      <td>1</td>\n",
              "      <td>1</td>\n",
              "      <td>0</td>\n",
              "      <td>39</td>\n",
              "      <td>230</td>\n",
              "      <td>12</td>\n",
              "      <td>12</td>\n",
              "      <td>1</td>\n",
              "      <td>2</td>\n",
              "      <td>1</td>\n",
              "      <td>2</td>\n",
              "      <td>2</td>\n",
              "      <td>1</td>\n",
              "      <td>1</td>\n",
              "      <td>1</td>\n",
              "      <td>2</td>\n",
              "      <td>1</td>\n",
              "      <td>1</td>\n",
              "      <td>36000</td>\n",
              "      <td>3204</td>\n",
              "      <td>60</td>\n",
              "      <td>70</td>\n",
              "      <td>Yes</td>\n",
              "    </tr>\n",
              "    <tr>\n",
              "      <th>1</th>\n",
              "      <td>BENE16973</td>\n",
              "      <td>CLM565430</td>\n",
              "      <td>2009-09-06</td>\n",
              "      <td>2009-09-06</td>\n",
              "      <td>PRV55912</td>\n",
              "      <td>50</td>\n",
              "      <td>PHY365867</td>\n",
              "      <td>PHY327147</td>\n",
              "      <td>NaN</td>\n",
              "      <td>NaN</td>\n",
              "      <td>NaN</td>\n",
              "      <td>0.0</td>\n",
              "      <td>NaN</td>\n",
              "      <td>NaN</td>\n",
              "      <td>V7183</td>\n",
              "      <td>53081</td>\n",
              "      <td>78959</td>\n",
              "      <td>4280</td>\n",
              "      <td>E8788</td>\n",
              "      <td>78079</td>\n",
              "      <td>79902</td>\n",
              "      <td>25002</td>\n",
              "      <td>71848</td>\n",
              "      <td>NaN</td>\n",
              "      <td>NaN</td>\n",
              "      <td>NaN</td>\n",
              "      <td>NaN</td>\n",
              "      <td>NaN</td>\n",
              "      <td>NaN</td>\n",
              "      <td>NaN</td>\n",
              "      <td>1932-05-01</td>\n",
              "      <td>NaN</td>\n",
              "      <td>1</td>\n",
              "      <td>1</td>\n",
              "      <td>0</td>\n",
              "      <td>39</td>\n",
              "      <td>310</td>\n",
              "      <td>12</td>\n",
              "      <td>12</td>\n",
              "      <td>1</td>\n",
              "      <td>1</td>\n",
              "      <td>1</td>\n",
              "      <td>2</td>\n",
              "      <td>2</td>\n",
              "      <td>2</td>\n",
              "      <td>2</td>\n",
              "      <td>1</td>\n",
              "      <td>2</td>\n",
              "      <td>2</td>\n",
              "      <td>2</td>\n",
              "      <td>24000</td>\n",
              "      <td>2136</td>\n",
              "      <td>450</td>\n",
              "      <td>200</td>\n",
              "      <td>Yes</td>\n",
              "    </tr>\n",
              "    <tr>\n",
              "      <th>2</th>\n",
              "      <td>BENE17521</td>\n",
              "      <td>CLM34721</td>\n",
              "      <td>2009-01-20</td>\n",
              "      <td>2009-02-01</td>\n",
              "      <td>PRV55912</td>\n",
              "      <td>19000</td>\n",
              "      <td>PHY349293</td>\n",
              "      <td>PHY370861</td>\n",
              "      <td>PHY363291</td>\n",
              "      <td>2009-01-20</td>\n",
              "      <td>45340</td>\n",
              "      <td>1068.0</td>\n",
              "      <td>2009-02-01</td>\n",
              "      <td>987</td>\n",
              "      <td>4240</td>\n",
              "      <td>2639</td>\n",
              "      <td>2948</td>\n",
              "      <td>40390</td>\n",
              "      <td>45821</td>\n",
              "      <td>28489</td>\n",
              "      <td>5854</td>\n",
              "      <td>2753</td>\n",
              "      <td>E9305</td>\n",
              "      <td>NaN</td>\n",
              "      <td>7769.0</td>\n",
              "      <td>5849.0</td>\n",
              "      <td>NaN</td>\n",
              "      <td>NaN</td>\n",
              "      <td>NaN</td>\n",
              "      <td>NaN</td>\n",
              "      <td>1913-12-01</td>\n",
              "      <td>NaN</td>\n",
              "      <td>2</td>\n",
              "      <td>1</td>\n",
              "      <td>0</td>\n",
              "      <td>39</td>\n",
              "      <td>230</td>\n",
              "      <td>12</td>\n",
              "      <td>12</td>\n",
              "      <td>1</td>\n",
              "      <td>1</td>\n",
              "      <td>1</td>\n",
              "      <td>2</td>\n",
              "      <td>1</td>\n",
              "      <td>2</td>\n",
              "      <td>2</td>\n",
              "      <td>1</td>\n",
              "      <td>2</td>\n",
              "      <td>2</td>\n",
              "      <td>2</td>\n",
              "      <td>19000</td>\n",
              "      <td>1068</td>\n",
              "      <td>100</td>\n",
              "      <td>20</td>\n",
              "      <td>Yes</td>\n",
              "    </tr>\n",
              "    <tr>\n",
              "      <th>3</th>\n",
              "      <td>BENE21718</td>\n",
              "      <td>CLM72336</td>\n",
              "      <td>2009-10-17</td>\n",
              "      <td>2009-11-04</td>\n",
              "      <td>PRV55912</td>\n",
              "      <td>17000</td>\n",
              "      <td>PHY334706</td>\n",
              "      <td>PHY334706</td>\n",
              "      <td>NaN</td>\n",
              "      <td>2009-10-17</td>\n",
              "      <td>V5789</td>\n",
              "      <td>1068.0</td>\n",
              "      <td>2009-11-04</td>\n",
              "      <td>941</td>\n",
              "      <td>V5789</td>\n",
              "      <td>4168</td>\n",
              "      <td>73313</td>\n",
              "      <td>7812</td>\n",
              "      <td>7993</td>\n",
              "      <td>78830</td>\n",
              "      <td>72273</td>\n",
              "      <td>43812</td>\n",
              "      <td>4019</td>\n",
              "      <td>NaN</td>\n",
              "      <td>9338.0</td>\n",
              "      <td>NaN</td>\n",
              "      <td>NaN</td>\n",
              "      <td>NaN</td>\n",
              "      <td>NaN</td>\n",
              "      <td>NaN</td>\n",
              "      <td>1922-10-01</td>\n",
              "      <td>NaN</td>\n",
              "      <td>1</td>\n",
              "      <td>1</td>\n",
              "      <td>0</td>\n",
              "      <td>39</td>\n",
              "      <td>600</td>\n",
              "      <td>12</td>\n",
              "      <td>12</td>\n",
              "      <td>2</td>\n",
              "      <td>2</td>\n",
              "      <td>2</td>\n",
              "      <td>2</td>\n",
              "      <td>2</td>\n",
              "      <td>2</td>\n",
              "      <td>2</td>\n",
              "      <td>1</td>\n",
              "      <td>1</td>\n",
              "      <td>2</td>\n",
              "      <td>2</td>\n",
              "      <td>17000</td>\n",
              "      <td>1068</td>\n",
              "      <td>1050</td>\n",
              "      <td>540</td>\n",
              "      <td>Yes</td>\n",
              "    </tr>\n",
              "    <tr>\n",
              "      <th>4</th>\n",
              "      <td>BENE22934</td>\n",
              "      <td>CLM73394</td>\n",
              "      <td>2009-10-25</td>\n",
              "      <td>2009-10-29</td>\n",
              "      <td>PRV55912</td>\n",
              "      <td>13000</td>\n",
              "      <td>PHY390614</td>\n",
              "      <td>PHY323689</td>\n",
              "      <td>PHY363291</td>\n",
              "      <td>2009-10-25</td>\n",
              "      <td>71946</td>\n",
              "      <td>1068.0</td>\n",
              "      <td>2009-10-29</td>\n",
              "      <td>506</td>\n",
              "      <td>71535</td>\n",
              "      <td>71960</td>\n",
              "      <td>4019</td>\n",
              "      <td>V1202</td>\n",
              "      <td>4240</td>\n",
              "      <td>2449</td>\n",
              "      <td>2768</td>\n",
              "      <td>NaN</td>\n",
              "      <td>NaN</td>\n",
              "      <td>NaN</td>\n",
              "      <td>8154.0</td>\n",
              "      <td>NaN</td>\n",
              "      <td>NaN</td>\n",
              "      <td>NaN</td>\n",
              "      <td>NaN</td>\n",
              "      <td>NaN</td>\n",
              "      <td>1930-07-01</td>\n",
              "      <td>NaN</td>\n",
              "      <td>2</td>\n",
              "      <td>1</td>\n",
              "      <td>0</td>\n",
              "      <td>39</td>\n",
              "      <td>280</td>\n",
              "      <td>12</td>\n",
              "      <td>12</td>\n",
              "      <td>2</td>\n",
              "      <td>1</td>\n",
              "      <td>2</td>\n",
              "      <td>2</td>\n",
              "      <td>1</td>\n",
              "      <td>2</td>\n",
              "      <td>1</td>\n",
              "      <td>1</td>\n",
              "      <td>1</td>\n",
              "      <td>1</td>\n",
              "      <td>2</td>\n",
              "      <td>27000</td>\n",
              "      <td>2136</td>\n",
              "      <td>450</td>\n",
              "      <td>160</td>\n",
              "      <td>Yes</td>\n",
              "    </tr>\n",
              "  </tbody>\n",
              "</table>\n",
              "</div>"
            ],
            "text/plain": [
              "      BeneID    ClaimID  ... OPAnnualDeductibleAmt PotentialFraud\n",
              "0  BENE11001   CLM46614  ...                    70            Yes\n",
              "1  BENE16973  CLM565430  ...                   200            Yes\n",
              "2  BENE17521   CLM34721  ...                    20            Yes\n",
              "3  BENE21718   CLM72336  ...                   540            Yes\n",
              "4  BENE22934   CLM73394  ...                   160            Yes\n",
              "\n",
              "[5 rows x 55 columns]"
            ]
          },
          "metadata": {
            "tags": []
          },
          "execution_count": 141
        }
      ]
    },
    {
      "cell_type": "markdown",
      "metadata": {
        "id": "WtiMHKsTdsXa"
      },
      "source": [
        "###<font color=\"blue\"><b>Checking for the datatypes of all the columns in the final dataset</b></font>"
      ]
    },
    {
      "cell_type": "code",
      "metadata": {
        "colab": {
          "base_uri": "https://localhost:8080/"
        },
        "id": "B9FJt_oJ8Yne",
        "outputId": "a61c78d5-e2bc-41eb-ff71-d26b0756a62d"
      },
      "source": [
        "train_fin.info()"
      ],
      "execution_count": null,
      "outputs": [
        {
          "output_type": "stream",
          "text": [
            "<class 'pandas.core.frame.DataFrame'>\n",
            "Int64Index: 558211 entries, 0 to 558210\n",
            "Data columns (total 55 columns):\n",
            " #   Column                           Non-Null Count   Dtype  \n",
            "---  ------                           --------------   -----  \n",
            " 0   BeneID                           558211 non-null  object \n",
            " 1   ClaimID                          558211 non-null  object \n",
            " 2   ClaimStartDt                     558211 non-null  object \n",
            " 3   ClaimEndDt                       558211 non-null  object \n",
            " 4   Provider                         558211 non-null  object \n",
            " 5   InscClaimAmtReimbursed           558211 non-null  int64  \n",
            " 6   AttendingPhysician               556703 non-null  object \n",
            " 7   OperatingPhysician               114447 non-null  object \n",
            " 8   OtherPhysician                   199736 non-null  object \n",
            " 9   AdmissionDt                      40474 non-null   object \n",
            " 10  ClmAdmitDiagnosisCode            145899 non-null  object \n",
            " 11  DeductibleAmtPaid                557312 non-null  float64\n",
            " 12  DischargeDt                      40474 non-null   object \n",
            " 13  DiagnosisGroupCode               40474 non-null   object \n",
            " 14  ClmDiagnosisCode_1               547758 non-null  object \n",
            " 15  ClmDiagnosisCode_2               362605 non-null  object \n",
            " 16  ClmDiagnosisCode_3               243055 non-null  object \n",
            " 17  ClmDiagnosisCode_4               164536 non-null  object \n",
            " 18  ClmDiagnosisCode_5               111924 non-null  object \n",
            " 19  ClmDiagnosisCode_6               84392 non-null   object \n",
            " 20  ClmDiagnosisCode_7               66177 non-null   object \n",
            " 21  ClmDiagnosisCode_8               53444 non-null   object \n",
            " 22  ClmDiagnosisCode_9               41815 non-null   object \n",
            " 23  ClmDiagnosisCode_10              5010 non-null    object \n",
            " 24  ClmProcedureCode_1               23310 non-null   float64\n",
            " 25  ClmProcedureCode_2               5490 non-null    float64\n",
            " 26  ClmProcedureCode_3               969 non-null     float64\n",
            " 27  ClmProcedureCode_4               118 non-null     float64\n",
            " 28  ClmProcedureCode_5               9 non-null       float64\n",
            " 29  ClmProcedureCode_6               0 non-null       float64\n",
            " 30  DOB                              558211 non-null  object \n",
            " 31  DOD                              4131 non-null    object \n",
            " 32  Gender                           558211 non-null  int64  \n",
            " 33  Race                             558211 non-null  int64  \n",
            " 34  RenalDiseaseIndicator            558211 non-null  object \n",
            " 35  State                            558211 non-null  int64  \n",
            " 36  County                           558211 non-null  int64  \n",
            " 37  NoOfMonths_PartACov              558211 non-null  int64  \n",
            " 38  NoOfMonths_PartBCov              558211 non-null  int64  \n",
            " 39  ChronicCond_Alzheimer            558211 non-null  int64  \n",
            " 40  ChronicCond_Heartfailure         558211 non-null  int64  \n",
            " 41  ChronicCond_KidneyDisease        558211 non-null  int64  \n",
            " 42  ChronicCond_Cancer               558211 non-null  int64  \n",
            " 43  ChronicCond_ObstrPulmonary       558211 non-null  int64  \n",
            " 44  ChronicCond_Depression           558211 non-null  int64  \n",
            " 45  ChronicCond_Diabetes             558211 non-null  int64  \n",
            " 46  ChronicCond_IschemicHeart        558211 non-null  int64  \n",
            " 47  ChronicCond_Osteoporasis         558211 non-null  int64  \n",
            " 48  ChronicCond_rheumatoidarthritis  558211 non-null  int64  \n",
            " 49  ChronicCond_stroke               558211 non-null  int64  \n",
            " 50  IPAnnualReimbursementAmt         558211 non-null  int64  \n",
            " 51  IPAnnualDeductibleAmt            558211 non-null  int64  \n",
            " 52  OPAnnualReimbursementAmt         558211 non-null  int64  \n",
            " 53  OPAnnualDeductibleAmt            558211 non-null  int64  \n",
            " 54  PotentialFraud                   558211 non-null  object \n",
            "dtypes: float64(7), int64(22), object(26)\n",
            "memory usage: 238.5+ MB\n"
          ],
          "name": "stdout"
        }
      ]
    },
    {
      "cell_type": "code",
      "metadata": {
        "id": "0kwwqOqa8YkA"
      },
      "source": [
        "#Storing the final dataframe as a pickled file\n",
        "with open('/content/drive/MyDrive/Colab Notebooks/train_fin.pkl','wb') as tr_df:\n",
        "    pickle.dump(train_fin,tr_df)"
      ],
      "execution_count": null,
      "outputs": []
    },
    {
      "cell_type": "code",
      "metadata": {
        "id": "dPGNEvdz_zkN"
      },
      "source": [
        "#Loading the pickled file\n",
        "with open('/content/drive/MyDrive/Colab Notebooks/train_fin.pkl','rb') as tr_df:\n",
        "    train_fin= pickle.load(tr_df)"
      ],
      "execution_count": null,
      "outputs": []
    },
    {
      "cell_type": "code",
      "metadata": {
        "colab": {
          "base_uri": "https://localhost:8080/"
        },
        "id": "okkVk5Al_zgj",
        "outputId": "013bf2a4-97b2-4eb3-a335-59d32dc89244"
      },
      "source": [
        "train_fin.shape"
      ],
      "execution_count": null,
      "outputs": [
        {
          "output_type": "execute_result",
          "data": {
            "text/plain": [
              "(558211, 55)"
            ]
          },
          "metadata": {
            "tags": []
          },
          "execution_count": 146
        }
      ]
    },
    {
      "cell_type": "markdown",
      "metadata": {
        "id": "R6d6ZSsh7b_i"
      },
      "source": [
        "##<font color='blue'><b>**Splitting the Data into Train and Cross Validate Datasets**</b></font>"
      ]
    },
    {
      "cell_type": "code",
      "metadata": {
        "id": "ZsOWsS_L7bpZ"
      },
      "source": [
        "y= train_fin['PotentialFraud']\n",
        "train_fin.drop(['PotentialFraud'],axis=1, inplace= True)"
      ],
      "execution_count": null,
      "outputs": []
    },
    {
      "cell_type": "code",
      "metadata": {
        "colab": {
          "base_uri": "https://localhost:8080/"
        },
        "id": "bxorYmsi7bMf",
        "outputId": "b8118172-9b73-487b-b917-322e618ec1b8"
      },
      "source": [
        "train_fin,cv_fin,train_y,cv_y= train_test_split(train_fin,y,test_size=0.2,stratify=y,random_state=42)\n",
        "print(train_fin.shape)\n",
        "print(train_y.shape)\n",
        "print(cv_fin.shape)\n",
        "print(cv_y.shape)"
      ],
      "execution_count": null,
      "outputs": [
        {
          "output_type": "stream",
          "text": [
            "(446568, 54)\n",
            "(446568,)\n",
            "(111643, 54)\n",
            "(111643,)\n"
          ],
          "name": "stdout"
        }
      ]
    },
    {
      "cell_type": "code",
      "metadata": {
        "id": "HgM7VrF769jf"
      },
      "source": [
        "train_fin.reset_index(drop=True,inplace=True)\n",
        "cv_fin.reset_index(drop=True,inplace=True)"
      ],
      "execution_count": null,
      "outputs": []
    },
    {
      "cell_type": "code",
      "metadata": {
        "colab": {
          "base_uri": "https://localhost:8080/",
          "height": 309
        },
        "id": "QZrECXmuGWKY",
        "outputId": "29fd001a-43b0-4c36-afc9-8f75ea21e448"
      },
      "source": [
        "train_fin.head()"
      ],
      "execution_count": null,
      "outputs": [
        {
          "output_type": "execute_result",
          "data": {
            "text/html": [
              "<div>\n",
              "<style scoped>\n",
              "    .dataframe tbody tr th:only-of-type {\n",
              "        vertical-align: middle;\n",
              "    }\n",
              "\n",
              "    .dataframe tbody tr th {\n",
              "        vertical-align: top;\n",
              "    }\n",
              "\n",
              "    .dataframe thead th {\n",
              "        text-align: right;\n",
              "    }\n",
              "</style>\n",
              "<table border=\"1\" class=\"dataframe\">\n",
              "  <thead>\n",
              "    <tr style=\"text-align: right;\">\n",
              "      <th></th>\n",
              "      <th>BeneID</th>\n",
              "      <th>ClaimID</th>\n",
              "      <th>ClaimStartDt</th>\n",
              "      <th>ClaimEndDt</th>\n",
              "      <th>Provider</th>\n",
              "      <th>InscClaimAmtReimbursed</th>\n",
              "      <th>AttendingPhysician</th>\n",
              "      <th>OperatingPhysician</th>\n",
              "      <th>OtherPhysician</th>\n",
              "      <th>AdmissionDt</th>\n",
              "      <th>ClmAdmitDiagnosisCode</th>\n",
              "      <th>DeductibleAmtPaid</th>\n",
              "      <th>DischargeDt</th>\n",
              "      <th>DiagnosisGroupCode</th>\n",
              "      <th>ClmDiagnosisCode_1</th>\n",
              "      <th>ClmDiagnosisCode_2</th>\n",
              "      <th>ClmDiagnosisCode_3</th>\n",
              "      <th>ClmDiagnosisCode_4</th>\n",
              "      <th>ClmDiagnosisCode_5</th>\n",
              "      <th>ClmDiagnosisCode_6</th>\n",
              "      <th>ClmDiagnosisCode_7</th>\n",
              "      <th>ClmDiagnosisCode_8</th>\n",
              "      <th>ClmDiagnosisCode_9</th>\n",
              "      <th>ClmDiagnosisCode_10</th>\n",
              "      <th>ClmProcedureCode_1</th>\n",
              "      <th>ClmProcedureCode_2</th>\n",
              "      <th>ClmProcedureCode_3</th>\n",
              "      <th>ClmProcedureCode_4</th>\n",
              "      <th>ClmProcedureCode_5</th>\n",
              "      <th>ClmProcedureCode_6</th>\n",
              "      <th>DOB</th>\n",
              "      <th>DOD</th>\n",
              "      <th>Gender</th>\n",
              "      <th>Race</th>\n",
              "      <th>RenalDiseaseIndicator</th>\n",
              "      <th>State</th>\n",
              "      <th>County</th>\n",
              "      <th>NoOfMonths_PartACov</th>\n",
              "      <th>NoOfMonths_PartBCov</th>\n",
              "      <th>ChronicCond_Alzheimer</th>\n",
              "      <th>ChronicCond_Heartfailure</th>\n",
              "      <th>ChronicCond_KidneyDisease</th>\n",
              "      <th>ChronicCond_Cancer</th>\n",
              "      <th>ChronicCond_ObstrPulmonary</th>\n",
              "      <th>ChronicCond_Depression</th>\n",
              "      <th>ChronicCond_Diabetes</th>\n",
              "      <th>ChronicCond_IschemicHeart</th>\n",
              "      <th>ChronicCond_Osteoporasis</th>\n",
              "      <th>ChronicCond_rheumatoidarthritis</th>\n",
              "      <th>ChronicCond_stroke</th>\n",
              "      <th>IPAnnualReimbursementAmt</th>\n",
              "      <th>IPAnnualDeductibleAmt</th>\n",
              "      <th>OPAnnualReimbursementAmt</th>\n",
              "      <th>OPAnnualDeductibleAmt</th>\n",
              "    </tr>\n",
              "  </thead>\n",
              "  <tbody>\n",
              "    <tr>\n",
              "      <th>0</th>\n",
              "      <td>BENE22189</td>\n",
              "      <td>CLM164897</td>\n",
              "      <td>2009-01-29</td>\n",
              "      <td>2009-01-29</td>\n",
              "      <td>PRV54273</td>\n",
              "      <td>90</td>\n",
              "      <td>PHY419362</td>\n",
              "      <td>NaN</td>\n",
              "      <td>PHY384386</td>\n",
              "      <td>NaN</td>\n",
              "      <td>25000</td>\n",
              "      <td>0.0</td>\n",
              "      <td>NaN</td>\n",
              "      <td>NaN</td>\n",
              "      <td>V4585</td>\n",
              "      <td>NaN</td>\n",
              "      <td>NaN</td>\n",
              "      <td>NaN</td>\n",
              "      <td>NaN</td>\n",
              "      <td>NaN</td>\n",
              "      <td>NaN</td>\n",
              "      <td>NaN</td>\n",
              "      <td>NaN</td>\n",
              "      <td>NaN</td>\n",
              "      <td>NaN</td>\n",
              "      <td>NaN</td>\n",
              "      <td>NaN</td>\n",
              "      <td>NaN</td>\n",
              "      <td>NaN</td>\n",
              "      <td>NaN</td>\n",
              "      <td>1938-06-01</td>\n",
              "      <td>NaN</td>\n",
              "      <td>2</td>\n",
              "      <td>1</td>\n",
              "      <td>0</td>\n",
              "      <td>25</td>\n",
              "      <td>170</td>\n",
              "      <td>12</td>\n",
              "      <td>12</td>\n",
              "      <td>2</td>\n",
              "      <td>2</td>\n",
              "      <td>1</td>\n",
              "      <td>2</td>\n",
              "      <td>2</td>\n",
              "      <td>1</td>\n",
              "      <td>1</td>\n",
              "      <td>1</td>\n",
              "      <td>1</td>\n",
              "      <td>2</td>\n",
              "      <td>2</td>\n",
              "      <td>5030</td>\n",
              "      <td>1068</td>\n",
              "      <td>1090</td>\n",
              "      <td>560</td>\n",
              "    </tr>\n",
              "    <tr>\n",
              "      <th>1</th>\n",
              "      <td>BENE156743</td>\n",
              "      <td>CLM79687</td>\n",
              "      <td>2009-12-15</td>\n",
              "      <td>2009-12-21</td>\n",
              "      <td>PRV56438</td>\n",
              "      <td>5000</td>\n",
              "      <td>PHY410043</td>\n",
              "      <td>NaN</td>\n",
              "      <td>NaN</td>\n",
              "      <td>2009-12-15</td>\n",
              "      <td>486</td>\n",
              "      <td>1068.0</td>\n",
              "      <td>2009-12-21</td>\n",
              "      <td>628</td>\n",
              "      <td>2768</td>\n",
              "      <td>5849</td>\n",
              "      <td>5856</td>\n",
              "      <td>4019</td>\n",
              "      <td>1991</td>\n",
              "      <td>3310</td>\n",
              "      <td>7868</td>\n",
              "      <td>30000</td>\n",
              "      <td>25000</td>\n",
              "      <td>NaN</td>\n",
              "      <td>NaN</td>\n",
              "      <td>NaN</td>\n",
              "      <td>NaN</td>\n",
              "      <td>NaN</td>\n",
              "      <td>NaN</td>\n",
              "      <td>NaN</td>\n",
              "      <td>1936-08-01</td>\n",
              "      <td>NaN</td>\n",
              "      <td>1</td>\n",
              "      <td>1</td>\n",
              "      <td>Y</td>\n",
              "      <td>11</td>\n",
              "      <td>921</td>\n",
              "      <td>12</td>\n",
              "      <td>12</td>\n",
              "      <td>1</td>\n",
              "      <td>2</td>\n",
              "      <td>1</td>\n",
              "      <td>2</td>\n",
              "      <td>2</td>\n",
              "      <td>2</td>\n",
              "      <td>1</td>\n",
              "      <td>1</td>\n",
              "      <td>2</td>\n",
              "      <td>2</td>\n",
              "      <td>2</td>\n",
              "      <td>5000</td>\n",
              "      <td>1068</td>\n",
              "      <td>70</td>\n",
              "      <td>0</td>\n",
              "    </tr>\n",
              "    <tr>\n",
              "      <th>2</th>\n",
              "      <td>BENE157334</td>\n",
              "      <td>CLM724410</td>\n",
              "      <td>2009-12-11</td>\n",
              "      <td>2009-12-31</td>\n",
              "      <td>PRV53918</td>\n",
              "      <td>400</td>\n",
              "      <td>PHY351111</td>\n",
              "      <td>NaN</td>\n",
              "      <td>NaN</td>\n",
              "      <td>NaN</td>\n",
              "      <td>NaN</td>\n",
              "      <td>0.0</td>\n",
              "      <td>NaN</td>\n",
              "      <td>NaN</td>\n",
              "      <td>V570</td>\n",
              "      <td>83300</td>\n",
              "      <td>7242</td>\n",
              "      <td>NaN</td>\n",
              "      <td>NaN</td>\n",
              "      <td>NaN</td>\n",
              "      <td>NaN</td>\n",
              "      <td>NaN</td>\n",
              "      <td>NaN</td>\n",
              "      <td>NaN</td>\n",
              "      <td>NaN</td>\n",
              "      <td>NaN</td>\n",
              "      <td>NaN</td>\n",
              "      <td>NaN</td>\n",
              "      <td>NaN</td>\n",
              "      <td>NaN</td>\n",
              "      <td>1930-12-01</td>\n",
              "      <td>NaN</td>\n",
              "      <td>1</td>\n",
              "      <td>1</td>\n",
              "      <td>0</td>\n",
              "      <td>23</td>\n",
              "      <td>490</td>\n",
              "      <td>12</td>\n",
              "      <td>12</td>\n",
              "      <td>2</td>\n",
              "      <td>1</td>\n",
              "      <td>2</td>\n",
              "      <td>2</td>\n",
              "      <td>2</td>\n",
              "      <td>2</td>\n",
              "      <td>1</td>\n",
              "      <td>1</td>\n",
              "      <td>2</td>\n",
              "      <td>1</td>\n",
              "      <td>1</td>\n",
              "      <td>0</td>\n",
              "      <td>0</td>\n",
              "      <td>3870</td>\n",
              "      <td>540</td>\n",
              "    </tr>\n",
              "    <tr>\n",
              "      <th>3</th>\n",
              "      <td>BENE30606</td>\n",
              "      <td>CLM580231</td>\n",
              "      <td>2009-09-15</td>\n",
              "      <td>2009-09-15</td>\n",
              "      <td>PRV55004</td>\n",
              "      <td>30</td>\n",
              "      <td>PHY342769</td>\n",
              "      <td>NaN</td>\n",
              "      <td>PHY371896</td>\n",
              "      <td>NaN</td>\n",
              "      <td>NaN</td>\n",
              "      <td>0.0</td>\n",
              "      <td>NaN</td>\n",
              "      <td>NaN</td>\n",
              "      <td>7235</td>\n",
              "      <td>7820</td>\n",
              "      <td>72281</td>\n",
              "      <td>72251</td>\n",
              "      <td>7210</td>\n",
              "      <td>NaN</td>\n",
              "      <td>NaN</td>\n",
              "      <td>NaN</td>\n",
              "      <td>NaN</td>\n",
              "      <td>NaN</td>\n",
              "      <td>NaN</td>\n",
              "      <td>NaN</td>\n",
              "      <td>NaN</td>\n",
              "      <td>NaN</td>\n",
              "      <td>NaN</td>\n",
              "      <td>NaN</td>\n",
              "      <td>1956-09-01</td>\n",
              "      <td>NaN</td>\n",
              "      <td>2</td>\n",
              "      <td>2</td>\n",
              "      <td>0</td>\n",
              "      <td>33</td>\n",
              "      <td>331</td>\n",
              "      <td>12</td>\n",
              "      <td>12</td>\n",
              "      <td>2</td>\n",
              "      <td>2</td>\n",
              "      <td>1</td>\n",
              "      <td>2</td>\n",
              "      <td>2</td>\n",
              "      <td>1</td>\n",
              "      <td>2</td>\n",
              "      <td>2</td>\n",
              "      <td>1</td>\n",
              "      <td>2</td>\n",
              "      <td>2</td>\n",
              "      <td>3000</td>\n",
              "      <td>1068</td>\n",
              "      <td>1680</td>\n",
              "      <td>140</td>\n",
              "    </tr>\n",
              "    <tr>\n",
              "      <th>4</th>\n",
              "      <td>BENE11648</td>\n",
              "      <td>CLM76557</td>\n",
              "      <td>2009-11-19</td>\n",
              "      <td>2009-11-22</td>\n",
              "      <td>PRV51149</td>\n",
              "      <td>2000</td>\n",
              "      <td>PHY332294</td>\n",
              "      <td>PHY332294</td>\n",
              "      <td>NaN</td>\n",
              "      <td>2009-11-19</td>\n",
              "      <td>42823</td>\n",
              "      <td>1068.0</td>\n",
              "      <td>2009-11-22</td>\n",
              "      <td>236</td>\n",
              "      <td>39891</td>\n",
              "      <td>4168</td>\n",
              "      <td>2768</td>\n",
              "      <td>V1582</td>\n",
              "      <td>2809</td>\n",
              "      <td>2724</td>\n",
              "      <td>42823</td>\n",
              "      <td>78057</td>\n",
              "      <td>V1254</td>\n",
              "      <td>NaN</td>\n",
              "      <td>17.0</td>\n",
              "      <td>NaN</td>\n",
              "      <td>NaN</td>\n",
              "      <td>NaN</td>\n",
              "      <td>NaN</td>\n",
              "      <td>NaN</td>\n",
              "      <td>1927-10-01</td>\n",
              "      <td>NaN</td>\n",
              "      <td>2</td>\n",
              "      <td>1</td>\n",
              "      <td>0</td>\n",
              "      <td>3</td>\n",
              "      <td>60</td>\n",
              "      <td>12</td>\n",
              "      <td>12</td>\n",
              "      <td>1</td>\n",
              "      <td>1</td>\n",
              "      <td>2</td>\n",
              "      <td>2</td>\n",
              "      <td>2</td>\n",
              "      <td>2</td>\n",
              "      <td>2</td>\n",
              "      <td>1</td>\n",
              "      <td>2</td>\n",
              "      <td>2</td>\n",
              "      <td>2</td>\n",
              "      <td>2000</td>\n",
              "      <td>1068</td>\n",
              "      <td>1160</td>\n",
              "      <td>650</td>\n",
              "    </tr>\n",
              "  </tbody>\n",
              "</table>\n",
              "</div>"
            ],
            "text/plain": [
              "       BeneID    ClaimID  ... OPAnnualReimbursementAmt OPAnnualDeductibleAmt\n",
              "0   BENE22189  CLM164897  ...                     1090                   560\n",
              "1  BENE156743   CLM79687  ...                       70                     0\n",
              "2  BENE157334  CLM724410  ...                     3870                   540\n",
              "3   BENE30606  CLM580231  ...                     1680                   140\n",
              "4   BENE11648   CLM76557  ...                     1160                   650\n",
              "\n",
              "[5 rows x 54 columns]"
            ]
          },
          "metadata": {
            "tags": []
          },
          "execution_count": 150
        }
      ]
    },
    {
      "cell_type": "markdown",
      "metadata": {
        "id": "AuSJO2-CHnD_"
      },
      "source": [
        "##<font color='blue'><b> **Looking at the Class Distribution in the Train Dataset**</b></font>"
      ]
    },
    {
      "cell_type": "code",
      "metadata": {
        "colab": {
          "base_uri": "https://localhost:8080/",
          "height": 336
        },
        "id": "TqJnjF4oHFkW",
        "outputId": "442f7517-9e18-48dd-f269-c7eefc6a58be"
      },
      "source": [
        "#Calculating the number of row items where the Provider is NOT a Potentila fraud in percentage terms\n",
        "tr_no_per= np.round((train_y.value_counts()[0])/(train_y.value_counts()[0]+train_y.value_counts()[1]),3)*100\n",
        "\n",
        "#Calculating the number of row items where the Provider is a Potentila fraud in percentage terms\n",
        "tr_yes_per= np.round((train_y.value_counts()[1])/(train_y.value_counts()[0]+train_y.value_counts()[1]),3)*100\n",
        "\n",
        "\n",
        "#Calculating the number of row items where the Provider is NOT a Potentila fraud in percentage terms\n",
        "cv_no_per= np.round((cv_y.value_counts()[0])/(cv_y.value_counts()[0]+cv_y.value_counts()[1]),3)*100\n",
        "\n",
        "#Calculating the number of row items where the Provider is a Potentila fraud in percentage terms\n",
        "cv_yes_per= np.round((cv_y.value_counts()[1])/(cv_y.value_counts()[0]+cv_y.value_counts()[1]),3)*100\n",
        "\n",
        "#Plotting the Potential and Non Potential Fraud scenarios\n",
        "fig= plt.figure(figsize=(10,5))\n",
        "gs= GridSpec(1,2, figure=fig)\n",
        "\n",
        "ax1= fig.add_subplot(gs[0,0])\n",
        "ax2= fig.add_subplot(gs[0,1])\n",
        "\n",
        "sns.barplot(ax= ax1,x=['Non-Fraud',\"Fraud\"],y= [tr_no_per,tr_yes_per],palette='crest')\n",
        "sns.barplot(ax= ax2,x=['Non-Fraud',\"Fraud\"],y= [cv_no_per,cv_yes_per],palette='crest')\n",
        "\n",
        "\n",
        "ax1.title.set_text(\"Distribution of the Train_y Data Labels\")\n",
        "ax2.title.set_text(\"Distribution of the CV_y Data Labels\")\n",
        "ax1.set_ylabel(\"Percentage of Providers\")\n",
        "ax2.set_ylabel(\"Percentage of Providers\")\n",
        "\n",
        "plt.show()"
      ],
      "execution_count": null,
      "outputs": [
        {
          "output_type": "display_data",
          "data": {
            "image/png": "[encoded data removed]",
            "text/plain": [
              "<Figure size 720x360 with 2 Axes>"
            ]
          },
          "metadata": {
            "tags": [],
            "needs_background": "light"
          }
        }
      ]
    },
    {
      "cell_type": "code",
      "metadata": {
        "colab": {
          "base_uri": "https://localhost:8080/"
        },
        "id": "c5sPUcCKH4uK",
        "outputId": "73ea4196-ce35-459b-a14d-572f31bbf097"
      },
      "source": [
        "print(\"Percenatage of Non-Fraud class in Train dataset:\",tr_no_per,'%')\n",
        "print(\"Percenatage of Fraud class in Train dataset:\",tr_yes_per,'%')\n",
        "print(\"Percenatage of Non-Fraud class in Cross Validate dataset:\",cv_no_per,'%')\n",
        "print(\"Percenatage of Fraud class in Cross Validate dataset:\",cv_yes_per,'%')"
      ],
      "execution_count": null,
      "outputs": [
        {
          "output_type": "stream",
          "text": [
            "Percenatage of Non-Fraud class in Train dataset: 61.9 %\n",
            "Percenatage of Fraud class in Train dataset: 38.1 %\n",
            "Percenatage of Non-Fraud class in Cross Validate dataset: 61.9 %\n",
            "Percenatage of Fraud class in Cross Validate dataset: 38.1 %\n"
          ],
          "name": "stdout"
        }
      ]
    },
    {
      "cell_type": "code",
      "metadata": {
        "id": "DITtGOdR_U9r"
      },
      "source": [
        ""
      ],
      "execution_count": null,
      "outputs": []
    },
    {
      "cell_type": "markdown",
      "metadata": {
        "id": "mLwkSvsbOLRX"
      },
      "source": [
        "##<font color='blue'><b>**Checking for the percentage of nan values in each of the columns in the Train Data**</b></font>"
      ]
    },
    {
      "cell_type": "code",
      "metadata": {
        "colab": {
          "base_uri": "https://localhost:8080/"
        },
        "id": "0reXdPwT81PE",
        "outputId": "f68cfaef-e13c-4e22-d11e-8b1fe9c97203"
      },
      "source": [
        "na_perc= np.round(((train_fin.isna().sum())/train_fin.shape[0])*100,2)\n",
        "na_perc_df= na_perc.to_frame()\n",
        "na_perc_df.reset_index(inplace= True)\n",
        "na_perc_df.columns= [\"col_name\",\"na_percentage\"]\n",
        "print(na_perc_df)"
      ],
      "execution_count": null,
      "outputs": [
        {
          "output_type": "stream",
          "text": [
            "                           col_name  na_percentage\n",
            "0                            BeneID           0.00\n",
            "1                           ClaimID           0.00\n",
            "2                      ClaimStartDt           0.00\n",
            "3                        ClaimEndDt           0.00\n",
            "4                          Provider           0.00\n",
            "5            InscClaimAmtReimbursed           0.00\n",
            "6                AttendingPhysician           0.27\n",
            "7                OperatingPhysician          79.50\n",
            "8                    OtherPhysician          64.24\n",
            "9                       AdmissionDt          92.72\n",
            "10            ClmAdmitDiagnosisCode          73.88\n",
            "11                DeductibleAmtPaid           0.16\n",
            "12                      DischargeDt          92.72\n",
            "13               DiagnosisGroupCode          92.72\n",
            "14               ClmDiagnosisCode_1           1.86\n",
            "15               ClmDiagnosisCode_2          35.04\n",
            "16               ClmDiagnosisCode_3          56.47\n",
            "17               ClmDiagnosisCode_4          70.52\n",
            "18               ClmDiagnosisCode_5          79.93\n",
            "19               ClmDiagnosisCode_6          84.86\n",
            "20               ClmDiagnosisCode_7          88.13\n",
            "21               ClmDiagnosisCode_8          90.42\n",
            "22               ClmDiagnosisCode_9          92.50\n",
            "23              ClmDiagnosisCode_10          99.09\n",
            "24               ClmProcedureCode_1          95.80\n",
            "25               ClmProcedureCode_2          99.02\n",
            "26               ClmProcedureCode_3          99.83\n",
            "27               ClmProcedureCode_4          99.98\n",
            "28               ClmProcedureCode_5         100.00\n",
            "29               ClmProcedureCode_6         100.00\n",
            "30                              DOB           0.00\n",
            "31                              DOD          99.26\n",
            "32                           Gender           0.00\n",
            "33                             Race           0.00\n",
            "34            RenalDiseaseIndicator           0.00\n",
            "35                            State           0.00\n",
            "36                           County           0.00\n",
            "37              NoOfMonths_PartACov           0.00\n",
            "38              NoOfMonths_PartBCov           0.00\n",
            "39            ChronicCond_Alzheimer           0.00\n",
            "40         ChronicCond_Heartfailure           0.00\n",
            "41        ChronicCond_KidneyDisease           0.00\n",
            "42               ChronicCond_Cancer           0.00\n",
            "43       ChronicCond_ObstrPulmonary           0.00\n",
            "44           ChronicCond_Depression           0.00\n",
            "45             ChronicCond_Diabetes           0.00\n",
            "46        ChronicCond_IschemicHeart           0.00\n",
            "47         ChronicCond_Osteoporasis           0.00\n",
            "48  ChronicCond_rheumatoidarthritis           0.00\n",
            "49               ChronicCond_stroke           0.00\n",
            "50         IPAnnualReimbursementAmt           0.00\n",
            "51            IPAnnualDeductibleAmt           0.00\n",
            "52         OPAnnualReimbursementAmt           0.00\n",
            "53            OPAnnualDeductibleAmt           0.00\n"
          ],
          "name": "stdout"
        }
      ]
    },
    {
      "cell_type": "code",
      "metadata": {
        "colab": {
          "base_uri": "https://localhost:8080/"
        },
        "id": "46GcAlOlGDxU",
        "outputId": "39eddc8a-3c16-4dd9-9737-7f19416a0757"
      },
      "source": [
        "#Isolating the column numbers where the NA percentage is Zero\n",
        "na_col=[]\n",
        "na_perc= np.round(((train_fin.isna().sum())/train_fin.shape[0])*100,2)\n",
        "na_perc_df= na_perc.to_frame()\n",
        "na_perc_df.reset_index(inplace= True)\n",
        "na_perc_df.columns= [\"col_name\",\"na_percentage\"]\n",
        "for i in range(na_perc_df.shape[0]):\n",
        "    if na_perc_df.iloc[i,1] == 0:\n",
        "        na_col.append(i)  \n",
        "\n",
        "print(na_col)"
      ],
      "execution_count": null,
      "outputs": [
        {
          "output_type": "stream",
          "text": [
            "[0, 1, 2, 3, 4, 5, 30, 32, 33, 34, 35, 36, 37, 38, 39, 40, 41, 42, 43, 44, 45, 46, 47, 48, 49, 50, 51, 52, 53]\n"
          ],
          "name": "stdout"
        }
      ]
    },
    {
      "cell_type": "code",
      "metadata": {
        "colab": {
          "base_uri": "https://localhost:8080/"
        },
        "id": "rNWSHLmeGDvG",
        "outputId": "141d6748-40ae-4224-cf12-11a1bc2a3216"
      },
      "source": [
        "#Deleting the columns with 0% NA from the newly created na_perc_df dataframe\n",
        "na_perc_df.drop(index=na_col,inplace=True)\n",
        "na_perc_df.reset_index(drop=True,inplace=True)\n",
        "print(na_perc_df)"
      ],
      "execution_count": null,
      "outputs": [
        {
          "output_type": "stream",
          "text": [
            "                 col_name  na_percentage\n",
            "0      AttendingPhysician           0.27\n",
            "1      OperatingPhysician          79.50\n",
            "2          OtherPhysician          64.24\n",
            "3             AdmissionDt          92.72\n",
            "4   ClmAdmitDiagnosisCode          73.88\n",
            "5       DeductibleAmtPaid           0.16\n",
            "6             DischargeDt          92.72\n",
            "7      DiagnosisGroupCode          92.72\n",
            "8      ClmDiagnosisCode_1           1.86\n",
            "9      ClmDiagnosisCode_2          35.04\n",
            "10     ClmDiagnosisCode_3          56.47\n",
            "11     ClmDiagnosisCode_4          70.52\n",
            "12     ClmDiagnosisCode_5          79.93\n",
            "13     ClmDiagnosisCode_6          84.86\n",
            "14     ClmDiagnosisCode_7          88.13\n",
            "15     ClmDiagnosisCode_8          90.42\n",
            "16     ClmDiagnosisCode_9          92.50\n",
            "17    ClmDiagnosisCode_10          99.09\n",
            "18     ClmProcedureCode_1          95.80\n",
            "19     ClmProcedureCode_2          99.02\n",
            "20     ClmProcedureCode_3          99.83\n",
            "21     ClmProcedureCode_4          99.98\n",
            "22     ClmProcedureCode_5         100.00\n",
            "23     ClmProcedureCode_6         100.00\n",
            "24                    DOD          99.26\n"
          ],
          "name": "stdout"
        }
      ]
    },
    {
      "cell_type": "markdown",
      "metadata": {
        "id": "na8C4AAWJlhP"
      },
      "source": [
        "##<font color='blue'><b>**Checking for the percentage of nan values in each of the columns in the CV Data**</b></font>"
      ]
    },
    {
      "cell_type": "code",
      "metadata": {
        "id": "lnyYE_Dw5QBb",
        "colab": {
          "base_uri": "https://localhost:8080/"
        },
        "outputId": "b1d9a055-2dea-4753-a472-916dcc4778ef"
      },
      "source": [
        "na_perc_cv= np.round(((cv_fin.isna().sum())/cv_fin.shape[0])*100,2)\n",
        "na_perc_df_cv= na_perc_cv.to_frame()\n",
        "na_perc_df_cv.reset_index(inplace= True)\n",
        "na_perc_df_cv.columns= [\"col_name\",\"na_percentage\"]\n",
        "print(na_perc_df_cv)"
      ],
      "execution_count": null,
      "outputs": [
        {
          "output_type": "stream",
          "text": [
            "                           col_name  na_percentage\n",
            "0                            BeneID           0.00\n",
            "1                           ClaimID           0.00\n",
            "2                      ClaimStartDt           0.00\n",
            "3                        ClaimEndDt           0.00\n",
            "4                          Provider           0.00\n",
            "5            InscClaimAmtReimbursed           0.00\n",
            "6                AttendingPhysician           0.27\n",
            "7                OperatingPhysician          79.47\n",
            "8                    OtherPhysician          64.13\n",
            "9                       AdmissionDt          92.88\n",
            "10            ClmAdmitDiagnosisCode          73.80\n",
            "11                DeductibleAmtPaid           0.16\n",
            "12                      DischargeDt          92.88\n",
            "13               DiagnosisGroupCode          92.88\n",
            "14               ClmDiagnosisCode_1           1.92\n",
            "15               ClmDiagnosisCode_2          35.04\n",
            "16               ClmDiagnosisCode_3          56.43\n",
            "17               ClmDiagnosisCode_4          70.53\n",
            "18               ClmDiagnosisCode_5          80.02\n",
            "19               ClmDiagnosisCode_6          84.95\n",
            "20               ClmDiagnosisCode_7          88.21\n",
            "21               ClmDiagnosisCode_8          90.45\n",
            "22               ClmDiagnosisCode_9          92.56\n",
            "23              ClmDiagnosisCode_10          99.14\n",
            "24               ClmProcedureCode_1          95.91\n",
            "25               ClmProcedureCode_2          99.02\n",
            "26               ClmProcedureCode_3          99.83\n",
            "27               ClmProcedureCode_4          99.98\n",
            "28               ClmProcedureCode_5         100.00\n",
            "29               ClmProcedureCode_6         100.00\n",
            "30                              DOB           0.00\n",
            "31                              DOD          99.26\n",
            "32                           Gender           0.00\n",
            "33                             Race           0.00\n",
            "34            RenalDiseaseIndicator           0.00\n",
            "35                            State           0.00\n",
            "36                           County           0.00\n",
            "37              NoOfMonths_PartACov           0.00\n",
            "38              NoOfMonths_PartBCov           0.00\n",
            "39            ChronicCond_Alzheimer           0.00\n",
            "40         ChronicCond_Heartfailure           0.00\n",
            "41        ChronicCond_KidneyDisease           0.00\n",
            "42               ChronicCond_Cancer           0.00\n",
            "43       ChronicCond_ObstrPulmonary           0.00\n",
            "44           ChronicCond_Depression           0.00\n",
            "45             ChronicCond_Diabetes           0.00\n",
            "46        ChronicCond_IschemicHeart           0.00\n",
            "47         ChronicCond_Osteoporasis           0.00\n",
            "48  ChronicCond_rheumatoidarthritis           0.00\n",
            "49               ChronicCond_stroke           0.00\n",
            "50         IPAnnualReimbursementAmt           0.00\n",
            "51            IPAnnualDeductibleAmt           0.00\n",
            "52         OPAnnualReimbursementAmt           0.00\n",
            "53            OPAnnualDeductibleAmt           0.00\n"
          ],
          "name": "stdout"
        }
      ]
    },
    {
      "cell_type": "code",
      "metadata": {
        "colab": {
          "base_uri": "https://localhost:8080/"
        },
        "id": "F6D_1A1UJk0Y",
        "outputId": "b44e9b8d-1e6c-41b9-b42b-c2e84cc1aa49"
      },
      "source": [
        "na_col_cv=[]\n",
        "na_perc_cv= np.round(((cv_fin.isna().sum())/cv_fin.shape[0])*100,2)\n",
        "na_perc_df_cv= na_perc_cv.to_frame()\n",
        "na_perc_df_cv.reset_index(inplace= True)\n",
        "na_perc_df_cv.columns= [\"col_name\",\"na_percentage\"]\n",
        "for i in range(na_perc_df_cv.shape[0]):\n",
        "    if na_perc_df_cv.iloc[i,1] == 0:\n",
        "        na_col_cv.append(i)  \n",
        "\n",
        "print(na_col_cv)"
      ],
      "execution_count": null,
      "outputs": [
        {
          "output_type": "stream",
          "text": [
            "[0, 1, 2, 3, 4, 5, 30, 32, 33, 34, 35, 36, 37, 38, 39, 40, 41, 42, 43, 44, 45, 46, 47, 48, 49, 50, 51, 52, 53]\n"
          ],
          "name": "stdout"
        }
      ]
    },
    {
      "cell_type": "code",
      "metadata": {
        "colab": {
          "base_uri": "https://localhost:8080/"
        },
        "id": "RB6Pvd6CJkth",
        "outputId": "d969f9ed-33c4-434e-9730-bbe9936f4724"
      },
      "source": [
        "na_perc_df_cv.drop(index=na_col_cv,inplace=True)\n",
        "na_perc_df_cv.reset_index(drop=True,inplace=True)\n",
        "print(na_perc_df_cv)"
      ],
      "execution_count": null,
      "outputs": [
        {
          "output_type": "stream",
          "text": [
            "                 col_name  na_percentage\n",
            "0      AttendingPhysician           0.27\n",
            "1      OperatingPhysician          79.47\n",
            "2          OtherPhysician          64.13\n",
            "3             AdmissionDt          92.88\n",
            "4   ClmAdmitDiagnosisCode          73.80\n",
            "5       DeductibleAmtPaid           0.16\n",
            "6             DischargeDt          92.88\n",
            "7      DiagnosisGroupCode          92.88\n",
            "8      ClmDiagnosisCode_1           1.92\n",
            "9      ClmDiagnosisCode_2          35.04\n",
            "10     ClmDiagnosisCode_3          56.43\n",
            "11     ClmDiagnosisCode_4          70.53\n",
            "12     ClmDiagnosisCode_5          80.02\n",
            "13     ClmDiagnosisCode_6          84.95\n",
            "14     ClmDiagnosisCode_7          88.21\n",
            "15     ClmDiagnosisCode_8          90.45\n",
            "16     ClmDiagnosisCode_9          92.56\n",
            "17    ClmDiagnosisCode_10          99.14\n",
            "18     ClmProcedureCode_1          95.91\n",
            "19     ClmProcedureCode_2          99.02\n",
            "20     ClmProcedureCode_3          99.83\n",
            "21     ClmProcedureCode_4          99.98\n",
            "22     ClmProcedureCode_5         100.00\n",
            "23     ClmProcedureCode_6         100.00\n",
            "24                    DOD          99.26\n"
          ],
          "name": "stdout"
        }
      ]
    },
    {
      "cell_type": "markdown",
      "metadata": {
        "id": "dcLA93EqAqx_"
      },
      "source": [
        "##<font color='blue'><b> Analysis of the presence of hihg percentage of NA values in the Claim Procedure variables using barplots</b></font>"
      ]
    },
    {
      "cell_type": "code",
      "metadata": {
        "colab": {
          "base_uri": "https://localhost:8080/",
          "height": 554
        },
        "id": "QXDzmbDj341P",
        "outputId": "e82e4952-b8b5-4de4-f6e3-4ec659137f2f"
      },
      "source": [
        "clm_proc= ['ClmProcedureCode_1','ClmProcedureCode_2','ClmProcedureCode_3','ClmProcedureCode_4','ClmProcedureCode_5','ClmProcedureCode_6']\n",
        "clm_proc_in=[]\n",
        "clm_proc_out=[]\n",
        "clm_proc_mer=[]\n",
        "\n",
        "for i in clm_proc:\n",
        "    clm_proc_in.append(np.round((train_inpat[i].isna().sum()/len(train_inpat[i]))*100,2))\n",
        "    clm_proc_out.append(np.round((train_outpat[i].isna().sum()/len(train_outpat[i]))*100,2))\n",
        "    clm_proc_mer.append(np.round((train_fin[i].isna().sum()/len(train_fin[i]))*100,2))\n",
        "\n",
        "fig= plt.figure(figsize=(12,8))\n",
        "gs= GridSpec(2,2,figure= fig)\n",
        "\n",
        "fig.suptitle('NA percentage distribution across Claim Procedure Codes in Inpatient, Outpatient and Merged Datasets')\n",
        "ax1= fig.add_subplot(gs[0,0])\n",
        "ax2= fig.add_subplot(gs[0,1])\n",
        "ax3= fig.add_subplot(gs[1,:])\n",
        "\n",
        "sns.barplot(ax=ax1,y= clm_proc,x= clm_proc_in, palette='crest')\n",
        "sns.barplot(ax=ax2,y= clm_proc,x= clm_proc_out,palette='crest')\n",
        "sns.barplot(ax=ax3,y= clm_proc,x= clm_proc_mer,palette='crest')\n",
        "\n",
        "ax1.title.set_text('NA Percentage in Inpatient Claim Procedure variables')\n",
        "ax2.title.set_text('NA Percentage in Outpatient Claim Procedure variables')\n",
        "ax3.title.set_text('NA Percentage in Merged Data Claim Procedure variables')\n",
        "\n",
        "plt.subplots_adjust(wspace=0.45)\n",
        "plt.xlabel(\"NA Percentage in each of the Datasets\")\n",
        "plt.show()"
      ],
      "execution_count": null,
      "outputs": [
        {
          "output_type": "display_data",
          "data": {
            "image/png": "[encoded data removed]",
            "text/plain": [
              "<Figure size 864x576 with 3 Axes>"
            ]
          },
          "metadata": {
            "tags": [],
            "needs_background": "light"
          }
        }
      ]
    },
    {
      "cell_type": "markdown",
      "metadata": {
        "id": "RtMhss4Y_Hd9"
      },
      "source": [
        "##<font color='green'><b>**Observations**</b></font>\n",
        "\n",
        "#### 1. We see that there are 100% NA values in the Outpatient dataset in all of the claim Procedure columns. This is because most of the outpatients do not undergo procedures.\n",
        "\n",
        "#### 2. In case of a need for a complex procedure, the patients are admitted and are treated as inpatients\n",
        "\n",
        "#### 3. High percenatge of the NA values in the merged datasets is not due to missing data but due to the reason that the size of the Outpatient dataset is much higher than the Inpatient dataset\n",
        "\n",
        "#### 4. As most of the outptient dataset claim procedure has a high values of NA, they are introducing skewness in the merged dataset."
      ]
    },
    {
      "cell_type": "markdown",
      "metadata": {
        "id": "7CCUXfJlZSLy"
      },
      "source": [
        "##<font color='red'><b> **Feature Engineering**\n",
        "#### 1. Each of the cliam procedure codes indicates a different procedure hence the counting the number of procedured performed effectively captures the information carried by the 6 different claim procedure columns.\n",
        "\n",
        "#### 2. I have created a new feature capturing the number of procedures performed for each of the patients. Higher the number of procedures it is highly likely that higher is the complexity of the case. "
      ]
    },
    {
      "cell_type": "code",
      "metadata": {
        "id": "-FIqXBC4LYYl"
      },
      "source": [
        "clm_proc= ['ClmProcedureCode_1','ClmProcedureCode_2','ClmProcedureCode_3','ClmProcedureCode_4','ClmProcedureCode_5','ClmProcedureCode_6']"
      ],
      "execution_count": null,
      "outputs": []
    },
    {
      "cell_type": "code",
      "metadata": {
        "colab": {
          "base_uri": "https://localhost:8080/"
        },
        "id": "R0sfyO2fNkbl",
        "outputId": "3e87a25b-64e7-4ac3-c45d-3f7ee4267e3f"
      },
      "source": [
        "#Isolating all the claim procedure columnns of the train and crossvalidate datasets into seperate dataframes\n",
        "tr_clm_pr= train_fin[clm_proc]\n",
        "cv_clm_pr= cv_fin[clm_proc]\n",
        "print(tr_clm_pr.shape)\n",
        "print(cv_clm_pr.shape)"
      ],
      "execution_count": null,
      "outputs": [
        {
          "output_type": "stream",
          "text": [
            "(446568, 6)\n",
            "(111643, 6)\n"
          ],
          "name": "stdout"
        }
      ]
    },
    {
      "cell_type": "code",
      "metadata": {
        "colab": {
          "base_uri": "https://localhost:8080/"
        },
        "id": "ino1JIh_BajI",
        "outputId": "c5c37f01-8b42-43cd-c357-807528c85e3c"
      },
      "source": [
        "#Creating a new column called '#_Procedures' to save the counts for each row where the counts of the non-nan values in each of the clm_proc are stored\n",
        "tr_clm_pr['#_Procedures']= np.zeros(len(train_fin['ClmProcedureCode_1']))\n",
        "\n",
        "for i in tqdm(range(len(tr_clm_pr['ClmProcedureCode_1']))):\n",
        "    count= 0\n",
        "    for j in range(len(clm_proc)):\n",
        "        if pd.isnull(tr_clm_pr.iloc[i,j])== False:\n",
        "            count=count+1\n",
        "    \n",
        "    tr_clm_pr['#_Procedures'][i]= count"
      ],
      "execution_count": null,
      "outputs": [
        {
          "output_type": "stream",
          "text": [
            "100%|██████████| 446568/446568 [02:04<00:00, 3597.97it/s]\n"
          ],
          "name": "stderr"
        }
      ]
    },
    {
      "cell_type": "code",
      "metadata": {
        "colab": {
          "base_uri": "https://localhost:8080/"
        },
        "id": "hFFcwgDARWyx",
        "outputId": "6ae42759-16a9-4235-a776-fbe78754c647"
      },
      "source": [
        "tr_clm_pr['#_Procedures'].describe()"
      ],
      "execution_count": null,
      "outputs": [
        {
          "output_type": "execute_result",
          "data": {
            "text/plain": [
              "count    446568.000000\n",
              "mean          0.053786\n",
              "std           0.281055\n",
              "min           0.000000\n",
              "25%           0.000000\n",
              "50%           0.000000\n",
              "75%           0.000000\n",
              "max           5.000000\n",
              "Name: #_Procedures, dtype: float64"
            ]
          },
          "metadata": {
            "tags": []
          },
          "execution_count": 163
        }
      ]
    },
    {
      "cell_type": "code",
      "metadata": {
        "colab": {
          "base_uri": "https://localhost:8080/"
        },
        "id": "8WoifMcwQ1_w",
        "outputId": "a86c30c9-d633-42d1-cbb0-ae4ca51a5b04"
      },
      "source": [
        "cv_clm_pr['#_Procedures']= np.zeros(len(cv_fin['ClmProcedureCode_1']))\n",
        "\n",
        "#Looping through each of the claim procedure columns and each of the observations\n",
        "#Counting the number of non-na values in each of the clm_proc columns in the each of the obs\n",
        "#Storing the count values in a seperate column titled '#_Procedures'\n",
        "for i in tqdm(range(len(cv_clm_pr['ClmProcedureCode_1']))):\n",
        "    count= 0\n",
        "    for j in range(len(clm_proc)):\n",
        "        if pd.isnull(cv_clm_pr.iloc[i,j])== False:\n",
        "            count=count+1\n",
        "    \n",
        "    cv_clm_pr['#_Procedures'][i]= count"
      ],
      "execution_count": null,
      "outputs": [
        {
          "output_type": "stream",
          "text": [
            "100%|██████████| 111643/111643 [00:31<00:00, 3580.01it/s]\n"
          ],
          "name": "stderr"
        }
      ]
    },
    {
      "cell_type": "code",
      "metadata": {
        "colab": {
          "base_uri": "https://localhost:8080/"
        },
        "id": "OhoCm7ySRl8_",
        "outputId": "020fa7bb-5f90-4580-c09f-d98c394d7c70"
      },
      "source": [
        "cv_clm_pr['#_Procedures'].describe()"
      ],
      "execution_count": null,
      "outputs": [
        {
          "output_type": "execute_result",
          "data": {
            "text/plain": [
              "count    111643.000000\n",
              "mean          0.052641\n",
              "std           0.278442\n",
              "min           0.000000\n",
              "25%           0.000000\n",
              "50%           0.000000\n",
              "75%           0.000000\n",
              "max           5.000000\n",
              "Name: #_Procedures, dtype: float64"
            ]
          },
          "metadata": {
            "tags": []
          },
          "execution_count": 165
        }
      ]
    },
    {
      "cell_type": "code",
      "metadata": {
        "id": "X51fUygiRth5"
      },
      "source": [
        "train_fin['#_Procedures']= tr_clm_pr['#_Procedures']\n",
        "cv_fin['#_Procedures']= cv_clm_pr['#_Procedures']"
      ],
      "execution_count": null,
      "outputs": []
    },
    {
      "cell_type": "code",
      "metadata": {
        "colab": {
          "base_uri": "https://localhost:8080/"
        },
        "id": "HSzETp2OUHr2",
        "outputId": "fb63b648-536f-4fee-edc8-6cbd7af35f60"
      },
      "source": [
        "print(np.unique(train_fin['#_Procedures']))\n",
        "print(np.unique(cv_fin['#_Procedures']))"
      ],
      "execution_count": null,
      "outputs": [
        {
          "output_type": "stream",
          "text": [
            "[0. 1. 2. 3. 4. 5.]\n",
            "[0. 1. 2. 3. 4. 5.]\n"
          ],
          "name": "stdout"
        }
      ]
    },
    {
      "cell_type": "code",
      "metadata": {
        "colab": {
          "base_uri": "https://localhost:8080/",
          "height": 404
        },
        "id": "bXOtueIvVDfI",
        "outputId": "2a7ede08-37bb-4605-c718-6503cec95f33"
      },
      "source": [
        "uni_proc_tr= np.unique(train_fin['#_Procedures'])\n",
        "uni_proc_cv= np.unique(cv_fin['#_Procedures'])\n",
        "\n",
        "tr_proc_counts= np.round((train_fin['#_Procedures'].value_counts()/len(train_fin['#_Procedures']))*100,2)\n",
        "cv_proc_counts= np.round((cv_fin['#_Procedures'].value_counts()/len(cv_fin['#_Procedures']))*100,2)\n",
        "\n",
        "fig= plt.figure(figsize=(10,6))\n",
        "gs= GridSpec(1,2,figure=fig)\n",
        "\n",
        "ax1= fig.add_subplot(gs[0,0])\n",
        "ax2= fig.add_subplot(gs[0,1])\n",
        "\n",
        "sns.barplot(ax= ax1,y= tr_proc_counts, x= uni_proc_tr, palette= 'crest')\n",
        "sns.barplot(ax= ax2,y= cv_proc_counts, x= uni_proc_cv, palette= 'crest')\n",
        "\n",
        "ax1.set_ylabel(\"Percentage of Observations in Train Data\")\n",
        "ax2.set_ylabel(\"Percentage of Observations in CV Data\")\n",
        "\n",
        "ax1.set_xlabel('Unique values of the Number of Procedures in Train Data')\n",
        "ax2.set_xlabel('Unique values of the Number of Procedures in CV Data')\n",
        "\n",
        "ax1.set_title(\"Distribution of the number of procedures in Train Data\")\n",
        "ax2.set_title(\"Distribution of the number of procedures in CV Data\")\n",
        "plt.subplots_adjust(wspace=1)\n",
        "plt.show()"
      ],
      "execution_count": null,
      "outputs": [
        {
          "output_type": "display_data",
          "data": {
            "image/png": "[encoded data removed]",
            "text/plain": [
              "<Figure size 720x432 with 2 Axes>"
            ]
          },
          "metadata": {
            "tags": [],
            "needs_background": "light"
          }
        }
      ]
    },
    {
      "cell_type": "markdown",
      "metadata": {
        "id": "uoUiUBa7bKxf"
      },
      "source": [
        "###<font color='blue'><b> Dropping the 6 Claim procedure code variables</b></font>"
      ]
    },
    {
      "cell_type": "code",
      "metadata": {
        "id": "tZIn71XURWqI"
      },
      "source": [
        "train_fin.drop(clm_proc, axis=1, inplace= True)\n",
        "cv_fin.drop(clm_proc, axis=1, inplace= True)"
      ],
      "execution_count": null,
      "outputs": []
    },
    {
      "cell_type": "markdown",
      "metadata": {
        "id": "dGu66PRYBcEw"
      },
      "source": [
        "###<font color='blue'><b> Analysis of the presence of hihg percentage of NA values in the Claim Diagnosis variables using barplots</b></font>"
      ]
    },
    {
      "cell_type": "code",
      "metadata": {
        "colab": {
          "base_uri": "https://localhost:8080/",
          "height": 554
        },
        "id": "ivFyJDELq5US",
        "outputId": "bcba6a33-3f89-4470-944b-67e7884f7345"
      },
      "source": [
        "clm_diag= ['ClmDiagnosisCode_1','ClmDiagnosisCode_2','ClmDiagnosisCode_3','ClmDiagnosisCode_4','ClmDiagnosisCode_5','ClmDiagnosisCode_6','ClmDiagnosisCode_7','ClmDiagnosisCode_8','ClmDiagnosisCode_9','ClmDiagnosisCode_10']\n",
        "clm_diag_nai=[]\n",
        "clm_diag_nao=[]\n",
        "clm_diag_na=[]\n",
        "\n",
        "for i in clm_diag:\n",
        "    clm_diag_nai.append(np.round((train_inpat[i].isna().sum()/len(train_inpat[i]))*100,2))\n",
        "    clm_diag_nao.append(np.round((train_outpat[i].isna().sum()/len(train_outpat[i]))*100,2))\n",
        "    clm_diag_na.append(np.round((train_fin[i].isna().sum()/len(train_fin[i]))*100,2))\n",
        "\n",
        "fig= plt.figure(figsize=(12,8))\n",
        "gs= GridSpec(2,2,figure= fig)\n",
        "\n",
        "fig.suptitle('NA percentage distribution across Claim Diagnosis Codes in Inpatient, Outpatient and Merged Datasets')\n",
        "ax1= fig.add_subplot(gs[0,0])\n",
        "ax2= fig.add_subplot(gs[0,1])\n",
        "ax3= fig.add_subplot(gs[1,:])\n",
        "\n",
        "sns.barplot(ax=ax1,y= clm_diag,x= clm_diag_nai,palette='crest')\n",
        "sns.barplot(ax=ax2,y= clm_diag,x= clm_diag_nao,palette='crest')\n",
        "sns.barplot(ax=ax3,y= clm_diag,x= clm_diag_na,palette='crest')\n",
        "\n",
        "ax1.title.set_text('NA Percentage in Inpatient Claim Diagnosis variables')\n",
        "ax2.title.set_text('NA Percentage in Outpatient Claim Diagnosis variables')\n",
        "ax3.title.set_text('NA Percentage in Merged Data Claim Diagnosis variables')\n",
        "\n",
        "plt.subplots_adjust(wspace=0.45)\n",
        "plt.xlabel(\"NA Percentage in each of the Datasets\")\n",
        "plt.show()"
      ],
      "execution_count": null,
      "outputs": [
        {
          "output_type": "display_data",
          "data": {
            "image/png": "[encoded data removed]",
            "text/plain": [
              "<Figure size 864x576 with 3 Axes>"
            ]
          },
          "metadata": {
            "tags": [],
            "needs_background": "light"
          }
        }
      ]
    },
    {
      "cell_type": "markdown",
      "metadata": {
        "id": "c53_bD47BlP9"
      },
      "source": [
        "##<font color='green'><b>**Observations**</b></font>\n",
        "\n",
        "#### 1. Very similar observations as the Claims Procedure variable. Even in this case the reasons for the NA values are similar as in the case of ClaimsProcedures variable"
      ]
    },
    {
      "cell_type": "markdown",
      "metadata": {
        "id": "b_i5qti4cDPs"
      },
      "source": [
        "###<font color='red'><b>**Feature Engineering**</b></font>\n",
        "\n",
        "#### As employed in the case of Claims Procedure I will be creating a new column called the no.of.diagnosis\n",
        "\n",
        "#### Higher the number of Diagnosis the higher is the complexity of the patients diagnosis.\n"
      ]
    },
    {
      "cell_type": "code",
      "metadata": {
        "id": "vm48JJLQWhsf"
      },
      "source": [
        "clm_diag= ['ClmDiagnosisCode_1','ClmDiagnosisCode_2','ClmDiagnosisCode_3','ClmDiagnosisCode_4','ClmDiagnosisCode_5','ClmDiagnosisCode_6','ClmDiagnosisCode_7','ClmDiagnosisCode_8','ClmDiagnosisCode_9','ClmDiagnosisCode_10']"
      ],
      "execution_count": null,
      "outputs": []
    },
    {
      "cell_type": "code",
      "metadata": {
        "colab": {
          "base_uri": "https://localhost:8080/"
        },
        "id": "ydweJaeMW3BK",
        "outputId": "dacf6d9b-fbb6-43b7-8122-29a024881f47"
      },
      "source": [
        "tr_clm_dg= train_fin[clm_diag]\n",
        "cv_clm_dg= cv_fin[clm_diag]\n",
        "print(tr_clm_dg.shape)\n",
        "print(cv_clm_dg.shape)"
      ],
      "execution_count": null,
      "outputs": [
        {
          "output_type": "stream",
          "text": [
            "(446568, 10)\n",
            "(111643, 10)\n"
          ],
          "name": "stdout"
        }
      ]
    },
    {
      "cell_type": "code",
      "metadata": {
        "colab": {
          "base_uri": "https://localhost:8080/"
        },
        "id": "_E-h6qI33wfY",
        "outputId": "0497ec93-988e-4536-f49c-2a461efcccc0"
      },
      "source": [
        "tr_clm_dg['#_DiagnosisCodes']= np.zeros(len(tr_clm_dg['ClmDiagnosisCode_1']))\n",
        "\n",
        "#Looping through each of the claim diagnosis columns and each of the observations\n",
        "#Counting the number of non-na values in each of the clm_diag columns in the each of the obs\n",
        "#Storing the count values in a seperate column titled '#_DiagnosisCodes'\n",
        "for i in tqdm(range(len(tr_clm_dg['ClmDiagnosisCode_1']))):\n",
        "    count= 0\n",
        "    for j in range(len(clm_diag)):\n",
        "        if pd.isnull(tr_clm_dg.iloc[i,j])== False:\n",
        "            count=count+1\n",
        "    \n",
        "    tr_clm_dg['#_DiagnosisCodes'][i]= count"
      ],
      "execution_count": null,
      "outputs": [
        {
          "output_type": "stream",
          "text": [
            "100%|██████████| 446568/446568 [03:09<00:00, 2357.77it/s]\n"
          ],
          "name": "stderr"
        }
      ]
    },
    {
      "cell_type": "code",
      "metadata": {
        "colab": {
          "base_uri": "https://localhost:8080/"
        },
        "id": "oIegGrmD3wY2",
        "outputId": "4eff88e7-a75f-4d10-9b44-543266d780ae"
      },
      "source": [
        "tr_clm_dg['#_DiagnosisCodes'].describe()"
      ],
      "execution_count": null,
      "outputs": [
        {
          "output_type": "execute_result",
          "data": {
            "text/plain": [
              "count    446568.000000\n",
              "mean          3.011736\n",
              "std           2.449265\n",
              "min           0.000000\n",
              "25%           1.000000\n",
              "50%           2.000000\n",
              "75%           4.000000\n",
              "max          10.000000\n",
              "Name: #_DiagnosisCodes, dtype: float64"
            ]
          },
          "metadata": {
            "tags": []
          },
          "execution_count": 174
        }
      ]
    },
    {
      "cell_type": "code",
      "metadata": {
        "colab": {
          "base_uri": "https://localhost:8080/"
        },
        "id": "U79s8GaYZ6JQ",
        "outputId": "9fcd82a2-1ea8-4624-aad1-e5b4878c6061"
      },
      "source": [
        "cv_clm_dg['#_DiagnosisCodes']= np.zeros(len(cv_clm_dg['ClmDiagnosisCode_1']))\n",
        "\n",
        "#Looping through each of the claim diagnosis columns and each of the observations\n",
        "#Counting the number of non-na values in each of the clm_diag columns in the each of the obs\n",
        "#Storing the count values in a seperate column titled '#_DiagnosisCodes'\n",
        "for i in tqdm(range(len(cv_clm_dg['ClmDiagnosisCode_1']))):\n",
        "    count= 0\n",
        "    for j in range(len(clm_diag)):\n",
        "        if pd.isnull(cv_clm_dg.iloc[i,j])== False:\n",
        "            count=count+1\n",
        "    \n",
        "    cv_clm_dg['#_DiagnosisCodes'][i]= count"
      ],
      "execution_count": null,
      "outputs": [
        {
          "output_type": "stream",
          "text": [
            "100%|██████████| 111643/111643 [00:47<00:00, 2351.12it/s]\n"
          ],
          "name": "stderr"
        }
      ]
    },
    {
      "cell_type": "code",
      "metadata": {
        "colab": {
          "base_uri": "https://localhost:8080/"
        },
        "id": "8iG-nAIObdFK",
        "outputId": "deca349f-47f3-4c35-eaa5-fe32a3f4fc0a"
      },
      "source": [
        "cv_clm_dg['#_DiagnosisCodes'].describe()"
      ],
      "execution_count": null,
      "outputs": [
        {
          "output_type": "execute_result",
          "data": {
            "text/plain": [
              "count    111643.000000\n",
              "mean          3.007542\n",
              "std           2.444012\n",
              "min           0.000000\n",
              "25%           1.000000\n",
              "50%           2.000000\n",
              "75%           4.000000\n",
              "max          10.000000\n",
              "Name: #_DiagnosisCodes, dtype: float64"
            ]
          },
          "metadata": {
            "tags": []
          },
          "execution_count": 176
        }
      ]
    },
    {
      "cell_type": "code",
      "metadata": {
        "id": "9XVAHMX_blZr"
      },
      "source": [
        "train_fin['#_DiagnosisCodes']= tr_clm_dg['#_DiagnosisCodes']\n",
        "cv_fin['#_DiagnosisCodes']= cv_clm_dg['#_DiagnosisCodes']"
      ],
      "execution_count": null,
      "outputs": []
    },
    {
      "cell_type": "code",
      "metadata": {
        "colab": {
          "base_uri": "https://localhost:8080/",
          "height": 404
        },
        "id": "XAYMyiCcbxdo",
        "outputId": "081ebe4c-56f6-4ee1-f2b4-6cb5584e6bbf"
      },
      "source": [
        "uni_diag_tr= np.unique(train_fin['#_DiagnosisCodes'])\n",
        "uni_diag_cv= np.unique(cv_fin['#_DiagnosisCodes'])\n",
        "\n",
        "tr_diag_counts= np.round((train_fin['#_DiagnosisCodes'].value_counts()/len(train_fin['#_DiagnosisCodes']))*100,2)\n",
        "cv_diag_counts= np.round((cv_fin['#_DiagnosisCodes'].value_counts()/len(cv_fin['#_DiagnosisCodes']))*100,2)\n",
        "\n",
        "fig= plt.figure(figsize=(14,6))\n",
        "gs= GridSpec(1,2,figure=fig)\n",
        "\n",
        "ax1= fig.add_subplot(gs[0,0])\n",
        "ax2= fig.add_subplot(gs[0,1])\n",
        "\n",
        "sns.barplot(ax= ax1,y= tr_diag_counts, x= uni_diag_tr, palette= 'crest')\n",
        "sns.barplot(ax= ax2,y= cv_diag_counts, x= uni_diag_cv, palette= 'crest')\n",
        "\n",
        "ax1.set_ylabel(\"Percentage of Observations in Train Data\")\n",
        "ax2.set_ylabel(\"Percentage of Observations in CV Data\")\n",
        "\n",
        "ax1.set_xlabel('Unique values of the Number of DiagnosisCodes in Train Data')\n",
        "ax2.set_xlabel('Unique values of the Number of DiagnosisCodes in CV Data')\n",
        "\n",
        "ax1.set_title(\"Distribution of the number of DiagnosisCodes in Train Data\")\n",
        "ax2.set_title(\"Distribution of the number of DiagnosisCodes in CV Data\")\n",
        "plt.subplots_adjust(wspace=0.75)\n",
        "plt.show()"
      ],
      "execution_count": null,
      "outputs": [
        {
          "output_type": "display_data",
          "data": {
            "image/png": "[encoded data removed]",
            "text/plain": [
              "<Figure size 1008x432 with 2 Axes>"
            ]
          },
          "metadata": {
            "tags": [],
            "needs_background": "light"
          }
        }
      ]
    },
    {
      "cell_type": "markdown",
      "metadata": {
        "id": "LdMvvPTrfJML"
      },
      "source": [
        "###<font color='blue'><b> Dropping the 10 Claim Diagnosis codes variables</b></font>"
      ]
    },
    {
      "cell_type": "code",
      "metadata": {
        "id": "HAPT40ArW3-7"
      },
      "source": [
        "train_fin.drop(clm_diag,axis=1,inplace= True)\n",
        "cv_fin.drop(clm_diag,axis=1,inplace= True)"
      ],
      "execution_count": null,
      "outputs": []
    },
    {
      "cell_type": "code",
      "metadata": {
        "id": "T1SL4HBsZOes"
      },
      "source": [
        ""
      ],
      "execution_count": null,
      "outputs": []
    },
    {
      "cell_type": "markdown",
      "metadata": {
        "id": "GLDKFLjvZVr5"
      },
      "source": [
        "###<font color='blue'><b>Checking the number of NA values in the Outpatient Dataset just to validate our obsevrations and the feature engineering approach"
      ]
    },
    {
      "cell_type": "code",
      "metadata": {
        "colab": {
          "base_uri": "https://localhost:8080/"
        },
        "id": "aPpPczx_ZWxt",
        "outputId": "1e21eb92-32a5-42ad-830d-d0d30594f679"
      },
      "source": [
        "print(\"The NA percentage in the Admission Date variable in Inpatient Data\",(train_inpat['AdmissionDt'].isna().sum()/len(train_inpat['AdmissionDt']))*100)\n",
        "print(\"The NA percentage in the Discharge Date variable in Inpatient Data\",(train_inpat['DischargeDt'].isna().sum()/len(train_inpat['DischargeDt']))*100)"
      ],
      "execution_count": null,
      "outputs": [
        {
          "output_type": "stream",
          "text": [
            "The NA percentage in the Admission Date variable in Inpatient Data 0.0\n",
            "The NA percentage in the Discharge Date variable in Inpatient Data 0.0\n"
          ],
          "name": "stdout"
        }
      ]
    },
    {
      "cell_type": "markdown",
      "metadata": {
        "id": "nOCwwRZLVgIK"
      },
      "source": [
        "##<font color='green'>**Observations**</b></font>\n",
        "\n",
        "#### Although we see that Admission Date and the Discharge Date have an NA percentage of 92.5, from the above we see that all the NA values have been added by Outpatient and Beneficary datasets.\n",
        "\n",
        "#### It needs to be noted that AdmissionDate and DischargeDate columns are bound to be missing in the Inpatient Datasets and the Beneficary Datasets.\n"
      ]
    },
    {
      "cell_type": "markdown",
      "metadata": {
        "id": "b4dgDWGUWTUi"
      },
      "source": [
        "##<font color='red'><b>**Feature Engineering**</b></font>\n",
        "#### I have created a new feature titled \"hospital_days\" which is taken as a difference between the Discharge Date and the Admission Date features.\n",
        "\n",
        "#### I have imputed all the missing values in this feature with Zeros.\n",
        "\n",
        "#### I have categorized the \"HospitalDays\" feature as keeping it a floating point value will introduce too many features and affect the overall distribution of the variable "
      ]
    },
    {
      "cell_type": "code",
      "metadata": {
        "id": "iuTnNNy3XxjT"
      },
      "source": [
        "train_fin[\"HospitalDays\"]= pd.to_datetime(train_fin['DischargeDt']) - pd.to_datetime(train_fin['AdmissionDt'])\n",
        "train_fin[\"HospitalDays\"]= train_fin[\"HospitalDays\"].dt.days"
      ],
      "execution_count": null,
      "outputs": []
    },
    {
      "cell_type": "code",
      "metadata": {
        "id": "1qsl13CvdCFp"
      },
      "source": [
        "cv_fin[\"HospitalDays\"]= pd.to_datetime(cv_fin['DischargeDt']) - pd.to_datetime(cv_fin['AdmissionDt'])\n",
        "cv_fin[\"HospitalDays\"]= cv_fin[\"HospitalDays\"].dt.days"
      ],
      "execution_count": null,
      "outputs": []
    },
    {
      "cell_type": "markdown",
      "metadata": {
        "id": "31GOtbaAdB7p"
      },
      "source": [
        "###<font color='blue'><b>Looking at the distribution of the HospitalDays variable prior to the imputation of the NA values with 0</b></font>"
      ]
    },
    {
      "cell_type": "code",
      "metadata": {
        "colab": {
          "base_uri": "https://localhost:8080/"
        },
        "id": "ee0nTwHtZxQU",
        "outputId": "73a2a833-9828-4622-bca5-e855b8898653"
      },
      "source": [
        "train_fin[\"HospitalDays\"].describe()"
      ],
      "execution_count": null,
      "outputs": [
        {
          "output_type": "execute_result",
          "data": {
            "text/plain": [
              "count    32529.00000\n",
              "mean         5.67303\n",
              "std          5.65132\n",
              "min          0.00000\n",
              "25%          2.00000\n",
              "50%          4.00000\n",
              "75%          7.00000\n",
              "max         35.00000\n",
              "Name: HospitalDays, dtype: float64"
            ]
          },
          "metadata": {
            "tags": []
          },
          "execution_count": 183
        }
      ]
    },
    {
      "cell_type": "code",
      "metadata": {
        "colab": {
          "base_uri": "https://localhost:8080/",
          "height": 394
        },
        "id": "32A6u9J4ZxM5",
        "outputId": "830c298d-6957-41aa-e236-edeefccd726b"
      },
      "source": [
        "fig= plt.figure(figsize=(12,6))\n",
        "gs= GridSpec(1,2,figure=fig)\n",
        "\n",
        "ax1= fig.add_subplot(gs[0,0])\n",
        "ax2= fig.add_subplot(gs[0,1])\n",
        "\n",
        "sns.boxplot(ax= ax1,y=train_fin['HospitalDays'],palette='crest')\n",
        "sns.boxplot(ax= ax2,y=cv_fin['HospitalDays'],palette='crest')\n",
        "\n",
        "ax1.set_xlabel(\"HospitalDays\")\n",
        "ax2.set_xlabel(\"HospitalDays\")\n",
        "\n",
        "ax1.set_ylabel(\"No.of Days in the Hospital\")\n",
        "ax2.set_ylabel(\"No.of Days in the Hospital\")\n",
        "\n",
        "ax1.set_title(\"Distribution of the Hospital Days variable in Train Data\")\n",
        "ax2.set_title(\"Distribution of the Hospital Days variable in CV Data\")\n",
        "plt.subplots_adjust(wspace=0.65)\n",
        "\n",
        "plt.show()"
      ],
      "execution_count": null,
      "outputs": [
        {
          "output_type": "display_data",
          "data": {
            "image/png": "[encoded data removed]",
            "text/plain": [
              "<Figure size 864x432 with 2 Axes>"
            ]
          },
          "metadata": {
            "tags": [],
            "needs_background": "light"
          }
        }
      ]
    },
    {
      "cell_type": "code",
      "metadata": {
        "id": "uIFEyPsRftrv"
      },
      "source": [
        "with open('/content/drive/MyDrive/Colab Notebooks/train_fin_n1.pkl','wb') as tr_df:\n",
        "    pickle.dump(train_fin,tr_df)\n",
        "with open('/content/drive/MyDrive/Colab Notebooks/cv_fin_n1.pkl','wb') as cv_df:\n",
        "    pickle.dump(cv_fin,cv_df)"
      ],
      "execution_count": null,
      "outputs": []
    },
    {
      "cell_type": "code",
      "metadata": {
        "id": "Z5vfsfM_xkDf"
      },
      "source": [
        "with open('/content/drive/MyDrive/Colab Notebooks/train_fin_n1.pkl','rb') as tr_df:\n",
        "    train_fin1= pickle.load(tr_df)\n",
        "with open('/content/drive/MyDrive/Colab Notebooks/cv_fin_n1.pkl','rb') as cv_df:\n",
        "    cv_fin1= pickle.load(cv_df)"
      ],
      "execution_count": null,
      "outputs": []
    },
    {
      "cell_type": "code",
      "metadata": {
        "colab": {
          "base_uri": "https://localhost:8080/"
        },
        "id": "Lz2pi1de1iRI",
        "outputId": "a980c2c8-6b86-4426-d162-8d1c70a9f4a5"
      },
      "source": [
        "print(train_fin1['HospitalDays'].isna().sum())\n",
        "print(cv_fin1['HospitalDays'].isna().sum())"
      ],
      "execution_count": null,
      "outputs": [
        {
          "output_type": "stream",
          "text": [
            "414039\n",
            "103698\n"
          ],
          "name": "stdout"
        }
      ]
    },
    {
      "cell_type": "markdown",
      "metadata": {
        "id": "Qz5k21ikdeOm"
      },
      "source": [
        "##<font color='blue'><b> Imputing the NA values in the HospitalDates variable with 0 values</b></font>"
      ]
    },
    {
      "cell_type": "code",
      "metadata": {
        "id": "MREsCmqBdt_Y"
      },
      "source": [
        "train_fin1[\"HospitalDays\"]=train_fin1[\"HospitalDays\"].fillna(0)\n",
        "cv_fin1[\"HospitalDays\"]=cv_fin1[\"HospitalDays\"].fillna(0)"
      ],
      "execution_count": null,
      "outputs": []
    },
    {
      "cell_type": "code",
      "metadata": {
        "colab": {
          "base_uri": "https://localhost:8080/",
          "height": 394
        },
        "id": "LyPIU1tsd9du",
        "outputId": "12a26027-1340-4758-8cf8-026c7218fee7"
      },
      "source": [
        "fig= plt.figure(figsize=(12,6))\n",
        "gs= GridSpec(1,2,figure=fig)\n",
        "\n",
        "ax1= fig.add_subplot(gs[0,0])\n",
        "ax2= fig.add_subplot(gs[0,1])\n",
        "\n",
        "sns.boxplot(ax= ax1,y=train_fin1['HospitalDays'],palette='crest')\n",
        "sns.boxplot(ax= ax2,y=cv_fin1['HospitalDays'],palette='crest')\n",
        "\n",
        "ax1.set_xlabel(\"HospitalDays\")\n",
        "ax2.set_xlabel(\"HospitalDays\")\n",
        "\n",
        "ax1.set_ylabel(\"No.of Days in the Hospital\")\n",
        "ax2.set_ylabel(\"No.of Days in the Hospital\")\n",
        "\n",
        "ax1.set_title(\"Distribution of the Hospital Days variable in Train Data\")\n",
        "ax2.set_title(\"Distribution of the Hospital Days variable in CV Data\")\n",
        "plt.subplots_adjust(wspace=0.65)\n",
        "\n",
        "plt.show()"
      ],
      "execution_count": null,
      "outputs": [
        {
          "output_type": "display_data",
          "data": {
            "image/png": "[encoded data removed]",
            "text/plain": [
              "<Figure size 864x432 with 2 Axes>"
            ]
          },
          "metadata": {
            "tags": [],
            "needs_background": "light"
          }
        }
      ]
    },
    {
      "cell_type": "markdown",
      "metadata": {
        "id": "pZK2aiqDeoBZ"
      },
      "source": [
        "##<font color='green'><b>**Observations**</b></font>\n",
        "\n",
        "#### From the above two Box plots it is quite evident that the imputation of the NA values wiht 0 has drastically impacted the overall distribution of the variable in both the Train and CV datasets"
      ]
    },
    {
      "cell_type": "markdown",
      "metadata": {
        "id": "7m1wufgQ2olZ"
      },
      "source": [
        "###<font color='blue'><b> Hence Categorizing the variable as per weeks as it introduces ordinality in the feature as well as seperates out the inpatient and the outpatient data </b></font>"
      ]
    },
    {
      "cell_type": "code",
      "metadata": {
        "id": "IqF8NneB3lgW"
      },
      "source": [
        "train_fin1['HospitalDays']=train_fin1['HospitalDays']/pd.Timedelta(value=1,unit='W')\n",
        "print(train_fin1['HospitalDays'].value_counts()) "
      ],
      "execution_count": null,
      "outputs": []
    },
    {
      "cell_type": "code",
      "metadata": {
        "colab": {
          "base_uri": "https://localhost:8080/"
        },
        "id": "gR9KnnGA6OAe",
        "outputId": "09326f90-752a-402c-a06d-25f851c64019"
      },
      "source": [
        "#if train_fin1['HospitalDays'][1]== 0:\n",
        "    #print('Yes')\n",
        "train_fin1['HospitalDays'][:4]"
      ],
      "execution_count": null,
      "outputs": [
        {
          "output_type": "execute_result",
          "data": {
            "text/plain": [
              "251641    0.0\n",
              "341014    6.0\n",
              "31750     0.0\n",
              "252729    0.0\n",
              "Name: HospitalDays, dtype: float64"
            ]
          },
          "metadata": {
            "tags": []
          },
          "execution_count": 139
        }
      ]
    },
    {
      "cell_type": "code",
      "metadata": {
        "colab": {
          "base_uri": "https://localhost:8080/"
        },
        "id": "eRVyhYYw2r-t",
        "outputId": "afc4b2a4-7e72-486f-955b-2670a6a83eac"
      },
      "source": [
        "for i in tqdm(range(len(train_fin1['HospitalDays']))):\n",
        "    if train_fin1['HospitalDays'][i]==0.0:\n",
        "        train_fin1[\"HospitalDays\"][i]= 0\n",
        "    if train_fin1[\"HospitalDays\"][i]>0 and train_fin1[\"HospitalDays\"][i]<=7:\n",
        "        train_fin1[\"HospitalDays\"][i]= 1\n",
        "    elif train_fin1[\"HospitalDays\"][i]>7 and train_fin1[\"HospitalDays\"][i]<=14:\n",
        "        train_fin1[\"HospitalDays\"][i]= 2 \n",
        "    elif train_fin1[\"HospitalDays\"][i]>14 and train_fin1[\"HospitalDays\"][i]<=21:\n",
        "        train_fin1[\"HospitalDays\"][i]= 3\n",
        "    elif train_fin1[\"HospitalDays\"][i]>21 and train_fin1[\"HospitalDays\"][i]<=28:\n",
        "        train_fin1[\"HospitalDays\"][i]= 4\n",
        "    elif train_fin1[\"HospitalDays\"][i]>28:\n",
        "        train_fin1[\"HospitalDays\"][i]= 5"
      ],
      "execution_count": null,
      "outputs": [
        {
          "output_type": "stream",
          "text": [
            "100%|██████████| 446568/446568 [00:57<00:00, 7713.15it/s]\n"
          ],
          "name": "stderr"
        }
      ]
    },
    {
      "cell_type": "code",
      "metadata": {
        "colab": {
          "base_uri": "https://localhost:8080/"
        },
        "id": "rzn6zygX-YUo",
        "outputId": "84aff3d9-6fa0-46da-8faa-502c0356598d"
      },
      "source": [
        "for i in tqdm(range(len(cv_fin1['HospitalDays']))):\n",
        "    if cv_fin1['HospitalDays'][i]==0.0:\n",
        "        cv_fin1[\"HospitalDays\"][i]= 0\n",
        "    if cv_fin1[\"HospitalDays\"][i]>0 and cv_fin1[\"HospitalDays\"][i]<=7:\n",
        "        cv_fin1[\"HospitalDays\"][i]= 1\n",
        "    elif cv_fin1[\"HospitalDays\"][i]>7 and cv_fin1[\"HospitalDays\"][i]<=14:\n",
        "        cv_fin1[\"HospitalDays\"][i]= 2 \n",
        "    elif cv_fin1[\"HospitalDays\"][i]>14 and cv_fin1[\"HospitalDays\"][i]<=21:\n",
        "        cv_fin1[\"HospitalDays\"][i]= 3\n",
        "    elif cv_fin1[\"HospitalDays\"][i]>21 and cv_fin1[\"HospitalDays\"][i]<=28:\n",
        "        cv_fin1[\"HospitalDays\"][i]= 4\n",
        "    elif cv_fin1[\"HospitalDays\"][i]>28:\n",
        "        cv_fin1[\"HospitalDays\"][i]= 5"
      ],
      "execution_count": null,
      "outputs": [
        {
          "output_type": "stream",
          "text": [
            "100%|██████████| 111643/111643 [00:14<00:00, 7771.05it/s]\n"
          ],
          "name": "stderr"
        }
      ]
    },
    {
      "cell_type": "code",
      "metadata": {
        "id": "ZOUvVl-v-0Wy"
      },
      "source": [
        "train_fin1= train_fin1.rename(columns={'HospitalDays':'HospitalWeeks'})\n",
        "cv_fin1= cv_fin1.rename(columns={'HospitalDays':'HospitalWeeks'})"
      ],
      "execution_count": null,
      "outputs": []
    },
    {
      "cell_type": "code",
      "metadata": {
        "colab": {
          "base_uri": "https://localhost:8080/",
          "height": 404
        },
        "id": "vpf_BBhmh5_q",
        "outputId": "c34bd004-27b8-4c5c-a7c8-45b2643a0d23"
      },
      "source": [
        "fig=plt.figure(figsize=(14,6))\n",
        "gs= GridSpec(1,2,figure=fig)\n",
        "\n",
        "ax1= fig.add_subplot(gs[0,0])\n",
        "ax2= fig.add_subplot(gs[0,1])\n",
        "\n",
        "sns.barplot(ax=ax1, x= np.unique(train_fin1[\"HospitalWeeks\"]),y= np.round((train_fin1[\"HospitalWeeks\"].value_counts()/len(train_fin1[\"HospitalWeeks\"]))*100,2),palette='crest')\n",
        "sns.barplot(ax=ax2, x= np.unique(cv_fin1[\"HospitalWeeks\"]),y= np.round((cv_fin1[\"HospitalWeeks\"].value_counts()/len(cv_fin1[\"HospitalWeeks\"]))*100,2),palette='crest')\n",
        "\n",
        "ax1.set_xlabel(\"Hospital Weeks\")\n",
        "ax2.set_xlabel(\"Hospital Weeks\")\n",
        "\n",
        "ax1.set_ylabel(\"Percentage of the Observations\")\n",
        "ax2.set_ylabel(\"Percentage of the Observations\")\n",
        "\n",
        "ax1.set_title(\"Distribution of the HospitalWeeks variable in Train Dataset\")\n",
        "ax2.set_title(\"Distribution of the HospitalWeeks variable in Train Dataset\")\n",
        "plt.subplots_adjust(wspace=0.65)\n",
        "plt.show()"
      ],
      "execution_count": null,
      "outputs": [
        {
          "output_type": "display_data",
          "data": {
            "image/png": "[encoded data removed]",
            "text/plain": [
              "<Figure size 1008x432 with 2 Axes>"
            ]
          },
          "metadata": {
            "tags": [],
            "needs_background": "light"
          }
        }
      ]
    },
    {
      "cell_type": "markdown",
      "metadata": {
        "id": "Ckt0lWc-i_Ev"
      },
      "source": [
        "##<font color='green'><b>**Observations**</b></font>\n",
        "#### 1. As mentioned above 0 would be the highest as they are the imputed observations from the Inpatient and the Outpatient Datasests\n",
        "\n",
        "#### 2. Other than 0, we see that the maximum days spent in the hospital is less than or equal to 1 week and the number of observations keep decreasing with more weeks\n",
        "\n",
        "#### 3. This seems to be the general trend as there are fewer chronic illness cases in a hospital and most of the Inpatients are predominantly admitted for shoter duration of time"
      ]
    },
    {
      "cell_type": "markdown",
      "metadata": {
        "id": "wjdsyXSDk9sm"
      },
      "source": [
        "##<font color='blue'><b> Dropping the Admission Date and the Discharge Date columns from the dataset</b></font>"
      ]
    },
    {
      "cell_type": "code",
      "metadata": {
        "id": "krQlPy6Ak9hG"
      },
      "source": [
        "train_fin1.drop(['AdmissionDt','DischargeDt'], axis=1, inplace=True)\n",
        "cv_fin1.drop(['AdmissionDt','DischargeDt'], axis=1, inplace=True)"
      ],
      "execution_count": null,
      "outputs": []
    },
    {
      "cell_type": "code",
      "metadata": {
        "colab": {
          "base_uri": "https://localhost:8080/"
        },
        "id": "ebfwacTMk9Y7",
        "outputId": "dcc73b83-f101-444e-a853-e7ca933a9af8"
      },
      "source": [
        "na_col_tr=[]\n",
        "na_perc_tr= np.round(((train_fin1.isna().sum())/train_fin1.shape[0])*100,2)\n",
        "na_perc_df_tr= na_perc_tr.to_frame()\n",
        "na_perc_df_tr.reset_index(inplace= True)\n",
        "na_perc_df_tr.columns= [\"col_name\",\"na_percentage\"]\n",
        "for i in range(na_perc_df_tr.shape[0]):\n",
        "    if na_perc_df_tr.iloc[i,1] == 0:\n",
        "        na_col_tr.append(i)  \n",
        "\n",
        "print(na_col_tr)"
      ],
      "execution_count": null,
      "outputs": [
        {
          "output_type": "stream",
          "text": [
            "[0, 1, 2, 3, 4, 5, 12, 14, 15, 16, 17, 18, 19, 20, 21, 22, 23, 24, 25, 26, 27, 28, 29, 30, 31, 32, 33, 34, 35, 36, 37, 38]\n"
          ],
          "name": "stdout"
        }
      ]
    },
    {
      "cell_type": "code",
      "metadata": {
        "colab": {
          "base_uri": "https://localhost:8080/"
        },
        "id": "fMiIl-c2k9Dn",
        "outputId": "43da4d55-ca0b-4106-b8bb-f4ff4be28d6b"
      },
      "source": [
        "na_perc_df_tr.drop(index=na_col_tr,inplace=True)\n",
        "na_perc_df_tr.reset_index(drop=True,inplace=True)\n",
        "print(na_perc_df_tr)"
      ],
      "execution_count": null,
      "outputs": [
        {
          "output_type": "stream",
          "text": [
            "                col_name  na_percentage\n",
            "0     AttendingPhysician           0.27\n",
            "1     OperatingPhysician          79.50\n",
            "2         OtherPhysician          64.24\n",
            "3  ClmAdmitDiagnosisCode          73.88\n",
            "4      DeductibleAmtPaid           0.16\n",
            "5     DiagnosisGroupCode          92.72\n",
            "6                    DOD          99.26\n"
          ],
          "name": "stdout"
        }
      ]
    },
    {
      "cell_type": "code",
      "metadata": {
        "colab": {
          "base_uri": "https://localhost:8080/",
          "height": 404
        },
        "id": "0cEioV8QlIC5",
        "outputId": "6708928f-0e1e-4b52-fe3d-409be7934e15"
      },
      "source": [
        "plt.figure(figsize=(8,6))\n",
        "ax= sns.barplot(y= na_perc_df_tr['col_name'],x= na_perc_df_tr['na_percentage'],palette='crest')\n",
        "\n",
        "plt.ylabel(\"Name of the Column\")\n",
        "plt.xlabel(\"Percentage of the NA values\")\n",
        "plt.title(\"Percenate of NA values in each of the columns of the Training Datasets\")\n",
        "\n",
        "#Source: https://medium.com/@dey.mallika/transform-your-graphs-with-seaborn-ea4fa8e606a6\n",
        "initialx=0\n",
        "for p in ax.patches:\n",
        "    ax.text(p.get_width(),initialx+p.get_height()/8,'{:1.0f}'.format(p.get_width()))\n",
        "    initialx+=1\n",
        "plt.show()"
      ],
      "execution_count": null,
      "outputs": [
        {
          "output_type": "display_data",
          "data": {
            "image/png": "[encoded data removed]",
            "text/plain": [
              "<Figure size 576x432 with 1 Axes>"
            ]
          },
          "metadata": {
            "tags": [],
            "needs_background": "light"
          }
        }
      ]
    },
    {
      "cell_type": "code",
      "metadata": {
        "id": "AnY9vENP7jva"
      },
      "source": [
        ""
      ],
      "execution_count": null,
      "outputs": []
    },
    {
      "cell_type": "markdown",
      "metadata": {
        "id": "nNzjepkBAJei"
      },
      "source": [
        "##<font color='blue'><b>Looking at the distribution of the NA values in the Operating physician and Other physician columns of the Inpatients and the Outpatients datasets</b></font>"
      ]
    },
    {
      "cell_type": "code",
      "metadata": {
        "colab": {
          "base_uri": "https://localhost:8080/",
          "height": 455
        },
        "id": "1GiFpHhr-Hai",
        "outputId": "b9eced00-08d9-4db4-8c9f-7ff6572f0d44"
      },
      "source": [
        "in_opr_p=np.round((train_inpat['OperatingPhysician'].isna().sum()/len(train_inpat['OperatingPhysician']))*100,2)\n",
        "in_ot_p= np.round((train_inpat['OtherPhysician'].isna().sum()/len(train_inpat['OtherPhysician']))*100,2)\n",
        "\n",
        "print(\"NA percent in OperatingPhysician col in Inpatient Data\",in_opr_p)\n",
        "print(\"NA percent in OtherPhysician col in Inpatient Data\",in_ot_p)\n",
        "print(\"*\"*100)\n",
        "\n",
        "plt.figure(figsize=(8,6))\n",
        "sns.barplot(x=[\"OperatingPhysician\",\"OtherPhysician\"],y=[in_opr_p,in_ot_p], palette='crest')\n",
        "plt.xlabel(\"Physician Type\")\n",
        "plt.ylabel(\"Percetage of NA values\")\n",
        "plt.title(\"NA value Percentage in OperatingPhysician and OtherPhysician in Inpatients\")\n",
        "#plt.grid()\n",
        "plt.show()"
      ],
      "execution_count": null,
      "outputs": [
        {
          "output_type": "stream",
          "text": [
            "NA percent in OperatingPhysician col in Inpatient Data 41.12\n",
            "NA percent in OtherPhysician col in Inpatient Data 88.41\n",
            "****************************************************************************************************\n"
          ],
          "name": "stdout"
        },
        {
          "output_type": "display_data",
          "data": {
            "image/png": "[encoded data removed]",
            "text/plain": [
              "<Figure size 576x432 with 1 Axes>"
            ]
          },
          "metadata": {
            "tags": [],
            "needs_background": "light"
          }
        }
      ]
    },
    {
      "cell_type": "code",
      "metadata": {
        "colab": {
          "base_uri": "https://localhost:8080/",
          "height": 455
        },
        "id": "QVR-jVjP_Okz",
        "outputId": "07cb077a-5a46-4e79-c5ae-2383616bb31f"
      },
      "source": [
        "out_opr_p=np.round((train_outpat['OperatingPhysician'].isna().sum()/len(train_outpat['OperatingPhysician']))*100,2)\n",
        "out_ot_p= np.round((train_outpat['OtherPhysician'].isna().sum()/len(train_outpat['OtherPhysician']))*100,2)\n",
        "\n",
        "print(\"NA percent in OperatingPhysician col in Inpatient Data\",out_opr_p)\n",
        "print(\"NA percent in OtherPhysician col in Inpatient Data\",out_ot_p)\n",
        "\n",
        "print(\"*\"*100)\n",
        "plt.figure(figsize=(8,6))\n",
        "sns.barplot(x=[\"OperatingPhysician\",\"OtherPhysician\"],y=[out_opr_p,out_ot_p], palette='crest')\n",
        "plt.xlabel(\"Physician Type\")\n",
        "plt.ylabel(\"Percetage of NA values\")\n",
        "plt.title(\"NA value Percentage in OperatingPhysician and OtherPhysician in Outpatients\")\n",
        "#plt.grid()\n",
        "plt.show()"
      ],
      "execution_count": null,
      "outputs": [
        {
          "output_type": "stream",
          "text": [
            "NA percent in OperatingPhysician col in Inpatient Data 82.5\n",
            "NA percent in OtherPhysician col in Inpatient Data 62.33\n",
            "****************************************************************************************************\n"
          ],
          "name": "stdout"
        },
        {
          "output_type": "display_data",
          "data": {
            "image/png": "[encoded data removed]",
            "text/plain": [
              "<Figure size 576x432 with 1 Axes>"
            ]
          },
          "metadata": {
            "tags": [],
            "needs_background": "light"
          }
        }
      ]
    },
    {
      "cell_type": "markdown",
      "metadata": {
        "id": "rX0GI2YgAq26"
      },
      "source": [
        "##<font color='green'><b>**Observations:**\n",
        "\n",
        "#### 1. The above graphs are inline with the reality or practical situtation. NA values in Operating Physician and Other Physician datasets doesnt mean that the data is missing.\n",
        "\n",
        "#### 2. As per my secondary research, Operating Physicians are involved in cases where a surgery or other complications are involved\n",
        "\n",
        "#### 3. OtherPhysicians are involved in cases where the patient has co-morbidities\n",
        "\n",
        "##<font color='green'><b>**Observations on Inpatient Dataset:**\n",
        "\n",
        "#### 1. We have 41% NA values in Operating Physicians column. This means the 59% (100%-41%) of the Inpatients likely needed a surgery or had other complication where as 41% didnt have any complications or didnt need surgery \n",
        "\n",
        "#### 2. We have 88% NA values in Other Physicians column. This means the 12% (100%-88%) of the Inpatients had co-morbidities where as 12% didnt have co-morbidities \n",
        "\n",
        "##<font color='green'><b>**Observations on Outpatient Dataset:**\n",
        "\n",
        "#### 1. We have 82% NA values in Operating Physicians column. Outpatients do not usually go through surgeries or other complicated procedures in a day \n",
        "\n",
        "#### 2. We have 62% NA values in Other Physicians column.Outpatients do not usually consult other physicians very often."
      ]
    },
    {
      "cell_type": "markdown",
      "metadata": {
        "id": "WL2g-JYcGSlM"
      },
      "source": [
        "##<font color='blue'><b>Imputing the Attending Physician with Mode or MostFrequent strategy using SimpleImpute</b></font>"
      ]
    },
    {
      "cell_type": "code",
      "metadata": {
        "id": "XripniwL7k8V"
      },
      "source": [
        "cat_imp= SimpleImputer(missing_values= np.nan, strategy= 'most_frequent')\n",
        "train_fin1[\"AttendingPhysician\"]= cat_imp.fit_transform(train_fin1['AttendingPhysician'].values.reshape(-1,1))[:,0]"
      ],
      "execution_count": null,
      "outputs": []
    },
    {
      "cell_type": "code",
      "metadata": {
        "colab": {
          "base_uri": "https://localhost:8080/"
        },
        "id": "nwdm9j-37k3c",
        "outputId": "4f680446-8165-42a0-ef9c-fa8f18f3c17b"
      },
      "source": [
        "train_fin1[\"AttendingPhysician\"].isna().sum()"
      ],
      "execution_count": null,
      "outputs": [
        {
          "output_type": "execute_result",
          "data": {
            "text/plain": [
              "0"
            ]
          },
          "metadata": {
            "tags": []
          },
          "execution_count": 201
        }
      ]
    },
    {
      "cell_type": "markdown",
      "metadata": {
        "id": "BL9Mze2pHjtY"
      },
      "source": [
        "##<font color='red'><b>**Feature Engineering**\n",
        "\n",
        "#### A new column has been created to capture the nature of illness of the patient.This column will be categorical and will have the below categories:\n",
        "\n",
        "#### 1.Simple \n",
        "#### 2.Operating\n",
        "#### 3.comorbid\n",
        "#### 4.Operating&comorbid"
      ]
    },
    {
      "cell_type": "code",
      "metadata": {
        "id": "stzrNrCHR-l5"
      },
      "source": [
        "train_fin1[\"IllnessNature\"]= np.zeros(len(train_fin1[\"AttendingPhysician\"]))\n",
        "cv_fin1[\"IllnessNature\"]= np.zeros(len(cv_fin1[\"AttendingPhysician\"]))"
      ],
      "execution_count": null,
      "outputs": []
    },
    {
      "cell_type": "code",
      "metadata": {
        "colab": {
          "base_uri": "https://localhost:8080/"
        },
        "id": "KUf1Y-7q7k0H",
        "outputId": "9d6224c7-1f17-4e93-e0bb-30805cc0f3ae"
      },
      "source": [
        "for i in tqdm(range(len(train_fin1[\"AttendingPhysician\"]))):\n",
        "    if pd.isnull(train_fin1[\"OperatingPhysician\"][i])==True and pd.isnull(train_fin1[\"OtherPhysician\"][i])==True:\n",
        "        train_fin1[\"IllnessNature\"][i]= \"simple\"\n",
        "    elif pd.isnull(train_fin1[\"OperatingPhysician\"][i])==True and pd.isnull(train_fin1[\"OtherPhysician\"][i])==False:\n",
        "        train_fin1[\"IllnessNature\"][i]= \"operating\"\n",
        "    elif pd.isnull(train_fin1[\"OperatingPhysician\"][i])==False and pd.isnull(train_fin1[\"OtherPhysician\"][i])==True:\n",
        "        train_fin1[\"IllnessNature\"][i]= \"comorbid\"\n",
        "    elif pd.isnull(train_fin1[\"OperatingPhysician\"][i])==False and pd.isnull(train_fin1[\"OtherPhysician\"][i])==False:\n",
        "        train_fin1[\"IllnessNature\"][i]= \"operating&comorbid\""
      ],
      "execution_count": null,
      "outputs": [
        {
          "output_type": "stream",
          "text": [
            "100%|██████████| 446568/446568 [28:45<00:00, 258.81it/s]\n"
          ],
          "name": "stderr"
        }
      ]
    },
    {
      "cell_type": "code",
      "metadata": {
        "colab": {
          "base_uri": "https://localhost:8080/"
        },
        "id": "ek_C95yjKzBn",
        "outputId": "4c86952e-aff5-4193-8fae-5e66c95b0311"
      },
      "source": [
        "for i in tqdm(range(len(cv_fin1[\"AttendingPhysician\"]))):\n",
        "    if pd.isnull(cv_fin1[\"OperatingPhysician\"][i])==True and pd.isnull(cv_fin1[\"OtherPhysician\"][i])==True:\n",
        "        cv_fin1[\"IllnessNature\"][i]= \"simple\"\n",
        "    elif pd.isnull(cv_fin1[\"OperatingPhysician\"][i])==True and pd.isnull(cv_fin1[\"OtherPhysician\"][i])==False:\n",
        "        cv_fin1[\"IllnessNature\"][i]= \"operating\"\n",
        "    elif pd.isnull(cv_fin1[\"OperatingPhysician\"][i])==False and pd.isnull(cv_fin1[\"OtherPhysician\"][i])==True:\n",
        "        cv_fin1[\"IllnessNature\"][i]= \"comorbid\"\n",
        "    elif pd.isnull(cv_fin1[\"OperatingPhysician\"][i])==False and pd.isnull(cv_fin1[\"OtherPhysician\"][i])==False:\n",
        "        cv_fin1[\"IllnessNature\"][i]= \"operating&comorbid\""
      ],
      "execution_count": null,
      "outputs": [
        {
          "output_type": "stream",
          "text": [
            "100%|██████████| 111643/111643 [01:11<00:00, 1567.18it/s]\n"
          ],
          "name": "stderr"
        }
      ]
    },
    {
      "cell_type": "code",
      "metadata": {
        "colab": {
          "base_uri": "https://localhost:8080/"
        },
        "id": "lKBVIouGV1vA",
        "outputId": "cbf8c608-b7fb-4c08-fd75-9459533487db"
      },
      "source": [
        "print(np.unique(train_fin1[\"IllnessNature\"]))\n",
        "print(np.unique(cv_fin1[\"IllnessNature\"]))"
      ],
      "execution_count": null,
      "outputs": [
        {
          "output_type": "stream",
          "text": [
            "['comorbid' 'operating' 'operating&comorbid' 'simple']\n",
            "['comorbid' 'operating' 'operating&comorbid' 'simple']\n"
          ],
          "name": "stdout"
        }
      ]
    },
    {
      "cell_type": "code",
      "metadata": {
        "colab": {
          "base_uri": "https://localhost:8080/",
          "height": 404
        },
        "id": "YeLMxFYrLxHv",
        "outputId": "8efd8cd1-ab63-408a-f6e5-3a486b3e9469"
      },
      "source": [
        "fig=plt.figure(figsize=(14,6))\n",
        "gs= GridSpec(1,2,figure=fig)\n",
        "\n",
        "ax1= fig.add_subplot(gs[0,0])\n",
        "ax2= fig.add_subplot(gs[0,1])\n",
        "\n",
        "sns.barplot(ax=ax1, x= np.unique(train_fin1[\"IllnessNature\"]),y= np.round((train_fin1[\"IllnessNature\"].value_counts()/len(train_fin1[\"IllnessNature\"]))*100,2),palette='crest')\n",
        "sns.barplot(ax=ax2, x= np.unique(cv_fin1[\"IllnessNature\"]),y= np.round((cv_fin1[\"IllnessNature\"].value_counts()/len(cv_fin1[\"IllnessNature\"]))*100,2),palette='crest')\n",
        "\n",
        "ax1.set_xlabel(\"Illness Nature\")\n",
        "ax2.set_xlabel(\"Illness Nature\")\n",
        "\n",
        "ax1.set_ylabel(\"Percentage of the Observations\")\n",
        "ax2.set_ylabel(\"Percentage of the Observations\")\n",
        "\n",
        "ax1.set_title(\"Distribution of the IllnessNature variable in Train Dataset\")\n",
        "ax2.set_title(\"Distribution of the IllnessNature variable in Train Dataset\")\n",
        "plt.subplots_adjust(wspace=0.65)\n",
        "plt.show()"
      ],
      "execution_count": null,
      "outputs": [
        {
          "output_type": "display_data",
          "data": {
            "image/png": "[encoded data removed]",
            "text/plain": [
              "<Figure size 1008x432 with 2 Axes>"
            ]
          },
          "metadata": {
            "tags": [],
            "needs_background": "light"
          }
        }
      ]
    },
    {
      "cell_type": "code",
      "metadata": {
        "id": "KLofhWMPbPJG"
      },
      "source": [
        "train_fin1.drop(['OperatingPhysician','OtherPhysician'], axis=1,inplace=True)\n",
        "cv_fin1.drop(['OperatingPhysician','OtherPhysician'], axis=1,inplace=True)"
      ],
      "execution_count": null,
      "outputs": []
    },
    {
      "cell_type": "code",
      "metadata": {
        "colab": {
          "base_uri": "https://localhost:8080/",
          "height": 391
        },
        "id": "THGIxEgncMBQ",
        "outputId": "df931549-48f1-4faa-d9ce-a9952156cae2"
      },
      "source": [
        "plt.figure(figsize=(10,6))\n",
        "sns.violinplot(train_fin1[\"AttendingPhysician\"])\n",
        "plt.xlabel(\"Attending Physicians\")\n",
        "plt.ylabel(\"Number of AttendingPhysicans\")\n",
        "plt.title(\"Probablity distribution of the Attending Physicians Variable\")\n",
        "plt.show()"
      ],
      "execution_count": null,
      "outputs": [
        {
          "output_type": "error",
          "ename": "TypeError",
          "evalue": "ignored",
          "traceback": [
            "\u001b[0;31m---------------------------------------------------------------------------\u001b[0m",
            "\u001b[0;31mTypeError\u001b[0m                                 Traceback (most recent call last)",
            "\u001b[0;32m<ipython-input-296-be9d4444fdd7>\u001b[0m in \u001b[0;36m<module>\u001b[0;34m()\u001b[0m\n\u001b[1;32m      1\u001b[0m \u001b[0mplt\u001b[0m\u001b[0;34m.\u001b[0m\u001b[0mfigure\u001b[0m\u001b[0;34m(\u001b[0m\u001b[0mfigsize\u001b[0m\u001b[0;34m=\u001b[0m\u001b[0;34m(\u001b[0m\u001b[0;36m10\u001b[0m\u001b[0;34m,\u001b[0m\u001b[0;36m6\u001b[0m\u001b[0;34m)\u001b[0m\u001b[0;34m)\u001b[0m\u001b[0;34m\u001b[0m\u001b[0;34m\u001b[0m\u001b[0m\n\u001b[0;32m----> 2\u001b[0;31m \u001b[0msns\u001b[0m\u001b[0;34m.\u001b[0m\u001b[0mviolinplot\u001b[0m\u001b[0;34m(\u001b[0m\u001b[0mtrain_fin1\u001b[0m\u001b[0;34m[\u001b[0m\u001b[0;34m\"AttendingPhysician\"\u001b[0m\u001b[0;34m]\u001b[0m\u001b[0;34m)\u001b[0m\u001b[0;34m\u001b[0m\u001b[0;34m\u001b[0m\u001b[0m\n\u001b[0m\u001b[1;32m      3\u001b[0m \u001b[0mplt\u001b[0m\u001b[0;34m.\u001b[0m\u001b[0mxlabel\u001b[0m\u001b[0;34m(\u001b[0m\u001b[0;34m\"Attending Physicians\"\u001b[0m\u001b[0;34m)\u001b[0m\u001b[0;34m\u001b[0m\u001b[0;34m\u001b[0m\u001b[0m\n\u001b[1;32m      4\u001b[0m \u001b[0mplt\u001b[0m\u001b[0;34m.\u001b[0m\u001b[0mylabel\u001b[0m\u001b[0;34m(\u001b[0m\u001b[0;34m\"Number of AttendingPhysicans\"\u001b[0m\u001b[0;34m)\u001b[0m\u001b[0;34m\u001b[0m\u001b[0;34m\u001b[0m\u001b[0m\n\u001b[1;32m      5\u001b[0m \u001b[0mplt\u001b[0m\u001b[0;34m.\u001b[0m\u001b[0mtitle\u001b[0m\u001b[0;34m(\u001b[0m\u001b[0;34m\"Probablity distribution of the Attending Physicians Variable\"\u001b[0m\u001b[0;34m)\u001b[0m\u001b[0;34m\u001b[0m\u001b[0;34m\u001b[0m\u001b[0m\n",
            "\u001b[0;32m/usr/local/lib/python3.7/dist-packages/seaborn/_decorators.py\u001b[0m in \u001b[0;36minner_f\u001b[0;34m(*args, **kwargs)\u001b[0m\n\u001b[1;32m     44\u001b[0m             )\n\u001b[1;32m     45\u001b[0m         \u001b[0mkwargs\u001b[0m\u001b[0;34m.\u001b[0m\u001b[0mupdate\u001b[0m\u001b[0;34m(\u001b[0m\u001b[0;34m{\u001b[0m\u001b[0mk\u001b[0m\u001b[0;34m:\u001b[0m \u001b[0marg\u001b[0m \u001b[0;32mfor\u001b[0m \u001b[0mk\u001b[0m\u001b[0;34m,\u001b[0m \u001b[0marg\u001b[0m \u001b[0;32min\u001b[0m \u001b[0mzip\u001b[0m\u001b[0;34m(\u001b[0m\u001b[0msig\u001b[0m\u001b[0;34m.\u001b[0m\u001b[0mparameters\u001b[0m\u001b[0;34m,\u001b[0m \u001b[0margs\u001b[0m\u001b[0;34m)\u001b[0m\u001b[0;34m}\u001b[0m\u001b[0;34m)\u001b[0m\u001b[0;34m\u001b[0m\u001b[0;34m\u001b[0m\u001b[0m\n\u001b[0;32m---> 46\u001b[0;31m         \u001b[0;32mreturn\u001b[0m \u001b[0mf\u001b[0m\u001b[0;34m(\u001b[0m\u001b[0;34m**\u001b[0m\u001b[0mkwargs\u001b[0m\u001b[0;34m)\u001b[0m\u001b[0;34m\u001b[0m\u001b[0;34m\u001b[0m\u001b[0m\n\u001b[0m\u001b[1;32m     47\u001b[0m     \u001b[0;32mreturn\u001b[0m \u001b[0minner_f\u001b[0m\u001b[0;34m\u001b[0m\u001b[0;34m\u001b[0m\u001b[0m\n\u001b[1;32m     48\u001b[0m \u001b[0;34m\u001b[0m\u001b[0m\n",
            "\u001b[0;32m/usr/local/lib/python3.7/dist-packages/seaborn/categorical.py\u001b[0m in \u001b[0;36mviolinplot\u001b[0;34m(x, y, hue, data, order, hue_order, bw, cut, scale, scale_hue, gridsize, width, inner, split, dodge, orient, linewidth, color, palette, saturation, ax, **kwargs)\u001b[0m\n\u001b[1;32m   2398\u001b[0m                              \u001b[0mbw\u001b[0m\u001b[0;34m,\u001b[0m \u001b[0mcut\u001b[0m\u001b[0;34m,\u001b[0m \u001b[0mscale\u001b[0m\u001b[0;34m,\u001b[0m \u001b[0mscale_hue\u001b[0m\u001b[0;34m,\u001b[0m \u001b[0mgridsize\u001b[0m\u001b[0;34m,\u001b[0m\u001b[0;34m\u001b[0m\u001b[0;34m\u001b[0m\u001b[0m\n\u001b[1;32m   2399\u001b[0m                              \u001b[0mwidth\u001b[0m\u001b[0;34m,\u001b[0m \u001b[0minner\u001b[0m\u001b[0;34m,\u001b[0m \u001b[0msplit\u001b[0m\u001b[0;34m,\u001b[0m \u001b[0mdodge\u001b[0m\u001b[0;34m,\u001b[0m \u001b[0morient\u001b[0m\u001b[0;34m,\u001b[0m \u001b[0mlinewidth\u001b[0m\u001b[0;34m,\u001b[0m\u001b[0;34m\u001b[0m\u001b[0;34m\u001b[0m\u001b[0m\n\u001b[0;32m-> 2400\u001b[0;31m                              color, palette, saturation)\n\u001b[0m\u001b[1;32m   2401\u001b[0m \u001b[0;34m\u001b[0m\u001b[0m\n\u001b[1;32m   2402\u001b[0m     \u001b[0;32mif\u001b[0m \u001b[0max\u001b[0m \u001b[0;32mis\u001b[0m \u001b[0;32mNone\u001b[0m\u001b[0;34m:\u001b[0m\u001b[0;34m\u001b[0m\u001b[0;34m\u001b[0m\u001b[0m\n",
            "\u001b[0;32m/usr/local/lib/python3.7/dist-packages/seaborn/categorical.py\u001b[0m in \u001b[0;36m__init__\u001b[0;34m(self, x, y, hue, data, order, hue_order, bw, cut, scale, scale_hue, gridsize, width, inner, split, dodge, orient, linewidth, color, palette, saturation)\u001b[0m\n\u001b[1;32m    520\u001b[0m                  color, palette, saturation):\n\u001b[1;32m    521\u001b[0m \u001b[0;34m\u001b[0m\u001b[0m\n\u001b[0;32m--> 522\u001b[0;31m         \u001b[0mself\u001b[0m\u001b[0;34m.\u001b[0m\u001b[0mestablish_variables\u001b[0m\u001b[0;34m(\u001b[0m\u001b[0mx\u001b[0m\u001b[0;34m,\u001b[0m \u001b[0my\u001b[0m\u001b[0;34m,\u001b[0m \u001b[0mhue\u001b[0m\u001b[0;34m,\u001b[0m \u001b[0mdata\u001b[0m\u001b[0;34m,\u001b[0m \u001b[0morient\u001b[0m\u001b[0;34m,\u001b[0m \u001b[0morder\u001b[0m\u001b[0;34m,\u001b[0m \u001b[0mhue_order\u001b[0m\u001b[0;34m)\u001b[0m\u001b[0;34m\u001b[0m\u001b[0;34m\u001b[0m\u001b[0m\n\u001b[0m\u001b[1;32m    523\u001b[0m         \u001b[0mself\u001b[0m\u001b[0;34m.\u001b[0m\u001b[0mestablish_colors\u001b[0m\u001b[0;34m(\u001b[0m\u001b[0mcolor\u001b[0m\u001b[0;34m,\u001b[0m \u001b[0mpalette\u001b[0m\u001b[0;34m,\u001b[0m \u001b[0msaturation\u001b[0m\u001b[0;34m)\u001b[0m\u001b[0;34m\u001b[0m\u001b[0;34m\u001b[0m\u001b[0m\n\u001b[1;32m    524\u001b[0m         \u001b[0mself\u001b[0m\u001b[0;34m.\u001b[0m\u001b[0mestimate_densities\u001b[0m\u001b[0;34m(\u001b[0m\u001b[0mbw\u001b[0m\u001b[0;34m,\u001b[0m \u001b[0mcut\u001b[0m\u001b[0;34m,\u001b[0m \u001b[0mscale\u001b[0m\u001b[0;34m,\u001b[0m \u001b[0mscale_hue\u001b[0m\u001b[0;34m,\u001b[0m \u001b[0mgridsize\u001b[0m\u001b[0;34m)\u001b[0m\u001b[0;34m\u001b[0m\u001b[0;34m\u001b[0m\u001b[0m\n",
            "\u001b[0;32m/usr/local/lib/python3.7/dist-packages/seaborn/categorical.py\u001b[0m in \u001b[0;36mestablish_variables\u001b[0;34m(self, x, y, hue, data, orient, order, hue_order, units)\u001b[0m\n\u001b[1;32m    155\u001b[0m             \u001b[0;31m# Figure out the plotting orientation\u001b[0m\u001b[0;34m\u001b[0m\u001b[0;34m\u001b[0m\u001b[0;34m\u001b[0m\u001b[0m\n\u001b[1;32m    156\u001b[0m             orient = infer_orient(\n\u001b[0;32m--> 157\u001b[0;31m                 \u001b[0mx\u001b[0m\u001b[0;34m,\u001b[0m \u001b[0my\u001b[0m\u001b[0;34m,\u001b[0m \u001b[0morient\u001b[0m\u001b[0;34m,\u001b[0m \u001b[0mrequire_numeric\u001b[0m\u001b[0;34m=\u001b[0m\u001b[0mself\u001b[0m\u001b[0;34m.\u001b[0m\u001b[0mrequire_numeric\u001b[0m\u001b[0;34m\u001b[0m\u001b[0;34m\u001b[0m\u001b[0m\n\u001b[0m\u001b[1;32m    158\u001b[0m             )\n\u001b[1;32m    159\u001b[0m \u001b[0;34m\u001b[0m\u001b[0m\n",
            "\u001b[0;32m/usr/local/lib/python3.7/dist-packages/seaborn/_core.py\u001b[0m in \u001b[0;36minfer_orient\u001b[0;34m(x, y, orient, require_numeric)\u001b[0m\n\u001b[1;32m   1319\u001b[0m             \u001b[0mwarnings\u001b[0m\u001b[0;34m.\u001b[0m\u001b[0mwarn\u001b[0m\u001b[0;34m(\u001b[0m\u001b[0msingle_var_warning\u001b[0m\u001b[0;34m.\u001b[0m\u001b[0mformat\u001b[0m\u001b[0;34m(\u001b[0m\u001b[0;34m\"Vertical\"\u001b[0m\u001b[0;34m,\u001b[0m \u001b[0;34m\"x\"\u001b[0m\u001b[0;34m)\u001b[0m\u001b[0;34m)\u001b[0m\u001b[0;34m\u001b[0m\u001b[0;34m\u001b[0m\u001b[0m\n\u001b[1;32m   1320\u001b[0m         \u001b[0;32mif\u001b[0m \u001b[0mrequire_numeric\u001b[0m \u001b[0;32mand\u001b[0m \u001b[0mx_type\u001b[0m \u001b[0;34m!=\u001b[0m \u001b[0;34m\"numeric\"\u001b[0m\u001b[0;34m:\u001b[0m\u001b[0;34m\u001b[0m\u001b[0;34m\u001b[0m\u001b[0m\n\u001b[0;32m-> 1321\u001b[0;31m             \u001b[0;32mraise\u001b[0m \u001b[0mTypeError\u001b[0m\u001b[0;34m(\u001b[0m\u001b[0mnonnumeric_dv_error\u001b[0m\u001b[0;34m.\u001b[0m\u001b[0mformat\u001b[0m\u001b[0;34m(\u001b[0m\u001b[0;34m\"Horizontal\"\u001b[0m\u001b[0;34m,\u001b[0m \u001b[0;34m\"x\"\u001b[0m\u001b[0;34m)\u001b[0m\u001b[0;34m)\u001b[0m\u001b[0;34m\u001b[0m\u001b[0;34m\u001b[0m\u001b[0m\n\u001b[0m\u001b[1;32m   1322\u001b[0m         \u001b[0;32mreturn\u001b[0m \u001b[0;34m\"h\"\u001b[0m\u001b[0;34m\u001b[0m\u001b[0;34m\u001b[0m\u001b[0m\n\u001b[1;32m   1323\u001b[0m \u001b[0;34m\u001b[0m\u001b[0m\n",
            "\u001b[0;31mTypeError\u001b[0m: Horizontal orientation requires numeric `x` variable."
          ]
        },
        {
          "output_type": "display_data",
          "data": {
            "text/plain": [
              "<Figure size 720x432 with 0 Axes>"
            ]
          },
          "metadata": {
            "tags": []
          }
        }
      ]
    },
    {
      "cell_type": "code",
      "metadata": {
        "colab": {
          "base_uri": "https://localhost:8080/",
          "height": 224
        },
        "id": "q5gElE288-9L",
        "outputId": "55eb62a1-a987-41ce-d4d0-3dcbd206574a"
      },
      "source": [
        "train_fin2.head()"
      ],
      "execution_count": null,
      "outputs": [
        {
          "output_type": "execute_result",
          "data": {
            "text/html": [
              "<div>\n",
              "<style scoped>\n",
              "    .dataframe tbody tr th:only-of-type {\n",
              "        vertical-align: middle;\n",
              "    }\n",
              "\n",
              "    .dataframe tbody tr th {\n",
              "        vertical-align: top;\n",
              "    }\n",
              "\n",
              "    .dataframe thead th {\n",
              "        text-align: right;\n",
              "    }\n",
              "</style>\n",
              "<table border=\"1\" class=\"dataframe\">\n",
              "  <thead>\n",
              "    <tr style=\"text-align: right;\">\n",
              "      <th></th>\n",
              "      <th>InscClaimAmtReimbursed</th>\n",
              "      <th>DeductibleAmtPaid</th>\n",
              "      <th>Gender</th>\n",
              "      <th>Race</th>\n",
              "      <th>RenalDiseaseIndicator</th>\n",
              "      <th>ChronicCond_Alzheimer</th>\n",
              "      <th>ChronicCond_Heartfailure</th>\n",
              "      <th>ChronicCond_KidneyDisease</th>\n",
              "      <th>ChronicCond_Cancer</th>\n",
              "      <th>ChronicCond_ObstrPulmonary</th>\n",
              "      <th>ChronicCond_Depression</th>\n",
              "      <th>ChronicCond_Diabetes</th>\n",
              "      <th>ChronicCond_IschemicHeart</th>\n",
              "      <th>ChronicCond_Osteoporasis</th>\n",
              "      <th>ChronicCond_rheumatoidarthritis</th>\n",
              "      <th>ChronicCond_stroke</th>\n",
              "      <th>IPAnnualReimbursementAmt</th>\n",
              "      <th>IPAnnualDeductibleAmt</th>\n",
              "      <th>OPAnnualReimbursementAmt</th>\n",
              "      <th>OPAnnualDeductibleAmt</th>\n",
              "      <th>#_Procedures</th>\n",
              "      <th>#_DiagnosisCodes</th>\n",
              "      <th>HospitalWeeks</th>\n",
              "      <th>IllnessNature</th>\n",
              "      <th>ClaimWeeks</th>\n",
              "      <th>State_Yes</th>\n",
              "      <th>State_No</th>\n",
              "      <th>PotentialFraud</th>\n",
              "      <th>County_Yes</th>\n",
              "      <th>County_No</th>\n",
              "      <th>DGC_Yes</th>\n",
              "      <th>DGC_No</th>\n",
              "      <th>BID_Yes</th>\n",
              "      <th>BID_No</th>\n",
              "      <th>CID_Yes</th>\n",
              "      <th>CID_No</th>\n",
              "      <th>Pvr_Yes</th>\n",
              "      <th>Pvr_No</th>\n",
              "      <th>Ap_Yes</th>\n",
              "      <th>Ap_No</th>\n",
              "      <th>age</th>\n",
              "      <th>CADC_Yes</th>\n",
              "      <th>CADC_No</th>\n",
              "    </tr>\n",
              "  </thead>\n",
              "  <tbody>\n",
              "    <tr>\n",
              "      <th>0</th>\n",
              "      <td>90</td>\n",
              "      <td>0.0</td>\n",
              "      <td>G2</td>\n",
              "      <td>R1</td>\n",
              "      <td>0</td>\n",
              "      <td>1</td>\n",
              "      <td>1</td>\n",
              "      <td>0</td>\n",
              "      <td>1</td>\n",
              "      <td>1</td>\n",
              "      <td>0</td>\n",
              "      <td>0</td>\n",
              "      <td>0</td>\n",
              "      <td>0</td>\n",
              "      <td>1</td>\n",
              "      <td>1</td>\n",
              "      <td>5030</td>\n",
              "      <td>1068</td>\n",
              "      <td>1090</td>\n",
              "      <td>560</td>\n",
              "      <td>0.0</td>\n",
              "      <td>1.0</td>\n",
              "      <td>0.0</td>\n",
              "      <td>operating</td>\n",
              "      <td>0</td>\n",
              "      <td>0.452303</td>\n",
              "      <td>0.547697</td>\n",
              "      <td>Yes</td>\n",
              "      <td>0.450456</td>\n",
              "      <td>0.549544</td>\n",
              "      <td>0.457119</td>\n",
              "      <td>0.542881</td>\n",
              "      <td>0.333333</td>\n",
              "      <td>0.666667</td>\n",
              "      <td>0.909091</td>\n",
              "      <td>0.090909</td>\n",
              "      <td>0.472603</td>\n",
              "      <td>0.527397</td>\n",
              "      <td>0.259259</td>\n",
              "      <td>0.740741</td>\n",
              "      <td>71.550685</td>\n",
              "      <td>0.465483</td>\n",
              "      <td>0.534517</td>\n",
              "    </tr>\n",
              "    <tr>\n",
              "      <th>1</th>\n",
              "      <td>5000</td>\n",
              "      <td>1068.0</td>\n",
              "      <td>G1</td>\n",
              "      <td>R1</td>\n",
              "      <td>1</td>\n",
              "      <td>0</td>\n",
              "      <td>1</td>\n",
              "      <td>0</td>\n",
              "      <td>1</td>\n",
              "      <td>1</td>\n",
              "      <td>1</td>\n",
              "      <td>0</td>\n",
              "      <td>0</td>\n",
              "      <td>1</td>\n",
              "      <td>1</td>\n",
              "      <td>1</td>\n",
              "      <td>5000</td>\n",
              "      <td>1068</td>\n",
              "      <td>70</td>\n",
              "      <td>0</td>\n",
              "      <td>0.0</td>\n",
              "      <td>9.0</td>\n",
              "      <td>1.0</td>\n",
              "      <td>simple</td>\n",
              "      <td>1</td>\n",
              "      <td>0.454039</td>\n",
              "      <td>0.545961</td>\n",
              "      <td>NaN</td>\n",
              "      <td>0.412322</td>\n",
              "      <td>0.587678</td>\n",
              "      <td>0.571429</td>\n",
              "      <td>0.428571</td>\n",
              "      <td>0.500000</td>\n",
              "      <td>0.500000</td>\n",
              "      <td>0.500000</td>\n",
              "      <td>0.500000</td>\n",
              "      <td>0.397590</td>\n",
              "      <td>0.602410</td>\n",
              "      <td>0.090909</td>\n",
              "      <td>0.909091</td>\n",
              "      <td>73.383562</td>\n",
              "      <td>0.482759</td>\n",
              "      <td>0.517241</td>\n",
              "    </tr>\n",
              "    <tr>\n",
              "      <th>2</th>\n",
              "      <td>400</td>\n",
              "      <td>0.0</td>\n",
              "      <td>G1</td>\n",
              "      <td>R1</td>\n",
              "      <td>0</td>\n",
              "      <td>1</td>\n",
              "      <td>0</td>\n",
              "      <td>1</td>\n",
              "      <td>1</td>\n",
              "      <td>1</td>\n",
              "      <td>1</td>\n",
              "      <td>0</td>\n",
              "      <td>0</td>\n",
              "      <td>1</td>\n",
              "      <td>0</td>\n",
              "      <td>0</td>\n",
              "      <td>0</td>\n",
              "      <td>0</td>\n",
              "      <td>3870</td>\n",
              "      <td>540</td>\n",
              "      <td>0.0</td>\n",
              "      <td>3.0</td>\n",
              "      <td>0.0</td>\n",
              "      <td>simple</td>\n",
              "      <td>3</td>\n",
              "      <td>0.453210</td>\n",
              "      <td>0.546790</td>\n",
              "      <td>Yes</td>\n",
              "      <td>0.450461</td>\n",
              "      <td>0.549539</td>\n",
              "      <td>0.457119</td>\n",
              "      <td>0.542881</td>\n",
              "      <td>0.272727</td>\n",
              "      <td>0.727273</td>\n",
              "      <td>0.909091</td>\n",
              "      <td>0.090909</td>\n",
              "      <td>0.462111</td>\n",
              "      <td>0.537889</td>\n",
              "      <td>0.318182</td>\n",
              "      <td>0.681818</td>\n",
              "      <td>79.054795</td>\n",
              "      <td>0.456727</td>\n",
              "      <td>0.543273</td>\n",
              "    </tr>\n",
              "    <tr>\n",
              "      <th>3</th>\n",
              "      <td>30</td>\n",
              "      <td>0.0</td>\n",
              "      <td>G2</td>\n",
              "      <td>R2</td>\n",
              "      <td>0</td>\n",
              "      <td>1</td>\n",
              "      <td>1</td>\n",
              "      <td>0</td>\n",
              "      <td>1</td>\n",
              "      <td>1</td>\n",
              "      <td>0</td>\n",
              "      <td>1</td>\n",
              "      <td>1</td>\n",
              "      <td>0</td>\n",
              "      <td>1</td>\n",
              "      <td>1</td>\n",
              "      <td>3000</td>\n",
              "      <td>1068</td>\n",
              "      <td>1680</td>\n",
              "      <td>140</td>\n",
              "      <td>0.0</td>\n",
              "      <td>5.0</td>\n",
              "      <td>0.0</td>\n",
              "      <td>operating</td>\n",
              "      <td>0</td>\n",
              "      <td>0.452382</td>\n",
              "      <td>0.547618</td>\n",
              "      <td>Yes</td>\n",
              "      <td>0.440764</td>\n",
              "      <td>0.559236</td>\n",
              "      <td>0.457119</td>\n",
              "      <td>0.542881</td>\n",
              "      <td>0.571429</td>\n",
              "      <td>0.428571</td>\n",
              "      <td>0.909091</td>\n",
              "      <td>0.090909</td>\n",
              "      <td>0.428762</td>\n",
              "      <td>0.571238</td>\n",
              "      <td>0.518519</td>\n",
              "      <td>0.481481</td>\n",
              "      <td>53.284932</td>\n",
              "      <td>0.456727</td>\n",
              "      <td>0.543273</td>\n",
              "    </tr>\n",
              "    <tr>\n",
              "      <th>4</th>\n",
              "      <td>2000</td>\n",
              "      <td>1068.0</td>\n",
              "      <td>G2</td>\n",
              "      <td>R1</td>\n",
              "      <td>0</td>\n",
              "      <td>0</td>\n",
              "      <td>0</td>\n",
              "      <td>1</td>\n",
              "      <td>1</td>\n",
              "      <td>1</td>\n",
              "      <td>1</td>\n",
              "      <td>1</td>\n",
              "      <td>0</td>\n",
              "      <td>1</td>\n",
              "      <td>1</td>\n",
              "      <td>1</td>\n",
              "      <td>2000</td>\n",
              "      <td>1068</td>\n",
              "      <td>1160</td>\n",
              "      <td>650</td>\n",
              "      <td>1.0</td>\n",
              "      <td>9.0</td>\n",
              "      <td>1.0</td>\n",
              "      <td>comorbid</td>\n",
              "      <td>1</td>\n",
              "      <td>0.454316</td>\n",
              "      <td>0.545684</td>\n",
              "      <td>Yes</td>\n",
              "      <td>0.455049</td>\n",
              "      <td>0.544951</td>\n",
              "      <td>0.437500</td>\n",
              "      <td>0.562500</td>\n",
              "      <td>0.400000</td>\n",
              "      <td>0.600000</td>\n",
              "      <td>0.909091</td>\n",
              "      <td>0.090909</td>\n",
              "      <td>0.453608</td>\n",
              "      <td>0.546392</td>\n",
              "      <td>0.447368</td>\n",
              "      <td>0.552632</td>\n",
              "      <td>82.224658</td>\n",
              "      <td>0.372093</td>\n",
              "      <td>0.627907</td>\n",
              "    </tr>\n",
              "  </tbody>\n",
              "</table>\n",
              "</div>"
            ],
            "text/plain": [
              "   InscClaimAmtReimbursed  DeductibleAmtPaid  ...  CADC_Yes   CADC_No\n",
              "0                      90                0.0  ...  0.465483  0.534517\n",
              "1                    5000             1068.0  ...  0.482759  0.517241\n",
              "2                     400                0.0  ...  0.456727  0.543273\n",
              "3                      30                0.0  ...  0.456727  0.543273\n",
              "4                    2000             1068.0  ...  0.372093  0.627907\n",
              "\n",
              "[5 rows x 43 columns]"
            ]
          },
          "metadata": {
            "tags": []
          },
          "execution_count": 295
        }
      ]
    },
    {
      "cell_type": "markdown",
      "metadata": {
        "id": "TcR9U0CsMf9i"
      },
      "source": [
        "##<font color='red'><b>**Feature Engineering**</b></font>\n",
        "\n",
        "#### Extracting the number of days from the claim start date and the claim end dates by taking a difference\n",
        "\n",
        "#### Converting the number of days during which the claim was in process into number of weeks"
      ]
    },
    {
      "cell_type": "code",
      "metadata": {
        "id": "x__fc6Qoq8rN"
      },
      "source": [
        "train_fin1[\"ClaimDays\"]= (pd.to_datetime(train_fin1['ClaimEndDt']) - pd.to_datetime(train_fin1['ClaimStartDt'])).dt.days\n",
        "cv_fin1[\"ClaimDays\"]= (pd.to_datetime(cv_fin1['ClaimEndDt']) - pd.to_datetime(cv_fin1['ClaimStartDt'])).dt.days"
      ],
      "execution_count": null,
      "outputs": []
    },
    {
      "cell_type": "code",
      "metadata": {
        "id": "NIBwkX-NtXuC"
      },
      "source": [
        "train_fin1.drop(['ClaimEndDt','ClaimStartDt'],axis=1, inplace=True)\n",
        "cv_fin1.drop(['ClaimEndDt','ClaimStartDt'],axis=1, inplace=True)"
      ],
      "execution_count": null,
      "outputs": []
    },
    {
      "cell_type": "code",
      "metadata": {
        "colab": {
          "base_uri": "https://localhost:8080/",
          "height": 611
        },
        "id": "-wRKkHueMpff",
        "outputId": "123537ac-b902-4cc4-a741-bba4079f65ba"
      },
      "source": [
        "fig=plt.figure(figsize=(16,10))\n",
        "gs= GridSpec(2,2,figure=fig)\n",
        "\n",
        "ax1= fig.add_subplot(gs[0,0])\n",
        "ax2= fig.add_subplot(gs[0,1])\n",
        "ax3= fig.add_subplot(gs[1,0])\n",
        "ax4= fig.add_subplot(gs[1,1])\n",
        "\n",
        "sns.barplot(ax=ax1, x= np.unique(train_fin1[\"ClaimDays\"]),y= np.round((train_fin1[\"ClaimDays\"].value_counts()/len(train_fin1[\"ClaimDays\"]))*100,2),palette='crest')\n",
        "sns.barplot(ax=ax2, x= np.unique(cv_fin1[\"ClaimDays\"]),y= np.round((cv_fin1[\"ClaimDays\"].value_counts()/len(cv_fin1[\"ClaimDays\"]))*100,2),palette='crest')\n",
        "sns.boxplot(ax=ax3, y= train_fin1[\"ClaimDays\"],palette='crest')\n",
        "sns.boxplot(ax=ax4, y= cv_fin1[\"ClaimDays\"],palette='crest')\n",
        "\n",
        "ax1.set_xlabel(\"ClaimDays\")\n",
        "ax2.set_xlabel(\"ClaimDays\")\n",
        "ax3.set_xlabel(\"ClaimDays\")\n",
        "ax4.set_xlabel(\"ClaimDays\")\n",
        "\n",
        "ax1.set_ylabel(\"Percentage of the Observations\")\n",
        "ax2.set_ylabel(\"Percentage of the Observations\")\n",
        "ax3.set_ylabel(\"Number of ClaimDays\")\n",
        "ax4.set_ylabel(\"Number of ClaimDays\")\n",
        "\n",
        "ax1.set_title(\"Distribution of the IllnessNature variable in Train Dataset\")\n",
        "ax2.set_title(\"Distribution of the IllnessNature variable in Train Dataset\")\n",
        "ax3.set_title(\"Distribution of the IllnessNature variable in Train Dataset\")\n",
        "ax4.set_title(\"Distribution of the IllnessNature variable in Train Dataset\")\n",
        "\n",
        "plt.subplots_adjust(wspace=0.45)\n",
        "plt.subplots_adjust(hspace=0.35)\n",
        "plt.show()"
      ],
      "execution_count": null,
      "outputs": [
        {
          "output_type": "display_data",
          "data": {
            "image/png": "[encoded data removed]",
            "text/plain": [
              "<Figure size 1152x720 with 4 Axes>"
            ]
          },
          "metadata": {
            "tags": [],
            "needs_background": "light"
          }
        }
      ]
    },
    {
      "cell_type": "markdown",
      "metadata": {
        "id": "-8GZ2hEY438a"
      },
      "source": [
        "##<font color='green'><b>**Observations**</b></font>\n",
        "#### 1. We see that more than 80% of the claim days are zero and close to 95% of the claim days are less than 7 days. \n",
        "\n",
        "#### 2. Keeping the varibale datatype as floating point value will skew the mean and other distribution related parameters\n",
        "\n",
        "#### 3. Converting the varibale into a Categorical Variable(Ordinal)"
      ]
    },
    {
      "cell_type": "code",
      "metadata": {
        "colab": {
          "base_uri": "https://localhost:8080/"
        },
        "id": "O33oqwBj66o6",
        "outputId": "efd6dc3b-964b-4fc4-da44-2ee13df99c46"
      },
      "source": [
        "for i in tqdm(range(len(train_fin1['ClaimDays']))):\n",
        "    if train_fin1['ClaimDays'][i]==0:\n",
        "        train_fin1['ClaimDays'][i]=0 \n",
        "    elif train_fin1['ClaimDays'][i]>0 and train_fin1['ClaimDays'][i]<=7:\n",
        "        train_fin1['ClaimDays'][i]= 1\n",
        "    elif train_fin1['ClaimDays'][i]>7 and train_fin1['ClaimDays'][i]<=14:\n",
        "        train_fin1['ClaimDays'][i]= 2\n",
        "    elif train_fin1['ClaimDays'][i]> 14 and train_fin1['ClaimDays'][i]<=21:\n",
        "        train_fin1['ClaimDays'][i]= 3\n",
        "    elif train_fin1['ClaimDays'][i]>21 and train_fin1['ClaimDays'][i]<=28:\n",
        "        train_fin1['ClaimDays'][i]= 4\n",
        "    elif train_fin1['ClaimDays'][i]>28 and train_fin1['ClaimDays'][i]<=35:\n",
        "        train_fin1['ClaimDays'][i]=5\n",
        "    elif train_fin1['ClaimDays'][i]>35:\n",
        "        train_fin1['ClaimDays'][i]=6"
      ],
      "execution_count": null,
      "outputs": [
        {
          "output_type": "stream",
          "text": [
            "100%|██████████| 446568/446568 [00:41<00:00, 10887.56it/s]\n"
          ],
          "name": "stderr"
        }
      ]
    },
    {
      "cell_type": "code",
      "metadata": {
        "colab": {
          "base_uri": "https://localhost:8080/"
        },
        "id": "IhZwpk8DO8Ye",
        "outputId": "5b955aa4-b09d-48c7-8f6f-9288c0867ff2"
      },
      "source": [
        "for i in tqdm(range(len(cv_fin1['ClaimDays']))):\n",
        "    if cv_fin1['ClaimDays'][i]==0:\n",
        "        cv_fin1['ClaimDays'][i]=0 \n",
        "    elif cv_fin1['ClaimDays'][i]>0 and cv_fin1['ClaimDays'][i]<=7:\n",
        "        cv_fin1['ClaimDays'][i]= 1\n",
        "    elif cv_fin1['ClaimDays'][i]>7 and cv_fin1['ClaimDays'][i]<=14:\n",
        "        cv_fin1['ClaimDays'][i]= 2\n",
        "    elif cv_fin1['ClaimDays'][i]> 14 and cv_fin1['ClaimDays'][i]<=21:\n",
        "        cv_fin1['ClaimDays'][i]= 3\n",
        "    elif cv_fin1['ClaimDays'][i]>21 and cv_fin1['ClaimDays'][i]<=28:\n",
        "        cv_fin1['ClaimDays'][i]= 4\n",
        "    elif cv_fin1['ClaimDays'][i]>28 and cv_fin1['ClaimDays'][i]<=35:\n",
        "        cv_fin1['ClaimDays'][i]=5\n",
        "    elif cv_fin1['ClaimDays'][i]>35:\n",
        "        cv_fin1['ClaimDays'][i]=6"
      ],
      "execution_count": null,
      "outputs": [
        {
          "output_type": "stream",
          "text": [
            "100%|██████████| 111643/111643 [00:10<00:00, 10793.91it/s]\n"
          ],
          "name": "stderr"
        }
      ]
    },
    {
      "cell_type": "code",
      "metadata": {
        "id": "oLrsf0qVRAtH"
      },
      "source": [
        "train_fin1= train_fin1.rename(columns={'ClaimDays':'ClaimWeeks'})\n",
        "cv_fin1= cv_fin1.rename(columns={'ClaimDays':'ClaimWeeks'})"
      ],
      "execution_count": null,
      "outputs": []
    },
    {
      "cell_type": "code",
      "metadata": {
        "colab": {
          "base_uri": "https://localhost:8080/",
          "height": 404
        },
        "id": "0Mh7iVEhPYsO",
        "outputId": "d4abf45c-2bee-4d41-d0df-3b03d0a9c5e8"
      },
      "source": [
        "fig=plt.figure(figsize=(12,6))\n",
        "gs= GridSpec(1,2,figure=fig)\n",
        "\n",
        "ax1= fig.add_subplot(gs[0,0])\n",
        "ax2= fig.add_subplot(gs[0,1])\n",
        "\n",
        "sns.barplot(ax=ax1, x= np.unique(train_fin1[\"ClaimWeeks\"]),y= np.round((train_fin1[\"ClaimWeeks\"].value_counts()/len(train_fin1[\"ClaimWeeks\"]))*100,2),palette='crest')\n",
        "sns.barplot(ax=ax2, x= np.unique(cv_fin1[\"ClaimWeeks\"]),y= np.round((cv_fin1[\"ClaimWeeks\"].value_counts()/len(cv_fin1[\"ClaimWeeks\"]))*100,2),palette='crest')\n",
        "\n",
        "ax1.set_xlabel(\"ClaimWeeks\")\n",
        "ax2.set_xlabel(\"ClaimWeeks\")\n",
        "\n",
        "ax1.set_ylabel(\"Percentage of the Observations\")\n",
        "ax2.set_ylabel(\"Percentage of the Observations\")\n",
        "\n",
        "ax1.set_title(\"Distribution of the ClaimWeeks variable in Train Dataset\")\n",
        "ax2.set_title(\"Distribution of the ClaimWeeks variable in Train Dataset\")\n",
        "\n",
        "plt.subplots_adjust(wspace=0.75)\n",
        "plt.show()"
      ],
      "execution_count": null,
      "outputs": [
        {
          "output_type": "display_data",
          "data": {
            "image/png": "[encoded data removed]",
            "text/plain": [
              "<Figure size 864x432 with 2 Axes>"
            ]
          },
          "metadata": {
            "tags": [],
            "needs_background": "light"
          }
        }
      ]
    },
    {
      "cell_type": "code",
      "metadata": {
        "id": "DeUz9NExPqHy"
      },
      "source": [
        "with open('/content/drive/MyDrive/Colab Notebooks/train_fin_n2.pkl','wb') as tr_df:\n",
        "    pickle.dump(train_fin1,tr_df)\n",
        "with open('/content/drive/MyDrive/Colab Notebooks/cv_fin_n2.pkl','wb') as cv_df:\n",
        "    pickle.dump(cv_fin1,cv_df)"
      ],
      "execution_count": null,
      "outputs": []
    },
    {
      "cell_type": "code",
      "metadata": {
        "id": "ctsJlkSkPsOP"
      },
      "source": [
        "with open('/content/drive/MyDrive/Colab Notebooks/train_fin_n2.pkl','rb') as tr_df:\n",
        "    train_fin2= pickle.load(tr_df)\n",
        "with open('/content/drive/MyDrive/Colab Notebooks/cv_fin_n2.pkl','rb') as cv_df:\n",
        "    cv_fin2= pickle.load(cv_df)"
      ],
      "execution_count": null,
      "outputs": []
    },
    {
      "cell_type": "markdown",
      "metadata": {
        "id": "llWymr1SJt7m"
      },
      "source": [
        "###<font color='blue'><b> Looking at the NA value distribtution of the DiagnosisGroupCode variable</b></font>"
      ]
    },
    {
      "cell_type": "code",
      "metadata": {
        "colab": {
          "base_uri": "https://localhost:8080/"
        },
        "id": "UP-6kv-THiJ7",
        "outputId": "a7e0ed7a-7ee6-4109-fa07-b44c2134839f"
      },
      "source": [
        "print(\"Percentage of NA values in Inpateint Data: \",(train_inpat['DiagnosisGroupCode'].isna().sum()/len(train_inpat['DiagnosisGroupCode']))*100)\n",
        "print(\"Percentage of NA values in Merged Data: \",np.round((train_fin2['DiagnosisGroupCode'].isna().sum()/len(train_fin2['DiagnosisGroupCode']))*100))\n",
        "print(\"Ratio of Outpatient data to Merged Dataset\",np.round((train_outpat.shape[0]/(train_fin2.shape[0]+cv_fin2.shape[0]))*100))"
      ],
      "execution_count": null,
      "outputs": [
        {
          "output_type": "stream",
          "text": [
            "Percentage of NA values in Inpateint Data:  0.0\n",
            "Percentage of NA values in Merged Data:  93.0\n",
            "Ratio of Outpatient data to Merged Dataset 93.0\n"
          ],
          "name": "stdout"
        }
      ]
    },
    {
      "cell_type": "markdown",
      "metadata": {
        "id": "c6LmbdXLKXp1"
      },
      "source": [
        "##<font color='green'><b>**Observations**</b>,</font>\n",
        "\n",
        "#### 1. From the above we see that there are no NA values in the Inpatient data and the variable \"DiagnosisGroupCode\" is missing in the Outpatient Dataset.\n",
        "\n",
        "#### 2. https://hmsa.com/portal/provider/zav_pel.fh.DIA.650.htm: clearly states that a DiagnosisGroupCode is just for the Inpatient Data and not for the outpatient data. Hence NA were introduced during the merger of the Dataset\n",
        "\n",
        "#### 3 Hence filling the NA as new category with a value of 0"
      ]
    },
    {
      "cell_type": "code",
      "metadata": {
        "id": "w1Ia2XJiRDER"
      },
      "source": [
        "train_fin2['DiagnosisGroupCode']= train_fin2['DiagnosisGroupCode'].fillna(0)\n",
        "cv_fin2['DiagnosisGroupCode']= cv_fin2['DiagnosisGroupCode'].fillna(0)"
      ],
      "execution_count": null,
      "outputs": []
    },
    {
      "cell_type": "code",
      "metadata": {
        "colab": {
          "base_uri": "https://localhost:8080/"
        },
        "id": "gmqq-_D_uF9U",
        "outputId": "3fbf915a-6dd8-4be1-e6e6-4e59546b194a"
      },
      "source": [
        "train_fin2['DiagnosisGroupCode']= train_fin2['DiagnosisGroupCode'].astype('str')\n",
        "train_fin2['DiagnosisGroupCode']= train_fin2['DiagnosisGroupCode'].astype('str')\n",
        "\n",
        "train_fin2['DiagnosisGroupCode'].describe()\n",
        "#sns.distplot(train_fin3['DiagnosisGroupCode'].value_counts())"
      ],
      "execution_count": null,
      "outputs": [
        {
          "output_type": "execute_result",
          "data": {
            "text/plain": [
              "count     558211\n",
              "unique       737\n",
              "top            0\n",
              "freq      517737\n",
              "Name: DiagnosisGroupCode, dtype: object"
            ]
          },
          "metadata": {
            "tags": []
          },
          "execution_count": 192
        }
      ]
    },
    {
      "cell_type": "code",
      "metadata": {
        "colab": {
          "base_uri": "https://localhost:8080/"
        },
        "id": "Y7CCxDXjXIzi",
        "outputId": "8de1fd26-0b21-4f24-f068-62c6120f575a"
      },
      "source": [
        "print(\"Percentage of NA values in Inpateint Data: \",(train_inpat['ClmAdmitDiagnosisCode'].isna().sum()/len(train_inpat['ClmAdmitDiagnosisCode']))*100)\n",
        "print(\"Percentage of NA values in Outpateint Data: \",np.round((train_outpat['ClmAdmitDiagnosisCode'].isna().sum()/len(train_outpat['ClmAdmitDiagnosisCode']))*100))"
      ],
      "execution_count": null,
      "outputs": [
        {
          "output_type": "stream",
          "text": [
            "Percentage of NA values in Inpateint Data:  0.0\n",
            "Percentage of NA values in Outpateint Data:  80.0\n"
          ],
          "name": "stdout"
        }
      ]
    },
    {
      "cell_type": "code",
      "metadata": {
        "id": "IdvgotgZEpFM"
      },
      "source": [
        ""
      ],
      "execution_count": null,
      "outputs": []
    },
    {
      "cell_type": "markdown",
      "metadata": {
        "id": "khqo6czh2boC"
      },
      "source": [
        "##<font color='red'><b>Feature Engineering</b></font>\n",
        "#### Response Coding of the DiagnosisGroupCode, State,County, BeneID,ClaimID,Provider,AttendingPhysician"
      ]
    },
    {
      "cell_type": "code",
      "metadata": {
        "id": "_XsTb7TRUiSE"
      },
      "source": [
        "train_fin2['PotentialFraud']= train_y\n",
        "cv_fin2['PotentialFraud']= cv_y"
      ],
      "execution_count": null,
      "outputs": []
    },
    {
      "cell_type": "code",
      "metadata": {
        "id": "6en8REmgRZCD"
      },
      "source": [
        "def response_coding(tr_data,cv_data,col,y):\n",
        "    tr_yes_list=[]\n",
        "    tr_no_list=[]\n",
        "    cv_yes_list=[]\n",
        "    cv_no_list=[]\n",
        "    \n",
        "    val_dict= dict(tr_data.groupby([col])[y].value_counts())\n",
        "    \n",
        "    for i in range(len(tr_data[col])):\n",
        "        t_y= val_dict.get((tr_data[col][i],'Yes'),0.1)\n",
        "        t_n= val_dict.get((tr_data[col][i],'No'),0.1)\n",
        "        tr_yes_list.append(t_y/(t_y+t_n))\n",
        "        tr_no_list.append(t_n/(t_y+t_n))\n",
        "\n",
        "    for j in range(len(cv_data[col])):\n",
        "        c_y= val_dict.get((cv_data[col][j],'Yes'),0.1)\n",
        "        c_n= val_dict.get((cv_data[col][j],'No'),0.1)\n",
        "        cv_yes_list.append(c_y/(c_y+c_n))\n",
        "        cv_no_list.append(c_n/(c_y+c_n))  \n",
        "    \n",
        "    return tr_yes_list,tr_no_list,cv_yes_list,cv_no_list,val_dict"
      ],
      "execution_count": null,
      "outputs": []
    },
    {
      "cell_type": "code",
      "metadata": {
        "id": "DZnHQ9bV8uc2"
      },
      "source": [
        "train_fin2['State_Yes']= np.zeros(len(train_fin2['State']))\n",
        "train_fin2['State_No']= np.zeros(len(train_fin2['State']))\n",
        "\n",
        "cv_fin2['State_Yes']= np.zeros(len(cv_fin2['State']))\n",
        "cv_fin2['State_No']= np.zeros(len(cv_fin2['State']))\n",
        "\n",
        "train_fin2['State_Yes'],train_fin2['State_No'],cv_fin2['State_Yes'],cv_fin2['State_No'],state_dict= response_coding(train_fin2,cv_fin2,'State','PotentialFraud')\n",
        "print(state_dict)"
      ],
      "execution_count": null,
      "outputs": []
    },
    {
      "cell_type": "code",
      "metadata": {
        "id": "8LYb09MpcIqs"
      },
      "source": [
        "train_fin2['County_Yes']= np.zeros(len(train_fin2['County']))\n",
        "train_fin2['County_No']= np.zeros(len(train_fin2['County']))\n",
        "\n",
        "cv_fin2['County_Yes']= np.zeros(len(cv_fin2['County']))\n",
        "cv_fin2['County_No']= np.zeros(len(cv_fin2['County']))\n",
        "\n",
        "train_fin2['County_Yes'],train_fin2['County_No'],cv_fin2['County_Yes'],cv_fin2['County_No'],county_dict= response_coding(train_fin2,cv_fin2,'County','PotentialFraud')\n",
        "print(county_dict)"
      ],
      "execution_count": null,
      "outputs": []
    },
    {
      "cell_type": "code",
      "metadata": {
        "id": "L7aEixaqNbCQ"
      },
      "source": [
        "train_fin2['DGC_Yes']= np.zeros(len(train_fin2['DiagnosisGroupCode']))\n",
        "train_fin2['DGC_No']= np.zeros(len(train_fin2['DiagnosisGroupCode']))\n",
        "\n",
        "cv_fin2['DGC_Yes']= np.zeros(len(cv_fin2['DiagnosisGroupCode']))\n",
        "cv_fin2['DGC_No']= np.zeros(len(cv_fin2['DiagnosisGroupCode']))\n",
        "\n",
        "train_fin2['DGC_Yes'],train_fin2['DGC_No'],cv_fin2['DGC_Yes'],cv_fin2['DGC_No'],dgc_dict= response_coding(train_fin2,cv_fin2,'DiagnosisGroupCode','PotentialFraud')\n",
        "print(dgc_dict)"
      ],
      "execution_count": null,
      "outputs": []
    },
    {
      "cell_type": "code",
      "metadata": {
        "id": "p7ns9Hd8Ns0-"
      },
      "source": [
        "train_fin2['BID_Yes']= np.zeros(len(train_fin2['BeneID']))\n",
        "train_fin2['BID_No']= np.zeros(len(train_fin2['BeneID']))\n",
        "\n",
        "train_fin2['BID_Yes']= np.zeros(len(train_fin2['BeneID']))\n",
        "train_fin2['BID_No']= np.zeros(len(train_fin2['BeneID']))\n",
        "\n",
        "train_fin2['BID_Yes'],train_fin2['BID_No'],cv_fin2['BID_Yes'],cv_fin2['BID_No'],bid_dict= response_coding(train_fin2,cv_fin2,'BeneID','PotentialFraud')"
      ],
      "execution_count": null,
      "outputs": []
    },
    {
      "cell_type": "code",
      "metadata": {
        "id": "IdQG1dtoO8Wo"
      },
      "source": [
        "train_fin2['CID_Yes']= np.zeros(len(train_fin2['ClaimID']))\n",
        "train_fin2['CID_No']= np.zeros(len(train_fin2['ClaimID']))\n",
        "\n",
        "cv_fin2['CID_Yes']= np.zeros(len(cv_fin2['ClaimID']))\n",
        "cv_fin2['CID_No']= np.zeros(len(cv_fin2['ClaimID']))\n",
        "\n",
        "train_fin2['CID_Yes'],train_fin2['CID_No'],cv_fin2['CID_Yes'],cv_fin2['CID_No'],cid_dict= response_coding(train_fin2,cv_fin2,'ClaimID','PotentialFraud')"
      ],
      "execution_count": null,
      "outputs": []
    },
    {
      "cell_type": "code",
      "metadata": {
        "id": "NfEwQUUGPPb2"
      },
      "source": [
        "train_fin2['Pvr_Yes']= np.zeros(len(train_fin2['Provider']))\n",
        "train_fin2['Pvr_No']= np.zeros(len(train_fin2['Provider']))\n",
        "\n",
        "cv_fin2['Pvr_Yes']= np.zeros(len(cv_fin2['Provider']))\n",
        "cv_fin2['Pvr_No']= np.zeros(len(cv_fin2['Provider']))\n",
        "\n",
        "train_fin2['Pvr_Yes'],train_fin2['Pvr_No'],cv_fin2['Pvr_Yes'],cv_fin2['Pvr_No'],pvr_dict= response_coding(train_fin2,cv_fin2,'Provider','PotentialFraud')"
      ],
      "execution_count": null,
      "outputs": []
    },
    {
      "cell_type": "code",
      "metadata": {
        "id": "h1Vst9-DP5da"
      },
      "source": [
        "train_fin2['Ap_Yes']= np.zeros(len(train_fin2['AttendingPhysician']))\n",
        "train_fin2['Ap_No']= np.zeros(len(train_fin2['AttendingPhysician']))\n",
        "\n",
        "cv_fin2['Ap_Yes']= np.zeros(len(cv_fin2['AttendingPhysician']))\n",
        "cv_fin2['Ap_No']= np.zeros(len(cv_fin2['AttendingPhysician']))\n",
        "\n",
        "\n",
        "train_fin2['Ap_Yes'],train_fin2['Ap_No'],cv_fin2['Ap_Yes'],cv_fin2['Ap_No'],ap_dict= response_coding(train_fin2,cv_fin2,'AttendingPhysician','PotentialFraud')"
      ],
      "execution_count": null,
      "outputs": []
    },
    {
      "cell_type": "code",
      "metadata": {
        "id": "ak4wUfOOTSGz"
      },
      "source": [
        "train_fin2.drop(['State','County','DiagnosisGroupCode','BeneID','ClaimID','Provider','AttendingPhysician'], axis=1, inplace=True)\n",
        "cv_fin2.drop(['State','County','DiagnosisGroupCode','BeneID','ClaimID','Provider','AttendingPhysician'], axis=1, inplace=True)"
      ],
      "execution_count": null,
      "outputs": []
    },
    {
      "cell_type": "code",
      "metadata": {
        "id": "1TAZ7SpcTR9O"
      },
      "source": [
        "with open('/content/drive/MyDrive/Colab Notebooks/train_fin_n3.pkl','wb') as tr_df:\n",
        "    pickle.dump(train_fin2,tr_df)\n",
        "with open('/content/drive/MyDrive/Colab Notebooks/cv_fin_n3.pkl','wb') as cv_df:\n",
        "    pickle.dump(cv_fin2,cv_df)"
      ],
      "execution_count": null,
      "outputs": []
    },
    {
      "cell_type": "code",
      "metadata": {
        "id": "0oo9LDH0D8Ht",
        "colab": {
          "base_uri": "https://localhost:8080/",
          "height": 621
        },
        "outputId": "a1906a26-f863-4889-bc70-ba8928906c46"
      },
      "source": [
        "fig= plt.figure(figsize=(14,10))\n",
        "gs= GridSpec(2,2,figure= fig)\n",
        "\n",
        "ax1= fig.add_subplot(gs[0,0])\n",
        "ax2= fig.add_subplot(gs[0,1])\n",
        "ax3= fig.add_subplot(gs[1,0])\n",
        "ax4= fig.add_subplot(gs[1,1])\n",
        "\n",
        "sns.barplot(ax=ax1,x= np.unique(train_fin2['NoOfMonths_PartACov']),y=train_fin2['NoOfMonths_PartACov'].value_counts()/len(train_fin2['NoOfMonths_PartACov']),palette='crest')\n",
        "sns.barplot(ax=ax2,x= np.unique(cv_fin2['NoOfMonths_PartACov']),y=cv_fin2['NoOfMonths_PartACov'].value_counts()/len(cv_fin2['NoOfMonths_PartACov']),palette='crest')\n",
        "sns.barplot(ax=ax3,x= np.unique(train_fin2['NoOfMonths_PartBCov']),y=train_fin2['NoOfMonths_PartBCov'].value_counts()/len(train_fin2['NoOfMonths_PartBCov']),palette='crest')\n",
        "sns.barplot(ax=ax4,x= np.unique(cv_fin2['NoOfMonths_PartBCov']),y=cv_fin2['NoOfMonths_PartBCov'].value_counts()/len(cv_fin2['NoOfMonths_PartBCov']),palette='crest')\n",
        "\n",
        "ax1.set_xlabel('Categories in the Variable')\n",
        "ax2.set_xlabel('Categories in the Variable')\n",
        "ax3.set_xlabel('Categories in the Variable')\n",
        "ax4.set_xlabel('Categories in the Variable')\n",
        "\n",
        "ax1.set_ylabel('Percentage of the Observations')\n",
        "ax2.set_ylabel('Percentage of the Observations')\n",
        "ax3.set_ylabel('Percentage of the Observations')\n",
        "ax4.set_ylabel('Percentage of the Observations')\n",
        "\n",
        "ax1.set_title('% of obs in each category of NoOfMonths_PartACov in Train Data')\n",
        "ax2.set_title('% of obs in each category of NoOfMonths_PartACov in CV Data')\n",
        "ax3.set_title('% of obs in each category of NoOfMonths_PartBCov in Train Data')\n",
        "ax4.set_title('% of obs in each category of NoOfMonths_PartBCov in CV Data')\n",
        "\n",
        "plt.subplots_adjust(wspace=0.45)\n",
        "plt.subplots_adjust(hspace=0.35)\n",
        "\n",
        "plt.show()"
      ],
      "execution_count": null,
      "outputs": [
        {
          "output_type": "display_data",
          "data": {
            "image/png": "[encoded data removed]",
            "text/plain": [
              "<Figure size 1008x720 with 4 Axes>"
            ]
          },
          "metadata": {
            "tags": [],
            "needs_background": "light"
          }
        }
      ]
    },
    {
      "cell_type": "code",
      "metadata": {
        "id": "OpPbwAjcRVjQ"
      },
      "source": [
        "train_fin2.drop(['NoOfMonths_PartACov','NoOfMonths_PartBCov'],axis=1, inplace= True)\n",
        "cv_fin2.drop(['NoOfMonths_PartACov','NoOfMonths_PartBCov'],axis=1, inplace= True)"
      ],
      "execution_count": null,
      "outputs": []
    },
    {
      "cell_type": "code",
      "metadata": {
        "id": "R8zlJXmRWE31"
      },
      "source": [
        "train_fin2['DOB']= pd.to_datetime(train_fin2['DOB'])\n",
        "train_fin2['DOD']= pd.to_datetime(train_fin2['DOD'])\n",
        "\n",
        "cv_fin2['DOB']= pd.to_datetime(cv_fin2['DOB'])\n",
        "cv_fin2['DOD']= pd.to_datetime(cv_fin2['DOD'])"
      ],
      "execution_count": null,
      "outputs": []
    },
    {
      "cell_type": "code",
      "metadata": {
        "colab": {
          "base_uri": "https://localhost:8080/"
        },
        "id": "beFNJqTsgY9Q",
        "outputId": "3af23dcb-4f2a-4fc1-d044-83cc9aaa322d"
      },
      "source": [
        "print(\"The NA percentage in the D.O.B variable: \",train_fin2['DOB'].isna().sum()/len(train_fin2['DOB']))\n",
        "print(\"The NA percentage in the D.O.D variable: \",train_fin2['DOD'].isna().sum()/len(train_fin2['DOD']))\n",
        "\n",
        "print(\"The NA percentage in the D.O.B variable: \",cv_fin2['DOB'].isna().sum()/len(cv_fin2['DOB']))\n",
        "print(\"The NA percentage in the D.O.D variable: \",cv_fin2['DOD'].isna().sum()/len(cv_fin2['DOD']))"
      ],
      "execution_count": null,
      "outputs": [
        {
          "output_type": "stream",
          "text": [
            "The NA percentage in the D.O.B variable:  0.0\n",
            "The NA percentage in the D.O.D variable:  0.992601350746135\n",
            "The NA percentage in the D.O.B variable:  0.0\n",
            "The NA percentage in the D.O.D variable:  0.9925924598944851\n"
          ],
          "name": "stdout"
        }
      ]
    },
    {
      "cell_type": "code",
      "metadata": {
        "id": "vMd6bJJGgwrV"
      },
      "source": [
        "train_fin2['age']= np.zeros(len(train_fin2['DOB']))\n",
        "\n",
        "a_max_tr= train_fin2['DOD'].max()\n",
        "\n",
        "for i in range(len(train_fin2['DOB'])):\n",
        "    if pd.isnull(train_fin2['DOD'][i])== True:\n",
        "        train_fin2['age'][i]= (a_max_tr-train_fin2['DOB'][i])/timedelta(days=365)\n",
        "    else:\n",
        "        train_fin2['age'][i]= (train_fin2['DOD'][i]-train_fin2['DOB'][i])/timedelta(days=365)"
      ],
      "execution_count": null,
      "outputs": []
    },
    {
      "cell_type": "code",
      "metadata": {
        "id": "Fu3NioiWkxTn"
      },
      "source": [
        "cv_fin2['age']= np.zeros(len(cv_fin2['DOB']))\n",
        "\n",
        "a_max_cv= cv_fin2['DOD'].max()\n",
        "\n",
        "for i in range(len(cv_fin2['DOB'])):\n",
        "    if pd.isnull(cv_fin2['DOD'][i])== True:\n",
        "        cv_fin2['age'][i]= (a_max_cv-train_fin2['DOB'][i])/timedelta(days=365)\n",
        "    else:\n",
        "        cv_fin2['age'][i]= (cv_fin2['DOD'][i]-cv_fin2['DOB'][i])/timedelta(days=365)"
      ],
      "execution_count": null,
      "outputs": []
    },
    {
      "cell_type": "code",
      "metadata": {
        "colab": {
          "base_uri": "https://localhost:8080/",
          "height": 395
        },
        "id": "1UXqQuu8l8Gb",
        "outputId": "5bf42418-0600-4728-b6af-619e24d895f3"
      },
      "source": [
        "fig= plt.figure(figsize=(10,6))\n",
        "gs= GridSpec(1,2,figure=fig)\n",
        "\n",
        "ax1= fig.add_subplot(gs[0,0])\n",
        "ax2= fig.add_subplot(gs[0,1])\n",
        "\n",
        "sns.violinplot(y=train_fin2['age'],ax= ax1)\n",
        "sns.violinplot(y=cv_fin2['age'],ax= ax2)\n",
        "\n",
        "ax1.set_xlabel('Age_Variable')\n",
        "ax2.set_xlabel('Age_Variable')\n",
        "\n",
        "ax1.set_title('Distribution of the age variable in Train Data')\n",
        "ax2.set_title('Distribution of the age variable in CV Data')\n",
        "\n",
        "plt.subplots_adjust(wspace=0.45)\n",
        "plt.show()"
      ],
      "execution_count": null,
      "outputs": [
        {
          "output_type": "display_data",
          "data": {
            "image/png": "[encoded data removed]",
            "text/plain": [
              "<Figure size 720x432 with 2 Axes>"
            ]
          },
          "metadata": {
            "tags": [],
            "needs_background": "light"
          }
        }
      ]
    },
    {
      "cell_type": "code",
      "metadata": {
        "colab": {
          "base_uri": "https://localhost:8080/"
        },
        "id": "z1hMnjGMl78S",
        "outputId": "70fed89f-6368-4271-ec41-6a30ad6edd9e"
      },
      "source": [
        "print(train_fin2['age'].describe())"
      ],
      "execution_count": null,
      "outputs": [
        {
          "output_type": "stream",
          "text": [
            "count    446568.000000\n",
            "mean         73.783661\n",
            "std          13.020365\n",
            "min          26.019178\n",
            "25%          68.046575\n",
            "50%          74.715068\n",
            "75%          82.476712\n",
            "max         100.983562\n",
            "Name: age, dtype: float64\n"
          ],
          "name": "stdout"
        }
      ]
    },
    {
      "cell_type": "code",
      "metadata": {
        "colab": {
          "base_uri": "https://localhost:8080/"
        },
        "id": "8wZSMorBl717",
        "outputId": "02c668f6-2ab4-4c76-d00a-0e4b9ed228ab"
      },
      "source": [
        "print(cv_fin2['age'].describe())"
      ],
      "execution_count": null,
      "outputs": [
        {
          "output_type": "stream",
          "text": [
            "count    111643.000000\n",
            "mean         73.780320\n",
            "std          13.078361\n",
            "min          26.019178\n",
            "25%          68.046575\n",
            "50%          74.720548\n",
            "75%          82.558904\n",
            "max         100.983562\n",
            "Name: age, dtype: float64\n"
          ],
          "name": "stdout"
        }
      ]
    },
    {
      "cell_type": "code",
      "metadata": {
        "id": "cswYwoNkSox_"
      },
      "source": [
        "train_fin2.drop(['DOB','DOD'], axis=1,inplace=True)\n",
        "cv_fin2.drop(['DOB','DOD'], axis=1,inplace=True)"
      ],
      "execution_count": null,
      "outputs": []
    },
    {
      "cell_type": "code",
      "metadata": {
        "colab": {
          "base_uri": "https://localhost:8080/"
        },
        "id": "-hxyNKF8TlBQ",
        "outputId": "de0f8a29-b0bc-4479-acc9-fa7afa5ca9b4"
      },
      "source": [
        "print(np.round((train_inpat['ClmAdmitDiagnosisCode'].isna().sum()/len(train_inpat['ClmAdmitDiagnosisCode']))*100,2),'%')\n",
        "print(np.round((train_outpat['ClmAdmitDiagnosisCode'].isna().sum()/len(train_outpat['ClmAdmitDiagnosisCode']))*100,2),'%')\n",
        "print(np.round((train_fin5['ClmAdmitDiagnosisCode'].isna().sum()/len(train_fin5['ClmAdmitDiagnosisCode']))*100,2),'%')"
      ],
      "execution_count": null,
      "outputs": [
        {
          "output_type": "stream",
          "text": [
            "0.0 %\n",
            "79.64 %\n",
            "73.86 %\n"
          ],
          "name": "stdout"
        }
      ]
    },
    {
      "cell_type": "code",
      "metadata": {
        "id": "bKxCdu633_Xk"
      },
      "source": [
        "train_fin2['ClmAdmitDiagnosisCode']= train_fin2['ClmAdmitDiagnosisCode'].fillna(0)\n",
        "cv_fin2['ClmAdmitDiagnosisCode']= cv_fin2['ClmAdmitDiagnosisCode'].fillna(0)"
      ],
      "execution_count": null,
      "outputs": []
    },
    {
      "cell_type": "code",
      "metadata": {
        "id": "MNMj961rYH5j"
      },
      "source": [
        "train_fin2['CADC_Yes']= np.zeros(len(train_fin2['ClmAdmitDiagnosisCode']))\n",
        "train_fin2['CADC_No']= np.zeros(len(train_fin2['ClmAdmitDiagnosisCode']))\n",
        "cv_fin2['CADC_Yes']= np.zeros(len(cv_fin2['ClmAdmitDiagnosisCode']))\n",
        "cv_fin2['CADC_No']= np.zeros(len(cv_fin2['ClmAdmitDiagnosisCode']))\n",
        "\n",
        "train_fin2['CADC_Yes'],train_fin2['CADC_No'],cv_fin2['CADC_Yes'],cv_fin2['CADC_No'],cadc_dict= response_coding(train_fin2,cv_fin2,'ClmAdmitDiagnosisCode','PotentialFraud')"
      ],
      "execution_count": null,
      "outputs": []
    },
    {
      "cell_type": "code",
      "metadata": {
        "id": "NVi-u3r45TdA"
      },
      "source": [
        "train_fin2.drop(['ClmAdmitDiagnosisCode'], axis=1, inplace=True)\n",
        "cv_fin2.drop(['ClmAdmitDiagnosisCode'], axis=1, inplace=True)"
      ],
      "execution_count": null,
      "outputs": []
    },
    {
      "cell_type": "code",
      "metadata": {
        "id": "J4t9sjzkzVG5"
      },
      "source": [
        "train_fin2['RenalDiseaseIndicator']= train_fin2['RenalDiseaseIndicator'].map({'Y':1,'0':0})\n",
        "cv_fin2['RenalDiseaseIndicator']= cv_fin2['RenalDiseaseIndicator'].map({'Y':1,'0':0})"
      ],
      "execution_count": null,
      "outputs": []
    },
    {
      "cell_type": "code",
      "metadata": {
        "id": "ARlewzVDwxJH"
      },
      "source": [
        "nam_cols= ['ChronicCond_Alzheimer','ChronicCond_Heartfailure','ChronicCond_KidneyDisease','ChronicCond_Cancer','ChronicCond_ObstrPulmonary','ChronicCond_Depression','ChronicCond_Diabetes','ChronicCond_IschemicHeart','ChronicCond_Osteoporasis','ChronicCond_rheumatoidarthritis','ChronicCond_stroke']"
      ],
      "execution_count": null,
      "outputs": []
    },
    {
      "cell_type": "code",
      "metadata": {
        "id": "Zli3NiGZuJw4"
      },
      "source": [
        "for i in nam_cols:\n",
        "    train_fin2[i]= train_fin2[i].map({1:0,2:1})\n",
        "    cv_fin2[i]= cv_fin2[i].map({1:0,2:1})"
      ],
      "execution_count": null,
      "outputs": []
    },
    {
      "cell_type": "code",
      "metadata": {
        "colab": {
          "base_uri": "https://localhost:8080/",
          "height": 863
        },
        "id": "kGMVGw9wiqVg",
        "outputId": "b426e70e-bf84-4e33-b8af-5db121c8aa73"
      },
      "source": [
        "vars= ['RenalDiseaseIndicator','ChronicCond_Alzheimer','ChronicCond_Heartfailure','ChronicCond_KidneyDisease','ChronicCond_Cancer','ChronicCond_ObstrPulmonary','ChronicCond_Depression','ChronicCond_Diabetes','ChronicCond_IschemicHeart','ChronicCond_Osteoporasis','ChronicCond_rheumatoidarthritis','ChronicCond_stroke']\n",
        "var_uni=[]\n",
        "var_val=[]\n",
        "\n",
        "for v in vars:\n",
        "    var_uni.append(np.unique(train_fin2[v]))\n",
        "    var_val.append(train_fin2[v].value_counts()/len(train_fin2[v]))\n",
        "    \n",
        "fig= plt.figure(figsize=(15,15))\n",
        "gs= GridSpec(3,4,figure= fig)\n",
        "\n",
        "ax=[]\n",
        "\n",
        "for i in range(3):\n",
        "    for j in range(4):\n",
        "        ax.append(fig.add_subplot(gs[i,j]))\n",
        "\n",
        "for k in range(len(ax)):\n",
        "    sns.barplot(ax=ax[k],x= var_uni[k],y= var_val[k],palette='crest')\n",
        "    #ax[k].title.set_text('Percentage distribution of the categories in the Variable')\n",
        "\n",
        "plt.subplots_adjust(wspace=0.65)\n",
        "plt.subplots_adjust(hspace=0.25)\n",
        "#plt.xlabel(\"NA Percentage in each of the Datasets\")\n",
        "plt.show()"
      ],
      "execution_count": null,
      "outputs": [
        {
          "output_type": "display_data",
          "data": {
            "image/png": "[encoded data removed]",
            "text/plain": [
              "<Figure size 1080x1080 with 12 Axes>"
            ]
          },
          "metadata": {
            "tags": [],
            "needs_background": "light"
          }
        }
      ]
    },
    {
      "cell_type": "code",
      "metadata": {
        "colab": {
          "base_uri": "https://localhost:8080/"
        },
        "id": "L6wpmOyg1_Wb",
        "outputId": "99707517-18a2-4399-f662-ca9fcd1628f5"
      },
      "source": [
        "print(np.unique(train_fin5['Race']))\n",
        "print(train_fin5['Race'].value_counts())"
      ],
      "execution_count": null,
      "outputs": [
        {
          "output_type": "stream",
          "text": [
            "[1 2 3 5]\n",
            "1    471036\n",
            "2     55640\n",
            "3     19715\n",
            "5     11820\n",
            "Name: Race, dtype: int64\n"
          ],
          "name": "stdout"
        }
      ]
    },
    {
      "cell_type": "code",
      "metadata": {
        "id": "Vdyq7jVe1Z_R"
      },
      "source": [
        "train_fin2['Gender']= train_fin2['Gender'].map({1:'G1',2:'G2'})\n",
        "train_fin2['Race']= train_fin2['Race'].map({1:'R1',2:'R2',3:'R3',5:'R4'})\n",
        "\n",
        "cv_fin2['Gender']= train_fin2['Gender'].map({1:'G1',2:'G2'})\n",
        "cv_fin2['Race']= train_fin2['Race'].map({1:'R1',2:'R2',3:'R3',5:'R4'})"
      ],
      "execution_count": null,
      "outputs": []
    },
    {
      "cell_type": "code",
      "metadata": {
        "colab": {
          "base_uri": "https://localhost:8080/",
          "height": 224
        },
        "id": "iqOEGicu2Rfq",
        "outputId": "518b8858-3e11-4109-e169-01dfadd825ef"
      },
      "source": [
        "train_fin5.head()"
      ],
      "execution_count": null,
      "outputs": [
        {
          "output_type": "execute_result",
          "data": {
            "text/html": [
              "<div>\n",
              "<style scoped>\n",
              "    .dataframe tbody tr th:only-of-type {\n",
              "        vertical-align: middle;\n",
              "    }\n",
              "\n",
              "    .dataframe tbody tr th {\n",
              "        vertical-align: top;\n",
              "    }\n",
              "\n",
              "    .dataframe thead th {\n",
              "        text-align: right;\n",
              "    }\n",
              "</style>\n",
              "<table border=\"1\" class=\"dataframe\">\n",
              "  <thead>\n",
              "    <tr style=\"text-align: right;\">\n",
              "      <th></th>\n",
              "      <th>InscClaimAmtReimbursed</th>\n",
              "      <th>DeductibleAmtPaid</th>\n",
              "      <th>Gender</th>\n",
              "      <th>Race</th>\n",
              "      <th>RenalDiseaseIndicator</th>\n",
              "      <th>ChronicCond_Alzheimer</th>\n",
              "      <th>ChronicCond_Heartfailure</th>\n",
              "      <th>ChronicCond_KidneyDisease</th>\n",
              "      <th>ChronicCond_Cancer</th>\n",
              "      <th>ChronicCond_ObstrPulmonary</th>\n",
              "      <th>ChronicCond_Depression</th>\n",
              "      <th>ChronicCond_Diabetes</th>\n",
              "      <th>ChronicCond_IschemicHeart</th>\n",
              "      <th>ChronicCond_Osteoporasis</th>\n",
              "      <th>ChronicCond_rheumatoidarthritis</th>\n",
              "      <th>ChronicCond_stroke</th>\n",
              "      <th>IPAnnualReimbursementAmt</th>\n",
              "      <th>IPAnnualDeductibleAmt</th>\n",
              "      <th>OPAnnualReimbursementAmt</th>\n",
              "      <th>OPAnnualDeductibleAmt</th>\n",
              "      <th>PotentialFraud</th>\n",
              "      <th>#_Procedures</th>\n",
              "      <th>#_DiagnosisCodes</th>\n",
              "      <th>HospitalWeeks</th>\n",
              "      <th>IllnessNature</th>\n",
              "      <th>ClaimWeeks</th>\n",
              "      <th>age</th>\n",
              "      <th>DGC_Yes</th>\n",
              "      <th>DGC_No</th>\n",
              "      <th>State_Yes</th>\n",
              "      <th>State_No</th>\n",
              "      <th>County_Yes</th>\n",
              "      <th>County_No</th>\n",
              "      <th>BID_Yes</th>\n",
              "      <th>BID_No</th>\n",
              "      <th>CID_Yes</th>\n",
              "      <th>CID_No</th>\n",
              "      <th>Pvr_Yes</th>\n",
              "      <th>Pvr_No</th>\n",
              "      <th>Ap_Yes</th>\n",
              "      <th>Ap_No</th>\n",
              "      <th>CADC_Yes</th>\n",
              "      <th>CADC_No</th>\n",
              "    </tr>\n",
              "  </thead>\n",
              "  <tbody>\n",
              "    <tr>\n",
              "      <th>0</th>\n",
              "      <td>26000</td>\n",
              "      <td>1068.0</td>\n",
              "      <td>G1</td>\n",
              "      <td>R1</td>\n",
              "      <td>0</td>\n",
              "      <td>0</td>\n",
              "      <td>1</td>\n",
              "      <td>0</td>\n",
              "      <td>1</td>\n",
              "      <td>1</td>\n",
              "      <td>0</td>\n",
              "      <td>0</td>\n",
              "      <td>0</td>\n",
              "      <td>1</td>\n",
              "      <td>0</td>\n",
              "      <td>0</td>\n",
              "      <td>36000</td>\n",
              "      <td>3204</td>\n",
              "      <td>60</td>\n",
              "      <td>70</td>\n",
              "      <td>Yes</td>\n",
              "      <td>0.0</td>\n",
              "      <td>9.0</td>\n",
              "      <td>1.0</td>\n",
              "      <td>simple</td>\n",
              "      <td>1</td>\n",
              "      <td>66.9616</td>\n",
              "      <td>0.565891</td>\n",
              "      <td>0.434109</td>\n",
              "      <td>0.472063</td>\n",
              "      <td>0.527937</td>\n",
              "      <td>0.327133</td>\n",
              "      <td>0.672867</td>\n",
              "      <td>0.333333</td>\n",
              "      <td>0.666667</td>\n",
              "      <td>0.909091</td>\n",
              "      <td>0.090909</td>\n",
              "      <td>0.999066</td>\n",
              "      <td>0.000934</td>\n",
              "      <td>0.909091</td>\n",
              "      <td>0.090909</td>\n",
              "      <td>0.380952</td>\n",
              "      <td>0.619048</td>\n",
              "    </tr>\n",
              "    <tr>\n",
              "      <th>1</th>\n",
              "      <td>50</td>\n",
              "      <td>0.0</td>\n",
              "      <td>G1</td>\n",
              "      <td>R1</td>\n",
              "      <td>0</td>\n",
              "      <td>0</td>\n",
              "      <td>0</td>\n",
              "      <td>0</td>\n",
              "      <td>1</td>\n",
              "      <td>1</td>\n",
              "      <td>1</td>\n",
              "      <td>1</td>\n",
              "      <td>0</td>\n",
              "      <td>1</td>\n",
              "      <td>1</td>\n",
              "      <td>1</td>\n",
              "      <td>24000</td>\n",
              "      <td>2136</td>\n",
              "      <td>450</td>\n",
              "      <td>200</td>\n",
              "      <td>Yes</td>\n",
              "      <td>0.0</td>\n",
              "      <td>9.0</td>\n",
              "      <td>0.0</td>\n",
              "      <td>comorbid</td>\n",
              "      <td>0</td>\n",
              "      <td>77.6384</td>\n",
              "      <td>0.365811</td>\n",
              "      <td>0.634189</td>\n",
              "      <td>0.472063</td>\n",
              "      <td>0.527937</td>\n",
              "      <td>0.380747</td>\n",
              "      <td>0.619253</td>\n",
              "      <td>0.666667</td>\n",
              "      <td>0.333333</td>\n",
              "      <td>0.909091</td>\n",
              "      <td>0.090909</td>\n",
              "      <td>0.999066</td>\n",
              "      <td>0.000934</td>\n",
              "      <td>0.909091</td>\n",
              "      <td>0.090909</td>\n",
              "      <td>0.500000</td>\n",
              "      <td>0.500000</td>\n",
              "    </tr>\n",
              "    <tr>\n",
              "      <th>2</th>\n",
              "      <td>19000</td>\n",
              "      <td>1068.0</td>\n",
              "      <td>G2</td>\n",
              "      <td>R1</td>\n",
              "      <td>0</td>\n",
              "      <td>0</td>\n",
              "      <td>0</td>\n",
              "      <td>0</td>\n",
              "      <td>1</td>\n",
              "      <td>0</td>\n",
              "      <td>1</td>\n",
              "      <td>1</td>\n",
              "      <td>0</td>\n",
              "      <td>1</td>\n",
              "      <td>1</td>\n",
              "      <td>1</td>\n",
              "      <td>19000</td>\n",
              "      <td>1068</td>\n",
              "      <td>100</td>\n",
              "      <td>20</td>\n",
              "      <td>Yes</td>\n",
              "      <td>2.0</td>\n",
              "      <td>9.0</td>\n",
              "      <td>2.0</td>\n",
              "      <td>operating&amp;comorbid</td>\n",
              "      <td>2</td>\n",
              "      <td>96.0658</td>\n",
              "      <td>0.600000</td>\n",
              "      <td>0.400000</td>\n",
              "      <td>0.472063</td>\n",
              "      <td>0.527937</td>\n",
              "      <td>0.327133</td>\n",
              "      <td>0.672867</td>\n",
              "      <td>0.500000</td>\n",
              "      <td>0.500000</td>\n",
              "      <td>0.909091</td>\n",
              "      <td>0.090909</td>\n",
              "      <td>0.999066</td>\n",
              "      <td>0.000934</td>\n",
              "      <td>0.909091</td>\n",
              "      <td>0.090909</td>\n",
              "      <td>0.409962</td>\n",
              "      <td>0.590038</td>\n",
              "    </tr>\n",
              "    <tr>\n",
              "      <th>3</th>\n",
              "      <td>17000</td>\n",
              "      <td>1068.0</td>\n",
              "      <td>G1</td>\n",
              "      <td>R1</td>\n",
              "      <td>0</td>\n",
              "      <td>1</td>\n",
              "      <td>1</td>\n",
              "      <td>1</td>\n",
              "      <td>1</td>\n",
              "      <td>1</td>\n",
              "      <td>1</td>\n",
              "      <td>1</td>\n",
              "      <td>0</td>\n",
              "      <td>0</td>\n",
              "      <td>1</td>\n",
              "      <td>1</td>\n",
              "      <td>17000</td>\n",
              "      <td>1068</td>\n",
              "      <td>1050</td>\n",
              "      <td>540</td>\n",
              "      <td>Yes</td>\n",
              "      <td>1.0</td>\n",
              "      <td>9.0</td>\n",
              "      <td>3.0</td>\n",
              "      <td>comorbid</td>\n",
              "      <td>3</td>\n",
              "      <td>87.2274</td>\n",
              "      <td>0.524138</td>\n",
              "      <td>0.475862</td>\n",
              "      <td>0.472063</td>\n",
              "      <td>0.527937</td>\n",
              "      <td>0.283846</td>\n",
              "      <td>0.716154</td>\n",
              "      <td>0.250000</td>\n",
              "      <td>0.750000</td>\n",
              "      <td>0.909091</td>\n",
              "      <td>0.090909</td>\n",
              "      <td>0.999066</td>\n",
              "      <td>0.000934</td>\n",
              "      <td>0.952381</td>\n",
              "      <td>0.047619</td>\n",
              "      <td>0.591331</td>\n",
              "      <td>0.408669</td>\n",
              "    </tr>\n",
              "    <tr>\n",
              "      <th>4</th>\n",
              "      <td>13000</td>\n",
              "      <td>1068.0</td>\n",
              "      <td>G2</td>\n",
              "      <td>R1</td>\n",
              "      <td>0</td>\n",
              "      <td>1</td>\n",
              "      <td>0</td>\n",
              "      <td>1</td>\n",
              "      <td>1</td>\n",
              "      <td>0</td>\n",
              "      <td>1</td>\n",
              "      <td>0</td>\n",
              "      <td>0</td>\n",
              "      <td>0</td>\n",
              "      <td>0</td>\n",
              "      <td>1</td>\n",
              "      <td>27000</td>\n",
              "      <td>2136</td>\n",
              "      <td>450</td>\n",
              "      <td>160</td>\n",
              "      <td>Yes</td>\n",
              "      <td>1.0</td>\n",
              "      <td>7.0</td>\n",
              "      <td>1.0</td>\n",
              "      <td>operating&amp;comorbid</td>\n",
              "      <td>1</td>\n",
              "      <td>79.474</td>\n",
              "      <td>0.590909</td>\n",
              "      <td>0.409091</td>\n",
              "      <td>0.472063</td>\n",
              "      <td>0.527937</td>\n",
              "      <td>0.429422</td>\n",
              "      <td>0.570578</td>\n",
              "      <td>0.714286</td>\n",
              "      <td>0.285714</td>\n",
              "      <td>0.909091</td>\n",
              "      <td>0.090909</td>\n",
              "      <td>0.999066</td>\n",
              "      <td>0.000934</td>\n",
              "      <td>0.967742</td>\n",
              "      <td>0.032258</td>\n",
              "      <td>0.378525</td>\n",
              "      <td>0.621475</td>\n",
              "    </tr>\n",
              "  </tbody>\n",
              "</table>\n",
              "</div>"
            ],
            "text/plain": [
              "   InscClaimAmtReimbursed  DeductibleAmtPaid  ...  CADC_Yes   CADC_No\n",
              "0                   26000             1068.0  ...  0.380952  0.619048\n",
              "1                      50                0.0  ...  0.500000  0.500000\n",
              "2                   19000             1068.0  ...  0.409962  0.590038\n",
              "3                   17000             1068.0  ...  0.591331  0.408669\n",
              "4                   13000             1068.0  ...  0.378525  0.621475\n",
              "\n",
              "[5 rows x 43 columns]"
            ]
          },
          "metadata": {
            "tags": []
          },
          "execution_count": 93
        }
      ]
    },
    {
      "cell_type": "code",
      "metadata": {
        "id": "9_emTohy2TwB"
      },
      "source": [
        "with open('/content/drive/MyDrive/Colab Notebooks/train_fin_n3.pkl','wb') as tr_df:\n",
        "    pickle.dump(train_fin2,tr_df)\n",
        "with open('/content/drive/MyDrive/Colab Notebooks/cv_fin_n3.pkl','wb') as cv_df:\n",
        "    pickle.dump(cv_fin2,cv_df)"
      ],
      "execution_count": null,
      "outputs": []
    },
    {
      "cell_type": "markdown",
      "metadata": {
        "id": "wT8tV-AI7VRN"
      },
      "source": [
        "#Multivariate Analysis"
      ]
    },
    {
      "cell_type": "code",
      "metadata": {
        "colab": {
          "base_uri": "https://localhost:8080/",
          "height": 296
        },
        "id": "0Z7gsMJnd745",
        "outputId": "1b90782c-317b-4083-855a-2fc26e4e751a"
      },
      "source": [
        "sns.countplot(x='PotentialFraud',hue='Gender',data=train_fin6, palette='crest')"
      ],
      "execution_count": null,
      "outputs": [
        {
          "output_type": "execute_result",
          "data": {
            "text/plain": [
              "<matplotlib.axes._subplots.AxesSubplot at 0x7f6bdd678950>"
            ]
          },
          "metadata": {
            "tags": []
          },
          "execution_count": 114
        },
        {
          "output_type": "display_data",
          "data": {
            "image/png": "[encoded data removed]",
            "text/plain": [
              "<Figure size 432x288 with 1 Axes>"
            ]
          },
          "metadata": {
            "tags": [],
            "needs_background": "light"
          }
        }
      ]
    },
    {
      "cell_type": "code",
      "metadata": {
        "colab": {
          "base_uri": "https://localhost:8080/",
          "height": 296
        },
        "id": "FxDghN_h5_bL",
        "outputId": "7ee4c319-b209-44c6-976c-7a8b69c5b445"
      },
      "source": [
        "sns.violinplot(y='InscClaimAmtReimbursed',x='PotentialFraud', data=train_fin6, palette= 'crest')"
      ],
      "execution_count": null,
      "outputs": [
        {
          "output_type": "execute_result",
          "data": {
            "text/plain": [
              "<matplotlib.axes._subplots.AxesSubplot at 0x7f6bda919a10>"
            ]
          },
          "metadata": {
            "tags": []
          },
          "execution_count": 116
        },
        {
          "output_type": "display_data",
          "data": {
            "image/png": "[encoded data removed]",
            "text/plain": [
              "<Figure size 432x288 with 1 Axes>"
            ]
          },
          "metadata": {
            "tags": [],
            "needs_background": "light"
          }
        }
      ]
    },
    {
      "cell_type": "code",
      "metadata": {
        "colab": {
          "base_uri": "https://localhost:8080/"
        },
        "id": "yhsQS3v6kpwk",
        "outputId": "ab669b5b-12b2-4dfe-ad62-adf441141326"
      },
      "source": [
        "train_fin6.info()"
      ],
      "execution_count": null,
      "outputs": [
        {
          "output_type": "stream",
          "text": [
            "<class 'pandas.core.frame.DataFrame'>\n",
            "Int64Index: 558211 entries, 0 to 558210\n",
            "Data columns (total 43 columns):\n",
            " #   Column                           Non-Null Count   Dtype  \n",
            "---  ------                           --------------   -----  \n",
            " 0   InscClaimAmtReimbursed           558211 non-null  int64  \n",
            " 1   DeductibleAmtPaid                557312 non-null  float64\n",
            " 2   Gender                           558211 non-null  object \n",
            " 3   Race                             558211 non-null  object \n",
            " 4   RenalDiseaseIndicator            558211 non-null  int64  \n",
            " 5   ChronicCond_Alzheimer            558211 non-null  int64  \n",
            " 6   ChronicCond_Heartfailure         558211 non-null  int64  \n",
            " 7   ChronicCond_KidneyDisease        558211 non-null  int64  \n",
            " 8   ChronicCond_Cancer               558211 non-null  int64  \n",
            " 9   ChronicCond_ObstrPulmonary       558211 non-null  int64  \n",
            " 10  ChronicCond_Depression           558211 non-null  int64  \n",
            " 11  ChronicCond_Diabetes             558211 non-null  int64  \n",
            " 12  ChronicCond_IschemicHeart        558211 non-null  int64  \n",
            " 13  ChronicCond_Osteoporasis         558211 non-null  int64  \n",
            " 14  ChronicCond_rheumatoidarthritis  558211 non-null  int64  \n",
            " 15  ChronicCond_stroke               558211 non-null  int64  \n",
            " 16  IPAnnualReimbursementAmt         558211 non-null  int64  \n",
            " 17  IPAnnualDeductibleAmt            558211 non-null  int64  \n",
            " 18  OPAnnualReimbursementAmt         558211 non-null  int64  \n",
            " 19  OPAnnualDeductibleAmt            558211 non-null  int64  \n",
            " 20  PotentialFraud                   558211 non-null  object \n",
            " 21  #_Procedures                     558211 non-null  float64\n",
            " 22  #_DiagnosisCodes                 558211 non-null  float64\n",
            " 23  HospitalWeeks                    558211 non-null  float64\n",
            " 24  IllnessNature                    558211 non-null  object \n",
            " 25  ClaimWeeks                       558211 non-null  int64  \n",
            " 26  age                              558211 non-null  object \n",
            " 27  DGC_Yes                          558211 non-null  float64\n",
            " 28  DGC_No                           558211 non-null  float64\n",
            " 29  State_Yes                        558211 non-null  float64\n",
            " 30  State_No                         558211 non-null  float64\n",
            " 31  County_Yes                       558211 non-null  float64\n",
            " 32  County_No                        558211 non-null  float64\n",
            " 33  BID_Yes                          558211 non-null  float64\n",
            " 34  BID_No                           558211 non-null  float64\n",
            " 35  CID_Yes                          558211 non-null  float64\n",
            " 36  CID_No                           558211 non-null  float64\n",
            " 37  Pvr_Yes                          558211 non-null  float64\n",
            " 38  Pvr_No                           558211 non-null  float64\n",
            " 39  Ap_Yes                           558211 non-null  float64\n",
            " 40  Ap_No                            558211 non-null  float64\n",
            " 41  CADC_Yes                         558211 non-null  float64\n",
            " 42  CADC_No                          558211 non-null  float64\n",
            "dtypes: float64(20), int64(18), object(5)\n",
            "memory usage: 207.4+ MB\n"
          ],
          "name": "stdout"
        }
      ]
    },
    {
      "cell_type": "code",
      "metadata": {
        "colab": {
          "base_uri": "https://localhost:8080/",
          "height": 487
        },
        "id": "72Zi6_fE7K6p",
        "outputId": "c0755319-ec84-4a66-cb9b-44628c8a4dc1"
      },
      "source": [
        "num_cols=['InscClaimAmtReimbursed','DeductibleAmtPaid','IPAnnualReimbursementAmt','IPAnnualDeductibleAmt','OPAnnualReimbursementAmt','OPAnnualDeductibleAmt','age']\n",
        "\n",
        "fig= plt.figure(figsize=(12,8))\n",
        "gs= GridSpec(3,3,figure= fig)\n",
        "\n",
        "for i in range(3):\n",
        "    for j in range(3):\n",
        "        ax.append(fig.add_subplot(gs[i,j]))\n",
        "\n",
        "for k in range(7):\n",
        "    sns.distplot(ax= ax[k],a= train_fin6[num_cols[k]])\n",
        "\n",
        "plt.subplots_adjust(wspace=0.65)\n",
        "plt.subplots_adjust(hspace=0.25)\n",
        "#plt.xlabel(\"NA Percentage in each of the Datasets\")\n",
        "plt.show()"
      ],
      "execution_count": null,
      "outputs": [
        {
          "output_type": "display_data",
          "data": {
            "image/png": "[encoded data removed]",
            "text/plain": [
              "<Figure size 864x576 with 9 Axes>"
            ]
          },
          "metadata": {
            "tags": [],
            "needs_background": "light"
          }
        }
      ]
    },
    {
      "cell_type": "code",
      "metadata": {
        "id": "WyGgKvmbgW1B"
      },
      "source": [
        ""
      ],
      "execution_count": null,
      "outputs": []
    }
  ]
}