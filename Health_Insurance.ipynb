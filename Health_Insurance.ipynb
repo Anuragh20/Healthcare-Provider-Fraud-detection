{
  "nbformat": 4,
  "nbformat_minor": 0,
  "metadata": {
    "colab": {
      "name": "Health Insurance.ipynb",
      "provenance": [],
      "collapsed_sections": [
        "beeoCdHv-ulm"
      ]
    },
    "kernelspec": {
      "display_name": "Python 3",
      "name": "python3"
    },
    "language_info": {
      "name": "python"
    }
  },
  "cells": [
    {
      "cell_type": "markdown",
      "metadata": {
        "id": "l7FjWDpuHNgM"
      },
      "source": [
        "##**Importing the Requisite Libraries**"
      ]
    },
    {
      "cell_type": "code",
      "metadata": {
        "id": "HNNdNemnlVJB"
      },
      "source": [
        "import csv\n",
        "import pickle\n",
        "import numpy as np\n",
        "import pandas as pd\n",
        "import seaborn as sns\n",
        "from tqdm import tqdm\n",
        "from datetime import datetime\n",
        "import matplotlib.pyplot as plt\n",
        "from sklearn.impute import SimpleImputer"
      ],
      "execution_count": null,
      "outputs": []
    },
    {
      "cell_type": "code",
      "metadata": {
        "colab": {
          "base_uri": "https://localhost:8080/"
        },
        "id": "nLIDz_UMtPS4",
        "outputId": "9b175d43-ef60-477f-ba94-19aa205d17ef"
      },
      "source": [
        "from google.colab import drive\n",
        "drive.mount('/content/drive')"
      ],
      "execution_count": null,
      "outputs": [
        {
          "output_type": "stream",
          "text": [
            "Drive already mounted at /content/drive; to attempt to forcibly remount, call drive.mount(\"/content/drive\", force_remount=True).\n"
          ],
          "name": "stdout"
        }
      ]
    },
    {
      "cell_type": "markdown",
      "metadata": {
        "id": "lfOLrMlnDgsq"
      },
      "source": [
        "##**Analysis of the Train Datasets**"
      ]
    },
    {
      "cell_type": "markdown",
      "metadata": {
        "id": "I7t1j6sRDpJW"
      },
      "source": [
        "###**Loading the Train Datasets**"
      ]
    },
    {
      "cell_type": "code",
      "metadata": {
        "id": "cp8nNEbDm4Wm"
      },
      "source": [
        "train_ben= pd.read_csv('/content/drive/MyDrive/Colab Notebooks/Train_Beneficiarydata.csv')\n",
        "train_inpat= pd.read_csv('/content/drive/MyDrive/Colab Notebooks/Train_Inpatientdata.csv')\n",
        "train_outpat= pd.read_csv('/content/drive/MyDrive/Colab Notebooks/Train_Outpatientdata.csv')\n",
        "train_y= pd.read_csv('/content/drive/MyDrive/Colab Notebooks/Train.csv')"
      ],
      "execution_count": null,
      "outputs": []
    },
    {
      "cell_type": "code",
      "metadata": {
        "colab": {
          "base_uri": "https://localhost:8080/",
          "height": 213
        },
        "id": "j1HKfVGcm4RG",
        "outputId": "7b492087-bc0b-44b5-a475-17e32e612f4a"
      },
      "source": [
        "train_ben.head(3)"
      ],
      "execution_count": null,
      "outputs": [
        {
          "output_type": "execute_result",
          "data": {
            "text/html": [
              "<div>\n",
              "<style scoped>\n",
              "    .dataframe tbody tr th:only-of-type {\n",
              "        vertical-align: middle;\n",
              "    }\n",
              "\n",
              "    .dataframe tbody tr th {\n",
              "        vertical-align: top;\n",
              "    }\n",
              "\n",
              "    .dataframe thead th {\n",
              "        text-align: right;\n",
              "    }\n",
              "</style>\n",
              "<table border=\"1\" class=\"dataframe\">\n",
              "  <thead>\n",
              "    <tr style=\"text-align: right;\">\n",
              "      <th></th>\n",
              "      <th>BeneID</th>\n",
              "      <th>DOB</th>\n",
              "      <th>DOD</th>\n",
              "      <th>Gender</th>\n",
              "      <th>Race</th>\n",
              "      <th>RenalDiseaseIndicator</th>\n",
              "      <th>State</th>\n",
              "      <th>County</th>\n",
              "      <th>NoOfMonths_PartACov</th>\n",
              "      <th>NoOfMonths_PartBCov</th>\n",
              "      <th>ChronicCond_Alzheimer</th>\n",
              "      <th>ChronicCond_Heartfailure</th>\n",
              "      <th>ChronicCond_KidneyDisease</th>\n",
              "      <th>ChronicCond_Cancer</th>\n",
              "      <th>ChronicCond_ObstrPulmonary</th>\n",
              "      <th>ChronicCond_Depression</th>\n",
              "      <th>ChronicCond_Diabetes</th>\n",
              "      <th>ChronicCond_IschemicHeart</th>\n",
              "      <th>ChronicCond_Osteoporasis</th>\n",
              "      <th>ChronicCond_rheumatoidarthritis</th>\n",
              "      <th>ChronicCond_stroke</th>\n",
              "      <th>IPAnnualReimbursementAmt</th>\n",
              "      <th>IPAnnualDeductibleAmt</th>\n",
              "      <th>OPAnnualReimbursementAmt</th>\n",
              "      <th>OPAnnualDeductibleAmt</th>\n",
              "    </tr>\n",
              "  </thead>\n",
              "  <tbody>\n",
              "    <tr>\n",
              "      <th>0</th>\n",
              "      <td>BENE11001</td>\n",
              "      <td>1943-01-01</td>\n",
              "      <td>NaN</td>\n",
              "      <td>1</td>\n",
              "      <td>1</td>\n",
              "      <td>0</td>\n",
              "      <td>39</td>\n",
              "      <td>230</td>\n",
              "      <td>12</td>\n",
              "      <td>12</td>\n",
              "      <td>1</td>\n",
              "      <td>2</td>\n",
              "      <td>1</td>\n",
              "      <td>2</td>\n",
              "      <td>2</td>\n",
              "      <td>1</td>\n",
              "      <td>1</td>\n",
              "      <td>1</td>\n",
              "      <td>2</td>\n",
              "      <td>1</td>\n",
              "      <td>1</td>\n",
              "      <td>36000</td>\n",
              "      <td>3204</td>\n",
              "      <td>60</td>\n",
              "      <td>70</td>\n",
              "    </tr>\n",
              "    <tr>\n",
              "      <th>1</th>\n",
              "      <td>BENE11002</td>\n",
              "      <td>1936-09-01</td>\n",
              "      <td>NaN</td>\n",
              "      <td>2</td>\n",
              "      <td>1</td>\n",
              "      <td>0</td>\n",
              "      <td>39</td>\n",
              "      <td>280</td>\n",
              "      <td>12</td>\n",
              "      <td>12</td>\n",
              "      <td>2</td>\n",
              "      <td>2</td>\n",
              "      <td>2</td>\n",
              "      <td>2</td>\n",
              "      <td>2</td>\n",
              "      <td>2</td>\n",
              "      <td>2</td>\n",
              "      <td>2</td>\n",
              "      <td>2</td>\n",
              "      <td>2</td>\n",
              "      <td>2</td>\n",
              "      <td>0</td>\n",
              "      <td>0</td>\n",
              "      <td>30</td>\n",
              "      <td>50</td>\n",
              "    </tr>\n",
              "    <tr>\n",
              "      <th>2</th>\n",
              "      <td>BENE11003</td>\n",
              "      <td>1936-08-01</td>\n",
              "      <td>NaN</td>\n",
              "      <td>1</td>\n",
              "      <td>1</td>\n",
              "      <td>0</td>\n",
              "      <td>52</td>\n",
              "      <td>590</td>\n",
              "      <td>12</td>\n",
              "      <td>12</td>\n",
              "      <td>1</td>\n",
              "      <td>2</td>\n",
              "      <td>2</td>\n",
              "      <td>2</td>\n",
              "      <td>2</td>\n",
              "      <td>2</td>\n",
              "      <td>2</td>\n",
              "      <td>1</td>\n",
              "      <td>2</td>\n",
              "      <td>2</td>\n",
              "      <td>2</td>\n",
              "      <td>0</td>\n",
              "      <td>0</td>\n",
              "      <td>90</td>\n",
              "      <td>40</td>\n",
              "    </tr>\n",
              "  </tbody>\n",
              "</table>\n",
              "</div>"
            ],
            "text/plain": [
              "      BeneID         DOB  ... OPAnnualReimbursementAmt  OPAnnualDeductibleAmt\n",
              "0  BENE11001  1943-01-01  ...                       60                     70\n",
              "1  BENE11002  1936-09-01  ...                       30                     50\n",
              "2  BENE11003  1936-08-01  ...                       90                     40\n",
              "\n",
              "[3 rows x 25 columns]"
            ]
          },
          "metadata": {
            "tags": []
          },
          "execution_count": 13
        }
      ]
    },
    {
      "cell_type": "code",
      "metadata": {
        "colab": {
          "base_uri": "https://localhost:8080/"
        },
        "id": "ZRXOS8oi3plm",
        "outputId": "2f8632a7-8458-4880-ea3c-6d76e0657904"
      },
      "source": [
        "train_ben.info()"
      ],
      "execution_count": null,
      "outputs": [
        {
          "output_type": "stream",
          "text": [
            "<class 'pandas.core.frame.DataFrame'>\n",
            "RangeIndex: 138556 entries, 0 to 138555\n",
            "Data columns (total 25 columns):\n",
            " #   Column                           Non-Null Count   Dtype \n",
            "---  ------                           --------------   ----- \n",
            " 0   BeneID                           138556 non-null  object\n",
            " 1   DOB                              138556 non-null  object\n",
            " 2   DOD                              1421 non-null    object\n",
            " 3   Gender                           138556 non-null  int64 \n",
            " 4   Race                             138556 non-null  int64 \n",
            " 5   RenalDiseaseIndicator            138556 non-null  object\n",
            " 6   State                            138556 non-null  int64 \n",
            " 7   County                           138556 non-null  int64 \n",
            " 8   NoOfMonths_PartACov              138556 non-null  int64 \n",
            " 9   NoOfMonths_PartBCov              138556 non-null  int64 \n",
            " 10  ChronicCond_Alzheimer            138556 non-null  int64 \n",
            " 11  ChronicCond_Heartfailure         138556 non-null  int64 \n",
            " 12  ChronicCond_KidneyDisease        138556 non-null  int64 \n",
            " 13  ChronicCond_Cancer               138556 non-null  int64 \n",
            " 14  ChronicCond_ObstrPulmonary       138556 non-null  int64 \n",
            " 15  ChronicCond_Depression           138556 non-null  int64 \n",
            " 16  ChronicCond_Diabetes             138556 non-null  int64 \n",
            " 17  ChronicCond_IschemicHeart        138556 non-null  int64 \n",
            " 18  ChronicCond_Osteoporasis         138556 non-null  int64 \n",
            " 19  ChronicCond_rheumatoidarthritis  138556 non-null  int64 \n",
            " 20  ChronicCond_stroke               138556 non-null  int64 \n",
            " 21  IPAnnualReimbursementAmt         138556 non-null  int64 \n",
            " 22  IPAnnualDeductibleAmt            138556 non-null  int64 \n",
            " 23  OPAnnualReimbursementAmt         138556 non-null  int64 \n",
            " 24  OPAnnualDeductibleAmt            138556 non-null  int64 \n",
            "dtypes: int64(21), object(4)\n",
            "memory usage: 26.4+ MB\n"
          ],
          "name": "stdout"
        }
      ]
    },
    {
      "cell_type": "code",
      "metadata": {
        "colab": {
          "base_uri": "https://localhost:8080/",
          "height": 162
        },
        "id": "VkiMoDcD37pi",
        "outputId": "7b5ec780-ecca-4e3f-851b-600dcdaf767f"
      },
      "source": [
        "train_inpat.head(3)"
      ],
      "execution_count": null,
      "outputs": [
        {
          "output_type": "execute_result",
          "data": {
            "text/html": [
              "<div>\n",
              "<style scoped>\n",
              "    .dataframe tbody tr th:only-of-type {\n",
              "        vertical-align: middle;\n",
              "    }\n",
              "\n",
              "    .dataframe tbody tr th {\n",
              "        vertical-align: top;\n",
              "    }\n",
              "\n",
              "    .dataframe thead th {\n",
              "        text-align: right;\n",
              "    }\n",
              "</style>\n",
              "<table border=\"1\" class=\"dataframe\">\n",
              "  <thead>\n",
              "    <tr style=\"text-align: right;\">\n",
              "      <th></th>\n",
              "      <th>BeneID</th>\n",
              "      <th>ClaimID</th>\n",
              "      <th>ClaimStartDt</th>\n",
              "      <th>ClaimEndDt</th>\n",
              "      <th>Provider</th>\n",
              "      <th>InscClaimAmtReimbursed</th>\n",
              "      <th>AttendingPhysician</th>\n",
              "      <th>OperatingPhysician</th>\n",
              "      <th>OtherPhysician</th>\n",
              "      <th>AdmissionDt</th>\n",
              "      <th>ClmAdmitDiagnosisCode</th>\n",
              "      <th>DeductibleAmtPaid</th>\n",
              "      <th>DischargeDt</th>\n",
              "      <th>DiagnosisGroupCode</th>\n",
              "      <th>ClmDiagnosisCode_1</th>\n",
              "      <th>ClmDiagnosisCode_2</th>\n",
              "      <th>ClmDiagnosisCode_3</th>\n",
              "      <th>ClmDiagnosisCode_4</th>\n",
              "      <th>ClmDiagnosisCode_5</th>\n",
              "      <th>ClmDiagnosisCode_6</th>\n",
              "      <th>ClmDiagnosisCode_7</th>\n",
              "      <th>ClmDiagnosisCode_8</th>\n",
              "      <th>ClmDiagnosisCode_9</th>\n",
              "      <th>ClmDiagnosisCode_10</th>\n",
              "      <th>ClmProcedureCode_1</th>\n",
              "      <th>ClmProcedureCode_2</th>\n",
              "      <th>ClmProcedureCode_3</th>\n",
              "      <th>ClmProcedureCode_4</th>\n",
              "      <th>ClmProcedureCode_5</th>\n",
              "      <th>ClmProcedureCode_6</th>\n",
              "    </tr>\n",
              "  </thead>\n",
              "  <tbody>\n",
              "    <tr>\n",
              "      <th>0</th>\n",
              "      <td>BENE11001</td>\n",
              "      <td>CLM46614</td>\n",
              "      <td>2009-04-12</td>\n",
              "      <td>2009-04-18</td>\n",
              "      <td>PRV55912</td>\n",
              "      <td>26000</td>\n",
              "      <td>PHY390922</td>\n",
              "      <td>NaN</td>\n",
              "      <td>NaN</td>\n",
              "      <td>2009-04-12</td>\n",
              "      <td>7866</td>\n",
              "      <td>1068.0</td>\n",
              "      <td>2009-04-18</td>\n",
              "      <td>201</td>\n",
              "      <td>1970</td>\n",
              "      <td>4019</td>\n",
              "      <td>5853</td>\n",
              "      <td>7843</td>\n",
              "      <td>2768</td>\n",
              "      <td>71590</td>\n",
              "      <td>2724</td>\n",
              "      <td>19889</td>\n",
              "      <td>5849</td>\n",
              "      <td>NaN</td>\n",
              "      <td>NaN</td>\n",
              "      <td>NaN</td>\n",
              "      <td>NaN</td>\n",
              "      <td>NaN</td>\n",
              "      <td>NaN</td>\n",
              "      <td>NaN</td>\n",
              "    </tr>\n",
              "    <tr>\n",
              "      <th>1</th>\n",
              "      <td>BENE11001</td>\n",
              "      <td>CLM66048</td>\n",
              "      <td>2009-08-31</td>\n",
              "      <td>2009-09-02</td>\n",
              "      <td>PRV55907</td>\n",
              "      <td>5000</td>\n",
              "      <td>PHY318495</td>\n",
              "      <td>PHY318495</td>\n",
              "      <td>NaN</td>\n",
              "      <td>2009-08-31</td>\n",
              "      <td>6186</td>\n",
              "      <td>1068.0</td>\n",
              "      <td>2009-09-02</td>\n",
              "      <td>750</td>\n",
              "      <td>6186</td>\n",
              "      <td>2948</td>\n",
              "      <td>56400</td>\n",
              "      <td>NaN</td>\n",
              "      <td>NaN</td>\n",
              "      <td>NaN</td>\n",
              "      <td>NaN</td>\n",
              "      <td>NaN</td>\n",
              "      <td>NaN</td>\n",
              "      <td>NaN</td>\n",
              "      <td>7092.0</td>\n",
              "      <td>NaN</td>\n",
              "      <td>NaN</td>\n",
              "      <td>NaN</td>\n",
              "      <td>NaN</td>\n",
              "      <td>NaN</td>\n",
              "    </tr>\n",
              "    <tr>\n",
              "      <th>2</th>\n",
              "      <td>BENE11001</td>\n",
              "      <td>CLM68358</td>\n",
              "      <td>2009-09-17</td>\n",
              "      <td>2009-09-20</td>\n",
              "      <td>PRV56046</td>\n",
              "      <td>5000</td>\n",
              "      <td>PHY372395</td>\n",
              "      <td>NaN</td>\n",
              "      <td>PHY324689</td>\n",
              "      <td>2009-09-17</td>\n",
              "      <td>29590</td>\n",
              "      <td>1068.0</td>\n",
              "      <td>2009-09-20</td>\n",
              "      <td>883</td>\n",
              "      <td>29623</td>\n",
              "      <td>30390</td>\n",
              "      <td>71690</td>\n",
              "      <td>34590</td>\n",
              "      <td>V1581</td>\n",
              "      <td>32723</td>\n",
              "      <td>NaN</td>\n",
              "      <td>NaN</td>\n",
              "      <td>NaN</td>\n",
              "      <td>NaN</td>\n",
              "      <td>NaN</td>\n",
              "      <td>NaN</td>\n",
              "      <td>NaN</td>\n",
              "      <td>NaN</td>\n",
              "      <td>NaN</td>\n",
              "      <td>NaN</td>\n",
              "    </tr>\n",
              "  </tbody>\n",
              "</table>\n",
              "</div>"
            ],
            "text/plain": [
              "      BeneID   ClaimID  ... ClmProcedureCode_5 ClmProcedureCode_6\n",
              "0  BENE11001  CLM46614  ...                NaN                NaN\n",
              "1  BENE11001  CLM66048  ...                NaN                NaN\n",
              "2  BENE11001  CLM68358  ...                NaN                NaN\n",
              "\n",
              "[3 rows x 30 columns]"
            ]
          },
          "metadata": {
            "tags": []
          },
          "execution_count": 15
        }
      ]
    },
    {
      "cell_type": "code",
      "metadata": {
        "colab": {
          "base_uri": "https://localhost:8080/"
        },
        "id": "bLAVjEHz4Tr6",
        "outputId": "35a0610d-b29e-46be-e342-1a5704cbced4"
      },
      "source": [
        "train_inpat.info()"
      ],
      "execution_count": null,
      "outputs": [
        {
          "output_type": "stream",
          "text": [
            "<class 'pandas.core.frame.DataFrame'>\n",
            "RangeIndex: 40474 entries, 0 to 40473\n",
            "Data columns (total 30 columns):\n",
            " #   Column                  Non-Null Count  Dtype  \n",
            "---  ------                  --------------  -----  \n",
            " 0   BeneID                  40474 non-null  object \n",
            " 1   ClaimID                 40474 non-null  object \n",
            " 2   ClaimStartDt            40474 non-null  object \n",
            " 3   ClaimEndDt              40474 non-null  object \n",
            " 4   Provider                40474 non-null  object \n",
            " 5   InscClaimAmtReimbursed  40474 non-null  int64  \n",
            " 6   AttendingPhysician      40362 non-null  object \n",
            " 7   OperatingPhysician      23830 non-null  object \n",
            " 8   OtherPhysician          4690 non-null   object \n",
            " 9   AdmissionDt             40474 non-null  object \n",
            " 10  ClmAdmitDiagnosisCode   40474 non-null  object \n",
            " 11  DeductibleAmtPaid       39575 non-null  float64\n",
            " 12  DischargeDt             40474 non-null  object \n",
            " 13  DiagnosisGroupCode      40474 non-null  object \n",
            " 14  ClmDiagnosisCode_1      40474 non-null  object \n",
            " 15  ClmDiagnosisCode_2      40248 non-null  object \n",
            " 16  ClmDiagnosisCode_3      39798 non-null  object \n",
            " 17  ClmDiagnosisCode_4      38940 non-null  object \n",
            " 18  ClmDiagnosisCode_5      37580 non-null  object \n",
            " 19  ClmDiagnosisCode_6      35636 non-null  object \n",
            " 20  ClmDiagnosisCode_7      33216 non-null  object \n",
            " 21  ClmDiagnosisCode_8      30532 non-null  object \n",
            " 22  ClmDiagnosisCode_9      26977 non-null  object \n",
            " 23  ClmDiagnosisCode_10     3927 non-null   object \n",
            " 24  ClmProcedureCode_1      23148 non-null  float64\n",
            " 25  ClmProcedureCode_2      5454 non-null   float64\n",
            " 26  ClmProcedureCode_3      965 non-null    float64\n",
            " 27  ClmProcedureCode_4      116 non-null    float64\n",
            " 28  ClmProcedureCode_5      9 non-null      float64\n",
            " 29  ClmProcedureCode_6      0 non-null      float64\n",
            "dtypes: float64(7), int64(1), object(22)\n",
            "memory usage: 9.3+ MB\n"
          ],
          "name": "stdout"
        }
      ]
    },
    {
      "cell_type": "code",
      "metadata": {
        "colab": {
          "base_uri": "https://localhost:8080/",
          "height": 162
        },
        "id": "l35GVZsD4WWO",
        "outputId": "45b976e4-398c-484c-e8b6-d511c0451c42"
      },
      "source": [
        "train_outpat.head(3)"
      ],
      "execution_count": null,
      "outputs": [
        {
          "output_type": "execute_result",
          "data": {
            "text/html": [
              "<div>\n",
              "<style scoped>\n",
              "    .dataframe tbody tr th:only-of-type {\n",
              "        vertical-align: middle;\n",
              "    }\n",
              "\n",
              "    .dataframe tbody tr th {\n",
              "        vertical-align: top;\n",
              "    }\n",
              "\n",
              "    .dataframe thead th {\n",
              "        text-align: right;\n",
              "    }\n",
              "</style>\n",
              "<table border=\"1\" class=\"dataframe\">\n",
              "  <thead>\n",
              "    <tr style=\"text-align: right;\">\n",
              "      <th></th>\n",
              "      <th>BeneID</th>\n",
              "      <th>ClaimID</th>\n",
              "      <th>ClaimStartDt</th>\n",
              "      <th>ClaimEndDt</th>\n",
              "      <th>Provider</th>\n",
              "      <th>InscClaimAmtReimbursed</th>\n",
              "      <th>AttendingPhysician</th>\n",
              "      <th>OperatingPhysician</th>\n",
              "      <th>OtherPhysician</th>\n",
              "      <th>ClmDiagnosisCode_1</th>\n",
              "      <th>ClmDiagnosisCode_2</th>\n",
              "      <th>ClmDiagnosisCode_3</th>\n",
              "      <th>ClmDiagnosisCode_4</th>\n",
              "      <th>ClmDiagnosisCode_5</th>\n",
              "      <th>ClmDiagnosisCode_6</th>\n",
              "      <th>ClmDiagnosisCode_7</th>\n",
              "      <th>ClmDiagnosisCode_8</th>\n",
              "      <th>ClmDiagnosisCode_9</th>\n",
              "      <th>ClmDiagnosisCode_10</th>\n",
              "      <th>ClmProcedureCode_1</th>\n",
              "      <th>ClmProcedureCode_2</th>\n",
              "      <th>ClmProcedureCode_3</th>\n",
              "      <th>ClmProcedureCode_4</th>\n",
              "      <th>ClmProcedureCode_5</th>\n",
              "      <th>ClmProcedureCode_6</th>\n",
              "      <th>DeductibleAmtPaid</th>\n",
              "      <th>ClmAdmitDiagnosisCode</th>\n",
              "    </tr>\n",
              "  </thead>\n",
              "  <tbody>\n",
              "    <tr>\n",
              "      <th>0</th>\n",
              "      <td>BENE11002</td>\n",
              "      <td>CLM624349</td>\n",
              "      <td>2009-10-11</td>\n",
              "      <td>2009-10-11</td>\n",
              "      <td>PRV56011</td>\n",
              "      <td>30</td>\n",
              "      <td>PHY326117</td>\n",
              "      <td>NaN</td>\n",
              "      <td>NaN</td>\n",
              "      <td>78943</td>\n",
              "      <td>V5866</td>\n",
              "      <td>V1272</td>\n",
              "      <td>NaN</td>\n",
              "      <td>NaN</td>\n",
              "      <td>NaN</td>\n",
              "      <td>NaN</td>\n",
              "      <td>NaN</td>\n",
              "      <td>NaN</td>\n",
              "      <td>NaN</td>\n",
              "      <td>NaN</td>\n",
              "      <td>NaN</td>\n",
              "      <td>NaN</td>\n",
              "      <td>NaN</td>\n",
              "      <td>NaN</td>\n",
              "      <td>NaN</td>\n",
              "      <td>0</td>\n",
              "      <td>56409</td>\n",
              "    </tr>\n",
              "    <tr>\n",
              "      <th>1</th>\n",
              "      <td>BENE11003</td>\n",
              "      <td>CLM189947</td>\n",
              "      <td>2009-02-12</td>\n",
              "      <td>2009-02-12</td>\n",
              "      <td>PRV57610</td>\n",
              "      <td>80</td>\n",
              "      <td>PHY362868</td>\n",
              "      <td>NaN</td>\n",
              "      <td>NaN</td>\n",
              "      <td>6115</td>\n",
              "      <td>NaN</td>\n",
              "      <td>NaN</td>\n",
              "      <td>NaN</td>\n",
              "      <td>NaN</td>\n",
              "      <td>NaN</td>\n",
              "      <td>NaN</td>\n",
              "      <td>NaN</td>\n",
              "      <td>NaN</td>\n",
              "      <td>NaN</td>\n",
              "      <td>NaN</td>\n",
              "      <td>NaN</td>\n",
              "      <td>NaN</td>\n",
              "      <td>NaN</td>\n",
              "      <td>NaN</td>\n",
              "      <td>NaN</td>\n",
              "      <td>0</td>\n",
              "      <td>79380</td>\n",
              "    </tr>\n",
              "    <tr>\n",
              "      <th>2</th>\n",
              "      <td>BENE11003</td>\n",
              "      <td>CLM438021</td>\n",
              "      <td>2009-06-27</td>\n",
              "      <td>2009-06-27</td>\n",
              "      <td>PRV57595</td>\n",
              "      <td>10</td>\n",
              "      <td>PHY328821</td>\n",
              "      <td>NaN</td>\n",
              "      <td>NaN</td>\n",
              "      <td>2723</td>\n",
              "      <td>NaN</td>\n",
              "      <td>NaN</td>\n",
              "      <td>NaN</td>\n",
              "      <td>NaN</td>\n",
              "      <td>NaN</td>\n",
              "      <td>NaN</td>\n",
              "      <td>NaN</td>\n",
              "      <td>NaN</td>\n",
              "      <td>NaN</td>\n",
              "      <td>NaN</td>\n",
              "      <td>NaN</td>\n",
              "      <td>NaN</td>\n",
              "      <td>NaN</td>\n",
              "      <td>NaN</td>\n",
              "      <td>NaN</td>\n",
              "      <td>0</td>\n",
              "      <td>NaN</td>\n",
              "    </tr>\n",
              "  </tbody>\n",
              "</table>\n",
              "</div>"
            ],
            "text/plain": [
              "      BeneID    ClaimID  ... DeductibleAmtPaid ClmAdmitDiagnosisCode\n",
              "0  BENE11002  CLM624349  ...                 0                 56409\n",
              "1  BENE11003  CLM189947  ...                 0                 79380\n",
              "2  BENE11003  CLM438021  ...                 0                   NaN\n",
              "\n",
              "[3 rows x 27 columns]"
            ]
          },
          "metadata": {
            "tags": []
          },
          "execution_count": 18
        }
      ]
    },
    {
      "cell_type": "code",
      "metadata": {
        "colab": {
          "base_uri": "https://localhost:8080/"
        },
        "id": "lC2ZALGL4mL2",
        "outputId": "177a1d5c-e021-48e9-fe77-fee1be9f41cf"
      },
      "source": [
        "train_outpat.info()"
      ],
      "execution_count": null,
      "outputs": [
        {
          "output_type": "stream",
          "text": [
            "<class 'pandas.core.frame.DataFrame'>\n",
            "RangeIndex: 517737 entries, 0 to 517736\n",
            "Data columns (total 27 columns):\n",
            " #   Column                  Non-Null Count   Dtype  \n",
            "---  ------                  --------------   -----  \n",
            " 0   BeneID                  517737 non-null  object \n",
            " 1   ClaimID                 517737 non-null  object \n",
            " 2   ClaimStartDt            517737 non-null  object \n",
            " 3   ClaimEndDt              517737 non-null  object \n",
            " 4   Provider                517737 non-null  object \n",
            " 5   InscClaimAmtReimbursed  517737 non-null  int64  \n",
            " 6   AttendingPhysician      516341 non-null  object \n",
            " 7   OperatingPhysician      90617 non-null   object \n",
            " 8   OtherPhysician          195046 non-null  object \n",
            " 9   ClmDiagnosisCode_1      507284 non-null  object \n",
            " 10  ClmDiagnosisCode_2      322357 non-null  object \n",
            " 11  ClmDiagnosisCode_3      203257 non-null  object \n",
            " 12  ClmDiagnosisCode_4      125596 non-null  object \n",
            " 13  ClmDiagnosisCode_5      74344 non-null   object \n",
            " 14  ClmDiagnosisCode_6      48756 non-null   object \n",
            " 15  ClmDiagnosisCode_7      32961 non-null   object \n",
            " 16  ClmDiagnosisCode_8      22912 non-null   object \n",
            " 17  ClmDiagnosisCode_9      14838 non-null   object \n",
            " 18  ClmDiagnosisCode_10     1083 non-null    object \n",
            " 19  ClmProcedureCode_1      162 non-null     float64\n",
            " 20  ClmProcedureCode_2      36 non-null      float64\n",
            " 21  ClmProcedureCode_3      4 non-null       float64\n",
            " 22  ClmProcedureCode_4      2 non-null       float64\n",
            " 23  ClmProcedureCode_5      0 non-null       float64\n",
            " 24  ClmProcedureCode_6      0 non-null       float64\n",
            " 25  DeductibleAmtPaid       517737 non-null  int64  \n",
            " 26  ClmAdmitDiagnosisCode   105425 non-null  object \n",
            "dtypes: float64(6), int64(2), object(19)\n",
            "memory usage: 106.7+ MB\n"
          ],
          "name": "stdout"
        }
      ]
    },
    {
      "cell_type": "code",
      "metadata": {
        "colab": {
          "base_uri": "https://localhost:8080/",
          "height": 204
        },
        "id": "E45wu-5h7Z_B",
        "outputId": "728d6821-7af0-4d09-c64b-2d20b6db4b21"
      },
      "source": [
        "train_y.head()"
      ],
      "execution_count": null,
      "outputs": [
        {
          "output_type": "execute_result",
          "data": {
            "text/html": [
              "<div>\n",
              "<style scoped>\n",
              "    .dataframe tbody tr th:only-of-type {\n",
              "        vertical-align: middle;\n",
              "    }\n",
              "\n",
              "    .dataframe tbody tr th {\n",
              "        vertical-align: top;\n",
              "    }\n",
              "\n",
              "    .dataframe thead th {\n",
              "        text-align: right;\n",
              "    }\n",
              "</style>\n",
              "<table border=\"1\" class=\"dataframe\">\n",
              "  <thead>\n",
              "    <tr style=\"text-align: right;\">\n",
              "      <th></th>\n",
              "      <th>Provider</th>\n",
              "      <th>PotentialFraud</th>\n",
              "    </tr>\n",
              "  </thead>\n",
              "  <tbody>\n",
              "    <tr>\n",
              "      <th>0</th>\n",
              "      <td>PRV51001</td>\n",
              "      <td>No</td>\n",
              "    </tr>\n",
              "    <tr>\n",
              "      <th>1</th>\n",
              "      <td>PRV51003</td>\n",
              "      <td>Yes</td>\n",
              "    </tr>\n",
              "    <tr>\n",
              "      <th>2</th>\n",
              "      <td>PRV51004</td>\n",
              "      <td>No</td>\n",
              "    </tr>\n",
              "    <tr>\n",
              "      <th>3</th>\n",
              "      <td>PRV51005</td>\n",
              "      <td>Yes</td>\n",
              "    </tr>\n",
              "    <tr>\n",
              "      <th>4</th>\n",
              "      <td>PRV51007</td>\n",
              "      <td>No</td>\n",
              "    </tr>\n",
              "  </tbody>\n",
              "</table>\n",
              "</div>"
            ],
            "text/plain": [
              "   Provider PotentialFraud\n",
              "0  PRV51001             No\n",
              "1  PRV51003            Yes\n",
              "2  PRV51004             No\n",
              "3  PRV51005            Yes\n",
              "4  PRV51007             No"
            ]
          },
          "metadata": {
            "tags": []
          },
          "execution_count": 35
        }
      ]
    },
    {
      "cell_type": "code",
      "metadata": {
        "colab": {
          "base_uri": "https://localhost:8080/"
        },
        "id": "UHnngMDk42Dt",
        "outputId": "9ff9687b-a792-4875-857c-2738e22aa97f"
      },
      "source": [
        "print(\"Shape of Train Beneficiary file Data:\",train_ben.shape)\n",
        "print(\"Shape of Train In-patient file Data:\", train_inpat.shape)\n",
        "print(\"Shape of Train Out-patient file Data:\", train_outpat.shape)\n",
        "print(\"Shape of Train file Data:\", train_y.shape)"
      ],
      "execution_count": null,
      "outputs": [
        {
          "output_type": "stream",
          "text": [
            "Shape of Train Beneficiary file Data: (138556, 25)\n",
            "Shape of Train In-patient file Data: (40474, 30)\n",
            "Shape of Train Out-patient file Data: (517737, 27)\n",
            "Shape of Train file Data: (5410, 2)\n"
          ],
          "name": "stdout"
        }
      ]
    },
    {
      "cell_type": "code",
      "metadata": {
        "colab": {
          "base_uri": "https://localhost:8080/"
        },
        "id": "r0Fr93oJ7_rl",
        "outputId": "31366885-d783-442a-a8d6-b904f57defc1"
      },
      "source": [
        "out_prov= np.unique(train_outpat['Provider'])\n",
        "print(\"The number of Unique Providers in the Train_Outpat file:\", len(out_prov))\n",
        "\n",
        "in_prov= np.unique(train_inpat['Provider'])\n",
        "print(\"The number of Unique Providers in the Train_Inpat file\", len(in_prov))\n",
        "\n",
        "com_prov= set(out_prov).intersection(set(in_prov))\n",
        "print(\"The number of Providers common to both the Inpat and Outpat files:\",len(com_prov))\n",
        "\n",
        "uni_ele= len(out_prov)+len(in_prov)-len(com_prov)\n",
        "print(\"Total Number of Unique Providers in Outpatient and Inpatient datasets Together:\",uni_ele)"
      ],
      "execution_count": null,
      "outputs": [
        {
          "output_type": "stream",
          "text": [
            "The number of Unique Providers in the Train_Outpat file: 5012\n",
            "The number of Unique Providers in the Train_Inpat file 2092\n",
            "The number of Providers common to both the Inpat and Outpat files: 1694\n",
            "Total Number of Unique Providers in Outpatient and Inpatient datasets Together: 5410\n"
          ],
          "name": "stdout"
        }
      ]
    },
    {
      "cell_type": "markdown",
      "metadata": {
        "id": "beeoCdHv-ulm"
      },
      "source": [
        "##**Observations on the Train Datasets**\n",
        "\n",
        "1. We observed that the labels of Potential Fraud as \"Yes\" or \"No\" have been  provided to the each of the Providers in the dataset.\n",
        "\n",
        "2. The number of Unique Providers in the Dataset is 5410 as can be seen in the  \"Train\" file.\n",
        "\n",
        "3. Hence,checking for the unique Providers in the Inpatient and the Outpatient files.\n",
        "\n",
        "4. From the below, we observed that that the total number of Providers are spread across the Inpatient and Outpatient Files.\n"
      ]
    },
    {
      "cell_type": "markdown",
      "metadata": {
        "id": "sdgeEQsJD6CJ"
      },
      "source": [
        "##**Loading the Test Datasets**"
      ]
    },
    {
      "cell_type": "code",
      "metadata": {
        "id": "lqnGFImh7xjS"
      },
      "source": [
        "test_ben= pd.read_csv('/content/drive/MyDrive/Colab Notebooks/Test_Beneficiarydata.csv')\n",
        "test_inpat= pd.read_csv('/content/drive/MyDrive/Colab Notebooks/Test_Inpatientdata.csv')\n",
        "test_outpat= pd.read_csv('/content/drive/MyDrive/Colab Notebooks/Test_Outpatientdata.csv')\n",
        "test_y= pd.read_csv('/content/drive/MyDrive/Colab Notebooks/Test.csv')"
      ],
      "execution_count": null,
      "outputs": []
    },
    {
      "cell_type": "code",
      "metadata": {
        "colab": {
          "base_uri": "https://localhost:8080/"
        },
        "id": "Ie0bH7maElRd",
        "outputId": "5cc7cb51-5d31-4270-ab9a-0b922e590a51"
      },
      "source": [
        "print(\"Shape of Train Beneficiary file Data:\",test_ben.shape)\n",
        "print(\"Shape of Train In-patient file Data:\", test_inpat.shape)\n",
        "print(\"Shape of Train Out-patient file Data:\", test_outpat.shape)\n",
        "print(\"Shape of Train file Data:\", test_y.shape)"
      ],
      "execution_count": null,
      "outputs": [
        {
          "output_type": "stream",
          "text": [
            "Shape of Train Beneficiary file Data: (63968, 25)\n",
            "Shape of Train In-patient file Data: (9551, 30)\n",
            "Shape of Train Out-patient file Data: (125841, 27)\n",
            "Shape of Train file Data: (1353, 1)\n"
          ],
          "name": "stdout"
        }
      ]
    },
    {
      "cell_type": "code",
      "metadata": {
        "colab": {
          "base_uri": "https://localhost:8080/"
        },
        "id": "g5fT7usJG4bz",
        "outputId": "107a035e-fd33-4285-c34b-36c45e54a612"
      },
      "source": [
        "out_prov= np.unique(test_outpat['Provider'])\n",
        "print(\"The number of Unique Providers in the Train_Outpat file:\", len(out_prov))\n",
        "\n",
        "in_prov= np.unique(test_inpat['Provider'])\n",
        "print(\"The number of Unique Providers in the Train_Inpat file\", len(in_prov))\n",
        "\n",
        "com_prov= set(out_prov).intersection(set(in_prov))\n",
        "print(\"The number of Providers common to both the Inpat and Outpat files:\",len(com_prov))\n",
        "\n",
        "uni_ele= len(out_prov)+len(in_prov)-len(com_prov)\n",
        "print(\"Total Number of Unique Providers in Outpatient and Inpatient datasets Together:\",uni_ele)"
      ],
      "execution_count": null,
      "outputs": [
        {
          "output_type": "stream",
          "text": [
            "The number of Unique Providers in the Train_Outpat file: 1259\n",
            "The number of Unique Providers in the Train_Inpat file 520\n",
            "The number of Providers common to both the Inpat and Outpat files: 426\n",
            "Total Number of Unique Providers in Outpatient and Inpatient datasets Together: 1353\n"
          ],
          "name": "stdout"
        }
      ]
    },
    {
      "cell_type": "markdown",
      "metadata": {
        "id": "AuSJO2-CHnD_"
      },
      "source": [
        "**Looking at the Class Distribution in the Train and Test Datasets**"
      ]
    },
    {
      "cell_type": "code",
      "metadata": {
        "colab": {
          "base_uri": "https://localhost:8080/",
          "height": 336
        },
        "id": "TqJnjF4oHFkW",
        "outputId": "f36e71b6-00fe-4e64-a8da-d9ed1febccba"
      },
      "source": [
        "tr_no_per= np.round((train_y[\"PotentialFraud\"].value_counts()[0])/(train_y[\"PotentialFraud\"].value_counts()[0]+train_y[\"PotentialFraud\"].value_counts()[1]),3)*100\n",
        "\n",
        "tr_yes_per= np.round((train_y[\"PotentialFraud\"].value_counts()[1])/(train_y[\"PotentialFraud\"].value_counts()[0]+train_y[\"PotentialFraud\"].value_counts()[1]),3)*100\n",
        "\n",
        "plt.figure(figsize=(10,5))\n",
        "plt.bar([\"No\",\"Yes\"],[tr_no_per,tr_yes_per])\n",
        "plt.ylabel(\"Number of Providers\")\n",
        "plt.title(\"Distribution of the Train_y Data Labels\")\n",
        "plt.show()"
      ],
      "execution_count": null,
      "outputs": [
        {
          "output_type": "display_data",
          "data": {
            "image/png": "[encoded data removed]",
            "text/plain": [
              "<Figure size 720x360 with 1 Axes>"
            ]
          },
          "metadata": {
            "tags": []
          }
        }
      ]
    },
    {
      "cell_type": "code",
      "metadata": {
        "colab": {
          "base_uri": "https://localhost:8080/"
        },
        "id": "c5sPUcCKH4uK",
        "outputId": "91603a8d-8c9a-4db5-cefd-b30aea7a5cda"
      },
      "source": [
        "print(train_y[\"PotentialFraud\"].value_counts())\n",
        "print(\"==\"*50)\n",
        "print(\"Percenatage of NO points in Train dataset:\",tr_no_per,'%')\n",
        "print(\"Percenatage of YES points in Train dataset:\",tr_yes_per,'%')"
      ],
      "execution_count": null,
      "outputs": [
        {
          "output_type": "stream",
          "text": [
            "No     4904\n",
            "Yes     506\n",
            "Name: PotentialFraud, dtype: int64\n",
            "====================================================================================================\n",
            "Percenatage of NO points in Train dataset: 90.60000000000001 %\n",
            "Percenatage of YES points in Train dataset: 9.4 %\n"
          ],
          "name": "stdout"
        }
      ]
    },
    {
      "cell_type": "code",
      "metadata": {
        "colab": {
          "base_uri": "https://localhost:8080/"
        },
        "id": "2OPFXh7nRHCF",
        "outputId": "45b340eb-3bf6-4fc6-b9ab-85024697c7c5"
      },
      "source": [
        "test_y.shape"
      ],
      "execution_count": null,
      "outputs": [
        {
          "output_type": "execute_result",
          "data": {
            "text/plain": [
              "(1353, 1)"
            ]
          },
          "metadata": {
            "tags": []
          },
          "execution_count": 71
        }
      ]
    },
    {
      "cell_type": "code",
      "metadata": {
        "colab": {
          "base_uri": "https://localhost:8080/",
          "height": 561
        },
        "id": "xnDtvjPTJha0",
        "outputId": "31e12ab0-17c9-4c2d-9a8e-31634e06e28e"
      },
      "source": [
        "te_no_per= np.round((test_y[\"PotentialFraud\"].value_counts()[0])/(test_y[\"PotentialFraud\"].value_counts()[0]+test_y[\"PotentialFraud\"].value_counts()[1]),3)\n",
        "\n",
        "te_yes_per= np.round((test_y[\"PotentialFraud\"].value_counts()[1])/(test_y[\"PotentialFraud\"].value_counts()[0]+test_y[\"PotentialFraud\"].value_counts()[1]),3)\n",
        "\n",
        "plt.bar([\"No\",\"Yes\"],[te_no_per,te_yes_per])\n",
        "\n",
        "plt.ylabel(\"Number of Providers\")\n",
        "plt.title(\"Distribution of the Test_y Data Labels\")\n",
        "\n",
        "plt.show()"
      ],
      "execution_count": null,
      "outputs": [
        {
          "output_type": "error",
          "ename": "KeyError",
          "evalue": "ignored",
          "traceback": [
            "\u001b[0;31m---------------------------------------------------------------------------\u001b[0m",
            "\u001b[0;31mKeyError\u001b[0m                                  Traceback (most recent call last)",
            "\u001b[0;32m/usr/local/lib/python3.7/dist-packages/pandas/core/indexes/base.py\u001b[0m in \u001b[0;36mget_loc\u001b[0;34m(self, key, method, tolerance)\u001b[0m\n\u001b[1;32m   2897\u001b[0m             \u001b[0;32mtry\u001b[0m\u001b[0;34m:\u001b[0m\u001b[0;34m\u001b[0m\u001b[0;34m\u001b[0m\u001b[0m\n\u001b[0;32m-> 2898\u001b[0;31m                 \u001b[0;32mreturn\u001b[0m \u001b[0mself\u001b[0m\u001b[0;34m.\u001b[0m\u001b[0m_engine\u001b[0m\u001b[0;34m.\u001b[0m\u001b[0mget_loc\u001b[0m\u001b[0;34m(\u001b[0m\u001b[0mcasted_key\u001b[0m\u001b[0;34m)\u001b[0m\u001b[0;34m\u001b[0m\u001b[0;34m\u001b[0m\u001b[0m\n\u001b[0m\u001b[1;32m   2899\u001b[0m             \u001b[0;32mexcept\u001b[0m \u001b[0mKeyError\u001b[0m \u001b[0;32mas\u001b[0m \u001b[0merr\u001b[0m\u001b[0;34m:\u001b[0m\u001b[0;34m\u001b[0m\u001b[0;34m\u001b[0m\u001b[0m\n",
            "\u001b[0;32mpandas/_libs/index.pyx\u001b[0m in \u001b[0;36mpandas._libs.index.IndexEngine.get_loc\u001b[0;34m()\u001b[0m\n",
            "\u001b[0;32mpandas/_libs/index.pyx\u001b[0m in \u001b[0;36mpandas._libs.index.IndexEngine.get_loc\u001b[0;34m()\u001b[0m\n",
            "\u001b[0;32mpandas/_libs/hashtable_class_helper.pxi\u001b[0m in \u001b[0;36mpandas._libs.hashtable.PyObjectHashTable.get_item\u001b[0;34m()\u001b[0m\n",
            "\u001b[0;32mpandas/_libs/hashtable_class_helper.pxi\u001b[0m in \u001b[0;36mpandas._libs.hashtable.PyObjectHashTable.get_item\u001b[0;34m()\u001b[0m\n",
            "\u001b[0;31mKeyError\u001b[0m: 'PotentialFraud'",
            "\nThe above exception was the direct cause of the following exception:\n",
            "\u001b[0;31mKeyError\u001b[0m                                  Traceback (most recent call last)",
            "\u001b[0;32m<ipython-input-69-9d0d4c7e0d37>\u001b[0m in \u001b[0;36m<module>\u001b[0;34m()\u001b[0m\n\u001b[0;32m----> 1\u001b[0;31m \u001b[0mte_no_per\u001b[0m\u001b[0;34m=\u001b[0m \u001b[0mnp\u001b[0m\u001b[0;34m.\u001b[0m\u001b[0mround\u001b[0m\u001b[0;34m(\u001b[0m\u001b[0;34m(\u001b[0m\u001b[0mtest_y\u001b[0m\u001b[0;34m[\u001b[0m\u001b[0;34m\"PotentialFraud\"\u001b[0m\u001b[0;34m]\u001b[0m\u001b[0;34m.\u001b[0m\u001b[0mvalue_counts\u001b[0m\u001b[0;34m(\u001b[0m\u001b[0;34m)\u001b[0m\u001b[0;34m[\u001b[0m\u001b[0;36m0\u001b[0m\u001b[0;34m]\u001b[0m\u001b[0;34m)\u001b[0m\u001b[0;34m/\u001b[0m\u001b[0;34m(\u001b[0m\u001b[0mtest_y\u001b[0m\u001b[0;34m[\u001b[0m\u001b[0;34m\"PotentialFraud\"\u001b[0m\u001b[0;34m]\u001b[0m\u001b[0;34m.\u001b[0m\u001b[0mvalue_counts\u001b[0m\u001b[0;34m(\u001b[0m\u001b[0;34m)\u001b[0m\u001b[0;34m[\u001b[0m\u001b[0;36m0\u001b[0m\u001b[0;34m]\u001b[0m\u001b[0;34m+\u001b[0m\u001b[0mtest_y\u001b[0m\u001b[0;34m[\u001b[0m\u001b[0;34m\"PotentialFraud\"\u001b[0m\u001b[0;34m]\u001b[0m\u001b[0;34m.\u001b[0m\u001b[0mvalue_counts\u001b[0m\u001b[0;34m(\u001b[0m\u001b[0;34m)\u001b[0m\u001b[0;34m[\u001b[0m\u001b[0;36m1\u001b[0m\u001b[0;34m]\u001b[0m\u001b[0;34m)\u001b[0m\u001b[0;34m,\u001b[0m\u001b[0;36m3\u001b[0m\u001b[0;34m)\u001b[0m\u001b[0;34m\u001b[0m\u001b[0;34m\u001b[0m\u001b[0m\n\u001b[0m\u001b[1;32m      2\u001b[0m \u001b[0;34m\u001b[0m\u001b[0m\n\u001b[1;32m      3\u001b[0m \u001b[0mte_yes_per\u001b[0m\u001b[0;34m=\u001b[0m \u001b[0mnp\u001b[0m\u001b[0;34m.\u001b[0m\u001b[0mround\u001b[0m\u001b[0;34m(\u001b[0m\u001b[0;34m(\u001b[0m\u001b[0mtest_y\u001b[0m\u001b[0;34m[\u001b[0m\u001b[0;34m\"PotentialFraud\"\u001b[0m\u001b[0;34m]\u001b[0m\u001b[0;34m.\u001b[0m\u001b[0mvalue_counts\u001b[0m\u001b[0;34m(\u001b[0m\u001b[0;34m)\u001b[0m\u001b[0;34m[\u001b[0m\u001b[0;36m1\u001b[0m\u001b[0;34m]\u001b[0m\u001b[0;34m)\u001b[0m\u001b[0;34m/\u001b[0m\u001b[0;34m(\u001b[0m\u001b[0mtest_y\u001b[0m\u001b[0;34m[\u001b[0m\u001b[0;34m\"PotentialFraud\"\u001b[0m\u001b[0;34m]\u001b[0m\u001b[0;34m.\u001b[0m\u001b[0mvalue_counts\u001b[0m\u001b[0;34m(\u001b[0m\u001b[0;34m)\u001b[0m\u001b[0;34m[\u001b[0m\u001b[0;36m0\u001b[0m\u001b[0;34m]\u001b[0m\u001b[0;34m+\u001b[0m\u001b[0mtest_y\u001b[0m\u001b[0;34m[\u001b[0m\u001b[0;34m\"PotentialFraud\"\u001b[0m\u001b[0;34m]\u001b[0m\u001b[0;34m.\u001b[0m\u001b[0mvalue_counts\u001b[0m\u001b[0;34m(\u001b[0m\u001b[0;34m)\u001b[0m\u001b[0;34m[\u001b[0m\u001b[0;36m1\u001b[0m\u001b[0;34m]\u001b[0m\u001b[0;34m)\u001b[0m\u001b[0;34m,\u001b[0m\u001b[0;36m3\u001b[0m\u001b[0;34m)\u001b[0m\u001b[0;34m\u001b[0m\u001b[0;34m\u001b[0m\u001b[0m\n\u001b[1;32m      4\u001b[0m \u001b[0;34m\u001b[0m\u001b[0m\n\u001b[1;32m      5\u001b[0m \u001b[0mplt\u001b[0m\u001b[0;34m.\u001b[0m\u001b[0mbar\u001b[0m\u001b[0;34m(\u001b[0m\u001b[0;34m[\u001b[0m\u001b[0;34m\"No\"\u001b[0m\u001b[0;34m,\u001b[0m\u001b[0;34m\"Yes\"\u001b[0m\u001b[0;34m]\u001b[0m\u001b[0;34m,\u001b[0m\u001b[0;34m[\u001b[0m\u001b[0mte_no_per\u001b[0m\u001b[0;34m,\u001b[0m\u001b[0mte_yes_per\u001b[0m\u001b[0;34m]\u001b[0m\u001b[0;34m)\u001b[0m\u001b[0;34m\u001b[0m\u001b[0;34m\u001b[0m\u001b[0m\n",
            "\u001b[0;32m/usr/local/lib/python3.7/dist-packages/pandas/core/frame.py\u001b[0m in \u001b[0;36m__getitem__\u001b[0;34m(self, key)\u001b[0m\n\u001b[1;32m   2904\u001b[0m             \u001b[0;32mif\u001b[0m \u001b[0mself\u001b[0m\u001b[0;34m.\u001b[0m\u001b[0mcolumns\u001b[0m\u001b[0;34m.\u001b[0m\u001b[0mnlevels\u001b[0m \u001b[0;34m>\u001b[0m \u001b[0;36m1\u001b[0m\u001b[0;34m:\u001b[0m\u001b[0;34m\u001b[0m\u001b[0;34m\u001b[0m\u001b[0m\n\u001b[1;32m   2905\u001b[0m                 \u001b[0;32mreturn\u001b[0m \u001b[0mself\u001b[0m\u001b[0;34m.\u001b[0m\u001b[0m_getitem_multilevel\u001b[0m\u001b[0;34m(\u001b[0m\u001b[0mkey\u001b[0m\u001b[0;34m)\u001b[0m\u001b[0;34m\u001b[0m\u001b[0;34m\u001b[0m\u001b[0m\n\u001b[0;32m-> 2906\u001b[0;31m             \u001b[0mindexer\u001b[0m \u001b[0;34m=\u001b[0m \u001b[0mself\u001b[0m\u001b[0;34m.\u001b[0m\u001b[0mcolumns\u001b[0m\u001b[0;34m.\u001b[0m\u001b[0mget_loc\u001b[0m\u001b[0;34m(\u001b[0m\u001b[0mkey\u001b[0m\u001b[0;34m)\u001b[0m\u001b[0;34m\u001b[0m\u001b[0;34m\u001b[0m\u001b[0m\n\u001b[0m\u001b[1;32m   2907\u001b[0m             \u001b[0;32mif\u001b[0m \u001b[0mis_integer\u001b[0m\u001b[0;34m(\u001b[0m\u001b[0mindexer\u001b[0m\u001b[0;34m)\u001b[0m\u001b[0;34m:\u001b[0m\u001b[0;34m\u001b[0m\u001b[0;34m\u001b[0m\u001b[0m\n\u001b[1;32m   2908\u001b[0m                 \u001b[0mindexer\u001b[0m \u001b[0;34m=\u001b[0m \u001b[0;34m[\u001b[0m\u001b[0mindexer\u001b[0m\u001b[0;34m]\u001b[0m\u001b[0;34m\u001b[0m\u001b[0;34m\u001b[0m\u001b[0m\n",
            "\u001b[0;32m/usr/local/lib/python3.7/dist-packages/pandas/core/indexes/base.py\u001b[0m in \u001b[0;36mget_loc\u001b[0;34m(self, key, method, tolerance)\u001b[0m\n\u001b[1;32m   2898\u001b[0m                 \u001b[0;32mreturn\u001b[0m \u001b[0mself\u001b[0m\u001b[0;34m.\u001b[0m\u001b[0m_engine\u001b[0m\u001b[0;34m.\u001b[0m\u001b[0mget_loc\u001b[0m\u001b[0;34m(\u001b[0m\u001b[0mcasted_key\u001b[0m\u001b[0;34m)\u001b[0m\u001b[0;34m\u001b[0m\u001b[0;34m\u001b[0m\u001b[0m\n\u001b[1;32m   2899\u001b[0m             \u001b[0;32mexcept\u001b[0m \u001b[0mKeyError\u001b[0m \u001b[0;32mas\u001b[0m \u001b[0merr\u001b[0m\u001b[0;34m:\u001b[0m\u001b[0;34m\u001b[0m\u001b[0;34m\u001b[0m\u001b[0m\n\u001b[0;32m-> 2900\u001b[0;31m                 \u001b[0;32mraise\u001b[0m \u001b[0mKeyError\u001b[0m\u001b[0;34m(\u001b[0m\u001b[0mkey\u001b[0m\u001b[0;34m)\u001b[0m \u001b[0;32mfrom\u001b[0m \u001b[0merr\u001b[0m\u001b[0;34m\u001b[0m\u001b[0;34m\u001b[0m\u001b[0m\n\u001b[0m\u001b[1;32m   2901\u001b[0m \u001b[0;34m\u001b[0m\u001b[0m\n\u001b[1;32m   2902\u001b[0m         \u001b[0;32mif\u001b[0m \u001b[0mtolerance\u001b[0m \u001b[0;32mis\u001b[0m \u001b[0;32mnot\u001b[0m \u001b[0;32mNone\u001b[0m\u001b[0;34m:\u001b[0m\u001b[0;34m\u001b[0m\u001b[0;34m\u001b[0m\u001b[0m\n",
            "\u001b[0;31mKeyError\u001b[0m: 'PotentialFraud'"
          ]
        }
      ]
    },
    {
      "cell_type": "code",
      "metadata": {
        "id": "QUPhjb4-hW4p"
      },
      "source": [
        "train_inpat['class']= np.zeros(len(train_inpat[\"Provider\"]))"
      ],
      "execution_count": null,
      "outputs": []
    },
    {
      "cell_type": "code",
      "metadata": {
        "colab": {
          "base_uri": "https://localhost:8080/",
          "height": 35
        },
        "id": "6zpgX-gGiLGV",
        "outputId": "eab7f484-dbc6-4ca7-bdc9-b35ec75b8a71"
      },
      "source": [
        "train_y['Provider'][9]"
      ],
      "execution_count": null,
      "outputs": [
        {
          "output_type": "execute_result",
          "data": {
            "application/vnd.google.colaboratory.intrinsic+json": {
              "type": "string"
            },
            "text/plain": [
              "'PRV51014'"
            ]
          },
          "metadata": {
            "tags": []
          },
          "execution_count": 81
        }
      ]
    },
    {
      "cell_type": "code",
      "metadata": {
        "colab": {
          "base_uri": "https://localhost:8080/"
        },
        "id": "T7nZ-JZMiTua",
        "outputId": "1e25e524-134c-41ed-f021-29e9e43144ba"
      },
      "source": [
        "np.where(train_inpat['Provider']== 'PRV51014')"
      ],
      "execution_count": null,
      "outputs": [
        {
          "output_type": "execute_result",
          "data": {
            "text/plain": [
              "(array([], dtype=int64),)"
            ]
          },
          "metadata": {
            "tags": []
          },
          "execution_count": 82
        }
      ]
    },
    {
      "cell_type": "code",
      "metadata": {
        "colab": {
          "base_uri": "https://localhost:8080/",
          "height": 680
        },
        "id": "4aQxuQcvRAY4",
        "outputId": "148946a4-d1bd-4311-cabc-944477dd6357"
      },
      "source": [
        "for p in range(len(train_y['Provider'])):\n",
        "    train_inpat['class'][p]= np.where(train_inpat[\"Provider\"]== train_y['Provider'][p],train_y['PotentialFraud'][p],'NAN')\n",
        "\n",
        "print(train_inpat.head(3))"
      ],
      "execution_count": null,
      "outputs": [
        {
          "output_type": "stream",
          "text": [
            "/usr/local/lib/python3.7/dist-packages/ipykernel_launcher.py:2: SettingWithCopyWarning: \n",
            "A value is trying to be set on a copy of a slice from a DataFrame\n",
            "\n",
            "See the caveats in the documentation: https://pandas.pydata.org/pandas-docs/stable/user_guide/indexing.html#returning-a-view-versus-a-copy\n",
            "  \n",
            "/usr/local/lib/python3.7/dist-packages/pandas/core/indexing.py:670: SettingWithCopyWarning: \n",
            "A value is trying to be set on a copy of a slice from a DataFrame\n",
            "\n",
            "See the caveats in the documentation: https://pandas.pydata.org/pandas-docs/stable/user_guide/indexing.html#returning-a-view-versus-a-copy\n",
            "  iloc._setitem_with_indexer(indexer, value)\n"
          ],
          "name": "stderr"
        },
        {
          "output_type": "error",
          "ename": "ValueError",
          "evalue": "ignored",
          "traceback": [
            "\u001b[0;31m---------------------------------------------------------------------------\u001b[0m",
            "\u001b[0;31mTypeError\u001b[0m                                 Traceback (most recent call last)",
            "\u001b[0;31mTypeError\u001b[0m: only size-1 arrays can be converted to Python scalars",
            "\nThe above exception was the direct cause of the following exception:\n",
            "\u001b[0;31mValueError\u001b[0m                                Traceback (most recent call last)",
            "\u001b[0;32m/usr/local/lib/python3.7/dist-packages/pandas/core/series.py\u001b[0m in \u001b[0;36m__setitem__\u001b[0;34m(self, key, value)\u001b[0m\n\u001b[1;32m   1000\u001b[0m         \u001b[0;32mtry\u001b[0m\u001b[0;34m:\u001b[0m\u001b[0;34m\u001b[0m\u001b[0;34m\u001b[0m\u001b[0m\n\u001b[0;32m-> 1001\u001b[0;31m             \u001b[0mself\u001b[0m\u001b[0;34m.\u001b[0m\u001b[0m_set_with_engine\u001b[0m\u001b[0;34m(\u001b[0m\u001b[0mkey\u001b[0m\u001b[0;34m,\u001b[0m \u001b[0mvalue\u001b[0m\u001b[0;34m)\u001b[0m\u001b[0;34m\u001b[0m\u001b[0;34m\u001b[0m\u001b[0m\n\u001b[0m\u001b[1;32m   1002\u001b[0m         \u001b[0;32mexcept\u001b[0m \u001b[0;34m(\u001b[0m\u001b[0mKeyError\u001b[0m\u001b[0;34m,\u001b[0m \u001b[0mValueError\u001b[0m\u001b[0;34m)\u001b[0m\u001b[0;34m:\u001b[0m\u001b[0;34m\u001b[0m\u001b[0;34m\u001b[0m\u001b[0m\n",
            "\u001b[0;32m/usr/local/lib/python3.7/dist-packages/pandas/core/series.py\u001b[0m in \u001b[0;36m_set_with_engine\u001b[0;34m(self, key, value)\u001b[0m\n\u001b[1;32m   1035\u001b[0m         \u001b[0mvalidate_numeric_casting\u001b[0m\u001b[0;34m(\u001b[0m\u001b[0mself\u001b[0m\u001b[0;34m.\u001b[0m\u001b[0mdtype\u001b[0m\u001b[0;34m,\u001b[0m \u001b[0mvalue\u001b[0m\u001b[0;34m)\u001b[0m\u001b[0;34m\u001b[0m\u001b[0;34m\u001b[0m\u001b[0m\n\u001b[0;32m-> 1036\u001b[0;31m         \u001b[0mself\u001b[0m\u001b[0;34m.\u001b[0m\u001b[0m_values\u001b[0m\u001b[0;34m[\u001b[0m\u001b[0mloc\u001b[0m\u001b[0;34m]\u001b[0m \u001b[0;34m=\u001b[0m \u001b[0mvalue\u001b[0m\u001b[0;34m\u001b[0m\u001b[0;34m\u001b[0m\u001b[0m\n\u001b[0m\u001b[1;32m   1037\u001b[0m \u001b[0;34m\u001b[0m\u001b[0m\n",
            "\u001b[0;31mValueError\u001b[0m: setting an array element with a sequence.",
            "\nDuring handling of the above exception, another exception occurred:\n",
            "\u001b[0;31mValueError\u001b[0m                                Traceback (most recent call last)",
            "\u001b[0;32m<ipython-input-80-23035c83bd2c>\u001b[0m in \u001b[0;36m<module>\u001b[0;34m()\u001b[0m\n\u001b[1;32m      1\u001b[0m \u001b[0;32mfor\u001b[0m \u001b[0mp\u001b[0m \u001b[0;32min\u001b[0m \u001b[0mrange\u001b[0m\u001b[0;34m(\u001b[0m\u001b[0mlen\u001b[0m\u001b[0;34m(\u001b[0m\u001b[0mtrain_y\u001b[0m\u001b[0;34m[\u001b[0m\u001b[0;34m'Provider'\u001b[0m\u001b[0;34m]\u001b[0m\u001b[0;34m)\u001b[0m\u001b[0;34m)\u001b[0m\u001b[0;34m:\u001b[0m\u001b[0;34m\u001b[0m\u001b[0;34m\u001b[0m\u001b[0m\n\u001b[0;32m----> 2\u001b[0;31m     \u001b[0mtrain_inpat\u001b[0m\u001b[0;34m[\u001b[0m\u001b[0;34m'class'\u001b[0m\u001b[0;34m]\u001b[0m\u001b[0;34m[\u001b[0m\u001b[0mp\u001b[0m\u001b[0;34m]\u001b[0m\u001b[0;34m=\u001b[0m \u001b[0mnp\u001b[0m\u001b[0;34m.\u001b[0m\u001b[0mwhere\u001b[0m\u001b[0;34m(\u001b[0m\u001b[0mtrain_inpat\u001b[0m\u001b[0;34m[\u001b[0m\u001b[0;34m\"Provider\"\u001b[0m\u001b[0;34m]\u001b[0m\u001b[0;34m==\u001b[0m \u001b[0mtrain_y\u001b[0m\u001b[0;34m[\u001b[0m\u001b[0;34m'Provider'\u001b[0m\u001b[0;34m]\u001b[0m\u001b[0;34m[\u001b[0m\u001b[0mp\u001b[0m\u001b[0;34m]\u001b[0m\u001b[0;34m,\u001b[0m\u001b[0mtrain_y\u001b[0m\u001b[0;34m[\u001b[0m\u001b[0;34m'PotentialFraud'\u001b[0m\u001b[0;34m]\u001b[0m\u001b[0;34m[\u001b[0m\u001b[0mp\u001b[0m\u001b[0;34m]\u001b[0m\u001b[0;34m,\u001b[0m\u001b[0;34m'NAN'\u001b[0m\u001b[0;34m)\u001b[0m\u001b[0;34m\u001b[0m\u001b[0;34m\u001b[0m\u001b[0m\n\u001b[0m\u001b[1;32m      3\u001b[0m \u001b[0;34m\u001b[0m\u001b[0m\n\u001b[1;32m      4\u001b[0m \u001b[0mprint\u001b[0m\u001b[0;34m(\u001b[0m\u001b[0mtrain_inpat\u001b[0m\u001b[0;34m.\u001b[0m\u001b[0mhead\u001b[0m\u001b[0;34m(\u001b[0m\u001b[0;36m3\u001b[0m\u001b[0;34m)\u001b[0m\u001b[0;34m)\u001b[0m\u001b[0;34m\u001b[0m\u001b[0;34m\u001b[0m\u001b[0m\n",
            "\u001b[0;32m/usr/local/lib/python3.7/dist-packages/pandas/core/series.py\u001b[0m in \u001b[0;36m__setitem__\u001b[0;34m(self, key, value)\u001b[0m\n\u001b[1;32m   1007\u001b[0m             \u001b[0;32melse\u001b[0m\u001b[0;34m:\u001b[0m\u001b[0;34m\u001b[0m\u001b[0;34m\u001b[0m\u001b[0m\n\u001b[1;32m   1008\u001b[0m                 \u001b[0;31m# GH#12862 adding an new key to the Series\u001b[0m\u001b[0;34m\u001b[0m\u001b[0;34m\u001b[0m\u001b[0;34m\u001b[0m\u001b[0m\n\u001b[0;32m-> 1009\u001b[0;31m                 \u001b[0mself\u001b[0m\u001b[0;34m.\u001b[0m\u001b[0mloc\u001b[0m\u001b[0;34m[\u001b[0m\u001b[0mkey\u001b[0m\u001b[0;34m]\u001b[0m \u001b[0;34m=\u001b[0m \u001b[0mvalue\u001b[0m\u001b[0;34m\u001b[0m\u001b[0;34m\u001b[0m\u001b[0m\n\u001b[0m\u001b[1;32m   1010\u001b[0m \u001b[0;34m\u001b[0m\u001b[0m\n\u001b[1;32m   1011\u001b[0m         \u001b[0;32mexcept\u001b[0m \u001b[0mTypeError\u001b[0m \u001b[0;32mas\u001b[0m \u001b[0merr\u001b[0m\u001b[0;34m:\u001b[0m\u001b[0;34m\u001b[0m\u001b[0;34m\u001b[0m\u001b[0m\n",
            "\u001b[0;32m/usr/local/lib/python3.7/dist-packages/pandas/core/indexing.py\u001b[0m in \u001b[0;36m__setitem__\u001b[0;34m(self, key, value)\u001b[0m\n\u001b[1;32m    668\u001b[0m \u001b[0;34m\u001b[0m\u001b[0m\n\u001b[1;32m    669\u001b[0m         \u001b[0miloc\u001b[0m \u001b[0;34m=\u001b[0m \u001b[0mself\u001b[0m \u001b[0;32mif\u001b[0m \u001b[0mself\u001b[0m\u001b[0;34m.\u001b[0m\u001b[0mname\u001b[0m \u001b[0;34m==\u001b[0m \u001b[0;34m\"iloc\"\u001b[0m \u001b[0;32melse\u001b[0m \u001b[0mself\u001b[0m\u001b[0;34m.\u001b[0m\u001b[0mobj\u001b[0m\u001b[0;34m.\u001b[0m\u001b[0miloc\u001b[0m\u001b[0;34m\u001b[0m\u001b[0;34m\u001b[0m\u001b[0m\n\u001b[0;32m--> 670\u001b[0;31m         \u001b[0miloc\u001b[0m\u001b[0;34m.\u001b[0m\u001b[0m_setitem_with_indexer\u001b[0m\u001b[0;34m(\u001b[0m\u001b[0mindexer\u001b[0m\u001b[0;34m,\u001b[0m \u001b[0mvalue\u001b[0m\u001b[0;34m)\u001b[0m\u001b[0;34m\u001b[0m\u001b[0;34m\u001b[0m\u001b[0m\n\u001b[0m\u001b[1;32m    671\u001b[0m \u001b[0;34m\u001b[0m\u001b[0m\n\u001b[1;32m    672\u001b[0m     \u001b[0;32mdef\u001b[0m \u001b[0m_validate_key\u001b[0m\u001b[0;34m(\u001b[0m\u001b[0mself\u001b[0m\u001b[0;34m,\u001b[0m \u001b[0mkey\u001b[0m\u001b[0;34m,\u001b[0m \u001b[0maxis\u001b[0m\u001b[0;34m:\u001b[0m \u001b[0mint\u001b[0m\u001b[0;34m)\u001b[0m\u001b[0;34m:\u001b[0m\u001b[0;34m\u001b[0m\u001b[0;34m\u001b[0m\u001b[0m\n",
            "\u001b[0;32m/usr/local/lib/python3.7/dist-packages/pandas/core/indexing.py\u001b[0m in \u001b[0;36m_setitem_with_indexer\u001b[0;34m(self, indexer, value)\u001b[0m\n\u001b[1;32m   1798\u001b[0m             \u001b[0;31m# actually do the set\u001b[0m\u001b[0;34m\u001b[0m\u001b[0;34m\u001b[0m\u001b[0;34m\u001b[0m\u001b[0m\n\u001b[1;32m   1799\u001b[0m             \u001b[0mself\u001b[0m\u001b[0;34m.\u001b[0m\u001b[0mobj\u001b[0m\u001b[0;34m.\u001b[0m\u001b[0m_consolidate_inplace\u001b[0m\u001b[0;34m(\u001b[0m\u001b[0;34m)\u001b[0m\u001b[0;34m\u001b[0m\u001b[0;34m\u001b[0m\u001b[0m\n\u001b[0;32m-> 1800\u001b[0;31m             \u001b[0mself\u001b[0m\u001b[0;34m.\u001b[0m\u001b[0mobj\u001b[0m\u001b[0;34m.\u001b[0m\u001b[0m_mgr\u001b[0m \u001b[0;34m=\u001b[0m \u001b[0mself\u001b[0m\u001b[0;34m.\u001b[0m\u001b[0mobj\u001b[0m\u001b[0;34m.\u001b[0m\u001b[0m_mgr\u001b[0m\u001b[0;34m.\u001b[0m\u001b[0msetitem\u001b[0m\u001b[0;34m(\u001b[0m\u001b[0mindexer\u001b[0m\u001b[0;34m=\u001b[0m\u001b[0mindexer\u001b[0m\u001b[0;34m,\u001b[0m \u001b[0mvalue\u001b[0m\u001b[0;34m=\u001b[0m\u001b[0mvalue\u001b[0m\u001b[0;34m)\u001b[0m\u001b[0;34m\u001b[0m\u001b[0;34m\u001b[0m\u001b[0m\n\u001b[0m\u001b[1;32m   1801\u001b[0m             \u001b[0mself\u001b[0m\u001b[0;34m.\u001b[0m\u001b[0mobj\u001b[0m\u001b[0;34m.\u001b[0m\u001b[0m_maybe_update_cacher\u001b[0m\u001b[0;34m(\u001b[0m\u001b[0mclear\u001b[0m\u001b[0;34m=\u001b[0m\u001b[0;32mTrue\u001b[0m\u001b[0;34m)\u001b[0m\u001b[0;34m\u001b[0m\u001b[0;34m\u001b[0m\u001b[0m\n\u001b[1;32m   1802\u001b[0m \u001b[0;34m\u001b[0m\u001b[0m\n",
            "\u001b[0;32m/usr/local/lib/python3.7/dist-packages/pandas/core/internals/managers.py\u001b[0m in \u001b[0;36msetitem\u001b[0;34m(self, indexer, value)\u001b[0m\n\u001b[1;32m    541\u001b[0m \u001b[0;34m\u001b[0m\u001b[0m\n\u001b[1;32m    542\u001b[0m     \u001b[0;32mdef\u001b[0m \u001b[0msetitem\u001b[0m\u001b[0;34m(\u001b[0m\u001b[0mself\u001b[0m\u001b[0;34m,\u001b[0m \u001b[0mindexer\u001b[0m\u001b[0;34m,\u001b[0m \u001b[0mvalue\u001b[0m\u001b[0;34m)\u001b[0m \u001b[0;34m->\u001b[0m \u001b[0;34m\"BlockManager\"\u001b[0m\u001b[0;34m:\u001b[0m\u001b[0;34m\u001b[0m\u001b[0;34m\u001b[0m\u001b[0m\n\u001b[0;32m--> 543\u001b[0;31m         \u001b[0;32mreturn\u001b[0m \u001b[0mself\u001b[0m\u001b[0;34m.\u001b[0m\u001b[0mapply\u001b[0m\u001b[0;34m(\u001b[0m\u001b[0;34m\"setitem\"\u001b[0m\u001b[0;34m,\u001b[0m \u001b[0mindexer\u001b[0m\u001b[0;34m=\u001b[0m\u001b[0mindexer\u001b[0m\u001b[0;34m,\u001b[0m \u001b[0mvalue\u001b[0m\u001b[0;34m=\u001b[0m\u001b[0mvalue\u001b[0m\u001b[0;34m)\u001b[0m\u001b[0;34m\u001b[0m\u001b[0;34m\u001b[0m\u001b[0m\n\u001b[0m\u001b[1;32m    544\u001b[0m \u001b[0;34m\u001b[0m\u001b[0m\n\u001b[1;32m    545\u001b[0m     def putmask(\n",
            "\u001b[0;32m/usr/local/lib/python3.7/dist-packages/pandas/core/internals/managers.py\u001b[0m in \u001b[0;36mapply\u001b[0;34m(self, f, align_keys, **kwargs)\u001b[0m\n\u001b[1;32m    407\u001b[0m                 \u001b[0mapplied\u001b[0m \u001b[0;34m=\u001b[0m \u001b[0mb\u001b[0m\u001b[0;34m.\u001b[0m\u001b[0mapply\u001b[0m\u001b[0;34m(\u001b[0m\u001b[0mf\u001b[0m\u001b[0;34m,\u001b[0m \u001b[0;34m**\u001b[0m\u001b[0mkwargs\u001b[0m\u001b[0;34m)\u001b[0m\u001b[0;34m\u001b[0m\u001b[0;34m\u001b[0m\u001b[0m\n\u001b[1;32m    408\u001b[0m             \u001b[0;32melse\u001b[0m\u001b[0;34m:\u001b[0m\u001b[0;34m\u001b[0m\u001b[0;34m\u001b[0m\u001b[0m\n\u001b[0;32m--> 409\u001b[0;31m                 \u001b[0mapplied\u001b[0m \u001b[0;34m=\u001b[0m \u001b[0mgetattr\u001b[0m\u001b[0;34m(\u001b[0m\u001b[0mb\u001b[0m\u001b[0;34m,\u001b[0m \u001b[0mf\u001b[0m\u001b[0;34m)\u001b[0m\u001b[0;34m(\u001b[0m\u001b[0;34m**\u001b[0m\u001b[0mkwargs\u001b[0m\u001b[0;34m)\u001b[0m\u001b[0;34m\u001b[0m\u001b[0;34m\u001b[0m\u001b[0m\n\u001b[0m\u001b[1;32m    410\u001b[0m             \u001b[0mresult_blocks\u001b[0m \u001b[0;34m=\u001b[0m \u001b[0m_extend_blocks\u001b[0m\u001b[0;34m(\u001b[0m\u001b[0mapplied\u001b[0m\u001b[0;34m,\u001b[0m \u001b[0mresult_blocks\u001b[0m\u001b[0;34m)\u001b[0m\u001b[0;34m\u001b[0m\u001b[0;34m\u001b[0m\u001b[0m\n\u001b[1;32m    411\u001b[0m \u001b[0;34m\u001b[0m\u001b[0m\n",
            "\u001b[0;32m/usr/local/lib/python3.7/dist-packages/pandas/core/internals/blocks.py\u001b[0m in \u001b[0;36msetitem\u001b[0;34m(self, indexer, value)\u001b[0m\n\u001b[1;32m    837\u001b[0m             \u001b[0;31m# otherwise should have _can_hold_element\u001b[0m\u001b[0;34m\u001b[0m\u001b[0;34m\u001b[0m\u001b[0;34m\u001b[0m\u001b[0m\n\u001b[1;32m    838\u001b[0m \u001b[0;34m\u001b[0m\u001b[0m\n\u001b[0;32m--> 839\u001b[0;31m             \u001b[0;32mreturn\u001b[0m \u001b[0mself\u001b[0m\u001b[0;34m.\u001b[0m\u001b[0mastype\u001b[0m\u001b[0;34m(\u001b[0m\u001b[0mdtype\u001b[0m\u001b[0;34m)\u001b[0m\u001b[0;34m.\u001b[0m\u001b[0msetitem\u001b[0m\u001b[0;34m(\u001b[0m\u001b[0mindexer\u001b[0m\u001b[0;34m,\u001b[0m \u001b[0mvalue\u001b[0m\u001b[0;34m)\u001b[0m\u001b[0;34m\u001b[0m\u001b[0;34m\u001b[0m\u001b[0m\n\u001b[0m\u001b[1;32m    840\u001b[0m \u001b[0;34m\u001b[0m\u001b[0m\n\u001b[1;32m    841\u001b[0m         \u001b[0;31m# value must be storable at this moment\u001b[0m\u001b[0;34m\u001b[0m\u001b[0;34m\u001b[0m\u001b[0;34m\u001b[0m\u001b[0m\n",
            "\u001b[0;32m/usr/local/lib/python3.7/dist-packages/pandas/core/internals/blocks.py\u001b[0m in \u001b[0;36msetitem\u001b[0;34m(self, indexer, value)\u001b[0m\n\u001b[1;32m    885\u001b[0m             \u001b[0mvalues\u001b[0m\u001b[0;34m[\u001b[0m\u001b[0mindexer\u001b[0m\u001b[0;34m]\u001b[0m \u001b[0;34m=\u001b[0m \u001b[0mvalue\u001b[0m\u001b[0;34m\u001b[0m\u001b[0;34m\u001b[0m\u001b[0m\n\u001b[1;32m    886\u001b[0m \u001b[0;34m\u001b[0m\u001b[0m\n\u001b[0;32m--> 887\u001b[0;31m             \u001b[0mvalues\u001b[0m \u001b[0;34m=\u001b[0m \u001b[0mvalues\u001b[0m\u001b[0;34m.\u001b[0m\u001b[0mastype\u001b[0m\u001b[0;34m(\u001b[0m\u001b[0marr_value\u001b[0m\u001b[0;34m.\u001b[0m\u001b[0mdtype\u001b[0m\u001b[0;34m,\u001b[0m \u001b[0mcopy\u001b[0m\u001b[0;34m=\u001b[0m\u001b[0;32mFalse\u001b[0m\u001b[0;34m)\u001b[0m\u001b[0;34m\u001b[0m\u001b[0;34m\u001b[0m\u001b[0m\n\u001b[0m\u001b[1;32m    888\u001b[0m \u001b[0;34m\u001b[0m\u001b[0m\n\u001b[1;32m    889\u001b[0m         \u001b[0;31m# set\u001b[0m\u001b[0;34m\u001b[0m\u001b[0;34m\u001b[0m\u001b[0;34m\u001b[0m\u001b[0m\n",
            "\u001b[0;31mValueError\u001b[0m: setting an array element with a sequence"
          ]
        }
      ]
    },
    {
      "cell_type": "markdown",
      "metadata": {
        "id": "UYcAiukwG_xE"
      },
      "source": [
        "**Mapping the Class of each of the Providers with the Providers in the Inpatient Data**"
      ]
    },
    {
      "cell_type": "code",
      "metadata": {
        "colab": {
          "base_uri": "https://localhost:8080/"
        },
        "id": "zuWAlOTahD7g",
        "outputId": "b83a1733-5af4-42c1-f510-9dc1892bb5cf"
      },
      "source": [
        "for p1 in tqdm(range(len(train_inpat[\"Provider\"]))):\n",
        "    for p2 in range(len(train_y[\"Provider\"])):\n",
        "        if train_inpat[\"Provider\"][p1]== train_y[\"Provider\"][p2]:\n",
        "            train_inpat[\"class\"][p1]= train_y[\"PotentialFraud\"][p2]"
      ],
      "execution_count": null,
      "outputs": [
        {
          "output_type": "stream",
          "text": [
            "  0%|          | 0/40474 [00:00<?, ?it/s]/usr/local/lib/python3.7/dist-packages/ipykernel_launcher.py:4: SettingWithCopyWarning: \n",
            "A value is trying to be set on a copy of a slice from a DataFrame\n",
            "\n",
            "See the caveats in the documentation: https://pandas.pydata.org/pandas-docs/stable/user_guide/indexing.html#returning-a-view-versus-a-copy\n",
            "  after removing the cwd from sys.path.\n",
            "/usr/local/lib/python3.7/dist-packages/pandas/core/indexing.py:670: SettingWithCopyWarning: \n",
            "A value is trying to be set on a copy of a slice from a DataFrame\n",
            "\n",
            "See the caveats in the documentation: https://pandas.pydata.org/pandas-docs/stable/user_guide/indexing.html#returning-a-view-versus-a-copy\n",
            "  iloc._setitem_with_indexer(indexer, value)\n",
            "100%|██████████| 40474/40474 [50:30<00:00, 13.36it/s]\n"
          ],
          "name": "stderr"
        }
      ]
    },
    {
      "cell_type": "code",
      "metadata": {
        "id": "E5IkvWWxHW-8"
      },
      "source": [
        "with open('/content/drive/MyDrive/Colab Notebooks/train_inpatient_new.pkl','wb') as inp_new:\n",
        "    pickle.dump(train_inpat,inp_new)"
      ],
      "execution_count": null,
      "outputs": []
    },
    {
      "cell_type": "code",
      "metadata": {
        "id": "3-zw5fZ8JZoW"
      },
      "source": [
        "with open('/content/drive/MyDrive/Colab Notebooks/train_inpatient_new.pkl','rb') as inp_new:\n",
        "    tr_inpat_new= pickle.load(inp_new)"
      ],
      "execution_count": null,
      "outputs": []
    },
    {
      "cell_type": "code",
      "metadata": {
        "colab": {
          "base_uri": "https://localhost:8080/",
          "height": 204
        },
        "id": "Dahxw9eA5gAr",
        "outputId": "72029871-5193-4383-ca6c-4d890f6ba281"
      },
      "source": [
        "train_y.head()"
      ],
      "execution_count": null,
      "outputs": [
        {
          "output_type": "execute_result",
          "data": {
            "text/html": [
              "<div>\n",
              "<style scoped>\n",
              "    .dataframe tbody tr th:only-of-type {\n",
              "        vertical-align: middle;\n",
              "    }\n",
              "\n",
              "    .dataframe tbody tr th {\n",
              "        vertical-align: top;\n",
              "    }\n",
              "\n",
              "    .dataframe thead th {\n",
              "        text-align: right;\n",
              "    }\n",
              "</style>\n",
              "<table border=\"1\" class=\"dataframe\">\n",
              "  <thead>\n",
              "    <tr style=\"text-align: right;\">\n",
              "      <th></th>\n",
              "      <th>Provider</th>\n",
              "      <th>PotentialFraud</th>\n",
              "    </tr>\n",
              "  </thead>\n",
              "  <tbody>\n",
              "    <tr>\n",
              "      <th>0</th>\n",
              "      <td>PRV51001</td>\n",
              "      <td>No</td>\n",
              "    </tr>\n",
              "    <tr>\n",
              "      <th>1</th>\n",
              "      <td>PRV51003</td>\n",
              "      <td>Yes</td>\n",
              "    </tr>\n",
              "    <tr>\n",
              "      <th>2</th>\n",
              "      <td>PRV51004</td>\n",
              "      <td>No</td>\n",
              "    </tr>\n",
              "    <tr>\n",
              "      <th>3</th>\n",
              "      <td>PRV51005</td>\n",
              "      <td>Yes</td>\n",
              "    </tr>\n",
              "    <tr>\n",
              "      <th>4</th>\n",
              "      <td>PRV51007</td>\n",
              "      <td>No</td>\n",
              "    </tr>\n",
              "  </tbody>\n",
              "</table>\n",
              "</div>"
            ],
            "text/plain": [
              "   Provider PotentialFraud\n",
              "0  PRV51001             No\n",
              "1  PRV51003            Yes\n",
              "2  PRV51004             No\n",
              "3  PRV51005            Yes\n",
              "4  PRV51007             No"
            ]
          },
          "metadata": {
            "tags": []
          },
          "execution_count": 86
        }
      ]
    },
    {
      "cell_type": "code",
      "metadata": {
        "colab": {
          "base_uri": "https://localhost:8080/"
        },
        "id": "ndkwsqiwtuiB",
        "outputId": "c7071fe4-7107-4bc8-d786-5d598ec5a165"
      },
      "source": [
        "tr_inpat_new.shape"
      ],
      "execution_count": null,
      "outputs": [
        {
          "output_type": "execute_result",
          "data": {
            "text/plain": [
              "(40474, 31)"
            ]
          },
          "metadata": {
            "tags": []
          },
          "execution_count": 130
        }
      ]
    },
    {
      "cell_type": "code",
      "metadata": {
        "colab": {
          "base_uri": "https://localhost:8080/"
        },
        "id": "_yNeoBQdtJf8",
        "outputId": "f619d45c-b636-43b1-9c7c-15164bce9ed6"
      },
      "source": [
        "tr_inp_fin= pd.merge(train_inpat,train_y,how='outer',on= 'Provider')\n",
        "tr_inp_fin.shape"
      ],
      "execution_count": null,
      "outputs": [
        {
          "output_type": "execute_result",
          "data": {
            "text/plain": [
              "(43792, 32)"
            ]
          },
          "metadata": {
            "tags": []
          },
          "execution_count": 131
        }
      ]
    },
    {
      "cell_type": "code",
      "metadata": {
        "colab": {
          "base_uri": "https://localhost:8080/",
          "height": 224
        },
        "id": "8U0w4oBAt5eW",
        "outputId": "9ca4a9a1-1ff4-438a-bced-bf98570bd298"
      },
      "source": [
        "tr_inp_fin.head()"
      ],
      "execution_count": null,
      "outputs": [
        {
          "output_type": "execute_result",
          "data": {
            "text/html": [
              "<div>\n",
              "<style scoped>\n",
              "    .dataframe tbody tr th:only-of-type {\n",
              "        vertical-align: middle;\n",
              "    }\n",
              "\n",
              "    .dataframe tbody tr th {\n",
              "        vertical-align: top;\n",
              "    }\n",
              "\n",
              "    .dataframe thead th {\n",
              "        text-align: right;\n",
              "    }\n",
              "</style>\n",
              "<table border=\"1\" class=\"dataframe\">\n",
              "  <thead>\n",
              "    <tr style=\"text-align: right;\">\n",
              "      <th></th>\n",
              "      <th>BeneID</th>\n",
              "      <th>ClaimID</th>\n",
              "      <th>ClaimStartDt</th>\n",
              "      <th>ClaimEndDt</th>\n",
              "      <th>Provider</th>\n",
              "      <th>InscClaimAmtReimbursed</th>\n",
              "      <th>AttendingPhysician</th>\n",
              "      <th>OperatingPhysician</th>\n",
              "      <th>OtherPhysician</th>\n",
              "      <th>AdmissionDt</th>\n",
              "      <th>ClmAdmitDiagnosisCode</th>\n",
              "      <th>DeductibleAmtPaid</th>\n",
              "      <th>DischargeDt</th>\n",
              "      <th>DiagnosisGroupCode</th>\n",
              "      <th>ClmDiagnosisCode_1</th>\n",
              "      <th>ClmDiagnosisCode_2</th>\n",
              "      <th>ClmDiagnosisCode_3</th>\n",
              "      <th>ClmDiagnosisCode_4</th>\n",
              "      <th>ClmDiagnosisCode_5</th>\n",
              "      <th>ClmDiagnosisCode_6</th>\n",
              "      <th>ClmDiagnosisCode_7</th>\n",
              "      <th>ClmDiagnosisCode_8</th>\n",
              "      <th>ClmDiagnosisCode_9</th>\n",
              "      <th>ClmDiagnosisCode_10</th>\n",
              "      <th>ClmProcedureCode_1</th>\n",
              "      <th>ClmProcedureCode_2</th>\n",
              "      <th>ClmProcedureCode_3</th>\n",
              "      <th>ClmProcedureCode_4</th>\n",
              "      <th>ClmProcedureCode_5</th>\n",
              "      <th>ClmProcedureCode_6</th>\n",
              "      <th>class</th>\n",
              "      <th>PotentialFraud</th>\n",
              "    </tr>\n",
              "  </thead>\n",
              "  <tbody>\n",
              "    <tr>\n",
              "      <th>0</th>\n",
              "      <td>BENE11001</td>\n",
              "      <td>CLM46614</td>\n",
              "      <td>2009-04-12</td>\n",
              "      <td>2009-04-18</td>\n",
              "      <td>PRV55912</td>\n",
              "      <td>26000.0</td>\n",
              "      <td>PHY390922</td>\n",
              "      <td>NaN</td>\n",
              "      <td>NaN</td>\n",
              "      <td>2009-04-12</td>\n",
              "      <td>7866</td>\n",
              "      <td>1068.0</td>\n",
              "      <td>2009-04-18</td>\n",
              "      <td>201</td>\n",
              "      <td>1970</td>\n",
              "      <td>4019</td>\n",
              "      <td>5853</td>\n",
              "      <td>7843</td>\n",
              "      <td>2768</td>\n",
              "      <td>71590</td>\n",
              "      <td>2724</td>\n",
              "      <td>19889</td>\n",
              "      <td>5849</td>\n",
              "      <td>NaN</td>\n",
              "      <td>NaN</td>\n",
              "      <td>NaN</td>\n",
              "      <td>NaN</td>\n",
              "      <td>NaN</td>\n",
              "      <td>NaN</td>\n",
              "      <td>NaN</td>\n",
              "      <td>Yes</td>\n",
              "      <td>Yes</td>\n",
              "    </tr>\n",
              "    <tr>\n",
              "      <th>1</th>\n",
              "      <td>BENE17521</td>\n",
              "      <td>CLM34721</td>\n",
              "      <td>2009-01-20</td>\n",
              "      <td>2009-02-01</td>\n",
              "      <td>PRV55912</td>\n",
              "      <td>19000.0</td>\n",
              "      <td>PHY349293</td>\n",
              "      <td>PHY370861</td>\n",
              "      <td>PHY363291</td>\n",
              "      <td>2009-01-20</td>\n",
              "      <td>45340</td>\n",
              "      <td>1068.0</td>\n",
              "      <td>2009-02-01</td>\n",
              "      <td>987</td>\n",
              "      <td>4240</td>\n",
              "      <td>2639</td>\n",
              "      <td>2948</td>\n",
              "      <td>40390</td>\n",
              "      <td>45821</td>\n",
              "      <td>28489</td>\n",
              "      <td>5854</td>\n",
              "      <td>2753</td>\n",
              "      <td>E9305</td>\n",
              "      <td>NaN</td>\n",
              "      <td>7769.0</td>\n",
              "      <td>5849.0</td>\n",
              "      <td>NaN</td>\n",
              "      <td>NaN</td>\n",
              "      <td>NaN</td>\n",
              "      <td>NaN</td>\n",
              "      <td>Yes</td>\n",
              "      <td>Yes</td>\n",
              "    </tr>\n",
              "    <tr>\n",
              "      <th>2</th>\n",
              "      <td>BENE21718</td>\n",
              "      <td>CLM72336</td>\n",
              "      <td>2009-10-17</td>\n",
              "      <td>2009-11-04</td>\n",
              "      <td>PRV55912</td>\n",
              "      <td>17000.0</td>\n",
              "      <td>PHY334706</td>\n",
              "      <td>PHY334706</td>\n",
              "      <td>NaN</td>\n",
              "      <td>2009-10-17</td>\n",
              "      <td>V5789</td>\n",
              "      <td>1068.0</td>\n",
              "      <td>2009-11-04</td>\n",
              "      <td>941</td>\n",
              "      <td>V5789</td>\n",
              "      <td>4168</td>\n",
              "      <td>73313</td>\n",
              "      <td>7812</td>\n",
              "      <td>7993</td>\n",
              "      <td>78830</td>\n",
              "      <td>72273</td>\n",
              "      <td>43812</td>\n",
              "      <td>4019</td>\n",
              "      <td>NaN</td>\n",
              "      <td>9338.0</td>\n",
              "      <td>NaN</td>\n",
              "      <td>NaN</td>\n",
              "      <td>NaN</td>\n",
              "      <td>NaN</td>\n",
              "      <td>NaN</td>\n",
              "      <td>Yes</td>\n",
              "      <td>Yes</td>\n",
              "    </tr>\n",
              "    <tr>\n",
              "      <th>3</th>\n",
              "      <td>BENE22934</td>\n",
              "      <td>CLM73394</td>\n",
              "      <td>2009-10-25</td>\n",
              "      <td>2009-10-29</td>\n",
              "      <td>PRV55912</td>\n",
              "      <td>13000.0</td>\n",
              "      <td>PHY390614</td>\n",
              "      <td>PHY323689</td>\n",
              "      <td>PHY363291</td>\n",
              "      <td>2009-10-25</td>\n",
              "      <td>71946</td>\n",
              "      <td>1068.0</td>\n",
              "      <td>2009-10-29</td>\n",
              "      <td>506</td>\n",
              "      <td>71535</td>\n",
              "      <td>71960</td>\n",
              "      <td>4019</td>\n",
              "      <td>V1202</td>\n",
              "      <td>4240</td>\n",
              "      <td>2449</td>\n",
              "      <td>2768</td>\n",
              "      <td>NaN</td>\n",
              "      <td>NaN</td>\n",
              "      <td>NaN</td>\n",
              "      <td>8154.0</td>\n",
              "      <td>NaN</td>\n",
              "      <td>NaN</td>\n",
              "      <td>NaN</td>\n",
              "      <td>NaN</td>\n",
              "      <td>NaN</td>\n",
              "      <td>Yes</td>\n",
              "      <td>Yes</td>\n",
              "    </tr>\n",
              "    <tr>\n",
              "      <th>4</th>\n",
              "      <td>BENE24402</td>\n",
              "      <td>CLM32911</td>\n",
              "      <td>2009-01-08</td>\n",
              "      <td>2009-01-12</td>\n",
              "      <td>PRV55912</td>\n",
              "      <td>3000.0</td>\n",
              "      <td>PHY380413</td>\n",
              "      <td>PHY432598</td>\n",
              "      <td>NaN</td>\n",
              "      <td>2009-01-08</td>\n",
              "      <td>1748</td>\n",
              "      <td>1068.0</td>\n",
              "      <td>2009-01-12</td>\n",
              "      <td>593</td>\n",
              "      <td>2330</td>\n",
              "      <td>NaN</td>\n",
              "      <td>NaN</td>\n",
              "      <td>NaN</td>\n",
              "      <td>NaN</td>\n",
              "      <td>NaN</td>\n",
              "      <td>NaN</td>\n",
              "      <td>NaN</td>\n",
              "      <td>NaN</td>\n",
              "      <td>NaN</td>\n",
              "      <td>8543.0</td>\n",
              "      <td>NaN</td>\n",
              "      <td>NaN</td>\n",
              "      <td>NaN</td>\n",
              "      <td>NaN</td>\n",
              "      <td>NaN</td>\n",
              "      <td>Yes</td>\n",
              "      <td>Yes</td>\n",
              "    </tr>\n",
              "  </tbody>\n",
              "</table>\n",
              "</div>"
            ],
            "text/plain": [
              "      BeneID   ClaimID ClaimStartDt  ... ClmProcedureCode_6 class  PotentialFraud\n",
              "0  BENE11001  CLM46614   2009-04-12  ...                NaN   Yes             Yes\n",
              "1  BENE17521  CLM34721   2009-01-20  ...                NaN   Yes             Yes\n",
              "2  BENE21718  CLM72336   2009-10-17  ...                NaN   Yes             Yes\n",
              "3  BENE22934  CLM73394   2009-10-25  ...                NaN   Yes             Yes\n",
              "4  BENE24402  CLM32911   2009-01-08  ...                NaN   Yes             Yes\n",
              "\n",
              "[5 rows x 32 columns]"
            ]
          },
          "metadata": {
            "tags": []
          },
          "execution_count": 132
        }
      ]
    },
    {
      "cell_type": "markdown",
      "metadata": {
        "id": "mLwkSvsbOLRX"
      },
      "source": [
        "**Checking for the percentage of nan values in each of the columns in the Inpatient Data**"
      ]
    },
    {
      "cell_type": "code",
      "metadata": {
        "colab": {
          "base_uri": "https://localhost:8080/"
        },
        "id": "0reXdPwT81PE",
        "outputId": "4c6ff5a6-a7ae-4508-b1b8-27076d1e19e6"
      },
      "source": [
        "na_perc= ((tr_inpat_new.isna().sum())/tr_inpat_new.shape[0])*100\n",
        "na_perc.to_frame()\n",
        "print(type(na_perc))\n",
        "print(na_perc)"
      ],
      "execution_count": null,
      "outputs": [
        {
          "output_type": "stream",
          "text": [
            "<class 'pandas.core.series.Series'>\n",
            "BeneID                      0.000000\n",
            "ClaimID                     0.000000\n",
            "ClaimStartDt                0.000000\n",
            "ClaimEndDt                  0.000000\n",
            "Provider                    0.000000\n",
            "InscClaimAmtReimbursed      0.000000\n",
            "AttendingPhysician          0.276721\n",
            "OperatingPhysician         41.122696\n",
            "OtherPhysician             88.412314\n",
            "AdmissionDt                 0.000000\n",
            "ClmAdmitDiagnosisCode       0.000000\n",
            "DeductibleAmtPaid           2.221179\n",
            "DischargeDt                 0.000000\n",
            "DiagnosisGroupCode          0.000000\n",
            "ClmDiagnosisCode_1          0.000000\n",
            "ClmDiagnosisCode_2          0.558383\n",
            "ClmDiagnosisCode_3          1.670208\n",
            "ClmDiagnosisCode_4          3.790087\n",
            "ClmDiagnosisCode_5          7.150269\n",
            "ClmDiagnosisCode_6         11.953353\n",
            "ClmDiagnosisCode_7         17.932500\n",
            "ClmDiagnosisCode_8         24.563918\n",
            "ClmDiagnosisCode_9         33.347334\n",
            "ClmDiagnosisCode_10        90.297475\n",
            "ClmProcedureCode_1         42.807728\n",
            "ClmProcedureCode_2         86.524683\n",
            "ClmProcedureCode_3         97.615753\n",
            "ClmProcedureCode_4         99.713396\n",
            "ClmProcedureCode_5         99.977764\n",
            "ClmProcedureCode_6        100.000000\n",
            "class                       0.000000\n",
            "dtype: float64\n"
          ],
          "name": "stdout"
        }
      ]
    },
    {
      "cell_type": "markdown",
      "metadata": {
        "id": "2bEpxajBOdng"
      },
      "source": [
        "**Dropping the Columns which have more than 80% of the nan values in the Inpatient Data**"
      ]
    },
    {
      "cell_type": "code",
      "metadata": {
        "id": "a09yGdUT-RhO"
      },
      "source": [
        "tr_inpat_new.drop(['OtherPhysician','ClmDiagnosisCode_10','ClmProcedureCode_2','ClmProcedureCode_3','ClmProcedureCode_4','ClmProcedureCode_5','ClmProcedureCode_6'],axis=1,inplace= True)"
      ],
      "execution_count": null,
      "outputs": []
    },
    {
      "cell_type": "code",
      "metadata": {
        "colab": {
          "base_uri": "https://localhost:8080/"
        },
        "id": "YrcQE-wBZ3_h",
        "outputId": "8aad5670-2a24-4634-bd55-f369f5223ba0"
      },
      "source": [
        "((tr_inpat_new.isna().sum())/(tr_inpat_new.isna().shape[0]))*100"
      ],
      "execution_count": null,
      "outputs": [
        {
          "output_type": "execute_result",
          "data": {
            "text/plain": [
              "BeneID                     0.000000\n",
              "ClaimID                    0.000000\n",
              "ClaimStartDt               0.000000\n",
              "ClaimEndDt                 0.000000\n",
              "Provider                   0.000000\n",
              "InscClaimAmtReimbursed     0.000000\n",
              "AttendingPhysician         0.276721\n",
              "OperatingPhysician        41.122696\n",
              "AdmissionDt                0.000000\n",
              "ClmAdmitDiagnosisCode      0.000000\n",
              "DeductibleAmtPaid          2.221179\n",
              "DischargeDt                0.000000\n",
              "DiagnosisGroupCode         0.000000\n",
              "ClmDiagnosisCode_1         0.000000\n",
              "ClmDiagnosisCode_2         0.558383\n",
              "ClmDiagnosisCode_3         1.670208\n",
              "ClmDiagnosisCode_4         3.790087\n",
              "ClmDiagnosisCode_5         7.150269\n",
              "ClmDiagnosisCode_6        11.953353\n",
              "ClmDiagnosisCode_7        17.932500\n",
              "ClmDiagnosisCode_8        24.563918\n",
              "ClmDiagnosisCode_9        33.347334\n",
              "ClmProcedureCode_1        42.807728\n",
              "class                      0.000000\n",
              "dtype: float64"
            ]
          },
          "metadata": {
            "tags": []
          },
          "execution_count": 12
        }
      ]
    },
    {
      "cell_type": "markdown",
      "metadata": {
        "id": "l96wG95X8dCK"
      },
      "source": [
        "**Using SimpleImputer to impute the missing values by leveraging the \"Most Frequent\" strategy in the Categorical Columns**"
      ]
    },
    {
      "cell_type": "code",
      "metadata": {
        "id": "0E7p-qW-9lM7"
      },
      "source": [
        "imp_cat= SimpleImputer(missing_values= np.nan, strategy= 'most_frequent')"
      ],
      "execution_count": null,
      "outputs": []
    },
    {
      "cell_type": "code",
      "metadata": {
        "id": "z9UqNVPefGCU"
      },
      "source": [
        "tr_inpat_new[\"ClmDiagnosisCode_2\"]= imp_cat.fit_transform(tr_inpat_new[\"ClmDiagnosisCode_2\"].values.reshape(-1,1))[:,0]\n",
        "tr_inpat_new[\"ClmDiagnosisCode_3\"]= imp_cat.fit_transform(tr_inpat_new[\"ClmDiagnosisCode_3\"].values.reshape(-1,1))[:,0]\n",
        "tr_inpat_new[\"ClmDiagnosisCode_4\"]= imp_cat.fit_transform(tr_inpat_new[\"ClmDiagnosisCode_4\"].values.reshape(-1,1))[:,0]\n",
        "tr_inpat_new[\"ClmDiagnosisCode_5\"]= imp_cat.fit_transform(tr_inpat_new[\"ClmDiagnosisCode_5\"].values.reshape(-1,1))[:,0]\n",
        "tr_inpat_new[\"ClmDiagnosisCode_6\"]= imp_cat.fit_transform(tr_inpat_new[\"ClmDiagnosisCode_6\"].values.reshape(-1,1))[:,0]\n",
        "tr_inpat_new[\"ClmDiagnosisCode_7\"]= imp_cat.fit_transform(tr_inpat_new[\"ClmDiagnosisCode_7\"].values.reshape(-1,1))[:,0]\n",
        "tr_inpat_new[\"AttendingPhysician\"]= imp_cat.fit_transform(tr_inpat_new[\"AttendingPhysician\"].values.reshape(-1,1))[:,0]"
      ],
      "execution_count": null,
      "outputs": []
    },
    {
      "cell_type": "code",
      "metadata": {
        "colab": {
          "base_uri": "https://localhost:8080/"
        },
        "id": "rewQIPf68GSI",
        "outputId": "65131af1-b61c-454d-ec8a-0fd9cb41aed5"
      },
      "source": [
        "((tr_inpat_new.isna().sum())/(tr_inpat_new.shape[0]))*100"
      ],
      "execution_count": null,
      "outputs": [
        {
          "output_type": "execute_result",
          "data": {
            "text/plain": [
              "BeneID                     0.000000\n",
              "ClaimID                    0.000000\n",
              "ClaimStartDt               0.000000\n",
              "ClaimEndDt                 0.000000\n",
              "Provider                   0.000000\n",
              "InscClaimAmtReimbursed     0.000000\n",
              "AttendingPhysician         0.000000\n",
              "OperatingPhysician        41.122696\n",
              "AdmissionDt                0.000000\n",
              "ClmAdmitDiagnosisCode      0.000000\n",
              "DeductibleAmtPaid          2.221179\n",
              "DischargeDt                0.000000\n",
              "DiagnosisGroupCode         0.000000\n",
              "ClmDiagnosisCode_1         0.000000\n",
              "ClmDiagnosisCode_2         0.000000\n",
              "ClmDiagnosisCode_3         0.000000\n",
              "ClmDiagnosisCode_4         0.000000\n",
              "ClmDiagnosisCode_5         0.000000\n",
              "ClmDiagnosisCode_6         0.000000\n",
              "ClmDiagnosisCode_7         0.000000\n",
              "ClmDiagnosisCode_8        24.563918\n",
              "ClmDiagnosisCode_9        33.347334\n",
              "ClmProcedureCode_1        42.807728\n",
              "class                      0.000000\n",
              "dtype: float64"
            ]
          },
          "metadata": {
            "tags": []
          },
          "execution_count": 24
        }
      ]
    },
    {
      "cell_type": "code",
      "metadata": {
        "id": "GGBOwTLafG0U"
      },
      "source": [
        "tr_inpat_new[\"OperatingPhysician\"]= tr_inpat_new[\"OperatingPhysician\"].fillna('missing')\n",
        "tr_inpat_new[\"ClmDiagnosisCode_8\"]= tr_inpat_new[\"ClmDiagnosisCode_8\"].fillna('missing')\n",
        "tr_inpat_new[\"ClmDiagnosisCode_9\"]= tr_inpat_new[\"ClmDiagnosisCode_9\"].fillna('missing')\n",
        "tr_inpat_new[\"ClmProcedureCode_1\"]= tr_inpat_new[\"ClmProcedureCode_1\"].fillna('missing')"
      ],
      "execution_count": null,
      "outputs": []
    },
    {
      "cell_type": "markdown",
      "metadata": {
        "id": "GikLzxmUOB5n"
      },
      "source": [
        "**Using SimpleImputer to impute the missing values by leveraging the \"Mean\" strategy in the Numerical Columns**"
      ]
    },
    {
      "cell_type": "code",
      "metadata": {
        "id": "65tu3SpdLB3o"
      },
      "source": [
        "imp_num= SimpleImputer(missing_values= np.nan, strategy= 'mean' )\n",
        "tr_inpat_new['DeductibleAmtPaid']= imp_num.fit_transform(tr_inpat_new['DeductibleAmtPaid'].values.reshape(-1,1))[:,0]"
      ],
      "execution_count": null,
      "outputs": []
    },
    {
      "cell_type": "code",
      "metadata": {
        "colab": {
          "base_uri": "https://localhost:8080/"
        },
        "id": "5MxnQGu6NEsu",
        "outputId": "a5754a98-f011-4d30-83fa-b10e6496bf30"
      },
      "source": [
        "((tr_inpat_new.isna().sum())/(tr_inpat_new.shape[0]))*100"
      ],
      "execution_count": null,
      "outputs": [
        {
          "output_type": "execute_result",
          "data": {
            "text/plain": [
              "BeneID                    0.0\n",
              "ClaimID                   0.0\n",
              "ClaimStartDt              0.0\n",
              "ClaimEndDt                0.0\n",
              "Provider                  0.0\n",
              "InscClaimAmtReimbursed    0.0\n",
              "AttendingPhysician        0.0\n",
              "OperatingPhysician        0.0\n",
              "AdmissionDt               0.0\n",
              "ClmAdmitDiagnosisCode     0.0\n",
              "DeductibleAmtPaid         0.0\n",
              "DischargeDt               0.0\n",
              "DiagnosisGroupCode        0.0\n",
              "ClmDiagnosisCode_1        0.0\n",
              "ClmDiagnosisCode_2        0.0\n",
              "ClmDiagnosisCode_3        0.0\n",
              "ClmDiagnosisCode_4        0.0\n",
              "ClmDiagnosisCode_5        0.0\n",
              "ClmDiagnosisCode_6        0.0\n",
              "ClmDiagnosisCode_7        0.0\n",
              "ClmDiagnosisCode_8        0.0\n",
              "ClmDiagnosisCode_9        0.0\n",
              "ClmProcedureCode_1        0.0\n",
              "class                     0.0\n",
              "dtype: float64"
            ]
          },
          "metadata": {
            "tags": []
          },
          "execution_count": 9
        }
      ]
    },
    {
      "cell_type": "markdown",
      "metadata": {
        "id": "ccw-iXU7G59D"
      },
      "source": [
        "##Univariate Analysis of the Inpatient Data"
      ]
    },
    {
      "cell_type": "code",
      "metadata": {
        "colab": {
          "base_uri": "https://localhost:8080/",
          "height": 673
        },
        "id": "asDHAr6iGls_",
        "outputId": "ae4fdafd-ee15-4a10-8c50-793335a5a4e9"
      },
      "source": [
        "plt.figure(figsize=(10,10))\n",
        "\n",
        "plt.subplot(2,1,1)\n",
        "sns.distplot(tr_inpat_new['Provider'].value_counts())\n",
        "plt.xlabel(\"Providers\")\n",
        "plt.ylabel(\"Number of Inpatients for each provider\")\n",
        "plt.title(\"Probablity distribution of the Provider Variable in the Inpatient File\")\n",
        "plt.show()\n",
        "\n",
        "plt.figure(figsize=(10,10))\n",
        "plt.subplot(2,1,2)\n",
        "counts,bin_edges= np.histogram(tr_inpat_new['Provider'].value_counts(),bins=30)\n",
        "pdf= counts/sum(counts)\n",
        "cdf= np.cumsum(pdf)\n",
        "plt.plot(bin_edges[1:],cdf)\n",
        "plt.ylabel('Cumulative Probability')\n",
        "plt.title('Cumulative Distribution of the Provider Variable in the Inpatient File')\n",
        "plt.show()"
      ],
      "execution_count": null,
      "outputs": [
        {
          "output_type": "stream",
          "text": [
            "/usr/local/lib/python3.7/dist-packages/seaborn/distributions.py:2557: FutureWarning: `distplot` is a deprecated function and will be removed in a future version. Please adapt your code to use either `displot` (a figure-level function with similar flexibility) or `histplot` (an axes-level function for histograms).\n",
            "  warnings.warn(msg, FutureWarning)\n"
          ],
          "name": "stderr"
        },
        {
          "output_type": "display_data",
          "data": {
            "image/png": "[encoded data removed]",
            "text/plain": [
              "<Figure size 720x720 with 1 Axes>"
            ]
          },
          "metadata": {
            "tags": []
          }
        },
        {
          "output_type": "display_data",
          "data": {
            "image/png": "[encoded data removed]",
            "text/plain": [
              "<Figure size 720x720 with 1 Axes>"
            ]
          },
          "metadata": {
            "tags": []
          }
        }
      ]
    },
    {
      "cell_type": "markdown",
      "metadata": {
        "id": "VDMtZpebxZhv"
      },
      "source": [
        "We see from the Cumulative distribution function that about 95% of the providers have 75 or fewer occurences of claims in the Inpatient Data while the most number of claims i.e. 100 and above occurences have been tagged to 5% or less number of Provider IDs"
      ]
    },
    {
      "cell_type": "code",
      "metadata": {
        "colab": {
          "base_uri": "https://localhost:8080/",
          "height": 673
        },
        "id": "Z5XLFJGkLhS6",
        "outputId": "e23f405d-06d0-4ed2-e625-f5d2aff92d09"
      },
      "source": [
        "plt.figure(figsize=(10,10))\n",
        "\n",
        "plt.subplot(2,1,1)\n",
        "sns.distplot(tr_inpat_new['AttendingPhysician'].value_counts())\n",
        "plt.xlabel(\"Attending Physicians\")\n",
        "plt.ylabel(\"Number of Inpatients for each Attending Physicians\")\n",
        "plt.title(\"Probablity distribution of the Attending Physician Variable in the Inpatient File\")\n",
        "plt.show()\n",
        "\n",
        "plt.figure(figsize=(10,10))\n",
        "plt.subplot(2,1,2)\n",
        "counts,bin_edges= np.histogram(tr_inpat_new['AttendingPhysician'].value_counts(),bins=30)\n",
        "pdf= counts/sum(counts)\n",
        "cdf= np.cumsum(pdf)\n",
        "plt.plot(bin_edges[1:],cdf)\n",
        "plt.ylabel('Cumulative Probability')\n",
        "plt.title('Cumulative Distribution of the Attending Physician Variable in the Inpatient File')\n",
        "plt.show()"
      ],
      "execution_count": null,
      "outputs": [
        {
          "output_type": "stream",
          "text": [
            "/usr/local/lib/python3.7/dist-packages/seaborn/distributions.py:2557: FutureWarning: `distplot` is a deprecated function and will be removed in a future version. Please adapt your code to use either `displot` (a figure-level function with similar flexibility) or `histplot` (an axes-level function for histograms).\n",
            "  warnings.warn(msg, FutureWarning)\n"
          ],
          "name": "stderr"
        },
        {
          "output_type": "display_data",
          "data": {
            "image/png": "[encoded data removed]",
            "text/plain": [
              "<Figure size 720x720 with 1 Axes>"
            ]
          },
          "metadata": {
            "tags": []
          }
        },
        {
          "output_type": "display_data",
          "data": {
            "image/png": "[encoded data removed]",
            "text/plain": [
              "<Figure size 720x720 with 1 Axes>"
            ]
          },
          "metadata": {
            "tags": []
          }
        }
      ]
    },
    {
      "cell_type": "code",
      "metadata": {
        "id": "3Zfu4GX98tA0"
      },
      "source": [
        "plt.figure(figsize=(10,10))\n",
        "\n",
        "plt.subplot(2,1,1)\n",
        "sns.distplot(tr_inpat_new['OperatingPhysician'].value_counts())\n",
        "plt.xlabel(\"Operating Physicians\")\n",
        "plt.ylabel(\"Number of Inpatients for each Operating Physicians\")\n",
        "plt.title(\"Probablity distribution of the Operating Physician Variable in the Inpatient File\")\n",
        "plt.show()\n",
        "\n",
        "plt.figure(figsize=(10,10))\n",
        "plt.subplot(2,1,2)\n",
        "counts,bin_edges= np.histogram(tr_inpat_new['OperatingPhysician'].value_counts(),bins=10)\n",
        "pdf= counts/sum(counts)\n",
        "cdf= np.cumsum(pdf)\n",
        "plt.plot(bin_edges[1:],cdf)\n",
        "plt.ylabel('Cumulative Probability')\n",
        "plt.title('Cumulative Distribution of the Operating Physician Variable in the Inpatient File')\n",
        "plt.show()"
      ],
      "execution_count": null,
      "outputs": []
    },
    {
      "cell_type": "code",
      "metadata": {
        "colab": {
          "base_uri": "https://localhost:8080/",
          "height": 673
        },
        "id": "ITQ9xn6HREAx",
        "outputId": "cb68573c-6c71-40fe-8e74-54fb3063a622"
      },
      "source": [
        "plt.figure(figsize=(10,10))\n",
        "\n",
        "plt.subplot(2,1,1)\n",
        "sns.distplot(tr_inpat_new['InscClaimAmtReimbursed'].value_counts())\n",
        "plt.xlabel(\"Insuracne Claim Amount Reimbursed\")\n",
        "plt.ylabel(\"Number of Inpatients\")\n",
        "plt.title(\"Probablity distribution of the Attending Physician Variable in the Inpatient File\")\n",
        "plt.show()\n",
        "\n",
        "plt.figure(figsize=(10,10))\n",
        "plt.subplot(2,1,2)\n",
        "counts,bin_edges= np.histogram(tr_inpat_new['InscClaimAmtReimbursed'].value_counts(),bins=30)\n",
        "pdf= counts/sum(counts)\n",
        "cdf= np.cumsum(pdf)\n",
        "plt.plot(bin_edges[1:],cdf)\n",
        "plt.ylabel('Cumulative Probability')\n",
        "plt.title('Cumulative Distribution of the Attending Physician Variable in the Inpatient File')\n",
        "plt.show()"
      ],
      "execution_count": null,
      "outputs": [
        {
          "output_type": "stream",
          "text": [
            "/usr/local/lib/python3.7/dist-packages/seaborn/distributions.py:2557: FutureWarning: `distplot` is a deprecated function and will be removed in a future version. Please adapt your code to use either `displot` (a figure-level function with similar flexibility) or `histplot` (an axes-level function for histograms).\n",
            "  warnings.warn(msg, FutureWarning)\n"
          ],
          "name": "stderr"
        },
        {
          "output_type": "display_data",
          "data": {
            "image/png": "[encoded data removed]",
            "text/plain": [
              "<Figure size 720x720 with 1 Axes>"
            ]
          },
          "metadata": {
            "tags": []
          }
        },
        {
          "output_type": "display_data",
          "data": {
            "image/png": "[encoded data removed]",
            "text/plain": [
              "<Figure size 720x720 with 1 Axes>"
            ]
          },
          "metadata": {
            "tags": []
          }
        }
      ]
    },
    {
      "cell_type": "markdown",
      "metadata": {
        "id": "_3YNrS3-U4mj"
      },
      "source": [
        "**Checking for the Number of Unique values in the Deductible Amount Column.**"
      ]
    },
    {
      "cell_type": "code",
      "metadata": {
        "colab": {
          "base_uri": "https://localhost:8080/"
        },
        "id": "m0NDGQFEP5Y_",
        "outputId": "841e6fdd-5427-4964-8251-de5bdf0d35d5"
      },
      "source": [
        "len(np.unique(np.array(tr_inpat_new['DeductibleAmtPaid'])))"
      ],
      "execution_count": null,
      "outputs": [
        {
          "output_type": "execute_result",
          "data": {
            "text/plain": [
              "1"
            ]
          },
          "metadata": {
            "tags": []
          },
          "execution_count": 14
        }
      ]
    },
    {
      "cell_type": "markdown",
      "metadata": {
        "id": "27wwL4QXUYaL"
      },
      "source": [
        "There is just the one value across all the rows in the Inpatient dataset, hence dropping the column completely as the column is not adding any variance to the classification of the dependent variable."
      ]
    },
    {
      "cell_type": "code",
      "metadata": {
        "id": "zL-X2o7PUWZb"
      },
      "source": [
        "tr_inpat_new.drop(['DeductibleAmtPaid'], axis=1, inplace= True)"
      ],
      "execution_count": null,
      "outputs": []
    },
    {
      "cell_type": "code",
      "metadata": {
        "colab": {
          "base_uri": "https://localhost:8080/",
          "height": 162
        },
        "id": "gH-zeaoHVPe9",
        "outputId": "1d9c4e39-26ac-4a2f-f47f-9e0d3987627d"
      },
      "source": [
        "tr_inpat_new.head(3)"
      ],
      "execution_count": null,
      "outputs": [
        {
          "output_type": "execute_result",
          "data": {
            "text/html": [
              "<div>\n",
              "<style scoped>\n",
              "    .dataframe tbody tr th:only-of-type {\n",
              "        vertical-align: middle;\n",
              "    }\n",
              "\n",
              "    .dataframe tbody tr th {\n",
              "        vertical-align: top;\n",
              "    }\n",
              "\n",
              "    .dataframe thead th {\n",
              "        text-align: right;\n",
              "    }\n",
              "</style>\n",
              "<table border=\"1\" class=\"dataframe\">\n",
              "  <thead>\n",
              "    <tr style=\"text-align: right;\">\n",
              "      <th></th>\n",
              "      <th>BeneID</th>\n",
              "      <th>ClaimID</th>\n",
              "      <th>ClaimStartDt</th>\n",
              "      <th>ClaimEndDt</th>\n",
              "      <th>Provider</th>\n",
              "      <th>InscClaimAmtReimbursed</th>\n",
              "      <th>AttendingPhysician</th>\n",
              "      <th>OperatingPhysician</th>\n",
              "      <th>AdmissionDt</th>\n",
              "      <th>ClmAdmitDiagnosisCode</th>\n",
              "      <th>DischargeDt</th>\n",
              "      <th>DiagnosisGroupCode</th>\n",
              "      <th>ClmDiagnosisCode_1</th>\n",
              "      <th>ClmDiagnosisCode_2</th>\n",
              "      <th>ClmDiagnosisCode_3</th>\n",
              "      <th>ClmDiagnosisCode_4</th>\n",
              "      <th>ClmDiagnosisCode_5</th>\n",
              "      <th>ClmDiagnosisCode_6</th>\n",
              "      <th>ClmDiagnosisCode_7</th>\n",
              "      <th>ClmDiagnosisCode_8</th>\n",
              "      <th>ClmDiagnosisCode_9</th>\n",
              "      <th>ClmProcedureCode_1</th>\n",
              "      <th>class</th>\n",
              "    </tr>\n",
              "  </thead>\n",
              "  <tbody>\n",
              "    <tr>\n",
              "      <th>0</th>\n",
              "      <td>BENE11001</td>\n",
              "      <td>CLM46614</td>\n",
              "      <td>2009-04-12</td>\n",
              "      <td>2009-04-18</td>\n",
              "      <td>PRV55912</td>\n",
              "      <td>26000</td>\n",
              "      <td>PHY390922</td>\n",
              "      <td>missing</td>\n",
              "      <td>2009-04-12</td>\n",
              "      <td>7866</td>\n",
              "      <td>2009-04-18</td>\n",
              "      <td>201</td>\n",
              "      <td>1970</td>\n",
              "      <td>4019</td>\n",
              "      <td>5853</td>\n",
              "      <td>7843</td>\n",
              "      <td>2768</td>\n",
              "      <td>71590</td>\n",
              "      <td>2724</td>\n",
              "      <td>19889</td>\n",
              "      <td>5849</td>\n",
              "      <td>missing</td>\n",
              "      <td>Yes</td>\n",
              "    </tr>\n",
              "    <tr>\n",
              "      <th>1</th>\n",
              "      <td>BENE11001</td>\n",
              "      <td>CLM66048</td>\n",
              "      <td>2009-08-31</td>\n",
              "      <td>2009-09-02</td>\n",
              "      <td>PRV55907</td>\n",
              "      <td>5000</td>\n",
              "      <td>PHY318495</td>\n",
              "      <td>PHY318495</td>\n",
              "      <td>2009-08-31</td>\n",
              "      <td>6186</td>\n",
              "      <td>2009-09-02</td>\n",
              "      <td>750</td>\n",
              "      <td>6186</td>\n",
              "      <td>2948</td>\n",
              "      <td>56400</td>\n",
              "      <td>4019</td>\n",
              "      <td>4019</td>\n",
              "      <td>4019</td>\n",
              "      <td>4019</td>\n",
              "      <td>missing</td>\n",
              "      <td>missing</td>\n",
              "      <td>7092</td>\n",
              "      <td>No</td>\n",
              "    </tr>\n",
              "    <tr>\n",
              "      <th>2</th>\n",
              "      <td>BENE11001</td>\n",
              "      <td>CLM68358</td>\n",
              "      <td>2009-09-17</td>\n",
              "      <td>2009-09-20</td>\n",
              "      <td>PRV56046</td>\n",
              "      <td>5000</td>\n",
              "      <td>PHY372395</td>\n",
              "      <td>missing</td>\n",
              "      <td>2009-09-17</td>\n",
              "      <td>29590</td>\n",
              "      <td>2009-09-20</td>\n",
              "      <td>883</td>\n",
              "      <td>29623</td>\n",
              "      <td>30390</td>\n",
              "      <td>71690</td>\n",
              "      <td>34590</td>\n",
              "      <td>V1581</td>\n",
              "      <td>32723</td>\n",
              "      <td>4019</td>\n",
              "      <td>missing</td>\n",
              "      <td>missing</td>\n",
              "      <td>missing</td>\n",
              "      <td>No</td>\n",
              "    </tr>\n",
              "  </tbody>\n",
              "</table>\n",
              "</div>"
            ],
            "text/plain": [
              "      BeneID   ClaimID ClaimStartDt  ... ClmDiagnosisCode_9 ClmProcedureCode_1  class\n",
              "0  BENE11001  CLM46614   2009-04-12  ...               5849            missing    Yes\n",
              "1  BENE11001  CLM66048   2009-08-31  ...            missing               7092     No\n",
              "2  BENE11001  CLM68358   2009-09-17  ...            missing            missing     No\n",
              "\n",
              "[3 rows x 23 columns]"
            ]
          },
          "metadata": {
            "tags": []
          },
          "execution_count": 17
        }
      ]
    },
    {
      "cell_type": "code",
      "metadata": {
        "id": "Dh9yRzhMX1t3"
      },
      "source": [
        "tr_inpat_new['DischargeDt']= pd.to_datetime(tr_inpat_new['DischargeDt'])\n",
        "tr_inpat_new['AdmissionDt']= pd.to_datetime(tr_inpat_new['AdmissionDt'])\n",
        "tr_inpat_new['ClaimStartDt']= pd.to_datetime(tr_inpat_new['ClaimStartDt'])\n",
        "tr_inpat_new['ClaimEndDt']= pd.to_datetime(tr_inpat_new['ClaimEndDt'])"
      ],
      "execution_count": null,
      "outputs": []
    },
    {
      "cell_type": "code",
      "metadata": {
        "colab": {
          "base_uri": "https://localhost:8080/"
        },
        "id": "mk8w68itZGsk",
        "outputId": "95e08387-0281-4a00-dc36-2e822eaf4bae"
      },
      "source": [
        "tr_inpat_new.info()"
      ],
      "execution_count": null,
      "outputs": [
        {
          "output_type": "stream",
          "text": [
            "<class 'pandas.core.frame.DataFrame'>\n",
            "RangeIndex: 40474 entries, 0 to 40473\n",
            "Data columns (total 23 columns):\n",
            " #   Column                  Non-Null Count  Dtype         \n",
            "---  ------                  --------------  -----         \n",
            " 0   BeneID                  40474 non-null  object        \n",
            " 1   ClaimID                 40474 non-null  object        \n",
            " 2   ClaimStartDt            40474 non-null  datetime64[ns]\n",
            " 3   ClaimEndDt              40474 non-null  datetime64[ns]\n",
            " 4   Provider                40474 non-null  object        \n",
            " 5   InscClaimAmtReimbursed  40474 non-null  int64         \n",
            " 6   AttendingPhysician      40474 non-null  object        \n",
            " 7   OperatingPhysician      40474 non-null  object        \n",
            " 8   AdmissionDt             40474 non-null  datetime64[ns]\n",
            " 9   ClmAdmitDiagnosisCode   40474 non-null  object        \n",
            " 10  DischargeDt             40474 non-null  datetime64[ns]\n",
            " 11  DiagnosisGroupCode      40474 non-null  object        \n",
            " 12  ClmDiagnosisCode_1      40474 non-null  object        \n",
            " 13  ClmDiagnosisCode_2      40474 non-null  object        \n",
            " 14  ClmDiagnosisCode_3      40474 non-null  object        \n",
            " 15  ClmDiagnosisCode_4      40474 non-null  object        \n",
            " 16  ClmDiagnosisCode_5      40474 non-null  object        \n",
            " 17  ClmDiagnosisCode_6      40474 non-null  object        \n",
            " 18  ClmDiagnosisCode_7      40474 non-null  object        \n",
            " 19  ClmDiagnosisCode_8      40474 non-null  object        \n",
            " 20  ClmDiagnosisCode_9      40474 non-null  object        \n",
            " 21  ClmProcedureCode_1      40474 non-null  object        \n",
            " 22  class                   40474 non-null  object        \n",
            "dtypes: datetime64[ns](4), int64(1), object(18)\n",
            "memory usage: 7.1+ MB\n"
          ],
          "name": "stdout"
        }
      ]
    },
    {
      "cell_type": "code",
      "metadata": {
        "id": "QYQAlMY0Vdm6"
      },
      "source": [
        "tr_inpat_new[\"days_admission\"]= tr_inpat_new['DischargeDt']-tr_inpat_new['AdmissionDt']\n",
        "tr_inpat_new[\"days_of_claim\"]= tr_inpat_new['ClaimEndDt']-tr_inpat_new['ClaimStartDt']"
      ],
      "execution_count": null,
      "outputs": []
    },
    {
      "cell_type": "code",
      "metadata": {
        "id": "nQDD-5kQWK4C"
      },
      "source": [
        "tr_inpat_new[\"days_admission\"]= tr_inpat_new[\"days_admission\"].dt.days\n",
        "tr_inpat_new[\"days_of_claim\"]= tr_inpat_new[\"days_of_claim\"].dt.days"
      ],
      "execution_count": null,
      "outputs": []
    },
    {
      "cell_type": "code",
      "metadata": {
        "id": "z4mJRsTUamBm"
      },
      "source": [
        "tr_inpat_new.drop(['DischargeDt','AdmissionDt','ClaimEndDt','ClaimStartDt'], axis=1, inplace= True)"
      ],
      "execution_count": null,
      "outputs": []
    },
    {
      "cell_type": "code",
      "metadata": {
        "colab": {
          "base_uri": "https://localhost:8080/",
          "height": 162
        },
        "id": "P0Mf-sR7cwrb",
        "outputId": "5bf838d6-40ce-49bb-e1fe-0295babea63f"
      },
      "source": [
        "tr_inpat_new.head(3)"
      ],
      "execution_count": null,
      "outputs": [
        {
          "output_type": "execute_result",
          "data": {
            "text/html": [
              "<div>\n",
              "<style scoped>\n",
              "    .dataframe tbody tr th:only-of-type {\n",
              "        vertical-align: middle;\n",
              "    }\n",
              "\n",
              "    .dataframe tbody tr th {\n",
              "        vertical-align: top;\n",
              "    }\n",
              "\n",
              "    .dataframe thead th {\n",
              "        text-align: right;\n",
              "    }\n",
              "</style>\n",
              "<table border=\"1\" class=\"dataframe\">\n",
              "  <thead>\n",
              "    <tr style=\"text-align: right;\">\n",
              "      <th></th>\n",
              "      <th>BeneID</th>\n",
              "      <th>ClaimID</th>\n",
              "      <th>Provider</th>\n",
              "      <th>InscClaimAmtReimbursed</th>\n",
              "      <th>AttendingPhysician</th>\n",
              "      <th>OperatingPhysician</th>\n",
              "      <th>ClmAdmitDiagnosisCode</th>\n",
              "      <th>DiagnosisGroupCode</th>\n",
              "      <th>ClmDiagnosisCode_1</th>\n",
              "      <th>ClmDiagnosisCode_2</th>\n",
              "      <th>ClmDiagnosisCode_3</th>\n",
              "      <th>ClmDiagnosisCode_4</th>\n",
              "      <th>ClmDiagnosisCode_5</th>\n",
              "      <th>ClmDiagnosisCode_6</th>\n",
              "      <th>ClmDiagnosisCode_7</th>\n",
              "      <th>ClmDiagnosisCode_8</th>\n",
              "      <th>ClmDiagnosisCode_9</th>\n",
              "      <th>ClmProcedureCode_1</th>\n",
              "      <th>class</th>\n",
              "      <th>days_admission</th>\n",
              "      <th>days_of_claim</th>\n",
              "    </tr>\n",
              "  </thead>\n",
              "  <tbody>\n",
              "    <tr>\n",
              "      <th>0</th>\n",
              "      <td>BENE11001</td>\n",
              "      <td>CLM46614</td>\n",
              "      <td>PRV55912</td>\n",
              "      <td>26000</td>\n",
              "      <td>PHY390922</td>\n",
              "      <td>missing</td>\n",
              "      <td>7866</td>\n",
              "      <td>201</td>\n",
              "      <td>1970</td>\n",
              "      <td>4019</td>\n",
              "      <td>5853</td>\n",
              "      <td>7843</td>\n",
              "      <td>2768</td>\n",
              "      <td>71590</td>\n",
              "      <td>2724</td>\n",
              "      <td>19889</td>\n",
              "      <td>5849</td>\n",
              "      <td>missing</td>\n",
              "      <td>Yes</td>\n",
              "      <td>6</td>\n",
              "      <td>6</td>\n",
              "    </tr>\n",
              "    <tr>\n",
              "      <th>1</th>\n",
              "      <td>BENE11001</td>\n",
              "      <td>CLM66048</td>\n",
              "      <td>PRV55907</td>\n",
              "      <td>5000</td>\n",
              "      <td>PHY318495</td>\n",
              "      <td>PHY318495</td>\n",
              "      <td>6186</td>\n",
              "      <td>750</td>\n",
              "      <td>6186</td>\n",
              "      <td>2948</td>\n",
              "      <td>56400</td>\n",
              "      <td>4019</td>\n",
              "      <td>4019</td>\n",
              "      <td>4019</td>\n",
              "      <td>4019</td>\n",
              "      <td>missing</td>\n",
              "      <td>missing</td>\n",
              "      <td>7092</td>\n",
              "      <td>No</td>\n",
              "      <td>2</td>\n",
              "      <td>2</td>\n",
              "    </tr>\n",
              "    <tr>\n",
              "      <th>2</th>\n",
              "      <td>BENE11001</td>\n",
              "      <td>CLM68358</td>\n",
              "      <td>PRV56046</td>\n",
              "      <td>5000</td>\n",
              "      <td>PHY372395</td>\n",
              "      <td>missing</td>\n",
              "      <td>29590</td>\n",
              "      <td>883</td>\n",
              "      <td>29623</td>\n",
              "      <td>30390</td>\n",
              "      <td>71690</td>\n",
              "      <td>34590</td>\n",
              "      <td>V1581</td>\n",
              "      <td>32723</td>\n",
              "      <td>4019</td>\n",
              "      <td>missing</td>\n",
              "      <td>missing</td>\n",
              "      <td>missing</td>\n",
              "      <td>No</td>\n",
              "      <td>3</td>\n",
              "      <td>3</td>\n",
              "    </tr>\n",
              "  </tbody>\n",
              "</table>\n",
              "</div>"
            ],
            "text/plain": [
              "      BeneID   ClaimID  Provider  ...  class days_admission days_of_claim\n",
              "0  BENE11001  CLM46614  PRV55912  ...    Yes              6             6\n",
              "1  BENE11001  CLM66048  PRV55907  ...     No              2             2\n",
              "2  BENE11001  CLM68358  PRV56046  ...     No              3             3\n",
              "\n",
              "[3 rows x 21 columns]"
            ]
          },
          "metadata": {
            "tags": []
          },
          "execution_count": 41
        }
      ]
    },
    {
      "cell_type": "code",
      "metadata": {
        "id": "6u9JmYN0czMd"
      },
      "source": [
        "with open('/content/drive/MyDrive/Colab Notebooks/tr_inp_new.pkl', 'wb') as inp_new:\n",
        "    pickle.dump(tr_inpat_new,inp_new)"
      ],
      "execution_count": null,
      "outputs": []
    },
    {
      "cell_type": "code",
      "metadata": {
        "id": "lwEihrG9qZdV"
      },
      "source": [
        "with open('/content/drive/MyDrive/Colab Notebooks/tr_inp_new.pkl', 'rb') as inp_new:\n",
        "    tr_inp_new= pickle.load(inp_new)"
      ],
      "execution_count": null,
      "outputs": []
    },
    {
      "cell_type": "markdown",
      "metadata": {
        "id": "Id_FQyy2eAZ8"
      },
      "source": [
        "##**Analysis of the Outpatient Dataset**"
      ]
    },
    {
      "cell_type": "code",
      "metadata": {
        "colab": {
          "base_uri": "https://localhost:8080/",
          "height": 162
        },
        "id": "w5M3T_TXeHq4",
        "outputId": "78244d6f-da59-45b3-9f1a-e39af490ad5b"
      },
      "source": [
        "train_outpat.head(3)"
      ],
      "execution_count": null,
      "outputs": [
        {
          "output_type": "execute_result",
          "data": {
            "text/html": [
              "<div>\n",
              "<style scoped>\n",
              "    .dataframe tbody tr th:only-of-type {\n",
              "        vertical-align: middle;\n",
              "    }\n",
              "\n",
              "    .dataframe tbody tr th {\n",
              "        vertical-align: top;\n",
              "    }\n",
              "\n",
              "    .dataframe thead th {\n",
              "        text-align: right;\n",
              "    }\n",
              "</style>\n",
              "<table border=\"1\" class=\"dataframe\">\n",
              "  <thead>\n",
              "    <tr style=\"text-align: right;\">\n",
              "      <th></th>\n",
              "      <th>BeneID</th>\n",
              "      <th>ClaimID</th>\n",
              "      <th>ClaimStartDt</th>\n",
              "      <th>ClaimEndDt</th>\n",
              "      <th>Provider</th>\n",
              "      <th>InscClaimAmtReimbursed</th>\n",
              "      <th>AttendingPhysician</th>\n",
              "      <th>OperatingPhysician</th>\n",
              "      <th>OtherPhysician</th>\n",
              "      <th>ClmDiagnosisCode_1</th>\n",
              "      <th>ClmDiagnosisCode_2</th>\n",
              "      <th>ClmDiagnosisCode_3</th>\n",
              "      <th>ClmDiagnosisCode_4</th>\n",
              "      <th>ClmDiagnosisCode_5</th>\n",
              "      <th>ClmDiagnosisCode_6</th>\n",
              "      <th>ClmDiagnosisCode_7</th>\n",
              "      <th>ClmDiagnosisCode_8</th>\n",
              "      <th>ClmDiagnosisCode_9</th>\n",
              "      <th>ClmDiagnosisCode_10</th>\n",
              "      <th>ClmProcedureCode_1</th>\n",
              "      <th>ClmProcedureCode_2</th>\n",
              "      <th>ClmProcedureCode_3</th>\n",
              "      <th>ClmProcedureCode_4</th>\n",
              "      <th>ClmProcedureCode_5</th>\n",
              "      <th>ClmProcedureCode_6</th>\n",
              "      <th>DeductibleAmtPaid</th>\n",
              "      <th>ClmAdmitDiagnosisCode</th>\n",
              "    </tr>\n",
              "  </thead>\n",
              "  <tbody>\n",
              "    <tr>\n",
              "      <th>0</th>\n",
              "      <td>BENE11002</td>\n",
              "      <td>CLM624349</td>\n",
              "      <td>2009-10-11</td>\n",
              "      <td>2009-10-11</td>\n",
              "      <td>PRV56011</td>\n",
              "      <td>30</td>\n",
              "      <td>PHY326117</td>\n",
              "      <td>NaN</td>\n",
              "      <td>NaN</td>\n",
              "      <td>78943</td>\n",
              "      <td>V5866</td>\n",
              "      <td>V1272</td>\n",
              "      <td>NaN</td>\n",
              "      <td>NaN</td>\n",
              "      <td>NaN</td>\n",
              "      <td>NaN</td>\n",
              "      <td>NaN</td>\n",
              "      <td>NaN</td>\n",
              "      <td>NaN</td>\n",
              "      <td>NaN</td>\n",
              "      <td>NaN</td>\n",
              "      <td>NaN</td>\n",
              "      <td>NaN</td>\n",
              "      <td>NaN</td>\n",
              "      <td>NaN</td>\n",
              "      <td>0</td>\n",
              "      <td>56409</td>\n",
              "    </tr>\n",
              "    <tr>\n",
              "      <th>1</th>\n",
              "      <td>BENE11003</td>\n",
              "      <td>CLM189947</td>\n",
              "      <td>2009-02-12</td>\n",
              "      <td>2009-02-12</td>\n",
              "      <td>PRV57610</td>\n",
              "      <td>80</td>\n",
              "      <td>PHY362868</td>\n",
              "      <td>NaN</td>\n",
              "      <td>NaN</td>\n",
              "      <td>6115</td>\n",
              "      <td>NaN</td>\n",
              "      <td>NaN</td>\n",
              "      <td>NaN</td>\n",
              "      <td>NaN</td>\n",
              "      <td>NaN</td>\n",
              "      <td>NaN</td>\n",
              "      <td>NaN</td>\n",
              "      <td>NaN</td>\n",
              "      <td>NaN</td>\n",
              "      <td>NaN</td>\n",
              "      <td>NaN</td>\n",
              "      <td>NaN</td>\n",
              "      <td>NaN</td>\n",
              "      <td>NaN</td>\n",
              "      <td>NaN</td>\n",
              "      <td>0</td>\n",
              "      <td>79380</td>\n",
              "    </tr>\n",
              "    <tr>\n",
              "      <th>2</th>\n",
              "      <td>BENE11003</td>\n",
              "      <td>CLM438021</td>\n",
              "      <td>2009-06-27</td>\n",
              "      <td>2009-06-27</td>\n",
              "      <td>PRV57595</td>\n",
              "      <td>10</td>\n",
              "      <td>PHY328821</td>\n",
              "      <td>NaN</td>\n",
              "      <td>NaN</td>\n",
              "      <td>2723</td>\n",
              "      <td>NaN</td>\n",
              "      <td>NaN</td>\n",
              "      <td>NaN</td>\n",
              "      <td>NaN</td>\n",
              "      <td>NaN</td>\n",
              "      <td>NaN</td>\n",
              "      <td>NaN</td>\n",
              "      <td>NaN</td>\n",
              "      <td>NaN</td>\n",
              "      <td>NaN</td>\n",
              "      <td>NaN</td>\n",
              "      <td>NaN</td>\n",
              "      <td>NaN</td>\n",
              "      <td>NaN</td>\n",
              "      <td>NaN</td>\n",
              "      <td>0</td>\n",
              "      <td>NaN</td>\n",
              "    </tr>\n",
              "  </tbody>\n",
              "</table>\n",
              "</div>"
            ],
            "text/plain": [
              "      BeneID    ClaimID  ... DeductibleAmtPaid ClmAdmitDiagnosisCode\n",
              "0  BENE11002  CLM624349  ...                 0                 56409\n",
              "1  BENE11003  CLM189947  ...                 0                 79380\n",
              "2  BENE11003  CLM438021  ...                 0                   NaN\n",
              "\n",
              "[3 rows x 27 columns]"
            ]
          },
          "metadata": {
            "tags": []
          },
          "execution_count": 44
        }
      ]
    },
    {
      "cell_type": "code",
      "metadata": {
        "colab": {
          "base_uri": "https://localhost:8080/"
        },
        "id": "6OhC-qVleiWE",
        "outputId": "1093baeb-bc8b-41a0-da04-cba1827fdea4"
      },
      "source": [
        "((train_outpat.isna().sum())/(train_outpat.shape[0]))*100"
      ],
      "execution_count": null,
      "outputs": [
        {
          "output_type": "execute_result",
          "data": {
            "text/plain": [
              "BeneID                      0.000000\n",
              "ClaimID                     0.000000\n",
              "ClaimStartDt                0.000000\n",
              "ClaimEndDt                  0.000000\n",
              "Provider                    0.000000\n",
              "InscClaimAmtReimbursed      0.000000\n",
              "AttendingPhysician          0.269635\n",
              "OperatingPhysician         82.497484\n",
              "OtherPhysician             62.327205\n",
              "ClmDiagnosisCode_1          2.018979\n",
              "ClmDiagnosisCode_2         37.737307\n",
              "ClmDiagnosisCode_3         60.741264\n",
              "ClmDiagnosisCode_4         75.741351\n",
              "ClmDiagnosisCode_5         85.640586\n",
              "ClmDiagnosisCode_6         90.582864\n",
              "ClmDiagnosisCode_7         93.633640\n",
              "ClmDiagnosisCode_8         95.574587\n",
              "ClmDiagnosisCode_9         97.134066\n",
              "ClmDiagnosisCode_10        99.790820\n",
              "ClmProcedureCode_1         99.968710\n",
              "ClmProcedureCode_2         99.993047\n",
              "ClmProcedureCode_3         99.999227\n",
              "ClmProcedureCode_4         99.999614\n",
              "ClmProcedureCode_5        100.000000\n",
              "ClmProcedureCode_6        100.000000\n",
              "DeductibleAmtPaid           0.000000\n",
              "ClmAdmitDiagnosisCode      79.637345\n",
              "dtype: float64"
            ]
          },
          "metadata": {
            "tags": []
          },
          "execution_count": 45
        }
      ]
    },
    {
      "cell_type": "code",
      "metadata": {
        "id": "KuiiA0GvfLJw"
      },
      "source": [
        "train_outpat.drop(['OperatingPhysician','ClmDiagnosisCode_4','ClmDiagnosisCode_5','ClmDiagnosisCode_6','ClmDiagnosisCode_7','ClmDiagnosisCode_8','ClmDiagnosisCode_9','ClmDiagnosisCode_10','ClmProcedureCode_1','ClmProcedureCode_2','ClmProcedureCode_3','ClmProcedureCode_4','ClmProcedureCode_5','ClmProcedureCode_6','ClmAdmitDiagnosisCode'], axis=1, inplace= True)"
      ],
      "execution_count": null,
      "outputs": []
    },
    {
      "cell_type": "code",
      "metadata": {
        "colab": {
          "base_uri": "https://localhost:8080/"
        },
        "id": "Vvcu0UsTf-tM",
        "outputId": "ced7b394-d175-45fa-a87f-c211c21c729e"
      },
      "source": [
        "((train_outpat.isna().sum())/(train_outpat.shape[0]))*100"
      ],
      "execution_count": null,
      "outputs": [
        {
          "output_type": "execute_result",
          "data": {
            "text/plain": [
              "BeneID                     0.000000\n",
              "ClaimID                    0.000000\n",
              "ClaimStartDt               0.000000\n",
              "ClaimEndDt                 0.000000\n",
              "Provider                   0.000000\n",
              "InscClaimAmtReimbursed     0.000000\n",
              "AttendingPhysician         0.269635\n",
              "OtherPhysician            62.327205\n",
              "ClmDiagnosisCode_1         2.018979\n",
              "ClmDiagnosisCode_2        37.737307\n",
              "ClmDiagnosisCode_3        60.741264\n",
              "DeductibleAmtPaid          0.000000\n",
              "dtype: float64"
            ]
          },
          "metadata": {
            "tags": []
          },
          "execution_count": 50
        }
      ]
    },
    {
      "cell_type": "code",
      "metadata": {
        "id": "PmQG6oa1gUGd"
      },
      "source": [
        "train_outpat[\"AttendingPhysician\"]= imp_cat.fit_transform(train_outpat[\"AttendingPhysician\"].values.reshape(-1,1))[:,0]\n",
        "train_outpat[\"ClmDiagnosisCode_1\"]= imp_cat.fit_transform(train_outpat[\"ClmDiagnosisCode_1\"].values.reshape(-1,1))[:,0]"
      ],
      "execution_count": null,
      "outputs": []
    },
    {
      "cell_type": "code",
      "metadata": {
        "id": "C3l_o8xthyj1"
      },
      "source": [
        "train_outpat[\"OtherPhysician\"]= train_outpat[\"OtherPhysician\"].fillna(\"missing\")\n",
        "train_outpat[\"ClmDiagnosisCode_2\"]= train_outpat[\"ClmDiagnosisCode_2\"].fillna(\"missing\")\n",
        "train_outpat[\"ClmDiagnosisCode_3\"]= train_outpat[\"ClmDiagnosisCode_3\"].fillna(\"missing\")"
      ],
      "execution_count": null,
      "outputs": []
    },
    {
      "cell_type": "code",
      "metadata": {
        "colab": {
          "base_uri": "https://localhost:8080/"
        },
        "id": "8S9rPH54igUn",
        "outputId": "7b5440b9-3dad-4343-b99a-96989c6f6590"
      },
      "source": [
        "((train_outpat.isna().sum())/(train_outpat.shape[0]))*100"
      ],
      "execution_count": null,
      "outputs": [
        {
          "output_type": "execute_result",
          "data": {
            "text/plain": [
              "BeneID                    0.0\n",
              "ClaimID                   0.0\n",
              "ClaimStartDt              0.0\n",
              "ClaimEndDt                0.0\n",
              "Provider                  0.0\n",
              "InscClaimAmtReimbursed    0.0\n",
              "AttendingPhysician        0.0\n",
              "OtherPhysician            0.0\n",
              "ClmDiagnosisCode_1        0.0\n",
              "ClmDiagnosisCode_2        0.0\n",
              "ClmDiagnosisCode_3        0.0\n",
              "DeductibleAmtPaid         0.0\n",
              "dtype: float64"
            ]
          },
          "metadata": {
            "tags": []
          },
          "execution_count": 53
        }
      ]
    },
    {
      "cell_type": "code",
      "metadata": {
        "id": "iwW2LjloisvK"
      },
      "source": [
        "train_outpat['ClaimStartDt']= pd.to_datetime(train_outpat['ClaimStartDt'])\n",
        "train_outpat['ClaimEndDt']= pd.to_datetime(train_outpat['ClaimEndDt'])"
      ],
      "execution_count": null,
      "outputs": []
    },
    {
      "cell_type": "code",
      "metadata": {
        "id": "_omNBe2jjzom"
      },
      "source": [
        "train_outpat[\"days_of_claim\"]= train_outpat['ClaimEndDt']-train_outpat['ClaimStartDt']\n",
        "train_outpat[\"days_of_claim\"]= train_outpat[\"days_of_claim\"].dt.days"
      ],
      "execution_count": null,
      "outputs": []
    },
    {
      "cell_type": "code",
      "metadata": {
        "id": "ZLimS4_YkKze"
      },
      "source": [
        "train_outpat.drop(['ClaimStartDt','ClaimEndDt'], axis=1, inplace=True)"
      ],
      "execution_count": null,
      "outputs": []
    },
    {
      "cell_type": "code",
      "metadata": {
        "colab": {
          "base_uri": "https://localhost:8080/",
          "height": 162
        },
        "id": "SLmGwdQGkgFX",
        "outputId": "ecb9f069-0a5a-4307-a882-a86cb00e0eda"
      },
      "source": [
        "train_outpat.head(3)"
      ],
      "execution_count": null,
      "outputs": [
        {
          "output_type": "execute_result",
          "data": {
            "text/html": [
              "<div>\n",
              "<style scoped>\n",
              "    .dataframe tbody tr th:only-of-type {\n",
              "        vertical-align: middle;\n",
              "    }\n",
              "\n",
              "    .dataframe tbody tr th {\n",
              "        vertical-align: top;\n",
              "    }\n",
              "\n",
              "    .dataframe thead th {\n",
              "        text-align: right;\n",
              "    }\n",
              "</style>\n",
              "<table border=\"1\" class=\"dataframe\">\n",
              "  <thead>\n",
              "    <tr style=\"text-align: right;\">\n",
              "      <th></th>\n",
              "      <th>BeneID</th>\n",
              "      <th>ClaimID</th>\n",
              "      <th>Provider</th>\n",
              "      <th>InscClaimAmtReimbursed</th>\n",
              "      <th>AttendingPhysician</th>\n",
              "      <th>OtherPhysician</th>\n",
              "      <th>ClmDiagnosisCode_1</th>\n",
              "      <th>ClmDiagnosisCode_2</th>\n",
              "      <th>ClmDiagnosisCode_3</th>\n",
              "      <th>DeductibleAmtPaid</th>\n",
              "      <th>days_of_claim</th>\n",
              "    </tr>\n",
              "  </thead>\n",
              "  <tbody>\n",
              "    <tr>\n",
              "      <th>0</th>\n",
              "      <td>BENE11002</td>\n",
              "      <td>CLM624349</td>\n",
              "      <td>PRV56011</td>\n",
              "      <td>30</td>\n",
              "      <td>PHY326117</td>\n",
              "      <td>missing</td>\n",
              "      <td>78943</td>\n",
              "      <td>V5866</td>\n",
              "      <td>V1272</td>\n",
              "      <td>0</td>\n",
              "      <td>0</td>\n",
              "    </tr>\n",
              "    <tr>\n",
              "      <th>1</th>\n",
              "      <td>BENE11003</td>\n",
              "      <td>CLM189947</td>\n",
              "      <td>PRV57610</td>\n",
              "      <td>80</td>\n",
              "      <td>PHY362868</td>\n",
              "      <td>missing</td>\n",
              "      <td>6115</td>\n",
              "      <td>missing</td>\n",
              "      <td>missing</td>\n",
              "      <td>0</td>\n",
              "      <td>0</td>\n",
              "    </tr>\n",
              "    <tr>\n",
              "      <th>2</th>\n",
              "      <td>BENE11003</td>\n",
              "      <td>CLM438021</td>\n",
              "      <td>PRV57595</td>\n",
              "      <td>10</td>\n",
              "      <td>PHY328821</td>\n",
              "      <td>missing</td>\n",
              "      <td>2723</td>\n",
              "      <td>missing</td>\n",
              "      <td>missing</td>\n",
              "      <td>0</td>\n",
              "      <td>0</td>\n",
              "    </tr>\n",
              "  </tbody>\n",
              "</table>\n",
              "</div>"
            ],
            "text/plain": [
              "      BeneID    ClaimID  ... DeductibleAmtPaid  days_of_claim\n",
              "0  BENE11002  CLM624349  ...                 0              0\n",
              "1  BENE11003  CLM189947  ...                 0              0\n",
              "2  BENE11003  CLM438021  ...                 0              0\n",
              "\n",
              "[3 rows x 11 columns]"
            ]
          },
          "metadata": {
            "tags": []
          },
          "execution_count": 58
        }
      ]
    },
    {
      "cell_type": "code",
      "metadata": {
        "id": "uBwexGlyklap"
      },
      "source": [
        "with open('/content/drive/MyDrive/Colab Notebooks/train_outpat.pkl', 'wb') as tr_out:\n",
        "    pickle.dump(train_outpat,tr_out)"
      ],
      "execution_count": null,
      "outputs": []
    },
    {
      "cell_type": "code",
      "metadata": {
        "id": "Bve718Hzr4mQ"
      },
      "source": [
        "with open('/content/drive/MyDrive/Colab Notebooks/train_outpat.pkl', 'rb') as tr_out:\n",
        "    train_outpat= pickle.load(tr_out)"
      ],
      "execution_count": null,
      "outputs": []
    },
    {
      "cell_type": "markdown",
      "metadata": {
        "id": "5RTdhovuk5DN"
      },
      "source": [
        "##**Analysis of the Beneficary Dataset**"
      ]
    },
    {
      "cell_type": "code",
      "metadata": {
        "colab": {
          "base_uri": "https://localhost:8080/",
          "height": 213
        },
        "id": "Iy_d-WK2k-dR",
        "outputId": "4ea0aaf9-6cfd-4757-d430-2ba785d594e4"
      },
      "source": [
        "train_ben.head(3)"
      ],
      "execution_count": null,
      "outputs": [
        {
          "output_type": "execute_result",
          "data": {
            "text/html": [
              "<div>\n",
              "<style scoped>\n",
              "    .dataframe tbody tr th:only-of-type {\n",
              "        vertical-align: middle;\n",
              "    }\n",
              "\n",
              "    .dataframe tbody tr th {\n",
              "        vertical-align: top;\n",
              "    }\n",
              "\n",
              "    .dataframe thead th {\n",
              "        text-align: right;\n",
              "    }\n",
              "</style>\n",
              "<table border=\"1\" class=\"dataframe\">\n",
              "  <thead>\n",
              "    <tr style=\"text-align: right;\">\n",
              "      <th></th>\n",
              "      <th>BeneID</th>\n",
              "      <th>DOB</th>\n",
              "      <th>DOD</th>\n",
              "      <th>Gender</th>\n",
              "      <th>Race</th>\n",
              "      <th>RenalDiseaseIndicator</th>\n",
              "      <th>State</th>\n",
              "      <th>County</th>\n",
              "      <th>NoOfMonths_PartACov</th>\n",
              "      <th>NoOfMonths_PartBCov</th>\n",
              "      <th>ChronicCond_Alzheimer</th>\n",
              "      <th>ChronicCond_Heartfailure</th>\n",
              "      <th>ChronicCond_KidneyDisease</th>\n",
              "      <th>ChronicCond_Cancer</th>\n",
              "      <th>ChronicCond_ObstrPulmonary</th>\n",
              "      <th>ChronicCond_Depression</th>\n",
              "      <th>ChronicCond_Diabetes</th>\n",
              "      <th>ChronicCond_IschemicHeart</th>\n",
              "      <th>ChronicCond_Osteoporasis</th>\n",
              "      <th>ChronicCond_rheumatoidarthritis</th>\n",
              "      <th>ChronicCond_stroke</th>\n",
              "      <th>IPAnnualReimbursementAmt</th>\n",
              "      <th>IPAnnualDeductibleAmt</th>\n",
              "      <th>OPAnnualReimbursementAmt</th>\n",
              "      <th>OPAnnualDeductibleAmt</th>\n",
              "    </tr>\n",
              "  </thead>\n",
              "  <tbody>\n",
              "    <tr>\n",
              "      <th>0</th>\n",
              "      <td>BENE11001</td>\n",
              "      <td>1943-01-01</td>\n",
              "      <td>NaN</td>\n",
              "      <td>1</td>\n",
              "      <td>1</td>\n",
              "      <td>0</td>\n",
              "      <td>39</td>\n",
              "      <td>230</td>\n",
              "      <td>12</td>\n",
              "      <td>12</td>\n",
              "      <td>1</td>\n",
              "      <td>2</td>\n",
              "      <td>1</td>\n",
              "      <td>2</td>\n",
              "      <td>2</td>\n",
              "      <td>1</td>\n",
              "      <td>1</td>\n",
              "      <td>1</td>\n",
              "      <td>2</td>\n",
              "      <td>1</td>\n",
              "      <td>1</td>\n",
              "      <td>36000</td>\n",
              "      <td>3204</td>\n",
              "      <td>60</td>\n",
              "      <td>70</td>\n",
              "    </tr>\n",
              "    <tr>\n",
              "      <th>1</th>\n",
              "      <td>BENE11002</td>\n",
              "      <td>1936-09-01</td>\n",
              "      <td>NaN</td>\n",
              "      <td>2</td>\n",
              "      <td>1</td>\n",
              "      <td>0</td>\n",
              "      <td>39</td>\n",
              "      <td>280</td>\n",
              "      <td>12</td>\n",
              "      <td>12</td>\n",
              "      <td>2</td>\n",
              "      <td>2</td>\n",
              "      <td>2</td>\n",
              "      <td>2</td>\n",
              "      <td>2</td>\n",
              "      <td>2</td>\n",
              "      <td>2</td>\n",
              "      <td>2</td>\n",
              "      <td>2</td>\n",
              "      <td>2</td>\n",
              "      <td>2</td>\n",
              "      <td>0</td>\n",
              "      <td>0</td>\n",
              "      <td>30</td>\n",
              "      <td>50</td>\n",
              "    </tr>\n",
              "    <tr>\n",
              "      <th>2</th>\n",
              "      <td>BENE11003</td>\n",
              "      <td>1936-08-01</td>\n",
              "      <td>NaN</td>\n",
              "      <td>1</td>\n",
              "      <td>1</td>\n",
              "      <td>0</td>\n",
              "      <td>52</td>\n",
              "      <td>590</td>\n",
              "      <td>12</td>\n",
              "      <td>12</td>\n",
              "      <td>1</td>\n",
              "      <td>2</td>\n",
              "      <td>2</td>\n",
              "      <td>2</td>\n",
              "      <td>2</td>\n",
              "      <td>2</td>\n",
              "      <td>2</td>\n",
              "      <td>1</td>\n",
              "      <td>2</td>\n",
              "      <td>2</td>\n",
              "      <td>2</td>\n",
              "      <td>0</td>\n",
              "      <td>0</td>\n",
              "      <td>90</td>\n",
              "      <td>40</td>\n",
              "    </tr>\n",
              "  </tbody>\n",
              "</table>\n",
              "</div>"
            ],
            "text/plain": [
              "      BeneID         DOB  ... OPAnnualReimbursementAmt  OPAnnualDeductibleAmt\n",
              "0  BENE11001  1943-01-01  ...                       60                     70\n",
              "1  BENE11002  1936-09-01  ...                       30                     50\n",
              "2  BENE11003  1936-08-01  ...                       90                     40\n",
              "\n",
              "[3 rows x 25 columns]"
            ]
          },
          "metadata": {
            "tags": []
          },
          "execution_count": 59
        }
      ]
    },
    {
      "cell_type": "code",
      "metadata": {
        "colab": {
          "base_uri": "https://localhost:8080/"
        },
        "id": "dQBPWTCalGMq",
        "outputId": "6a0b42fd-a828-4d0a-c4ff-03fea7a57543"
      },
      "source": [
        "((train_ben.isna().sum())/(train_ben.shape[0]))*100"
      ],
      "execution_count": null,
      "outputs": [
        {
          "output_type": "execute_result",
          "data": {
            "text/plain": [
              "BeneID                              0.000000\n",
              "DOB                                 0.000000\n",
              "DOD                                98.974422\n",
              "Gender                              0.000000\n",
              "Race                                0.000000\n",
              "RenalDiseaseIndicator               0.000000\n",
              "State                               0.000000\n",
              "County                              0.000000\n",
              "NoOfMonths_PartACov                 0.000000\n",
              "NoOfMonths_PartBCov                 0.000000\n",
              "ChronicCond_Alzheimer               0.000000\n",
              "ChronicCond_Heartfailure            0.000000\n",
              "ChronicCond_KidneyDisease           0.000000\n",
              "ChronicCond_Cancer                  0.000000\n",
              "ChronicCond_ObstrPulmonary          0.000000\n",
              "ChronicCond_Depression              0.000000\n",
              "ChronicCond_Diabetes                0.000000\n",
              "ChronicCond_IschemicHeart           0.000000\n",
              "ChronicCond_Osteoporasis            0.000000\n",
              "ChronicCond_rheumatoidarthritis     0.000000\n",
              "ChronicCond_stroke                  0.000000\n",
              "IPAnnualReimbursementAmt            0.000000\n",
              "IPAnnualDeductibleAmt               0.000000\n",
              "OPAnnualReimbursementAmt            0.000000\n",
              "OPAnnualDeductibleAmt               0.000000\n",
              "dtype: float64"
            ]
          },
          "metadata": {
            "tags": []
          },
          "execution_count": 60
        }
      ]
    },
    {
      "cell_type": "code",
      "metadata": {
        "id": "q5QB-zJomo87"
      },
      "source": [
        "train_ben.drop(['DOD'], axis=1, inplace= True)"
      ],
      "execution_count": null,
      "outputs": []
    },
    {
      "cell_type": "code",
      "metadata": {
        "id": "Yw-QQVyIC1UU"
      },
      "source": [
        "with open('/content/drive/MyDrive/Colab Notebooks/train_ben.pkl','wb') as tr_ben:\n",
        "    pickle.dump(train_ben,tr_ben)"
      ],
      "execution_count": null,
      "outputs": []
    },
    {
      "cell_type": "code",
      "metadata": {
        "id": "ia4u52d4C09s"
      },
      "source": [
        "with open('/content/drive/MyDrive/Colab Notebooks/train_outpat.pkl', 'rb') as tr_ben:\n",
        "    train_ben= pickle.load(tr_ben)"
      ],
      "execution_count": null,
      "outputs": []
    },
    {
      "cell_type": "code",
      "metadata": {
        "colab": {
          "base_uri": "https://localhost:8080/"
        },
        "id": "zhqLDNajnJg_",
        "outputId": "abfd1393-e926-4848-e1f8-6e14975f2c2f"
      },
      "source": [
        "train_ben['NoOfMonths_PartACov'].equals(train_ben['NoOfMonths_PartBCov'])"
      ],
      "execution_count": null,
      "outputs": [
        {
          "output_type": "execute_result",
          "data": {
            "text/plain": [
              "False"
            ]
          },
          "metadata": {
            "tags": []
          },
          "execution_count": 81
        }
      ]
    },
    {
      "cell_type": "code",
      "metadata": {
        "id": "Do2CP9QOuxUr"
      },
      "source": [
        "y= pd.DatetimeIndex(train_ben['DOB']).month"
      ],
      "execution_count": null,
      "outputs": []
    },
    {
      "cell_type": "code",
      "metadata": {
        "colab": {
          "base_uri": "https://localhost:8080/"
        },
        "id": "PXkWeSonvqFG",
        "outputId": "e7479913-21d5-4ac4-adb3-4306c7796e7f"
      },
      "source": [
        "y[:5]"
      ],
      "execution_count": null,
      "outputs": [
        {
          "output_type": "execute_result",
          "data": {
            "text/plain": [
              "Int64Index([1, 9, 8, 7, 9], dtype='int64', name='DOB')"
            ]
          },
          "metadata": {
            "tags": []
          },
          "execution_count": 90
        }
      ]
    },
    {
      "cell_type": "code",
      "metadata": {
        "colab": {
          "base_uri": "https://localhost:8080/"
        },
        "id": "hhr8jtX4vr7P",
        "outputId": "4d431491-22a9-42fa-8da6-3010e222f28f"
      },
      "source": [
        "clm_dia_cod1= set(train_inpat[\"ClmDiagnosisCode_1\"]).intersection(set(train_outpat[\"ClmDiagnosisCode_1\"]))\n",
        "print(len(clm_dia_cod1))"
      ],
      "execution_count": null,
      "outputs": [
        {
          "output_type": "stream",
          "text": [
            "2158\n"
          ],
          "name": "stdout"
        }
      ]
    },
    {
      "cell_type": "code",
      "metadata": {
        "colab": {
          "base_uri": "https://localhost:8080/"
        },
        "id": "lZD2HVK2EgYp",
        "outputId": "f4cbc5f4-3984-4cc5-956a-475738bc2f2f"
      },
      "source": [
        "train_inpat[\"ClmDiagnosisCode_1\"].isna().sum()"
      ],
      "execution_count": null,
      "outputs": [
        {
          "output_type": "execute_result",
          "data": {
            "text/plain": [
              "0"
            ]
          },
          "metadata": {
            "tags": []
          },
          "execution_count": 93
        }
      ]
    },
    {
      "cell_type": "code",
      "metadata": {
        "colab": {
          "base_uri": "https://localhost:8080/"
        },
        "id": "BGgnmEeEEwOU",
        "outputId": "8ea7584e-49aa-4142-d593-a80dace2c2f8"
      },
      "source": [
        "print(\"Shape of the Inpatient Dataset post Imputation: \", tr_inpat_new.shape)\n",
        "print(\"Shape of the Outpatient Dataset post Imputation: \", train_outpat.shape)\n",
        "print(\"Shape of the Beneficiary Dataset post Imputation: \", train_ben.shape)"
      ],
      "execution_count": null,
      "outputs": [
        {
          "output_type": "stream",
          "text": [
            "Shape of the Inpatient Dataset post Imputation:  (40474, 21)\n",
            "Shape of the Outpatient Dataset post Imputation:  (517737, 11)\n",
            "Shape of the Beneficiary Dataset post Imputation:  (138556, 24)\n"
          ],
          "name": "stdout"
        }
      ]
    },
    {
      "cell_type": "code",
      "metadata": {
        "id": "V8hlWFivJsqr"
      },
      "source": [
        "ClaimID\n",
        "BeneID"
      ],
      "execution_count": null,
      "outputs": []
    },
    {
      "cell_type": "code",
      "metadata": {
        "colab": {
          "base_uri": "https://localhost:8080/"
        },
        "id": "DePWVZH5K4CM",
        "outputId": "1dc228cf-f1be-4fad-fa52-f4ad7ce32fe4"
      },
      "source": [
        "claimids= set(train_inpat[\"ClaimID\"]).intersection(set(train_outpat[\"ClaimID\"]))\n",
        "print(\"No.of Common Claim IDs between Inpatient and Outpatient Datasets: \",len(claimids))\n",
        "\n",
        "benids1= set(train_inpat[\"BeneID\"]).intersection(set(train_outpat[\"BeneID\"]))\n",
        "print(\"No.of Common Beneficiary IDs between Inpatient and Outpatient Datasets: \",len(benids1))\n",
        "\n",
        "benids2= set(train_inpat[\"BeneID\"]).intersection(set(train_ben[\"BeneID\"]))\n",
        "print(\"No.of Common Beneficiary IDs between inpatient and Beneficiary Datasets: \",len(benids2))\n",
        "\n",
        "benids3= set(train_outpat[\"BeneID\"]).intersection(set(train_ben[\"BeneID\"]))\n",
        "print(\"Np.of Common Beneficiary IDs between Outpatient and Beneficiary Datasets: \",len(benids3))"
      ],
      "execution_count": null,
      "outputs": [
        {
          "output_type": "stream",
          "text": [
            "No.of Common Claim IDs between Inpatient and Outpatient Datasets:  0\n",
            "No.of Common Beneficiary IDs between Inpatient and Outpatient Datasets:  26713\n",
            "No.of Common Beneficiary IDs between inpatient and Beneficiary Datasets:  31289\n",
            "Np.of Common Beneficiary IDs between Outpatient and Beneficiary Datasets:  133980\n"
          ],
          "name": "stdout"
        }
      ]
    },
    {
      "cell_type": "markdown",
      "metadata": {
        "id": "M2PhktAZDbBO"
      },
      "source": [
        "##**Merging the Inpatient, Outpatient and Beneficiary Dataframes**"
      ]
    },
    {
      "cell_type": "code",
      "metadata": {
        "id": "BCkM0HQDK32i",
        "colab": {
          "base_uri": "https://localhost:8080/"
        },
        "outputId": "fd0208f5-1b07-4997-cd66-15fe92e13563"
      },
      "source": [
        "df_in_out= pd.merge(train_outpat, tr_inpat_new, how='outer', left_on= [\"ClaimID\"], right_on=[\"ClaimID\"])\n",
        "print(df_in_out.shape)"
      ],
      "execution_count": null,
      "outputs": [
        {
          "output_type": "stream",
          "text": [
            "(558211, 31)\n"
          ],
          "name": "stdout"
        }
      ]
    },
    {
      "cell_type": "code",
      "metadata": {
        "colab": {
          "base_uri": "https://localhost:8080/"
        },
        "id": "ZJtRNv5TFiSW",
        "outputId": "2f7a3296-9e51-42a0-c22c-3d39619e3963"
      },
      "source": [
        "df_in_out.columns"
      ],
      "execution_count": null,
      "outputs": [
        {
          "output_type": "execute_result",
          "data": {
            "text/plain": [
              "Index(['BeneID_x', 'ClaimID', 'Provider_x', 'InscClaimAmtReimbursed_x',\n",
              "       'AttendingPhysician_x', 'OtherPhysician', 'ClmDiagnosisCode_1_x',\n",
              "       'ClmDiagnosisCode_2_x', 'ClmDiagnosisCode_3_x', 'DeductibleAmtPaid',\n",
              "       'days_of_claim_x', 'BeneID_y', 'Provider_y', 'InscClaimAmtReimbursed_y',\n",
              "       'AttendingPhysician_y', 'OperatingPhysician', 'ClmAdmitDiagnosisCode',\n",
              "       'DiagnosisGroupCode', 'ClmDiagnosisCode_1_y', 'ClmDiagnosisCode_2_y',\n",
              "       'ClmDiagnosisCode_3_y', 'ClmDiagnosisCode_4', 'ClmDiagnosisCode_5',\n",
              "       'ClmDiagnosisCode_6', 'ClmDiagnosisCode_7', 'ClmDiagnosisCode_8',\n",
              "       'ClmDiagnosisCode_9', 'ClmProcedureCode_1', 'class', 'days_admission',\n",
              "       'days_of_claim_y'],\n",
              "      dtype='object')"
            ]
          },
          "metadata": {
            "tags": []
          },
          "execution_count": 125
        }
      ]
    },
    {
      "cell_type": "code",
      "metadata": {
        "id": "aHihQxBVFygc"
      },
      "source": [
        ""
      ],
      "execution_count": null,
      "outputs": []
    },
    {
      "cell_type": "code",
      "metadata": {
        "colab": {
          "base_uri": "https://localhost:8080/",
          "height": 323
        },
        "id": "t-HY3xihEXCc",
        "outputId": "c6d5863b-e10b-446a-ac7b-095664c9b3f5"
      },
      "source": [
        "df_final= pd.merge(df_in_out,train_ben, how='outer',left_on= 'BeneID', right_on='BeneID')\n",
        "print(df_final.shape)"
      ],
      "execution_count": null,
      "outputs": [
        {
          "output_type": "error",
          "ename": "KeyError",
          "evalue": "ignored",
          "traceback": [
            "\u001b[0;31m---------------------------------------------------------------------------\u001b[0m",
            "\u001b[0;31mKeyError\u001b[0m                                  Traceback (most recent call last)",
            "\u001b[0;32m<ipython-input-120-c410a64ec343>\u001b[0m in \u001b[0;36m<module>\u001b[0;34m()\u001b[0m\n\u001b[0;32m----> 1\u001b[0;31m \u001b[0mdf_final\u001b[0m\u001b[0;34m=\u001b[0m \u001b[0mpd\u001b[0m\u001b[0;34m.\u001b[0m\u001b[0mmerge\u001b[0m\u001b[0;34m(\u001b[0m\u001b[0mdf_in_out\u001b[0m\u001b[0;34m,\u001b[0m\u001b[0mtrain_ben\u001b[0m\u001b[0;34m,\u001b[0m \u001b[0mhow\u001b[0m\u001b[0;34m=\u001b[0m\u001b[0;34m'outer'\u001b[0m\u001b[0;34m,\u001b[0m\u001b[0mleft_on\u001b[0m\u001b[0;34m=\u001b[0m \u001b[0;34m'BeneID'\u001b[0m\u001b[0;34m,\u001b[0m \u001b[0mright_on\u001b[0m\u001b[0;34m=\u001b[0m\u001b[0;34m'BeneID'\u001b[0m\u001b[0;34m)\u001b[0m\u001b[0;34m\u001b[0m\u001b[0;34m\u001b[0m\u001b[0m\n\u001b[0m\u001b[1;32m      2\u001b[0m \u001b[0mprint\u001b[0m\u001b[0;34m(\u001b[0m\u001b[0mdf_final\u001b[0m\u001b[0;34m.\u001b[0m\u001b[0mshape\u001b[0m\u001b[0;34m)\u001b[0m\u001b[0;34m\u001b[0m\u001b[0;34m\u001b[0m\u001b[0m\n",
            "\u001b[0;32m/usr/local/lib/python3.7/dist-packages/pandas/core/reshape/merge.py\u001b[0m in \u001b[0;36mmerge\u001b[0;34m(left, right, how, on, left_on, right_on, left_index, right_index, sort, suffixes, copy, indicator, validate)\u001b[0m\n\u001b[1;32m     85\u001b[0m         \u001b[0mcopy\u001b[0m\u001b[0;34m=\u001b[0m\u001b[0mcopy\u001b[0m\u001b[0;34m,\u001b[0m\u001b[0;34m\u001b[0m\u001b[0;34m\u001b[0m\u001b[0m\n\u001b[1;32m     86\u001b[0m         \u001b[0mindicator\u001b[0m\u001b[0;34m=\u001b[0m\u001b[0mindicator\u001b[0m\u001b[0;34m,\u001b[0m\u001b[0;34m\u001b[0m\u001b[0;34m\u001b[0m\u001b[0m\n\u001b[0;32m---> 87\u001b[0;31m         \u001b[0mvalidate\u001b[0m\u001b[0;34m=\u001b[0m\u001b[0mvalidate\u001b[0m\u001b[0;34m,\u001b[0m\u001b[0;34m\u001b[0m\u001b[0;34m\u001b[0m\u001b[0m\n\u001b[0m\u001b[1;32m     88\u001b[0m     )\n\u001b[1;32m     89\u001b[0m     \u001b[0;32mreturn\u001b[0m \u001b[0mop\u001b[0m\u001b[0;34m.\u001b[0m\u001b[0mget_result\u001b[0m\u001b[0;34m(\u001b[0m\u001b[0;34m)\u001b[0m\u001b[0;34m\u001b[0m\u001b[0;34m\u001b[0m\u001b[0m\n",
            "\u001b[0;32m/usr/local/lib/python3.7/dist-packages/pandas/core/reshape/merge.py\u001b[0m in \u001b[0;36m__init__\u001b[0;34m(self, left, right, how, on, left_on, right_on, axis, left_index, right_index, sort, suffixes, copy, indicator, validate)\u001b[0m\n\u001b[1;32m    650\u001b[0m             \u001b[0mself\u001b[0m\u001b[0;34m.\u001b[0m\u001b[0mright_join_keys\u001b[0m\u001b[0;34m,\u001b[0m\u001b[0;34m\u001b[0m\u001b[0;34m\u001b[0m\u001b[0m\n\u001b[1;32m    651\u001b[0m             \u001b[0mself\u001b[0m\u001b[0;34m.\u001b[0m\u001b[0mjoin_names\u001b[0m\u001b[0;34m,\u001b[0m\u001b[0;34m\u001b[0m\u001b[0;34m\u001b[0m\u001b[0m\n\u001b[0;32m--> 652\u001b[0;31m         ) = self._get_merge_keys()\n\u001b[0m\u001b[1;32m    653\u001b[0m \u001b[0;34m\u001b[0m\u001b[0m\n\u001b[1;32m    654\u001b[0m         \u001b[0;31m# validate the merge keys dtypes. We may need to coerce\u001b[0m\u001b[0;34m\u001b[0m\u001b[0;34m\u001b[0m\u001b[0;34m\u001b[0m\u001b[0m\n",
            "\u001b[0;32m/usr/local/lib/python3.7/dist-packages/pandas/core/reshape/merge.py\u001b[0m in \u001b[0;36m_get_merge_keys\u001b[0;34m(self)\u001b[0m\n\u001b[1;32m   1016\u001b[0m                         \u001b[0mright_keys\u001b[0m\u001b[0;34m.\u001b[0m\u001b[0mappend\u001b[0m\u001b[0;34m(\u001b[0m\u001b[0mrk\u001b[0m\u001b[0;34m)\u001b[0m\u001b[0;34m\u001b[0m\u001b[0;34m\u001b[0m\u001b[0m\n\u001b[1;32m   1017\u001b[0m                     \u001b[0;32mif\u001b[0m \u001b[0mlk\u001b[0m \u001b[0;32mis\u001b[0m \u001b[0;32mnot\u001b[0m \u001b[0;32mNone\u001b[0m\u001b[0;34m:\u001b[0m\u001b[0;34m\u001b[0m\u001b[0;34m\u001b[0m\u001b[0m\n\u001b[0;32m-> 1018\u001b[0;31m                         \u001b[0mleft_keys\u001b[0m\u001b[0;34m.\u001b[0m\u001b[0mappend\u001b[0m\u001b[0;34m(\u001b[0m\u001b[0mleft\u001b[0m\u001b[0;34m.\u001b[0m\u001b[0m_get_label_or_level_values\u001b[0m\u001b[0;34m(\u001b[0m\u001b[0mlk\u001b[0m\u001b[0;34m)\u001b[0m\u001b[0;34m)\u001b[0m\u001b[0;34m\u001b[0m\u001b[0;34m\u001b[0m\u001b[0m\n\u001b[0m\u001b[1;32m   1019\u001b[0m                         \u001b[0mjoin_names\u001b[0m\u001b[0;34m.\u001b[0m\u001b[0mappend\u001b[0m\u001b[0;34m(\u001b[0m\u001b[0mlk\u001b[0m\u001b[0;34m)\u001b[0m\u001b[0;34m\u001b[0m\u001b[0;34m\u001b[0m\u001b[0m\n\u001b[1;32m   1020\u001b[0m                     \u001b[0;32melse\u001b[0m\u001b[0;34m:\u001b[0m\u001b[0;34m\u001b[0m\u001b[0;34m\u001b[0m\u001b[0m\n",
            "\u001b[0;32m/usr/local/lib/python3.7/dist-packages/pandas/core/generic.py\u001b[0m in \u001b[0;36m_get_label_or_level_values\u001b[0;34m(self, key, axis)\u001b[0m\n\u001b[1;32m   1561\u001b[0m             \u001b[0mvalues\u001b[0m \u001b[0;34m=\u001b[0m \u001b[0mself\u001b[0m\u001b[0;34m.\u001b[0m\u001b[0maxes\u001b[0m\u001b[0;34m[\u001b[0m\u001b[0maxis\u001b[0m\u001b[0;34m]\u001b[0m\u001b[0;34m.\u001b[0m\u001b[0mget_level_values\u001b[0m\u001b[0;34m(\u001b[0m\u001b[0mkey\u001b[0m\u001b[0;34m)\u001b[0m\u001b[0;34m.\u001b[0m\u001b[0m_values\u001b[0m\u001b[0;34m\u001b[0m\u001b[0;34m\u001b[0m\u001b[0m\n\u001b[1;32m   1562\u001b[0m         \u001b[0;32melse\u001b[0m\u001b[0;34m:\u001b[0m\u001b[0;34m\u001b[0m\u001b[0;34m\u001b[0m\u001b[0m\n\u001b[0;32m-> 1563\u001b[0;31m             \u001b[0;32mraise\u001b[0m \u001b[0mKeyError\u001b[0m\u001b[0;34m(\u001b[0m\u001b[0mkey\u001b[0m\u001b[0;34m)\u001b[0m\u001b[0;34m\u001b[0m\u001b[0;34m\u001b[0m\u001b[0m\n\u001b[0m\u001b[1;32m   1564\u001b[0m \u001b[0;34m\u001b[0m\u001b[0m\n\u001b[1;32m   1565\u001b[0m         \u001b[0;31m# Check for duplicates\u001b[0m\u001b[0;34m\u001b[0m\u001b[0;34m\u001b[0m\u001b[0;34m\u001b[0m\u001b[0m\n",
            "\u001b[0;31mKeyError\u001b[0m: 'BeneID'"
          ]
        }
      ]
    },
    {
      "cell_type": "code",
      "metadata": {
        "id": "q9HdyyYGFKY-"
      },
      "source": [
        ""
      ],
      "execution_count": null,
      "outputs": []
    }
  ]
}