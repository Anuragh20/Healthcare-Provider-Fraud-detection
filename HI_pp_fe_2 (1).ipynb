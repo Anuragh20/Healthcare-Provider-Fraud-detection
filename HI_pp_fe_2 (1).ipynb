{
  "nbformat": 4,
  "nbformat_minor": 0,
  "metadata": {
    "colab": {
      "name": "HI_pp_fe_2.ipynb",
      "provenance": [],
      "collapsed_sections": []
    },
    "kernelspec": {
      "display_name": "Python 3",
      "name": "python3"
    },
    "language_info": {
      "name": "python"
    }
  },
  "cells": [
    {
      "cell_type": "markdown",
      "metadata": {
        "id": "l7FjWDpuHNgM"
      },
      "source": [
        "##**Importing the Requisite Libraries**"
      ]
    },
    {
      "cell_type": "code",
      "metadata": {
        "id": "HNNdNemnlVJB"
      },
      "source": [
        "import csv\n",
        "import pickle\n",
        "import numpy as np\n",
        "import pandas as pd\n",
        "import seaborn as sns\n",
        "from tqdm import tqdm\n",
        "from datetime import datetime\n",
        "import matplotlib.pyplot as plt\n",
        "from matplotlib.gridspec import GridSpec\n",
        "from sklearn.impute import SimpleImputer"
      ],
      "execution_count": 30,
      "outputs": []
    },
    {
      "cell_type": "code",
      "metadata": {
        "colab": {
          "base_uri": "https://localhost:8080/"
        },
        "id": "nLIDz_UMtPS4",
        "outputId": "9b175d43-ef60-477f-ba94-19aa205d17ef"
      },
      "source": [
        "from google.colab import drive\n",
        "drive.mount('/content/drive')"
      ],
      "execution_count": null,
      "outputs": [
        {
          "output_type": "stream",
          "text": [
            "Drive already mounted at /content/drive; to attempt to forcibly remount, call drive.mount(\"/content/drive\", force_remount=True).\n"
          ],
          "name": "stdout"
        }
      ]
    },
    {
      "cell_type": "markdown",
      "metadata": {
        "id": "lfOLrMlnDgsq"
      },
      "source": [
        "##**Analysis of the Train Datasets**"
      ]
    },
    {
      "cell_type": "markdown",
      "metadata": {
        "id": "I7t1j6sRDpJW"
      },
      "source": [
        "##<font color='blue'><b> **Loading the Train Datasets**</b></font>"
      ]
    },
    {
      "cell_type": "code",
      "metadata": {
        "id": "cp8nNEbDm4Wm"
      },
      "source": [
        "train_ben= pd.read_csv('/content/drive/MyDrive/Colab Notebooks/Train_Beneficiarydata.csv')\n",
        "train_inpat= pd.read_csv('/content/drive/MyDrive/Colab Notebooks/Train_Inpatientdata.csv')\n",
        "train_outpat= pd.read_csv('/content/drive/MyDrive/Colab Notebooks/Train_Outpatientdata.csv')\n",
        "train_y= pd.read_csv('/content/drive/MyDrive/Colab Notebooks/Train.csv')"
      ],
      "execution_count": 2,
      "outputs": []
    },
    {
      "cell_type": "code",
      "metadata": {
        "colab": {
          "base_uri": "https://localhost:8080/",
          "height": 213
        },
        "id": "j1HKfVGcm4RG",
        "outputId": "7b492087-bc0b-44b5-a475-17e32e612f4a"
      },
      "source": [
        "train_ben.head(3)"
      ],
      "execution_count": null,
      "outputs": [
        {
          "output_type": "execute_result",
          "data": {
            "text/html": [
              "<div>\n",
              "<style scoped>\n",
              "    .dataframe tbody tr th:only-of-type {\n",
              "        vertical-align: middle;\n",
              "    }\n",
              "\n",
              "    .dataframe tbody tr th {\n",
              "        vertical-align: top;\n",
              "    }\n",
              "\n",
              "    .dataframe thead th {\n",
              "        text-align: right;\n",
              "    }\n",
              "</style>\n",
              "<table border=\"1\" class=\"dataframe\">\n",
              "  <thead>\n",
              "    <tr style=\"text-align: right;\">\n",
              "      <th></th>\n",
              "      <th>BeneID</th>\n",
              "      <th>DOB</th>\n",
              "      <th>DOD</th>\n",
              "      <th>Gender</th>\n",
              "      <th>Race</th>\n",
              "      <th>RenalDiseaseIndicator</th>\n",
              "      <th>State</th>\n",
              "      <th>County</th>\n",
              "      <th>NoOfMonths_PartACov</th>\n",
              "      <th>NoOfMonths_PartBCov</th>\n",
              "      <th>ChronicCond_Alzheimer</th>\n",
              "      <th>ChronicCond_Heartfailure</th>\n",
              "      <th>ChronicCond_KidneyDisease</th>\n",
              "      <th>ChronicCond_Cancer</th>\n",
              "      <th>ChronicCond_ObstrPulmonary</th>\n",
              "      <th>ChronicCond_Depression</th>\n",
              "      <th>ChronicCond_Diabetes</th>\n",
              "      <th>ChronicCond_IschemicHeart</th>\n",
              "      <th>ChronicCond_Osteoporasis</th>\n",
              "      <th>ChronicCond_rheumatoidarthritis</th>\n",
              "      <th>ChronicCond_stroke</th>\n",
              "      <th>IPAnnualReimbursementAmt</th>\n",
              "      <th>IPAnnualDeductibleAmt</th>\n",
              "      <th>OPAnnualReimbursementAmt</th>\n",
              "      <th>OPAnnualDeductibleAmt</th>\n",
              "    </tr>\n",
              "  </thead>\n",
              "  <tbody>\n",
              "    <tr>\n",
              "      <th>0</th>\n",
              "      <td>BENE11001</td>\n",
              "      <td>1943-01-01</td>\n",
              "      <td>NaN</td>\n",
              "      <td>1</td>\n",
              "      <td>1</td>\n",
              "      <td>0</td>\n",
              "      <td>39</td>\n",
              "      <td>230</td>\n",
              "      <td>12</td>\n",
              "      <td>12</td>\n",
              "      <td>1</td>\n",
              "      <td>2</td>\n",
              "      <td>1</td>\n",
              "      <td>2</td>\n",
              "      <td>2</td>\n",
              "      <td>1</td>\n",
              "      <td>1</td>\n",
              "      <td>1</td>\n",
              "      <td>2</td>\n",
              "      <td>1</td>\n",
              "      <td>1</td>\n",
              "      <td>36000</td>\n",
              "      <td>3204</td>\n",
              "      <td>60</td>\n",
              "      <td>70</td>\n",
              "    </tr>\n",
              "    <tr>\n",
              "      <th>1</th>\n",
              "      <td>BENE11002</td>\n",
              "      <td>1936-09-01</td>\n",
              "      <td>NaN</td>\n",
              "      <td>2</td>\n",
              "      <td>1</td>\n",
              "      <td>0</td>\n",
              "      <td>39</td>\n",
              "      <td>280</td>\n",
              "      <td>12</td>\n",
              "      <td>12</td>\n",
              "      <td>2</td>\n",
              "      <td>2</td>\n",
              "      <td>2</td>\n",
              "      <td>2</td>\n",
              "      <td>2</td>\n",
              "      <td>2</td>\n",
              "      <td>2</td>\n",
              "      <td>2</td>\n",
              "      <td>2</td>\n",
              "      <td>2</td>\n",
              "      <td>2</td>\n",
              "      <td>0</td>\n",
              "      <td>0</td>\n",
              "      <td>30</td>\n",
              "      <td>50</td>\n",
              "    </tr>\n",
              "    <tr>\n",
              "      <th>2</th>\n",
              "      <td>BENE11003</td>\n",
              "      <td>1936-08-01</td>\n",
              "      <td>NaN</td>\n",
              "      <td>1</td>\n",
              "      <td>1</td>\n",
              "      <td>0</td>\n",
              "      <td>52</td>\n",
              "      <td>590</td>\n",
              "      <td>12</td>\n",
              "      <td>12</td>\n",
              "      <td>1</td>\n",
              "      <td>2</td>\n",
              "      <td>2</td>\n",
              "      <td>2</td>\n",
              "      <td>2</td>\n",
              "      <td>2</td>\n",
              "      <td>2</td>\n",
              "      <td>1</td>\n",
              "      <td>2</td>\n",
              "      <td>2</td>\n",
              "      <td>2</td>\n",
              "      <td>0</td>\n",
              "      <td>0</td>\n",
              "      <td>90</td>\n",
              "      <td>40</td>\n",
              "    </tr>\n",
              "  </tbody>\n",
              "</table>\n",
              "</div>"
            ],
            "text/plain": [
              "      BeneID         DOB  ... OPAnnualReimbursementAmt  OPAnnualDeductibleAmt\n",
              "0  BENE11001  1943-01-01  ...                       60                     70\n",
              "1  BENE11002  1936-09-01  ...                       30                     50\n",
              "2  BENE11003  1936-08-01  ...                       90                     40\n",
              "\n",
              "[3 rows x 25 columns]"
            ]
          },
          "metadata": {
            "tags": []
          },
          "execution_count": 13
        }
      ]
    },
    {
      "cell_type": "code",
      "metadata": {
        "colab": {
          "base_uri": "https://localhost:8080/"
        },
        "id": "ZRXOS8oi3plm",
        "outputId": "2f8632a7-8458-4880-ea3c-6d76e0657904"
      },
      "source": [
        "train_ben.info()"
      ],
      "execution_count": null,
      "outputs": [
        {
          "output_type": "stream",
          "text": [
            "<class 'pandas.core.frame.DataFrame'>\n",
            "RangeIndex: 138556 entries, 0 to 138555\n",
            "Data columns (total 25 columns):\n",
            " #   Column                           Non-Null Count   Dtype \n",
            "---  ------                           --------------   ----- \n",
            " 0   BeneID                           138556 non-null  object\n",
            " 1   DOB                              138556 non-null  object\n",
            " 2   DOD                              1421 non-null    object\n",
            " 3   Gender                           138556 non-null  int64 \n",
            " 4   Race                             138556 non-null  int64 \n",
            " 5   RenalDiseaseIndicator            138556 non-null  object\n",
            " 6   State                            138556 non-null  int64 \n",
            " 7   County                           138556 non-null  int64 \n",
            " 8   NoOfMonths_PartACov              138556 non-null  int64 \n",
            " 9   NoOfMonths_PartBCov              138556 non-null  int64 \n",
            " 10  ChronicCond_Alzheimer            138556 non-null  int64 \n",
            " 11  ChronicCond_Heartfailure         138556 non-null  int64 \n",
            " 12  ChronicCond_KidneyDisease        138556 non-null  int64 \n",
            " 13  ChronicCond_Cancer               138556 non-null  int64 \n",
            " 14  ChronicCond_ObstrPulmonary       138556 non-null  int64 \n",
            " 15  ChronicCond_Depression           138556 non-null  int64 \n",
            " 16  ChronicCond_Diabetes             138556 non-null  int64 \n",
            " 17  ChronicCond_IschemicHeart        138556 non-null  int64 \n",
            " 18  ChronicCond_Osteoporasis         138556 non-null  int64 \n",
            " 19  ChronicCond_rheumatoidarthritis  138556 non-null  int64 \n",
            " 20  ChronicCond_stroke               138556 non-null  int64 \n",
            " 21  IPAnnualReimbursementAmt         138556 non-null  int64 \n",
            " 22  IPAnnualDeductibleAmt            138556 non-null  int64 \n",
            " 23  OPAnnualReimbursementAmt         138556 non-null  int64 \n",
            " 24  OPAnnualDeductibleAmt            138556 non-null  int64 \n",
            "dtypes: int64(21), object(4)\n",
            "memory usage: 26.4+ MB\n"
          ],
          "name": "stdout"
        }
      ]
    },
    {
      "cell_type": "code",
      "metadata": {
        "colab": {
          "base_uri": "https://localhost:8080/",
          "height": 162
        },
        "id": "VkiMoDcD37pi",
        "outputId": "7b5ec780-ecca-4e3f-851b-600dcdaf767f"
      },
      "source": [
        "train_inpat.head(3)"
      ],
      "execution_count": null,
      "outputs": [
        {
          "output_type": "execute_result",
          "data": {
            "text/html": [
              "<div>\n",
              "<style scoped>\n",
              "    .dataframe tbody tr th:only-of-type {\n",
              "        vertical-align: middle;\n",
              "    }\n",
              "\n",
              "    .dataframe tbody tr th {\n",
              "        vertical-align: top;\n",
              "    }\n",
              "\n",
              "    .dataframe thead th {\n",
              "        text-align: right;\n",
              "    }\n",
              "</style>\n",
              "<table border=\"1\" class=\"dataframe\">\n",
              "  <thead>\n",
              "    <tr style=\"text-align: right;\">\n",
              "      <th></th>\n",
              "      <th>BeneID</th>\n",
              "      <th>ClaimID</th>\n",
              "      <th>ClaimStartDt</th>\n",
              "      <th>ClaimEndDt</th>\n",
              "      <th>Provider</th>\n",
              "      <th>InscClaimAmtReimbursed</th>\n",
              "      <th>AttendingPhysician</th>\n",
              "      <th>OperatingPhysician</th>\n",
              "      <th>OtherPhysician</th>\n",
              "      <th>AdmissionDt</th>\n",
              "      <th>ClmAdmitDiagnosisCode</th>\n",
              "      <th>DeductibleAmtPaid</th>\n",
              "      <th>DischargeDt</th>\n",
              "      <th>DiagnosisGroupCode</th>\n",
              "      <th>ClmDiagnosisCode_1</th>\n",
              "      <th>ClmDiagnosisCode_2</th>\n",
              "      <th>ClmDiagnosisCode_3</th>\n",
              "      <th>ClmDiagnosisCode_4</th>\n",
              "      <th>ClmDiagnosisCode_5</th>\n",
              "      <th>ClmDiagnosisCode_6</th>\n",
              "      <th>ClmDiagnosisCode_7</th>\n",
              "      <th>ClmDiagnosisCode_8</th>\n",
              "      <th>ClmDiagnosisCode_9</th>\n",
              "      <th>ClmDiagnosisCode_10</th>\n",
              "      <th>ClmProcedureCode_1</th>\n",
              "      <th>ClmProcedureCode_2</th>\n",
              "      <th>ClmProcedureCode_3</th>\n",
              "      <th>ClmProcedureCode_4</th>\n",
              "      <th>ClmProcedureCode_5</th>\n",
              "      <th>ClmProcedureCode_6</th>\n",
              "    </tr>\n",
              "  </thead>\n",
              "  <tbody>\n",
              "    <tr>\n",
              "      <th>0</th>\n",
              "      <td>BENE11001</td>\n",
              "      <td>CLM46614</td>\n",
              "      <td>2009-04-12</td>\n",
              "      <td>2009-04-18</td>\n",
              "      <td>PRV55912</td>\n",
              "      <td>26000</td>\n",
              "      <td>PHY390922</td>\n",
              "      <td>NaN</td>\n",
              "      <td>NaN</td>\n",
              "      <td>2009-04-12</td>\n",
              "      <td>7866</td>\n",
              "      <td>1068.0</td>\n",
              "      <td>2009-04-18</td>\n",
              "      <td>201</td>\n",
              "      <td>1970</td>\n",
              "      <td>4019</td>\n",
              "      <td>5853</td>\n",
              "      <td>7843</td>\n",
              "      <td>2768</td>\n",
              "      <td>71590</td>\n",
              "      <td>2724</td>\n",
              "      <td>19889</td>\n",
              "      <td>5849</td>\n",
              "      <td>NaN</td>\n",
              "      <td>NaN</td>\n",
              "      <td>NaN</td>\n",
              "      <td>NaN</td>\n",
              "      <td>NaN</td>\n",
              "      <td>NaN</td>\n",
              "      <td>NaN</td>\n",
              "    </tr>\n",
              "    <tr>\n",
              "      <th>1</th>\n",
              "      <td>BENE11001</td>\n",
              "      <td>CLM66048</td>\n",
              "      <td>2009-08-31</td>\n",
              "      <td>2009-09-02</td>\n",
              "      <td>PRV55907</td>\n",
              "      <td>5000</td>\n",
              "      <td>PHY318495</td>\n",
              "      <td>PHY318495</td>\n",
              "      <td>NaN</td>\n",
              "      <td>2009-08-31</td>\n",
              "      <td>6186</td>\n",
              "      <td>1068.0</td>\n",
              "      <td>2009-09-02</td>\n",
              "      <td>750</td>\n",
              "      <td>6186</td>\n",
              "      <td>2948</td>\n",
              "      <td>56400</td>\n",
              "      <td>NaN</td>\n",
              "      <td>NaN</td>\n",
              "      <td>NaN</td>\n",
              "      <td>NaN</td>\n",
              "      <td>NaN</td>\n",
              "      <td>NaN</td>\n",
              "      <td>NaN</td>\n",
              "      <td>7092.0</td>\n",
              "      <td>NaN</td>\n",
              "      <td>NaN</td>\n",
              "      <td>NaN</td>\n",
              "      <td>NaN</td>\n",
              "      <td>NaN</td>\n",
              "    </tr>\n",
              "    <tr>\n",
              "      <th>2</th>\n",
              "      <td>BENE11001</td>\n",
              "      <td>CLM68358</td>\n",
              "      <td>2009-09-17</td>\n",
              "      <td>2009-09-20</td>\n",
              "      <td>PRV56046</td>\n",
              "      <td>5000</td>\n",
              "      <td>PHY372395</td>\n",
              "      <td>NaN</td>\n",
              "      <td>PHY324689</td>\n",
              "      <td>2009-09-17</td>\n",
              "      <td>29590</td>\n",
              "      <td>1068.0</td>\n",
              "      <td>2009-09-20</td>\n",
              "      <td>883</td>\n",
              "      <td>29623</td>\n",
              "      <td>30390</td>\n",
              "      <td>71690</td>\n",
              "      <td>34590</td>\n",
              "      <td>V1581</td>\n",
              "      <td>32723</td>\n",
              "      <td>NaN</td>\n",
              "      <td>NaN</td>\n",
              "      <td>NaN</td>\n",
              "      <td>NaN</td>\n",
              "      <td>NaN</td>\n",
              "      <td>NaN</td>\n",
              "      <td>NaN</td>\n",
              "      <td>NaN</td>\n",
              "      <td>NaN</td>\n",
              "      <td>NaN</td>\n",
              "    </tr>\n",
              "  </tbody>\n",
              "</table>\n",
              "</div>"
            ],
            "text/plain": [
              "      BeneID   ClaimID  ... ClmProcedureCode_5 ClmProcedureCode_6\n",
              "0  BENE11001  CLM46614  ...                NaN                NaN\n",
              "1  BENE11001  CLM66048  ...                NaN                NaN\n",
              "2  BENE11001  CLM68358  ...                NaN                NaN\n",
              "\n",
              "[3 rows x 30 columns]"
            ]
          },
          "metadata": {
            "tags": []
          },
          "execution_count": 15
        }
      ]
    },
    {
      "cell_type": "code",
      "metadata": {
        "colab": {
          "base_uri": "https://localhost:8080/"
        },
        "id": "bLAVjEHz4Tr6",
        "outputId": "35a0610d-b29e-46be-e342-1a5704cbced4"
      },
      "source": [
        "train_inpat.info()"
      ],
      "execution_count": null,
      "outputs": [
        {
          "output_type": "stream",
          "text": [
            "<class 'pandas.core.frame.DataFrame'>\n",
            "RangeIndex: 40474 entries, 0 to 40473\n",
            "Data columns (total 30 columns):\n",
            " #   Column                  Non-Null Count  Dtype  \n",
            "---  ------                  --------------  -----  \n",
            " 0   BeneID                  40474 non-null  object \n",
            " 1   ClaimID                 40474 non-null  object \n",
            " 2   ClaimStartDt            40474 non-null  object \n",
            " 3   ClaimEndDt              40474 non-null  object \n",
            " 4   Provider                40474 non-null  object \n",
            " 5   InscClaimAmtReimbursed  40474 non-null  int64  \n",
            " 6   AttendingPhysician      40362 non-null  object \n",
            " 7   OperatingPhysician      23830 non-null  object \n",
            " 8   OtherPhysician          4690 non-null   object \n",
            " 9   AdmissionDt             40474 non-null  object \n",
            " 10  ClmAdmitDiagnosisCode   40474 non-null  object \n",
            " 11  DeductibleAmtPaid       39575 non-null  float64\n",
            " 12  DischargeDt             40474 non-null  object \n",
            " 13  DiagnosisGroupCode      40474 non-null  object \n",
            " 14  ClmDiagnosisCode_1      40474 non-null  object \n",
            " 15  ClmDiagnosisCode_2      40248 non-null  object \n",
            " 16  ClmDiagnosisCode_3      39798 non-null  object \n",
            " 17  ClmDiagnosisCode_4      38940 non-null  object \n",
            " 18  ClmDiagnosisCode_5      37580 non-null  object \n",
            " 19  ClmDiagnosisCode_6      35636 non-null  object \n",
            " 20  ClmDiagnosisCode_7      33216 non-null  object \n",
            " 21  ClmDiagnosisCode_8      30532 non-null  object \n",
            " 22  ClmDiagnosisCode_9      26977 non-null  object \n",
            " 23  ClmDiagnosisCode_10     3927 non-null   object \n",
            " 24  ClmProcedureCode_1      23148 non-null  float64\n",
            " 25  ClmProcedureCode_2      5454 non-null   float64\n",
            " 26  ClmProcedureCode_3      965 non-null    float64\n",
            " 27  ClmProcedureCode_4      116 non-null    float64\n",
            " 28  ClmProcedureCode_5      9 non-null      float64\n",
            " 29  ClmProcedureCode_6      0 non-null      float64\n",
            "dtypes: float64(7), int64(1), object(22)\n",
            "memory usage: 9.3+ MB\n"
          ],
          "name": "stdout"
        }
      ]
    },
    {
      "cell_type": "code",
      "metadata": {
        "colab": {
          "base_uri": "https://localhost:8080/",
          "height": 162
        },
        "id": "l35GVZsD4WWO",
        "outputId": "45b976e4-398c-484c-e8b6-d511c0451c42"
      },
      "source": [
        "train_outpat.head(3)"
      ],
      "execution_count": null,
      "outputs": [
        {
          "output_type": "execute_result",
          "data": {
            "text/html": [
              "<div>\n",
              "<style scoped>\n",
              "    .dataframe tbody tr th:only-of-type {\n",
              "        vertical-align: middle;\n",
              "    }\n",
              "\n",
              "    .dataframe tbody tr th {\n",
              "        vertical-align: top;\n",
              "    }\n",
              "\n",
              "    .dataframe thead th {\n",
              "        text-align: right;\n",
              "    }\n",
              "</style>\n",
              "<table border=\"1\" class=\"dataframe\">\n",
              "  <thead>\n",
              "    <tr style=\"text-align: right;\">\n",
              "      <th></th>\n",
              "      <th>BeneID</th>\n",
              "      <th>ClaimID</th>\n",
              "      <th>ClaimStartDt</th>\n",
              "      <th>ClaimEndDt</th>\n",
              "      <th>Provider</th>\n",
              "      <th>InscClaimAmtReimbursed</th>\n",
              "      <th>AttendingPhysician</th>\n",
              "      <th>OperatingPhysician</th>\n",
              "      <th>OtherPhysician</th>\n",
              "      <th>ClmDiagnosisCode_1</th>\n",
              "      <th>ClmDiagnosisCode_2</th>\n",
              "      <th>ClmDiagnosisCode_3</th>\n",
              "      <th>ClmDiagnosisCode_4</th>\n",
              "      <th>ClmDiagnosisCode_5</th>\n",
              "      <th>ClmDiagnosisCode_6</th>\n",
              "      <th>ClmDiagnosisCode_7</th>\n",
              "      <th>ClmDiagnosisCode_8</th>\n",
              "      <th>ClmDiagnosisCode_9</th>\n",
              "      <th>ClmDiagnosisCode_10</th>\n",
              "      <th>ClmProcedureCode_1</th>\n",
              "      <th>ClmProcedureCode_2</th>\n",
              "      <th>ClmProcedureCode_3</th>\n",
              "      <th>ClmProcedureCode_4</th>\n",
              "      <th>ClmProcedureCode_5</th>\n",
              "      <th>ClmProcedureCode_6</th>\n",
              "      <th>DeductibleAmtPaid</th>\n",
              "      <th>ClmAdmitDiagnosisCode</th>\n",
              "    </tr>\n",
              "  </thead>\n",
              "  <tbody>\n",
              "    <tr>\n",
              "      <th>0</th>\n",
              "      <td>BENE11002</td>\n",
              "      <td>CLM624349</td>\n",
              "      <td>2009-10-11</td>\n",
              "      <td>2009-10-11</td>\n",
              "      <td>PRV56011</td>\n",
              "      <td>30</td>\n",
              "      <td>PHY326117</td>\n",
              "      <td>NaN</td>\n",
              "      <td>NaN</td>\n",
              "      <td>78943</td>\n",
              "      <td>V5866</td>\n",
              "      <td>V1272</td>\n",
              "      <td>NaN</td>\n",
              "      <td>NaN</td>\n",
              "      <td>NaN</td>\n",
              "      <td>NaN</td>\n",
              "      <td>NaN</td>\n",
              "      <td>NaN</td>\n",
              "      <td>NaN</td>\n",
              "      <td>NaN</td>\n",
              "      <td>NaN</td>\n",
              "      <td>NaN</td>\n",
              "      <td>NaN</td>\n",
              "      <td>NaN</td>\n",
              "      <td>NaN</td>\n",
              "      <td>0</td>\n",
              "      <td>56409</td>\n",
              "    </tr>\n",
              "    <tr>\n",
              "      <th>1</th>\n",
              "      <td>BENE11003</td>\n",
              "      <td>CLM189947</td>\n",
              "      <td>2009-02-12</td>\n",
              "      <td>2009-02-12</td>\n",
              "      <td>PRV57610</td>\n",
              "      <td>80</td>\n",
              "      <td>PHY362868</td>\n",
              "      <td>NaN</td>\n",
              "      <td>NaN</td>\n",
              "      <td>6115</td>\n",
              "      <td>NaN</td>\n",
              "      <td>NaN</td>\n",
              "      <td>NaN</td>\n",
              "      <td>NaN</td>\n",
              "      <td>NaN</td>\n",
              "      <td>NaN</td>\n",
              "      <td>NaN</td>\n",
              "      <td>NaN</td>\n",
              "      <td>NaN</td>\n",
              "      <td>NaN</td>\n",
              "      <td>NaN</td>\n",
              "      <td>NaN</td>\n",
              "      <td>NaN</td>\n",
              "      <td>NaN</td>\n",
              "      <td>NaN</td>\n",
              "      <td>0</td>\n",
              "      <td>79380</td>\n",
              "    </tr>\n",
              "    <tr>\n",
              "      <th>2</th>\n",
              "      <td>BENE11003</td>\n",
              "      <td>CLM438021</td>\n",
              "      <td>2009-06-27</td>\n",
              "      <td>2009-06-27</td>\n",
              "      <td>PRV57595</td>\n",
              "      <td>10</td>\n",
              "      <td>PHY328821</td>\n",
              "      <td>NaN</td>\n",
              "      <td>NaN</td>\n",
              "      <td>2723</td>\n",
              "      <td>NaN</td>\n",
              "      <td>NaN</td>\n",
              "      <td>NaN</td>\n",
              "      <td>NaN</td>\n",
              "      <td>NaN</td>\n",
              "      <td>NaN</td>\n",
              "      <td>NaN</td>\n",
              "      <td>NaN</td>\n",
              "      <td>NaN</td>\n",
              "      <td>NaN</td>\n",
              "      <td>NaN</td>\n",
              "      <td>NaN</td>\n",
              "      <td>NaN</td>\n",
              "      <td>NaN</td>\n",
              "      <td>NaN</td>\n",
              "      <td>0</td>\n",
              "      <td>NaN</td>\n",
              "    </tr>\n",
              "  </tbody>\n",
              "</table>\n",
              "</div>"
            ],
            "text/plain": [
              "      BeneID    ClaimID  ... DeductibleAmtPaid ClmAdmitDiagnosisCode\n",
              "0  BENE11002  CLM624349  ...                 0                 56409\n",
              "1  BENE11003  CLM189947  ...                 0                 79380\n",
              "2  BENE11003  CLM438021  ...                 0                   NaN\n",
              "\n",
              "[3 rows x 27 columns]"
            ]
          },
          "metadata": {
            "tags": []
          },
          "execution_count": 18
        }
      ]
    },
    {
      "cell_type": "code",
      "metadata": {
        "colab": {
          "base_uri": "https://localhost:8080/"
        },
        "id": "lC2ZALGL4mL2",
        "outputId": "177a1d5c-e021-48e9-fe77-fee1be9f41cf"
      },
      "source": [
        "train_outpat.info()"
      ],
      "execution_count": null,
      "outputs": [
        {
          "output_type": "stream",
          "text": [
            "<class 'pandas.core.frame.DataFrame'>\n",
            "RangeIndex: 517737 entries, 0 to 517736\n",
            "Data columns (total 27 columns):\n",
            " #   Column                  Non-Null Count   Dtype  \n",
            "---  ------                  --------------   -----  \n",
            " 0   BeneID                  517737 non-null  object \n",
            " 1   ClaimID                 517737 non-null  object \n",
            " 2   ClaimStartDt            517737 non-null  object \n",
            " 3   ClaimEndDt              517737 non-null  object \n",
            " 4   Provider                517737 non-null  object \n",
            " 5   InscClaimAmtReimbursed  517737 non-null  int64  \n",
            " 6   AttendingPhysician      516341 non-null  object \n",
            " 7   OperatingPhysician      90617 non-null   object \n",
            " 8   OtherPhysician          195046 non-null  object \n",
            " 9   ClmDiagnosisCode_1      507284 non-null  object \n",
            " 10  ClmDiagnosisCode_2      322357 non-null  object \n",
            " 11  ClmDiagnosisCode_3      203257 non-null  object \n",
            " 12  ClmDiagnosisCode_4      125596 non-null  object \n",
            " 13  ClmDiagnosisCode_5      74344 non-null   object \n",
            " 14  ClmDiagnosisCode_6      48756 non-null   object \n",
            " 15  ClmDiagnosisCode_7      32961 non-null   object \n",
            " 16  ClmDiagnosisCode_8      22912 non-null   object \n",
            " 17  ClmDiagnosisCode_9      14838 non-null   object \n",
            " 18  ClmDiagnosisCode_10     1083 non-null    object \n",
            " 19  ClmProcedureCode_1      162 non-null     float64\n",
            " 20  ClmProcedureCode_2      36 non-null      float64\n",
            " 21  ClmProcedureCode_3      4 non-null       float64\n",
            " 22  ClmProcedureCode_4      2 non-null       float64\n",
            " 23  ClmProcedureCode_5      0 non-null       float64\n",
            " 24  ClmProcedureCode_6      0 non-null       float64\n",
            " 25  DeductibleAmtPaid       517737 non-null  int64  \n",
            " 26  ClmAdmitDiagnosisCode   105425 non-null  object \n",
            "dtypes: float64(6), int64(2), object(19)\n",
            "memory usage: 106.7+ MB\n"
          ],
          "name": "stdout"
        }
      ]
    },
    {
      "cell_type": "code",
      "metadata": {
        "colab": {
          "base_uri": "https://localhost:8080/",
          "height": 204
        },
        "id": "E45wu-5h7Z_B",
        "outputId": "728d6821-7af0-4d09-c64b-2d20b6db4b21"
      },
      "source": [
        "train_y.head()"
      ],
      "execution_count": null,
      "outputs": [
        {
          "output_type": "execute_result",
          "data": {
            "text/html": [
              "<div>\n",
              "<style scoped>\n",
              "    .dataframe tbody tr th:only-of-type {\n",
              "        vertical-align: middle;\n",
              "    }\n",
              "\n",
              "    .dataframe tbody tr th {\n",
              "        vertical-align: top;\n",
              "    }\n",
              "\n",
              "    .dataframe thead th {\n",
              "        text-align: right;\n",
              "    }\n",
              "</style>\n",
              "<table border=\"1\" class=\"dataframe\">\n",
              "  <thead>\n",
              "    <tr style=\"text-align: right;\">\n",
              "      <th></th>\n",
              "      <th>Provider</th>\n",
              "      <th>PotentialFraud</th>\n",
              "    </tr>\n",
              "  </thead>\n",
              "  <tbody>\n",
              "    <tr>\n",
              "      <th>0</th>\n",
              "      <td>PRV51001</td>\n",
              "      <td>No</td>\n",
              "    </tr>\n",
              "    <tr>\n",
              "      <th>1</th>\n",
              "      <td>PRV51003</td>\n",
              "      <td>Yes</td>\n",
              "    </tr>\n",
              "    <tr>\n",
              "      <th>2</th>\n",
              "      <td>PRV51004</td>\n",
              "      <td>No</td>\n",
              "    </tr>\n",
              "    <tr>\n",
              "      <th>3</th>\n",
              "      <td>PRV51005</td>\n",
              "      <td>Yes</td>\n",
              "    </tr>\n",
              "    <tr>\n",
              "      <th>4</th>\n",
              "      <td>PRV51007</td>\n",
              "      <td>No</td>\n",
              "    </tr>\n",
              "  </tbody>\n",
              "</table>\n",
              "</div>"
            ],
            "text/plain": [
              "   Provider PotentialFraud\n",
              "0  PRV51001             No\n",
              "1  PRV51003            Yes\n",
              "2  PRV51004             No\n",
              "3  PRV51005            Yes\n",
              "4  PRV51007             No"
            ]
          },
          "metadata": {
            "tags": []
          },
          "execution_count": 35
        }
      ]
    },
    {
      "cell_type": "code",
      "metadata": {
        "colab": {
          "base_uri": "https://localhost:8080/"
        },
        "id": "UHnngMDk42Dt",
        "outputId": "9ff9687b-a792-4875-857c-2738e22aa97f"
      },
      "source": [
        "print(\"Shape of Train Beneficiary file Data:\",train_ben.shape)\n",
        "print(\"Shape of Train In-patient file Data:\", train_inpat.shape)\n",
        "print(\"Shape of Train Out-patient file Data:\", train_outpat.shape)\n",
        "print(\"Shape of Train file Data:\", train_y.shape)"
      ],
      "execution_count": null,
      "outputs": [
        {
          "output_type": "stream",
          "text": [
            "Shape of Train Beneficiary file Data: (138556, 25)\n",
            "Shape of Train In-patient file Data: (40474, 30)\n",
            "Shape of Train Out-patient file Data: (517737, 27)\n",
            "Shape of Train file Data: (5410, 2)\n"
          ],
          "name": "stdout"
        }
      ]
    },
    {
      "cell_type": "code",
      "metadata": {
        "colab": {
          "base_uri": "https://localhost:8080/"
        },
        "id": "r0Fr93oJ7_rl",
        "outputId": "31366885-d783-442a-a8d6-b904f57defc1"
      },
      "source": [
        "out_prov= np.unique(train_outpat['Provider'])\n",
        "print(\"The number of Unique Providers in the Train_Outpat file:\", len(out_prov))\n",
        "\n",
        "in_prov= np.unique(train_inpat['Provider'])\n",
        "print(\"The number of Unique Providers in the Train_Inpat file\", len(in_prov))\n",
        "\n",
        "com_prov= set(out_prov).intersection(set(in_prov))\n",
        "print(\"The number of Providers common to both the Inpat and Outpat files:\",len(com_prov))\n",
        "\n",
        "uni_ele= len(out_prov)+len(in_prov)-len(com_prov)\n",
        "print(\"Total Number of Unique Providers in Outpatient and Inpatient datasets Together:\",uni_ele)"
      ],
      "execution_count": null,
      "outputs": [
        {
          "output_type": "stream",
          "text": [
            "The number of Unique Providers in the Train_Outpat file: 5012\n",
            "The number of Unique Providers in the Train_Inpat file 2092\n",
            "The number of Providers common to both the Inpat and Outpat files: 1694\n",
            "Total Number of Unique Providers in Outpatient and Inpatient datasets Together: 5410\n"
          ],
          "name": "stdout"
        }
      ]
    },
    {
      "cell_type": "markdown",
      "metadata": {
        "id": "beeoCdHv-ulm"
      },
      "source": [
        "##<font color='green'><b> **Observations on the Train Datasets**</b></font>\n",
        "\n",
        "1. We observed that the labels of Potential Fraud as \"Yes\" or \"No\" have been  provided to the each of the Providers in the dataset.\n",
        "\n",
        "2. The number of Unique Providers in the Dataset is 5410 as can be seen in the  \"Train\" file.\n",
        "\n",
        "3. Hence,checking for the unique Providers in the Inpatient and the Outpatient files.\n",
        "\n",
        "4. From the above, we observed that that the total number of Providers are spread across the Inpatient and Outpatient Files.\n"
      ]
    },
    {
      "cell_type": "markdown",
      "metadata": {
        "id": "BXK45Q02NiKQ"
      },
      "source": [
        "###<font color='blue'><b>**Looking at the diffeerent columns present in each of the datasets**</b></font>"
      ]
    },
    {
      "cell_type": "code",
      "metadata": {
        "colab": {
          "base_uri": "https://localhost:8080/"
        },
        "id": "h46oJHrfNDbG",
        "outputId": "95423a58-9547-4120-b3df-c869a5f348fe"
      },
      "source": [
        "print(\"The columns in the Outpatient Dataset are:\",train_outpat.columns)\n",
        "print(\"=\"*100)\n",
        "print(\"The columns in the Inpatient Dataset are:\",train_inpat.columns)\n",
        "print(\"=\"*100)\n",
        "print(\"The columns in the Beneficiary Dataset are:\",train_ben.columns)"
      ],
      "execution_count": null,
      "outputs": [
        {
          "output_type": "stream",
          "text": [
            "The columns in the Outpatient Dataset are: Index(['BeneID', 'ClaimID', 'ClaimStartDt', 'ClaimEndDt', 'Provider',\n",
            "       'InscClaimAmtReimbursed', 'AttendingPhysician', 'OperatingPhysician',\n",
            "       'OtherPhysician', 'ClmDiagnosisCode_1', 'ClmDiagnosisCode_2',\n",
            "       'ClmDiagnosisCode_3', 'ClmDiagnosisCode_4', 'ClmDiagnosisCode_5',\n",
            "       'ClmDiagnosisCode_6', 'ClmDiagnosisCode_7', 'ClmDiagnosisCode_8',\n",
            "       'ClmDiagnosisCode_9', 'ClmDiagnosisCode_10', 'ClmProcedureCode_1',\n",
            "       'ClmProcedureCode_2', 'ClmProcedureCode_3', 'ClmProcedureCode_4',\n",
            "       'ClmProcedureCode_5', 'ClmProcedureCode_6', 'DeductibleAmtPaid',\n",
            "       'ClmAdmitDiagnosisCode'],\n",
            "      dtype='object')\n",
            "====================================================================================================\n",
            "The columns in the Inpatient Dataset are: Index(['BeneID', 'ClaimID', 'ClaimStartDt', 'ClaimEndDt', 'Provider',\n",
            "       'InscClaimAmtReimbursed', 'AttendingPhysician', 'OperatingPhysician',\n",
            "       'OtherPhysician', 'AdmissionDt', 'ClmAdmitDiagnosisCode',\n",
            "       'DeductibleAmtPaid', 'DischargeDt', 'DiagnosisGroupCode',\n",
            "       'ClmDiagnosisCode_1', 'ClmDiagnosisCode_2', 'ClmDiagnosisCode_3',\n",
            "       'ClmDiagnosisCode_4', 'ClmDiagnosisCode_5', 'ClmDiagnosisCode_6',\n",
            "       'ClmDiagnosisCode_7', 'ClmDiagnosisCode_8', 'ClmDiagnosisCode_9',\n",
            "       'ClmDiagnosisCode_10', 'ClmProcedureCode_1', 'ClmProcedureCode_2',\n",
            "       'ClmProcedureCode_3', 'ClmProcedureCode_4', 'ClmProcedureCode_5',\n",
            "       'ClmProcedureCode_6'],\n",
            "      dtype='object')\n",
            "====================================================================================================\n",
            "The columns in the Beneficiary Dataset are: Index(['BeneID', 'DOB', 'DOD', 'Gender', 'Race', 'RenalDiseaseIndicator',\n",
            "       'State', 'County', 'NoOfMonths_PartACov', 'NoOfMonths_PartBCov',\n",
            "       'ChronicCond_Alzheimer', 'ChronicCond_Heartfailure',\n",
            "       'ChronicCond_KidneyDisease', 'ChronicCond_Cancer',\n",
            "       'ChronicCond_ObstrPulmonary', 'ChronicCond_Depression',\n",
            "       'ChronicCond_Diabetes', 'ChronicCond_IschemicHeart',\n",
            "       'ChronicCond_Osteoporasis', 'ChronicCond_rheumatoidarthritis',\n",
            "       'ChronicCond_stroke', 'IPAnnualReimbursementAmt',\n",
            "       'IPAnnualDeductibleAmt', 'OPAnnualReimbursementAmt',\n",
            "       'OPAnnualDeductibleAmt'],\n",
            "      dtype='object')\n"
          ],
          "name": "stdout"
        }
      ]
    },
    {
      "cell_type": "markdown",
      "metadata": {
        "id": "rX0f-GY1VVe7"
      },
      "source": [
        "###<font color='blue'><b>Checking for common columns between the Outpatient and the Ipatient datasets seperately </b></font>"
      ]
    },
    {
      "cell_type": "code",
      "metadata": {
        "colab": {
          "base_uri": "https://localhost:8080/"
        },
        "id": "eOIYmWZtNDS4",
        "outputId": "a84fa49f-e9e6-442a-aff3-fb1dc2f85b32"
      },
      "source": [
        "#Checking each of the columns in the Outaptient dataset if they are present in the Inpatient Dataset\n",
        "c_o=[]\n",
        "for o in train_outpat.columns:\n",
        "    if o in train_inpat.columns:\n",
        "        c_o.append(o)\n",
        "\n",
        "#Checking each of the columns in the Inpatient dataset if they are present in the Outpatient dataset\n",
        "c_i=[]\n",
        "for i in train_inpat.columns:\n",
        "    if i in train_outpat.columns:\n",
        "        c_i.append(i)\n",
        "print(\"Cols of Outpatient dataset also present in Inpatient dataset\",len(c_o))\n",
        "print(\"Cols of Inpatient dataset also present in Outpatient dataset\",len(c_i))\n",
        "\n",
        "#Checking for common column names in the outpatient and the inpatient datasets \n",
        "c_s= set(c_o).intersection(set(c_i))\n",
        "c_s= list(c_s)\n",
        "print(\"Common columns between the outpatient and the inpatient datasets\",len(c_s))"
      ],
      "execution_count": null,
      "outputs": [
        {
          "output_type": "stream",
          "text": [
            "Cols of Outpatient dataset also present in Inpatient dataset 27\n",
            "Cols of Inpatient dataset also present in Outpatient dataset 27\n",
            "Common columns between the outpatient and the inpatient datasets 27\n"
          ],
          "name": "stdout"
        }
      ]
    },
    {
      "cell_type": "code",
      "metadata": {
        "colab": {
          "base_uri": "https://localhost:8080/"
        },
        "id": "GwDW-76jb-8t",
        "outputId": "5c9118b6-ce97-4a2a-8f32-9be1df30f109"
      },
      "source": [
        "print(c_s)"
      ],
      "execution_count": null,
      "outputs": [
        {
          "output_type": "stream",
          "text": [
            "['BeneID', 'ClmProcedureCode_1', 'ClmDiagnosisCode_3', 'OperatingPhysician', 'ClaimStartDt', 'ClmProcedureCode_4', 'DeductibleAmtPaid', 'ClmDiagnosisCode_1', 'ClmDiagnosisCode_8', 'OtherPhysician', 'ClmProcedureCode_3', 'ClmDiagnosisCode_7', 'ClmDiagnosisCode_9', 'ClmProcedureCode_5', 'AttendingPhysician', 'ClmDiagnosisCode_5', 'ClmProcedureCode_6', 'ClmProcedureCode_2', 'ClmDiagnosisCode_10', 'ClaimEndDt', 'ClmAdmitDiagnosisCode', 'ClmDiagnosisCode_6', 'Provider', 'ClaimID', 'InscClaimAmtReimbursed', 'ClmDiagnosisCode_2', 'ClmDiagnosisCode_4']\n"
          ],
          "name": "stdout"
        }
      ]
    },
    {
      "cell_type": "markdown",
      "metadata": {
        "id": "tGQWYjxFXM5q"
      },
      "source": [
        "###<font color='blue'><b> Merging the Outpatient and the Inpatient datasets based on the common columns between both the datasets. We will be doing an outer merge as we need to take the union of all the elements in both the datasets </b></font> "
      ]
    },
    {
      "cell_type": "code",
      "metadata": {
        "colab": {
          "base_uri": "https://localhost:8080/"
        },
        "id": "YhBN6BChdEV7",
        "outputId": "d5c9a9e0-869c-4f78-ec10-1c0e3940690c"
      },
      "source": [
        "train_fin_df= pd.merge(train_inpat,train_outpat,left_on=c_s,right_on=c_s,how='outer')\n",
        "train_fin_df.shape"
      ],
      "execution_count": null,
      "outputs": [
        {
          "output_type": "execute_result",
          "data": {
            "text/plain": [
              "(558211, 30)"
            ]
          },
          "metadata": {
            "tags": []
          },
          "execution_count": 93
        }
      ]
    },
    {
      "cell_type": "code",
      "metadata": {
        "colab": {
          "base_uri": "https://localhost:8080/",
          "height": 131
        },
        "id": "IOpWh3b7dNsK",
        "outputId": "45d3d5a8-8d03-468f-bbd9-8ff2ad9c92b3"
      },
      "source": [
        "train_fin_df.head(2)"
      ],
      "execution_count": null,
      "outputs": [
        {
          "output_type": "execute_result",
          "data": {
            "text/html": [
              "<div>\n",
              "<style scoped>\n",
              "    .dataframe tbody tr th:only-of-type {\n",
              "        vertical-align: middle;\n",
              "    }\n",
              "\n",
              "    .dataframe tbody tr th {\n",
              "        vertical-align: top;\n",
              "    }\n",
              "\n",
              "    .dataframe thead th {\n",
              "        text-align: right;\n",
              "    }\n",
              "</style>\n",
              "<table border=\"1\" class=\"dataframe\">\n",
              "  <thead>\n",
              "    <tr style=\"text-align: right;\">\n",
              "      <th></th>\n",
              "      <th>BeneID</th>\n",
              "      <th>ClaimID</th>\n",
              "      <th>ClaimStartDt</th>\n",
              "      <th>ClaimEndDt</th>\n",
              "      <th>Provider</th>\n",
              "      <th>InscClaimAmtReimbursed</th>\n",
              "      <th>AttendingPhysician</th>\n",
              "      <th>OperatingPhysician</th>\n",
              "      <th>OtherPhysician</th>\n",
              "      <th>AdmissionDt</th>\n",
              "      <th>ClmAdmitDiagnosisCode</th>\n",
              "      <th>DeductibleAmtPaid</th>\n",
              "      <th>DischargeDt</th>\n",
              "      <th>DiagnosisGroupCode</th>\n",
              "      <th>ClmDiagnosisCode_1</th>\n",
              "      <th>ClmDiagnosisCode_2</th>\n",
              "      <th>ClmDiagnosisCode_3</th>\n",
              "      <th>ClmDiagnosisCode_4</th>\n",
              "      <th>ClmDiagnosisCode_5</th>\n",
              "      <th>ClmDiagnosisCode_6</th>\n",
              "      <th>ClmDiagnosisCode_7</th>\n",
              "      <th>ClmDiagnosisCode_8</th>\n",
              "      <th>ClmDiagnosisCode_9</th>\n",
              "      <th>ClmDiagnosisCode_10</th>\n",
              "      <th>ClmProcedureCode_1</th>\n",
              "      <th>ClmProcedureCode_2</th>\n",
              "      <th>ClmProcedureCode_3</th>\n",
              "      <th>ClmProcedureCode_4</th>\n",
              "      <th>ClmProcedureCode_5</th>\n",
              "      <th>ClmProcedureCode_6</th>\n",
              "    </tr>\n",
              "  </thead>\n",
              "  <tbody>\n",
              "    <tr>\n",
              "      <th>0</th>\n",
              "      <td>BENE11001</td>\n",
              "      <td>CLM46614</td>\n",
              "      <td>2009-04-12</td>\n",
              "      <td>2009-04-18</td>\n",
              "      <td>PRV55912</td>\n",
              "      <td>26000</td>\n",
              "      <td>PHY390922</td>\n",
              "      <td>NaN</td>\n",
              "      <td>NaN</td>\n",
              "      <td>2009-04-12</td>\n",
              "      <td>7866</td>\n",
              "      <td>1068.0</td>\n",
              "      <td>2009-04-18</td>\n",
              "      <td>201</td>\n",
              "      <td>1970</td>\n",
              "      <td>4019</td>\n",
              "      <td>5853</td>\n",
              "      <td>7843</td>\n",
              "      <td>2768</td>\n",
              "      <td>71590</td>\n",
              "      <td>2724</td>\n",
              "      <td>19889</td>\n",
              "      <td>5849</td>\n",
              "      <td>NaN</td>\n",
              "      <td>NaN</td>\n",
              "      <td>NaN</td>\n",
              "      <td>NaN</td>\n",
              "      <td>NaN</td>\n",
              "      <td>NaN</td>\n",
              "      <td>NaN</td>\n",
              "    </tr>\n",
              "    <tr>\n",
              "      <th>1</th>\n",
              "      <td>BENE11001</td>\n",
              "      <td>CLM66048</td>\n",
              "      <td>2009-08-31</td>\n",
              "      <td>2009-09-02</td>\n",
              "      <td>PRV55907</td>\n",
              "      <td>5000</td>\n",
              "      <td>PHY318495</td>\n",
              "      <td>PHY318495</td>\n",
              "      <td>NaN</td>\n",
              "      <td>2009-08-31</td>\n",
              "      <td>6186</td>\n",
              "      <td>1068.0</td>\n",
              "      <td>2009-09-02</td>\n",
              "      <td>750</td>\n",
              "      <td>6186</td>\n",
              "      <td>2948</td>\n",
              "      <td>56400</td>\n",
              "      <td>NaN</td>\n",
              "      <td>NaN</td>\n",
              "      <td>NaN</td>\n",
              "      <td>NaN</td>\n",
              "      <td>NaN</td>\n",
              "      <td>NaN</td>\n",
              "      <td>NaN</td>\n",
              "      <td>7092.0</td>\n",
              "      <td>NaN</td>\n",
              "      <td>NaN</td>\n",
              "      <td>NaN</td>\n",
              "      <td>NaN</td>\n",
              "      <td>NaN</td>\n",
              "    </tr>\n",
              "  </tbody>\n",
              "</table>\n",
              "</div>"
            ],
            "text/plain": [
              "      BeneID   ClaimID  ... ClmProcedureCode_5 ClmProcedureCode_6\n",
              "0  BENE11001  CLM46614  ...                NaN                NaN\n",
              "1  BENE11001  CLM66048  ...                NaN                NaN\n",
              "\n",
              "[2 rows x 30 columns]"
            ]
          },
          "metadata": {
            "tags": []
          },
          "execution_count": 138
        }
      ]
    },
    {
      "cell_type": "markdown",
      "metadata": {
        "id": "PE8VMyeGcjoi"
      },
      "source": [
        "###<font color='blue'><b>Merging the resultant dataset with Beneficiary data on the BeneID column in both teh datasets</b></font>"
      ]
    },
    {
      "cell_type": "code",
      "metadata": {
        "colab": {
          "base_uri": "https://localhost:8080/"
        },
        "id": "_nYmLikB1mdA",
        "outputId": "282782a1-e813-4820-fb2d-88a77daba7e4"
      },
      "source": [
        "train_fin= pd.merge(train_fin_df,train_ben, left_on='BeneID',right_on= 'BeneID',how='outer')\n",
        "train_fin.shape"
      ],
      "execution_count": null,
      "outputs": [
        {
          "output_type": "execute_result",
          "data": {
            "text/plain": [
              "(558211, 54)"
            ]
          },
          "metadata": {
            "tags": []
          },
          "execution_count": 94
        }
      ]
    },
    {
      "cell_type": "code",
      "metadata": {
        "colab": {
          "base_uri": "https://localhost:8080/"
        },
        "id": "hBIkLt2d1mDE",
        "outputId": "ce9fe7e2-c024-4590-a71a-e710263ffdd6"
      },
      "source": [
        "print(\"The columns in the final merged dataset are:\",train_fin.columns)"
      ],
      "execution_count": null,
      "outputs": [
        {
          "output_type": "stream",
          "text": [
            "The columns in the final merged dataset are: Index(['BeneID', 'ClaimID', 'ClaimStartDt', 'ClaimEndDt', 'Provider',\n",
            "       'InscClaimAmtReimbursed', 'AttendingPhysician', 'OperatingPhysician',\n",
            "       'OtherPhysician', 'AdmissionDt', 'ClmAdmitDiagnosisCode',\n",
            "       'DeductibleAmtPaid', 'DischargeDt', 'DiagnosisGroupCode',\n",
            "       'ClmDiagnosisCode_1', 'ClmDiagnosisCode_2', 'ClmDiagnosisCode_3',\n",
            "       'ClmDiagnosisCode_4', 'ClmDiagnosisCode_5', 'ClmDiagnosisCode_6',\n",
            "       'ClmDiagnosisCode_7', 'ClmDiagnosisCode_8', 'ClmDiagnosisCode_9',\n",
            "       'ClmDiagnosisCode_10', 'ClmProcedureCode_1', 'ClmProcedureCode_2',\n",
            "       'ClmProcedureCode_3', 'ClmProcedureCode_4', 'ClmProcedureCode_5',\n",
            "       'ClmProcedureCode_6', 'DOB', 'DOD', 'Gender', 'Race',\n",
            "       'RenalDiseaseIndicator', 'State', 'County', 'NoOfMonths_PartACov',\n",
            "       'NoOfMonths_PartBCov', 'ChronicCond_Alzheimer',\n",
            "       'ChronicCond_Heartfailure', 'ChronicCond_KidneyDisease',\n",
            "       'ChronicCond_Cancer', 'ChronicCond_ObstrPulmonary',\n",
            "       'ChronicCond_Depression', 'ChronicCond_Diabetes',\n",
            "       'ChronicCond_IschemicHeart', 'ChronicCond_Osteoporasis',\n",
            "       'ChronicCond_rheumatoidarthritis', 'ChronicCond_stroke',\n",
            "       'IPAnnualReimbursementAmt', 'IPAnnualDeductibleAmt',\n",
            "       'OPAnnualReimbursementAmt', 'OPAnnualDeductibleAmt'],\n",
            "      dtype='object')\n"
          ],
          "name": "stdout"
        }
      ]
    },
    {
      "cell_type": "markdown",
      "metadata": {
        "id": "nPyU0XWLdpGU"
      },
      "source": [
        "###<font color='blue'><b>Merging the Y variable with the final dataset</b></font>"
      ]
    },
    {
      "cell_type": "code",
      "metadata": {
        "colab": {
          "base_uri": "https://localhost:8080/"
        },
        "id": "YRVbJnzF4f3F",
        "outputId": "0a0b8f4b-6387-4c3a-eba7-9079b3f2bb9d"
      },
      "source": [
        "train_fin= pd.merge(train_fin,train_y,left_on= 'Provider',right_on='Provider',how='outer')\n",
        "train_fin.shape"
      ],
      "execution_count": null,
      "outputs": [
        {
          "output_type": "execute_result",
          "data": {
            "text/plain": [
              "(558211, 55)"
            ]
          },
          "metadata": {
            "tags": []
          },
          "execution_count": 95
        }
      ]
    },
    {
      "cell_type": "code",
      "metadata": {
        "colab": {
          "base_uri": "https://localhost:8080/"
        },
        "id": "CmjdlYty4frg",
        "outputId": "b30b0e72-2fdb-41fb-d93c-133eba9ac4fc"
      },
      "source": [
        "train_fin.columns"
      ],
      "execution_count": null,
      "outputs": [
        {
          "output_type": "execute_result",
          "data": {
            "text/plain": [
              "Index(['BeneID', 'ClaimID', 'ClaimStartDt', 'ClaimEndDt', 'Provider',\n",
              "       'InscClaimAmtReimbursed', 'AttendingPhysician', 'OperatingPhysician',\n",
              "       'OtherPhysician', 'AdmissionDt', 'ClmAdmitDiagnosisCode',\n",
              "       'DeductibleAmtPaid', 'DischargeDt', 'DiagnosisGroupCode',\n",
              "       'ClmDiagnosisCode_1', 'ClmDiagnosisCode_2', 'ClmDiagnosisCode_3',\n",
              "       'ClmDiagnosisCode_4', 'ClmDiagnosisCode_5', 'ClmDiagnosisCode_6',\n",
              "       'ClmDiagnosisCode_7', 'ClmDiagnosisCode_8', 'ClmDiagnosisCode_9',\n",
              "       'ClmDiagnosisCode_10', 'ClmProcedureCode_1', 'ClmProcedureCode_2',\n",
              "       'ClmProcedureCode_3', 'ClmProcedureCode_4', 'ClmProcedureCode_5',\n",
              "       'ClmProcedureCode_6', 'DOB', 'DOD', 'Gender', 'Race',\n",
              "       'RenalDiseaseIndicator', 'State', 'County', 'NoOfMonths_PartACov',\n",
              "       'NoOfMonths_PartBCov', 'ChronicCond_Alzheimer',\n",
              "       'ChronicCond_Heartfailure', 'ChronicCond_KidneyDisease',\n",
              "       'ChronicCond_Cancer', 'ChronicCond_ObstrPulmonary',\n",
              "       'ChronicCond_Depression', 'ChronicCond_Diabetes',\n",
              "       'ChronicCond_IschemicHeart', 'ChronicCond_Osteoporasis',\n",
              "       'ChronicCond_rheumatoidarthritis', 'ChronicCond_stroke',\n",
              "       'IPAnnualReimbursementAmt', 'IPAnnualDeductibleAmt',\n",
              "       'OPAnnualReimbursementAmt', 'OPAnnualDeductibleAmt', 'PotentialFraud'],\n",
              "      dtype='object')"
            ]
          },
          "metadata": {
            "tags": []
          },
          "execution_count": 105
        }
      ]
    },
    {
      "cell_type": "code",
      "metadata": {
        "colab": {
          "base_uri": "https://localhost:8080/",
          "height": 309
        },
        "id": "QnFCYbtH53xZ",
        "outputId": "7b9f92dd-83b7-4e62-97be-8cb8de36e23c"
      },
      "source": [
        "train_fin.head()"
      ],
      "execution_count": null,
      "outputs": [
        {
          "output_type": "execute_result",
          "data": {
            "text/html": [
              "<div>\n",
              "<style scoped>\n",
              "    .dataframe tbody tr th:only-of-type {\n",
              "        vertical-align: middle;\n",
              "    }\n",
              "\n",
              "    .dataframe tbody tr th {\n",
              "        vertical-align: top;\n",
              "    }\n",
              "\n",
              "    .dataframe thead th {\n",
              "        text-align: right;\n",
              "    }\n",
              "</style>\n",
              "<table border=\"1\" class=\"dataframe\">\n",
              "  <thead>\n",
              "    <tr style=\"text-align: right;\">\n",
              "      <th></th>\n",
              "      <th>BeneID</th>\n",
              "      <th>ClaimID</th>\n",
              "      <th>ClaimStartDt</th>\n",
              "      <th>ClaimEndDt</th>\n",
              "      <th>Provider</th>\n",
              "      <th>InscClaimAmtReimbursed</th>\n",
              "      <th>AttendingPhysician</th>\n",
              "      <th>OperatingPhysician</th>\n",
              "      <th>OtherPhysician</th>\n",
              "      <th>AdmissionDt</th>\n",
              "      <th>ClmAdmitDiagnosisCode</th>\n",
              "      <th>DeductibleAmtPaid</th>\n",
              "      <th>DischargeDt</th>\n",
              "      <th>DiagnosisGroupCode</th>\n",
              "      <th>ClmDiagnosisCode_1</th>\n",
              "      <th>ClmDiagnosisCode_2</th>\n",
              "      <th>ClmDiagnosisCode_3</th>\n",
              "      <th>ClmDiagnosisCode_4</th>\n",
              "      <th>ClmDiagnosisCode_5</th>\n",
              "      <th>ClmDiagnosisCode_6</th>\n",
              "      <th>ClmDiagnosisCode_7</th>\n",
              "      <th>ClmDiagnosisCode_8</th>\n",
              "      <th>ClmDiagnosisCode_9</th>\n",
              "      <th>ClmDiagnosisCode_10</th>\n",
              "      <th>ClmProcedureCode_1</th>\n",
              "      <th>ClmProcedureCode_2</th>\n",
              "      <th>ClmProcedureCode_3</th>\n",
              "      <th>ClmProcedureCode_4</th>\n",
              "      <th>ClmProcedureCode_5</th>\n",
              "      <th>ClmProcedureCode_6</th>\n",
              "      <th>DOB</th>\n",
              "      <th>DOD</th>\n",
              "      <th>Gender</th>\n",
              "      <th>Race</th>\n",
              "      <th>RenalDiseaseIndicator</th>\n",
              "      <th>State</th>\n",
              "      <th>County</th>\n",
              "      <th>NoOfMonths_PartACov</th>\n",
              "      <th>NoOfMonths_PartBCov</th>\n",
              "      <th>ChronicCond_Alzheimer</th>\n",
              "      <th>ChronicCond_Heartfailure</th>\n",
              "      <th>ChronicCond_KidneyDisease</th>\n",
              "      <th>ChronicCond_Cancer</th>\n",
              "      <th>ChronicCond_ObstrPulmonary</th>\n",
              "      <th>ChronicCond_Depression</th>\n",
              "      <th>ChronicCond_Diabetes</th>\n",
              "      <th>ChronicCond_IschemicHeart</th>\n",
              "      <th>ChronicCond_Osteoporasis</th>\n",
              "      <th>ChronicCond_rheumatoidarthritis</th>\n",
              "      <th>ChronicCond_stroke</th>\n",
              "      <th>IPAnnualReimbursementAmt</th>\n",
              "      <th>IPAnnualDeductibleAmt</th>\n",
              "      <th>OPAnnualReimbursementAmt</th>\n",
              "      <th>OPAnnualDeductibleAmt</th>\n",
              "      <th>PotentialFraud</th>\n",
              "    </tr>\n",
              "  </thead>\n",
              "  <tbody>\n",
              "    <tr>\n",
              "      <th>0</th>\n",
              "      <td>BENE11001</td>\n",
              "      <td>CLM46614</td>\n",
              "      <td>2009-04-12</td>\n",
              "      <td>2009-04-18</td>\n",
              "      <td>PRV55912</td>\n",
              "      <td>26000</td>\n",
              "      <td>PHY390922</td>\n",
              "      <td>NaN</td>\n",
              "      <td>NaN</td>\n",
              "      <td>2009-04-12</td>\n",
              "      <td>7866</td>\n",
              "      <td>1068.0</td>\n",
              "      <td>2009-04-18</td>\n",
              "      <td>201</td>\n",
              "      <td>1970</td>\n",
              "      <td>4019</td>\n",
              "      <td>5853</td>\n",
              "      <td>7843</td>\n",
              "      <td>2768</td>\n",
              "      <td>71590</td>\n",
              "      <td>2724</td>\n",
              "      <td>19889</td>\n",
              "      <td>5849</td>\n",
              "      <td>NaN</td>\n",
              "      <td>NaN</td>\n",
              "      <td>NaN</td>\n",
              "      <td>NaN</td>\n",
              "      <td>NaN</td>\n",
              "      <td>NaN</td>\n",
              "      <td>NaN</td>\n",
              "      <td>1943-01-01</td>\n",
              "      <td>NaN</td>\n",
              "      <td>1</td>\n",
              "      <td>1</td>\n",
              "      <td>0</td>\n",
              "      <td>39</td>\n",
              "      <td>230</td>\n",
              "      <td>12</td>\n",
              "      <td>12</td>\n",
              "      <td>1</td>\n",
              "      <td>2</td>\n",
              "      <td>1</td>\n",
              "      <td>2</td>\n",
              "      <td>2</td>\n",
              "      <td>1</td>\n",
              "      <td>1</td>\n",
              "      <td>1</td>\n",
              "      <td>2</td>\n",
              "      <td>1</td>\n",
              "      <td>1</td>\n",
              "      <td>36000</td>\n",
              "      <td>3204</td>\n",
              "      <td>60</td>\n",
              "      <td>70</td>\n",
              "      <td>Yes</td>\n",
              "    </tr>\n",
              "    <tr>\n",
              "      <th>1</th>\n",
              "      <td>BENE16973</td>\n",
              "      <td>CLM565430</td>\n",
              "      <td>2009-09-06</td>\n",
              "      <td>2009-09-06</td>\n",
              "      <td>PRV55912</td>\n",
              "      <td>50</td>\n",
              "      <td>PHY365867</td>\n",
              "      <td>PHY327147</td>\n",
              "      <td>NaN</td>\n",
              "      <td>NaN</td>\n",
              "      <td>NaN</td>\n",
              "      <td>0.0</td>\n",
              "      <td>NaN</td>\n",
              "      <td>NaN</td>\n",
              "      <td>V7183</td>\n",
              "      <td>53081</td>\n",
              "      <td>78959</td>\n",
              "      <td>4280</td>\n",
              "      <td>E8788</td>\n",
              "      <td>78079</td>\n",
              "      <td>79902</td>\n",
              "      <td>25002</td>\n",
              "      <td>71848</td>\n",
              "      <td>NaN</td>\n",
              "      <td>NaN</td>\n",
              "      <td>NaN</td>\n",
              "      <td>NaN</td>\n",
              "      <td>NaN</td>\n",
              "      <td>NaN</td>\n",
              "      <td>NaN</td>\n",
              "      <td>1932-05-01</td>\n",
              "      <td>NaN</td>\n",
              "      <td>1</td>\n",
              "      <td>1</td>\n",
              "      <td>0</td>\n",
              "      <td>39</td>\n",
              "      <td>310</td>\n",
              "      <td>12</td>\n",
              "      <td>12</td>\n",
              "      <td>1</td>\n",
              "      <td>1</td>\n",
              "      <td>1</td>\n",
              "      <td>2</td>\n",
              "      <td>2</td>\n",
              "      <td>2</td>\n",
              "      <td>2</td>\n",
              "      <td>1</td>\n",
              "      <td>2</td>\n",
              "      <td>2</td>\n",
              "      <td>2</td>\n",
              "      <td>24000</td>\n",
              "      <td>2136</td>\n",
              "      <td>450</td>\n",
              "      <td>200</td>\n",
              "      <td>Yes</td>\n",
              "    </tr>\n",
              "    <tr>\n",
              "      <th>2</th>\n",
              "      <td>BENE17521</td>\n",
              "      <td>CLM34721</td>\n",
              "      <td>2009-01-20</td>\n",
              "      <td>2009-02-01</td>\n",
              "      <td>PRV55912</td>\n",
              "      <td>19000</td>\n",
              "      <td>PHY349293</td>\n",
              "      <td>PHY370861</td>\n",
              "      <td>PHY363291</td>\n",
              "      <td>2009-01-20</td>\n",
              "      <td>45340</td>\n",
              "      <td>1068.0</td>\n",
              "      <td>2009-02-01</td>\n",
              "      <td>987</td>\n",
              "      <td>4240</td>\n",
              "      <td>2639</td>\n",
              "      <td>2948</td>\n",
              "      <td>40390</td>\n",
              "      <td>45821</td>\n",
              "      <td>28489</td>\n",
              "      <td>5854</td>\n",
              "      <td>2753</td>\n",
              "      <td>E9305</td>\n",
              "      <td>NaN</td>\n",
              "      <td>7769.0</td>\n",
              "      <td>5849.0</td>\n",
              "      <td>NaN</td>\n",
              "      <td>NaN</td>\n",
              "      <td>NaN</td>\n",
              "      <td>NaN</td>\n",
              "      <td>1913-12-01</td>\n",
              "      <td>NaN</td>\n",
              "      <td>2</td>\n",
              "      <td>1</td>\n",
              "      <td>0</td>\n",
              "      <td>39</td>\n",
              "      <td>230</td>\n",
              "      <td>12</td>\n",
              "      <td>12</td>\n",
              "      <td>1</td>\n",
              "      <td>1</td>\n",
              "      <td>1</td>\n",
              "      <td>2</td>\n",
              "      <td>1</td>\n",
              "      <td>2</td>\n",
              "      <td>2</td>\n",
              "      <td>1</td>\n",
              "      <td>2</td>\n",
              "      <td>2</td>\n",
              "      <td>2</td>\n",
              "      <td>19000</td>\n",
              "      <td>1068</td>\n",
              "      <td>100</td>\n",
              "      <td>20</td>\n",
              "      <td>Yes</td>\n",
              "    </tr>\n",
              "    <tr>\n",
              "      <th>3</th>\n",
              "      <td>BENE21718</td>\n",
              "      <td>CLM72336</td>\n",
              "      <td>2009-10-17</td>\n",
              "      <td>2009-11-04</td>\n",
              "      <td>PRV55912</td>\n",
              "      <td>17000</td>\n",
              "      <td>PHY334706</td>\n",
              "      <td>PHY334706</td>\n",
              "      <td>NaN</td>\n",
              "      <td>2009-10-17</td>\n",
              "      <td>V5789</td>\n",
              "      <td>1068.0</td>\n",
              "      <td>2009-11-04</td>\n",
              "      <td>941</td>\n",
              "      <td>V5789</td>\n",
              "      <td>4168</td>\n",
              "      <td>73313</td>\n",
              "      <td>7812</td>\n",
              "      <td>7993</td>\n",
              "      <td>78830</td>\n",
              "      <td>72273</td>\n",
              "      <td>43812</td>\n",
              "      <td>4019</td>\n",
              "      <td>NaN</td>\n",
              "      <td>9338.0</td>\n",
              "      <td>NaN</td>\n",
              "      <td>NaN</td>\n",
              "      <td>NaN</td>\n",
              "      <td>NaN</td>\n",
              "      <td>NaN</td>\n",
              "      <td>1922-10-01</td>\n",
              "      <td>NaN</td>\n",
              "      <td>1</td>\n",
              "      <td>1</td>\n",
              "      <td>0</td>\n",
              "      <td>39</td>\n",
              "      <td>600</td>\n",
              "      <td>12</td>\n",
              "      <td>12</td>\n",
              "      <td>2</td>\n",
              "      <td>2</td>\n",
              "      <td>2</td>\n",
              "      <td>2</td>\n",
              "      <td>2</td>\n",
              "      <td>2</td>\n",
              "      <td>2</td>\n",
              "      <td>1</td>\n",
              "      <td>1</td>\n",
              "      <td>2</td>\n",
              "      <td>2</td>\n",
              "      <td>17000</td>\n",
              "      <td>1068</td>\n",
              "      <td>1050</td>\n",
              "      <td>540</td>\n",
              "      <td>Yes</td>\n",
              "    </tr>\n",
              "    <tr>\n",
              "      <th>4</th>\n",
              "      <td>BENE22934</td>\n",
              "      <td>CLM73394</td>\n",
              "      <td>2009-10-25</td>\n",
              "      <td>2009-10-29</td>\n",
              "      <td>PRV55912</td>\n",
              "      <td>13000</td>\n",
              "      <td>PHY390614</td>\n",
              "      <td>PHY323689</td>\n",
              "      <td>PHY363291</td>\n",
              "      <td>2009-10-25</td>\n",
              "      <td>71946</td>\n",
              "      <td>1068.0</td>\n",
              "      <td>2009-10-29</td>\n",
              "      <td>506</td>\n",
              "      <td>71535</td>\n",
              "      <td>71960</td>\n",
              "      <td>4019</td>\n",
              "      <td>V1202</td>\n",
              "      <td>4240</td>\n",
              "      <td>2449</td>\n",
              "      <td>2768</td>\n",
              "      <td>NaN</td>\n",
              "      <td>NaN</td>\n",
              "      <td>NaN</td>\n",
              "      <td>8154.0</td>\n",
              "      <td>NaN</td>\n",
              "      <td>NaN</td>\n",
              "      <td>NaN</td>\n",
              "      <td>NaN</td>\n",
              "      <td>NaN</td>\n",
              "      <td>1930-07-01</td>\n",
              "      <td>NaN</td>\n",
              "      <td>2</td>\n",
              "      <td>1</td>\n",
              "      <td>0</td>\n",
              "      <td>39</td>\n",
              "      <td>280</td>\n",
              "      <td>12</td>\n",
              "      <td>12</td>\n",
              "      <td>2</td>\n",
              "      <td>1</td>\n",
              "      <td>2</td>\n",
              "      <td>2</td>\n",
              "      <td>1</td>\n",
              "      <td>2</td>\n",
              "      <td>1</td>\n",
              "      <td>1</td>\n",
              "      <td>1</td>\n",
              "      <td>1</td>\n",
              "      <td>2</td>\n",
              "      <td>27000</td>\n",
              "      <td>2136</td>\n",
              "      <td>450</td>\n",
              "      <td>160</td>\n",
              "      <td>Yes</td>\n",
              "    </tr>\n",
              "  </tbody>\n",
              "</table>\n",
              "</div>"
            ],
            "text/plain": [
              "      BeneID    ClaimID  ... OPAnnualDeductibleAmt PotentialFraud\n",
              "0  BENE11001   CLM46614  ...                    70            Yes\n",
              "1  BENE16973  CLM565430  ...                   200            Yes\n",
              "2  BENE17521   CLM34721  ...                    20            Yes\n",
              "3  BENE21718   CLM72336  ...                   540            Yes\n",
              "4  BENE22934   CLM73394  ...                   160            Yes\n",
              "\n",
              "[5 rows x 55 columns]"
            ]
          },
          "metadata": {
            "tags": []
          },
          "execution_count": 141
        }
      ]
    },
    {
      "cell_type": "markdown",
      "metadata": {
        "id": "WtiMHKsTdsXa"
      },
      "source": [
        "###<font color=\"blue\"><b>Checking for the datatypes of all the columns in the final dataset</b></font>"
      ]
    },
    {
      "cell_type": "code",
      "metadata": {
        "colab": {
          "base_uri": "https://localhost:8080/"
        },
        "id": "B9FJt_oJ8Yne",
        "outputId": "a61c78d5-e2bc-41eb-ff71-d26b0756a62d"
      },
      "source": [
        "train_fin.info()"
      ],
      "execution_count": null,
      "outputs": [
        {
          "output_type": "stream",
          "text": [
            "<class 'pandas.core.frame.DataFrame'>\n",
            "Int64Index: 558211 entries, 0 to 558210\n",
            "Data columns (total 55 columns):\n",
            " #   Column                           Non-Null Count   Dtype  \n",
            "---  ------                           --------------   -----  \n",
            " 0   BeneID                           558211 non-null  object \n",
            " 1   ClaimID                          558211 non-null  object \n",
            " 2   ClaimStartDt                     558211 non-null  object \n",
            " 3   ClaimEndDt                       558211 non-null  object \n",
            " 4   Provider                         558211 non-null  object \n",
            " 5   InscClaimAmtReimbursed           558211 non-null  int64  \n",
            " 6   AttendingPhysician               556703 non-null  object \n",
            " 7   OperatingPhysician               114447 non-null  object \n",
            " 8   OtherPhysician                   199736 non-null  object \n",
            " 9   AdmissionDt                      40474 non-null   object \n",
            " 10  ClmAdmitDiagnosisCode            145899 non-null  object \n",
            " 11  DeductibleAmtPaid                557312 non-null  float64\n",
            " 12  DischargeDt                      40474 non-null   object \n",
            " 13  DiagnosisGroupCode               40474 non-null   object \n",
            " 14  ClmDiagnosisCode_1               547758 non-null  object \n",
            " 15  ClmDiagnosisCode_2               362605 non-null  object \n",
            " 16  ClmDiagnosisCode_3               243055 non-null  object \n",
            " 17  ClmDiagnosisCode_4               164536 non-null  object \n",
            " 18  ClmDiagnosisCode_5               111924 non-null  object \n",
            " 19  ClmDiagnosisCode_6               84392 non-null   object \n",
            " 20  ClmDiagnosisCode_7               66177 non-null   object \n",
            " 21  ClmDiagnosisCode_8               53444 non-null   object \n",
            " 22  ClmDiagnosisCode_9               41815 non-null   object \n",
            " 23  ClmDiagnosisCode_10              5010 non-null    object \n",
            " 24  ClmProcedureCode_1               23310 non-null   float64\n",
            " 25  ClmProcedureCode_2               5490 non-null    float64\n",
            " 26  ClmProcedureCode_3               969 non-null     float64\n",
            " 27  ClmProcedureCode_4               118 non-null     float64\n",
            " 28  ClmProcedureCode_5               9 non-null       float64\n",
            " 29  ClmProcedureCode_6               0 non-null       float64\n",
            " 30  DOB                              558211 non-null  object \n",
            " 31  DOD                              4131 non-null    object \n",
            " 32  Gender                           558211 non-null  int64  \n",
            " 33  Race                             558211 non-null  int64  \n",
            " 34  RenalDiseaseIndicator            558211 non-null  object \n",
            " 35  State                            558211 non-null  int64  \n",
            " 36  County                           558211 non-null  int64  \n",
            " 37  NoOfMonths_PartACov              558211 non-null  int64  \n",
            " 38  NoOfMonths_PartBCov              558211 non-null  int64  \n",
            " 39  ChronicCond_Alzheimer            558211 non-null  int64  \n",
            " 40  ChronicCond_Heartfailure         558211 non-null  int64  \n",
            " 41  ChronicCond_KidneyDisease        558211 non-null  int64  \n",
            " 42  ChronicCond_Cancer               558211 non-null  int64  \n",
            " 43  ChronicCond_ObstrPulmonary       558211 non-null  int64  \n",
            " 44  ChronicCond_Depression           558211 non-null  int64  \n",
            " 45  ChronicCond_Diabetes             558211 non-null  int64  \n",
            " 46  ChronicCond_IschemicHeart        558211 non-null  int64  \n",
            " 47  ChronicCond_Osteoporasis         558211 non-null  int64  \n",
            " 48  ChronicCond_rheumatoidarthritis  558211 non-null  int64  \n",
            " 49  ChronicCond_stroke               558211 non-null  int64  \n",
            " 50  IPAnnualReimbursementAmt         558211 non-null  int64  \n",
            " 51  IPAnnualDeductibleAmt            558211 non-null  int64  \n",
            " 52  OPAnnualReimbursementAmt         558211 non-null  int64  \n",
            " 53  OPAnnualDeductibleAmt            558211 non-null  int64  \n",
            " 54  PotentialFraud                   558211 non-null  object \n",
            "dtypes: float64(7), int64(22), object(26)\n",
            "memory usage: 238.5+ MB\n"
          ],
          "name": "stdout"
        }
      ]
    },
    {
      "cell_type": "code",
      "metadata": {
        "id": "0kwwqOqa8YkA"
      },
      "source": [
        "#Storing the final dataframe as a pickled file\n",
        "with open('/content/drive/MyDrive/Colab Notebooks/train_fin.pkl','wb') as tr_df:\n",
        "    pickle.dump(train_fin,tr_df)"
      ],
      "execution_count": null,
      "outputs": []
    },
    {
      "cell_type": "code",
      "metadata": {
        "id": "dPGNEvdz_zkN"
      },
      "source": [
        "#Loading the pickled file\n",
        "with open('/content/drive/MyDrive/Colab Notebooks/train_fin.pkl','rb') as tr_df:\n",
        "    train_fin= pickle.load(tr_df)"
      ],
      "execution_count": 14,
      "outputs": []
    },
    {
      "cell_type": "code",
      "metadata": {
        "colab": {
          "base_uri": "https://localhost:8080/"
        },
        "id": "okkVk5Al_zgj",
        "outputId": "9735f963-05d0-4421-dc25-cdf79d4f9833"
      },
      "source": [
        "train_fin.shape"
      ],
      "execution_count": null,
      "outputs": [
        {
          "output_type": "execute_result",
          "data": {
            "text/plain": [
              "(558211, 55)"
            ]
          },
          "metadata": {
            "tags": []
          },
          "execution_count": 98
        }
      ]
    },
    {
      "cell_type": "markdown",
      "metadata": {
        "id": "AuSJO2-CHnD_"
      },
      "source": [
        "##<font color='blue'><b> **Looking at the Class Distribution in the Train Dataset**</b></font>"
      ]
    },
    {
      "cell_type": "code",
      "metadata": {
        "colab": {
          "base_uri": "https://localhost:8080/",
          "height": 336
        },
        "id": "TqJnjF4oHFkW",
        "outputId": "0365f4dd-d145-4c93-9140-2e90bc1bbdea"
      },
      "source": [
        "#Calculating the number of row items where the Provider is NOT a Potentila fraud in percentage terms\n",
        "tr_no_per= np.round((train_fin[\"PotentialFraud\"].value_counts()[0])/(train_fin[\"PotentialFraud\"].value_counts()[0]+train_fin[\"PotentialFraud\"].value_counts()[1]),3)*100\n",
        "\n",
        "#Calculating the number of row items where the Provider is a Potentila fraud in percentage terms\n",
        "tr_yes_per= np.round((train_fin[\"PotentialFraud\"].value_counts()[1])/(train_fin[\"PotentialFraud\"].value_counts()[0]+train_fin[\"PotentialFraud\"].value_counts()[1]),3)*100\n",
        "\n",
        "#Plotting the Potential and Non Potential Fraud scenarios\n",
        "plt.figure(figsize=(10,5))\n",
        "sns.barplot(x=['Non-Fraud',\"Fraud\"],y= [tr_no_per,tr_yes_per],palette='crest')\n",
        "plt.ylabel(\"Number of Providers\")\n",
        "plt.title(\"Distribution of the Train_y Data Labels\")\n",
        "plt.show()"
      ],
      "execution_count": null,
      "outputs": [
        {
          "output_type": "display_data",
          "data": {
            "image/png": "[encoded data removed]",
            "text/plain": [
              "<Figure size 720x360 with 1 Axes>"
            ]
          },
          "metadata": {
            "tags": [],
            "needs_background": "light"
          }
        }
      ]
    },
    {
      "cell_type": "code",
      "metadata": {
        "colab": {
          "base_uri": "https://localhost:8080/"
        },
        "id": "c5sPUcCKH4uK",
        "outputId": "4390c1af-6931-4dd1-84ff-b666dc6ca21c"
      },
      "source": [
        "print(\"Percenatage of Non-Fraud class in Train dataset:\",tr_no_per,'%')\n",
        "print(\"Percenatage of Fraud class in Train dataset:\",tr_yes_per,'%')"
      ],
      "execution_count": null,
      "outputs": [
        {
          "output_type": "stream",
          "text": [
            "Percenatage of Non-Fraud class in Train dataset: 61.9 %\n",
            "Percenatage of Fraud class in Train dataset: 38.1 %\n"
          ],
          "name": "stdout"
        }
      ]
    },
    {
      "cell_type": "code",
      "metadata": {
        "id": "DITtGOdR_U9r"
      },
      "source": [
        ""
      ],
      "execution_count": null,
      "outputs": []
    },
    {
      "cell_type": "markdown",
      "metadata": {
        "id": "mLwkSvsbOLRX"
      },
      "source": [
        "##<font color='blue'><b>**Checking for the percentage of nan values in each of the columns in the Inpatient Data**</b></font>"
      ]
    },
    {
      "cell_type": "code",
      "metadata": {
        "colab": {
          "base_uri": "https://localhost:8080/"
        },
        "id": "0reXdPwT81PE",
        "outputId": "04889ac0-01af-4da2-ddae-7a13f483ead5"
      },
      "source": [
        "na_perc= np.round(((train_fin.isna().sum())/train_fin.shape[0])*100,2)\n",
        "na_perc_df= na_perc.to_frame()\n",
        "na_perc_df.reset_index(inplace= True)\n",
        "na_perc_df.columns= [\"col_name\",\"na_percentage\"]\n",
        "print(na_perc_df)"
      ],
      "execution_count": null,
      "outputs": [
        {
          "output_type": "stream",
          "text": [
            "                           col_name  na_percentage\n",
            "0                            BeneID           0.00\n",
            "1                           ClaimID           0.00\n",
            "2                      ClaimStartDt           0.00\n",
            "3                        ClaimEndDt           0.00\n",
            "4                          Provider           0.00\n",
            "5            InscClaimAmtReimbursed           0.00\n",
            "6                AttendingPhysician           0.27\n",
            "7                OperatingPhysician          79.50\n",
            "8                    OtherPhysician          64.22\n",
            "9                       AdmissionDt          92.75\n",
            "10            ClmAdmitDiagnosisCode          73.86\n",
            "11                DeductibleAmtPaid           0.16\n",
            "12                      DischargeDt          92.75\n",
            "13               DiagnosisGroupCode          92.75\n",
            "14               ClmDiagnosisCode_1           1.87\n",
            "15               ClmDiagnosisCode_2          35.04\n",
            "16               ClmDiagnosisCode_3          56.46\n",
            "17               ClmDiagnosisCode_4          70.52\n",
            "18               ClmDiagnosisCode_5          79.95\n",
            "19               ClmDiagnosisCode_6          84.88\n",
            "20               ClmDiagnosisCode_7          88.14\n",
            "21               ClmDiagnosisCode_8          90.43\n",
            "22               ClmDiagnosisCode_9          92.51\n",
            "23              ClmDiagnosisCode_10          99.10\n",
            "24               ClmProcedureCode_1          95.82\n",
            "25               ClmProcedureCode_2          99.02\n",
            "26               ClmProcedureCode_3          99.83\n",
            "27               ClmProcedureCode_4          99.98\n",
            "28               ClmProcedureCode_5         100.00\n",
            "29               ClmProcedureCode_6         100.00\n",
            "30                              DOB           0.00\n",
            "31                              DOD          99.26\n",
            "32                           Gender           0.00\n",
            "33                             Race           0.00\n",
            "34            RenalDiseaseIndicator           0.00\n",
            "35                            State           0.00\n",
            "36                           County           0.00\n",
            "37              NoOfMonths_PartACov           0.00\n",
            "38              NoOfMonths_PartBCov           0.00\n",
            "39            ChronicCond_Alzheimer           0.00\n",
            "40         ChronicCond_Heartfailure           0.00\n",
            "41        ChronicCond_KidneyDisease           0.00\n",
            "42               ChronicCond_Cancer           0.00\n",
            "43       ChronicCond_ObstrPulmonary           0.00\n",
            "44           ChronicCond_Depression           0.00\n",
            "45             ChronicCond_Diabetes           0.00\n",
            "46        ChronicCond_IschemicHeart           0.00\n",
            "47         ChronicCond_Osteoporasis           0.00\n",
            "48  ChronicCond_rheumatoidarthritis           0.00\n",
            "49               ChronicCond_stroke           0.00\n",
            "50         IPAnnualReimbursementAmt           0.00\n",
            "51            IPAnnualDeductibleAmt           0.00\n",
            "52         OPAnnualReimbursementAmt           0.00\n",
            "53            OPAnnualDeductibleAmt           0.00\n",
            "54                   PotentialFraud           0.00\n"
          ],
          "name": "stdout"
        }
      ]
    },
    {
      "cell_type": "code",
      "metadata": {
        "colab": {
          "base_uri": "https://localhost:8080/"
        },
        "id": "46GcAlOlGDxU",
        "outputId": "8b58d12d-be2c-4023-b789-93bd378e9497"
      },
      "source": [
        "na_col=[]\n",
        "na_perc= np.round(((train_fin.isna().sum())/train_fin.shape[0])*100,2)\n",
        "na_perc_df= na_perc.to_frame()\n",
        "na_perc_df.reset_index(inplace= True)\n",
        "na_perc_df.columns= [\"col_name\",\"na_percentage\"]\n",
        "for i in range(na_perc_df.shape[0]):\n",
        "    if na_perc_df.iloc[i,1] == 0:\n",
        "        na_col.append(i)  \n",
        "\n",
        "print(na_col)"
      ],
      "execution_count": null,
      "outputs": [
        {
          "output_type": "stream",
          "text": [
            "[0, 1, 2, 3, 4, 5, 30, 32, 33, 34, 35, 36, 37, 38, 39, 40, 41, 42, 43, 44, 45, 46, 47, 48, 49, 50, 51, 52, 53, 54]\n"
          ],
          "name": "stdout"
        }
      ]
    },
    {
      "cell_type": "code",
      "metadata": {
        "colab": {
          "base_uri": "https://localhost:8080/"
        },
        "id": "rNWSHLmeGDvG",
        "outputId": "11c0200a-c396-455d-8da3-8bcec7a8a6ce"
      },
      "source": [
        "na_perc_df.drop(index=na_col,inplace=True)\n",
        "na_perc_df.reset_index(drop=True,inplace=True)\n",
        "print(na_perc_df)"
      ],
      "execution_count": null,
      "outputs": [
        {
          "output_type": "stream",
          "text": [
            "                 col_name  na_percentage\n",
            "0      AttendingPhysician           0.27\n",
            "1      OperatingPhysician          79.50\n",
            "2          OtherPhysician          64.22\n",
            "3             AdmissionDt          92.75\n",
            "4   ClmAdmitDiagnosisCode          73.86\n",
            "5       DeductibleAmtPaid           0.16\n",
            "6             DischargeDt          92.75\n",
            "7      DiagnosisGroupCode          92.75\n",
            "8      ClmDiagnosisCode_1           1.87\n",
            "9      ClmDiagnosisCode_2          35.04\n",
            "10     ClmDiagnosisCode_3          56.46\n",
            "11     ClmDiagnosisCode_4          70.52\n",
            "12     ClmDiagnosisCode_5          79.95\n",
            "13     ClmDiagnosisCode_6          84.88\n",
            "14     ClmDiagnosisCode_7          88.14\n",
            "15     ClmDiagnosisCode_8          90.43\n",
            "16     ClmDiagnosisCode_9          92.51\n",
            "17    ClmDiagnosisCode_10          99.10\n",
            "18     ClmProcedureCode_1          95.82\n",
            "19     ClmProcedureCode_2          99.02\n",
            "20     ClmProcedureCode_3          99.83\n",
            "21     ClmProcedureCode_4          99.98\n",
            "22     ClmProcedureCode_5         100.00\n",
            "23     ClmProcedureCode_6         100.00\n",
            "24                    DOD          99.26\n"
          ],
          "name": "stdout"
        }
      ]
    },
    {
      "cell_type": "code",
      "metadata": {
        "id": "lnyYE_Dw5QBb"
      },
      "source": [
        ""
      ],
      "execution_count": null,
      "outputs": []
    },
    {
      "cell_type": "markdown",
      "metadata": {
        "id": "dcLA93EqAqx_"
      },
      "source": [
        "##<font color='blue'><b> Analysis of the presence of hihg percentage of NA values in the Claim Procedure variables using barplots</b></font>"
      ]
    },
    {
      "cell_type": "code",
      "metadata": {
        "colab": {
          "base_uri": "https://localhost:8080/",
          "height": 554
        },
        "id": "QXDzmbDj341P",
        "outputId": "98b18b6e-100d-48e6-952c-8cdb1e23d310"
      },
      "source": [
        "clm_proc= ['ClmProcedureCode_1','ClmProcedureCode_2','ClmProcedureCode_3','ClmProcedureCode_4','ClmProcedureCode_5','ClmProcedureCode_6']\n",
        "clm_proc_in=[]\n",
        "clm_proc_out=[]\n",
        "clm_proc_mer=[]\n",
        "\n",
        "for i in clm_proc:\n",
        "    clm_proc_in.append(np.round((train_inpat[i].isna().sum()/len(train_inpat[i]))*100,2))\n",
        "    clm_proc_out.append(np.round((train_outpat[i].isna().sum()/len(train_outpat[i]))*100,2))\n",
        "    clm_proc_mer.append(np.round((train_fin[i].isna().sum()/len(train_fin[i]))*100,2))\n",
        "\n",
        "fig= plt.figure(figsize=(12,8))\n",
        "gs= GridSpec(2,2,figure= fig)\n",
        "\n",
        "fig.suptitle('NA percentage distribution across Claim Procedure Codes in Inpatient, Outpatient and Merged Datasets')\n",
        "ax1= fig.add_subplot(gs[0,0])\n",
        "ax2= fig.add_subplot(gs[0,1])\n",
        "ax3= fig.add_subplot(gs[1,:])\n",
        "\n",
        "sns.barplot(ax=ax1,y= clm_proc,x= clm_proc_in, palette='crest')\n",
        "sns.barplot(ax=ax2,y= clm_proc,x= clm_proc_out,palette='crest')\n",
        "sns.barplot(ax=ax3,y= clm_proc,x= clm_proc_mer,palette='crest')\n",
        "\n",
        "ax1.title.set_text('NA Percentage in Inpatient Claim Procedure variables')\n",
        "ax2.title.set_text('NA Percentage in Outpatient Claim Procedure variables')\n",
        "ax3.title.set_text('NA Percentage in Merged Data Claim Procedure variables')\n",
        "\n",
        "plt.subplots_adjust(wspace=0.45)\n",
        "plt.xlabel(\"NA Percentage in each of the Datasets\")\n",
        "plt.show()"
      ],
      "execution_count": 59,
      "outputs": [
        {
          "output_type": "display_data",
          "data": {
            "image/png": "[encoded data removed]",
            "text/plain": [
              "<Figure size 864x576 with 3 Axes>"
            ]
          },
          "metadata": {
            "tags": [],
            "needs_background": "light"
          }
        }
      ]
    },
    {
      "cell_type": "markdown",
      "metadata": {
        "id": "RtMhss4Y_Hd9"
      },
      "source": [
        "##<font color='green'><b>**Observations**</b></font>\n",
        "\n",
        "#### 1. We see that there are 100% NA values in the Outpatient dataset in all of the claim Procedure columns. This si because most pf the outpatients do not undergo procedures.\n",
        "\n",
        "#### 2. In case of a need for a complex procedure, the patients are admitted and are treated as inpatients\n",
        "\n",
        "#### 3. High percenatge of the NA values in the merged datasets is not due to missing data but due to the reason that the size of the Outpatient dataset is much higher than the Inpatient dataset\n",
        "\n",
        "#### 4. As most of the outptient dataset claim procedure has a high values of NA, they are introducing skewness in the merged dataset."
      ]
    },
    {
      "cell_type": "markdown",
      "metadata": {
        "id": "7CCUXfJlZSLy"
      },
      "source": [
        "##<font color='red'><b> **Feature Engineering**\n",
        "#### 1. Each of the cliam procedure codes indicates a different procedure hence the counting the number of procedured performed effectively captures the information carried by the 6 different claim procedure columns.\n",
        "\n",
        "#### 2. I have created a new feature capturing the number of procedures performed for each of the patients. Higher the number of procedures it is highly likely that higher is the complexity of the case. "
      ]
    },
    {
      "cell_type": "code",
      "metadata": {
        "colab": {
          "base_uri": "https://localhost:8080/"
        },
        "id": "ino1JIh_BajI",
        "outputId": "68b5f0d7-5c9d-41d6-c42e-0f67fae69538"
      },
      "source": [
        "clm_proc= ['ClmProcedureCode_1','ClmProcedureCode_2','ClmProcedureCode_3','ClmProcedureCode_4','ClmProcedureCode_5','ClmProcedureCode_6']\n",
        "\n",
        "train_fin['#_Procedures']= np.zeros(len(train_fin['ClmProcedureCode_1']))\n",
        "\n",
        "for i in tqdm(range(len(train_fin['ClmProcedureCode_1']))):\n",
        "    count= 0\n",
        "    for j in clm_proc:\n",
        "        if pd.isnull(train_fin[j][i])== False:\n",
        "            count=count+1\n",
        "    \n",
        "    train_fin['#_Procedures'][i]= count"
      ],
      "execution_count": 62,
      "outputs": [
        {
          "output_type": "stream",
          "text": [
            "  0%|          | 0/558211 [00:00<?, ?it/s]/usr/local/lib/python3.7/dist-packages/ipykernel_launcher.py:11: SettingWithCopyWarning: \n",
            "A value is trying to be set on a copy of a slice from a DataFrame\n",
            "\n",
            "See the caveats in the documentation: https://pandas.pydata.org/pandas-docs/stable/user_guide/indexing.html#returning-a-view-versus-a-copy\n",
            "  # This is added back by InteractiveShellApp.init_path()\n",
            "100%|██████████| 558211/558211 [01:12<00:00, 7714.21it/s]\n"
          ],
          "name": "stderr"
        }
      ]
    },
    {
      "cell_type": "code",
      "metadata": {
        "colab": {
          "base_uri": "https://localhost:8080/"
        },
        "id": "hFFcwgDARWyx",
        "outputId": "8d32c95f-e039-4fa3-c6ed-2ce4932ca9fe"
      },
      "source": [
        "train_fin['#_Procedures'].describe()"
      ],
      "execution_count": 63,
      "outputs": [
        {
          "output_type": "execute_result",
          "data": {
            "text/plain": [
              "count    558211.000000\n",
              "mean          0.053557\n",
              "std           0.280534\n",
              "min           0.000000\n",
              "25%           0.000000\n",
              "50%           0.000000\n",
              "75%           0.000000\n",
              "max           5.000000\n",
              "Name: #_Procedures, dtype: float64"
            ]
          },
          "metadata": {
            "tags": []
          },
          "execution_count": 63
        }
      ]
    },
    {
      "cell_type": "code",
      "metadata": {
        "colab": {
          "base_uri": "https://localhost:8080/",
          "height": 404
        },
        "id": "bXOtueIvVDfI",
        "outputId": "f691684a-0570-45a0-fa73-a940cab61735"
      },
      "source": [
        "uni_proc= np.unique(train_fin['#_Procedures'])\n",
        "proc_counts= np.round((train_fin['#_Procedures'].value_counts()/len(train_fin['#_Procedures']))*100,2)\n",
        "plt.figure(figsize=(8,6))\n",
        "sns.barplot(y= proc_counts, x= uni_proc, palette= 'crest')\n",
        "plt.ylabel('Percentage of Observations with each of the Procedures')\n",
        "plt.xlabel('Unique values of the Number of Procedures')\n",
        "plt.title(\"Distribution of the number of procedures\")\n",
        "plt.show()"
      ],
      "execution_count": 79,
      "outputs": [
        {
          "output_type": "display_data",
          "data": {
            "image/png": "[encoded data removed]",
            "text/plain": [
              "<Figure size 576x432 with 1 Axes>"
            ]
          },
          "metadata": {
            "tags": [],
            "needs_background": "light"
          }
        }
      ]
    },
    {
      "cell_type": "markdown",
      "metadata": {
        "id": "uoUiUBa7bKxf"
      },
      "source": [
        "###<font color='blue'><b> Dropping the 6 Claim procedure code variables</b></font>"
      ]
    },
    {
      "cell_type": "code",
      "metadata": {
        "id": "tZIn71XURWqI"
      },
      "source": [
        "train_fin.drop(clm_proc, axis=1, inplace= True)"
      ],
      "execution_count": 70,
      "outputs": []
    },
    {
      "cell_type": "markdown",
      "metadata": {
        "id": "dGu66PRYBcEw"
      },
      "source": [
        "###<font color='blue'><b> Analysis of the presence of hihg percentage of NA values in the Claim Diagnosis variables using barplots</b></font>"
      ]
    },
    {
      "cell_type": "code",
      "metadata": {
        "colab": {
          "base_uri": "https://localhost:8080/",
          "height": 554
        },
        "id": "ivFyJDELq5US",
        "outputId": "cd403bf3-d158-4783-8d7d-fa991c055812"
      },
      "source": [
        "clm_diag= ['ClmDiagnosisCode_1','ClmDiagnosisCode_2','ClmDiagnosisCode_3','ClmDiagnosisCode_4','ClmDiagnosisCode_5','ClmDiagnosisCode_6','ClmDiagnosisCode_7','ClmDiagnosisCode_8','ClmDiagnosisCode_9','ClmDiagnosisCode_10']\n",
        "clm_diag_nai=[]\n",
        "clm_diag_nao=[]\n",
        "clm_diag_na=[]\n",
        "\n",
        "for i in clm_diag:\n",
        "    clm_diag_nai.append(np.round((train_inpat[i].isna().sum()/len(train_inpat[i]))*100,2))\n",
        "    clm_diag_nao.append(np.round((train_outpat[i].isna().sum()/len(train_outpat[i]))*100,2))\n",
        "    clm_diag_na.append(np.round((train_fin[i].isna().sum()/len(train_fin[i]))*100,2))\n",
        "\n",
        "fig= plt.figure(figsize=(12,8))\n",
        "gs= GridSpec(2,2,figure= fig)\n",
        "\n",
        "fig.suptitle('NA percentage distribution across Claim Diagnosis Codes in Inpatient, Outpatient and Merged Datasets')\n",
        "ax1= fig.add_subplot(gs[0,0])\n",
        "ax2= fig.add_subplot(gs[0,1])\n",
        "ax3= fig.add_subplot(gs[1,:])\n",
        "\n",
        "sns.barplot(ax=ax1,y= clm_diag,x= clm_diag_nai,palette='crest')\n",
        "sns.barplot(ax=ax2,y= clm_diag,x= clm_diag_nao,palette='crest')\n",
        "sns.barplot(ax=ax3,y= clm_diag,x= clm_diag_na,palette='crest')\n",
        "\n",
        "ax1.title.set_text('NA Percentage in Inpatient Claim Diagnosis variables')\n",
        "ax2.title.set_text('NA Percentage in Outpatient Claim Diagnosis variables')\n",
        "ax3.title.set_text('NA Percentage in Merged Data Claim Diagnosis variables')\n",
        "\n",
        "plt.subplots_adjust(wspace=0.45)\n",
        "plt.xlabel(\"NA Percentage in each of the Datasets\")\n",
        "plt.show()"
      ],
      "execution_count": 58,
      "outputs": [
        {
          "output_type": "display_data",
          "data": {
            "image/png": "[encoded data removed]",
            "text/plain": [
              "<Figure size 864x576 with 3 Axes>"
            ]
          },
          "metadata": {
            "tags": [],
            "needs_background": "light"
          }
        }
      ]
    },
    {
      "cell_type": "markdown",
      "metadata": {
        "id": "c53_bD47BlP9"
      },
      "source": [
        "##<font color='green'><b>**Observations**</b></font>\n",
        "\n",
        "#### 1. Very similar observations as the Claims Procedure variable. Even in this case the reasons for the NA values are similar as in the case of ClaimsProcedures variable"
      ]
    },
    {
      "cell_type": "markdown",
      "metadata": {
        "id": "b_i5qti4cDPs"
      },
      "source": [
        "###<font color='red'><b>**Feature Engineering**</b></font>\n",
        "\n",
        "#### As employed in the case of Claims Procedure I will be creating a new column called the no.of.diagnosis\n",
        "\n",
        "#### Higher the number of Diagnosis the higher is the complexity of the patients diagnosis.\n"
      ]
    },
    {
      "cell_type": "code",
      "metadata": {
        "colab": {
          "base_uri": "https://localhost:8080/"
        },
        "id": "_E-h6qI33wfY",
        "outputId": "d153b720-901f-49b9-87a9-a7e9fd7d973d"
      },
      "source": [
        "clm_diag= ['ClmDiagnosisCode_1','ClmDiagnosisCode_2','ClmDiagnosisCode_3','ClmDiagnosisCode_4','ClmDiagnosisCode_5','ClmDiagnosisCode_6','ClmDiagnosisCode_7','ClmDiagnosisCode_8','ClmDiagnosisCode_9','ClmDiagnosisCode_10']\n",
        "\n",
        "train_fin['#_DiagnosisCodes']= np.zeros(len(train_fin['ClmDiagnosisCode_1']))\n",
        "\n",
        "for i in tqdm(range(len(train_fin['ClmDiagnosisCode_1']))):\n",
        "    count= 0\n",
        "    for j in clm_diag:\n",
        "        if pd.isnull(train_fin[j][i])== False:\n",
        "            count=count+1\n",
        "    \n",
        "    train_fin['#_DiagnosisCodes'][i]= count"
      ],
      "execution_count": 65,
      "outputs": [
        {
          "output_type": "stream",
          "text": [
            "  0%|          | 0/558211 [00:00<?, ?it/s]/usr/local/lib/python3.7/dist-packages/ipykernel_launcher.py:11: SettingWithCopyWarning: \n",
            "A value is trying to be set on a copy of a slice from a DataFrame\n",
            "\n",
            "See the caveats in the documentation: https://pandas.pydata.org/pandas-docs/stable/user_guide/indexing.html#returning-a-view-versus-a-copy\n",
            "  # This is added back by InteractiveShellApp.init_path()\n",
            "100%|██████████| 558211/558211 [01:29<00:00, 6208.51it/s]\n"
          ],
          "name": "stderr"
        }
      ]
    },
    {
      "cell_type": "code",
      "metadata": {
        "colab": {
          "base_uri": "https://localhost:8080/"
        },
        "id": "oIegGrmD3wY2",
        "outputId": "229e9239-3e8d-4149-cc90-ccca0d9ba955"
      },
      "source": [
        "train_fin['#_DiagnosisCodes'].describe()"
      ],
      "execution_count": 66,
      "outputs": [
        {
          "output_type": "execute_result",
          "data": {
            "text/plain": [
              "count    558211.000000\n",
              "mean          3.010897\n",
              "std           2.448213\n",
              "min           0.000000\n",
              "25%           1.000000\n",
              "50%           2.000000\n",
              "75%           4.000000\n",
              "max          10.000000\n",
              "Name: #_DiagnosisCodes, dtype: float64"
            ]
          },
          "metadata": {
            "tags": []
          },
          "execution_count": 66
        }
      ]
    },
    {
      "cell_type": "code",
      "metadata": {
        "colab": {
          "base_uri": "https://localhost:8080/",
          "height": 404
        },
        "id": "1VxjP1apW4EG",
        "outputId": "2de5b1dc-be10-4096-ab04-b4444551c29a"
      },
      "source": [
        "uni_diag= np.unique(train_fin['#_DiagnosisCodes'])\n",
        "diag_counts= np.round((train_fin['#_DiagnosisCodes'].value_counts()/len(train_fin['#_DiagnosisCodes']))*100,2)\n",
        "plt.figure(figsize=(8,6))\n",
        "sns.barplot(y= diag_counts, x= uni_diag, palette= 'crest')\n",
        "plt.xlabel('Number of Observations with each of the Diagnoses')\n",
        "plt.ylabel('Unique values of the Number of Diagnosis')\n",
        "plt.title(\"Distribution of the number of Diagnosis\")\n",
        "plt.show()"
      ],
      "execution_count": 74,
      "outputs": [
        {
          "output_type": "display_data",
          "data": {
            "image/png": "[encoded data removed]",
            "text/plain": [
              "<Figure size 576x432 with 1 Axes>"
            ]
          },
          "metadata": {
            "tags": [],
            "needs_background": "light"
          }
        }
      ]
    },
    {
      "cell_type": "markdown",
      "metadata": {
        "id": "LdMvvPTrfJML"
      },
      "source": [
        "###<font color='blue'><b> Dropping the 10 Claim Diagnosis codes variables</b></font>"
      ]
    },
    {
      "cell_type": "code",
      "metadata": {
        "id": "HAPT40ArW3-7"
      },
      "source": [
        "train_fin.drop(clm_diag,axis=1,inplace= True)"
      ],
      "execution_count": 76,
      "outputs": []
    },
    {
      "cell_type": "code",
      "metadata": {
        "colab": {
          "base_uri": "https://localhost:8080/",
          "height": 309
        },
        "id": "jN61Fl7UW325",
        "outputId": "8802d79c-f71c-4df0-806a-5d3288898e85"
      },
      "source": [
        "train_fin.head()"
      ],
      "execution_count": 77,
      "outputs": [
        {
          "output_type": "execute_result",
          "data": {
            "text/html": [
              "<div>\n",
              "<style scoped>\n",
              "    .dataframe tbody tr th:only-of-type {\n",
              "        vertical-align: middle;\n",
              "    }\n",
              "\n",
              "    .dataframe tbody tr th {\n",
              "        vertical-align: top;\n",
              "    }\n",
              "\n",
              "    .dataframe thead th {\n",
              "        text-align: right;\n",
              "    }\n",
              "</style>\n",
              "<table border=\"1\" class=\"dataframe\">\n",
              "  <thead>\n",
              "    <tr style=\"text-align: right;\">\n",
              "      <th></th>\n",
              "      <th>BeneID</th>\n",
              "      <th>ClaimID</th>\n",
              "      <th>ClaimStartDt</th>\n",
              "      <th>ClaimEndDt</th>\n",
              "      <th>Provider</th>\n",
              "      <th>InscClaimAmtReimbursed</th>\n",
              "      <th>AttendingPhysician</th>\n",
              "      <th>OperatingPhysician</th>\n",
              "      <th>OtherPhysician</th>\n",
              "      <th>AdmissionDt</th>\n",
              "      <th>ClmAdmitDiagnosisCode</th>\n",
              "      <th>DeductibleAmtPaid</th>\n",
              "      <th>DischargeDt</th>\n",
              "      <th>DiagnosisGroupCode</th>\n",
              "      <th>DOB</th>\n",
              "      <th>DOD</th>\n",
              "      <th>Gender</th>\n",
              "      <th>Race</th>\n",
              "      <th>RenalDiseaseIndicator</th>\n",
              "      <th>State</th>\n",
              "      <th>County</th>\n",
              "      <th>NoOfMonths_PartACov</th>\n",
              "      <th>NoOfMonths_PartBCov</th>\n",
              "      <th>ChronicCond_Alzheimer</th>\n",
              "      <th>ChronicCond_Heartfailure</th>\n",
              "      <th>ChronicCond_KidneyDisease</th>\n",
              "      <th>ChronicCond_Cancer</th>\n",
              "      <th>ChronicCond_ObstrPulmonary</th>\n",
              "      <th>ChronicCond_Depression</th>\n",
              "      <th>ChronicCond_Diabetes</th>\n",
              "      <th>ChronicCond_IschemicHeart</th>\n",
              "      <th>ChronicCond_Osteoporasis</th>\n",
              "      <th>ChronicCond_rheumatoidarthritis</th>\n",
              "      <th>ChronicCond_stroke</th>\n",
              "      <th>IPAnnualReimbursementAmt</th>\n",
              "      <th>IPAnnualDeductibleAmt</th>\n",
              "      <th>OPAnnualReimbursementAmt</th>\n",
              "      <th>OPAnnualDeductibleAmt</th>\n",
              "      <th>PotentialFraud</th>\n",
              "      <th>#_Procedures</th>\n",
              "      <th>#_DiagnosisCodes</th>\n",
              "    </tr>\n",
              "  </thead>\n",
              "  <tbody>\n",
              "    <tr>\n",
              "      <th>0</th>\n",
              "      <td>BENE11001</td>\n",
              "      <td>CLM46614</td>\n",
              "      <td>2009-04-12</td>\n",
              "      <td>2009-04-18</td>\n",
              "      <td>PRV55912</td>\n",
              "      <td>26000</td>\n",
              "      <td>PHY390922</td>\n",
              "      <td>NaN</td>\n",
              "      <td>NaN</td>\n",
              "      <td>2009-04-12</td>\n",
              "      <td>7866</td>\n",
              "      <td>1068.0</td>\n",
              "      <td>2009-04-18</td>\n",
              "      <td>201</td>\n",
              "      <td>1943-01-01</td>\n",
              "      <td>NaN</td>\n",
              "      <td>1</td>\n",
              "      <td>1</td>\n",
              "      <td>0</td>\n",
              "      <td>39</td>\n",
              "      <td>230</td>\n",
              "      <td>12</td>\n",
              "      <td>12</td>\n",
              "      <td>1</td>\n",
              "      <td>2</td>\n",
              "      <td>1</td>\n",
              "      <td>2</td>\n",
              "      <td>2</td>\n",
              "      <td>1</td>\n",
              "      <td>1</td>\n",
              "      <td>1</td>\n",
              "      <td>2</td>\n",
              "      <td>1</td>\n",
              "      <td>1</td>\n",
              "      <td>36000</td>\n",
              "      <td>3204</td>\n",
              "      <td>60</td>\n",
              "      <td>70</td>\n",
              "      <td>Yes</td>\n",
              "      <td>0.0</td>\n",
              "      <td>9.0</td>\n",
              "    </tr>\n",
              "    <tr>\n",
              "      <th>1</th>\n",
              "      <td>BENE16973</td>\n",
              "      <td>CLM565430</td>\n",
              "      <td>2009-09-06</td>\n",
              "      <td>2009-09-06</td>\n",
              "      <td>PRV55912</td>\n",
              "      <td>50</td>\n",
              "      <td>PHY365867</td>\n",
              "      <td>PHY327147</td>\n",
              "      <td>NaN</td>\n",
              "      <td>NaN</td>\n",
              "      <td>NaN</td>\n",
              "      <td>0.0</td>\n",
              "      <td>NaN</td>\n",
              "      <td>NaN</td>\n",
              "      <td>1932-05-01</td>\n",
              "      <td>NaN</td>\n",
              "      <td>1</td>\n",
              "      <td>1</td>\n",
              "      <td>0</td>\n",
              "      <td>39</td>\n",
              "      <td>310</td>\n",
              "      <td>12</td>\n",
              "      <td>12</td>\n",
              "      <td>1</td>\n",
              "      <td>1</td>\n",
              "      <td>1</td>\n",
              "      <td>2</td>\n",
              "      <td>2</td>\n",
              "      <td>2</td>\n",
              "      <td>2</td>\n",
              "      <td>1</td>\n",
              "      <td>2</td>\n",
              "      <td>2</td>\n",
              "      <td>2</td>\n",
              "      <td>24000</td>\n",
              "      <td>2136</td>\n",
              "      <td>450</td>\n",
              "      <td>200</td>\n",
              "      <td>Yes</td>\n",
              "      <td>0.0</td>\n",
              "      <td>9.0</td>\n",
              "    </tr>\n",
              "    <tr>\n",
              "      <th>2</th>\n",
              "      <td>BENE17521</td>\n",
              "      <td>CLM34721</td>\n",
              "      <td>2009-01-20</td>\n",
              "      <td>2009-02-01</td>\n",
              "      <td>PRV55912</td>\n",
              "      <td>19000</td>\n",
              "      <td>PHY349293</td>\n",
              "      <td>PHY370861</td>\n",
              "      <td>PHY363291</td>\n",
              "      <td>2009-01-20</td>\n",
              "      <td>45340</td>\n",
              "      <td>1068.0</td>\n",
              "      <td>2009-02-01</td>\n",
              "      <td>987</td>\n",
              "      <td>1913-12-01</td>\n",
              "      <td>NaN</td>\n",
              "      <td>2</td>\n",
              "      <td>1</td>\n",
              "      <td>0</td>\n",
              "      <td>39</td>\n",
              "      <td>230</td>\n",
              "      <td>12</td>\n",
              "      <td>12</td>\n",
              "      <td>1</td>\n",
              "      <td>1</td>\n",
              "      <td>1</td>\n",
              "      <td>2</td>\n",
              "      <td>1</td>\n",
              "      <td>2</td>\n",
              "      <td>2</td>\n",
              "      <td>1</td>\n",
              "      <td>2</td>\n",
              "      <td>2</td>\n",
              "      <td>2</td>\n",
              "      <td>19000</td>\n",
              "      <td>1068</td>\n",
              "      <td>100</td>\n",
              "      <td>20</td>\n",
              "      <td>Yes</td>\n",
              "      <td>2.0</td>\n",
              "      <td>9.0</td>\n",
              "    </tr>\n",
              "    <tr>\n",
              "      <th>3</th>\n",
              "      <td>BENE21718</td>\n",
              "      <td>CLM72336</td>\n",
              "      <td>2009-10-17</td>\n",
              "      <td>2009-11-04</td>\n",
              "      <td>PRV55912</td>\n",
              "      <td>17000</td>\n",
              "      <td>PHY334706</td>\n",
              "      <td>PHY334706</td>\n",
              "      <td>NaN</td>\n",
              "      <td>2009-10-17</td>\n",
              "      <td>V5789</td>\n",
              "      <td>1068.0</td>\n",
              "      <td>2009-11-04</td>\n",
              "      <td>941</td>\n",
              "      <td>1922-10-01</td>\n",
              "      <td>NaN</td>\n",
              "      <td>1</td>\n",
              "      <td>1</td>\n",
              "      <td>0</td>\n",
              "      <td>39</td>\n",
              "      <td>600</td>\n",
              "      <td>12</td>\n",
              "      <td>12</td>\n",
              "      <td>2</td>\n",
              "      <td>2</td>\n",
              "      <td>2</td>\n",
              "      <td>2</td>\n",
              "      <td>2</td>\n",
              "      <td>2</td>\n",
              "      <td>2</td>\n",
              "      <td>1</td>\n",
              "      <td>1</td>\n",
              "      <td>2</td>\n",
              "      <td>2</td>\n",
              "      <td>17000</td>\n",
              "      <td>1068</td>\n",
              "      <td>1050</td>\n",
              "      <td>540</td>\n",
              "      <td>Yes</td>\n",
              "      <td>1.0</td>\n",
              "      <td>9.0</td>\n",
              "    </tr>\n",
              "    <tr>\n",
              "      <th>4</th>\n",
              "      <td>BENE22934</td>\n",
              "      <td>CLM73394</td>\n",
              "      <td>2009-10-25</td>\n",
              "      <td>2009-10-29</td>\n",
              "      <td>PRV55912</td>\n",
              "      <td>13000</td>\n",
              "      <td>PHY390614</td>\n",
              "      <td>PHY323689</td>\n",
              "      <td>PHY363291</td>\n",
              "      <td>2009-10-25</td>\n",
              "      <td>71946</td>\n",
              "      <td>1068.0</td>\n",
              "      <td>2009-10-29</td>\n",
              "      <td>506</td>\n",
              "      <td>1930-07-01</td>\n",
              "      <td>NaN</td>\n",
              "      <td>2</td>\n",
              "      <td>1</td>\n",
              "      <td>0</td>\n",
              "      <td>39</td>\n",
              "      <td>280</td>\n",
              "      <td>12</td>\n",
              "      <td>12</td>\n",
              "      <td>2</td>\n",
              "      <td>1</td>\n",
              "      <td>2</td>\n",
              "      <td>2</td>\n",
              "      <td>1</td>\n",
              "      <td>2</td>\n",
              "      <td>1</td>\n",
              "      <td>1</td>\n",
              "      <td>1</td>\n",
              "      <td>1</td>\n",
              "      <td>2</td>\n",
              "      <td>27000</td>\n",
              "      <td>2136</td>\n",
              "      <td>450</td>\n",
              "      <td>160</td>\n",
              "      <td>Yes</td>\n",
              "      <td>1.0</td>\n",
              "      <td>7.0</td>\n",
              "    </tr>\n",
              "  </tbody>\n",
              "</table>\n",
              "</div>"
            ],
            "text/plain": [
              "      BeneID    ClaimID  ... #_Procedures #_DiagnosisCodes\n",
              "0  BENE11001   CLM46614  ...          0.0              9.0\n",
              "1  BENE16973  CLM565430  ...          0.0              9.0\n",
              "2  BENE17521   CLM34721  ...          2.0              9.0\n",
              "3  BENE21718   CLM72336  ...          1.0              9.0\n",
              "4  BENE22934   CLM73394  ...          1.0              7.0\n",
              "\n",
              "[5 rows x 41 columns]"
            ]
          },
          "metadata": {
            "tags": []
          },
          "execution_count": 77
        }
      ]
    },
    {
      "cell_type": "code",
      "metadata": {
        "id": "T1SL4HBsZOes"
      },
      "source": [
        ""
      ],
      "execution_count": null,
      "outputs": []
    },
    {
      "cell_type": "markdown",
      "metadata": {
        "id": "GLDKFLjvZVr5"
      },
      "source": [
        "###<font color='blue'><b>Checking the number of NA values in the Outpatient Dataset just to validate our obsevrations and the feature engineering approach"
      ]
    },
    {
      "cell_type": "code",
      "metadata": {
        "colab": {
          "base_uri": "https://localhost:8080/"
        },
        "id": "aPpPczx_ZWxt",
        "outputId": "ba5b039b-78bc-4649-e03e-368571ec1768"
      },
      "source": [
        "print(\"The NA percentage in the Admission Date variable in Inpatient Data\",(train_inpat['AdmissionDt'].isna().sum()/len(train_inpat['AdmissionDt']))*100)\n",
        "print(\"The NA percentage in the Discharge Date variable in Inpatient Data\",(train_inpat['DischargeDt'].isna().sum()/len(train_inpat['DischargeDt']))*100)"
      ],
      "execution_count": null,
      "outputs": [
        {
          "output_type": "stream",
          "text": [
            "The NA percentage in the Admission Date variable in Inpatient Data 0.0\n",
            "The NA percentage in the Discharge Date variable in Inpatient Data 0.0\n"
          ],
          "name": "stdout"
        }
      ]
    },
    {
      "cell_type": "markdown",
      "metadata": {
        "id": "nOCwwRZLVgIK"
      },
      "source": [
        "##<font color='green'>**Observations**</b></font>\n",
        "\n",
        "#### Although we see that Admission Date and the Discharge Date have an NA percentage of 92.5, from the above we see that all the NA values have been added by Outpatient and Beneficary datasets.\n",
        "\n",
        "#### It needs to be noted that AdmissionDate and DischargeDate columns are bound to be missing in the Inpatient Datasets and the Beneficary Datasets.\n"
      ]
    },
    {
      "cell_type": "markdown",
      "metadata": {
        "id": "b4dgDWGUWTUi"
      },
      "source": [
        "##<font color='red'><b>**Feature Engineering**</b></font>\n",
        "#### I have created a new feature titled \"hospital_days\" which is taken as a difference between the Discharge Date and the Admission Date features.\n",
        "\n",
        "#### I have imputed all the missing values in this feature with Zeros.\n",
        "\n",
        "#### I have categorized the \"HospitalDays\" feature as keeping it a floating point value will introduce too many features and affect the overall distribution of the variable "
      ]
    },
    {
      "cell_type": "code",
      "metadata": {
        "id": "iuTnNNy3XxjT"
      },
      "source": [
        "train_fin[\"HospitalDays\"]= pd.to_datetime(train_fin['DischargeDt']) - pd.to_datetime(train_fin['AdmissionDt'])\n",
        "train_fin[\"HospitalDays\"]= train_fin[\"HospitalDays\"].dt.days"
      ],
      "execution_count": null,
      "outputs": []
    },
    {
      "cell_type": "markdown",
      "metadata": {
        "id": "31GOtbaAdB7p"
      },
      "source": [
        "###<font color='blue'><b>Looking at the distribution of the HospitalDays variable prior to the imputation of the NA values with 0</b></font>"
      ]
    },
    {
      "cell_type": "code",
      "metadata": {
        "colab": {
          "base_uri": "https://localhost:8080/"
        },
        "id": "ee0nTwHtZxQU",
        "outputId": "78c44fa8-5509-4c53-ff94-7d43d404e867"
      },
      "source": [
        "train_fin[\"HospitalDays\"].describe()"
      ],
      "execution_count": null,
      "outputs": [
        {
          "output_type": "execute_result",
          "data": {
            "text/plain": [
              "count    40474.000000\n",
              "mean         5.665168\n",
              "std          5.638538\n",
              "min          0.000000\n",
              "25%          2.000000\n",
              "50%          4.000000\n",
              "75%          7.000000\n",
              "max         35.000000\n",
              "Name: HospitalDays, dtype: float64"
            ]
          },
          "metadata": {
            "tags": []
          },
          "execution_count": 131
        }
      ]
    },
    {
      "cell_type": "code",
      "metadata": {
        "colab": {
          "base_uri": "https://localhost:8080/",
          "height": 340
        },
        "id": "32A6u9J4ZxM5",
        "outputId": "e764c31f-0a9e-49a7-c3e6-1fb5f7cf3192"
      },
      "source": [
        "plt.figure(figsize=(8,5))\n",
        "sns.boxplot(y=train_fin['HospitalDays'],palette='crest')\n",
        "plt.xlabel(\"HospitalDays\")\n",
        "plt.ylabel(\"Np.of Days in the Hospital\")\n",
        "plt.title(\"Distribution of the Hospital Days variable\")\n",
        "plt.grid()\n",
        "plt.show()"
      ],
      "execution_count": null,
      "outputs": [
        {
          "output_type": "display_data",
          "data": {
            "image/png": "[encoded data removed]",
            "text/plain": [
              "<Figure size 576x360 with 1 Axes>"
            ]
          },
          "metadata": {
            "tags": [],
            "needs_background": "light"
          }
        }
      ]
    },
    {
      "cell_type": "markdown",
      "metadata": {
        "id": "Qz5k21ikdeOm"
      },
      "source": [
        "##<font color='blue'><b> Imputing the NA values in the HospitalDates variable with 0 values</b></font>"
      ]
    },
    {
      "cell_type": "code",
      "metadata": {
        "id": "MREsCmqBdt_Y"
      },
      "source": [
        "train_fin[\"HospitalDays\"]=train_fin[\"HospitalDays\"].fillna(0)"
      ],
      "execution_count": null,
      "outputs": []
    },
    {
      "cell_type": "code",
      "metadata": {
        "colab": {
          "base_uri": "https://localhost:8080/"
        },
        "id": "i2aousR2dt3a",
        "outputId": "836a8dd5-7611-4d24-f3d6-68c270c51f34"
      },
      "source": [
        "train_fin[\"HospitalDays\"].describe()"
      ],
      "execution_count": null,
      "outputs": [
        {
          "output_type": "execute_result",
          "data": {
            "text/plain": [
              "count    558211.000000\n",
              "mean          0.410762\n",
              "std           2.112693\n",
              "min           0.000000\n",
              "25%           0.000000\n",
              "50%           0.000000\n",
              "75%           0.000000\n",
              "max          35.000000\n",
              "Name: HospitalDays, dtype: float64"
            ]
          },
          "metadata": {
            "tags": []
          },
          "execution_count": 137
        }
      ]
    },
    {
      "cell_type": "code",
      "metadata": {
        "colab": {
          "base_uri": "https://localhost:8080/",
          "height": 340
        },
        "id": "LyPIU1tsd9du",
        "outputId": "785701a9-37f3-42a2-ee38-191d63690f6a"
      },
      "source": [
        "plt.figure(figsize=(8,5))\n",
        "sns.boxplot(y=train_fin['HospitalDays'],palette='crest')\n",
        "plt.xlabel(\"HospitalDays\")\n",
        "plt.ylabel(\"Np.of Days in the Hospital\")\n",
        "plt.title(\"Distribution of the Hospital Days variable\")\n",
        "plt.grid()\n",
        "plt.show()"
      ],
      "execution_count": null,
      "outputs": [
        {
          "output_type": "display_data",
          "data": {
            "image/png": "[encoded data removed]",
            "text/plain": [
              "<Figure size 576x360 with 1 Axes>"
            ]
          },
          "metadata": {
            "tags": [],
            "needs_background": "light"
          }
        }
      ]
    },
    {
      "cell_type": "markdown",
      "metadata": {
        "id": "pZK2aiqDeoBZ"
      },
      "source": [
        "##<font color='green'><b>**Observations**</b></font>\n",
        "\n",
        "#### From the above two Box plots it is quite evident that the imputation of the NA values wiht 0 has drascitcally impacted the overall distribution of the variable"
      ]
    },
    {
      "cell_type": "markdown",
      "metadata": {
        "id": "lwT4UFMIets-"
      },
      "source": [
        "###<font color='blue'><b> Hence Categorizing the variable as per weeks as it introduces ordinality in the feature as well as seperates out the inpatient and the outpatient data </b></font>"
      ]
    },
    {
      "cell_type": "code",
      "metadata": {
        "colab": {
          "base_uri": "https://localhost:8080/"
        },
        "id": "6-XG6fVWeDwZ",
        "outputId": "050c97bc-51cf-41eb-f000-2f2282863870"
      },
      "source": [
        "for i in tqdm(range(len(train_fin[\"HospitalDays\"]))):\n",
        "    if train_fin[\"HospitalDays\"][i]==0:\n",
        "        train_fin[\"HospitalDays\"][i]= 0\n",
        "    if train_fin[\"HospitalDays\"][i]>0 and train_fin[\"HospitalDays\"][i]<=7:\n",
        "        train_fin[\"HospitalDays\"][i]= 1\n",
        "    elif train_fin[\"HospitalDays\"][i]>7 and train_fin[\"HospitalDays\"][i]<=14:\n",
        "        train_fin[\"HospitalDays\"][i]= 2 \n",
        "    elif train_fin[\"HospitalDays\"][i]>14 and train_fin[\"HospitalDays\"][i]<=21:\n",
        "        train_fin[\"HospitalDays\"][i]= 3\n",
        "    elif train_fin[\"HospitalDays\"][i]>21 and train_fin[\"HospitalDays\"][i]<=28:\n",
        "        train_fin[\"HospitalDays\"][i]= 4\n",
        "    elif train_fin[\"HospitalDays\"][i]>28:\n",
        "        train_fin[\"HospitalDays\"][i]= 5"
      ],
      "execution_count": null,
      "outputs": [
        {
          "output_type": "stream",
          "text": [
            "  0%|          | 0/558211 [00:00<?, ?it/s]/usr/local/lib/python3.7/dist-packages/ipykernel_launcher.py:5: SettingWithCopyWarning: \n",
            "A value is trying to be set on a copy of a slice from a DataFrame\n",
            "\n",
            "See the caveats in the documentation: https://pandas.pydata.org/pandas-docs/stable/user_guide/indexing.html#returning-a-view-versus-a-copy\n",
            "  \"\"\"\n",
            "/usr/local/lib/python3.7/dist-packages/ipykernel_launcher.py:3: SettingWithCopyWarning: \n",
            "A value is trying to be set on a copy of a slice from a DataFrame\n",
            "\n",
            "See the caveats in the documentation: https://pandas.pydata.org/pandas-docs/stable/user_guide/indexing.html#returning-a-view-versus-a-copy\n",
            "  This is separate from the ipykernel package so we can avoid doing imports until\n",
            "/usr/local/lib/python3.7/dist-packages/ipykernel_launcher.py:7: SettingWithCopyWarning: \n",
            "A value is trying to be set on a copy of a slice from a DataFrame\n",
            "\n",
            "See the caveats in the documentation: https://pandas.pydata.org/pandas-docs/stable/user_guide/indexing.html#returning-a-view-versus-a-copy\n",
            "  import sys\n",
            "/usr/local/lib/python3.7/dist-packages/ipykernel_launcher.py:9: SettingWithCopyWarning: \n",
            "A value is trying to be set on a copy of a slice from a DataFrame\n",
            "\n",
            "See the caveats in the documentation: https://pandas.pydata.org/pandas-docs/stable/user_guide/indexing.html#returning-a-view-versus-a-copy\n",
            "  if __name__ == '__main__':\n",
            "/usr/local/lib/python3.7/dist-packages/ipykernel_launcher.py:11: SettingWithCopyWarning: \n",
            "A value is trying to be set on a copy of a slice from a DataFrame\n",
            "\n",
            "See the caveats in the documentation: https://pandas.pydata.org/pandas-docs/stable/user_guide/indexing.html#returning-a-view-versus-a-copy\n",
            "  # This is added back by InteractiveShellApp.init_path()\n",
            "  1%|          | 4433/558211 [00:00<01:26, 6389.29it/s]/usr/local/lib/python3.7/dist-packages/ipykernel_launcher.py:13: SettingWithCopyWarning: \n",
            "A value is trying to be set on a copy of a slice from a DataFrame\n",
            "\n",
            "See the caveats in the documentation: https://pandas.pydata.org/pandas-docs/stable/user_guide/indexing.html#returning-a-view-versus-a-copy\n",
            "  del sys.path[0]\n",
            "100%|██████████| 558211/558211 [01:15<00:00, 7433.74it/s]\n"
          ],
          "name": "stderr"
        }
      ]
    },
    {
      "cell_type": "code",
      "metadata": {
        "colab": {
          "base_uri": "https://localhost:8080/"
        },
        "id": "rS4Z4gwveDr9",
        "outputId": "7a7739a5-d554-49e9-d634-f6be383606ff"
      },
      "source": [
        "print(train_fin[\"HospitalDays\"].dtypes)\n",
        "print(np.unique(train_fin[\"HospitalDays\"]))"
      ],
      "execution_count": null,
      "outputs": [
        {
          "output_type": "stream",
          "text": [
            "float64\n",
            "[0. 1. 2. 3. 4. 5.]\n"
          ],
          "name": "stdout"
        }
      ]
    },
    {
      "cell_type": "code",
      "metadata": {
        "colab": {
          "base_uri": "https://localhost:8080/"
        },
        "id": "tSXts18thupy",
        "outputId": "c2797f33-d789-4079-b62d-372a239a55d1"
      },
      "source": [
        "print(train_fin[\"HospitalDays\"].value_counts())"
      ],
      "execution_count": null,
      "outputs": [
        {
          "output_type": "execute_result",
          "data": {
            "text/plain": [
              "0.0    518342\n",
              "1.0     31108\n",
              "2.0      5969\n",
              "3.0      1658\n",
              "4.0       589\n",
              "5.0       545\n",
              "Name: HospitalDays, dtype: int64"
            ]
          },
          "metadata": {
            "tags": []
          },
          "execution_count": 144
        }
      ]
    },
    {
      "cell_type": "code",
      "metadata": {
        "colab": {
          "base_uri": "https://localhost:8080/",
          "height": 404
        },
        "id": "vpf_BBhmh5_q",
        "outputId": "9b37de7c-ba67-412b-e618-3237eb1d6140"
      },
      "source": [
        "plt.figure(figsize=(8,6))\n",
        "sns.barplot(x= np.unique(train_fin[\"HospitalDays\"]),y= train_fin[\"HospitalDays\"].value_counts(),palette='crest')\n",
        "plt.xlabel(\"Weeks\")\n",
        "plt.ylabel(\"# Obs in each of the weeks classes\")\n",
        "plt.title(\"Distribution of the HospitalDays variable\")\n",
        "plt.grid()\n",
        "plt.show()"
      ],
      "execution_count": null,
      "outputs": [
        {
          "output_type": "display_data",
          "data": {
            "image/png": "[encoded data removed]",
            "text/plain": [
              "<Figure size 576x432 with 1 Axes>"
            ]
          },
          "metadata": {
            "tags": [],
            "needs_background": "light"
          }
        }
      ]
    },
    {
      "cell_type": "markdown",
      "metadata": {
        "id": "Ckt0lWc-i_Ev"
      },
      "source": [
        "##<font color='green'><b>**Observations**</b></font>\n",
        "#### 1. As mentioned above 0 would be the highest as they are the imputed observations from the Inpatient and the Outpatient Datasests\n",
        "\n",
        "#### 2. Other than 0, we see that the maximum days spent in the hospital is less than or equal to 1 week and the number of observations keep decreasing with more weeks\n",
        "\n",
        "#### 3. This seems to be the general trend as there are fewer chronic illness cases in a hospital and most of the Inpatients are predominantly admitted for shoter duration of time"
      ]
    },
    {
      "cell_type": "markdown",
      "metadata": {
        "id": "wjdsyXSDk9sm"
      },
      "source": [
        "##<font color='blue'><b> Dropping the Admission Date and the Discharge Date columns from the dataset</b></font>"
      ]
    },
    {
      "cell_type": "code",
      "metadata": {
        "id": "krQlPy6Ak9hG"
      },
      "source": [
        "train_fin.drop(['AdmissionDt','DischargeDt'], axis=1, inplace=True)"
      ],
      "execution_count": null,
      "outputs": []
    },
    {
      "cell_type": "code",
      "metadata": {
        "colab": {
          "base_uri": "https://localhost:8080/"
        },
        "id": "HyZQbntK3jca",
        "outputId": "a0e51a46-c142-4fcd-c7a0-870cc6b6a730"
      },
      "source": [
        "train_fin.shape"
      ],
      "execution_count": null,
      "outputs": [
        {
          "output_type": "execute_result",
          "data": {
            "text/plain": [
              "(558211, 46)"
            ]
          },
          "metadata": {
            "tags": []
          },
          "execution_count": 175
        }
      ]
    },
    {
      "cell_type": "code",
      "metadata": {
        "id": "yYxNnLkNzHAD"
      },
      "source": [
        "with open('/content/drive/MyDrive/Colab Notebooks/train_fin2.pkl','wb') as tr_df:\n",
        "    pickle.dump(train_fin,tr_df)"
      ],
      "execution_count": null,
      "outputs": []
    },
    {
      "cell_type": "code",
      "metadata": {
        "id": "T4skIQsQzYba"
      },
      "source": [
        "with open('/content/drive/MyDrive/Colab Notebooks/train_fin2.pkl','rb') as tr_df:\n",
        "    train_fin2= pickle.load(tr_df)"
      ],
      "execution_count": null,
      "outputs": []
    },
    {
      "cell_type": "code",
      "metadata": {
        "colab": {
          "base_uri": "https://localhost:8080/"
        },
        "id": "ebfwacTMk9Y7",
        "outputId": "3ed1dca4-136b-47c8-e6b8-06af06d43eff"
      },
      "source": [
        "na_col=[]\n",
        "na_perc= np.round(((train_fin2.isna().sum())/train_fin2.shape[0])*100,2)\n",
        "na_perc_df= na_perc.to_frame()\n",
        "na_perc_df.reset_index(inplace= True)\n",
        "na_perc_df.columns= [\"col_name\",\"na_percentage\"]\n",
        "for i in range(na_perc_df.shape[0]):\n",
        "    if na_perc_df.iloc[i,1] == 0:\n",
        "        na_col.append(i)  \n",
        "\n",
        "print(na_col)"
      ],
      "execution_count": null,
      "outputs": [
        {
          "output_type": "stream",
          "text": [
            "[0, 1, 2, 3, 4, 5, 21, 22, 23, 24, 25, 26, 27, 28, 29, 30, 31, 32, 33, 34, 35, 36, 37, 38, 39, 40, 41, 42, 43, 44, 45]\n"
          ],
          "name": "stdout"
        }
      ]
    },
    {
      "cell_type": "code",
      "metadata": {
        "colab": {
          "base_uri": "https://localhost:8080/"
        },
        "id": "fMiIl-c2k9Dn",
        "outputId": "3f8b529c-e6ad-495a-bca1-54ade20af238"
      },
      "source": [
        "na_perc_df.drop(index=na_col,inplace=True)\n",
        "na_perc_df.reset_index(drop=True,inplace=True)\n",
        "print(na_perc_df)"
      ],
      "execution_count": null,
      "outputs": [
        {
          "output_type": "stream",
          "text": [
            "                 col_name  na_percentage\n",
            "0      AttendingPhysician           0.27\n",
            "1      OperatingPhysician          79.50\n",
            "2          OtherPhysician          64.22\n",
            "3   ClmAdmitDiagnosisCode          73.86\n",
            "4       DeductibleAmtPaid           0.16\n",
            "5      DiagnosisGroupCode          92.75\n",
            "6      ClmDiagnosisCode_1           1.87\n",
            "7      ClmDiagnosisCode_2          35.04\n",
            "8      ClmDiagnosisCode_3          56.46\n",
            "9      ClmDiagnosisCode_4          70.52\n",
            "10     ClmDiagnosisCode_5          79.95\n",
            "11     ClmDiagnosisCode_6          84.88\n",
            "12     ClmDiagnosisCode_7          88.14\n",
            "13     ClmDiagnosisCode_8          90.43\n",
            "14     ClmDiagnosisCode_9          92.51\n"
          ],
          "name": "stdout"
        }
      ]
    },
    {
      "cell_type": "code",
      "metadata": {
        "colab": {
          "base_uri": "https://localhost:8080/",
          "height": 730
        },
        "id": "0cEioV8QlIC5",
        "outputId": "33dc1e4e-ac8f-4eb4-d507-4bf11ddc1f82"
      },
      "source": [
        "plt.figure(figsize=(10,12))\n",
        "ax= sns.barplot(y= na_perc_df['col_name'],x= na_perc_df['na_percentage'],palette='crest')\n",
        "\n",
        "plt.ylabel(\"Name of the Column\")\n",
        "plt.xlabel(\"Percentage of the NA values\")\n",
        "plt.title(\"Percenate of NA values in each of the columns of the Training Datasets\")\n",
        "\n",
        "#Source: https://medium.com/@dey.mallika/transform-your-graphs-with-seaborn-ea4fa8e606a6\n",
        "initialx=0\n",
        "for p in ax.patches:\n",
        "    ax.text(p.get_width(),initialx+p.get_height()/8,'{:1.0f}'.format(p.get_width()))\n",
        "    initialx+=1\n",
        "plt.show()"
      ],
      "execution_count": null,
      "outputs": [
        {
          "output_type": "display_data",
          "data": {
            "image/png": "[encoded data removed]",
            "text/plain": [
              "<Figure size 720x864 with 1 Axes>"
            ]
          },
          "metadata": {
            "tags": [],
            "needs_background": "light"
          }
        }
      ]
    },
    {
      "cell_type": "code",
      "metadata": {
        "id": "AnY9vENP7jva"
      },
      "source": [
        ""
      ],
      "execution_count": null,
      "outputs": []
    },
    {
      "cell_type": "markdown",
      "metadata": {
        "id": "nNzjepkBAJei"
      },
      "source": [
        "##<font color='blue'><b>Looking at the distribution of the NA values in the Operating physician and Other physician columns of the Inpatients and the Outpatients datasets</b></font>"
      ]
    },
    {
      "cell_type": "code",
      "metadata": {
        "colab": {
          "base_uri": "https://localhost:8080/",
          "height": 455
        },
        "id": "1GiFpHhr-Hai",
        "outputId": "76c68c10-927e-465c-8d29-4ba42ff79ea7"
      },
      "source": [
        "in_opr_p=np.round((train_inpat['OperatingPhysician'].isna().sum()/len(train_inpat['OperatingPhysician']))*100,2)\n",
        "in_ot_p= np.round((train_inpat['OtherPhysician'].isna().sum()/len(train_inpat['OtherPhysician']))*100,2)\n",
        "\n",
        "print(\"NA percent in OperatingPhysician col in Inpatient Data\",in_opr_p)\n",
        "print(\"NA percent in OtherPhysician col in Inpatient Data\",in_ot_p)\n",
        "print(\"*\"*100)\n",
        "\n",
        "plt.figure(figsize=(8,6))\n",
        "sns.barplot(x=[\"OperatingPhysician\",\"OtherPhysician\"],y=[in_opr_p,in_ot_p], palette='crest')\n",
        "plt.xlabel(\"Physician Type\")\n",
        "plt.ylabel(\"Percetage of NA values\")\n",
        "plt.title(\"NA value Percentage in OperatingPhysician and OtherPhysician in Inpatients\")\n",
        "#plt.grid()\n",
        "plt.show()"
      ],
      "execution_count": null,
      "outputs": [
        {
          "output_type": "stream",
          "text": [
            "NA percent in OperatingPhysician col in Inpatient Data 41.12\n",
            "NA percent in OtherPhysician col in Inpatient Data 88.41\n",
            "****************************************************************************************************\n"
          ],
          "name": "stdout"
        },
        {
          "output_type": "display_data",
          "data": {
            "image/png": "[encoded data removed]",
            "text/plain": [
              "<Figure size 576x432 with 1 Axes>"
            ]
          },
          "metadata": {
            "tags": [],
            "needs_background": "light"
          }
        }
      ]
    },
    {
      "cell_type": "code",
      "metadata": {
        "colab": {
          "base_uri": "https://localhost:8080/",
          "height": 455
        },
        "id": "QVR-jVjP_Okz",
        "outputId": "c8f99978-655b-4833-f7fb-3f00473e6239"
      },
      "source": [
        "out_opr_p=np.round((train_outpat['OperatingPhysician'].isna().sum()/len(train_outpat['OperatingPhysician']))*100,2)\n",
        "out_ot_p= np.round((train_outpat['OtherPhysician'].isna().sum()/len(train_outpat['OtherPhysician']))*100,2)\n",
        "\n",
        "print(\"NA percent in OperatingPhysician col in Inpatient Data\",out_opr_p)\n",
        "print(\"NA percent in OtherPhysician col in Inpatient Data\",out_ot_p)\n",
        "\n",
        "print(\"*\"*100)\n",
        "plt.figure(figsize=(8,6))\n",
        "sns.barplot(x=[\"OperatingPhysician\",\"OtherPhysician\"],y=[out_opr_p,out_ot_p], palette='crest')\n",
        "plt.xlabel(\"Physician Type\")\n",
        "plt.ylabel(\"Percetage of NA values\")\n",
        "plt.title(\"NA value Percentage in OperatingPhysician and OtherPhysician in Outpatients\")\n",
        "#plt.grid()\n",
        "plt.show()"
      ],
      "execution_count": null,
      "outputs": [
        {
          "output_type": "stream",
          "text": [
            "NA percent in OperatingPhysician col in Inpatient Data 82.5\n",
            "NA percent in OtherPhysician col in Inpatient Data 62.33\n",
            "****************************************************************************************************\n"
          ],
          "name": "stdout"
        },
        {
          "output_type": "display_data",
          "data": {
            "image/png": "[encoded data removed]",
            "text/plain": [
              "<Figure size 576x432 with 1 Axes>"
            ]
          },
          "metadata": {
            "tags": [],
            "needs_background": "light"
          }
        }
      ]
    },
    {
      "cell_type": "markdown",
      "metadata": {
        "id": "rX0GI2YgAq26"
      },
      "source": [
        "##<font color='green'><b>**Observations:**\n",
        "\n",
        "#### 1. The above graphs are inline with the reality or practical situtation. NA values in Operating Physician and Other Physician datasets doesnt mean that the data is missing.\n",
        "\n",
        "#### 2. As per my secondary research, Operating Physicians are involved in cases where a surgery or other complications are involved\n",
        "\n",
        "#### 3. OtherPhysicians are involved in cases where the patient has co-morbidities\n",
        "\n",
        "##<font color='green'><b>**Observations on Inpatient Dataset:**\n",
        "\n",
        "#### 1. We have 41% NA values in Operating Physicians column. This means the 59% (100%-41%) of the Inpatients likely needed a surgery or had other complication where as 41% didnt have any complications or didnt need surgery \n",
        "\n",
        "#### 2. We have 88% NA values in Other Physicians column. This means the 12% (100%-88%) of the Inpatients had co-morbidities where as 12% didnt have co-morbidities \n",
        "\n",
        "##<font color='green'><b>**Observations on Outpatient Dataset:**\n",
        "\n",
        "#### 1. We have 82% NA values in Operating Physicians column. Outpatients do not usually go through surgeries or other complicated procedures in a day \n",
        "\n",
        "#### 2. We have 62% NA values in Other Physicians column.Outpatients do not usually consult other physicians very often."
      ]
    },
    {
      "cell_type": "markdown",
      "metadata": {
        "id": "WL2g-JYcGSlM"
      },
      "source": [
        "##<font color='blue'><b>Imputing the Attending Physician with Mode or MostFrequent strategy using SimpleImpute</b></font>"
      ]
    },
    {
      "cell_type": "code",
      "metadata": {
        "id": "XripniwL7k8V"
      },
      "source": [
        "cat_imp= SimpleImputer(missing_values= np.nan, strategy= 'most_frequent')\n",
        "train_fin2[\"AttendingPhysician\"]= cat_imp.fit_transform(train_fin2['AttendingPhysician'].values.reshape(-1,1))[:,0]"
      ],
      "execution_count": null,
      "outputs": []
    },
    {
      "cell_type": "code",
      "metadata": {
        "colab": {
          "base_uri": "https://localhost:8080/"
        },
        "id": "nwdm9j-37k3c",
        "outputId": "94a3dd62-f25e-4436-a9e5-bf889a3e7054"
      },
      "source": [
        "train_fin2[\"AttendingPhysician\"].isna().sum()"
      ],
      "execution_count": null,
      "outputs": [
        {
          "output_type": "execute_result",
          "data": {
            "text/plain": [
              "0"
            ]
          },
          "metadata": {
            "tags": []
          },
          "execution_count": 195
        }
      ]
    },
    {
      "cell_type": "markdown",
      "metadata": {
        "id": "BL9Mze2pHjtY"
      },
      "source": [
        "##<font color='red'><b>**Feature Engineering**\n",
        "\n",
        "#### A new column has been created to capture the nature of illness of the patient.This column will be categorical and will have the below categories:\n",
        "\n",
        "#### 1.Simple \n",
        "#### 2.Operating\n",
        "#### 3.comorbid\n",
        "#### 4.Operating&comorbid"
      ]
    },
    {
      "cell_type": "code",
      "metadata": {
        "id": "stzrNrCHR-l5"
      },
      "source": [
        "train_fin2[\"IllnessNature\"]= np.zeros(len(train_fin2[\"AttendingPhysician\"]))"
      ],
      "execution_count": null,
      "outputs": []
    },
    {
      "cell_type": "code",
      "metadata": {
        "colab": {
          "base_uri": "https://localhost:8080/"
        },
        "id": "KUf1Y-7q7k0H",
        "outputId": "de30f030-8237-463d-df7c-594e198ca417"
      },
      "source": [
        "for i in tqdm(range(len(train_fin2[\"AttendingPhysician\"]))):\n",
        "    if pd.isnull(train_fin2[\"OperatingPhysician\"][i])==True and pd.isnull(train_fin2[\"OtherPhysician\"][i])==True:\n",
        "        train_fin2[\"IllnessNature\"][i]= \"simple\"\n",
        "    elif pd.isnull(train_fin2[\"OperatingPhysician\"][i])==True and pd.isnull(train_fin2[\"OtherPhysician\"][i])==False:\n",
        "        train_fin2[\"IllnessNature\"][i]= \"operating\"\n",
        "    elif pd.isnull(train_fin2[\"OperatingPhysician\"][i])==False and pd.isnull(train_fin2[\"OtherPhysician\"][i])==True:\n",
        "        train_fin2[\"IllnessNature\"][i]= \"comorbid\"\n",
        "    elif pd.isnull(train_fin2[\"OperatingPhysician\"][i])==False and pd.isnull(train_fin2[\"OtherPhysician\"][i])==False:\n",
        "        train_fin2[\"IllnessNature\"][i]= \"operating&comorbid\""
      ],
      "execution_count": null,
      "outputs": [
        {
          "output_type": "stream",
          "text": [
            "  0%|          | 0/558211 [00:00<?, ?it/s]/usr/local/lib/python3.7/dist-packages/ipykernel_launcher.py:3: SettingWithCopyWarning: \n",
            "A value is trying to be set on a copy of a slice from a DataFrame\n",
            "\n",
            "See the caveats in the documentation: https://pandas.pydata.org/pandas-docs/stable/user_guide/indexing.html#returning-a-view-versus-a-copy\n",
            "  This is separate from the ipykernel package so we can avoid doing imports until\n",
            "/usr/local/lib/python3.7/dist-packages/ipykernel_launcher.py:7: SettingWithCopyWarning: \n",
            "A value is trying to be set on a copy of a slice from a DataFrame\n",
            "\n",
            "See the caveats in the documentation: https://pandas.pydata.org/pandas-docs/stable/user_guide/indexing.html#returning-a-view-versus-a-copy\n",
            "  import sys\n",
            "/usr/local/lib/python3.7/dist-packages/ipykernel_launcher.py:9: SettingWithCopyWarning: \n",
            "A value is trying to be set on a copy of a slice from a DataFrame\n",
            "\n",
            "See the caveats in the documentation: https://pandas.pydata.org/pandas-docs/stable/user_guide/indexing.html#returning-a-view-versus-a-copy\n",
            "  if __name__ == '__main__':\n",
            "  0%|          | 24/558211 [00:00<39:14, 237.04it/s]/usr/local/lib/python3.7/dist-packages/ipykernel_launcher.py:5: SettingWithCopyWarning: \n",
            "A value is trying to be set on a copy of a slice from a DataFrame\n",
            "\n",
            "See the caveats in the documentation: https://pandas.pydata.org/pandas-docs/stable/user_guide/indexing.html#returning-a-view-versus-a-copy\n",
            "  \"\"\"\n",
            "100%|██████████| 558211/558211 [19:25<00:00, 479.05it/s]\n"
          ],
          "name": "stderr"
        }
      ]
    },
    {
      "cell_type": "code",
      "metadata": {
        "colab": {
          "base_uri": "https://localhost:8080/"
        },
        "id": "lKBVIouGV1vA",
        "outputId": "2decd4c9-b520-4049-91bb-b17ccfe7a993"
      },
      "source": [
        "print(np.unique(train_fin2[\"IllnessNature\"]))"
      ],
      "execution_count": null,
      "outputs": [
        {
          "output_type": "stream",
          "text": [
            "['comorbid' 'operating' 'operating&comorbid' 'simple']\n"
          ],
          "name": "stdout"
        }
      ]
    },
    {
      "cell_type": "code",
      "metadata": {
        "id": "KLofhWMPbPJG"
      },
      "source": [
        "train_fin2.drop(['OperatingPhysician','OtherPhysician'], axis=1,inplace=True)"
      ],
      "execution_count": null,
      "outputs": []
    },
    {
      "cell_type": "code",
      "metadata": {
        "id": "PYSfIMlqbcNh"
      },
      "source": [
        "with open('/content/drive/MyDrive/Colab Notebooks/train_fin3.pkl','wb') as tr_df:\n",
        "    pickle.dump(train_fin2,tr_df)"
      ],
      "execution_count": null,
      "outputs": []
    },
    {
      "cell_type": "code",
      "metadata": {
        "id": "v0K7xON7b4uP"
      },
      "source": [
        "with open('/content/drive/MyDrive/Colab Notebooks/train_fin3.pkl','rb') as tr_df:\n",
        "    train_fin3= pickle.load(tr_df)"
      ],
      "execution_count": null,
      "outputs": []
    },
    {
      "cell_type": "code",
      "metadata": {
        "id": "i-WlSagyW0Y4"
      },
      "source": [
        ""
      ],
      "execution_count": null,
      "outputs": []
    },
    {
      "cell_type": "code",
      "metadata": {
        "colab": {
          "base_uri": "https://localhost:8080/"
        },
        "id": "n_PJhrSbI-Pd",
        "outputId": "cbba61a3-1081-497b-f815-6f9702503893"
      },
      "source": [
        "train_fin3[\"IllnessNature\"].value_counts()"
      ],
      "execution_count": null,
      "outputs": [
        {
          "output_type": "execute_result",
          "data": {
            "text/plain": [
              "simple                288085\n",
              "operating             155679\n",
              "comorbid               70390\n",
              "operating&comorbid     44057\n",
              "Name: IllnessNature, dtype: int64"
            ]
          },
          "metadata": {
            "tags": []
          },
          "execution_count": 231
        }
      ]
    },
    {
      "cell_type": "code",
      "metadata": {
        "colab": {
          "base_uri": "https://localhost:8080/",
          "height": 506
        },
        "id": "Ew1nHCmUcMEM",
        "outputId": "3d69d345-c339-428a-98cd-1087d725e525"
      },
      "source": [
        "print(\"Percetage Split of each of categories in Illness Nature variable\")\n",
        "print(np.round((train_fin3[\"IllnessNature\"].value_counts()/len(train_fin3[\"IllnessNature\"]))*100,2))\n",
        "plt.figure(figsize=(8,6))\n",
        "sns.barplot(x= np.unique(train_fin3[\"IllnessNature\"]), y= (train_fin3[\"IllnessNature\"].value_counts()/len(train_fin3[\"IllnessNature\"])),palette='crest')\n",
        "plt.xlabel(\"Nature of Illness\")\n",
        "plt.ylabel(\"Percenatge of Observations\")\n",
        "plt.title(\"Distribution of the Nature of Illness variable\")\n",
        "plt.show()"
      ],
      "execution_count": null,
      "outputs": [
        {
          "output_type": "stream",
          "text": [
            "Percetage Split of each of categories in Illness Nature variable\n",
            "simple                51.61\n",
            "operating             27.89\n",
            "comorbid              12.61\n",
            "operating&comorbid     7.89\n",
            "Name: IllnessNature, dtype: float64\n"
          ],
          "name": "stdout"
        },
        {
          "output_type": "display_data",
          "data": {
            "image/png": "[encoded data removed]",
            "text/plain": [
              "<Figure size 576x432 with 1 Axes>"
            ]
          },
          "metadata": {
            "tags": [],
            "needs_background": "light"
          }
        }
      ]
    },
    {
      "cell_type": "code",
      "metadata": {
        "colab": {
          "base_uri": "https://localhost:8080/",
          "height": 458
        },
        "id": "THGIxEgncMBQ",
        "outputId": "cd8eba14-67c8-49c5-9892-a38bfb669e3e"
      },
      "source": [
        "plt.figure(figsize=(10,6))\n",
        "sns.distplot(train_fin3[\"AttendingPhysician\"].value_counts())\n",
        "plt.xlabel(\"Attending Physicians\")\n",
        "plt.ylabel(\"Number of AttendingPhysicans\")\n",
        "plt.title(\"Probablity distribution of the Attending Physicians Variable\")\n",
        "plt.show()"
      ],
      "execution_count": null,
      "outputs": [
        {
          "output_type": "stream",
          "text": [
            "/usr/local/lib/python3.7/dist-packages/seaborn/distributions.py:2557: FutureWarning: `distplot` is a deprecated function and will be removed in a future version. Please adapt your code to use either `displot` (a figure-level function with similar flexibility) or `histplot` (an axes-level function for histograms).\n",
            "  warnings.warn(msg, FutureWarning)\n"
          ],
          "name": "stderr"
        },
        {
          "output_type": "display_data",
          "data": {
            "image/png": "[encoded data removed]",
            "text/plain": [
              "<Figure size 720x432 with 1 Axes>"
            ]
          },
          "metadata": {
            "tags": [],
            "needs_background": "light"
          }
        }
      ]
    },
    {
      "cell_type": "code",
      "metadata": {
        "id": "Q1XRdpR1q85Y"
      },
      "source": [
        ""
      ],
      "execution_count": null,
      "outputs": []
    },
    {
      "cell_type": "markdown",
      "metadata": {
        "id": "TcR9U0CsMf9i"
      },
      "source": [
        "##<font color='red'><b>**Feature Engineering**</b></font>\n",
        "\n",
        "#### Extracting the number of days from the claim start date and the claim end dates by taking a difference\n",
        "\n",
        "#### Converting the number of days during which the claim was in process into number of weeks"
      ]
    },
    {
      "cell_type": "code",
      "metadata": {
        "id": "x__fc6Qoq8rN"
      },
      "source": [
        "train_fin3[\"ClaimDays\"]= (pd.to_datetime(train_fin3['ClaimEndDt']) - pd.to_datetime(train_fin3['ClaimStartDt'])).dt.days"
      ],
      "execution_count": null,
      "outputs": []
    },
    {
      "cell_type": "code",
      "metadata": {
        "id": "NIBwkX-NtXuC"
      },
      "source": [
        "train_fin3.drop(['ClaimEndDt','ClaimStartDt'],axis=1, inplace=True)"
      ],
      "execution_count": null,
      "outputs": []
    },
    {
      "cell_type": "code",
      "metadata": {
        "colab": {
          "base_uri": "https://localhost:8080/"
        },
        "id": "2mGUOUQzrZXV",
        "outputId": "5e643000-b7ba-4156-ae4c-945ed9f45ddd"
      },
      "source": [
        "train_fin3[\"ClaimDays\"].describe()"
      ],
      "execution_count": null,
      "outputs": [
        {
          "output_type": "execute_result",
          "data": {
            "text/plain": [
              "count    558211.000000\n",
              "mean          1.727940\n",
              "std           4.904984\n",
              "min           0.000000\n",
              "25%           0.000000\n",
              "50%           0.000000\n",
              "75%           0.000000\n",
              "max          36.000000\n",
              "Name: ClaimDays, dtype: float64"
            ]
          },
          "metadata": {
            "tags": []
          },
          "execution_count": 7
        }
      ]
    },
    {
      "cell_type": "code",
      "metadata": {
        "colab": {
          "base_uri": "https://localhost:8080/",
          "height": 404
        },
        "id": "TwFJxuxir2uk",
        "outputId": "c1c14f0d-c89f-44ac-9bb1-67c4435d1d8e"
      },
      "source": [
        "clmdays= np.unique(train_fin3[\"ClaimDays\"])\n",
        "#print(\"The Total clmdays)\n",
        "per_values= np.round((train_fin3[\"ClaimDays\"].value_counts()/len(train_fin3[\"ClaimDays\"]))*100,2)\n",
        "plt.figure(figsize=(12,6))\n",
        "ax= sns.barplot(x= np.unique(train_fin3[\"ClaimDays\"]),y= per_values,palette='crest')\n",
        "\n",
        "plt.xlabel('Number of Claim Days')\n",
        "plt.ylabel('Percentage each claim day of total claim days')\n",
        "plt.title('Percentage distrbution of various values of Claim Days varible')\n",
        "#plt.grid()\n",
        "plt.show()"
      ],
      "execution_count": null,
      "outputs": [
        {
          "output_type": "display_data",
          "data": {
            "image/png": "[encoded data removed]",
            "text/plain": [
              "<Figure size 864x432 with 1 Axes>"
            ]
          },
          "metadata": {
            "tags": [],
            "needs_background": "light"
          }
        }
      ]
    },
    {
      "cell_type": "markdown",
      "metadata": {
        "id": "-8GZ2hEY438a"
      },
      "source": [
        "##<font color='green'><b>**Observations**</b></font>\n",
        "#### 1. We see that more than 80% of the claim days are zero and close to 95% of the claim days are less than 7 days. \n",
        "\n",
        "#### 2. Keeping the varibale datatype as floating point value will skew the mean and other distribution related parameters\n",
        "\n",
        "#### 3. Converting the varibale into a Categorical Variable(Ordinal)"
      ]
    },
    {
      "cell_type": "code",
      "metadata": {
        "colab": {
          "base_uri": "https://localhost:8080/"
        },
        "id": "O33oqwBj66o6",
        "outputId": "a131d07d-6055-422d-de40-f55413c385b1"
      },
      "source": [
        "for i in tqdm(range(len(train_fin3['ClaimDays']))):\n",
        "    if train_fin3['ClaimDays'][i]==0:\n",
        "        train_fin3['ClaimDays'][i]=0 \n",
        "    elif train_fin3['ClaimDays'][i]>0 and train_fin3['ClaimDays'][i]<=7:\n",
        "        train_fin3['ClaimDays'][i]= 1\n",
        "    elif train_fin3['ClaimDays'][i]>7 and train_fin3['ClaimDays'][i]<=14:\n",
        "        train_fin3['ClaimDays'][i]= 2\n",
        "    elif train_fin3['ClaimDays'][i]> 14 and train_fin3['ClaimDays'][i]<=21:\n",
        "        train_fin3['ClaimDays'][i]= 3\n",
        "    elif train_fin3['ClaimDays'][i]>21 and train_fin3['ClaimDays'][i]<=28:\n",
        "        train_fin3['ClaimDays'][i]= 4\n",
        "    elif train_fin3['ClaimDays'][i]>28 and train_fin3['ClaimDays'][i]<=35:\n",
        "        train_fin3['ClaimDays'][i]=5\n",
        "    elif train_fin3['ClaimDays'][i]>35:\n",
        "        train_fin3['ClaimDays'][i]=6"
      ],
      "execution_count": null,
      "outputs": [
        {
          "output_type": "stream",
          "text": [
            "  0%|          | 0/558211 [00:00<?, ?it/s]/usr/local/lib/python3.7/dist-packages/ipykernel_launcher.py:5: SettingWithCopyWarning: \n",
            "A value is trying to be set on a copy of a slice from a DataFrame\n",
            "\n",
            "See the caveats in the documentation: https://pandas.pydata.org/pandas-docs/stable/user_guide/indexing.html#returning-a-view-versus-a-copy\n",
            "  \"\"\"\n",
            "/usr/local/lib/python3.7/dist-packages/ipykernel_launcher.py:3: SettingWithCopyWarning: \n",
            "A value is trying to be set on a copy of a slice from a DataFrame\n",
            "\n",
            "See the caveats in the documentation: https://pandas.pydata.org/pandas-docs/stable/user_guide/indexing.html#returning-a-view-versus-a-copy\n",
            "  This is separate from the ipykernel package so we can avoid doing imports until\n",
            "/usr/local/lib/python3.7/dist-packages/ipykernel_launcher.py:7: SettingWithCopyWarning: \n",
            "A value is trying to be set on a copy of a slice from a DataFrame\n",
            "\n",
            "See the caveats in the documentation: https://pandas.pydata.org/pandas-docs/stable/user_guide/indexing.html#returning-a-view-versus-a-copy\n",
            "  import sys\n",
            "/usr/local/lib/python3.7/dist-packages/ipykernel_launcher.py:9: SettingWithCopyWarning: \n",
            "A value is trying to be set on a copy of a slice from a DataFrame\n",
            "\n",
            "See the caveats in the documentation: https://pandas.pydata.org/pandas-docs/stable/user_guide/indexing.html#returning-a-view-versus-a-copy\n",
            "  if __name__ == '__main__':\n",
            "/usr/local/lib/python3.7/dist-packages/ipykernel_launcher.py:11: SettingWithCopyWarning: \n",
            "A value is trying to be set on a copy of a slice from a DataFrame\n",
            "\n",
            "See the caveats in the documentation: https://pandas.pydata.org/pandas-docs/stable/user_guide/indexing.html#returning-a-view-versus-a-copy\n",
            "  # This is added back by InteractiveShellApp.init_path()\n",
            "  1%|          | 4227/558211 [00:00<00:53, 10335.37it/s]/usr/local/lib/python3.7/dist-packages/ipykernel_launcher.py:13: SettingWithCopyWarning: \n",
            "A value is trying to be set on a copy of a slice from a DataFrame\n",
            "\n",
            "See the caveats in the documentation: https://pandas.pydata.org/pandas-docs/stable/user_guide/indexing.html#returning-a-view-versus-a-copy\n",
            "  del sys.path[0]\n",
            " 11%|█         | 62678/558211 [00:05<00:45, 10798.32it/s]/usr/local/lib/python3.7/dist-packages/ipykernel_launcher.py:15: SettingWithCopyWarning: \n",
            "A value is trying to be set on a copy of a slice from a DataFrame\n",
            "\n",
            "See the caveats in the documentation: https://pandas.pydata.org/pandas-docs/stable/user_guide/indexing.html#returning-a-view-versus-a-copy\n",
            "  from ipykernel import kernelapp as app\n",
            "100%|██████████| 558211/558211 [00:52<00:00, 10606.84it/s]\n"
          ],
          "name": "stderr"
        }
      ]
    },
    {
      "cell_type": "code",
      "metadata": {
        "colab": {
          "base_uri": "https://localhost:8080/"
        },
        "id": "VWjOCI1AzC2L",
        "outputId": "b75dfd8d-b2ab-4eac-beb8-703eeed81327"
      },
      "source": [
        "train_fin3[\"ClaimDays\"].value_counts()"
      ],
      "execution_count": null,
      "outputs": [
        {
          "output_type": "execute_result",
          "data": {
            "text/plain": [
              "0    453953\n",
              "1     57655\n",
              "3     30415\n",
              "2     15059\n",
              "4       589\n",
              "5       538\n",
              "6         2\n",
              "Name: ClaimDays, dtype: int64"
            ]
          },
          "metadata": {
            "tags": []
          },
          "execution_count": 43
        }
      ]
    },
    {
      "cell_type": "code",
      "metadata": {
        "colab": {
          "base_uri": "https://localhost:8080/",
          "height": 540
        },
        "id": "1nTv0yFnJHLA",
        "outputId": "8c62f816-f79c-411e-f10a-15696dac18ba"
      },
      "source": [
        "clmdays= np.unique(train_fin3[\"ClaimDays\"])\n",
        "#print(\"The Total clmdays)\n",
        "per_values= np.round((train_fin3[\"ClaimDays\"].value_counts()/len(train_fin3[\"ClaimDays\"]))*100,2)\n",
        "print(per_values)\n",
        "plt.figure(figsize=(8,6))\n",
        "ax= sns.barplot(x= np.unique(train_fin3[\"ClaimDays\"]),y= per_values,palette='crest')\n",
        "\n",
        "plt.xlabel('Number of Claim Days')\n",
        "plt.ylabel('Percentage each claim day of total claim days')\n",
        "plt.title('Percentage distrbution of various values of Claim Days varible')\n",
        "#plt.grid()\n",
        "plt.show()"
      ],
      "execution_count": null,
      "outputs": [
        {
          "output_type": "stream",
          "text": [
            "0    81.32\n",
            "1    10.33\n",
            "3     5.45\n",
            "2     2.70\n",
            "4     0.11\n",
            "5     0.10\n",
            "6     0.00\n",
            "Name: ClaimDays, dtype: float64\n"
          ],
          "name": "stdout"
        },
        {
          "output_type": "display_data",
          "data": {
            "image/png": "[encoded data removed]",
            "text/plain": [
              "<Figure size 576x432 with 1 Axes>"
            ]
          },
          "metadata": {
            "tags": [],
            "needs_background": "light"
          }
        }
      ]
    },
    {
      "cell_type": "code",
      "metadata": {
        "id": "815p4hmqJHDn"
      },
      "source": [
        ""
      ],
      "execution_count": null,
      "outputs": []
    },
    {
      "cell_type": "code",
      "metadata": {
        "colab": {
          "base_uri": "https://localhost:8080/"
        },
        "id": "Jgz2oGXLJG_m",
        "outputId": "ebf94410-e180-4ae6-cc64-bfa49fc16a91"
      },
      "source": [
        "train_fin3.shape"
      ],
      "execution_count": null,
      "outputs": [
        {
          "output_type": "execute_result",
          "data": {
            "text/plain": [
              "(558211, 44)"
            ]
          },
          "metadata": {
            "tags": []
          },
          "execution_count": 48
        }
      ]
    },
    {
      "cell_type": "code",
      "metadata": {
        "id": "wjb04xBEcL8P",
        "colab": {
          "base_uri": "https://localhost:8080/",
          "height": 309
        },
        "outputId": "7a8d6c95-36ee-46e7-9b0c-72cc78bec3ad"
      },
      "source": [
        "train_fin3.head()"
      ],
      "execution_count": null,
      "outputs": [
        {
          "output_type": "execute_result",
          "data": {
            "text/html": [
              "<div>\n",
              "<style scoped>\n",
              "    .dataframe tbody tr th:only-of-type {\n",
              "        vertical-align: middle;\n",
              "    }\n",
              "\n",
              "    .dataframe tbody tr th {\n",
              "        vertical-align: top;\n",
              "    }\n",
              "\n",
              "    .dataframe thead th {\n",
              "        text-align: right;\n",
              "    }\n",
              "</style>\n",
              "<table border=\"1\" class=\"dataframe\">\n",
              "  <thead>\n",
              "    <tr style=\"text-align: right;\">\n",
              "      <th></th>\n",
              "      <th>BeneID</th>\n",
              "      <th>ClaimID</th>\n",
              "      <th>Provider</th>\n",
              "      <th>InscClaimAmtReimbursed</th>\n",
              "      <th>AttendingPhysician</th>\n",
              "      <th>ClmAdmitDiagnosisCode</th>\n",
              "      <th>DeductibleAmtPaid</th>\n",
              "      <th>DiagnosisGroupCode</th>\n",
              "      <th>ClmDiagnosisCode_1</th>\n",
              "      <th>ClmDiagnosisCode_2</th>\n",
              "      <th>ClmDiagnosisCode_3</th>\n",
              "      <th>ClmDiagnosisCode_4</th>\n",
              "      <th>ClmDiagnosisCode_5</th>\n",
              "      <th>ClmDiagnosisCode_6</th>\n",
              "      <th>ClmDiagnosisCode_7</th>\n",
              "      <th>ClmDiagnosisCode_8</th>\n",
              "      <th>ClmDiagnosisCode_9</th>\n",
              "      <th>DOB</th>\n",
              "      <th>Gender</th>\n",
              "      <th>Race</th>\n",
              "      <th>RenalDiseaseIndicator</th>\n",
              "      <th>State</th>\n",
              "      <th>County</th>\n",
              "      <th>NoOfMonths_PartACov</th>\n",
              "      <th>NoOfMonths_PartBCov</th>\n",
              "      <th>ChronicCond_Alzheimer</th>\n",
              "      <th>ChronicCond_Heartfailure</th>\n",
              "      <th>ChronicCond_KidneyDisease</th>\n",
              "      <th>ChronicCond_Cancer</th>\n",
              "      <th>ChronicCond_ObstrPulmonary</th>\n",
              "      <th>ChronicCond_Depression</th>\n",
              "      <th>ChronicCond_Diabetes</th>\n",
              "      <th>ChronicCond_IschemicHeart</th>\n",
              "      <th>ChronicCond_Osteoporasis</th>\n",
              "      <th>ChronicCond_rheumatoidarthritis</th>\n",
              "      <th>ChronicCond_stroke</th>\n",
              "      <th>IPAnnualReimbursementAmt</th>\n",
              "      <th>IPAnnualDeductibleAmt</th>\n",
              "      <th>OPAnnualReimbursementAmt</th>\n",
              "      <th>OPAnnualDeductibleAmt</th>\n",
              "      <th>PotentialFraud</th>\n",
              "      <th>HospitalDays</th>\n",
              "      <th>IllnessNature</th>\n",
              "      <th>ClaimDays</th>\n",
              "    </tr>\n",
              "  </thead>\n",
              "  <tbody>\n",
              "    <tr>\n",
              "      <th>0</th>\n",
              "      <td>BENE11001</td>\n",
              "      <td>CLM46614</td>\n",
              "      <td>PRV55912</td>\n",
              "      <td>26000</td>\n",
              "      <td>PHY390922</td>\n",
              "      <td>7866</td>\n",
              "      <td>1068.0</td>\n",
              "      <td>201</td>\n",
              "      <td>1970</td>\n",
              "      <td>4019</td>\n",
              "      <td>5853</td>\n",
              "      <td>7843</td>\n",
              "      <td>2768</td>\n",
              "      <td>71590</td>\n",
              "      <td>2724</td>\n",
              "      <td>19889</td>\n",
              "      <td>5849</td>\n",
              "      <td>1943-01-01</td>\n",
              "      <td>1</td>\n",
              "      <td>1</td>\n",
              "      <td>0</td>\n",
              "      <td>39</td>\n",
              "      <td>230</td>\n",
              "      <td>12</td>\n",
              "      <td>12</td>\n",
              "      <td>1</td>\n",
              "      <td>2</td>\n",
              "      <td>1</td>\n",
              "      <td>2</td>\n",
              "      <td>2</td>\n",
              "      <td>1</td>\n",
              "      <td>1</td>\n",
              "      <td>1</td>\n",
              "      <td>2</td>\n",
              "      <td>1</td>\n",
              "      <td>1</td>\n",
              "      <td>36000</td>\n",
              "      <td>3204</td>\n",
              "      <td>60</td>\n",
              "      <td>70</td>\n",
              "      <td>Yes</td>\n",
              "      <td>1.0</td>\n",
              "      <td>simple</td>\n",
              "      <td>1</td>\n",
              "    </tr>\n",
              "    <tr>\n",
              "      <th>1</th>\n",
              "      <td>BENE16973</td>\n",
              "      <td>CLM565430</td>\n",
              "      <td>PRV55912</td>\n",
              "      <td>50</td>\n",
              "      <td>PHY365867</td>\n",
              "      <td>NaN</td>\n",
              "      <td>0.0</td>\n",
              "      <td>NaN</td>\n",
              "      <td>V7183</td>\n",
              "      <td>53081</td>\n",
              "      <td>78959</td>\n",
              "      <td>4280</td>\n",
              "      <td>E8788</td>\n",
              "      <td>78079</td>\n",
              "      <td>79902</td>\n",
              "      <td>25002</td>\n",
              "      <td>71848</td>\n",
              "      <td>1932-05-01</td>\n",
              "      <td>1</td>\n",
              "      <td>1</td>\n",
              "      <td>0</td>\n",
              "      <td>39</td>\n",
              "      <td>310</td>\n",
              "      <td>12</td>\n",
              "      <td>12</td>\n",
              "      <td>1</td>\n",
              "      <td>1</td>\n",
              "      <td>1</td>\n",
              "      <td>2</td>\n",
              "      <td>2</td>\n",
              "      <td>2</td>\n",
              "      <td>2</td>\n",
              "      <td>1</td>\n",
              "      <td>2</td>\n",
              "      <td>2</td>\n",
              "      <td>2</td>\n",
              "      <td>24000</td>\n",
              "      <td>2136</td>\n",
              "      <td>450</td>\n",
              "      <td>200</td>\n",
              "      <td>Yes</td>\n",
              "      <td>0.0</td>\n",
              "      <td>comorbid</td>\n",
              "      <td>0</td>\n",
              "    </tr>\n",
              "    <tr>\n",
              "      <th>2</th>\n",
              "      <td>BENE17521</td>\n",
              "      <td>CLM34721</td>\n",
              "      <td>PRV55912</td>\n",
              "      <td>19000</td>\n",
              "      <td>PHY349293</td>\n",
              "      <td>45340</td>\n",
              "      <td>1068.0</td>\n",
              "      <td>987</td>\n",
              "      <td>4240</td>\n",
              "      <td>2639</td>\n",
              "      <td>2948</td>\n",
              "      <td>40390</td>\n",
              "      <td>45821</td>\n",
              "      <td>28489</td>\n",
              "      <td>5854</td>\n",
              "      <td>2753</td>\n",
              "      <td>E9305</td>\n",
              "      <td>1913-12-01</td>\n",
              "      <td>2</td>\n",
              "      <td>1</td>\n",
              "      <td>0</td>\n",
              "      <td>39</td>\n",
              "      <td>230</td>\n",
              "      <td>12</td>\n",
              "      <td>12</td>\n",
              "      <td>1</td>\n",
              "      <td>1</td>\n",
              "      <td>1</td>\n",
              "      <td>2</td>\n",
              "      <td>1</td>\n",
              "      <td>2</td>\n",
              "      <td>2</td>\n",
              "      <td>1</td>\n",
              "      <td>2</td>\n",
              "      <td>2</td>\n",
              "      <td>2</td>\n",
              "      <td>19000</td>\n",
              "      <td>1068</td>\n",
              "      <td>100</td>\n",
              "      <td>20</td>\n",
              "      <td>Yes</td>\n",
              "      <td>2.0</td>\n",
              "      <td>operating&amp;comorbid</td>\n",
              "      <td>2</td>\n",
              "    </tr>\n",
              "    <tr>\n",
              "      <th>3</th>\n",
              "      <td>BENE21718</td>\n",
              "      <td>CLM72336</td>\n",
              "      <td>PRV55912</td>\n",
              "      <td>17000</td>\n",
              "      <td>PHY334706</td>\n",
              "      <td>V5789</td>\n",
              "      <td>1068.0</td>\n",
              "      <td>941</td>\n",
              "      <td>V5789</td>\n",
              "      <td>4168</td>\n",
              "      <td>73313</td>\n",
              "      <td>7812</td>\n",
              "      <td>7993</td>\n",
              "      <td>78830</td>\n",
              "      <td>72273</td>\n",
              "      <td>43812</td>\n",
              "      <td>4019</td>\n",
              "      <td>1922-10-01</td>\n",
              "      <td>1</td>\n",
              "      <td>1</td>\n",
              "      <td>0</td>\n",
              "      <td>39</td>\n",
              "      <td>600</td>\n",
              "      <td>12</td>\n",
              "      <td>12</td>\n",
              "      <td>2</td>\n",
              "      <td>2</td>\n",
              "      <td>2</td>\n",
              "      <td>2</td>\n",
              "      <td>2</td>\n",
              "      <td>2</td>\n",
              "      <td>2</td>\n",
              "      <td>1</td>\n",
              "      <td>1</td>\n",
              "      <td>2</td>\n",
              "      <td>2</td>\n",
              "      <td>17000</td>\n",
              "      <td>1068</td>\n",
              "      <td>1050</td>\n",
              "      <td>540</td>\n",
              "      <td>Yes</td>\n",
              "      <td>3.0</td>\n",
              "      <td>comorbid</td>\n",
              "      <td>3</td>\n",
              "    </tr>\n",
              "    <tr>\n",
              "      <th>4</th>\n",
              "      <td>BENE22934</td>\n",
              "      <td>CLM73394</td>\n",
              "      <td>PRV55912</td>\n",
              "      <td>13000</td>\n",
              "      <td>PHY390614</td>\n",
              "      <td>71946</td>\n",
              "      <td>1068.0</td>\n",
              "      <td>506</td>\n",
              "      <td>71535</td>\n",
              "      <td>71960</td>\n",
              "      <td>4019</td>\n",
              "      <td>V1202</td>\n",
              "      <td>4240</td>\n",
              "      <td>2449</td>\n",
              "      <td>2768</td>\n",
              "      <td>NaN</td>\n",
              "      <td>NaN</td>\n",
              "      <td>1930-07-01</td>\n",
              "      <td>2</td>\n",
              "      <td>1</td>\n",
              "      <td>0</td>\n",
              "      <td>39</td>\n",
              "      <td>280</td>\n",
              "      <td>12</td>\n",
              "      <td>12</td>\n",
              "      <td>2</td>\n",
              "      <td>1</td>\n",
              "      <td>2</td>\n",
              "      <td>2</td>\n",
              "      <td>1</td>\n",
              "      <td>2</td>\n",
              "      <td>1</td>\n",
              "      <td>1</td>\n",
              "      <td>1</td>\n",
              "      <td>1</td>\n",
              "      <td>2</td>\n",
              "      <td>27000</td>\n",
              "      <td>2136</td>\n",
              "      <td>450</td>\n",
              "      <td>160</td>\n",
              "      <td>Yes</td>\n",
              "      <td>1.0</td>\n",
              "      <td>operating&amp;comorbid</td>\n",
              "      <td>1</td>\n",
              "    </tr>\n",
              "  </tbody>\n",
              "</table>\n",
              "</div>"
            ],
            "text/plain": [
              "      BeneID    ClaimID  Provider  ...  HospitalDays       IllnessNature ClaimDays\n",
              "0  BENE11001   CLM46614  PRV55912  ...           1.0              simple         1\n",
              "1  BENE16973  CLM565430  PRV55912  ...           0.0            comorbid         0\n",
              "2  BENE17521   CLM34721  PRV55912  ...           2.0  operating&comorbid         2\n",
              "3  BENE21718   CLM72336  PRV55912  ...           3.0            comorbid         3\n",
              "4  BENE22934   CLM73394  PRV55912  ...           1.0  operating&comorbid         1\n",
              "\n",
              "[5 rows x 44 columns]"
            ]
          },
          "metadata": {
            "tags": []
          },
          "execution_count": 54
        }
      ]
    },
    {
      "cell_type": "markdown",
      "metadata": {
        "id": "llWymr1SJt7m"
      },
      "source": [
        "###<font color='blue'><b> Looking at the NA value distribtution of the DiagnosisGroupCode variable</b></font>"
      ]
    },
    {
      "cell_type": "code",
      "metadata": {
        "colab": {
          "base_uri": "https://localhost:8080/"
        },
        "id": "UP-6kv-THiJ7",
        "outputId": "338d79f8-8eb0-4403-c7de-fe9d5cca8840"
      },
      "source": [
        "print(\"Percentage of NA values in Inpateint Data: \",(train_inpat['DiagnosisGroupCode'].isna().sum()/len(train_inpat['DiagnosisGroupCode']))*100)\n",
        "print(\"Percentage of NA values in Outpateint Data: \",np.round((train_fin3['DiagnosisGroupCode'].isna().sum()/len(train_fin3['DiagnosisGroupCode']))*100))\n",
        "print(\"Ratio of Outpatient data to Merged Dataset\",np.round((train_outpat.shape[0]/train_fin3.shape[0])*100))"
      ],
      "execution_count": null,
      "outputs": [
        {
          "output_type": "stream",
          "text": [
            "Percentage of NA values in Inpateint Data:  0.0\n",
            "Percentage of NA values in Outpateint Data:  93.0\n",
            "Ratio of Outpatient data to Merged Dataset 93.0\n"
          ],
          "name": "stdout"
        }
      ]
    },
    {
      "cell_type": "markdown",
      "metadata": {
        "id": "c6LmbdXLKXp1"
      },
      "source": [
        "##<font color='green'><b>**Observations**</b>,</font>\n",
        "\n",
        "#### 1. From the above we see that there are no NA values in the Inpatient data and the variable \"DiagnosisGroupCode\" is missing in the Outpatient Dataset.\n",
        "\n",
        "#### 2. https://hmsa.com/portal/provider/zav_pel.fh.DIA.650.htm: clearly states that a DiagnosisGroupCode is just for the Inpatient Data and not for the outpatient data. Hence NA were introduced during the merger of the Dataset"
      ]
    },
    {
      "cell_type": "code",
      "metadata": {
        "id": "w1Ia2XJiRDER"
      },
      "source": [
        "train_fin3['DiagnosisGroupCode']= train_fin3['DiagnosisGroupCode'].fillna(0)"
      ],
      "execution_count": null,
      "outputs": []
    },
    {
      "cell_type": "code",
      "metadata": {
        "colab": {
          "base_uri": "https://localhost:8080/"
        },
        "id": "gmqq-_D_uF9U",
        "outputId": "8b632bdd-8aa9-4ba6-d67f-16b660545275"
      },
      "source": [
        "train_fin3['DiagnosisGroupCode']= train_fin3['DiagnosisGroupCode'].astype('str')\n",
        "train_fin3['DiagnosisGroupCode'].describe()\n",
        "#sns.distplot(train_fin3['DiagnosisGroupCode'].value_counts())"
      ],
      "execution_count": null,
      "outputs": [
        {
          "output_type": "execute_result",
          "data": {
            "text/plain": [
              "count     558211\n",
              "unique       737\n",
              "top            0\n",
              "freq      517737\n",
              "Name: DiagnosisGroupCode, dtype: object"
            ]
          },
          "metadata": {
            "tags": []
          },
          "execution_count": 74
        }
      ]
    },
    {
      "cell_type": "code",
      "metadata": {
        "colab": {
          "base_uri": "https://localhost:8080/"
        },
        "id": "Y7CCxDXjXIzi",
        "outputId": "8de1fd26-0b21-4f24-f068-62c6120f575a"
      },
      "source": [
        "print(\"Percentage of NA values in Inpateint Data: \",(train_inpat['ClmAdmitDiagnosisCode'].isna().sum()/len(train_inpat['ClmAdmitDiagnosisCode']))*100)\n",
        "print(\"Percentage of NA values in Outpateint Data: \",np.round((train_outpat['ClmAdmitDiagnosisCode'].isna().sum()/len(train_outpat['ClmAdmitDiagnosisCode']))*100))"
      ],
      "execution_count": null,
      "outputs": [
        {
          "output_type": "stream",
          "text": [
            "Percentage of NA values in Inpateint Data:  0.0\n",
            "Percentage of NA values in Outpateint Data:  80.0\n"
          ],
          "name": "stdout"
        }
      ]
    },
    {
      "cell_type": "code",
      "metadata": {
        "colab": {
          "base_uri": "https://localhost:8080/"
        },
        "id": "VCiF2wi2XIsc",
        "outputId": "a97ec0c7-67d0-47f5-e6f4-fce5a3647d5e"
      },
      "source": [
        "train_outpat['ClmAdmitDiagnosisCode'].value_counts()"
      ],
      "execution_count": null,
      "outputs": [
        {
          "output_type": "execute_result",
          "data": {
            "text/plain": [
              "V7612    4074\n",
              "42731    3001\n",
              "4019     2627\n",
              "25000    2346\n",
              "V5883    1871\n",
              "         ... \n",
              "7861        1\n",
              "81331       1\n",
              "38023       1\n",
              "7171        1\n",
              "36589       1\n",
              "Name: ClmAdmitDiagnosisCode, Length: 3715, dtype: int64"
            ]
          },
          "metadata": {
            "tags": []
          },
          "execution_count": 61
        }
      ]
    },
    {
      "cell_type": "code",
      "metadata": {
        "id": "N8jJLu-sXIle"
      },
      "source": [
        "with open('/content/drive/MyDrive/Colab Notebooks/train_fin4.pkl','wb') as tr_df:\n",
        "    pickle.dump(train_fin3,tr_df)"
      ],
      "execution_count": null,
      "outputs": []
    },
    {
      "cell_type": "code",
      "metadata": {
        "id": "pblLsDy2XIcK"
      },
      "source": [
        "with open('/content/drive/MyDrive/Colab Notebooks/train_fin4.pkl','rb') as tr_df:\n",
        "    train_fin4= pickle.load(tr_df)"
      ],
      "execution_count": 3,
      "outputs": []
    },
    {
      "cell_type": "code",
      "metadata": {
        "id": "QlQnTWGnW_GM"
      },
      "source": [
        ""
      ],
      "execution_count": null,
      "outputs": []
    },
    {
      "cell_type": "code",
      "metadata": {
        "id": "6en8REmgRZCD"
      },
      "source": [
        ""
      ],
      "execution_count": null,
      "outputs": []
    },
    {
      "cell_type": "code",
      "metadata": {
        "id": "roHfhaMCRY8L"
      },
      "source": [
        ""
      ],
      "execution_count": null,
      "outputs": []
    },
    {
      "cell_type": "code",
      "metadata": {
        "id": "157ou2uvRY2_"
      },
      "source": [
        ""
      ],
      "execution_count": null,
      "outputs": []
    }
  ]
}